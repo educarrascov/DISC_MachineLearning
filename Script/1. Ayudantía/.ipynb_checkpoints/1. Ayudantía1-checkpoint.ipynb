{
  "cells": [
    {
      "cell_type": "markdown",
      "metadata": {
        "id": "evpT-5n29oM7"
      },
      "source": [
        "# Ayudantía N°1\n",
        "(Regresión Logística, Árboles de decisión y métodos de ensamble)\n",
        "\n",
        "Carlos Sepúlveda Morales\n",
        "email: carlos.sepulveda@alumnos.uai.cl\n",
        "\n",
        "---"
      ]
    },
    {
      "cell_type": "markdown",
      "metadata": {
        "id": "-f3fzfRO9hqk"
      },
      "source": [
        ""
      ]
    },
    {
      "cell_type": "code",
      "execution_count": null,
      "metadata": {
        "id": "prIno_7u9hAk",
        "colab": {
          "resources": {
            "http://localhost:8080/nbextensions/google.colab/files.js": {
              "data": "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",
              "ok": true,
              "headers": [
                [
                  "content-type",
                  "application/javascript"
                ]
              ],
              "status": 200,
              "status_text": ""
            }
          },
          "base_uri": "https://localhost:8080/",
          "height": 90
        },
        "outputId": "313aa371-22d6-4ee1-be9b-e6c20bf78bf2"
      },
      "outputs": [
        {
          "output_type": "display_data",
          "data": {
            "text/plain": [
              "<IPython.core.display.HTML object>"
            ],
            "text/html": [
              "\n",
              "     <input type=\"file\" id=\"files-94dad440-746b-4114-9f6e-9ce28ad775e8\" name=\"files[]\" multiple disabled\n",
              "        style=\"border:none\" />\n",
              "     <output id=\"result-94dad440-746b-4114-9f6e-9ce28ad775e8\">\n",
              "      Upload widget is only available when the cell has been executed in the\n",
              "      current browser session. Please rerun this cell to enable.\n",
              "      </output>\n",
              "      <script src=\"/nbextensions/google.colab/files.js\"></script> "
            ]
          },
          "metadata": {}
        },
        {
          "output_type": "stream",
          "name": "stdout",
          "text": [
            "Saving houses_prices_data.csv to houses_prices_data.csv\n",
            "User uploaded file \"houses_prices_data.csv\" with length 702 bytes\n"
          ]
        }
      ],
      "source": [
        "# para subir archivos a colab desde sistema local de archivos\n",
        "from google.colab import files\n",
        "\n",
        "def uploadeFiles():\n",
        "  uploaded = files.upload()\n",
        "  for fn in uploaded.keys():\n",
        "    print('User uploaded file \"{name}\" with length {length} bytes'.format(\n",
        "        name=fn, length=len(uploaded[fn])))\n",
        "    \n",
        "    return uploaded\n",
        "\n",
        "# para subir un archivo desde el sistema local (PC)\n",
        "uploadedFile = uploadeFiles()"
      ]
    },
    {
      "cell_type": "code",
      "execution_count": null,
      "metadata": {
        "colab": {
          "base_uri": "https://localhost:8080/"
        },
        "id": "NeDUZsW_CNOb",
        "outputId": "4fe638cd-4601-4b72-b245-a441a6adef92"
      },
      "outputs": [
        {
          "output_type": "stream",
          "name": "stdout",
          "text": [
            "Mounted at /content/drive/\n"
          ]
        }
      ],
      "source": [
        "# para subir archivos desde Google Drive\n",
        "path2mount = '/content/drive/'\n",
        "path2drive = '/content/drive/My Drive/'\n",
        "from google.colab import drive\n",
        "drive.mount(path2mount)\n"
      ]
    },
    {
      "cell_type": "code",
      "execution_count": null,
      "metadata": {
        "id": "79pZ7xrmDjgM"
      },
      "outputs": [],
      "source": [
        "# Escribir archivo txt en drive\n",
        "# se dene reemplazar 'ayudantia/archivo' con el path a la carpeta individual.\n",
        "with open(path2drive +'ayudantia/borrame1.txt', 'w') as f:\n",
        "  f.write('Hello Google Drive!')"
      ]
    },
    {
      "cell_type": "markdown",
      "metadata": {
        "id": "og4LLUPa9mrt"
      },
      "source": [
        "--- \n",
        "## Regresión Logística\n",
        "\n",
        "La regresión lógistica se usa cuando por medio de una combinación lineal de variables explicativa, queremos predecir el resultado de una variable categorica (o sea tenemos un número limitado de clases). La salida de la regresión logistica es una probabilidad de pertenecer a una determinada clase. \n",
        "\n",
        "Analisemos el caso más simple donde tenemos sólo dos clases."
      ]
    },
    {
      "cell_type": "code",
      "source": [
        "# Librerías por defecto para este caso\n",
        "import numpy as np\n",
        "import pandas as pd\n",
        "import matplotlib.pyplot as plt"
      ],
      "metadata": {
        "id": "iBH3DAVaNU9A"
      },
      "execution_count": null,
      "outputs": []
    },
    {
      "cell_type": "code",
      "source": [
        "df = pd.read_csv('houses_prices_data.csv')\n",
        "df.head(10)"
      ],
      "metadata": {
        "colab": {
          "base_uri": "https://localhost:8080/",
          "height": 363
        },
        "id": "tSaAdDpQUiw1",
        "outputId": "5f93bd78-c6ca-41c7-e577-83c5bc38ce54"
      },
      "execution_count": null,
      "outputs": [
        {
          "output_type": "execute_result",
          "data": {
            "text/plain": [
              "   2104  3  399900\n",
              "0  1600  3  329900\n",
              "1  2400  3  369000\n",
              "2  1416  2  232000\n",
              "3  3000  4  539900\n",
              "4  1985  4  299900\n",
              "5  1534  3  314900\n",
              "6  1427  3  198999\n",
              "7  1380  3  212000\n",
              "8  1494  3  242500\n",
              "9  1940  4  239999"
            ],
            "text/html": [
              "\n",
              "  <div id=\"df-338d07e0-7fce-4ece-a357-ee0967dcea8a\">\n",
              "    <div class=\"colab-df-container\">\n",
              "      <div>\n",
              "<style scoped>\n",
              "    .dataframe tbody tr th:only-of-type {\n",
              "        vertical-align: middle;\n",
              "    }\n",
              "\n",
              "    .dataframe tbody tr th {\n",
              "        vertical-align: top;\n",
              "    }\n",
              "\n",
              "    .dataframe thead th {\n",
              "        text-align: right;\n",
              "    }\n",
              "</style>\n",
              "<table border=\"1\" class=\"dataframe\">\n",
              "  <thead>\n",
              "    <tr style=\"text-align: right;\">\n",
              "      <th></th>\n",
              "      <th>2104</th>\n",
              "      <th>3</th>\n",
              "      <th>399900</th>\n",
              "    </tr>\n",
              "  </thead>\n",
              "  <tbody>\n",
              "    <tr>\n",
              "      <th>0</th>\n",
              "      <td>1600</td>\n",
              "      <td>3</td>\n",
              "      <td>329900</td>\n",
              "    </tr>\n",
              "    <tr>\n",
              "      <th>1</th>\n",
              "      <td>2400</td>\n",
              "      <td>3</td>\n",
              "      <td>369000</td>\n",
              "    </tr>\n",
              "    <tr>\n",
              "      <th>2</th>\n",
              "      <td>1416</td>\n",
              "      <td>2</td>\n",
              "      <td>232000</td>\n",
              "    </tr>\n",
              "    <tr>\n",
              "      <th>3</th>\n",
              "      <td>3000</td>\n",
              "      <td>4</td>\n",
              "      <td>539900</td>\n",
              "    </tr>\n",
              "    <tr>\n",
              "      <th>4</th>\n",
              "      <td>1985</td>\n",
              "      <td>4</td>\n",
              "      <td>299900</td>\n",
              "    </tr>\n",
              "    <tr>\n",
              "      <th>5</th>\n",
              "      <td>1534</td>\n",
              "      <td>3</td>\n",
              "      <td>314900</td>\n",
              "    </tr>\n",
              "    <tr>\n",
              "      <th>6</th>\n",
              "      <td>1427</td>\n",
              "      <td>3</td>\n",
              "      <td>198999</td>\n",
              "    </tr>\n",
              "    <tr>\n",
              "      <th>7</th>\n",
              "      <td>1380</td>\n",
              "      <td>3</td>\n",
              "      <td>212000</td>\n",
              "    </tr>\n",
              "    <tr>\n",
              "      <th>8</th>\n",
              "      <td>1494</td>\n",
              "      <td>3</td>\n",
              "      <td>242500</td>\n",
              "    </tr>\n",
              "    <tr>\n",
              "      <th>9</th>\n",
              "      <td>1940</td>\n",
              "      <td>4</td>\n",
              "      <td>239999</td>\n",
              "    </tr>\n",
              "  </tbody>\n",
              "</table>\n",
              "</div>\n",
              "      <button class=\"colab-df-convert\" onclick=\"convertToInteractive('df-338d07e0-7fce-4ece-a357-ee0967dcea8a')\"\n",
              "              title=\"Convert this dataframe to an interactive table.\"\n",
              "              style=\"display:none;\">\n",
              "        \n",
              "  <svg xmlns=\"http://www.w3.org/2000/svg\" height=\"24px\"viewBox=\"0 0 24 24\"\n",
              "       width=\"24px\">\n",
              "    <path d=\"M0 0h24v24H0V0z\" fill=\"none\"/>\n",
              "    <path d=\"M18.56 5.44l.94 2.06.94-2.06 2.06-.94-2.06-.94-.94-2.06-.94 2.06-2.06.94zm-11 1L8.5 8.5l.94-2.06 2.06-.94-2.06-.94L8.5 2.5l-.94 2.06-2.06.94zm10 10l.94 2.06.94-2.06 2.06-.94-2.06-.94-.94-2.06-.94 2.06-2.06.94z\"/><path d=\"M17.41 7.96l-1.37-1.37c-.4-.4-.92-.59-1.43-.59-.52 0-1.04.2-1.43.59L10.3 9.45l-7.72 7.72c-.78.78-.78 2.05 0 2.83L4 21.41c.39.39.9.59 1.41.59.51 0 1.02-.2 1.41-.59l7.78-7.78 2.81-2.81c.8-.78.8-2.07 0-2.86zM5.41 20L4 18.59l7.72-7.72 1.47 1.35L5.41 20z\"/>\n",
              "  </svg>\n",
              "      </button>\n",
              "      \n",
              "  <style>\n",
              "    .colab-df-container {\n",
              "      display:flex;\n",
              "      flex-wrap:wrap;\n",
              "      gap: 12px;\n",
              "    }\n",
              "\n",
              "    .colab-df-convert {\n",
              "      background-color: #E8F0FE;\n",
              "      border: none;\n",
              "      border-radius: 50%;\n",
              "      cursor: pointer;\n",
              "      display: none;\n",
              "      fill: #1967D2;\n",
              "      height: 32px;\n",
              "      padding: 0 0 0 0;\n",
              "      width: 32px;\n",
              "    }\n",
              "\n",
              "    .colab-df-convert:hover {\n",
              "      background-color: #E2EBFA;\n",
              "      box-shadow: 0px 1px 2px rgba(60, 64, 67, 0.3), 0px 1px 3px 1px rgba(60, 64, 67, 0.15);\n",
              "      fill: #174EA6;\n",
              "    }\n",
              "\n",
              "    [theme=dark] .colab-df-convert {\n",
              "      background-color: #3B4455;\n",
              "      fill: #D2E3FC;\n",
              "    }\n",
              "\n",
              "    [theme=dark] .colab-df-convert:hover {\n",
              "      background-color: #434B5C;\n",
              "      box-shadow: 0px 1px 3px 1px rgba(0, 0, 0, 0.15);\n",
              "      filter: drop-shadow(0px 1px 2px rgba(0, 0, 0, 0.3));\n",
              "      fill: #FFFFFF;\n",
              "    }\n",
              "  </style>\n",
              "\n",
              "      <script>\n",
              "        const buttonEl =\n",
              "          document.querySelector('#df-338d07e0-7fce-4ece-a357-ee0967dcea8a button.colab-df-convert');\n",
              "        buttonEl.style.display =\n",
              "          google.colab.kernel.accessAllowed ? 'block' : 'none';\n",
              "\n",
              "        async function convertToInteractive(key) {\n",
              "          const element = document.querySelector('#df-338d07e0-7fce-4ece-a357-ee0967dcea8a');\n",
              "          const dataTable =\n",
              "            await google.colab.kernel.invokeFunction('convertToInteractive',\n",
              "                                                     [key], {});\n",
              "          if (!dataTable) return;\n",
              "\n",
              "          const docLinkHtml = 'Like what you see? Visit the ' +\n",
              "            '<a target=\"_blank\" href=https://colab.research.google.com/notebooks/data_table.ipynb>data table notebook</a>'\n",
              "            + ' to learn more about interactive tables.';\n",
              "          element.innerHTML = '';\n",
              "          dataTable['output_type'] = 'display_data';\n",
              "          await google.colab.output.renderOutput(dataTable, element);\n",
              "          const docLink = document.createElement('div');\n",
              "          docLink.innerHTML = docLinkHtml;\n",
              "          element.appendChild(docLink);\n",
              "        }\n",
              "      </script>\n",
              "    </div>\n",
              "  </div>\n",
              "  "
            ]
          },
          "metadata": {},
          "execution_count": 7
        }
      ]
    },
    {
      "cell_type": "code",
      "source": [
        "datafile = path2drive+'ayudantia/toyMotorDataset.txt'\n",
        "df = pd.read_csv(datafile)\n",
        "df.columns = df.columns.str.strip()\n",
        "df['Estado Motor'] =df['Estado Motor'].str.strip()\n",
        "df.head()"
      ],
      "metadata": {
        "colab": {
          "base_uri": "https://localhost:8080/",
          "height": 206
        },
        "id": "EtxcuIRKzVh6",
        "outputId": "dfb094bd-4d96-4575-afc8-7b80a085faef"
      },
      "execution_count": null,
      "outputs": [
        {
          "output_type": "execute_result",
          "data": {
            "text/plain": [
              "   RPM Estado Motor\n",
              "0   65       normal\n",
              "1   70       normal\n",
              "2   80       normal\n",
              "3   80       normal\n",
              "4   80       normal"
            ],
            "text/html": [
              "\n",
              "  <div id=\"df-96e17ab7-2a44-480b-8f9f-24c989c096a6\">\n",
              "    <div class=\"colab-df-container\">\n",
              "      <div>\n",
              "<style scoped>\n",
              "    .dataframe tbody tr th:only-of-type {\n",
              "        vertical-align: middle;\n",
              "    }\n",
              "\n",
              "    .dataframe tbody tr th {\n",
              "        vertical-align: top;\n",
              "    }\n",
              "\n",
              "    .dataframe thead th {\n",
              "        text-align: right;\n",
              "    }\n",
              "</style>\n",
              "<table border=\"1\" class=\"dataframe\">\n",
              "  <thead>\n",
              "    <tr style=\"text-align: right;\">\n",
              "      <th></th>\n",
              "      <th>RPM</th>\n",
              "      <th>Estado Motor</th>\n",
              "    </tr>\n",
              "  </thead>\n",
              "  <tbody>\n",
              "    <tr>\n",
              "      <th>0</th>\n",
              "      <td>65</td>\n",
              "      <td>normal</td>\n",
              "    </tr>\n",
              "    <tr>\n",
              "      <th>1</th>\n",
              "      <td>70</td>\n",
              "      <td>normal</td>\n",
              "    </tr>\n",
              "    <tr>\n",
              "      <th>2</th>\n",
              "      <td>80</td>\n",
              "      <td>normal</td>\n",
              "    </tr>\n",
              "    <tr>\n",
              "      <th>3</th>\n",
              "      <td>80</td>\n",
              "      <td>normal</td>\n",
              "    </tr>\n",
              "    <tr>\n",
              "      <th>4</th>\n",
              "      <td>80</td>\n",
              "      <td>normal</td>\n",
              "    </tr>\n",
              "  </tbody>\n",
              "</table>\n",
              "</div>\n",
              "      <button class=\"colab-df-convert\" onclick=\"convertToInteractive('df-96e17ab7-2a44-480b-8f9f-24c989c096a6')\"\n",
              "              title=\"Convert this dataframe to an interactive table.\"\n",
              "              style=\"display:none;\">\n",
              "        \n",
              "  <svg xmlns=\"http://www.w3.org/2000/svg\" height=\"24px\"viewBox=\"0 0 24 24\"\n",
              "       width=\"24px\">\n",
              "    <path d=\"M0 0h24v24H0V0z\" fill=\"none\"/>\n",
              "    <path d=\"M18.56 5.44l.94 2.06.94-2.06 2.06-.94-2.06-.94-.94-2.06-.94 2.06-2.06.94zm-11 1L8.5 8.5l.94-2.06 2.06-.94-2.06-.94L8.5 2.5l-.94 2.06-2.06.94zm10 10l.94 2.06.94-2.06 2.06-.94-2.06-.94-.94-2.06-.94 2.06-2.06.94z\"/><path d=\"M17.41 7.96l-1.37-1.37c-.4-.4-.92-.59-1.43-.59-.52 0-1.04.2-1.43.59L10.3 9.45l-7.72 7.72c-.78.78-.78 2.05 0 2.83L4 21.41c.39.39.9.59 1.41.59.51 0 1.02-.2 1.41-.59l7.78-7.78 2.81-2.81c.8-.78.8-2.07 0-2.86zM5.41 20L4 18.59l7.72-7.72 1.47 1.35L5.41 20z\"/>\n",
              "  </svg>\n",
              "      </button>\n",
              "      \n",
              "  <style>\n",
              "    .colab-df-container {\n",
              "      display:flex;\n",
              "      flex-wrap:wrap;\n",
              "      gap: 12px;\n",
              "    }\n",
              "\n",
              "    .colab-df-convert {\n",
              "      background-color: #E8F0FE;\n",
              "      border: none;\n",
              "      border-radius: 50%;\n",
              "      cursor: pointer;\n",
              "      display: none;\n",
              "      fill: #1967D2;\n",
              "      height: 32px;\n",
              "      padding: 0 0 0 0;\n",
              "      width: 32px;\n",
              "    }\n",
              "\n",
              "    .colab-df-convert:hover {\n",
              "      background-color: #E2EBFA;\n",
              "      box-shadow: 0px 1px 2px rgba(60, 64, 67, 0.3), 0px 1px 3px 1px rgba(60, 64, 67, 0.15);\n",
              "      fill: #174EA6;\n",
              "    }\n",
              "\n",
              "    [theme=dark] .colab-df-convert {\n",
              "      background-color: #3B4455;\n",
              "      fill: #D2E3FC;\n",
              "    }\n",
              "\n",
              "    [theme=dark] .colab-df-convert:hover {\n",
              "      background-color: #434B5C;\n",
              "      box-shadow: 0px 1px 3px 1px rgba(0, 0, 0, 0.15);\n",
              "      filter: drop-shadow(0px 1px 2px rgba(0, 0, 0, 0.3));\n",
              "      fill: #FFFFFF;\n",
              "    }\n",
              "  </style>\n",
              "\n",
              "      <script>\n",
              "        const buttonEl =\n",
              "          document.querySelector('#df-96e17ab7-2a44-480b-8f9f-24c989c096a6 button.colab-df-convert');\n",
              "        buttonEl.style.display =\n",
              "          google.colab.kernel.accessAllowed ? 'block' : 'none';\n",
              "\n",
              "        async function convertToInteractive(key) {\n",
              "          const element = document.querySelector('#df-96e17ab7-2a44-480b-8f9f-24c989c096a6');\n",
              "          const dataTable =\n",
              "            await google.colab.kernel.invokeFunction('convertToInteractive',\n",
              "                                                     [key], {});\n",
              "          if (!dataTable) return;\n",
              "\n",
              "          const docLinkHtml = 'Like what you see? Visit the ' +\n",
              "            '<a target=\"_blank\" href=https://colab.research.google.com/notebooks/data_table.ipynb>data table notebook</a>'\n",
              "            + ' to learn more about interactive tables.';\n",
              "          element.innerHTML = '';\n",
              "          dataTable['output_type'] = 'display_data';\n",
              "          await google.colab.output.renderOutput(dataTable, element);\n",
              "          const docLink = document.createElement('div');\n",
              "          docLink.innerHTML = docLinkHtml;\n",
              "          element.appendChild(docLink);\n",
              "        }\n",
              "      </script>\n",
              "    </div>\n",
              "  </div>\n",
              "  "
            ]
          },
          "metadata": {},
          "execution_count": 8
        }
      ]
    },
    {
      "cell_type": "code",
      "source": [
        "plt.figure(figsize=(12,8))\n",
        "plt.scatter(df[df['Estado Motor']== 'normal']['RPM'], [0]* len(df[df['Estado Motor']== 'normal']), \n",
        "            marker='o', c='green', s=150, label='nomal')\n",
        "\n",
        "plt.scatter(df[df['Estado Motor']== 'anormal']['RPM'], [1]* len(df[df['Estado Motor']== 'anormal']), \n",
        "            marker='o', c='red', s=150, label='anormal')\n",
        "plt.legend()\n",
        "plt.ylabel('Probabilidad de comportamiento anormal')\n",
        "plt.xlabel('RPM Motor')\n",
        "plt.show()\n"
      ],
      "metadata": {
        "colab": {
          "base_uri": "https://localhost:8080/",
          "height": 497
        },
        "id": "kA44tuzf06Ta",
        "outputId": "da472ede-a3fa-4322-ebcd-724c68543143"
      },
      "execution_count": null,
      "outputs": [
        {
          "output_type": "display_data",
          "data": {
            "text/plain": [
              "<Figure size 864x576 with 1 Axes>"
            ],
            "image/png": "[encoded data removed]"
          },
          "metadata": {
            "needs_background": "light"
          }
        }
      ]
    },
    {
      "cell_type": "markdown",
      "metadata": {
        "id": "rUs4Yqku9eNe"
      },
      "source": [
        "Lo que buscamos es dada una entrada $X$ predecir una etiqueta $Y$ como resultado. O sea buscamos encontrar la distribución condicional de la variable $Y$ dado el conjunto de entrada $X$, lo que expresamos como $ Pr(Y| x)$.\n",
        "\n",
        "Asumamos que $Pr(Y=1|X=x,\\theta) =p(x,\\theta)$ y  $Pr(Y=0|X=x,\\theta) =1-p(x,\\theta)$ son función parametrizada por $\\theta$ y asumamos que las observaciones son independientes una de otra.\n",
        "\n",
        "Los datos se Distribuyen como una Distribución de Bernulli (Binomial para el caso binario), esto es:\n",
        "\n",
        "$$(Y_i | x_{1,i}, \\ldots, x_{m,i}, \\theta) \\sim \\text{Bernulli}(p=p(x,\\theta))$$\n",
        "con función de probabilidad asociada:\n",
        "\n",
        "$P(Y=y | X=x, \\theta) = f(y;p) = p^y (1-p)^{(1-y)}$, para $y=0,1$\n",
        "\n",
        "Dado los ejemplos de entrenamiento muestreados de forma independiente $(x_i,y_i), 1\\leq i \\leq n$ de la distribución conjunta, la máxima verosimilitud $L$, esta dada por:\n",
        "\n",
        "$$L(\\theta) = \\prod_{i=1}^{n}{f(y_i;p(x_i;\\theta))}=\\prod_{i=1}^{n}{p(x_i;\\theta)}^{y_i}{(1-p(x_i;\\theta))}^{(1-y_i)}$$\n",
        "\n",
        "Ahora podemos maximizar la verosimilitud $L(\\theta)$ y obtener el **Estimador de Máxima Verosimilitud (MLE)** y de esta forma obtener los parámetros $\\theta$ del modélo. Es más sencillo hacer esto a la log-verosimilitud, ya que transofrma las multiplicaciones en sumas, por lo que lo se maximiza es:\n",
        "$$\\log{L(\\theta)} = \\sum_{i=1}^{n}{{y_i \\log{p(x_i;\\theta)}} + {(1-y_i)\\log{(1-p(x_i;\\theta))}}}$$ \n",
        "\n",
        "\n",
        "\n",
        "Sin algunas restricciones, la estimación del modelo no homogeno de bernulli por MLE no funciona; obtendríamos $p_i=1$ cuando $y_i=1$, $p_i=0$ cuando $y_i=0$. Los $p_i= p(x_i, \\theta)$ no son números arbitrarios, dependen de un parámetro. Suponiendo que conocemos la función de probabilidad (salvo el parámetro $\\theta$) basta con maximizar $L$ para encontrar los parámetros.\n",
        "Hasta aquí tenemos una variable binaria $Y$ y deseamos modelar la probabilidad condicional  $Pr(Y=1|X=x;\\theta)$ como una función de x, cualquier parametro desconocido en la función debe ser estimado por máxima verosimilitud. \n",
        "¿Cómo podemos usar la regresión lineal para resolver este problema?\n",
        "\n",
        "1. La idea más obvia es hacer $p(x)$ una función lineal de $x$. El problema de esto es que $p$ debe estar entre 0 y 1 (la función lineal no es acotada).\n",
        "2. Una opción sencilla sería hacer $\\log{p(x)}$ una función lineal de x, el problema es que está es no acotada tambien. Necesitamos una función continua y acotada que pueda comprimir nuestro espacio de entrada $x \\in [-\\infty, ∞] $ a un espacio de salida entre 0 y 1.\n",
        "3. la función logistica (o logit) puede hacer esto, $\\log{\\frac{p}{1-p}}$. Podemos hacer esto una función lineal de $x$.\n",
        "\n",
        "$$ \\log{\\frac{p(x)}{1-p(x)}} = \\theta_0 + x \\cdot \\theta_1$$\n",
        "\n",
        "resolviendo para $p$, esto da:\n",
        "$$p(x,\\theta_0, \\theta_1) = \\frac{1}{1 + e^{-(\\theta_0 + x \\cdot \\theta_1)}}$$\n"
      ]
    },
    {
      "cell_type": "code",
      "execution_count": null,
      "metadata": {
        "colab": {
          "base_uri": "https://localhost:8080/",
          "height": 561,
          "referenced_widgets": [
            "7e3d54e3775e4de994962b5d74966737",
            "38c13e387fcb4848ba29a4cd2e90b3c7",
            "f7c0526082ee426f82f727db4196757e",
            "dedf8a0111f7448babf13a20434c6fdd",
            "2776a0130a9d423db58ad04744821d44",
            "c840ddcb6cb641eb92bd5e186a3636c3",
            "d2feef48c045477bb9fe5f8b99174fb1",
            "fa3a801992884f0fb64576d1c3609b79",
            "d6b22f3d1b4a4957bc50d2f39b2e55d6",
            "7540f96bb4e84e058e78a149c213b077"
          ]
        },
        "id": "TKS_Xb2mhxL_",
        "outputId": "1e15b82e-df0d-4faf-eece-52fa5865a300"
      },
      "outputs": [
        {
          "output_type": "display_data",
          "data": {
            "text/plain": [
              "interactive(children=(FloatSlider(value=-46.0, description='theta 0', min=-100.0), FloatSlider(value=0.5, desc…"
            ],
            "application/vnd.jupyter.widget-view+json": {
              "version_major": 2,
              "version_minor": 0,
              "model_id": "7e3d54e3775e4de994962b5d74966737"
            }
          },
          "metadata": {}
        }
      ],
      "source": [
        "import ipywidgets as widgets\n",
        "from ipywidgets import interact, interact_manual\n",
        "\n",
        "\n",
        "\n",
        "@interact\n",
        "def plot_logreg(b0=widgets.FloatSlider(min=-100, max=100, step=0.1, value = -46,\n",
        "                                       description='theta 0'), \n",
        "                b1=widgets.FloatSlider(min=-1, max=1, step=0.1, value = 0.5,\n",
        "                                       description='theta 1')):\n",
        "  x = np.linspace(60, 180, 100)\n",
        "  regLog = lambda b0, b1, x: 1 / (1 + np.exp(-(b0 + b1*x)))\n",
        "  regLin = lambda b0, b1, x: b1*x + b0\n",
        "  ylog = regLog(b0, b1, x)\n",
        "  #ylin = regLin(b0, b1, x)\n",
        "\n",
        "  plt.figure(figsize=(12,8))\n",
        "  plt.scatter(x, ylog, color='gold')\n",
        "  #plt.scatter(x, ylin, color='blue')\n",
        "  \n",
        "  plt.scatter(df[df['Estado Motor']== 'normal']['RPM'], [0]* len(df[df['Estado Motor']== 'normal']), \n",
        "              marker='o', c='green', s=150, label='nomal')\n",
        "\n",
        "  plt.scatter(df[df['Estado Motor']== 'anormal']['RPM'], [1]* len(df[df['Estado Motor']== 'anormal']), \n",
        "              marker='o', c='red', s=150, label='anormal')\n",
        "  \n",
        "  #datos a predecir\n",
        "  toPredict = np.array([67, 110, 120, 80, 90])\n",
        "  probPredict = regLog(b0,b1,toPredict)\n",
        "\n",
        "  plt.scatter(toPredict, probPredict, \n",
        "              marker='*', c='darkblue', s=150, label='estimado')\n",
        "  \n",
        "  plt.legend()\n",
        "  plt.ylabel('Probabilidad de comportamiento anormal')\n",
        "  plt.xlabel('RPM Motor')\n",
        "  plt.show()\n",
        "\n",
        "\n",
        "  "
      ]
    },
    {
      "cell_type": "markdown",
      "source": [
        "# Ajuste de los los parámetros ($\\theta_0$ y $\\theta_1$)?\n",
        "## <font color='darkred'> Estimación de Máxima Verosimilitud (Maximum Likelihood Estimation) </font>\n",
        "\n",
        "MLE está dado por:\n",
        "$$\\max_\\theta \\log{L(\\theta)} = \\sum_{i=1}^{n}{{y_i \\log{p(x_i;\\theta)}} + {(1-y_i)\\log{(1-p(x_i;\\theta))}}}$$ \n",
        "\n",
        "lo que es equivalente a minimizar:\n",
        "\n",
        "$$\\min_\\theta -\\log{L(\\theta)} = \\sum_{i=1}^{n}{{y_i \\log{p(x_i;\\theta)}} - {(1-y_i)\\log{(1-p(x_i;\\theta))}}}$$ \n",
        "\n",
        "haciendo $p(x_i;\\theta) = \\hat{y}$, tenemos que:\n",
        "$$\\min_\\theta -\\log{L(\\theta)} = \\sum_{i=1}^{n}{- y_i \\log{\\hat{y_i}} - (1-y_i)\\log{(1-\\hat{y_i})}} = \\min_\\theta \\ell(y, \\hat{y}(\\theta))$$\n",
        "\n",
        "A $\\ell(y, \\hat{y}(\\theta))$ le llamaremos *logistic loss*. En valor de $y$ es fijo (viene dado por el conjunto de entrenamiento) y el valor de $\\hat{y}$ depende de $\\theta = \\theta_0, theta_1$, por lo que $\\ell(\\theta_0, \\theta_1)$\n",
        "\n",
        "\n",
        "#### <font color='darkred'> Minimizar la función de pérdida logística es lo mismo que maximizar la log-verosimilitud</font>\n",
        "\n",
        "\n",
        "Ahora con esto podemos ajustar el modelo usando MLE. Para cada dato de entrenamiento, tenemos un vector de características $x_i$, y una clase observada $y_i$. \n",
        "\n",
        "$$\\ell(\\theta_0, \\theta_1) = {\\sum_{i=1}^{n} {y_i \\log{p(x_i)}} + (1-y_i)\\log{(1-p(x_i))}} $$\n",
        "\n",
        "$$ \\qquad \\quad= \\sum_{i=1}^{n} \\log{1} - p(x_i) + \\sum_{i=1}^{n} y_i \\log{\\frac{p(x_i)}{1-p(x_i)}}$$\n",
        "\n",
        "$$\\qquad \\qquad \\quad = ∑_{i=1}^{n} -\\log(1) + e^{(\\theta_0 + x_i \\cdot \\theta_1)} + \\sum_{i=1}^{n} y_i (\\theta_0 + x_i \\cdot \\theta_1)$$\n",
        "\n",
        "ahora basta con derivar la log-verosimilitud respecto de los parámetros $\\theta_j$, $j={0,1}$.\n",
        "\n",
        "$$\\frac{∂\\ell}{∂ \\theta_j} = -∑_{i=1}^{n} \\frac{1}{1 + e^{(\\theta_0 + x_i \\cdot \\theta_1)}}{e^{(\\theta_0 + x_i \\cdot \\theta_1)}}x_{ij} + \\sum_{i=1}^{n} y_i x_{ij}$$\n",
        "\n",
        "$$\\left({\\frac{∂\\ell}{∂ \\theta_0},\\frac{∂\\ell}{∂ \\theta_1}}\\right) = \\left({\\sum_{i=1}^{n}{(y_i-p(x_i, \\theta_0,\\theta_1)}),\\sum_{i=1}^{n}{(y_i-p(x_i, \\theta_0,\\theta_1))x_i} }\\right)$$\n",
        "\n",
        "No podemos igual a cero y resolver de manera exacta, ya que es una ecuación trascendente, pero se puede aproximar numéricamente, por ejemplo mediante el método de Newton para optimización numérica o por medio de descenso por el gradiente (Siempre moverse una pequeña cantidad en la dirección de mayor decremento).\n",
        "\n",
        "\n",
        "### Descenso por el gradiente\n",
        "\n",
        "$$\\theta_{0}^{t+1} = \\theta_{0}^{t} + \\lambda \\cdot \\sum_{i=1}^{n}(y_i - p(x_i;\\mathbf{θ}^{(t)}))$$\n",
        "\n",
        "$$\\theta_{1}^{t+1} = \\theta_{1}^{t} + \\lambda \\cdot \\sum_{i=1}^{n}(y_i - p(x_i;\\mathbf{θ}^{(t)}))x_i$$\n",
        "\n",
        "donde λ > 0 es el _*learning rate*_\n",
        "\n",
        "---\n",
        "\n",
        "## Regresión Logística con más de dos clases\n",
        "\n",
        "Si $Y$ puede tomar mas de dos valores, $k$ de ellos, todavía es posible usar regresión log´sitica. En lugar de tener un set de parámetros $\\theta_0, \\theta_1$, cada clase $c$ en $o:(k-1)$ tendrá su propio intercepto $\\theta_o^{(c)}$ y y vector $\\theta^{(c)}$, haciendo que la probabilidad condicional sea:\n",
        "$$Pr(Y=c|\\vec{X} = x) = \\frac{e^{\\theta_0^{(c)} + x \\cdot \\theta^{(c)}}}{\\sum_c e^{\\theta_0^{(c)} + x \\cdot \\theta^{(c)}}}$$\n",
        "\n",
        "---\n",
        "\n",
        "## Cómo clasificamos las nuevas observaciones:\n",
        "\n",
        "Despues que el modelo de regresión logistica ha sido ajustado a los datos de entrenamiento, esto es:\n",
        "$$p(x;\\mathbf{\\theta}) = \\frac{1}{1 + e^{-(\\theta_0 + \\theta_1 x)}}$$\n",
        "\n",
        "podemos usar la siguiente regla de desicion para una nueva observación $x_0$:\n",
        "\n",
        "$$\\text{Asigna etiqueta} \\qquad y_0 =1 \\iff p(x_0;\\mathbf{\\theta}) > \\frac{1}{2}$$"
      ],
      "metadata": {
        "id": "jd69xXDcCRF5"
      }
    },
    {
      "cell_type": "markdown",
      "source": [
        "## Implementando desde cero\n",
        "\n",
        "Para implementar un clasificado necesitamos lo siguientes elementos:\n",
        "\n",
        "\n",
        "```python\n",
        "\n",
        "class LRfromScratch:\n",
        "  def __init__():\n",
        "    pass\n",
        "  def fit():\n",
        "    pass\n",
        "  def predict():\n",
        "  \n",
        "  def auxFunc():\n",
        "    pass\n",
        "\n",
        "```\n"
      ],
      "metadata": {
        "id": "DmEF7ogzPyGG"
      }
    },
    {
      "cell_type": "code",
      "execution_count": null,
      "metadata": {
        "id": "lQcfIvwAh5hI"
      },
      "outputs": [],
      "source": [
        "import pandas as pd\n",
        "import numpy as np\n",
        "class LogRfromScratch:\n",
        "  \n",
        "  def __init__(self):\n",
        "    self.losses = []             # Para almacenar el valor de la función de pérdida\n",
        "    self.train_accuracies =  []  # Para almacenar el valor de accuracy en cada iteracion\n",
        "    \n",
        "  \n",
        "  #def _sigmoid(self, x, weight):\n",
        "  #  z = np.dot(x, weight)\n",
        "  #  return 1 / (1 + np.exp(-z))\n",
        "\n",
        "  \n",
        "  # versión estable numéricamente\n",
        "  def _sigmoid(self, x):\n",
        "    return np.piecewise(\n",
        "        x,\n",
        "        [x > 0],\n",
        "        [lambda i: 1 / (1 + np.exp(-i)), lambda i: np.exp(i) / (1 + np.exp(i))],\n",
        "    )\n",
        "\n",
        "  def loss(self, h, y):\n",
        "    epsilon = 1e-5\n",
        "    return (-y * np.log(h + epsilon) - (1-y)* np.log(1-h +epsilon)).mean()\n",
        "    #return (-y * np.log(h) - (1-y)* np.log(1-h)).mean()\n",
        "\n",
        "  def gradient_descent(self, X, h, y):\n",
        "    return np.dot(X.T, (h-y)) / y.shape[0]\n",
        "\n",
        "  def fit(self, x,y, lr=0.01, iterations=10):\n",
        "    self.intercept = np.ones((x.shape[0], 1))  # agrego una dimensión adicional para el intercepto\n",
        "    self.x = np.concatenate((self.intercept, x), axis=1) # creo un nuevo vector de dimensión d+1\n",
        "    self.weight = np.zeros(self.x.shape[1]) # inicializo el vector pesos tamaño d+1 x 1 en cero\n",
        "    self.y = y\n",
        "    \n",
        "    for i in range(iterations):\n",
        "      z = np.dot(self.x, self.weight)\n",
        "      sigma = self._sigmoid(z)\n",
        "\n",
        "      loss = self.loss(sigma, self.y)\n",
        "      self.losses.append(loss)\n",
        "      dW = self.gradient_descent(self.x, sigma, self.y)\n",
        "      self.weight -= lr * dW\n",
        "\n",
        "      ## aquí estaba el error que se vio en clases\n",
        "      # tenía self.x en lugar de x y el problema era que self.x tiene 1 dimensión\n",
        "      # más que x (por el intercepto) y al llamar a la función predict volvía a \n",
        "      # agregar otra dimensión y el error se arrojaba porque tenia una matriz x con 1 \n",
        "      # dimensión más que los pesos.\n",
        "      y_pred = self.predict(x) # \n",
        "      ##############################################################\n",
        "\n",
        "\n",
        "      accu = np.sum(np.equal(self.y, y_pred)) / len(self.y)\n",
        "      self.train_accuracies.append(accu)\n",
        "       \n",
        "    return print(f'LogR fitted successfully')\n",
        "\n",
        "  def predict(self, x_new, treshold = 0.5):\n",
        "    intercept = np.ones((x_new.shape[0], 1))\n",
        "    x_new = np.concatenate((intercept, x_new), axis=1)\n",
        "    z = np.dot(x_new, self.weight)\n",
        "    result = self._sigmoid(z)\n",
        "    result = result >= treshold\n",
        "    y_pred = np.zeros(result.shape[0])\n",
        "    for i in range(len(y_pred)):\n",
        "      if result[i] == True:\n",
        "        y_pred[i] = 1\n",
        "      else:\n",
        "        continue\n",
        "\n",
        "    return y_pred\n",
        "\n",
        "  @property\n",
        "  def get_coef(self):\n",
        "    return self.weight\n",
        "\n"
      ]
    },
    {
      "cell_type": "code",
      "source": [
        "# Convertimos los datos del dataset a númericos.\n",
        "df['RPM'] = pd.to_numeric(df['RPM'])\n",
        "df['Estado Motor'].replace(['normal', 'anormal'], [0,1], inplace = True)\n",
        "df.head(10)"
      ],
      "metadata": {
        "colab": {
          "base_uri": "https://localhost:8080/",
          "height": 363
        },
        "id": "z7TbYmcd9BgY",
        "outputId": "2701b614-9581-4b79-8951-58165bf3e90a"
      },
      "execution_count": null,
      "outputs": [
        {
          "output_type": "execute_result",
          "data": {
            "text/plain": [
              "   RPM  Estado Motor\n",
              "0   65             0\n",
              "1   70             0\n",
              "2   80             0\n",
              "3   80             0\n",
              "4   80             0\n",
              "5   90             0\n",
              "6   95             0\n",
              "7  105             0\n",
              "8  100             0\n",
              "9  110             0"
            ],
            "text/html": [
              "\n",
              "  <div id=\"df-d6ae3995-297e-4a3f-a6eb-86af2b2f344a\">\n",
              "    <div class=\"colab-df-container\">\n",
              "      <div>\n",
              "<style scoped>\n",
              "    .dataframe tbody tr th:only-of-type {\n",
              "        vertical-align: middle;\n",
              "    }\n",
              "\n",
              "    .dataframe tbody tr th {\n",
              "        vertical-align: top;\n",
              "    }\n",
              "\n",
              "    .dataframe thead th {\n",
              "        text-align: right;\n",
              "    }\n",
              "</style>\n",
              "<table border=\"1\" class=\"dataframe\">\n",
              "  <thead>\n",
              "    <tr style=\"text-align: right;\">\n",
              "      <th></th>\n",
              "      <th>RPM</th>\n",
              "      <th>Estado Motor</th>\n",
              "    </tr>\n",
              "  </thead>\n",
              "  <tbody>\n",
              "    <tr>\n",
              "      <th>0</th>\n",
              "      <td>65</td>\n",
              "      <td>0</td>\n",
              "    </tr>\n",
              "    <tr>\n",
              "      <th>1</th>\n",
              "      <td>70</td>\n",
              "      <td>0</td>\n",
              "    </tr>\n",
              "    <tr>\n",
              "      <th>2</th>\n",
              "      <td>80</td>\n",
              "      <td>0</td>\n",
              "    </tr>\n",
              "    <tr>\n",
              "      <th>3</th>\n",
              "      <td>80</td>\n",
              "      <td>0</td>\n",
              "    </tr>\n",
              "    <tr>\n",
              "      <th>4</th>\n",
              "      <td>80</td>\n",
              "      <td>0</td>\n",
              "    </tr>\n",
              "    <tr>\n",
              "      <th>5</th>\n",
              "      <td>90</td>\n",
              "      <td>0</td>\n",
              "    </tr>\n",
              "    <tr>\n",
              "      <th>6</th>\n",
              "      <td>95</td>\n",
              "      <td>0</td>\n",
              "    </tr>\n",
              "    <tr>\n",
              "      <th>7</th>\n",
              "      <td>105</td>\n",
              "      <td>0</td>\n",
              "    </tr>\n",
              "    <tr>\n",
              "      <th>8</th>\n",
              "      <td>100</td>\n",
              "      <td>0</td>\n",
              "    </tr>\n",
              "    <tr>\n",
              "      <th>9</th>\n",
              "      <td>110</td>\n",
              "      <td>0</td>\n",
              "    </tr>\n",
              "  </tbody>\n",
              "</table>\n",
              "</div>\n",
              "      <button class=\"colab-df-convert\" onclick=\"convertToInteractive('df-d6ae3995-297e-4a3f-a6eb-86af2b2f344a')\"\n",
              "              title=\"Convert this dataframe to an interactive table.\"\n",
              "              style=\"display:none;\">\n",
              "        \n",
              "  <svg xmlns=\"http://www.w3.org/2000/svg\" height=\"24px\"viewBox=\"0 0 24 24\"\n",
              "       width=\"24px\">\n",
              "    <path d=\"M0 0h24v24H0V0z\" fill=\"none\"/>\n",
              "    <path d=\"M18.56 5.44l.94 2.06.94-2.06 2.06-.94-2.06-.94-.94-2.06-.94 2.06-2.06.94zm-11 1L8.5 8.5l.94-2.06 2.06-.94-2.06-.94L8.5 2.5l-.94 2.06-2.06.94zm10 10l.94 2.06.94-2.06 2.06-.94-2.06-.94-.94-2.06-.94 2.06-2.06.94z\"/><path d=\"M17.41 7.96l-1.37-1.37c-.4-.4-.92-.59-1.43-.59-.52 0-1.04.2-1.43.59L10.3 9.45l-7.72 7.72c-.78.78-.78 2.05 0 2.83L4 21.41c.39.39.9.59 1.41.59.51 0 1.02-.2 1.41-.59l7.78-7.78 2.81-2.81c.8-.78.8-2.07 0-2.86zM5.41 20L4 18.59l7.72-7.72 1.47 1.35L5.41 20z\"/>\n",
              "  </svg>\n",
              "      </button>\n",
              "      \n",
              "  <style>\n",
              "    .colab-df-container {\n",
              "      display:flex;\n",
              "      flex-wrap:wrap;\n",
              "      gap: 12px;\n",
              "    }\n",
              "\n",
              "    .colab-df-convert {\n",
              "      background-color: #E8F0FE;\n",
              "      border: none;\n",
              "      border-radius: 50%;\n",
              "      cursor: pointer;\n",
              "      display: none;\n",
              "      fill: #1967D2;\n",
              "      height: 32px;\n",
              "      padding: 0 0 0 0;\n",
              "      width: 32px;\n",
              "    }\n",
              "\n",
              "    .colab-df-convert:hover {\n",
              "      background-color: #E2EBFA;\n",
              "      box-shadow: 0px 1px 2px rgba(60, 64, 67, 0.3), 0px 1px 3px 1px rgba(60, 64, 67, 0.15);\n",
              "      fill: #174EA6;\n",
              "    }\n",
              "\n",
              "    [theme=dark] .colab-df-convert {\n",
              "      background-color: #3B4455;\n",
              "      fill: #D2E3FC;\n",
              "    }\n",
              "\n",
              "    [theme=dark] .colab-df-convert:hover {\n",
              "      background-color: #434B5C;\n",
              "      box-shadow: 0px 1px 3px 1px rgba(0, 0, 0, 0.15);\n",
              "      filter: drop-shadow(0px 1px 2px rgba(0, 0, 0, 0.3));\n",
              "      fill: #FFFFFF;\n",
              "    }\n",
              "  </style>\n",
              "\n",
              "      <script>\n",
              "        const buttonEl =\n",
              "          document.querySelector('#df-d6ae3995-297e-4a3f-a6eb-86af2b2f344a button.colab-df-convert');\n",
              "        buttonEl.style.display =\n",
              "          google.colab.kernel.accessAllowed ? 'block' : 'none';\n",
              "\n",
              "        async function convertToInteractive(key) {\n",
              "          const element = document.querySelector('#df-d6ae3995-297e-4a3f-a6eb-86af2b2f344a');\n",
              "          const dataTable =\n",
              "            await google.colab.kernel.invokeFunction('convertToInteractive',\n",
              "                                                     [key], {});\n",
              "          if (!dataTable) return;\n",
              "\n",
              "          const docLinkHtml = 'Like what you see? Visit the ' +\n",
              "            '<a target=\"_blank\" href=https://colab.research.google.com/notebooks/data_table.ipynb>data table notebook</a>'\n",
              "            + ' to learn more about interactive tables.';\n",
              "          element.innerHTML = '';\n",
              "          dataTable['output_type'] = 'display_data';\n",
              "          await google.colab.output.renderOutput(dataTable, element);\n",
              "          const docLink = document.createElement('div');\n",
              "          docLink.innerHTML = docLinkHtml;\n",
              "          element.appendChild(docLink);\n",
              "        }\n",
              "      </script>\n",
              "    </div>\n",
              "  </div>\n",
              "  "
            ]
          },
          "metadata": {},
          "execution_count": 33
        }
      ]
    },
    {
      "cell_type": "code",
      "source": [
        "# separamos nuestros datos en entrenamiento y prueba\n",
        "from sklearn.model_selection import train_test_split\n",
        "x_train= df[['RPM']] \n",
        "y_train =df['Estado Motor']\n",
        "\n",
        "\n",
        "cclf = LogRfromScratch()\n",
        "cclf.fit(x_train, y_train, lr= 0.1, iterations=1000)"
      ],
      "metadata": {
        "colab": {
          "base_uri": "https://localhost:8080/"
        },
        "id": "i1V7JQzuGe6b",
        "outputId": "f3adc409-94fd-4c97-d137-919273e246a8"
      },
      "execution_count": null,
      "outputs": [
        {
          "output_type": "stream",
          "name": "stdout",
          "text": [
            "LogR fitted successfully\n"
          ]
        }
      ]
    },
    {
      "cell_type": "code",
      "source": [
        "x = np.linspace(60, 180, 100)\n",
        "b0 = cclf.get_coef[0]\n",
        "#b0=0\n",
        "b1 = cclf.get_coef[1]\n",
        "\n",
        "\n",
        "regLog = lambda b0, b1, x: 1 / (1 + np.exp(-(b0 + b1*x)))\n",
        "\n",
        "ylog = regLog(b0, b1, x)\n",
        "\n",
        "\n",
        "plt.figure(figsize=(12,8))\n",
        "plt.scatter(x, ylog, color='gold')\n",
        "\n",
        "\n",
        "plt.scatter(df[df['Estado Motor']== 0]['RPM'], [0]* len(df[df['Estado Motor']== 0]), \n",
        "            marker='o', c='green', s=150, label='nomal')\n",
        "\n",
        "plt.scatter(df[df['Estado Motor']== 1]['RPM'], [1]* len(df[df['Estado Motor']== 1]), \n",
        "            marker='o', c='red', s=150, label='anormal')\n",
        "\n",
        "#datos a predecir\n",
        "toPredict = np.array([67, 110, 120, 80, 90])\n",
        "probPredict = regLog(b0,b1,toPredict)\n",
        "\n",
        "plt.scatter(toPredict, probPredict, \n",
        "            marker='*', c='darkblue', s=150, label='estimado')\n",
        "\n",
        "plt.legend()\n",
        "plt.ylabel('Probabilidad de comportamiento anormal')\n",
        "plt.xlabel('RPM Motor')\n",
        "\n",
        "plt.show()\n"
      ],
      "metadata": {
        "colab": {
          "base_uri": "https://localhost:8080/",
          "height": 497
        },
        "id": "4MRXcv5iI-07",
        "outputId": "4cf6188b-7efd-4c38-c780-87099f8844b1"
      },
      "execution_count": null,
      "outputs": [
        {
          "output_type": "display_data",
          "data": {
            "text/plain": [
              "<Figure size 864x576 with 1 Axes>"
            ],
            "image/png": "[encoded data removed]"
          },
          "metadata": {
            "needs_background": "light"
          }
        }
      ]
    },
    {
      "cell_type": "code",
      "source": [
        "from sklearn.datasets import load_breast_cancer\n",
        "\n",
        "data = load_breast_cancer(as_frame = True).frame\n",
        "#data = load_breast_cancer(as_frame = True)\n",
        "\n",
        "#x_train, x_test, y_train, y_test = train_test_split(data.data, data['target'])\n",
        "x_train, x_test, y_train, y_test = train_test_split(data[['mean area']], data['target'])\n",
        "regressor = LogRfromScratch()\n",
        "regressor.fit(x_train,y_train, 0.01, 5000)\n",
        "\n",
        "y_pred = regressor.predict(x_train)\n",
        "print(f'accuracy training ->{sum(y_pred == y_train) / y_train.shape[0]}')\n",
        "\n",
        "y_pred_test = regressor.predict(x_test)\n",
        "print(f'accuracy test ->{sum(y_pred_test == y_test) / y_test.shape[0]}')"
      ],
      "metadata": {
        "colab": {
          "base_uri": "https://localhost:8080/"
        },
        "id": "qhbAt814X1rE",
        "outputId": "6b5f540a-9744-49ca-f984-9056ba6ff005"
      },
      "execution_count": null,
      "outputs": [
        {
          "output_type": "stream",
          "name": "stdout",
          "text": [
            "LogR fitted successfully\n",
            "accuracy training ->0.3967136150234742\n",
            "accuracy test ->0.3006993006993007\n"
          ]
        }
      ]
    },
    {
      "cell_type": "code",
      "source": [
        "plt.figure(figsize=(12,8))\n",
        "x = np.linspace(1, 5000, 5000)\n",
        "plt.scatter(x, np.array(regressor.train_accuracies), s=10, label='accuracy')\n",
        "plt.legend()"
      ],
      "metadata": {
        "colab": {
          "base_uri": "https://localhost:8080/",
          "height": 500
        },
        "id": "OAFs7Pq5RsCU",
        "outputId": "a384a56e-4a0a-4b54-e3d7-3b167cbb4d08"
      },
      "execution_count": null,
      "outputs": [
        {
          "output_type": "execute_result",
          "data": {
            "text/plain": [
              "<matplotlib.legend.Legend at 0x7fe05529c490>"
            ]
          },
          "metadata": {},
          "execution_count": 59
        },
        {
          "output_type": "display_data",
          "data": {
            "text/plain": [
              "<Figure size 864x576 with 1 Axes>"
            ],
            "image/png": "[encoded data removed]"
          },
          "metadata": {
            "needs_background": "light"
          }
        }
      ]
    },
    {
      "cell_type": "markdown",
      "source": [
        "Se puede ver que la regresión con un único parametro y esta implementación sencilla es bastante mala"
      ],
      "metadata": {
        "id": "vcJNQjTNVZ_1"
      }
    },
    {
      "cell_type": "markdown",
      "source": [
        ""
      ],
      "metadata": {
        "id": "96hfEHZOtcZ6"
      }
    },
    {
      "cell_type": "code",
      "source": [
        "\n",
        "index_feature = 3\n",
        "xdata = data['mean area']\n",
        "feature_name = xdata.name\n",
        "y = data.target\n",
        "# 0 para maligno, 1 para benigno\n",
        "label_0 = 'maligno'\n",
        "label_1 = 'benigno'\n",
        "\n",
        "plt.figure(figsize=(12,8))\n",
        "#plt.scatter(x, ylog, color='gold')\n",
        "\n",
        "\n",
        "plt.scatter(xdata[y == 0], [0]* len(xdata[y == 0]), \n",
        "            marker='o', c='red', s=150, label= label_0)\n",
        "\n",
        "plt.scatter(xdata[y == 1], [1]* len(xdata[y == 1]), \n",
        "            marker='o', c='green', s=150, label= label_1)\n",
        "\n",
        "plt.scatter(x_test, y_pred_test, \n",
        "            marker='*', c='darkblue', s=150, label='x test')\n",
        "\n",
        "\n",
        "regLin = lambda b0, b1, x: b1*x + b0\n",
        "b0 = regressor.get_coef[0]\n",
        "b1 = regressor.get_coef[1]\n",
        "x = np.linspace(0, 3000, 6000)\n",
        "ylog = regLog(b0, b1, x)\n",
        "plt.scatter(x, ylog, color='gold', s=5)\n",
        "\n",
        "plt.legend()\n",
        "plt.ylabel('Probabilidad de tipo de tumor')\n",
        "plt.xlabel(feature_name)\n",
        "\n",
        "plt.show()"
      ],
      "metadata": {
        "colab": {
          "base_uri": "https://localhost:8080/",
          "height": 532
        },
        "id": "Cl6l1gSNgjZ-",
        "outputId": "b2baef30-e080-4e50-f0f3-230e7b4f554b"
      },
      "execution_count": null,
      "outputs": [
        {
          "output_type": "stream",
          "name": "stderr",
          "text": [
            "/usr/local/lib/python3.7/dist-packages/ipykernel_launcher.py:7: RuntimeWarning: overflow encountered in exp\n",
            "  import sys\n"
          ]
        },
        {
          "output_type": "display_data",
          "data": {
            "text/plain": [
              "<Figure size 864x576 with 1 Axes>"
            ],
            "image/png": "[encoded data removed]"
          },
          "metadata": {
            "needs_background": "light"
          }
        }
      ]
    },
    {
      "cell_type": "code",
      "source": [
        "from sklearn.linear_model import LogisticRegression\n",
        "clf = LogisticRegression()\n",
        "clf.fit(x_train, y_train)\n",
        "\n",
        "\n",
        "y_pred = clf.predict(x_train)\n",
        "print(f'accuracy training ->{sum(y_pred == y_train) / y_train.shape[0]}')\n",
        "\n",
        "y_pred_test = clf.predict(x_test)\n",
        "print(f'accuracy test ->{sum(y_pred_test == y_test) / y_test.shape[0]}')"
      ],
      "metadata": {
        "colab": {
          "base_uri": "https://localhost:8080/"
        },
        "id": "ApbhVOwastCq",
        "outputId": "823d113b-5094-4565-f374-f7fe8e10ecb0"
      },
      "execution_count": null,
      "outputs": [
        {
          "output_type": "stream",
          "name": "stdout",
          "text": [
            "accuracy training ->0.863849765258216\n",
            "accuracy test ->0.916083916083916\n"
          ]
        }
      ]
    },
    {
      "cell_type": "code",
      "source": [
        "index_feature = 3\n",
        "xdata = data['mean area']\n",
        "feature_name = xdata.name\n",
        "y = data.target\n",
        "# 0 para maligno, 1 para benigno\n",
        "label_0 = 'maligno'\n",
        "label_1 = 'benigno'\n",
        "\n",
        "plt.figure(figsize=(12,8))\n",
        "\n",
        "\n",
        "\n",
        "plt.scatter(xdata[y == 0], [0]* len(xdata[y == 0]), \n",
        "            marker='o', c='red', s=150, label= label_0)\n",
        "\n",
        "plt.scatter(xdata[y == 1], [1]* len(xdata[y == 1]), \n",
        "            marker='o', c='green', s=150, label= label_1)\n",
        "\n",
        "\n",
        "regLin = lambda b0, b1, x: b1*x + b0\n",
        "b0 = clf.intercept_\n",
        "b1 = clf.coef_\n",
        "x = np.linspace(0, 3000, 6000)\n",
        "ylog = regLog(b0, b1, x)\n",
        "plt.scatter(x, ylog, color='gold', s=5)\n",
        "\n",
        "plt.scatter(x_test, y_pred_test, \n",
        "            marker='*', c='darkblue', s=150, label='x test')\n",
        "\n",
        "plt.legend()\n",
        "plt.ylabel('Probabilidad de tipo de tumor')\n",
        "plt.xlabel(feature_name)\n",
        "\n",
        "plt.show()"
      ],
      "metadata": {
        "colab": {
          "base_uri": "https://localhost:8080/",
          "height": 497
        },
        "id": "Hja_ywHxj4P0",
        "outputId": "6307ed62-4404-4468-f8b0-e11dfb80b460"
      },
      "execution_count": null,
      "outputs": [
        {
          "output_type": "display_data",
          "data": {
            "text/plain": [
              "<Figure size 864x576 with 1 Axes>"
            ],
            "image/png": "[encoded data removed]"
          },
          "metadata": {
            "needs_background": "light"
          }
        }
      ]
    },
    {
      "cell_type": "markdown",
      "source": [
        "Un mucho mejor fitting !!!"
      ],
      "metadata": {
        "id": "on248lQXWdRG"
      }
    },
    {
      "cell_type": "code",
      "source": [
        "# Implementación simple de regresión lienal con descenso por el gradiente\n",
        "class LRfromScratch:\n",
        "  \n",
        "  def __init__(self):\n",
        "    self.losses = []             # Para almacenar el valor de la función de pérdida\n",
        "    \n",
        "    \n",
        "  def loss(self, y, y_pred):\n",
        "    return np.square((y-y_pred)).mean()\n",
        "\n",
        "  def gradient(self, X, y_pred, y):\n",
        "    return -(2 * np.dot(X.T, (y-y_pred)) ) / y.shape[0] \n",
        "\n",
        "  def fit(self, x,y, lr=0.01, epochs=10):\n",
        "    self.intercept = np.ones((x.shape[0], 1))  \n",
        "    self.x = np.concatenate((self.intercept, x), axis=1)\n",
        "    self.weight = np.zeros(self.x.shape[1])\n",
        "    self.y = y\n",
        "    \n",
        "    for i in range(epochs):\n",
        "      y_pred = np.dot(self.x, self.weight)\n",
        "      \n",
        "      \n",
        "      loss = self.loss(self.y, y_pred)\n",
        "      print(f'loss:{loss}')\n",
        "      self.losses.append(loss)\n",
        "      \n",
        "      dW = self.gradient(self.x, y_pred, self.y)\n",
        "      print(f'dw:{dW}')\n",
        "      self.weight -= lr * dW\n",
        "      print(f'weight:{self.weight}')\n",
        "    \n",
        "    return print(f'LR fitted successfully')\n",
        "\n",
        "  def predict(self, x_new, treshold = 0.5):\n",
        "    intercept = np.ones((x_new.shape[0], 1))\n",
        "    x_new = np.concatenate((intercept, x_new), axis=1)\n",
        "    y_pred = np.dot(x_new, self.weight)\n",
        "    return y_pred\n",
        "  \n",
        "  @property\n",
        "  def get_coef(self):\n",
        "    return self.weight"
      ],
      "metadata": {
        "id": "lwoD7orQ-OZT"
      },
      "execution_count": null,
      "outputs": []
    }
  ],
  "metadata": {
    "colab": {
      "name": "Ayudantía1.ipynb",
      "provenance": [],
      "collapsed_sections": []
    },
    "kernelspec": {
      "display_name": "Python 3",
      "name": "python3"
    },
    "language_info": {
      "name": "python"
    },
    "widgets": {
      "application/vnd.jupyter.widget-state+json": {
        "7e3d54e3775e4de994962b5d74966737": {
          "model_module": "@jupyter-widgets/controls",
          "model_name": "VBoxModel",
          "model_module_version": "1.5.0",
          "state": {
            "_dom_classes": [
              "widget-interact"
            ],
            "_model_module": "@jupyter-widgets/controls",
            "_model_module_version": "1.5.0",
            "_model_name": "VBoxModel",
            "_view_count": null,
            "_view_module": "@jupyter-widgets/controls",
            "_view_module_version": "1.5.0",
            "_view_name": "VBoxView",
            "box_style": "",
            "children": [
              "IPY_MODEL_38c13e387fcb4848ba29a4cd2e90b3c7",
              "IPY_MODEL_f7c0526082ee426f82f727db4196757e",
              "IPY_MODEL_dedf8a0111f7448babf13a20434c6fdd"
            ],
            "layout": "IPY_MODEL_2776a0130a9d423db58ad04744821d44"
          }
        },
        "38c13e387fcb4848ba29a4cd2e90b3c7": {
          "model_module": "@jupyter-widgets/controls",
          "model_name": "FloatSliderModel",
          "model_module_version": "1.5.0",
          "state": {
            "_dom_classes": [],
            "_model_module": "@jupyter-widgets/controls",
            "_model_module_version": "1.5.0",
            "_model_name": "FloatSliderModel",
            "_view_count": null,
            "_view_module": "@jupyter-widgets/controls",
            "_view_module_version": "1.5.0",
            "_view_name": "FloatSliderView",
            "continuous_update": true,
            "description": "theta 0",
            "description_tooltip": null,
            "disabled": false,
            "layout": "IPY_MODEL_c840ddcb6cb641eb92bd5e186a3636c3",
            "max": 100,
            "min": -100,
            "orientation": "horizontal",
            "readout": true,
            "readout_format": ".2f",
            "step": 0.1,
            "style": "IPY_MODEL_d2feef48c045477bb9fe5f8b99174fb1",
            "value": -46
          }
        },
        "f7c0526082ee426f82f727db4196757e": {
          "model_module": "@jupyter-widgets/controls",
          "model_name": "FloatSliderModel",
          "model_module_version": "1.5.0",
          "state": {
            "_dom_classes": [],
            "_model_module": "@jupyter-widgets/controls",
            "_model_module_version": "1.5.0",
            "_model_name": "FloatSliderModel",
            "_view_count": null,
            "_view_module": "@jupyter-widgets/controls",
            "_view_module_version": "1.5.0",
            "_view_name": "FloatSliderView",
            "continuous_update": true,
            "description": "theta 1",
            "description_tooltip": null,
            "disabled": false,
            "layout": "IPY_MODEL_fa3a801992884f0fb64576d1c3609b79",
            "max": 1,
            "min": -1,
            "orientation": "horizontal",
            "readout": true,
            "readout_format": ".2f",
            "step": 0.1,
            "style": "IPY_MODEL_d6b22f3d1b4a4957bc50d2f39b2e55d6",
            "value": 0.5
          }
        },
        "dedf8a0111f7448babf13a20434c6fdd": {
          "model_module": "@jupyter-widgets/output",
          "model_name": "OutputModel",
          "model_module_version": "1.0.0",
          "state": {
            "_dom_classes": [],
            "_model_module": "@jupyter-widgets/output",
            "_model_module_version": "1.0.0",
            "_model_name": "OutputModel",
            "_view_count": null,
            "_view_module": "@jupyter-widgets/output",
            "_view_module_version": "1.0.0",
            "_view_name": "OutputView",
            "layout": "IPY_MODEL_7540f96bb4e84e058e78a149c213b077",
            "msg_id": "",
            "outputs": [
              {
                "output_type": "display_data",
                "data": {
                  "text/plain": "<Figure size 864x576 with 1 Axes>",
                  "image/png": "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\n"
                },
                "metadata": {
                  "needs_background": "light"
                }
              }
            ]
          }
        },
        "2776a0130a9d423db58ad04744821d44": {
          "model_module": "@jupyter-widgets/base",
          "model_name": "LayoutModel",
          "model_module_version": "1.2.0",
          "state": {
            "_model_module": "@jupyter-widgets/base",
            "_model_module_version": "1.2.0",
            "_model_name": "LayoutModel",
            "_view_count": null,
            "_view_module": "@jupyter-widgets/base",
            "_view_module_version": "1.2.0",
            "_view_name": "LayoutView",
            "align_content": null,
            "align_items": null,
            "align_self": null,
            "border": null,
            "bottom": null,
            "display": null,
            "flex": null,
            "flex_flow": null,
            "grid_area": null,
            "grid_auto_columns": null,
            "grid_auto_flow": null,
            "grid_auto_rows": null,
            "grid_column": null,
            "grid_gap": null,
            "grid_row": null,
            "grid_template_areas": null,
            "grid_template_columns": null,
            "grid_template_rows": null,
            "height": null,
            "justify_content": null,
            "justify_items": null,
            "left": null,
            "margin": null,
            "max_height": null,
            "max_width": null,
            "min_height": null,
            "min_width": null,
            "object_fit": null,
            "object_position": null,
            "order": null,
            "overflow": null,
            "overflow_x": null,
            "overflow_y": null,
            "padding": null,
            "right": null,
            "top": null,
            "visibility": null,
            "width": null
          }
        },
        "c840ddcb6cb641eb92bd5e186a3636c3": {
          "model_module": "@jupyter-widgets/base",
          "model_name": "LayoutModel",
          "model_module_version": "1.2.0",
          "state": {
            "_model_module": "@jupyter-widgets/base",
            "_model_module_version": "1.2.0",
            "_model_name": "LayoutModel",
            "_view_count": null,
            "_view_module": "@jupyter-widgets/base",
            "_view_module_version": "1.2.0",
            "_view_name": "LayoutView",
            "align_content": null,
            "align_items": null,
            "align_self": null,
            "border": null,
            "bottom": null,
            "display": null,
            "flex": null,
            "flex_flow": null,
            "grid_area": null,
            "grid_auto_columns": null,
            "grid_auto_flow": null,
            "grid_auto_rows": null,
            "grid_column": null,
            "grid_gap": null,
            "grid_row": null,
            "grid_template_areas": null,
            "grid_template_columns": null,
            "grid_template_rows": null,
            "height": null,
            "justify_content": null,
            "justify_items": null,
            "left": null,
            "margin": null,
            "max_height": null,
            "max_width": null,
            "min_height": null,
            "min_width": null,
            "object_fit": null,
            "object_position": null,
            "order": null,
            "overflow": null,
            "overflow_x": null,
            "overflow_y": null,
            "padding": null,
            "right": null,
            "top": null,
            "visibility": null,
            "width": null
          }
        },
        "d2feef48c045477bb9fe5f8b99174fb1": {
          "model_module": "@jupyter-widgets/controls",
          "model_name": "SliderStyleModel",
          "model_module_version": "1.5.0",
          "state": {
            "_model_module": "@jupyter-widgets/controls",
            "_model_module_version": "1.5.0",
            "_model_name": "SliderStyleModel",
            "_view_count": null,
            "_view_module": "@jupyter-widgets/base",
            "_view_module_version": "1.2.0",
            "_view_name": "StyleView",
            "description_width": "",
            "handle_color": null
          }
        },
        "fa3a801992884f0fb64576d1c3609b79": {
          "model_module": "@jupyter-widgets/base",
          "model_name": "LayoutModel",
          "model_module_version": "1.2.0",
          "state": {
            "_model_module": "@jupyter-widgets/base",
            "_model_module_version": "1.2.0",
            "_model_name": "LayoutModel",
            "_view_count": null,
            "_view_module": "@jupyter-widgets/base",
            "_view_module_version": "1.2.0",
            "_view_name": "LayoutView",
            "align_content": null,
            "align_items": null,
            "align_self": null,
            "border": null,
            "bottom": null,
            "display": null,
            "flex": null,
            "flex_flow": null,
            "grid_area": null,
            "grid_auto_columns": null,
            "grid_auto_flow": null,
            "grid_auto_rows": null,
            "grid_column": null,
            "grid_gap": null,
            "grid_row": null,
            "grid_template_areas": null,
            "grid_template_columns": null,
            "grid_template_rows": null,
            "height": null,
            "justify_content": null,
            "justify_items": null,
            "left": null,
            "margin": null,
            "max_height": null,
            "max_width": null,
            "min_height": null,
            "min_width": null,
            "object_fit": null,
            "object_position": null,
            "order": null,
            "overflow": null,
            "overflow_x": null,
            "overflow_y": null,
            "padding": null,
            "right": null,
            "top": null,
            "visibility": null,
            "width": null
          }
        },
        "d6b22f3d1b4a4957bc50d2f39b2e55d6": {
          "model_module": "@jupyter-widgets/controls",
          "model_name": "SliderStyleModel",
          "model_module_version": "1.5.0",
          "state": {
            "_model_module": "@jupyter-widgets/controls",
            "_model_module_version": "1.5.0",
            "_model_name": "SliderStyleModel",
            "_view_count": null,
            "_view_module": "@jupyter-widgets/base",
            "_view_module_version": "1.2.0",
            "_view_name": "StyleView",
            "description_width": "",
            "handle_color": null
          }
        },
        "7540f96bb4e84e058e78a149c213b077": {
          "model_module": "@jupyter-widgets/base",
          "model_name": "LayoutModel",
          "model_module_version": "1.2.0",
          "state": {
            "_model_module": "@jupyter-widgets/base",
            "_model_module_version": "1.2.0",
            "_model_name": "LayoutModel",
            "_view_count": null,
            "_view_module": "@jupyter-widgets/base",
            "_view_module_version": "1.2.0",
            "_view_name": "LayoutView",
            "align_content": null,
            "align_items": null,
            "align_self": null,
            "border": null,
            "bottom": null,
            "display": null,
            "flex": null,
            "flex_flow": null,
            "grid_area": null,
            "grid_auto_columns": null,
            "grid_auto_flow": null,
            "grid_auto_rows": null,
            "grid_column": null,
            "grid_gap": null,
            "grid_row": null,
            "grid_template_areas": null,
            "grid_template_columns": null,
            "grid_template_rows": null,
            "height": null,
            "justify_content": null,
            "justify_items": null,
            "left": null,
            "margin": null,
            "max_height": null,
            "max_width": null,
            "min_height": null,
            "min_width": null,
            "object_fit": null,
            "object_position": null,
            "order": null,
            "overflow": null,
            "overflow_x": null,
            "overflow_y": null,
            "padding": null,
            "right": null,
            "top": null,
            "visibility": null,
            "width": null
          }
        }
      }
    }
  },
  "nbformat": 4,
  "nbformat_minor": 0
}