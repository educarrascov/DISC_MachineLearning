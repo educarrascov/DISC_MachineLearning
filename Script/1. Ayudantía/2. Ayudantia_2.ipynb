{
  "nbformat": 4,
  "nbformat_minor": 0,
  "metadata": {
    "colab": {
      "name": "Ayundatía 2.ipynb",
      "provenance": []
    },
    "kernelspec": {
      "name": "python3",
      "display_name": "Python 3"
    },
    "language_info": {
      "name": "python"
    }
  },
  "cells": [
    {
      "cell_type": "markdown",
      "source": [
        "# Random Forest\n",
        "(Bagging = Bootstrap Aggregating)\n",
        "\n",
        "Bootstrapping: Aleatoriezar la entrada de datos. Paa cada árbol de decisión (DT) un \"nuevo dataset\" es formado del original. Los datos son elegidas desde las columnas con muestreo aleatorio con reemplazo.\n",
        "Aggregating: cada árbol posee un \"voto\", la predicción se hace votando ."
      ],
      "metadata": {
        "id": "U-0VGxW43sF0"
      }
    },
    {
      "cell_type": "code",
      "source": [
        "# Importando dependencias\n",
        "import matplotlib.pyplot as plt\n",
        "%matplotlib inline\n",
        "\n",
        "from time import time\n",
        "from pandas import read_csv\n",
        "from numpy import arange\n",
        "\n",
        "## Pre-processing functions\n",
        "from sklearn.preprocessing import StandardScaler\n",
        "from sklearn.model_selection import train_test_split\n",
        "\n",
        "## Model\n",
        "from sklearn.ensemble import RandomForestClassifier, AdaBoostClassifier, GradientBoostingClassifier\n",
        "import xgboost as xgb\n",
        "\n",
        "## Tree display\n",
        "from sklearn.tree import plot_tree\n",
        "\n",
        "## Cross-Validation\n",
        "from sklearn.model_selection import StratifiedShuffleSplit\n",
        "\n",
        "## Search\n",
        "from sklearn.model_selection import GridSearchCV\n",
        "\n",
        "## Metrics\n",
        "from sklearn.metrics import classification_report, plot_confusion_matrix"
      ],
      "metadata": {
        "id": "qjJ34QnP3nlW"
      },
      "execution_count": 46,
      "outputs": []
    },
    {
      "cell_type": "markdown",
      "source": [
        "### Data loading\n",
        "\n",
        "Source: [Breast Cancer Coimbra](https://archive.ics.uci.edu/ml/datasets/Breast+Cancer+Coimbra)"
      ],
      "metadata": {
        "id": "1QNSvyet5y6a"
      }
    },
    {
      "cell_type": "code",
      "source": [
        "# cargar datos\n",
        "data = read_csv('https://archive.ics.uci.edu/ml/machine-learning-databases/00451/dataR2.csv')\n",
        "feature_names = data.columns[:-1]"
      ],
      "metadata": {
        "id": "y4SL5AXv3rDP"
      },
      "execution_count": 47,
      "outputs": []
    },
    {
      "cell_type": "code",
      "source": [
        "data.info()"
      ],
      "metadata": {
        "colab": {
          "base_uri": "https://localhost:8080/"
        },
        "id": "vKkPp8zS3rA5",
        "outputId": "aa9db80f-e67e-4e4e-e1d8-3a8699bdcf44"
      },
      "execution_count": 48,
      "outputs": [
        {
          "output_type": "stream",
          "name": "stdout",
          "text": [
            "<class 'pandas.core.frame.DataFrame'>\n",
            "RangeIndex: 116 entries, 0 to 115\n",
            "Data columns (total 10 columns):\n",
            " #   Column          Non-Null Count  Dtype  \n",
            "---  ------          --------------  -----  \n",
            " 0   Age             116 non-null    int64  \n",
            " 1   BMI             116 non-null    float64\n",
            " 2   Glucose         116 non-null    int64  \n",
            " 3   Insulin         116 non-null    float64\n",
            " 4   HOMA            116 non-null    float64\n",
            " 5   Leptin          116 non-null    float64\n",
            " 6   Adiponectin     116 non-null    float64\n",
            " 7   Resistin        116 non-null    float64\n",
            " 8   MCP.1           116 non-null    float64\n",
            " 9   Classification  116 non-null    int64  \n",
            "dtypes: float64(7), int64(3)\n",
            "memory usage: 9.2 KB\n"
          ]
        }
      ]
    },
    {
      "cell_type": "markdown",
      "source": [
        "### Data pre-processing"
      ],
      "metadata": {
        "id": "MU6Wlx1p6T-i"
      }
    },
    {
      "cell_type": "code",
      "source": [
        "#para repetibilidad \n",
        "seed= 20220824\n",
        "## Predictors and target assignment\n",
        "X = data.drop(columns=['Classification'])\n",
        "y = data['Classification']\n",
        "\n",
        "## Partition sets\n",
        "X_train, X_test, y_train, y_test = train_test_split(X, y, random_state=seed)\n",
        "\n",
        "\n",
        "## Display data shape\n",
        "print('(train shape) X: {}, y: {}'.format(X_train.shape, y_train.shape))\n",
        "print('(test shape) X: {}, y: {}'.format(X_test.shape, y_test.shape))"
      ],
      "metadata": {
        "colab": {
          "base_uri": "https://localhost:8080/"
        },
        "id": "MreX8wIP3q-M",
        "outputId": "a2297310-9e94-4e3a-d255-b8238ed090c9"
      },
      "execution_count": 49,
      "outputs": [
        {
          "output_type": "stream",
          "name": "stdout",
          "text": [
            "(train shape) X: (87, 9), y: (87,)\n",
            "(test shape) X: (29, 9), y: (29,)\n"
          ]
        }
      ]
    },
    {
      "cell_type": "code",
      "source": [
        "#import warnings\n",
        "#warnings.filterwarnings('ignore')\n",
        "\n",
        "start = time()\n",
        "\n",
        "## Cross-Validation's method instance\n",
        "cvs = StratifiedShuffleSplit(n_splits=5, train_size=0.7)\n",
        "\n",
        "## Parameter-space for searching\n",
        "param ={'min_samples_split': arange(1, 25),\n",
        "        'max_depth': arange(1, 10)\n",
        "       }\n",
        "\n",
        "## Best model estimation by gridsearchcv\n",
        "GS = GridSearchCV(estimator=RandomForestClassifier(criterion='entropy', n_estimators=50), \n",
        "                  cv=cvs, n_jobs=-1, \n",
        "                  param_grid=param,\n",
        "                  scoring='roc_auc').fit(X=X_train, y=y_train)\n",
        "\n",
        "## Display best model's hyperparameters\n",
        "print('Best hyperparameters: {}'.format(GS.best_params_))\n",
        "\n",
        "timeUp = time()-start\n",
        "print('Time spent: {:.2f} seconds'.format(timeUp))"
      ],
      "metadata": {
        "colab": {
          "base_uri": "https://localhost:8080/"
        },
        "id": "4ILYWp-o3q7j",
        "outputId": "bdaa2a3e-f451-42d5-db83-064eaab4c857"
      },
      "execution_count": 50,
      "outputs": [
        {
          "output_type": "stream",
          "name": "stdout",
          "text": [
            "Best hyperparameters: {'max_depth': 3, 'min_samples_split': 11}\n",
            "Time spent: 72.90 seconds\n"
          ]
        }
      ]
    },
    {
      "cell_type": "code",
      "source": [
        "## Compute score\n",
        "GS.score(X_test, y_test)"
      ],
      "metadata": {
        "colab": {
          "base_uri": "https://localhost:8080/"
        },
        "id": "gd7idJ0B3q40",
        "outputId": "c146be29-d40d-4c17-fd82-1815169f82d1"
      },
      "execution_count": 51,
      "outputs": [
        {
          "output_type": "execute_result",
          "data": {
            "text/plain": [
              "0.8080808080808081"
            ]
          },
          "metadata": {},
          "execution_count": 51
        }
      ]
    },
    {
      "cell_type": "code",
      "source": [
        "def plot_feature_importances(model, features, width=10, height=6):\n",
        "    \"\"\"\n",
        "        DESCRIPTION:\n",
        "            Feature importance display function\n",
        "        \n",
        "        INPUT:\n",
        "            @param model: Decision tree regression model\n",
        "            @type model: sklearn.DecisionTreeRegressor\n",
        "            \n",
        "            @param features: feature names\n",
        "            @type features: list\n",
        "            \n",
        "            @param width: width of the display space (default 10)\n",
        "            @type width: int\n",
        "            \n",
        "            @param height: height of the display space (default 8)\n",
        "            @type height: int\n",
        "        \n",
        "        OUTPUT:\n",
        "            A graphic of feature importance\n",
        "    \"\"\"\n",
        "    \n",
        "    ## Number of features\n",
        "    n_features = len(features)\n",
        "    \n",
        "    ## Feature importance display\n",
        "    plt.figure(figsize=(width, height))\n",
        "    plt.barh(range(n_features), model.feature_importances_, align='center')\n",
        "    plt.yticks(arange(n_features), features)\n",
        "    plt.xlabel(\"Feature importance\")\n",
        "    plt.ylabel(\"Feature\")\n",
        "    plt.ylim(-1, n_features)"
      ],
      "metadata": {
        "id": "_6omjtki3q2L"
      },
      "execution_count": 10,
      "outputs": []
    },
    {
      "cell_type": "code",
      "source": [
        "## Fitting a model with best parameters\n",
        "model = RandomForestClassifier(**GS.best_params_).fit(X=X_train, y=y_train)\n",
        "\n",
        "## Compute score using train set\n",
        "print('{} (Train): {:.4f}'.format(model.criterion, model.score(X=X_train, y=y_train)))\n",
        "\n",
        "## Compute score using test set\n",
        "print('{} (Test): {:.4f}'.format(model.criterion, model.score(X=X_test, y=y_test)))\n",
        "\n",
        "## feature importances display\n",
        "plot_feature_importances(model, feature_names)"
      ],
      "metadata": {
        "colab": {
          "base_uri": "https://localhost:8080/",
          "height": 423
        },
        "id": "ZqbaP-4Y3qzb",
        "outputId": "3e047681-cfdc-4ed3-fc65-f68e94cc9e7b"
      },
      "execution_count": 52,
      "outputs": [
        {
          "output_type": "stream",
          "name": "stdout",
          "text": [
            "gini (Train): 0.8966\n",
            "gini (Test): 0.7241\n"
          ]
        },
        {
          "output_type": "display_data",
          "data": {
            "text/plain": [
              "<Figure size 720x432 with 1 Axes>"
            ],
            "image/png": "[encoded data removed]"
          },
          "metadata": {
            "needs_background": "light"
          }
        }
      ]
    },
    {
      "cell_type": "code",
      "source": [
        "## compute prediction\n",
        "prediction = model.predict(X_test)\n",
        "\n",
        "## display classification report\n",
        "print(classification_report(y_pred=prediction, y_true=y_test))\n",
        "\n",
        "## Display confusion matrix\n",
        "plot_confusion_matrix(estimator=model, X=X_test, y_true=y_test);"
      ],
      "metadata": {
        "colab": {
          "base_uri": "https://localhost:8080/",
          "height": 439
        },
        "id": "ImVmw_Wn3qw1",
        "outputId": "2a0f689f-48fd-4abb-cdff-42c2b33d4347"
      },
      "execution_count": 53,
      "outputs": [
        {
          "output_type": "stream",
          "name": "stdout",
          "text": [
            "              precision    recall  f1-score   support\n",
            "\n",
            "           1       0.64      0.64      0.64        11\n",
            "           2       0.78      0.78      0.78        18\n",
            "\n",
            "    accuracy                           0.72        29\n",
            "   macro avg       0.71      0.71      0.71        29\n",
            "weighted avg       0.72      0.72      0.72        29\n",
            "\n"
          ]
        },
        {
          "output_type": "display_data",
          "data": {
            "text/plain": [
              "<Figure size 432x288 with 2 Axes>"
            ],
            "image/png": "[encoded data removed]"
          },
          "metadata": {
            "needs_background": "light"
          }
        }
      ]
    },
    {
      "cell_type": "markdown",
      "source": [
        "### Ada Boost Classifier"
      ],
      "metadata": {
        "id": "NjsAdpgTFNKh"
      }
    },
    {
      "cell_type": "code",
      "source": [
        "## Cross-Validation's method instance\n",
        "cvs = StratifiedShuffleSplit(n_splits=5, train_size=0.7)\n",
        "\n",
        "## Parameter-space for searching\n",
        "param ={'n_estimators': arange(25, 100, 5),\n",
        "        'learning_rate': arange(0.1, 1.1, 0.1)\n",
        "       }\n",
        "\n",
        "## Best model estimation by gridsearchcv\n",
        "GS = GridSearchCV(estimator=AdaBoostClassifier(), \n",
        "                  cv=cvs, n_jobs=-1, \n",
        "                  param_grid=param,\n",
        "                  scoring='roc_auc').fit(X=X_train, y=y_train)\n",
        "\n",
        "## Display best model's hyperparameters\n",
        "print('Best hyperparameters: {}'.format(GS.best_params_))\n",
        "\n",
        "timeUp = time()-start\n",
        "print('Time spent: {:.2f} seconds'.format(timeUp))"
      ],
      "metadata": {
        "colab": {
          "base_uri": "https://localhost:8080/"
        },
        "id": "0-DJ5bbz3quG",
        "outputId": "36c145b9-fb07-4736-82c2-bd9ff6653d29"
      },
      "execution_count": 14,
      "outputs": [
        {
          "output_type": "stream",
          "name": "stdout",
          "text": [
            "Best hyperparameters: {'learning_rate': 0.1, 'n_estimators': 65}\n",
            "Time spent: 669.39 seconds\n"
          ]
        }
      ]
    },
    {
      "cell_type": "code",
      "source": [
        "## Compute score\n",
        "GS.score(X_test, y_test)"
      ],
      "metadata": {
        "colab": {
          "base_uri": "https://localhost:8080/"
        },
        "id": "cUqysRXP3qrJ",
        "outputId": "f208d04f-b5f1-4d25-c52d-c838c472dc6b"
      },
      "execution_count": 15,
      "outputs": [
        {
          "output_type": "execute_result",
          "data": {
            "text/plain": [
              "0.8207070707070708"
            ]
          },
          "metadata": {},
          "execution_count": 15
        }
      ]
    },
    {
      "cell_type": "code",
      "source": [
        "## Fitting a model with best parameters\n",
        "model = AdaBoostClassifier(**GS.best_params_).fit(X=X_train, y=y_train)\n",
        "\n",
        "## Compute score using train set\n",
        "print('(Train): {:.4f}'.format(model.score(X=X_train, y=y_train)))\n",
        "\n",
        "## Compute score using test set\n",
        "print('(Test): {:.4f}'.format(model.score(X=X_test, y=y_test)))\n",
        "\n",
        "## feature importances display\n",
        "plot_feature_importances(model, feature_names)"
      ],
      "metadata": {
        "colab": {
          "base_uri": "https://localhost:8080/",
          "height": 423
        },
        "id": "tnIBIXsH3qnt",
        "outputId": "7934fcef-7899-4e84-97b0-137698f79239"
      },
      "execution_count": 16,
      "outputs": [
        {
          "output_type": "stream",
          "name": "stdout",
          "text": [
            "(Train): 0.9080\n",
            "(Test): 0.7931\n"
          ]
        },
        {
          "output_type": "display_data",
          "data": {
            "text/plain": [
              "<Figure size 720x432 with 1 Axes>"
            ],
            "image/png": "[encoded data removed]"
          },
          "metadata": {
            "needs_background": "light"
          }
        }
      ]
    },
    {
      "cell_type": "code",
      "source": [
        "## compute prediction\n",
        "prediction = model.predict(X_test)\n",
        "\n",
        "## display classification report\n",
        "print(classification_report(y_pred=prediction, y_true=y_test))\n",
        "\n",
        "## Display confusion matrix\n",
        "plot_confusion_matrix(estimator=model, X=X_test, y_true=y_test);"
      ],
      "metadata": {
        "colab": {
          "base_uri": "https://localhost:8080/",
          "height": 435
        },
        "id": "-jPaClmd3qkv",
        "outputId": "03f05da9-c776-46e0-f6c2-8aec3fef8d44"
      },
      "execution_count": 17,
      "outputs": [
        {
          "output_type": "stream",
          "name": "stdout",
          "text": [
            "              precision    recall  f1-score   support\n",
            "\n",
            "           1       0.86      0.55      0.67        11\n",
            "           2       0.77      0.94      0.85        18\n",
            "\n",
            "    accuracy                           0.79        29\n",
            "   macro avg       0.81      0.74      0.76        29\n",
            "weighted avg       0.80      0.79      0.78        29\n",
            "\n"
          ]
        },
        {
          "output_type": "display_data",
          "data": {
            "text/plain": [
              "<Figure size 432x288 with 2 Axes>"
            ],
            "image/png": "[encoded data removed]"
          },
          "metadata": {
            "needs_background": "light"
          }
        }
      ]
    },
    {
      "cell_type": "markdown",
      "source": [
        "### Gradient Boosting Machine"
      ],
      "metadata": {
        "id": "257-9IQJbbXN"
      }
    },
    {
      "cell_type": "code",
      "source": [
        "### Gradient Boosting Machine\n",
        "start = time()\n",
        "\n",
        "## Cross-Validation's method instance\n",
        "cvs = StratifiedShuffleSplit(n_splits=5, train_size=0.7)\n",
        "\n",
        "## Parameter-space for searching\n",
        "param ={'n_estimators': arange(25, 200, 25),\n",
        "        'learning_rate': arange(0.1, 1.1, 0.1),\n",
        "        'subsample': [0.5, 0.75, 1.0], \n",
        "        'max_depth': arange(1,5)\n",
        "       }\n",
        "\n",
        "## Best model estimation by gridsearchcv\n",
        "GS = GridSearchCV(estimator=GradientBoostingClassifier(), \n",
        "                  cv=cvs, n_jobs=-1, \n",
        "                  param_grid=param,\n",
        "                  scoring='roc_auc').fit(X=X_train, y=y_train)\n",
        "\n",
        "## Display best model's hyperparameters\n",
        "print('Best hyperparameters: {}'.format(GS.best_params_))\n",
        "\n",
        "timeUp = time()-start\n",
        "print('Time spent: {:.2f} seconds'.format(timeUp))"
      ],
      "metadata": {
        "colab": {
          "base_uri": "https://localhost:8080/"
        },
        "id": "lipg9vrzGZDw",
        "outputId": "db488864-5aab-4308-a339-59079874e28a"
      },
      "execution_count": 18,
      "outputs": [
        {
          "output_type": "stream",
          "name": "stdout",
          "text": [
            "Best hyperparameters: {'learning_rate': 0.1, 'max_depth': 2, 'n_estimators': 50, 'subsample': 0.75}\n",
            "Time spent: 197.77 seconds\n"
          ]
        }
      ]
    },
    {
      "cell_type": "code",
      "source": [
        "## Compute score\n",
        "GS.score(X_test, y_test)"
      ],
      "metadata": {
        "colab": {
          "base_uri": "https://localhost:8080/"
        },
        "id": "oPyItb25GZBc",
        "outputId": "dcaddd94-091b-4ed1-e246-b3e8e036ca19"
      },
      "execution_count": 19,
      "outputs": [
        {
          "output_type": "execute_result",
          "data": {
            "text/plain": [
              "0.8282828282828283"
            ]
          },
          "metadata": {},
          "execution_count": 19
        }
      ]
    },
    {
      "cell_type": "code",
      "source": [
        "## Fitting a model with best parameters\n",
        "model = GradientBoostingClassifier(**GS.best_params_).fit(X=X_train, y=y_train)\n",
        "\n",
        "## Compute score using train set\n",
        "print('(Train): {:.4f}'.format(model.score(X=X_train, y=y_train)))\n",
        "\n",
        "## Compute score using test set\n",
        "print('(Test): {:.4f}'.format(model.score(X=X_test, y=y_test)))\n",
        "\n",
        "## feature importances display\n",
        "plot_feature_importances(model, feature_names)"
      ],
      "metadata": {
        "colab": {
          "base_uri": "https://localhost:8080/",
          "height": 423
        },
        "id": "fYaFtoLkGY-y",
        "outputId": "014de8df-d846-4f36-d329-19574d36af36"
      },
      "execution_count": 20,
      "outputs": [
        {
          "output_type": "stream",
          "name": "stdout",
          "text": [
            "(Train): 1.0000\n",
            "(Test): 0.7586\n"
          ]
        },
        {
          "output_type": "display_data",
          "data": {
            "text/plain": [
              "<Figure size 720x432 with 1 Axes>"
            ],
            "image/png": "[encoded data removed]"
          },
          "metadata": {
            "needs_background": "light"
          }
        }
      ]
    },
    {
      "cell_type": "markdown",
      "source": [
        "## Extreme Gradient Boosting Machine \n",
        "  - Version 0.90\n",
        "\n",
        "Another example: https://www.kaggle.com/code/stuarthallows/using-xgboost-with-scikit-learn/notebook\n",
        "\n",
        "Hyperparameters' list:\n",
        "https://xgboost.readthedocs.io/en/latest/parameter.html#general-parameters"
      ],
      "metadata": {
        "id": "mrrzylB_IGfE"
      }
    },
    {
      "cell_type": "code",
      "source": [
        "start = time()\n",
        "\n",
        "## Cross-Validation's method instance\n",
        "cvs = StratifiedShuffleSplit(n_splits=5, train_size=0.7)\n",
        "\n",
        "## Parameter-space for searching\n",
        "param ={'n_estimators': arange(25, 200, 25),\n",
        "        'learning_rate': arange(0.1, 1.1, 0.1),\n",
        "        'subsample': [0.5, 0.75, 1.0], \n",
        "        'max_depth': arange(1,5)\n",
        "       }\n",
        "\n",
        "## Best model estimation by gridsearchcv\n",
        "GS = GridSearchCV(estimator=xgb.XGBClassifier(), \n",
        "                  cv=cvs, n_jobs=-1, \n",
        "                  param_grid=param,\n",
        "                  scoring='roc_auc', refit=True,\n",
        "                  ).fit(X=X_train, y=y_train)\n",
        "\n",
        "## Display best model's hyperparameters\n",
        "print('Best hyperparameters: {}'.format(GS.best_params_))\n",
        "\n",
        "timeUp = time()-start\n",
        "print('Time spent: {:.2f} seconds'.format(timeUp))"
      ],
      "metadata": {
        "colab": {
          "base_uri": "https://localhost:8080/"
        },
        "id": "FtT-gEdHGY7J",
        "outputId": "c7b52d22-07cb-4794-eebb-7f80e5b00388"
      },
      "execution_count": 21,
      "outputs": [
        {
          "output_type": "stream",
          "name": "stdout",
          "text": [
            "Best hyperparameters: {'learning_rate': 0.1, 'max_depth': 2, 'n_estimators': 100, 'subsample': 1.0}\n",
            "Time spent: 53.56 seconds\n"
          ]
        }
      ]
    },
    {
      "cell_type": "code",
      "source": [
        "## compute prediction\n",
        "prediction = model.predict(X_test)\n",
        "\n",
        "## display classification report\n",
        "print(classification_report(y_pred=prediction, y_true=y_test))\n",
        "\n",
        "## Display confusion matrix\n",
        "plot_confusion_matrix(estimator=model, X=X_test, y_true=y_test);"
      ],
      "metadata": {
        "colab": {
          "base_uri": "https://localhost:8080/",
          "height": 435
        },
        "id": "GkUsAVVdGYtf",
        "outputId": "0df9ce0a-c839-40cd-c61d-3746577e3297"
      },
      "execution_count": 22,
      "outputs": [
        {
          "output_type": "stream",
          "name": "stdout",
          "text": [
            "              precision    recall  f1-score   support\n",
            "\n",
            "           1       0.70      0.64      0.67        11\n",
            "           2       0.79      0.83      0.81        18\n",
            "\n",
            "    accuracy                           0.76        29\n",
            "   macro avg       0.74      0.73      0.74        29\n",
            "weighted avg       0.76      0.76      0.76        29\n",
            "\n"
          ]
        },
        {
          "output_type": "display_data",
          "data": {
            "text/plain": [
              "<Figure size 432x288 with 2 Axes>"
            ],
            "image/png": "[encoded data removed]"
          },
          "metadata": {
            "needs_background": "light"
          }
        }
      ]
    },
    {
      "cell_type": "markdown",
      "source": [],
      "metadata": {
        "id": "Gzzhls1LJFTm"
      }
    },
    {
      "cell_type": "code",
      "source": [
        "\n",
        "#para trabajar con modelos como regresión lineal\n",
        "## Estandarizamos los datos\n",
        "scale = StandardScaler().fit(X_train)\n",
        "X_train = scale.transform(X_train)\n",
        "X_test = scale.transform(X_test)"
      ],
      "metadata": {
        "id": "YugOcInLJG3w"
      },
      "execution_count": 23,
      "outputs": []
    },
    {
      "cell_type": "markdown",
      "source": [
        "### Aplicación de metodos de Cross-Validation"
      ],
      "metadata": {
        "id": "GwQKbsxtJTzB"
      }
    },
    {
      "cell_type": "code",
      "source": [
        "from numpy import linspace, argmin\n",
        "from scipy.stats import uniform\n",
        "## Modelos\n",
        "from sklearn.linear_model import LogisticRegression\n",
        "## Cross-Validation\n",
        "from sklearn.model_selection import cross_val_score\n",
        "from sklearn.model_selection import KFold, LeaveOneOut, RepeatedKFold, ShuffleSplit, StratifiedKFold, StratifiedShuffleSplit\n",
        "\n",
        "## Metricas\n",
        "from sklearn.metrics import accuracy_score, precision_score, recall_score, classification_report\n",
        "from sklearn.metrics import precision_recall_curve, roc_curve\n",
        "\n",
        "## Instancias de los metodos de Cross-validation\n",
        "CVs = {'KFold': KFold(n_splits=5, shuffle=True, random_state=0), \n",
        "       'LeaveOneOut': LeaveOneOut(),\n",
        "       'RepeatedKFold': RepeatedKFold(n_splits=5, n_repeats=2, random_state=0),\n",
        "       'ShuffleSplit': ShuffleSplit(n_splits=5, train_size=0.7, random_state=0), \n",
        "       'StratifiedKFold': StratifiedKFold(n_splits=5, shuffle=True, random_state=0),\n",
        "       'StratifiedShuffleSplit': StratifiedShuffleSplit(n_splits=5, train_size=0.7, random_state=0)\n",
        "      }"
      ],
      "metadata": {
        "id": "aFPecvtgJV3l"
      },
      "execution_count": 54,
      "outputs": []
    },
    {
      "cell_type": "code",
      "source": [
        "## Instancia del modelo\n",
        "model = LogisticRegression()\n",
        "\n",
        "## Computamos los scores con cada metodo de Cross-validation\n",
        "for name in CVs.keys():\n",
        "    \n",
        "    ## Computo de los scores\n",
        "    scores = cross_val_score(estimator=model, X=X_train, y=y_train, \n",
        "                             n_jobs=-1, cv=CVs[name])\n",
        "    \n",
        "    ## Imprimir la media y varianza de los scores\n",
        "    print('CV: {:>23s}, Mean Scores: {:.4f}, Variance Scores:{:.4f}'.format(name, \n",
        "                                                                            scores.mean(), \n",
        "                                                                            scores.var()))"
      ],
      "metadata": {
        "colab": {
          "base_uri": "https://localhost:8080/"
        },
        "id": "PSMQiqRBJxO1",
        "outputId": "becff2e1-e623-47b7-dfab-2193d195a74a"
      },
      "execution_count": 55,
      "outputs": [
        {
          "output_type": "stream",
          "name": "stdout",
          "text": [
            "CV:                   KFold, Mean Scores: 0.6686, Variance Scores:0.0056\n",
            "CV:             LeaveOneOut, Mean Scores: 0.7126, Variance Scores:0.2048\n",
            "CV:           RepeatedKFold, Mean Scores: 0.6853, Variance Scores:0.0051\n",
            "CV:            ShuffleSplit, Mean Scores: 0.6074, Variance Scores:0.0009\n",
            "CV:         StratifiedKFold, Mean Scores: 0.7242, Variance Scores:0.0100\n",
            "CV:  StratifiedShuffleSplit, Mean Scores: 0.7407, Variance Scores:0.0082\n"
          ]
        }
      ]
    },
    {
      "cell_type": "code",
      "source": [
        "## Ajuste del modelo con train data\n",
        "model.fit(X=X_train, y=y_train)\n",
        "\n",
        "## Computo de precision, recall y threshold (Solo para Binary Class)\n",
        "precision, recall, thresholds = precision_recall_curve(y_true=y_test-1,\n",
        "                                                       probas_pred=model.decision_function(X_test))\n",
        "\n",
        "## Find threshold closest to zero\n",
        "close_zero = argmin(abs(thresholds))\n",
        "\n",
        "## Find best threshold closest to upper-right corner, i.e (1,1)-coordenate\n",
        "(x,y) = (1,1)\n",
        "\n",
        "distance = []\n",
        "for a, b in zip(precision, recall):\n",
        "    distance.append( ((x-a)**2 + (y-b)**2)**(0.5) )\n",
        "best = argmin(distance)\n",
        "\n",
        "## Display Precision-Recall curve\n",
        "plt.figure(figsize=(10, 4))\n",
        "plt.plot(recall[close_zero], precision[close_zero], 'o', markersize=10,\n",
        "         label=\"threshold zero\", fillstyle=\"none\", c='k', mew=2)\n",
        "\n",
        "plt.plot(recall[best], precision[best], 'o', markersize=10,\n",
        "         label=\"best threshold\", fillstyle=\"none\", c='r', mew=2)\n",
        "\n",
        "plt.plot(recall, precision, 'bo-', label=\"precision recall curve\", markersize=5)\n",
        "plt.ylabel(\"Precision\")\n",
        "plt.xlabel(\"Recall\")\n",
        "plt.legend(loc=\"best\")\n",
        "plt.grid()\n",
        "plt.show()"
      ],
      "metadata": {
        "colab": {
          "base_uri": "https://localhost:8080/",
          "height": 279
        },
        "id": "pNjAY_kYJxIX",
        "outputId": "7e7af85b-f72b-4eff-fa63-2176e0148829"
      },
      "execution_count": 34,
      "outputs": [
        {
          "output_type": "display_data",
          "data": {
            "text/plain": [
              "<Figure size 720x288 with 1 Axes>"
            ],
            "image/png": "[encoded data removed]"
          },
          "metadata": {
            "needs_background": "light"
          }
        }
      ]
    },
    {
      "cell_type": "markdown",
      "source": [
        "### GridSearch + Cross Validation"
      ],
      "metadata": {
        "id": "VViyTkbWKydV"
      }
    },
    {
      "cell_type": "code",
      "source": [
        "## Espacio de parametros\n",
        "param = {'C': linspace(0.001, 10, 100)}\n",
        "\n",
        "## Instancia del metodo Cross-Validation\n",
        "cvs = StratifiedShuffleSplit(n_splits=10, train_size=0.7, random_state=0)\n",
        "\n",
        "## Instancia del modelo\n",
        "model = LogisticRegression(n_jobs=-1, solver='newton-cg', max_iter=10000)\n",
        "\n",
        "## Instancia y ajuste del grid search\n",
        "gs = GridSearchCV(estimator=model, param_grid=param, n_jobs=-1).fit(X=X_train, y=y_train)\n",
        "\n",
        "## Imprimir el mejor C encontrado y el score asociado\n",
        "print('El mejor C encontrado es: {:.4f}. Score: {:.4f}'.format(gs.best_params_['C'], \n",
        "                                                               gs.best_score_))"
      ],
      "metadata": {
        "colab": {
          "base_uri": "https://localhost:8080/"
        },
        "id": "XAcJdC2_KyET",
        "outputId": "4aa5f637-a339-449c-8f6a-6e8bd8655f15"
      },
      "execution_count": 35,
      "outputs": [
        {
          "output_type": "stream",
          "name": "stdout",
          "text": [
            "El mejor C encontrado es: 0.2030. Score: 0.7039\n"
          ]
        }
      ]
    },
    {
      "cell_type": "code",
      "source": [
        "## Imprimir el mejor modelo\n",
        "gs.best_estimator_"
      ],
      "metadata": {
        "colab": {
          "base_uri": "https://localhost:8080/"
        },
        "id": "Z0O9FcH-K63F",
        "outputId": "1d0e282a-db60-4e55-f9ed-2213105cfe94"
      },
      "execution_count": 36,
      "outputs": [
        {
          "output_type": "execute_result",
          "data": {
            "text/plain": [
              "LogisticRegression(C=0.203, max_iter=10000, n_jobs=-1, solver='newton-cg')"
            ]
          },
          "metadata": {},
          "execution_count": 36
        }
      ]
    },
    {
      "cell_type": "code",
      "source": [
        "## Evaluamos el score en el test data en el mejor modelo\n",
        "gs.score(X=X_test, y=y_test)"
      ],
      "metadata": {
        "colab": {
          "base_uri": "https://localhost:8080/"
        },
        "id": "HYD4U41MK6uv",
        "outputId": "d8e117b8-608e-4a98-db77-6920205e22f2"
      },
      "execution_count": 37,
      "outputs": [
        {
          "output_type": "execute_result",
          "data": {
            "text/plain": [
              "0.7241379310344828"
            ]
          },
          "metadata": {},
          "execution_count": 37
        }
      ]
    },
    {
      "cell_type": "markdown",
      "source": [
        "### RandomSearch + Cross Validation"
      ],
      "metadata": {
        "id": "hWt4KRg_L56r"
      }
    },
    {
      "cell_type": "code",
      "source": [
        "from sklearn.model_selection import RandomizedSearchCV\n",
        "## Espacio de parametros\n",
        "param = {'C': uniform(0,100)}\n",
        "\n",
        "## Instancia del metodo Cross-Validation\n",
        "cvs = StratifiedShuffleSplit(n_splits=15, train_size=0.7, random_state=0)\n",
        "\n",
        "## Instancia del modelo\n",
        "model = LogisticRegression(n_jobs=-1, solver='newton-cg', max_iter=10000)\n",
        "\n",
        "## Instancia y ajuste del random search\n",
        "gs = RandomizedSearchCV(estimator=model, \n",
        "                        param_distributions=param, \n",
        "                        n_jobs=-1, n_iter=100).fit(X=X_train, y=y_train)\n",
        "\n",
        "## Imprimir el mejor C encontrado y el score asociado\n",
        "print('El mejor C encontrado es: {:.4f}. Score: {:.4f}'.format(gs.best_params_['C'], \n",
        "                                                               gs.best_score_))"
      ],
      "metadata": {
        "colab": {
          "base_uri": "https://localhost:8080/"
        },
        "id": "eWlem38hK6kp",
        "outputId": "ab6ce671-bc10-4660-ea0e-ed7577f2e717"
      },
      "execution_count": 39,
      "outputs": [
        {
          "output_type": "stream",
          "name": "stdout",
          "text": [
            "El mejor C encontrado es: 1.2314. Score: 0.7033\n"
          ]
        }
      ]
    },
    {
      "cell_type": "code",
      "source": [
        "## Imprimir el mejor modelo\n",
        "gs.best_estimator_"
      ],
      "metadata": {
        "colab": {
          "base_uri": "https://localhost:8080/"
        },
        "id": "bwAAnuKFMM_z",
        "outputId": "ba2afbc9-5705-4394-f72e-e22a944c447d"
      },
      "execution_count": 40,
      "outputs": [
        {
          "output_type": "execute_result",
          "data": {
            "text/plain": [
              "LogisticRegression(C=1.2314496206854986, max_iter=10000, n_jobs=-1,\n",
              "                   solver='newton-cg')"
            ]
          },
          "metadata": {},
          "execution_count": 40
        }
      ]
    },
    {
      "cell_type": "code",
      "source": [
        "gs.score(X=X_test, y=y_test)"
      ],
      "metadata": {
        "colab": {
          "base_uri": "https://localhost:8080/"
        },
        "id": "s9IQ2RKvMMzl",
        "outputId": "3a4755c2-36f7-487e-dfea-869501849740"
      },
      "execution_count": 41,
      "outputs": [
        {
          "output_type": "execute_result",
          "data": {
            "text/plain": [
              "0.7241379310344828"
            ]
          },
          "metadata": {},
          "execution_count": 41
        }
      ]
    }
  ]
}