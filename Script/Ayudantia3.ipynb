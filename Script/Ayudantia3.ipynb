{
  "cells": [
    {
      "cell_type": "markdown",
      "metadata": {
        "id": "T3Pm6NM_hYuC"
      },
      "source": [
        "# Validación Cruzada\n",
        "\n",
        "\n",
        "Referencias:\n",
        "1. https://scikit-learn.org/stable/modules/cross_validation.html\n",
        "2. https://en.wikipedia.org/wiki/Cross-validation_(statistics)"
      ]
    },
    {
      "cell_type": "code",
      "execution_count": null,
      "metadata": {
        "id": "hog5n21OhXAE"
      },
      "outputs": [],
      "source": [
        "# Import scikit-learn libraries\n",
        "from sklearn.model_selection import KFold, StratifiedKFold, train_test_split, cross_validate, cross_val_score\n",
        "from sklearn.datasets import load_iris, load_boston\n",
        "from sklearn.linear_model import LogisticRegression\n",
        "from sklearn.metrics import accuracy_score, classification_report\n",
        "\n",
        "\n",
        "# import libraries for charting and manipulations with datasets\n",
        "import matplotlib.pyplot as plt\n",
        "import seaborn as sns\n",
        "import pandas as pd\n",
        "import numpy as np\n",
        "import random"
      ]
    },
    {
      "cell_type": "code",
      "execution_count": null,
      "metadata": {
        "colab": {
          "base_uri": "https://localhost:8080/"
        },
        "id": "wvdHLULEhW9g",
        "outputId": "bb58d386-f501-4d56-f4ef-a653b56743ce"
      },
      "outputs": [
        {
          "data": {
            "text/plain": [
              "[1,\n",
              " 2,\n",
              " 3,\n",
              " 4,\n",
              " 5,\n",
              " 6,\n",
              " 7,\n",
              " 8,\n",
              " 9,\n",
              " 10,\n",
              " 11,\n",
              " 12,\n",
              " 13,\n",
              " 14,\n",
              " 15,\n",
              " 16,\n",
              " 17,\n",
              " 18,\n",
              " 19,\n",
              " 20,\n",
              " 21,\n",
              " 22,\n",
              " 23,\n",
              " 24,\n",
              " 25,\n",
              " 26,\n",
              " 27,\n",
              " 28,\n",
              " 29,\n",
              " 30]"
            ]
          },
          "execution_count": 3,
          "metadata": {},
          "output_type": "execute_result"
        }
      ],
      "source": [
        "# crear un arreglo desde 1 a 30 para demostrar como se producen los split\n",
        "rn = [i for i in range(1,31)]\n",
        "rn"
      ]
    },
    {
      "cell_type": "code",
      "execution_count": null,
      "metadata": {
        "colab": {
          "base_uri": "https://localhost:8080/"
        },
        "id": "LG4LYFZohW6r",
        "outputId": "a880f866-65bf-4549-9ea6-72a35c1693ea"
      },
      "outputs": [
        {
          "output_type": "stream",
          "name": "stdout",
          "text": [
            "[10 11 12 13 14 15 16 17 18 19 20 21 22 23 24 25 26 27 28 29] [0 1 2 3 4 5 6 7 8 9]\n",
            "[ 0  1  2  3  4  5  6  7  8  9 20 21 22 23 24 25 26 27 28 29] [10 11 12 13 14 15 16 17 18 19]\n",
            "[ 0  1  2  3  4  5  6  7  8  9 10 11 12 13 14 15 16 17 18 19] [20 21 22 23 24 25 26 27 28 29]\n",
            "---------->\n",
            "[ 6  7  8  9 10 11 12 13 14 15 16 17 18 19 20 21 22 23 24 25 26 27 28 29] [0 1 2 3 4 5]\n",
            "[ 0  1  2  3  4  5 12 13 14 15 16 17 18 19 20 21 22 23 24 25 26 27 28 29] [ 6  7  8  9 10 11]\n",
            "[ 0  1  2  3  4  5  6  7  8  9 10 11 18 19 20 21 22 23 24 25 26 27 28 29] [12 13 14 15 16 17]\n",
            "[ 0  1  2  3  4  5  6  7  8  9 10 11 12 13 14 15 16 17 24 25 26 27 28 29] [18 19 20 21 22 23]\n",
            "[ 0  1  2  3  4  5  6  7  8  9 10 11 12 13 14 15 16 17 18 19 20 21 22 23] [24 25 26 27 28 29]\n"
          ]
        }
      ],
      "source": [
        "# creamos 2 split con 3 y 5 particiones\n",
        "# kfold entrega indices de los datos de entrenamiento y test\n",
        "kf3 = KFold(n_splits=3, shuffle=False)\n",
        "kf5 = KFold(n_splits=5, shuffle=False)\n",
        "\n",
        "for train_index, test_index in kf3.split(rn):\n",
        "    print(train_index, test_index)\n",
        "\n",
        "print('-'*10 + '>')\n",
        "\n",
        "for train_index, test_index in kf5.split(rn):\n",
        "    print(train_index, test_index)\n",
        "\n",
        "  "
      ]
    },
    {
      "cell_type": "code",
      "execution_count": null,
      "metadata": {
        "id": "TtYxGhwUhW3-"
      },
      "outputs": [],
      "source": [
        "# Grafiquemos estas particiones\n",
        "\n",
        "def kfoldize(kf, rn, shift=.1):\n",
        "    train = pd.DataFrame()\n",
        "    test = pd.DataFrame()\n",
        "    i = 1\n",
        "    for train_index, test_index in kf.split(rn):\n",
        "        train_df = pd.DataFrame(np.take(rn, train_index), columns=[\"x\"])\n",
        "        train_df[\"val\"] = i - shift\n",
        "        train = train.append(train_df)\n",
        "\n",
        "        test_df = pd.DataFrame(np.take(rn, test_index), columns=[\"x\"])\n",
        "        test_df[\"val\"] = i + shift\n",
        "        test = test.append(test_df)\n",
        "        i += 1\n",
        "    return train, test"
      ]
    },
    {
      "cell_type": "code",
      "execution_count": null,
      "metadata": {
        "colab": {
          "base_uri": "https://localhost:8080/",
          "height": 370
        },
        "id": "JqvI_GVJhW1i",
        "outputId": "a6193d72-971d-42ff-c97c-b2aa7d7cc50c"
      },
      "outputs": [
        {
          "output_type": "display_data",
          "data": {
            "text/plain": [
              "<Figure size 1080x360 with 2 Axes>"
            ],
            "image/png": "[encoded data removed]"
          },
          "metadata": {
            "needs_background": "light"
          }
        }
      ],
      "source": [
        "train5, test5 = kfoldize(kf5,rn)\n",
        "train3, test3 = kfoldize(kf3,rn)\n",
        "\n",
        "fig,ax = plt.subplots(1,2, figsize=(15,5))\n",
        "ax[0].scatter(x=\"x\",y=\"val\",c=\"b\",label=\"train\",s=15,data=train5)\n",
        "ax[0].scatter(x=\"x\",y=\"val\",c=\"r\",label=\"test\",s=15,data=test5)\n",
        "ax[1].scatter(x=\"x\",y=\"val\",c=\"b\",label=\"train\",s=15,data=train3)\n",
        "ax[1].scatter(x=\"x\",y=\"val\",c=\"r\",label=\"test\",s=15,data=test3)\n",
        "ax[0].set_ylabel(\"Kfold\")\n",
        "ax[0].set_xlabel(\"feature\")\n",
        "ax[1].set_xlabel(\"feature\")\n",
        "ax[0].set_title(\"5 Folds\")\n",
        "ax[1].set_title(\"3 Folds\")\n",
        "plt.suptitle(\"Kfold split between train and test features\")\n",
        "plt.legend(bbox_to_anchor=(1.05, 1))\n",
        "plt.show()"
      ]
    },
    {
      "cell_type": "code",
      "execution_count": null,
      "metadata": {
        "colab": {
          "base_uri": "https://localhost:8080/",
          "height": 237
        },
        "id": "PhciUfQAhWyo",
        "outputId": "e537f797-1d11-4600-c3fa-584dece53863"
      },
      "outputs": [
        {
          "output_type": "execute_result",
          "data": {
            "text/plain": [
              "                 Train5  Test5  Train3  Test3\n",
              "Min value:            1      1       1      1\n",
              "Max value:           30     30      30     30\n",
              "Min occurance:        4      1       2      1\n",
              "Max occurance:        4      1       2      1\n",
              "Min lenght           24      6      20     10\n",
              "Max lenght           24      6      20     10"
            ],
            "text/html": [
              "\n",
              "  <div id=\"df-c7d0ae4b-90d4-4246-af22-ad286a17a0e4\">\n",
              "    <div class=\"colab-df-container\">\n",
              "      <div>\n",
              "<style scoped>\n",
              "    .dataframe tbody tr th:only-of-type {\n",
              "        vertical-align: middle;\n",
              "    }\n",
              "\n",
              "    .dataframe tbody tr th {\n",
              "        vertical-align: top;\n",
              "    }\n",
              "\n",
              "    .dataframe thead th {\n",
              "        text-align: right;\n",
              "    }\n",
              "</style>\n",
              "<table border=\"1\" class=\"dataframe\">\n",
              "  <thead>\n",
              "    <tr style=\"text-align: right;\">\n",
              "      <th></th>\n",
              "      <th>Train5</th>\n",
              "      <th>Test5</th>\n",
              "      <th>Train3</th>\n",
              "      <th>Test3</th>\n",
              "    </tr>\n",
              "  </thead>\n",
              "  <tbody>\n",
              "    <tr>\n",
              "      <th>Min value:</th>\n",
              "      <td>1</td>\n",
              "      <td>1</td>\n",
              "      <td>1</td>\n",
              "      <td>1</td>\n",
              "    </tr>\n",
              "    <tr>\n",
              "      <th>Max value:</th>\n",
              "      <td>30</td>\n",
              "      <td>30</td>\n",
              "      <td>30</td>\n",
              "      <td>30</td>\n",
              "    </tr>\n",
              "    <tr>\n",
              "      <th>Min occurance:</th>\n",
              "      <td>4</td>\n",
              "      <td>1</td>\n",
              "      <td>2</td>\n",
              "      <td>1</td>\n",
              "    </tr>\n",
              "    <tr>\n",
              "      <th>Max occurance:</th>\n",
              "      <td>4</td>\n",
              "      <td>1</td>\n",
              "      <td>2</td>\n",
              "      <td>1</td>\n",
              "    </tr>\n",
              "    <tr>\n",
              "      <th>Min lenght</th>\n",
              "      <td>24</td>\n",
              "      <td>6</td>\n",
              "      <td>20</td>\n",
              "      <td>10</td>\n",
              "    </tr>\n",
              "    <tr>\n",
              "      <th>Max lenght</th>\n",
              "      <td>24</td>\n",
              "      <td>6</td>\n",
              "      <td>20</td>\n",
              "      <td>10</td>\n",
              "    </tr>\n",
              "  </tbody>\n",
              "</table>\n",
              "</div>\n",
              "      <button class=\"colab-df-convert\" onclick=\"convertToInteractive('df-c7d0ae4b-90d4-4246-af22-ad286a17a0e4')\"\n",
              "              title=\"Convert this dataframe to an interactive table.\"\n",
              "              style=\"display:none;\">\n",
              "        \n",
              "  <svg xmlns=\"http://www.w3.org/2000/svg\" height=\"24px\"viewBox=\"0 0 24 24\"\n",
              "       width=\"24px\">\n",
              "    <path d=\"M0 0h24v24H0V0z\" fill=\"none\"/>\n",
              "    <path d=\"M18.56 5.44l.94 2.06.94-2.06 2.06-.94-2.06-.94-.94-2.06-.94 2.06-2.06.94zm-11 1L8.5 8.5l.94-2.06 2.06-.94-2.06-.94L8.5 2.5l-.94 2.06-2.06.94zm10 10l.94 2.06.94-2.06 2.06-.94-2.06-.94-.94-2.06-.94 2.06-2.06.94z\"/><path d=\"M17.41 7.96l-1.37-1.37c-.4-.4-.92-.59-1.43-.59-.52 0-1.04.2-1.43.59L10.3 9.45l-7.72 7.72c-.78.78-.78 2.05 0 2.83L4 21.41c.39.39.9.59 1.41.59.51 0 1.02-.2 1.41-.59l7.78-7.78 2.81-2.81c.8-.78.8-2.07 0-2.86zM5.41 20L4 18.59l7.72-7.72 1.47 1.35L5.41 20z\"/>\n",
              "  </svg>\n",
              "      </button>\n",
              "      \n",
              "  <style>\n",
              "    .colab-df-container {\n",
              "      display:flex;\n",
              "      flex-wrap:wrap;\n",
              "      gap: 12px;\n",
              "    }\n",
              "\n",
              "    .colab-df-convert {\n",
              "      background-color: #E8F0FE;\n",
              "      border: none;\n",
              "      border-radius: 50%;\n",
              "      cursor: pointer;\n",
              "      display: none;\n",
              "      fill: #1967D2;\n",
              "      height: 32px;\n",
              "      padding: 0 0 0 0;\n",
              "      width: 32px;\n",
              "    }\n",
              "\n",
              "    .colab-df-convert:hover {\n",
              "      background-color: #E2EBFA;\n",
              "      box-shadow: 0px 1px 2px rgba(60, 64, 67, 0.3), 0px 1px 3px 1px rgba(60, 64, 67, 0.15);\n",
              "      fill: #174EA6;\n",
              "    }\n",
              "\n",
              "    [theme=dark] .colab-df-convert {\n",
              "      background-color: #3B4455;\n",
              "      fill: #D2E3FC;\n",
              "    }\n",
              "\n",
              "    [theme=dark] .colab-df-convert:hover {\n",
              "      background-color: #434B5C;\n",
              "      box-shadow: 0px 1px 3px 1px rgba(0, 0, 0, 0.15);\n",
              "      filter: drop-shadow(0px 1px 2px rgba(0, 0, 0, 0.3));\n",
              "      fill: #FFFFFF;\n",
              "    }\n",
              "  </style>\n",
              "\n",
              "      <script>\n",
              "        const buttonEl =\n",
              "          document.querySelector('#df-c7d0ae4b-90d4-4246-af22-ad286a17a0e4 button.colab-df-convert');\n",
              "        buttonEl.style.display =\n",
              "          google.colab.kernel.accessAllowed ? 'block' : 'none';\n",
              "\n",
              "        async function convertToInteractive(key) {\n",
              "          const element = document.querySelector('#df-c7d0ae4b-90d4-4246-af22-ad286a17a0e4');\n",
              "          const dataTable =\n",
              "            await google.colab.kernel.invokeFunction('convertToInteractive',\n",
              "                                                     [key], {});\n",
              "          if (!dataTable) return;\n",
              "\n",
              "          const docLinkHtml = 'Like what you see? Visit the ' +\n",
              "            '<a target=\"_blank\" href=https://colab.research.google.com/notebooks/data_table.ipynb>data table notebook</a>'\n",
              "            + ' to learn more about interactive tables.';\n",
              "          element.innerHTML = '';\n",
              "          dataTable['output_type'] = 'display_data';\n",
              "          await google.colab.output.renderOutput(dataTable, element);\n",
              "          const docLink = document.createElement('div');\n",
              "          docLink.innerHTML = docLinkHtml;\n",
              "          element.appendChild(docLink);\n",
              "        }\n",
              "      </script>\n",
              "    </div>\n",
              "  </div>\n",
              "  "
            ]
          },
          "metadata": {},
          "execution_count": 42
        }
      ],
      "source": [
        "def kfold_stats(df, name):\n",
        "    s =  pd.Series({\"Min value: \": df[\"x\"].min(),\n",
        "              \"Max value: \": df[\"x\"].max(),\n",
        "              \"Min occurance: \": df[\"x\"].value_counts().min(),\n",
        "              \"Max occurance: \": df[\"x\"].value_counts().max(),\n",
        "               \"Min lenght\": df.groupby(\"val\").count().min().values[0],\n",
        "               \"Max lenght\": df.groupby(\"val\").count().max().values[0]})\n",
        "    s.name = name\n",
        "    return s\n",
        "pd.concat([kfold_stats(train5, \"Train5\"), kfold_stats(test5,\"Test5\"),\n",
        "          kfold_stats(train3, \"Train3\"), kfold_stats(test3,\"Test3\")], \n",
        "          axis=1)"
      ]
    },
    {
      "cell_type": "markdown",
      "metadata": {
        "id": "NuIllCkipKMt"
      },
      "source": [
        "# Shuffled K Fold"
      ]
    },
    {
      "cell_type": "code",
      "execution_count": null,
      "metadata": {
        "id": "j04hyp9wpJif"
      },
      "outputs": [],
      "source": [
        "kf42 = KFold(n_splits=5, shuffle=True, random_state=42)\n",
        "kf123 = KFold(n_splits=5, shuffle=True, random_state=123)\n"
      ]
    },
    {
      "cell_type": "code",
      "execution_count": null,
      "metadata": {
        "colab": {
          "base_uri": "https://localhost:8080/",
          "height": 307
        },
        "id": "7r4uMp21hWtK",
        "outputId": "19487894-874f-4189-c621-2194abdfe25c"
      },
      "outputs": [
        {
          "data": {
            "image/png": "[encoded data removed]",
            "text/plain": [
              "<Figure size 1080x360 with 2 Axes>"
            ]
          },
          "metadata": {},
          "output_type": "display_data"
        }
      ],
      "source": [
        "train42, test42 = kfoldize(kf42,rn)\n",
        "train123, test123 = kfoldize(kf123,rn)\n",
        "train123_2, test123_2 = kfoldize(kf123,rn,shift=.25)\n",
        "\n",
        "fig,ax = plt.subplots(1,2, figsize=(15,5))\n",
        "ax[0].scatter(x=\"x\",y=\"val\",c=\"b\",label=\"train\",s=15,data=train42) \n",
        "ax[0].scatter(x=\"x\",y=\"val\",c=\"r\",label=\"test\",s=15,data=test42)\n",
        "ax[1].scatter(x=\"x\",y=\"val\",c=\"b\",label=\"train\",s=15,data=train123)\n",
        "ax[1].scatter(x=\"x\",y=\"val\",c=\"r\",label=\"test\",s=15,data=test123)\n",
        "ax[1].scatter(x=\"x\",y=\"val\",c=\"k\",label=\"test second run\",s=15,data=test123_2)\n",
        "ax[0].set_ylabel(\"Kfold\")\n",
        "ax[0].set_xlabel(\"feature\")\n",
        "ax[0].set_title(\"Shuffled KFold with random state 42\")\n",
        "ax[1].set_ylabel(\"Kfold\")\n",
        "ax[1].set_xlabel(\"feature\")\n",
        "ax[1].set_title(\"Shuffled KFold with random state 123\")\n",
        "plt.suptitle(\"Shuffled KFold\")\n",
        "plt.legend(bbox_to_anchor=(1.05, 1))\n",
        "plt.show()"
      ]
    },
    {
      "cell_type": "code",
      "execution_count": null,
      "metadata": {
        "id": "9uCRGDn3hWqK"
      },
      "outputs": [],
      "source": []
    },
    {
      "cell_type": "code",
      "execution_count": null,
      "metadata": {
        "id": "Iqc0VwWNhWhN"
      },
      "outputs": [],
      "source": [
        "import warnings\n",
        "warnings.filterwarnings('ignore')\n",
        "\n",
        "from ipywidgets import interact#, interact_manual\n",
        "\n",
        "from pandas import read_csv\n",
        "import matplotlib.pyplot as plt\n",
        "from numpy import linspace, argmin\n",
        "from scipy.stats import uniform\n",
        "\n",
        "%matplotlib inline\n",
        "\n",
        "## Pre-processing functions\n",
        "from sklearn.preprocessing import StandardScaler\n",
        "from sklearn.model_selection import train_test_split\n",
        "\n",
        "## Metricas\n",
        "from sklearn.metrics import accuracy_score, precision_score, recall_score, classification_report\n",
        "from sklearn.metrics import precision_recall_curve, roc_curve\n",
        "\n",
        "## Modelos\n",
        "from sklearn.linear_model import LogisticRegression\n",
        "from sklearn.ensemble import RandomForestClassifier\n",
        "from sklearn.tree import DecisionTreeClassifier\n",
        "\n",
        "## Cross-Validation\n",
        "from sklearn.model_selection import cross_val_score\n",
        "from sklearn.model_selection import KFold, LeaveOneOut, RepeatedKFold, ShuffleSplit, StratifiedKFold, StratifiedShuffleSplit\n",
        "\n",
        "## Search\n",
        "from sklearn.model_selection import GridSearchCV, RandomizedSearchCV"
      ]
    },
    {
      "cell_type": "code",
      "execution_count": null,
      "metadata": {
        "colab": {
          "base_uri": "https://localhost:8080/",
          "height": 224
        },
        "id": "tnIFFk10wsoK",
        "outputId": "61623adb-9795-4f9f-8c11-96ba4fdb3844"
      },
      "outputs": [
        {
          "name": "stdout",
          "output_type": "stream",
          "text": [
            "Data Classification\n"
          ]
        },
        {
          "data": {
            "text/html": [
              "\n",
              "  <div id=\"df-5034dcb0-9328-41da-9ca3-0962b69271fb\">\n",
              "    <div class=\"colab-df-container\">\n",
              "      <div>\n",
              "<style scoped>\n",
              "    .dataframe tbody tr th:only-of-type {\n",
              "        vertical-align: middle;\n",
              "    }\n",
              "\n",
              "    .dataframe tbody tr th {\n",
              "        vertical-align: top;\n",
              "    }\n",
              "\n",
              "    .dataframe thead th {\n",
              "        text-align: right;\n",
              "    }\n",
              "</style>\n",
              "<table border=\"1\" class=\"dataframe\">\n",
              "  <thead>\n",
              "    <tr style=\"text-align: right;\">\n",
              "      <th></th>\n",
              "      <th>Age</th>\n",
              "      <th>BMI</th>\n",
              "      <th>Glucose</th>\n",
              "      <th>Insulin</th>\n",
              "      <th>HOMA</th>\n",
              "      <th>Leptin</th>\n",
              "      <th>Adiponectin</th>\n",
              "      <th>Resistin</th>\n",
              "      <th>MCP.1</th>\n",
              "      <th>Classification</th>\n",
              "    </tr>\n",
              "  </thead>\n",
              "  <tbody>\n",
              "    <tr>\n",
              "      <th>0</th>\n",
              "      <td>48</td>\n",
              "      <td>23.500000</td>\n",
              "      <td>70</td>\n",
              "      <td>2.707</td>\n",
              "      <td>0.467409</td>\n",
              "      <td>8.8071</td>\n",
              "      <td>9.702400</td>\n",
              "      <td>7.99585</td>\n",
              "      <td>417.114</td>\n",
              "      <td>1</td>\n",
              "    </tr>\n",
              "    <tr>\n",
              "      <th>1</th>\n",
              "      <td>83</td>\n",
              "      <td>20.690495</td>\n",
              "      <td>92</td>\n",
              "      <td>3.115</td>\n",
              "      <td>0.706897</td>\n",
              "      <td>8.8438</td>\n",
              "      <td>5.429285</td>\n",
              "      <td>4.06405</td>\n",
              "      <td>468.786</td>\n",
              "      <td>1</td>\n",
              "    </tr>\n",
              "    <tr>\n",
              "      <th>2</th>\n",
              "      <td>82</td>\n",
              "      <td>23.124670</td>\n",
              "      <td>91</td>\n",
              "      <td>4.498</td>\n",
              "      <td>1.009651</td>\n",
              "      <td>17.9393</td>\n",
              "      <td>22.432040</td>\n",
              "      <td>9.27715</td>\n",
              "      <td>554.697</td>\n",
              "      <td>1</td>\n",
              "    </tr>\n",
              "    <tr>\n",
              "      <th>3</th>\n",
              "      <td>68</td>\n",
              "      <td>21.367521</td>\n",
              "      <td>77</td>\n",
              "      <td>3.226</td>\n",
              "      <td>0.612725</td>\n",
              "      <td>9.8827</td>\n",
              "      <td>7.169560</td>\n",
              "      <td>12.76600</td>\n",
              "      <td>928.220</td>\n",
              "      <td>1</td>\n",
              "    </tr>\n",
              "    <tr>\n",
              "      <th>4</th>\n",
              "      <td>86</td>\n",
              "      <td>21.111111</td>\n",
              "      <td>92</td>\n",
              "      <td>3.549</td>\n",
              "      <td>0.805386</td>\n",
              "      <td>6.6994</td>\n",
              "      <td>4.819240</td>\n",
              "      <td>10.57635</td>\n",
              "      <td>773.920</td>\n",
              "      <td>1</td>\n",
              "    </tr>\n",
              "  </tbody>\n",
              "</table>\n",
              "</div>\n",
              "      <button class=\"colab-df-convert\" onclick=\"convertToInteractive('df-5034dcb0-9328-41da-9ca3-0962b69271fb')\"\n",
              "              title=\"Convert this dataframe to an interactive table.\"\n",
              "              style=\"display:none;\">\n",
              "        \n",
              "  <svg xmlns=\"http://www.w3.org/2000/svg\" height=\"24px\"viewBox=\"0 0 24 24\"\n",
              "       width=\"24px\">\n",
              "    <path d=\"M0 0h24v24H0V0z\" fill=\"none\"/>\n",
              "    <path d=\"M18.56 5.44l.94 2.06.94-2.06 2.06-.94-2.06-.94-.94-2.06-.94 2.06-2.06.94zm-11 1L8.5 8.5l.94-2.06 2.06-.94-2.06-.94L8.5 2.5l-.94 2.06-2.06.94zm10 10l.94 2.06.94-2.06 2.06-.94-2.06-.94-.94-2.06-.94 2.06-2.06.94z\"/><path d=\"M17.41 7.96l-1.37-1.37c-.4-.4-.92-.59-1.43-.59-.52 0-1.04.2-1.43.59L10.3 9.45l-7.72 7.72c-.78.78-.78 2.05 0 2.83L4 21.41c.39.39.9.59 1.41.59.51 0 1.02-.2 1.41-.59l7.78-7.78 2.81-2.81c.8-.78.8-2.07 0-2.86zM5.41 20L4 18.59l7.72-7.72 1.47 1.35L5.41 20z\"/>\n",
              "  </svg>\n",
              "      </button>\n",
              "      \n",
              "  <style>\n",
              "    .colab-df-container {\n",
              "      display:flex;\n",
              "      flex-wrap:wrap;\n",
              "      gap: 12px;\n",
              "    }\n",
              "\n",
              "    .colab-df-convert {\n",
              "      background-color: #E8F0FE;\n",
              "      border: none;\n",
              "      border-radius: 50%;\n",
              "      cursor: pointer;\n",
              "      display: none;\n",
              "      fill: #1967D2;\n",
              "      height: 32px;\n",
              "      padding: 0 0 0 0;\n",
              "      width: 32px;\n",
              "    }\n",
              "\n",
              "    .colab-df-convert:hover {\n",
              "      background-color: #E2EBFA;\n",
              "      box-shadow: 0px 1px 2px rgba(60, 64, 67, 0.3), 0px 1px 3px 1px rgba(60, 64, 67, 0.15);\n",
              "      fill: #174EA6;\n",
              "    }\n",
              "\n",
              "    [theme=dark] .colab-df-convert {\n",
              "      background-color: #3B4455;\n",
              "      fill: #D2E3FC;\n",
              "    }\n",
              "\n",
              "    [theme=dark] .colab-df-convert:hover {\n",
              "      background-color: #434B5C;\n",
              "      box-shadow: 0px 1px 3px 1px rgba(0, 0, 0, 0.15);\n",
              "      filter: drop-shadow(0px 1px 2px rgba(0, 0, 0, 0.3));\n",
              "      fill: #FFFFFF;\n",
              "    }\n",
              "  </style>\n",
              "\n",
              "      <script>\n",
              "        const buttonEl =\n",
              "          document.querySelector('#df-5034dcb0-9328-41da-9ca3-0962b69271fb button.colab-df-convert');\n",
              "        buttonEl.style.display =\n",
              "          google.colab.kernel.accessAllowed ? 'block' : 'none';\n",
              "\n",
              "        async function convertToInteractive(key) {\n",
              "          const element = document.querySelector('#df-5034dcb0-9328-41da-9ca3-0962b69271fb');\n",
              "          const dataTable =\n",
              "            await google.colab.kernel.invokeFunction('convertToInteractive',\n",
              "                                                     [key], {});\n",
              "          if (!dataTable) return;\n",
              "\n",
              "          const docLinkHtml = 'Like what you see? Visit the ' +\n",
              "            '<a target=\"_blank\" href=https://colab.research.google.com/notebooks/data_table.ipynb>data table notebook</a>'\n",
              "            + ' to learn more about interactive tables.';\n",
              "          element.innerHTML = '';\n",
              "          dataTable['output_type'] = 'display_data';\n",
              "          await google.colab.output.renderOutput(dataTable, element);\n",
              "          const docLink = document.createElement('div');\n",
              "          docLink.innerHTML = docLinkHtml;\n",
              "          element.appendChild(docLink);\n",
              "        }\n",
              "      </script>\n",
              "    </div>\n",
              "  </div>\n",
              "  "
            ],
            "text/plain": [
              "   Age        BMI  Glucose  Insulin      HOMA   Leptin  Adiponectin  Resistin  \\\n",
              "0   48  23.500000       70    2.707  0.467409   8.8071     9.702400   7.99585   \n",
              "1   83  20.690495       92    3.115  0.706897   8.8438     5.429285   4.06405   \n",
              "2   82  23.124670       91    4.498  1.009651  17.9393    22.432040   9.27715   \n",
              "3   68  21.367521       77    3.226  0.612725   9.8827     7.169560  12.76600   \n",
              "4   86  21.111111       92    3.549  0.805386   6.6994     4.819240  10.57635   \n",
              "\n",
              "     MCP.1  Classification  \n",
              "0  417.114               1  \n",
              "1  468.786               1  \n",
              "2  554.697               1  \n",
              "3  928.220               1  \n",
              "4  773.920               1  "
            ]
          },
          "execution_count": 17,
          "metadata": {},
          "output_type": "execute_result"
        }
      ],
      "source": [
        "## Cargar data\n",
        "dataClassification = read_csv('https://archive.ics.uci.edu/ml/machine-learning-databases/00451/dataR2.csv')\n",
        "coefNameIndep = dataClassification.columns[:-1]\n",
        "print('Data Classification')\n",
        "dataClassification.head(5)"
      ]
    },
    {
      "cell_type": "code",
      "execution_count": null,
      "metadata": {
        "colab": {
          "base_uri": "https://localhost:8080/"
        },
        "id": "Ixmi2IBQw2ti",
        "outputId": "6f91485c-34b1-444d-9765-2916dee5b8f7"
      },
      "outputs": [
        {
          "data": {
            "text/plain": [
              "1    52\n",
              "2    64\n",
              "Name: Classification, dtype: int64"
            ]
          },
          "execution_count": 18,
          "metadata": {},
          "output_type": "execute_result"
        }
      ],
      "source": [
        "## Imprimir el numero de registros en cada clase\n",
        "dataClassification['Classification'].value_counts(ascending=True)"
      ]
    },
    {
      "cell_type": "code",
      "execution_count": null,
      "metadata": {
        "id": "_cldONB6w6b0"
      },
      "outputs": [],
      "source": [
        "# Preprosesamiento\n",
        "## Extraemos los datos sin la columna del target (etiquetas)\n",
        "X = dataClassification.drop(columns=['Classification'])\n",
        "\n",
        "## Extraemos la columna del target (etiquetas)\n",
        "y = dataClassification['Classification']\n",
        "\n",
        "## Particion de los datos\n",
        "X_train, X_test, y_train, y_test = train_test_split(X, y, random_state=0)\n",
        "\n",
        "## Estandarizamos los datos\n",
        "scale = StandardScaler().fit(X_train)\n",
        "X_train = scale.transform(X_train)\n",
        "X_test = scale.transform(X_test)"
      ]
    },
    {
      "cell_type": "code",
      "execution_count": null,
      "metadata": {
        "id": "Zup13gO9xHhy"
      },
      "outputs": [],
      "source": [
        "## Instancias de los metodos de Cross-validation\n",
        "CVs = {'KFold': KFold(n_splits=5, shuffle=True, random_state=0), \n",
        "       'LeaveOneOut': LeaveOneOut(),\n",
        "       'RepeatedKFold': RepeatedKFold(n_splits=5, n_repeats=2, random_state=0),\n",
        "       'ShuffleSplit': ShuffleSplit(n_splits=5, train_size=0.7, random_state=0), \n",
        "       'StratifiedKFold': StratifiedKFold(n_splits=5, shuffle=True, random_state=0),\n",
        "       'StratifiedShuffleSplit': StratifiedShuffleSplit(n_splits=5, train_size=0.7, random_state=0)}"
      ]
    },
    {
      "cell_type": "code",
      "execution_count": null,
      "metadata": {
        "colab": {
          "base_uri": "https://localhost:8080/"
        },
        "id": "lRmcy7vgxLfy",
        "outputId": "87aeaaf6-1578-438b-b721-24c7716c6b83"
      },
      "outputs": [
        {
          "name": "stdout",
          "output_type": "stream",
          "text": [
            "LogisticRegression()\n",
            "CV:                   KFold, Mean Scores: 0.7137, Variance Scores:0.0083\n",
            "CV:             LeaveOneOut, Mean Scores: 0.7126, Variance Scores:0.2048\n",
            "CV:           RepeatedKFold, Mean Scores: 0.7075, Variance Scores:0.0092\n",
            "CV:            ShuffleSplit, Mean Scores: 0.6889, Variance Scores:0.0036\n",
            "CV:         StratifiedKFold, Mean Scores: 0.7020, Variance Scores:0.0108\n",
            "CV:  StratifiedShuffleSplit, Mean Scores: 0.7259, Variance Scores:0.0042\n",
            "DecisionTreeClassifier()\n",
            "CV:                   KFold, Mean Scores: 0.7379, Variance Scores:0.0098\n",
            "CV:             LeaveOneOut, Mean Scores: 0.6207, Variance Scores:0.2354\n",
            "CV:           RepeatedKFold, Mean Scores: 0.6673, Variance Scores:0.0109\n",
            "CV:            ShuffleSplit, Mean Scores: 0.6296, Variance Scores:0.0005\n",
            "CV:         StratifiedKFold, Mean Scores: 0.6549, Variance Scores:0.0056\n",
            "CV:  StratifiedShuffleSplit, Mean Scores: 0.6593, Variance Scores:0.0041\n",
            "RandomForestClassifier()\n",
            "CV:                   KFold, Mean Scores: 0.6922, Variance Scores:0.0162\n",
            "CV:             LeaveOneOut, Mean Scores: 0.7586, Variance Scores:0.1831\n",
            "CV:           RepeatedKFold, Mean Scores: 0.6958, Variance Scores:0.0232\n",
            "CV:            ShuffleSplit, Mean Scores: 0.7037, Variance Scores:0.0071\n",
            "CV:         StratifiedKFold, Mean Scores: 0.7137, Variance Scores:0.0046\n",
            "CV:  StratifiedShuffleSplit, Mean Scores: 0.6889, Variance Scores:0.0135\n"
          ]
        }
      ],
      "source": [
        "## Instancia del modelo\n",
        "model1 = LogisticRegression()\n",
        "model2 = DecisionTreeClassifier()\n",
        "model3 = RandomForestClassifier()\n",
        "\n",
        "models = [model1, model2, model3]\n",
        "\n",
        "for model in models:\n",
        "  print(model)\n",
        "\n",
        "  ## Computamos los scores con cada metodo de Cross-validation\n",
        "  for name in CVs.keys():\n",
        "      \n",
        "      ## Computo de los scores\n",
        "      scores = cross_val_score(estimator=model, X=X_train, y=y_train, \n",
        "                              n_jobs=-1, cv=CVs[name])\n",
        "      \n",
        "      ## Imprimir la media y varianza de los scores\n",
        "      print('CV: {:>23s}, Mean Scores: {:.4f}, Variance Scores:{:.4f}'.format(name, \n",
        "                                                                              scores.mean(), \n",
        "                                                                              scores.var()))"
      ]
    },
    {
      "cell_type": "code",
      "execution_count": null,
      "metadata": {
        "colab": {
          "base_uri": "https://localhost:8080/",
          "height": 1000
        },
        "id": "2pU8jtb5x8Rt",
        "outputId": "77f79a84-def0-4746-d979-012863f120d5"
      },
      "outputs": [
        {
          "output_type": "stream",
          "name": "stdout",
          "text": [
            "Best hyperparameters: {'criterion': 'entropy', 'max_depth': 9, 'min_samples_split': 11}\n"
          ]
        },
        {
          "output_type": "error",
          "ename": "TypeError",
          "evalue": "ignored",
          "traceback": [
            "\u001b[0;31m---------------------------------------------------------------------------\u001b[0m",
            "\u001b[0;31mTypeError\u001b[0m                                 Traceback (most recent call last)",
            "\u001b[0;32m<ipython-input-45-905a454c1117>\u001b[0m in \u001b[0;36m<module>\u001b[0;34m\u001b[0m\n\u001b[1;32m     19\u001b[0m \u001b[0mprint\u001b[0m\u001b[0;34m(\u001b[0m\u001b[0;34m'Best hyperparameters: {}'\u001b[0m\u001b[0;34m.\u001b[0m\u001b[0mformat\u001b[0m\u001b[0;34m(\u001b[0m\u001b[0mGridSCV\u001b[0m\u001b[0;34m.\u001b[0m\u001b[0mbest_params_\u001b[0m\u001b[0;34m)\u001b[0m\u001b[0;34m)\u001b[0m\u001b[0;34m\u001b[0m\u001b[0;34m\u001b[0m\u001b[0m\n\u001b[1;32m     20\u001b[0m \u001b[0;34m\u001b[0m\u001b[0m\n\u001b[0;32m---> 21\u001b[0;31m \u001b[0mtimeUp\u001b[0m \u001b[0;34m=\u001b[0m \u001b[0mtime\u001b[0m\u001b[0;34m(\u001b[0m\u001b[0;34m)\u001b[0m\u001b[0;34m-\u001b[0m\u001b[0mstart\u001b[0m\u001b[0;34m\u001b[0m\u001b[0;34m\u001b[0m\u001b[0m\n\u001b[0m\u001b[1;32m     22\u001b[0m \u001b[0mprint\u001b[0m\u001b[0;34m(\u001b[0m\u001b[0;34m'Time spent: {:.2f} seconds'\u001b[0m\u001b[0;34m.\u001b[0m\u001b[0mformat\u001b[0m\u001b[0;34m(\u001b[0m\u001b[0mtimeUp\u001b[0m\u001b[0;34m)\u001b[0m\u001b[0;34m)\u001b[0m\u001b[0;34m\u001b[0m\u001b[0;34m\u001b[0m\u001b[0m\n",
            "\u001b[0;31mTypeError\u001b[0m: 'module' object is not callable"
          ]
        }
      ],
      "source": [
        "import time\n",
        "# Model selection + Grid Search CV\n",
        "\n",
        "cv =  StratifiedShuffleSplit(n_splits=10, train_size=0.7)\n",
        "\n",
        "# Parametros de búsqueda\n",
        "\n",
        "param = {'criterion': ['gini', 'entropy'],\n",
        "        'min_samples_split': np.arange(2, 75),\n",
        "        'max_depth': np.arange(1, 15)\n",
        "       }\n",
        "\n",
        "GridSCV = GridSearchCV(estimator=RandomForestClassifier(), \n",
        "                  cv=cv, n_jobs=-1, \n",
        "                  param_grid=param,\n",
        "                  scoring='roc_auc').fit(X=X_train, y=y_train)\n",
        "\n",
        "## Display best model's hyperparameters\n",
        "print('Best hyperparameters: {}'.format(GridSCV.best_params_))\n",
        "\n",
        "timeUp = time()-start\n",
        "print('Time spent: {:.2f} seconds'.format(timeUp))"
      ]
    }
  ],
  "metadata": {
    "colab": {
      "provenance": []
    },
    "kernelspec": {
      "display_name": "Python 3",
      "name": "python3"
    },
    "language_info": {
      "name": "python"
    }
  },
  "nbformat": 4,
  "nbformat_minor": 0
}