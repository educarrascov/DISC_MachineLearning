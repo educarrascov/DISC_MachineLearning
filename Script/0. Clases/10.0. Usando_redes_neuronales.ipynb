{
 "cells": [
  {
   "cell_type": "markdown",
   "metadata": {
    "id": "bpEGsSwPCTY_"
   },
   "source": [
    "***\n",
    "\n",
    "Profesor: Gonzalo A. Ruz, PhD\n",
    "\n",
    "Curso: Aprendizaje Automático\n",
    "\n",
    "***"
   ]
  },
  {
   "cell_type": "code",
   "execution_count": 1,
   "metadata": {
    "colab": {
     "base_uri": "https://localhost:8080/"
    },
    "id": "iYhCzLUaCSlU",
    "outputId": "b92463f0-af64-4b51-b794-54fb3229d96e"
   },
   "outputs": [
    {
     "name": "stdout",
     "output_type": "stream",
     "text": [
      "Using Keras 2.8.0\n",
      "Using Tensorflow 2.8.2\n"
     ]
    }
   ],
   "source": [
    "# Global imports and settings\n",
    "import keras\n",
    "import tensorflow\n",
    "print(\"Using Keras\",keras.__version__)\n",
    "print(\"Using Tensorflow\",tensorflow.__version__)\n",
    "%matplotlib inline"
   ]
  },
  {
   "cell_type": "code",
   "execution_count": 2,
   "metadata": {
    "id": "jm3YqTRLCexH"
   },
   "outputs": [],
   "source": [
    "# Silence warnings\n",
    "import warnings\n",
    "warnings.simplefilter(action=\"ignore\", category=FutureWarning)\n",
    "warnings.simplefilter(action=\"ignore\", category=UserWarning)\n",
    "warnings.simplefilter(action=\"ignore\", category=RuntimeWarning)\n",
    "warnings.simplefilter(action=\"ignore\", category=DeprecationWarning)"
   ]
  },
  {
   "cell_type": "markdown",
   "metadata": {
    "id": "uZ353MyOBagl"
   },
   "source": [
    "# Clase: Usando redes neuronales"
   ]
  },
  {
   "cell_type": "markdown",
   "metadata": {
    "cell_style": "center",
    "id": "to1gkf58Bagn"
   },
   "source": [
    "### Contenido\n",
    "* Resolver problemas básicos de clasificación y regresión\n",
    "* Manejo de datos textuales\n",
    "* Selección de modelo (y sobreajuste)"
   ]
  },
  {
   "cell_type": "markdown",
   "metadata": {
    "id": "_UkI3p3HBago"
   },
   "source": [
    "## Resolver problemas básicos\n",
    "* Clasificación binaria (de reseñas de películas)\n",
    "* Clasificación multiclase (de temas de noticias)\n",
    "* Regresión (de precios de la vivienda)\n",
    "\n",
    "Ejemplos tomados del libro *Deep Learning with Python*, by *François Chollet*"
   ]
  },
  {
   "cell_type": "markdown",
   "metadata": {
    "id": "Qwfn-6EuBago"
   },
   "source": [
    "### Componentes de las redes neuronales (repaso)\n",
    "* *Capas* de nodos: transformar un tensor de entrada en un tensor de salida\n",
    "    - Cada una con (un tensor de) pesos que se ajustarán a los datos de entrenamiento\n",
    "    - Muchos tipos: densas, convolucionales, recurrentes, ...\n",
    "* *Función de pérdida*: Mide si el modelo se ajusta a los datos de entrenamiento\n",
    "* *Optimizador*: Cómo actualizar la red, por ej. SGD\n",
    "\n",
    "![](https://drive.google.com/uc?id=1gjlHh9Xf3LA5YV27vba-ATV84vKtkh_S)"
   ]
  },
  {
   "cell_type": "markdown",
   "metadata": {
    "id": "qmKDpfpqBagp"
   },
   "source": [
    "### Clasificación binaria\n",
    "* Conjunto de datos: 50 000 revisiones de [IMDB](https://www.imdb.com/), etiquetadas como positivas (1) o negativas (0)\n",
    "    - Incluido en Keras, con una división de entrenamiento-prueba de 50/50\n",
    "* Cada fila es una revisión, con solo las 10 000 palabras más frecuentes retenidas\n",
    "* Cada palabra se reemplaza por un *índice de palabra* (ID de palabra)"
   ]
  },
  {
   "cell_type": "code",
   "execution_count": 3,
   "metadata": {
    "colab": {
     "base_uri": "https://localhost:8080/"
    },
    "hide_input": true,
    "id": "MwB6j7YjBagp",
    "outputId": "7105b18f-499a-460b-fce6-7039b67e1ebe"
   },
   "outputs": [
    {
     "name": "stdout",
     "output_type": "stream",
     "text": [
      "Downloading data from https://storage.googleapis.com/tensorflow/tf-keras-datasets/imdb.npz\n",
      "17465344/17464789 [==============================] - 0s 0us/step\n",
      "17473536/17464789 [==============================] - 0s 0us/step\n",
      "Encoded review:  [1, 14, 22, 16, 43, 530, 973, 1622, 1385, 65]\n",
      "Downloading data from https://storage.googleapis.com/tensorflow/tf-keras-datasets/imdb_word_index.json\n",
      "1646592/1641221 [==============================] - 0s 0us/step\n",
      "1654784/1641221 [==============================] - 0s 0us/step\n",
      "Original review:  ? this film was just brilliant casting location scenery story\n"
     ]
    }
   ],
   "source": [
    "from tensorflow.keras.datasets import imdb\n",
    "# Download IMDB data with 10000 most frequent words\n",
    "(train_data, train_labels), (test_data, test_labels) = imdb.load_data(num_words=10000)\n",
    "print(\"Encoded review: \", train_data[0][0:10])\n",
    "\n",
    "word_index = imdb.get_word_index()\n",
    "reverse_word_index = dict([(value, key) for (key, value) in word_index.items()])\n",
    "print(\"Original review: \", ' '.join([reverse_word_index.get(i - 3, '?') for i in train_data[0]][0:10]))"
   ]
  },
  {
   "cell_type": "code",
   "execution_count": 4,
   "metadata": {
    "colab": {
     "base_uri": "https://localhost:8080/"
    },
    "id": "7P2oAaMdzwpv",
    "outputId": "a67bce0b-79c0-4a9c-a880-b6ce7d0e2526"
   },
   "outputs": [
    {
     "data": {
      "text/plain": [
       "1"
      ]
     },
     "execution_count": 4,
     "metadata": {},
     "output_type": "execute_result"
    }
   ],
   "source": [
    "train_labels[0]"
   ]
  },
  {
   "cell_type": "markdown",
   "metadata": {
    "id": "CM4zHODjBagq"
   },
   "source": [
    "#### Preprocesamiento\n",
    "* No podemos ingresar listas de valor categórico en una red neuronal, necesitamos crear tensores\n",
    "* One-hot-encoding:\n",
    "    -  10000 características, '1' si aparece la palabra\n",
    "* Word embeddings (word2vec):\n",
    "    - Asigne cada palabra a un vector denso que la represente (su *embedding*)\n",
    "    - Capa de *embedding*: capa previamente entrenada que busca el embedding en un diccionario \n",
    "    - Convierte el tensor 2D de índices de palabras (relleno con ceros) en tensor 3D de embeddings\n",
    "* Hagamos One-Hot-Encoding por ahora.\n",
    "* También vectorizar las etiquetas: de 0/1 a punto flotante.\n",
    "    - La clasificación binaria funciona con un nodo de salida"
   ]
  },
  {
   "cell_type": "markdown",
   "metadata": {
    "id": "4Y9YAeoMBagr"
   },
   "source": [
    "``` python\n",
    "# Custom implementation of one-hot-encoding\n",
    "def vectorize_sequences(sequences, dimension=10000):\n",
    "    results = np.zeros((len(sequences), dimension))\n",
    "    for i, sequence in enumerate(sequences):\n",
    "        results[i, sequence] = 1.  # set specific indices of results[i] to 1s\n",
    "    return results\n",
    "x_train = vectorize_sequences(train_data)\n",
    "x_test = vectorize_sequences(test_data)\n",
    "```"
   ]
  },
  {
   "cell_type": "code",
   "execution_count": 5,
   "metadata": {
    "colab": {
     "base_uri": "https://localhost:8080/"
    },
    "hide_input": true,
    "id": "5hQfzUTKBags",
    "outputId": "20316aa7-42a7-4f94-d252-a9e989939ea0"
   },
   "outputs": [
    {
     "name": "stdout",
     "output_type": "stream",
     "text": [
      "Encoded review:  [1, 14, 22, 16, 43, 530, 973, 1622, 1385, 65]\n",
      "One-hot-encoded review:  [0. 1. 1. 0. 1. 1. 1. 1. 1. 1.]\n",
      "Label:  1.0\n"
     ]
    }
   ],
   "source": [
    "# Custom implementation of one-hot-encoding\n",
    "import numpy as np\n",
    "\n",
    "def vectorize_sequences(sequences, dimension=10000):\n",
    "    results = np.zeros((len(sequences), dimension))\n",
    "    for i, sequence in enumerate(sequences):\n",
    "        results[i, sequence] = 1.  # set specific indices of results[i] to 1s\n",
    "    return results\n",
    "x_train = vectorize_sequences(train_data)\n",
    "x_test = vectorize_sequences(test_data)\n",
    "print(\"Encoded review: \", train_data[0][0:10])\n",
    "print(\"One-hot-encoded review: \", x_train[0][0:10])\n",
    "\n",
    "# Convert 0/1 labels to float\n",
    "y_train = np.asarray(train_labels).astype('float32')\n",
    "y_test = np.asarray(test_labels).astype('float32')\n",
    "\n",
    "print(\"Label: \", y_train[0])"
   ]
  },
  {
   "cell_type": "markdown",
   "metadata": {
    "id": "OTHyvGj3Bagt"
   },
   "source": [
    "#### Construyendo la red\n",
    "* Podemos resolver este problema utilizando una red de capas *Dense* y la función de activación *ReLU*.\n",
    "* Cuantas capas? ¿Cuántas unidades ocultas por capa?\n",
    "    - Comience con 2 capas de 16 unidades ocultas cada una\n",
    "    - Lo optimizaremos pronto\n",
    "* Capa de salida: unidad única con función de activación *sigmoid*\n",
    "    - Cerca de 1: revisión positiva, cerca de 0: revisión negativa\n",
    "    \n",
    "``` python\n",
    "model = models.Sequential()\n",
    "model.add(layers.Dense(16, activation='relu', input_shape=(10000,)))\n",
    "model.add(layers.Dense(16, activation='relu'))\n",
    "model.add(layers.Dense(1, activation='sigmoid'))\n",
    "\n",
    "model.compile(optimizer='rmsprop', loss='binary_crossentropy', metrics=['accuracy'])\n",
    "```"
   ]
  },
  {
   "cell_type": "markdown",
   "metadata": {
    "id": "uYJhq_lBBagt"
   },
   "source": [
    "#### Cross-entropy loss\n",
    "*  Hemos visto *cross-entropy loss* (o *log loss*) para $C$ clases anteriormente\n",
    "    - Mide qué tan similares son las distribuciones de probabilidad real y predicha\n",
    "    - Computar cross-entropy $H(y,\\hat{y})$ entre $y$ verdadero e $\\hat{y}$ predicha\n",
    "    - Sumar sobre todas las muestras de entrenamiento\n",
    "$$ H(y,\\hat{y}) = - \\sum_{c=1}^C y_c \\log(\\hat{y}_c)$$\n",
    "\n",
    "* Para la clasificación binaria, esto se simplifica a\n",
    "$$ - \\sum_{c=0,1} y_c \\log(\\hat{y}_c) = −(y \\log(\\hat{y})+ (1−y) \\log(1−\\hat{y}))$$"
   ]
  },
  {
   "cell_type": "markdown",
   "metadata": {
    "id": "MvkN0EArBagu"
   },
   "source": [
    "Cross-entropy loss\n",
    "\n",
    "![](https://drive.google.com/uc?id=1gOiYApti5QohLFdoLR6gT_ZWLsd4wvT4)"
   ]
  },
  {
   "cell_type": "code",
   "execution_count": 6,
   "metadata": {
    "id": "Il0hTZapBagu"
   },
   "outputs": [],
   "source": [
    "from tensorflow.keras import models\n",
    "from tensorflow.keras import layers \n",
    "\n",
    "model = models.Sequential()\n",
    "model.add(layers.Dense(16, activation='relu', input_shape=(10000,)))\n",
    "model.add(layers.Dense(16, activation='relu'))\n",
    "model.add(layers.Dense(1, activation='sigmoid'))\n",
    "\n",
    "model.compile(optimizer='rmsprop',\n",
    "              loss='binary_crossentropy',\n",
    "              metrics=['accuracy'])"
   ]
  },
  {
   "cell_type": "markdown",
   "metadata": {
    "id": "IqE8SI-4Bagu"
   },
   "source": [
    "Para tener más control, puede crear explícitamente el optimizador, la pérdida y las métricas:\n",
    "\n",
    "``` python\n",
    "from tensorflow.keras import optimizers\n",
    "from tensorflow.keras import losses\n",
    "from tensorflow.keras import metrics\n",
    "model.compile(optimizer=optimizers.RMSprop(lr=0.001),\n",
    "              loss=losses.binary_crossentropy,\n",
    "              metrics=[metrics.binary_accuracy])\n",
    "```"
   ]
  },
  {
   "cell_type": "markdown",
   "metadata": {
    "id": "8LXTPReYBagv"
   },
   "source": [
    "#### Selección de modelo\n",
    "* ¿Cuántas épocas necesitamos para entrenar?\n",
    "* Tome un conjunto de validación de 10 000 muestras del conjunto de entrenamiento\n",
    "* Entrene la red neuronal y rastree la pérdida después de cada iteración en el conjunto de validación\n",
    "    - Esto se devuelve como un objeto `History` por la función `fit()` \n",
    "* Empezamos con 20 épocas en minibatches de 512 muestras\n",
    "\n",
    "``` python\n",
    "x_val, partial_x_train = x_train[:10000], x_train[10000:]\n",
    "y_val, partial_y_train = y_train[:10000], y_train[10000:] \n",
    "history = model.fit(partial_x_train, partial_y_train,\n",
    "                    epochs=20, batch_size=512, verbose=0,\n",
    "                    validation_data=(x_val, y_val))\n",
    "```"
   ]
  },
  {
   "cell_type": "code",
   "execution_count": 7,
   "metadata": {
    "id": "39zUY2B5Bagv"
   },
   "outputs": [],
   "source": [
    "x_val, partial_x_train = x_train[:10000], x_train[10000:]\n",
    "y_val, partial_y_train = y_train[:10000], y_train[10000:] \n",
    "history = model.fit(partial_x_train, partial_y_train,\n",
    "                    epochs=20, batch_size=512, verbose=0,\n",
    "                    validation_data=(x_val, y_val))"
   ]
  },
  {
   "cell_type": "markdown",
   "metadata": {
    "id": "z-ViyX3xBagv"
   },
   "source": [
    "Ahora podemos recuperar y visualizar la pérdida en los datos de validación\n",
    "* La pérdida de entrenamiento sigue disminuyendo debido al descenso del gradiente.\n",
    "* La pérdida de validación alcanza su punto máximo después de algunas épocas, después de las cuales el modelo comienza a sobreajustarse"
   ]
  },
  {
   "cell_type": "code",
   "execution_count": 8,
   "metadata": {
    "colab": {
     "base_uri": "https://localhost:8080/",
     "height": 295
    },
    "hide_input": true,
    "id": "OmAiG5JSBagv",
    "outputId": "ca19c1c2-1ca9-4642-b119-532a4c45b277"
   },
   "outputs": [
    {
     "data": {
      "image/png": "[encoded data removed]",
      "text/plain": [
       "<Figure size 432x288 with 1 Axes>"
      ]
     },
     "metadata": {
      "needs_background": "light"
     },
     "output_type": "display_data"
    }
   ],
   "source": [
    "import matplotlib.pyplot as plt\n",
    "\n",
    "acc = history.history['accuracy']\n",
    "val_acc = history.history['val_accuracy']\n",
    "loss = history.history['loss']\n",
    "val_loss = history.history['val_loss']\n",
    "\n",
    "epochs = range(1, len(acc) + 1)\n",
    "\n",
    "# \"bo\" is for \"blue dot\"\n",
    "plt.plot(epochs, loss, 'bo', label='Training loss')\n",
    "# b is for \"solid blue line\"\n",
    "plt.plot(epochs, val_loss, 'b', label='Validation loss')\n",
    "plt.title('Training and validation loss')\n",
    "plt.xlabel('Epochs')\n",
    "plt.ylabel('Loss')\n",
    "plt.legend()\n",
    "\n",
    "plt.show()"
   ]
  },
  {
   "cell_type": "code",
   "execution_count": 9,
   "metadata": {
    "colab": {
     "base_uri": "https://localhost:8080/",
     "height": 265
    },
    "id": "T1mSa6PsBagw",
    "outputId": "2d8a3966-eb62-4778-93a2-1f3bb2f96f88"
   },
   "outputs": [
    {
     "data": {
      "image/png": "[encoded data removed]",
      "text/plain": [
       "<Figure size 432x288 with 1 Axes>"
      ]
     },
     "metadata": {
      "needs_background": "light"
     },
     "output_type": "display_data"
    }
   ],
   "source": [
    "# Alternative plotting code\n",
    "import pandas as pd\n",
    "\n",
    "pd.DataFrame(history.history).plot();"
   ]
  },
  {
   "cell_type": "markdown",
   "metadata": {
    "id": "taYiYtXxBagw"
   },
   "source": [
    "También podemos visualizar el accuracy, con hallazgos similares"
   ]
  },
  {
   "cell_type": "code",
   "execution_count": 10,
   "metadata": {
    "colab": {
     "base_uri": "https://localhost:8080/",
     "height": 295
    },
    "hide_input": true,
    "id": "kfEGTKhzBagw",
    "outputId": "5f89c34c-b7e7-4151-8d85-6e72c4ea8959"
   },
   "outputs": [
    {
     "data": {
      "image/png": "[encoded data removed]",
      "text/plain": [
       "<Figure size 432x288 with 1 Axes>"
      ]
     },
     "metadata": {
      "needs_background": "light"
     },
     "output_type": "display_data"
    }
   ],
   "source": [
    "plt.clf()   # clear figure\n",
    "plt.plot(epochs, acc, 'bo', label='Training acc')\n",
    "plt.plot(epochs, val_acc, 'b', label='Validation acc')\n",
    "plt.title('Training and validation accuracy')\n",
    "plt.xlabel('Epochs')\n",
    "plt.ylabel('Accuracy')\n",
    "plt.legend()\n",
    "\n",
    "plt.show()"
   ]
  },
  {
   "cell_type": "markdown",
   "metadata": {
    "id": "WIcZsZUPBagx"
   },
   "source": [
    "#### Parada anticipada\n",
    "Una técnica sencilla para evitar el sobreajuste es utilizar el conjunto de validación para 'ajustar' el número óptimo de épocas\n",
    "* En este caso, podríamos detenernos después de 4 épocas.\n",
    "\n",
    "``` python\n",
    "model.fit(x_train, y_train, epochs=4, batch_size=512, verbose=0)\n",
    "result = model.evaluate(x_test, y_test)\n",
    "```"
   ]
  },
  {
   "cell_type": "code",
   "execution_count": 11,
   "metadata": {
    "colab": {
     "base_uri": "https://localhost:8080/"
    },
    "id": "MP1-DBqKBagx",
    "outputId": "179ff0ed-105b-44c5-eca4-a22638917c1e"
   },
   "outputs": [
    {
     "name": "stdout",
     "output_type": "stream",
     "text": [
      "782/782 [==============================] - 3s 3ms/step - loss: 0.4795 - accuracy: 0.8598\n",
      "Loss: 0.4795, Accuracy:  0.8598\n"
     ]
    }
   ],
   "source": [
    "model.fit(x_train, y_train, epochs=4, batch_size=512, verbose=0)\n",
    "result = model.evaluate(x_test, y_test)\n",
    "print(\"Loss: {:.4f}, Accuracy:  {:.4f}\".format(*result))"
   ]
  },
  {
   "cell_type": "markdown",
   "metadata": {
    "id": "vuz7_lqsBagx"
   },
   "source": [
    "#### Predicciones\n",
    "Por curiosidad, veamos algunas predicciones:"
   ]
  },
  {
   "cell_type": "code",
   "execution_count": null,
   "metadata": {
    "id": "l8CF7tGYBagx"
   },
   "outputs": [],
   "source": [
    "predictions = model.predict(x_test)\n",
    "print(\"Review 0: \", ' '.join([reverse_word_index.get(i - 3, '?') for i in test_data[0]]))\n",
    "print(\"Predicted positiveness: \", predictions[0])\n",
    "print(\"\\nReview 16: \", ' '.join([reverse_word_index.get(i - 3, '?') for i in test_data[16]]))\n",
    "print(\"Predicted positiveness: \", predictions[16])"
   ]
  },
  {
   "cell_type": "markdown",
   "metadata": {
    "id": "anLSbJLkBagy"
   },
   "source": [
    "#### Qué cosas recordar de este ejemplo\n",
    "* Las redes neuronales requieren mucho procesamiento previo para crear tensores\n",
    "* Capas *Dense* con activaciones ReLU pueden resolver una amplia gama de problemas\n",
    "* La clasificación binaria se puede hacer con una capa Dense con una unidad en la salida con activación sigmoid, y binary cross-entropy loss\n",
    "* Las redes neuronales se sobreajustan fácilmente\n",
    "* Muchas opciones de diseño tienen un efecto sobre el accuracy y el sobreajuste. Probar:\n",
    "    - 1 o 3 capas ocultas\n",
    "    - más o menos unidades ocultas (ej. 64)\n",
    "    - MSE loss en vez de binary cross-entropy\n",
    "    - activación `tanh` en vez de `ReLU`"
   ]
  },
  {
   "cell_type": "markdown",
   "metadata": {
    "id": "7CgCWd9QBag0"
   },
   "source": [
    "### Clasificación de varias clases o multi-clase (clasificación de temas)\n",
    "* Dataset: 11 000 noticias, 46 temas\n",
    "    - Incluido en Keras, con una división de entrenamiento-prueba de 50/50\n",
    "* Cada fila es una noticia, con solo las 10 000 palabras más frecuentes retenidas\n",
    "* Cada palabra se reemplaza por un *índice de palabra* (ID de palabra)"
   ]
  },
  {
   "cell_type": "code",
   "execution_count": 13,
   "metadata": {
    "colab": {
     "base_uri": "https://localhost:8080/"
    },
    "hide_input": true,
    "id": "ZSEUxPiiBag0",
    "outputId": "fd4af33b-3502-4689-b956-7c530aa7ea7a"
   },
   "outputs": [
    {
     "name": "stdout",
     "output_type": "stream",
     "text": [
      "Downloading data from https://storage.googleapis.com/tensorflow/tf-keras-datasets/reuters.npz\n",
      "2113536/2110848 [==============================] - 0s 0us/step\n",
      "2121728/2110848 [==============================] - 0s 0us/step\n",
      "Downloading data from https://storage.googleapis.com/tensorflow/tf-keras-datasets/reuters_word_index.json\n",
      "557056/550378 [==============================] - 0s 0us/step\n",
      "565248/550378 [==============================] - 0s 0us/step\n",
      "News wire:  ? ? ? said as a result of its december acquisition of space co it expects earnings per share in 1987 of 1 15 to 1 30 dlrs per share up from 70 cts in 1986 the company said pretax net should rise to nine to 10 mln dlrs from six mln dlrs in 1986 and rental operation revenues to 19 to 22 mln dlrs from 12 5 mln dlrs it said cash flow per share this year should be 2 50 to three dlrs reuter 3\n",
      "Encoded:  [1, 2, 2, 8, 43, 10, 447, 5, 25, 207, 270, 5, 3095, 111, 16, 369, 186, 90, 67, 7]\n",
      "Topic:  3\n"
     ]
    }
   ],
   "source": [
    "from tensorflow.keras.datasets import reuters\n",
    "\n",
    "(train_data, train_labels), (test_data, test_labels) = reuters.load_data(num_words=10000)\n",
    "\n",
    "word_index = reuters.get_word_index()\n",
    "reverse_word_index = dict([(value, key) for (key, value) in word_index.items()])\n",
    "# Note that our indices were offset by 3\n",
    "# because 0, 1 and 2 are reserved indices for \"padding\", \"start of sequence\", and \"unknown\".\n",
    "decoded_newswire = ' '.join([reverse_word_index.get(i - 3, '?') for i in train_data[0]])\n",
    "print(\"News wire: \",decoded_newswire)\n",
    "print(\"Encoded: \", train_data[0][0:20])\n",
    "print(\"Topic: \",train_labels[0])"
   ]
  },
  {
   "cell_type": "markdown",
   "metadata": {
    "id": "9zPBpi2XBag0"
   },
   "source": [
    "#### Preparando los datos\n",
    "* Tenemos que volver a vectorizar los datos (usando one-hot-encoding)\n",
    "* También tenemos que vectorizar las etiquetas de salida, también usando one-hot-encoding\n",
    "    - Podemos usar de Keras `to_categorical` nuevamente\n",
    "    - Esto produce un vector de 46 punto flotantes (0/1) para cada muestra.\n",
    "    \n",
    "``` python\n",
    "from keras.utils.np_utils import to_categorical\n",
    "x_train = vectorize_sequences(train_data)\n",
    "x_test = vectorize_sequences(test_data)\n",
    "one_hot_train_labels = to_categorical(train_labels)\n",
    "one_hot_test_labels = to_categorical(test_labels)\n",
    "```"
   ]
  },
  {
   "cell_type": "code",
   "execution_count": 14,
   "metadata": {
    "id": "nUAECFZCBag0"
   },
   "outputs": [],
   "source": [
    "from keras.utils.np_utils import to_categorical\n",
    "x_train = vectorize_sequences(train_data)\n",
    "x_test = vectorize_sequences(test_data)\n",
    "one_hot_train_labels = to_categorical(train_labels)\n",
    "one_hot_test_labels = to_categorical(test_labels)"
   ]
  },
  {
   "cell_type": "markdown",
   "metadata": {
    "id": "y-nva4RRBag0"
   },
   "source": [
    "#### Construyendo la red\n",
    "* *Cuello de botella de información*: cada capa puede \"botar\" cierta información, que nunca podrá ser recuperada por capas posteriores\n",
    "* 16 unidades ocultas pueden ser demasiado limitadas para aprender 46 temas, por lo que usamos 64 en cada capa\n",
    "* La capa de salida ahora necesita 46 unidades, una para cada tema.\n",
    "    - Usamos la activación `softmax` para que la salida obtenga probabilidades\n",
    "* La loss function es ahora `categorical_crossentropy`\n",
    "\n",
    "``` python\n",
    "model = models.Sequential()\n",
    "model.add(layers.Dense(64, activation='relu', input_shape=(10000,)))\n",
    "model.add(layers.Dense(64, activation='relu'))\n",
    "model.add(layers.Dense(46, activation='softmax'))\n",
    "model.compile(optimizer='rmsprop', loss='categorical_crossentropy',\n",
    "              metrics=['accuracy'])\n",
    "```"
   ]
  },
  {
   "cell_type": "code",
   "execution_count": 15,
   "metadata": {
    "id": "WnuZyPKHBag1"
   },
   "outputs": [],
   "source": [
    "model = models.Sequential()\n",
    "model.add(layers.Dense(64, activation='relu', input_shape=(10000,)))\n",
    "model.add(layers.Dense(64, activation='relu'))\n",
    "model.add(layers.Dense(46, activation='softmax'))\n",
    "model.compile(optimizer='rmsprop',\n",
    "              loss='categorical_crossentropy',\n",
    "              metrics=['accuracy'])"
   ]
  },
  {
   "cell_type": "markdown",
   "metadata": {
    "id": "ixI_fgSrBag1"
   },
   "source": [
    "#### Selección de modelo\n",
    "* Tome un conjunto de validación del conjunto de entrenamiento\n",
    "* Fit nuevamente con 20 épocas"
   ]
  },
  {
   "cell_type": "code",
   "execution_count": 16,
   "metadata": {
    "id": "28bCtUWNBag1"
   },
   "outputs": [],
   "source": [
    "x_val, partial_x_train = x_train[:1000], x_train[1000:]\n",
    "y_val, partial_y_train = one_hot_train_labels[:1000], one_hot_train_labels[1000:]"
   ]
  },
  {
   "cell_type": "code",
   "execution_count": 17,
   "metadata": {
    "colab": {
     "base_uri": "https://localhost:8080/"
    },
    "id": "Byss4upJBag1",
    "outputId": "3be5c539-04d5-4ddb-8fca-0e1d46d18523"
   },
   "outputs": [
    {
     "name": "stdout",
     "output_type": "stream",
     "text": [
      "Epoch 1/20\n",
      "16/16 [==============================] - 2s 62ms/step - loss: 2.6613 - accuracy: 0.5179 - val_loss: 1.7654 - val_accuracy: 0.6560\n",
      "Epoch 2/20\n",
      "16/16 [==============================] - 1s 50ms/step - loss: 1.4341 - accuracy: 0.7060 - val_loss: 1.3073 - val_accuracy: 0.7170\n",
      "Epoch 3/20\n",
      "16/16 [==============================] - 1s 50ms/step - loss: 1.0535 - accuracy: 0.7761 - val_loss: 1.1306 - val_accuracy: 0.7630\n",
      "Epoch 4/20\n",
      "16/16 [==============================] - 1s 49ms/step - loss: 0.8305 - accuracy: 0.8259 - val_loss: 1.0676 - val_accuracy: 0.7670\n",
      "Epoch 5/20\n",
      "16/16 [==============================] - 1s 48ms/step - loss: 0.6603 - accuracy: 0.8637 - val_loss: 0.9727 - val_accuracy: 0.8040\n",
      "Epoch 6/20\n",
      "16/16 [==============================] - 1s 49ms/step - loss: 0.5254 - accuracy: 0.8908 - val_loss: 0.9272 - val_accuracy: 0.8030\n",
      "Epoch 7/20\n",
      "16/16 [==============================] - 1s 49ms/step - loss: 0.4200 - accuracy: 0.9134 - val_loss: 0.8992 - val_accuracy: 0.8140\n",
      "Epoch 8/20\n",
      "16/16 [==============================] - 1s 50ms/step - loss: 0.3397 - accuracy: 0.9298 - val_loss: 0.9349 - val_accuracy: 0.8080\n",
      "Epoch 9/20\n",
      "16/16 [==============================] - 1s 48ms/step - loss: 0.2850 - accuracy: 0.9376 - val_loss: 0.8860 - val_accuracy: 0.8190\n",
      "Epoch 10/20\n",
      "16/16 [==============================] - 1s 49ms/step - loss: 0.2368 - accuracy: 0.9445 - val_loss: 0.9043 - val_accuracy: 0.8200\n",
      "Epoch 11/20\n",
      "16/16 [==============================] - 1s 48ms/step - loss: 0.2079 - accuracy: 0.9474 - val_loss: 0.9534 - val_accuracy: 0.8080\n",
      "Epoch 12/20\n",
      "16/16 [==============================] - 1s 50ms/step - loss: 0.1825 - accuracy: 0.9494 - val_loss: 1.0000 - val_accuracy: 0.7910\n",
      "Epoch 13/20\n",
      "16/16 [==============================] - 1s 49ms/step - loss: 0.1624 - accuracy: 0.9513 - val_loss: 0.9484 - val_accuracy: 0.8180\n",
      "Epoch 14/20\n",
      "16/16 [==============================] - 1s 49ms/step - loss: 0.1526 - accuracy: 0.9546 - val_loss: 0.9809 - val_accuracy: 0.8090\n",
      "Epoch 15/20\n",
      "16/16 [==============================] - 1s 49ms/step - loss: 0.1414 - accuracy: 0.9554 - val_loss: 0.9763 - val_accuracy: 0.8080\n",
      "Epoch 16/20\n",
      "16/16 [==============================] - 1s 49ms/step - loss: 0.1340 - accuracy: 0.9564 - val_loss: 0.9773 - val_accuracy: 0.8130\n",
      "Epoch 17/20\n",
      "16/16 [==============================] - 1s 50ms/step - loss: 0.1260 - accuracy: 0.9572 - val_loss: 1.0282 - val_accuracy: 0.8040\n",
      "Epoch 18/20\n",
      "16/16 [==============================] - 1s 48ms/step - loss: 0.1193 - accuracy: 0.9580 - val_loss: 1.0075 - val_accuracy: 0.8070\n",
      "Epoch 19/20\n",
      "16/16 [==============================] - 1s 48ms/step - loss: 0.1176 - accuracy: 0.9563 - val_loss: 1.0827 - val_accuracy: 0.8000\n",
      "Epoch 20/20\n",
      "16/16 [==============================] - 1s 48ms/step - loss: 0.1127 - accuracy: 0.9573 - val_loss: 1.0665 - val_accuracy: 0.8060\n"
     ]
    }
   ],
   "source": [
    "history = model.fit(partial_x_train,\n",
    "                    partial_y_train,\n",
    "                    epochs=20, verbose=1,\n",
    "                    batch_size=512,\n",
    "                    validation_data=(x_val, y_val))"
   ]
  },
  {
   "cell_type": "markdown",
   "metadata": {
    "id": "YglCrP8HBag1"
   },
   "source": [
    "La curva de la pérdida:"
   ]
  },
  {
   "cell_type": "code",
   "execution_count": 18,
   "metadata": {
    "colab": {
     "base_uri": "https://localhost:8080/",
     "height": 295
    },
    "hide_input": true,
    "id": "sd4A7Xi_Bag1",
    "outputId": "7110938d-7f82-4a25-fcb0-77e739166768"
   },
   "outputs": [
    {
     "data": {
      "image/png": "[encoded data removed]",
      "text/plain": [
       "<Figure size 432x288 with 1 Axes>"
      ]
     },
     "metadata": {
      "needs_background": "light"
     },
     "output_type": "display_data"
    }
   ],
   "source": [
    "import matplotlib.pyplot as plt\n",
    "\n",
    "loss = history.history['loss']\n",
    "val_loss = history.history['val_loss']\n",
    "\n",
    "epochs = range(1, len(loss) + 1)\n",
    "\n",
    "plt.plot(epochs, loss, 'bo', label='Training loss')\n",
    "plt.plot(epochs, val_loss, 'b', label='Validation loss')\n",
    "plt.title('Training and validation loss')\n",
    "plt.xlabel('Epochs')\n",
    "plt.ylabel('Loss')\n",
    "plt.legend()\n",
    "\n",
    "plt.show()"
   ]
  },
  {
   "cell_type": "markdown",
   "metadata": {
    "id": "mGK8CcFKBag2"
   },
   "source": [
    "Curva del accuracy. El sobreajuste comienza después de aproximadamente 8 épocas"
   ]
  },
  {
   "cell_type": "code",
   "execution_count": 19,
   "metadata": {
    "colab": {
     "base_uri": "https://localhost:8080/",
     "height": 295
    },
    "hide_input": false,
    "id": "7b-0dw-PBag2",
    "outputId": "9bb400e6-b6ef-4ff7-ce66-6aeebd65ca76"
   },
   "outputs": [
    {
     "data": {
      "image/png": "[encoded data removed]",
      "text/plain": [
       "<Figure size 432x288 with 1 Axes>"
      ]
     },
     "metadata": {
      "needs_background": "light"
     },
     "output_type": "display_data"
    }
   ],
   "source": [
    "plt.clf()   # clear figure\n",
    "\n",
    "acc = history.history['accuracy']\n",
    "val_acc = history.history['val_accuracy']\n",
    "\n",
    "plt.plot(epochs, acc, 'bo', label='Training acc')\n",
    "plt.plot(epochs, val_acc, 'b', label='Validation acc')\n",
    "plt.title('Training and validation accuracy')\n",
    "plt.xlabel('Epochs')\n",
    "plt.ylabel('Accuracy')\n",
    "plt.legend()\n",
    "\n",
    "plt.show()"
   ]
  },
  {
   "cell_type": "markdown",
   "metadata": {
    "id": "qpVKRhbpBag2"
   },
   "source": [
    "Vuelva a entrenar con parada temprana después de 8 épocas y valide\n",
    "\n",
    "``` python\n",
    "model.fit(partial_x_train, partial_y_train, epochs=8, batch_size=512, verbose=0,)\n",
    "result = model.evaluate(x_test, one_hot_test_labels)\n",
    "```"
   ]
  },
  {
   "cell_type": "code",
   "execution_count": 20,
   "metadata": {
    "colab": {
     "base_uri": "https://localhost:8080/"
    },
    "id": "P-VjuLgFBag2",
    "outputId": "917d31a6-3962-496c-9d65-57400b063a25"
   },
   "outputs": [
    {
     "name": "stdout",
     "output_type": "stream",
     "text": [
      "71/71 [==============================] - 0s 3ms/step - loss: 1.3416 - accuracy: 0.7894\n",
      "Loss: 1.3416, Accuracy: 0.7894\n"
     ]
    }
   ],
   "source": [
    "model.fit(partial_x_train, partial_y_train, epochs=8, batch_size=512, verbose=0)\n",
    "result = model.evaluate(x_test, one_hot_test_labels)\n",
    "print(\"Loss: {:.4f}, Accuracy: {:.4f}\".format(*result))"
   ]
  },
  {
   "cell_type": "markdown",
   "metadata": {
    "id": "b46FMRxIBag2"
   },
   "source": [
    "#### Cuello de botella de información\n",
    "* ¿Qué sucede si creamos un cuello de botella de información a propósito?\n",
    "    - Use solo 4 unidades ocultas en la segunda capa\n",
    "* Accuracy cae dramáticamente!\n",
    "* Estamos tratando de aprender 46 hiperplanos separadores de una representación de 4 dimensiones\n",
    "    - Se las arregla para guardar mucha información, pero también pierde mucha\n",
    "    \n",
    "``` python\n",
    "model = models.Sequential()\n",
    "model.add(layers.Dense(64, activation='relu', input_shape=(10000,)))\n",
    "model.add(layers.Dense(4, activation='relu'))\n",
    "model.add(layers.Dense(46, activation='softmax'))\n",
    "```"
   ]
  },
  {
   "cell_type": "code",
   "execution_count": 23,
   "metadata": {
    "colab": {
     "base_uri": "https://localhost:8080/"
    },
    "id": "mRpGgtAUBag2",
    "outputId": "c2c0d045-e437-4375-acbb-f9a94758ee7f"
   },
   "outputs": [
    {
     "name": "stdout",
     "output_type": "stream",
     "text": [
      "71/71 [==============================] - 0s 3ms/step - loss: 1.9054 - accuracy: 0.6866\n",
      "Loss: 1.9054, Accuracy: 0.6866\n"
     ]
    }
   ],
   "source": [
    "model = models.Sequential()\n",
    "model.add(layers.Dense(64, activation='relu', input_shape=(10000,)))\n",
    "model.add(layers.Dense(4, activation='relu'))\n",
    "model.add(layers.Dense(46, activation='softmax'))\n",
    "\n",
    "model.compile(optimizer='rmsprop',\n",
    "              loss='categorical_crossentropy',\n",
    "              metrics=['accuracy'])\n",
    "model.fit(partial_x_train,\n",
    "          partial_y_train,\n",
    "          epochs=20,\n",
    "          batch_size=128, verbose=0,\n",
    "          validation_data=(x_val, y_val))\n",
    "result = model.evaluate(x_test, one_hot_test_labels)\n",
    "print(\"Loss: {:.4f}, Accuracy: {:.4f}\".format(*result))"
   ]
  },
  {
   "cell_type": "markdown",
   "metadata": {
    "id": "w74C7pZ4Bag3"
   },
   "source": [
    "#### Qué cosas recordar de este ejemplo\n",
    "* Para un problema con $C$ clases, la capa Dense final necesita $C$ unidades\n",
    "* Utilizar la activación `softmax` y pérdida `categorical_crossentropy`\n",
    "* Cuello de botella de información: al clasificar muchas clases, las capas ocultas deben ser lo suficientemente grandes\n",
    "* Muchas opciones de diseño tienen un efecto sobre el accuracy y el sobreajuste. Probar:\n",
    "    - 1 o 3 capas ocultas\n",
    "    - más o menos unidades ocultas (por ejemplo, 128)"
   ]
  },
  {
   "cell_type": "markdown",
   "metadata": {
    "id": "-26mu7pABag3"
   },
   "source": [
    "### Regresión\n",
    "* Dataset: 506 ejemplos de casas y precios de venta ([Boston](https://www.kaggle.com/c/boston-housing))\n",
    "    - Incluido en Keras, con una división de entrenamiento-prueba de 1/5\n",
    "* Cada fila es un precio de la casa, descrito por propiedades numéricas de la casa y el vecindario\n",
    "* Conjunto de datos pequeño, características no normalizadas"
   ]
  },
  {
   "cell_type": "code",
   "execution_count": null,
   "metadata": {
    "colab": {
     "base_uri": "https://localhost:8080/"
    },
    "id": "iqazpO3-Bag3",
    "outputId": "b00d6c69-0986-431b-aa5f-961846404881"
   },
   "outputs": [],
   "source": [
    "from tensorflow.keras.datasets import boston_housing\n",
    "\n",
    "(train_data, train_targets), (test_data, test_targets) =  boston_housing.load_data()"
   ]
  },
  {
   "cell_type": "markdown",
   "metadata": {
    "id": "iXDyN4vtBag3"
   },
   "source": [
    "#### Preprocesamiento\n",
    "* Las redes neuronales funcionan mucho mejor si primero normalizamos las características. \n",
    "* Keras no tiene soporte incorporado, por lo que tenemos que hacer esto manualmente (o con scikit-learn)\n",
    "    - Nuevamente, tenga cuidado de no mirar los datos de prueba durante la normalización\n",
    "    \n",
    "``` python\n",
    "mean, std = train_data.mean(axis=0), train_data.std(axis=0)\n",
    "train_data -= mean\n",
    "train_data /= std\n",
    "test_data -= mean\n",
    "test_data /= std\n",
    "```"
   ]
  },
  {
   "cell_type": "code",
   "execution_count": 25,
   "metadata": {
    "id": "l5YgGR9oBag3"
   },
   "outputs": [],
   "source": [
    "mean, std = train_data.mean(axis=0), train_data.std(axis=0)\n",
    "train_data -= mean\n",
    "train_data /= std\n",
    "test_data -= mean\n",
    "test_data /= std"
   ]
  },
  {
   "cell_type": "markdown",
   "metadata": {
    "id": "-E2KCetBBag3"
   },
   "source": [
    "#### Construyendo la red\n",
    "* Este es un conjunto de datos pequeño, muy fácil de sobreajustar\n",
    "    * Usamos 2 capas ocultas de 64 unidades cada una\n",
    "* Utilice lotes más pequeños, más épocas\n",
    "* Como queremos una salida escalar, la capa de salida es una unidad sin activación\n",
    "* Loss function es Mean Squared Error (mayor penalización)\n",
    "* La métrica de evaluación es Mean Absolute Error (más interpretable)\n",
    "* También usaremos cross-validation, así que envolvemos la construcción del modelo en una función, de modo que podamos llamarla varias veces"
   ]
  },
  {
   "cell_type": "markdown",
   "metadata": {
    "id": "X3OJaVgBBag3"
   },
   "source": [
    "``` python\n",
    "def build_model():\n",
    "    model = models.Sequential()\n",
    "    model.add(layers.Dense(64, activation='relu',\n",
    "                           input_shape=(train_data.shape[1],)))\n",
    "    model.add(layers.Dense(64, activation='relu'))\n",
    "    model.add(layers.Dense(1))\n",
    "    model.compile(optimizer='rmsprop', loss='mse', metrics=['mae'])\n",
    "    return model\n",
    "```"
   ]
  },
  {
   "cell_type": "code",
   "execution_count": 26,
   "metadata": {
    "id": "AUiQu7c7Bag4"
   },
   "outputs": [],
   "source": [
    "def build_model():\n",
    "    model = models.Sequential()\n",
    "    model.add(layers.Dense(64, activation='relu',\n",
    "                           input_shape=(train_data.shape[1],)))\n",
    "    model.add(layers.Dense(64, activation='relu'))\n",
    "    model.add(layers.Dense(1))\n",
    "    model.compile(optimizer='rmsprop', loss='mse', metrics=['mae'])\n",
    "    return model"
   ]
  },
  {
   "cell_type": "markdown",
   "metadata": {
    "id": "LEDROw_TBag4"
   },
   "source": [
    "#### Cross-validation\n",
    "* Keras no tiene soporte para cross-validation\n",
    "* Podemos implementar cross-validation nosotros mismos (ver notebook)\n",
    "* Generalmente hablando, cross-validation es complicado con las redes neuronales\n",
    "    * Es posible que algunas dobladas no converjan o fluctúen en la inicialización aleatoria."
   ]
  },
  {
   "cell_type": "code",
   "execution_count": null,
   "metadata": {
    "colab": {
     "base_uri": "https://localhost:8080/"
    },
    "id": "1YKBp1HzBag4",
    "outputId": "f9549fb5-0efe-4e5f-d06b-1c278470fd71"
   },
   "outputs": [
    {
     "name": "stdout",
     "output_type": "stream",
     "text": [
      "processing fold # 0\n",
      "processing fold # 1\n",
      "processing fold # 2\n",
      "processing fold # 3\n"
     ]
    }
   ],
   "source": [
    "#tarda 5min aprox.\n",
    "import numpy as np\n",
    "\n",
    "k = 4\n",
    "num_val_samples = len(train_data) // k\n",
    "num_epochs = 100\n",
    "all_scores = []\n",
    "for i in range(k):\n",
    "    print('processing fold #', i)\n",
    "    # Prepare the validation data: data from partition # k\n",
    "    val_data = train_data[i * num_val_samples: (i + 1) * num_val_samples]\n",
    "    val_targets = train_targets[i * num_val_samples: (i + 1) * num_val_samples]\n",
    "\n",
    "    # Prepare the training data: data from all other partitions\n",
    "    partial_train_data = np.concatenate(\n",
    "        [train_data[:i * num_val_samples],\n",
    "         train_data[(i + 1) * num_val_samples:]],\n",
    "        axis=0)\n",
    "    partial_train_targets = np.concatenate(\n",
    "        [train_targets[:i * num_val_samples],\n",
    "         train_targets[(i + 1) * num_val_samples:]],\n",
    "        axis=0)\n",
    "\n",
    "    # Build the Keras model (already compiled)\n",
    "    model = build_model()\n",
    "    # Train the model (in silent mode, verbose=0)\n",
    "    model.fit(partial_train_data, partial_train_targets,\n",
    "              epochs=num_epochs, batch_size=1, verbose=0)\n",
    "    # Evaluate the model on the validation data\n",
    "    val_mse, val_mae = model.evaluate(val_data, val_targets, verbose=0)\n",
    "    all_scores.append(val_mae)"
   ]
  },
  {
   "cell_type": "code",
   "execution_count": null,
   "metadata": {
    "colab": {
     "base_uri": "https://localhost:8080/"
    },
    "id": "6KP-2k20Bag4",
    "outputId": "1a32afc4-ed89-4db4-8879-f9650e4dffa9"
   },
   "outputs": [
    {
     "name": "stdout",
     "output_type": "stream",
     "text": [
      "MAE:  2.4756230115890503\n"
     ]
    }
   ],
   "source": [
    "print(\"MAE: \", np.mean(all_scores))"
   ]
  },
  {
   "cell_type": "markdown",
   "metadata": {
    "id": "2OUPt1oQBag5"
   },
   "source": [
    "Entrena durante más tiempo (500 épocas) y realiza un seguimiento de las pérdidas después de cada época\n",
    "(ver código en el notebook)"
   ]
  },
  {
   "cell_type": "code",
   "execution_count": null,
   "metadata": {
    "colab": {
     "base_uri": "https://localhost:8080/"
    },
    "id": "SIemR83UBag5",
    "outputId": "013a3d6b-013a-4244-d61f-6e3c6c72ec9c"
   },
   "outputs": [
    {
     "name": "stdout",
     "output_type": "stream",
     "text": [
      "processing fold # 0\n",
      "processing fold # 1\n",
      "processing fold # 2\n",
      "processing fold # 3\n"
     ]
    }
   ],
   "source": [
    "#tarda como 25 min.\n",
    "from keras import backend as K\n",
    "K.clear_session() # Memory clean-up\n",
    "\n",
    "num_epochs = 500\n",
    "all_mae_histories = []\n",
    "for i in range(k):\n",
    "    print('processing fold #', i)\n",
    "    # Prepare the validation data: data from partition # k\n",
    "    val_data = train_data[i * num_val_samples: (i + 1) * num_val_samples]\n",
    "    val_targets = train_targets[i * num_val_samples: (i + 1) * num_val_samples]\n",
    "\n",
    "    # Prepare the training data: data from all other partitions\n",
    "    partial_train_data = np.concatenate(\n",
    "        [train_data[:i * num_val_samples],\n",
    "         train_data[(i + 1) * num_val_samples:]],\n",
    "        axis=0)\n",
    "    partial_train_targets = np.concatenate(\n",
    "        [train_targets[:i * num_val_samples],\n",
    "         train_targets[(i + 1) * num_val_samples:]],\n",
    "        axis=0)\n",
    "\n",
    "    # Build the Keras model (already compiled)\n",
    "    model = build_model()\n",
    "    # Train the model (in silent mode, verbose=0)\n",
    "    history = model.fit(partial_train_data, partial_train_targets,\n",
    "                        validation_data=(val_data, val_targets),\n",
    "                        epochs=num_epochs, batch_size=1, verbose=0)\n",
    "    mae_history = history.history['val_mae']\n",
    "    all_mae_histories.append(mae_history)"
   ]
  },
  {
   "cell_type": "markdown",
   "metadata": {
    "id": "n0NND_OeBag5"
   },
   "source": [
    "El modelo comienza a sobreajustarse después de la época 80."
   ]
  },
  {
   "cell_type": "code",
   "execution_count": null,
   "metadata": {
    "colab": {
     "base_uri": "https://localhost:8080/",
     "height": 279
    },
    "id": "mNlsGr2VBag5",
    "outputId": "ab350f01-0efe-4915-f4cd-33c963023aa2"
   },
   "outputs": [
    {
     "data": {
      "image/png": "[encoded data removed]",
      "text/plain": [
       "<Figure size 432x288 with 1 Axes>"
      ]
     },
     "metadata": {
      "needs_background": "light"
     },
     "output_type": "display_data"
    }
   ],
   "source": [
    "average_mae_history = [\n",
    "    np.mean([x[i] for x in all_mae_histories]) for i in range(num_epochs)]\n",
    "plt.plot(range(1, len(average_mae_history) + 1), average_mae_history)\n",
    "plt.xlabel('Epochs')\n",
    "plt.ylabel('Validation MAE')\n",
    "plt.show()"
   ]
  },
  {
   "cell_type": "markdown",
   "metadata": {
    "id": "x4z6XXMEBag5"
   },
   "source": [
    "Vuelva a entrenar con un número optimizado de épocas\n",
    "\n",
    "``` python\n",
    "model = build_model()\n",
    "model.fit(train_data, train_targets,\n",
    "          epochs=80, batch_size=16, verbose=0)\n",
    "```"
   ]
  },
  {
   "cell_type": "code",
   "execution_count": null,
   "metadata": {
    "colab": {
     "base_uri": "https://localhost:8080/"
    },
    "id": "oKznaoo1Bag5",
    "outputId": "8d1c286b-8b64-44ba-f547-9870a3bc5426"
   },
   "outputs": [
    {
     "name": "stdout",
     "output_type": "stream",
     "text": [
      "4/4 [==============================] - 0s 4ms/step - loss: 17.4592 - mae: 2.6644\n",
      "MAE:  2.664363384246826\n"
     ]
    }
   ],
   "source": [
    "# Get a fresh, compiled model.\n",
    "model = build_model()\n",
    "# Train it on the entirety of the data.\n",
    "model.fit(train_data, train_targets,\n",
    "          epochs=80, batch_size=16, verbose=0)\n",
    "test_mse_score, test_mae_score = model.evaluate(test_data, test_targets)\n",
    "print(\"MAE: \", test_mae_score)"
   ]
  },
  {
   "cell_type": "markdown",
   "metadata": {
    "id": "Ajqu9eBRBag6"
   },
   "source": [
    "#### Qué cosas recordar de este ejemplo \n",
    "* La regresión generalmente se realiza utilizando la pérdida de MSE y MAE para la evaluación\n",
    "* Los datos de entrada siempre se deben escalar (independientemente del conjunto de prueba)\n",
    "* Pequeños conjuntos de datos:\n",
    "    - Utilizar cross-validation\n",
    "    - Utilizar redes simples (non-deep)\n",
    "    - Lotes más pequeños, más épocas"
   ]
  },
  {
   "cell_type": "markdown",
   "metadata": {
    "id": "7wKeuryzBag6"
   },
   "source": [
    "### Regularización: construir redes más pequeñas\n",
    "* La forma más sencilla de evitar el sobreajuste es utilizar un modelo más sencillo\n",
    "* El número de parámetros que se pueden aprender se llama el *capacity* del modelo.\n",
    "* Un modelo con más parámetros tiene un mayor *memorization capacity*\n",
    "    - El conjunto de entrenamiento completo se puede 'almacenar' en los pesos\n",
    "    - Aprende el mapeo desde los ejemplos de entrenamiento a la salida deseada\n",
    "* Forzar el modelo a ser pequeño lo obliga a aprender una representación comprimida que generaliza mejor\n",
    "    - Siempre una compensación entre demasiado y muy poca capacidad\n",
    "* Comience con pocas capas y parámetros, aumente hasta que vea rendimientos decrecientes"
   ]
  },
  {
   "cell_type": "markdown",
   "metadata": {
    "id": "Ir4tMFIhBag6"
   },
   "source": [
    "Probemos esto con nuestros datos de reseñas de películas, con 4 unidades por capa\n",
    "\n",
    "``` python\n",
    "smaller_model = models.Sequential()\n",
    "smaller_model.add(layers.Dense(4, activation='relu', input_shape=(10000,)))\n",
    "smaller_model.add(layers.Dense(4, activation='relu'))\n",
    "smaller_model.add(layers.Dense(1, activation='sigmoid'))\n",
    "```"
   ]
  },
  {
   "cell_type": "code",
   "execution_count": null,
   "metadata": {
    "id": "pevcRSR0Bag6"
   },
   "outputs": [],
   "source": [
    "from tensorflow.keras.datasets import imdb\n",
    "import numpy as np\n",
    "\n",
    "(train_data, train_labels), (test_data, test_labels) = imdb.load_data(num_words=10000)\n",
    "\n",
    "def vectorize_sequences(sequences, dimension=10000):\n",
    "    # Create an all-zero matrix of shape (len(sequences), dimension)\n",
    "    results = np.zeros((len(sequences), dimension))\n",
    "    for i, sequence in enumerate(sequences):\n",
    "        results[i, sequence] = 1.  # set specific indices of results[i] to 1s\n",
    "    return results\n",
    "\n",
    "# Our vectorized training data\n",
    "x_train = vectorize_sequences(train_data)\n",
    "# Our vectorized test data\n",
    "x_test = vectorize_sequences(test_data)\n",
    "# Our vectorized labels\n",
    "y_train = np.asarray(train_labels).astype('float32')\n",
    "y_test = np.asarray(test_labels).astype('float32')"
   ]
  },
  {
   "cell_type": "code",
   "execution_count": null,
   "metadata": {
    "id": "9kLxGFK5Bag6"
   },
   "outputs": [],
   "source": [
    "from tensorflow.keras import models\n",
    "from tensorflow.keras import layers \n",
    "\n",
    "original_model = models.Sequential()\n",
    "original_model.add(layers.Dense(16, activation='relu', input_shape=(10000,)))\n",
    "original_model.add(layers.Dense(16, activation='relu'))\n",
    "original_model.add(layers.Dense(1, activation='sigmoid'))\n",
    "\n",
    "original_model.compile(optimizer='rmsprop',\n",
    "                       loss='binary_crossentropy',\n",
    "                       metrics=['acc'])\n",
    "\n",
    "smaller_model = models.Sequential()\n",
    "smaller_model.add(layers.Dense(4, activation='relu', input_shape=(10000,)))\n",
    "smaller_model.add(layers.Dense(4, activation='relu'))\n",
    "smaller_model.add(layers.Dense(1, activation='sigmoid'))\n",
    "\n",
    "smaller_model.compile(optimizer='rmsprop',\n",
    "                      loss='binary_crossentropy',\n",
    "                      metrics=['acc'])\n",
    "original_hist = original_model.fit(x_train, y_train,\n",
    "                                   epochs=20,\n",
    "                                   batch_size=512, verbose=0,\n",
    "                                   validation_data=(x_test, y_test))\n",
    "smaller_model_hist = smaller_model.fit(x_train, y_train,\n",
    "                                       epochs=20,\n",
    "                                       batch_size=512, verbose=0,\n",
    "                                       validation_data=(x_test, y_test))"
   ]
  },
  {
   "cell_type": "markdown",
   "metadata": {
    "id": "8RSboZ7kBag6"
   },
   "source": [
    "El modelo más pequeño comienza a sobreajustarse más tarde que el original, y se sobreajusta más *lentamente*"
   ]
  },
  {
   "cell_type": "code",
   "execution_count": null,
   "metadata": {
    "id": "dPCInYBeBag7"
   },
   "outputs": [],
   "source": [
    "epochs = range(1, 21)\n",
    "original_val_loss = original_hist.history['val_loss']\n",
    "smaller_model_val_loss = smaller_model_hist.history['val_loss']"
   ]
  },
  {
   "cell_type": "code",
   "execution_count": null,
   "metadata": {
    "colab": {
     "base_uri": "https://localhost:8080/",
     "height": 279
    },
    "id": "hqX7-tsoBag7",
    "outputId": "6721dbf9-954b-4f5a-af52-a39fee3dc0f8"
   },
   "outputs": [
    {
     "data": {
      "image/png": "[encoded data removed]",
      "text/plain": [
       "<Figure size 432x288 with 1 Axes>"
      ]
     },
     "metadata": {
      "needs_background": "light"
     },
     "output_type": "display_data"
    }
   ],
   "source": [
    "import matplotlib.pyplot as plt\n",
    "\n",
    "plt.plot(epochs, original_val_loss, 'b+', label='Original model')\n",
    "plt.plot(epochs, smaller_model_val_loss, 'bo', label='Smaller model')\n",
    "plt.xlabel('Epochs')\n",
    "plt.ylabel('Validation loss')\n",
    "plt.legend()\n",
    "\n",
    "plt.show()"
   ]
  },
  {
   "cell_type": "markdown",
   "metadata": {
    "id": "HIXrXRJKBag7"
   },
   "source": [
    "### Regularización: regularización de peso\n",
    "* Como hicimos muchas veces antes, también podemos agregar la regularización de peso a nuestra función de pérdida.\n",
    "- Regularización L1 : lleva a *sparse networks* con muchos pesos que son 0\n",
    "- Regularización L2 : conduce a muchos pesos muy pequeños\n",
    "    - También llamado *weight decay* en la literatura de redes neuronales\n",
    "* En Keras, agregue `kernel_regularizer` a cada capa"
   ]
  },
  {
   "cell_type": "markdown",
   "metadata": {
    "id": "cRRYwoZbBag7"
   },
   "source": [
    "``` python\n",
    "from tensorflow.keras import regularizers\n",
    "\n",
    "l2_model = models.Sequential()\n",
    "l2_model.add(layers.Dense(16, kernel_regularizer=regularizers.l2(0.001),\n",
    "                          activation='relu', input_shape=(10000,)))\n",
    "l2_model.add(layers.Dense(16, kernel_regularizer=regularizers.l2(0.001),\n",
    "                          activation='relu'))\n",
    "l2_model.add(layers.Dense(1, activation='sigmoid'))\n",
    "```"
   ]
  },
  {
   "cell_type": "code",
   "execution_count": null,
   "metadata": {
    "id": "3AR8r_vKBag7"
   },
   "outputs": [],
   "source": [
    "from keras import regularizers\n",
    "\n",
    "l2_model = models.Sequential()\n",
    "l2_model.add(layers.Dense(16, kernel_regularizer=regularizers.l2(0.001),\n",
    "                          activation='relu', input_shape=(10000,)))\n",
    "l2_model.add(layers.Dense(16, kernel_regularizer=regularizers.l2(0.001),\n",
    "                          activation='relu'))\n",
    "l2_model.add(layers.Dense(1, activation='sigmoid'))"
   ]
  },
  {
   "cell_type": "code",
   "execution_count": null,
   "metadata": {
    "id": "AuSxEFQvBag7"
   },
   "outputs": [],
   "source": [
    "l2_model.compile(optimizer='rmsprop',\n",
    "                 loss='binary_crossentropy',\n",
    "                 metrics=['acc'])"
   ]
  },
  {
   "cell_type": "code",
   "execution_count": null,
   "metadata": {
    "id": "q6uS7mQJBag7"
   },
   "outputs": [],
   "source": [
    "l2_model_hist = l2_model.fit(x_train, y_train,\n",
    "                             epochs=20,\n",
    "                             batch_size=512, verbose=0,\n",
    "                             validation_data=(x_test, y_test))"
   ]
  },
  {
   "cell_type": "markdown",
   "metadata": {
    "id": "P0l05DhZBag8"
   },
   "source": [
    "El modelo regularizado L2 es mucho más resistente al sobreajuste, aunque ambos tienen el mismo número de parámetros"
   ]
  },
  {
   "cell_type": "code",
   "execution_count": null,
   "metadata": {
    "colab": {
     "base_uri": "https://localhost:8080/",
     "height": 279
    },
    "id": "7NGbgMFDBag8",
    "outputId": "d23ec3e7-4e63-4d93-bf6a-839a8a1c3b66"
   },
   "outputs": [
    {
     "data": {
      "image/png": "[encoded data removed]",
      "text/plain": [
       "<Figure size 432x288 with 1 Axes>"
      ]
     },
     "metadata": {
      "needs_background": "light"
     },
     "output_type": "display_data"
    }
   ],
   "source": [
    "l2_model_val_loss = l2_model_hist.history['val_loss']\n",
    "\n",
    "plt.plot(epochs, original_val_loss, 'b+', label='Original model')\n",
    "plt.plot(epochs, l2_model_val_loss, 'bo', label='L2-regularized model')\n",
    "plt.xlabel('Epochs')\n",
    "plt.ylabel('Validation loss')\n",
    "plt.legend()\n",
    "\n",
    "plt.show()"
   ]
  },
  {
   "cell_type": "markdown",
   "metadata": {
    "id": "eVUmB6keBag8"
   },
   "source": [
    "También puede probar la pérdida L1 o ambas al mismo tiempo\n",
    "``` python\n",
    "from tensorflow.keras import regularizers\n",
    "\n",
    "# L1 regularization\n",
    "regularizers.l1(0.001)\n",
    "\n",
    "# L1 and L2 regularization at the same time\n",
    "regularizers.l1_l2(l1=0.001, l2=0.001)\n",
    "```"
   ]
  },
  {
   "cell_type": "markdown",
   "metadata": {
    "id": "tObdZi_fBag8"
   },
   "source": [
    "### Regularización: dropout\n",
    "* Una de las técnicas de regularización más eficaces y utilizadas\n",
    "* Establecer aleatoriamente una cantidad de salidas de la capa en 0\n",
    "* Idea: romper patrones aprendidos accidentales no significativos \n",
    "* *Dropout rate*: fracción de las salidas que se ponen a cero\n",
    "    - Usualmente entre 0.2 y 0.5\n",
    "* En el momento de la prueba, no se descarta nada, pero los valores de salida se reducen según la tasa de dropout.\n",
    "    - Equilibra que hay más unidades activas que durante el entrenamiento\n",
    "* En Keras: agrega (add) capas `Dropout` entre las capas normales"
   ]
  },
  {
   "cell_type": "markdown",
   "metadata": {
    "id": "z4QRgrn-vXuj"
   },
   "source": [
    "![](https://drive.google.com/uc?id=1oLYMwj7ars6bVWUxAgsV4tWMsvjOgdQT)"
   ]
  },
  {
   "cell_type": "markdown",
   "metadata": {
    "id": "-6V2C-qzBag8"
   },
   "source": [
    "``` python\n",
    "dpt_model = models.Sequential()\n",
    "dpt_model.add(layers.Dense(16, activation='relu', input_shape=(10000,)))\n",
    "dpt_model.add(layers.Dropout(0.5))\n",
    "dpt_model.add(layers.Dense(16, activation='relu'))\n",
    "dpt_model.add(layers.Dropout(0.5))\n",
    "dpt_model.add(layers.Dense(1, activation='sigmoid'))\n",
    "\n",
    "dpt_model.compile(optimizer='rmsprop',\n",
    "                  loss='binary_crossentropy',\n",
    "                  metrics=['acc'])\n",
    "```"
   ]
  },
  {
   "cell_type": "code",
   "execution_count": null,
   "metadata": {
    "id": "qbYnUdiWBag8"
   },
   "outputs": [],
   "source": [
    "from tensorflow.keras import models\n",
    "from tensorflow.keras import layers \n",
    "\n",
    "dpt_model = models.Sequential()\n",
    "dpt_model.add(layers.Dense(16, activation='relu', input_shape=(10000,)))\n",
    "dpt_model.add(layers.Dropout(0.5))\n",
    "dpt_model.add(layers.Dense(16, activation='relu'))\n",
    "dpt_model.add(layers.Dropout(0.5))\n",
    "dpt_model.add(layers.Dense(1, activation='sigmoid'))\n",
    "\n",
    "dpt_model.compile(optimizer='rmsprop',\n",
    "                  loss='binary_crossentropy',\n",
    "                  metrics=['acc'])"
   ]
  },
  {
   "cell_type": "code",
   "execution_count": null,
   "metadata": {
    "id": "3TVMfCLqBag8"
   },
   "outputs": [],
   "source": [
    "dpt_model_hist = dpt_model.fit(x_train, y_train,\n",
    "                               epochs=20,\n",
    "                               batch_size=512, verbose=0,\n",
    "                               validation_data=(x_test, y_test))"
   ]
  },
  {
   "cell_type": "markdown",
   "metadata": {
    "id": "gHPTaWjVBag9"
   },
   "source": [
    "Dropout encuentra un modelo mejor y se sobreajusta más lentamente también"
   ]
  },
  {
   "cell_type": "code",
   "execution_count": null,
   "metadata": {
    "colab": {
     "base_uri": "https://localhost:8080/",
     "height": 279
    },
    "id": "7hhqZFeBBag9",
    "outputId": "2b350846-cee1-46d6-aa51-0c4e6b6cd207"
   },
   "outputs": [
    {
     "data": {
      "image/png": "[encoded data removed]",
      "text/plain": [
       "<Figure size 432x288 with 1 Axes>"
      ]
     },
     "metadata": {
      "needs_background": "light"
     },
     "output_type": "display_data"
    }
   ],
   "source": [
    "import matplotlib.pyplot as plt\n",
    "\n",
    "epochs = range(1, 21)\n",
    "\n",
    "dpt_model_val_loss = dpt_model_hist.history['val_loss']\n",
    "\n",
    "plt.plot(epochs, original_val_loss, 'b+', label='Original model')\n",
    "plt.plot(epochs, dpt_model_val_loss, 'bo', label='Dropout-regularized model')\n",
    "plt.xlabel('Epochs')\n",
    "plt.ylabel('Validation loss')\n",
    "plt.legend()\n",
    "\n",
    "plt.show()"
   ]
  },
  {
   "cell_type": "markdown",
   "metadata": {
    "id": "mzPozAkuBag9"
   },
   "source": [
    "### Regularización (resumen)\n",
    "* Obtener más datos de entrenamiento\n",
    "* Reducir la capacidad de la red\n",
    "* Agregar regularización de peso\n",
    "* Agregar dropout\n",
    "* Comience con un modelo simple y agregue capacidad\n",
    "* O, comenzar con un modelo complejo y luego regularizar agregando regularización de peso y dropout"
   ]
  },
  {
   "cell_type": "markdown",
   "metadata": {
    "id": "DSGsWl4pBag9"
   },
   "source": [
    "## Word Embeddings\n",
    "* Un embedding mapea cada palabra a un punto en un espacio n-dimensional (por ejemplo, 300 valores), de modo que palabras similares estén cerca unas de otras\n",
    "* Hay diferentes formas de aprender word embeddings. Los más comunes son:\n",
    "    * Word2Vec: Aprenda a codificar según las palabras que normalmente se encuentran en una ventana alrededor de la palabra\n",
    "        * La codificación se aprende utilizando una red neuronal de 1 capa\n",
    "    * GloVe (Global Vector): Contar co-ocurrencias de palabras en una matriz\n",
    "        * Utilice una aproximación de rango bajo para obtener una representación vectorial condensada\n",
    "    * FastText: aprende embedding para n-gramas en lugar de palabras completas\n",
    "        * También se puede producir embeddings para palabras nuevas\n",
    "    * BERT, ELMO,...: aprender un embedding contexto-dependiente: una palabra tiene un embedding diferente dependiendo de la oración o frase que aparece"
   ]
  },
  {
   "cell_type": "markdown",
   "metadata": {
    "id": "QevVG4uPBag9"
   },
   "source": [
    "### Word embeddings: Word2Vec and GloVe\n",
    "\n",
    "![](https://drive.google.com/uc?id=1lNhDZXed1l1jzhIVAi9mT8fA9XhUysSF)"
   ]
  },
  {
   "cell_type": "markdown",
   "metadata": {
    "id": "hKUCjMLGBag9"
   },
   "source": [
    "### Word2Vec\n",
    "- Continuous bag of words (CBOW): entrenar un modelo para predecir una palabra dado el contexto, use pesos de la última capa como embedding\n",
    "- Skip-Gram: entrenar modelo para predecir el contexto dado una palabra, usar pesos de la primera capa como embedding (mejor para grandes corpora)\n",
    "\n",
    "![](https://drive.google.com/uc?id=1TxDLccaDjB-Xh98pgNJdJa19nm4u4p6a)"
   ]
  },
  {
   "cell_type": "markdown",
   "metadata": {
    "id": "Xmyp9rQzBag9"
   },
   "source": [
    "### FastText\n",
    "Como CBOW o SkipGram, pero usando n-gramas en vez de palabras\n",
    "\n",
    "![](https://drive.google.com/uc?id=1ImR0-sRD5MszqE69Foxp1C8lXuPx-Kgm)"
   ]
  },
  {
   "cell_type": "markdown",
   "metadata": {
    "id": "zBT0lDM0Bag9"
   },
   "source": [
    "### BERT, ELMO, GPT,...\n",
    "* Utilice las redes de [transformadores](https://en.wikipedia.org/wiki/Transformer_(machine_learning_model)) para aprender las embeddings contextuales\n",
    "* Devlin et al. (2018) [BERT: Pre-training of Deep Bidirectional Transformers for Language Understanding](https://www.aclweb.org/anthology/N19-1423.pdf)\n",
    "\n",
    "![](https://drive.google.com/uc?id=1WusCGgXii28-x4dsI7n6bPmyySYrirSR)"
   ]
  },
  {
   "cell_type": "markdown",
   "metadata": {
    "id": "4ck39uFZBag-"
   },
   "source": [
    "## Usando Embeddings en Keras\n",
    "* Utiliza un embedding previamente entrenada, obtenida con GloVe\n",
    "* Ver un completo ejemplo [acá](https://blog.keras.io/using-pre-trained-word-embeddings-in-a-keras-model.html)\n",
    "\n",
    "``` python\n",
    "max_length = 20 # pad documents to a maximum number of words\n",
    "vocab_size = 10000 # vocabulary size\n",
    "embedding_length = 300 # vocabulary size\n",
    "# define the model\n",
    "model = Sequential()\n",
    "model.add(Embedding(vocab_size, embedding_length, input_length=max_length))\n",
    "model.add(Flatten())\n",
    "model.add(Dense(1, activation='sigmoid'))\n",
    "# compile the model\n",
    "model.compile(optimizer='rmsprop', loss='binary_crossentropy', metrics=['accuracy'])\n",
    "# summarize the model\n",
    "print(model.summary())\n",
    "```"
   ]
  },
  {
   "cell_type": "code",
   "execution_count": null,
   "metadata": {
    "id": "wSO1lQn4Bag-"
   },
   "outputs": [],
   "source": []
  }
 ],
 "metadata": {
  "anaconda-cloud": {},
  "celltoolbar": "Slideshow",
  "colab": {
   "collapsed_sections": [
    "anLSbJLkBagy",
    "w74C7pZ4Bag3",
    "Ajqu9eBRBag6"
   ],
   "provenance": []
  },
  "gpuClass": "standard",
  "kernelspec": {
   "display_name": "Python 3 (ipykernel)",
   "language": "python",
   "name": "python3"
  },
  "language_info": {
   "codemirror_mode": {
    "name": "ipython",
    "version": 3
   },
   "file_extension": ".py",
   "mimetype": "text/x-python",
   "name": "python",
   "nbconvert_exporter": "python",
   "pygments_lexer": "ipython3",
   "version": "3.9.12"
  },
  "widgets": {
   "application/vnd.jupyter.widget-state+json": {
    "state": {},
    "version_major": 2,
    "version_minor": 0
   }
  }
 },
 "nbformat": 4,
 "nbformat_minor": 4
}
