{
 "cells": [
  {
   "cell_type": "markdown",
   "metadata": {
    "id": "Y9tH-oknCr15"
   },
   "source": [
    "***\n",
    "\n",
    "Profesor: Gonzalo A. Ruz, PhD\n",
    "\n",
    "Curso: Aprendizaje Automático\n",
    "\n",
    "***"
   ]
  },
  {
   "cell_type": "code",
   "execution_count": 1,
   "metadata": {
    "colab": {
     "base_uri": "https://localhost:8080/"
    },
    "hide_input": false,
    "id": "BmHb43t_BxZ7",
    "outputId": "4abcb890-8f0b-4794-a8e0-0041a8a89f6c"
   },
   "outputs": [
    {
     "name": "stdout",
     "output_type": "stream",
     "text": [
      "Using Keras 2.10.0\n",
      "Using Tensorflow 2.10.0\n"
     ]
    }
   ],
   "source": [
    "# Global imports and settings\n",
    "# Global imports and settings\n",
    "import keras\n",
    "import tensorflow\n",
    "import numpy as np\n",
    "import matplotlib.pyplot as plt\n",
    "print(\"Using Keras\",keras.__version__)\n",
    "print(\"Using Tensorflow\",tensorflow.__version__)\n",
    "%matplotlib inline"
   ]
  },
  {
   "cell_type": "markdown",
   "metadata": {
    "id": "AQQpeH55BxZ_"
   },
   "source": [
    "# Clase: Deep learning para datos secuenciales- Redes neuronales recurrentes\n"
   ]
  },
  {
   "cell_type": "markdown",
   "metadata": {
    "id": "dSPfTec-JVWf"
   },
   "source": [
    "\n",
    "\n",
    "![](https://drive.google.com/uc?id=11NyB4FeBcuz5-xNh4sMY0KyuXQKDw0Rm)\n",
    "\n",
    "Una red neuronal recurrente con un loop. Fuente: Deep Learning with Python, FRANÇOIS CHOLLET.\n",
    "\n",
    "En pseudocódigo, este es la RNN:"
   ]
  },
  {
   "cell_type": "code",
   "execution_count": null,
   "metadata": {
    "eval": false,
    "id": "9TT4V4DlvG5r"
   },
   "outputs": [],
   "source": [
    "#Pseudocódigo RNN\n",
    "\n",
    "#El estado en t\n",
    "state_t = 0\n",
    "\n",
    "#Itera sobre elementos de secuencia\n",
    "for input_t in input_sequence:\n",
    "    output_t = f(input_t, state_t) \n",
    "  #La salida anterior se convierte en el estado para la siguiente iteración.\n",
    "    state_t = output_t\n",
    "\n"
   ]
  },
  {
   "cell_type": "markdown",
   "metadata": {
    "id": "ZHiH9_wDvG5r"
   },
   "source": [
    "* Incluso puede botar la función `f`: la transformación de la entrada y el estado en una salida será parametrizada por dos matrices, `W` y `U`, y un vector de sesgo (bias). Es similar a la transformación operada por una capa densamente conectada en una red feedforward."
   ]
  },
  {
   "cell_type": "code",
   "execution_count": null,
   "metadata": {
    "eval": false,
    "id": "IQZFDm87vG5r"
   },
   "outputs": [],
   "source": [
    "# El mismo pseudocódigo de antes pero más detallado\n",
    "\n",
    "state_t = 0\n",
    "for input_t in input_sequence:\n",
    "    output_t = activation(dot(W, input_t) + dot(U, state_t) + b) # producto punto entre entrada y una matriz de peso + mismo estado con matriz de peso\n",
    "    state_t = output_t\n"
   ]
  },
  {
   "cell_type": "markdown",
   "metadata": {
    "id": "gE9kGdFmxy43"
   },
   "source": [
    "### Una capa recurrente en Keras\n",
    "\n",
    "* El proceso descrito antes, corresponde efectivamente a una capa en Keras llamada `SimpleRNN`:"
   ]
  },
  {
   "cell_type": "code",
   "execution_count": 2,
   "metadata": {
    "eval": false,
    "id": "ITagLyIjvG5s"
   },
   "outputs": [],
   "source": [
    "from tensorflow.keras.layers import SimpleRNN"
   ]
  },
  {
   "cell_type": "markdown",
   "metadata": {
    "id": "Xf6lDOrAvG5s"
   },
   "source": [
    "* Hay una pequeña diferencia: `SimpleRNN` procesa lotes (batches) de secuencias, como todas las demás capas de Keras\n",
    "* Esto significa que toma entradas de forma `(batch_size, timesteps, input_features)`\n",
    "\n",
    "* Al igual que todas las capas recurrentes en Keras, `SimpleRNN` se puede ejecutar en dos modos diferentes: puede devolver las secuencias completas de salidas sucesivas para cada paso de tiempo (un tensor de forma 3D `(batch_size, timesteps, output_features)`) o solo la última salida para cada secuencia de entrada (un tensor de forma 2D `(batch_size, output_features)`).\n",
    "\n",
    "* Estos dos modos están controlados por el argumento del constructor `return_sequences`. Veamos un ejemplo que usa `SimpleRNN` y devuelve solo la salida en el último paso de tiempo:"
   ]
  },
  {
   "cell_type": "code",
   "execution_count": 4,
   "metadata": {
    "colab": {
     "base_uri": "https://localhost:8080/"
    },
    "id": "cSjDntDCvG5s",
    "outputId": "2df4da10-86af-418c-ae39-b51c9cdc370a"
   },
   "outputs": [
    {
     "name": "stdout",
     "output_type": "stream",
     "text": [
      "Model: \"sequential_1\"\n",
      "_________________________________________________________________\n",
      " Layer (type)                Output Shape              Param #   \n",
      "=================================================================\n",
      " embedding_1 (Embedding)     (None, None, 32)          320000    \n",
      "                                                                 \n",
      " simple_rnn_1 (SimpleRNN)    (None, 32)                2080      \n",
      "                                                                 \n",
      "=================================================================\n",
      "Total params: 322,080\n",
      "Trainable params: 322,080\n",
      "Non-trainable params: 0\n",
      "_________________________________________________________________\n"
     ]
    }
   ],
   "source": [
    "from tensorflow.keras.models import Sequential\n",
    "from tensorflow.keras.layers import Embedding, SimpleRNN\n",
    "\n",
    "model = Sequential()\n",
    "model.add(Embedding(10000, 32)) # embeddings es cantidad de palabras, dimensión 32\n",
    "model.add(SimpleRNN(32))\n",
    "model.summary()\n"
   ]
  },
  {
   "cell_type": "markdown",
   "metadata": {
    "id": "r8nDWW7DvG5t"
   },
   "source": [
    "* El siguiente ejemplo devuelve la secuencia de estado completo:"
   ]
  },
  {
   "cell_type": "code",
   "execution_count": 5,
   "metadata": {
    "colab": {
     "base_uri": "https://localhost:8080/"
    },
    "id": "Vu1yzPzUvG5t",
    "outputId": "f218e7bf-555c-4413-cdd9-f10701e91a1e"
   },
   "outputs": [
    {
     "name": "stdout",
     "output_type": "stream",
     "text": [
      "Model: \"sequential_2\"\n",
      "_________________________________________________________________\n",
      " Layer (type)                Output Shape              Param #   \n",
      "=================================================================\n",
      " embedding_2 (Embedding)     (None, None, 32)          320000    \n",
      "                                                                 \n",
      " simple_rnn_2 (SimpleRNN)    (None, None, 32)          2080      \n",
      "                                                                 \n",
      "=================================================================\n",
      "Total params: 322,080\n",
      "Trainable params: 322,080\n",
      "Non-trainable params: 0\n",
      "_________________________________________________________________\n"
     ]
    }
   ],
   "source": [
    "model = Sequential()\n",
    "model.add(Embedding(10000, 32))\n",
    "model.add(SimpleRNN(32, return_sequences=True)) #se utliza para apilar capas recurrentes\n",
    "model.summary()\n"
   ]
  },
  {
   "cell_type": "markdown",
   "metadata": {
    "id": "qHjj96B7vG5t"
   },
   "source": [
    "* A veces es útil apilar varias capas recurrentes una tras otra para aumentar el poder de representación de una red. \n",
    "\n",
    "* En dicha configuración, se debe obtener todas las capas intermedias para devolver secuencias completas:"
   ]
  },
  {
   "cell_type": "code",
   "execution_count": 6,
   "metadata": {
    "colab": {
     "base_uri": "https://localhost:8080/"
    },
    "id": "64L9pTAkvG5t",
    "lines_to_next_cell": 2,
    "outputId": "d66fea7d-d9e2-4079-f6a9-d0d6a7d5422a"
   },
   "outputs": [
    {
     "name": "stdout",
     "output_type": "stream",
     "text": [
      "Model: \"sequential_3\"\n",
      "_________________________________________________________________\n",
      " Layer (type)                Output Shape              Param #   \n",
      "=================================================================\n",
      " embedding_3 (Embedding)     (None, None, 32)          320000    \n",
      "                                                                 \n",
      " simple_rnn_3 (SimpleRNN)    (None, None, 32)          2080      \n",
      "                                                                 \n",
      " simple_rnn_4 (SimpleRNN)    (None, None, 32)          2080      \n",
      "                                                                 \n",
      " simple_rnn_5 (SimpleRNN)    (None, None, 32)          2080      \n",
      "                                                                 \n",
      " simple_rnn_6 (SimpleRNN)    (None, 32)                2080      \n",
      "                                                                 \n",
      "=================================================================\n",
      "Total params: 328,320\n",
      "Trainable params: 328,320\n",
      "Non-trainable params: 0\n",
      "_________________________________________________________________\n"
     ]
    }
   ],
   "source": [
    "model = Sequential()\n",
    "model.add(Embedding(10000, 32))\n",
    "model.add(SimpleRNN(32, return_sequences=True)) #todas las capas recurrentes antes de la última, deben tener return_sequences\n",
    "model.add(SimpleRNN(32, return_sequences=True))\n",
    "model.add(SimpleRNN(32, return_sequences=True))\n",
    "model.add(SimpleRNN(32))  #La última capa solo devuelve la última salida\n",
    "model.summary()\n"
   ]
  },
  {
   "cell_type": "markdown",
   "metadata": {
    "id": "jVWtaO_GvG5u"
   },
   "source": [
    "* Ahora, usemos ese modelo en el problema de clasificación de revisión de películas de IMDB. \n",
    "\n",
    "* Primero, vamos a preprocesar los datos."
   ]
  },
  {
   "cell_type": "code",
   "execution_count": 7,
   "metadata": {
    "colab": {
     "base_uri": "https://localhost:8080/"
    },
    "id": "3mjqHIbqvG5u",
    "outputId": "9edd8727-39b2-4094-ed0e-5116553394d6"
   },
   "outputs": [
    {
     "name": "stdout",
     "output_type": "stream",
     "text": [
      "Loading data...\n",
      "Downloading data from https://storage.googleapis.com/tensorflow/tf-keras-datasets/imdb.npz\n",
      "17464789/17464789 [==============================] - 1s 0us/step\n",
      "25000 train sequences\n",
      "25000 test sequences\n",
      "Pad sequences (samples x time)\n",
      "input_train shape: (25000, 500)\n",
      "input_test shape: (25000, 500)\n"
     ]
    }
   ],
   "source": [
    "#Preparando los datos IMDB\n",
    "\n",
    "from tensorflow.keras.datasets import imdb\n",
    "from tensorflow.keras.preprocessing import sequence\n",
    "\n",
    "max_features = 10000  #Número de palabras a considerar como características\n",
    "maxlen = 500  #Corta los textos después de esa cantidad de palabras \n",
    "              #(entre las palabras más comunes de max_features)\n",
    "batch_size = 32\n",
    "\n",
    "print('Loading data...')\n",
    "(input_train, y_train), (input_test, y_test) = imdb.load_data(num_words=max_features)\n",
    "print(len(input_train), 'train sequences')\n",
    "print(len(input_test), 'test sequences')\n",
    "\n",
    "print('Pad sequences (samples x time)')\n",
    "input_train = sequence.pad_sequences(input_train, maxlen=maxlen)\n",
    "input_test = sequence.pad_sequences(input_test, maxlen=maxlen)\n",
    "print('input_train shape:', input_train.shape)\n",
    "print('input_test shape:', input_test.shape)\n"
   ]
  },
  {
   "cell_type": "markdown",
   "metadata": {
    "id": "Ulem1j2cvG5u"
   },
   "source": [
    "* Vamos a entrenar una red recurrente simple usando una capa `Embedding` y una capa `SimpleRNN`. "
   ]
  },
  {
   "cell_type": "code",
   "execution_count": null,
   "metadata": {
    "colab": {
     "base_uri": "https://localhost:8080/"
    },
    "eval": false,
    "id": "gotohtHmvG5u",
    "outputId": "befdeba6-4f96-4481-83f5-9c432bef1bff"
   },
   "outputs": [],
   "source": [
    "#tarda 12min y medio aprox. en google colab\n",
    "# Entrenamiento del modelo con embedding y capas simples de RNN\n",
    "\n",
    "from tensorflow.keras.layers import Dense\n",
    "\n",
    "model = Sequential()\n",
    "model.add(Embedding(max_features, 32))\n",
    "model.add(SimpleRNN(32))\n",
    "model.add(Dense(1, activation='sigmoid'))\n",
    "\n",
    "model.compile(optimizer='rmsprop', loss='binary_crossentropy', metrics=['acc'])\n",
    "history = model.fit(input_train, y_train,\n",
    "                    epochs=10,\n",
    "                    batch_size=128,\n",
    "                    validation_split=0.2)\n"
   ]
  },
  {
   "cell_type": "markdown",
   "metadata": {
    "id": "3Z3WhMP9vG5u"
   },
   "source": [
    "* Ahora, vamos a mostrar la pérdida y accuracy de entrenamiento y validación."
   ]
  },
  {
   "cell_type": "code",
   "execution_count": null,
   "metadata": {
    "colab": {
     "base_uri": "https://localhost:8080/",
     "height": 545
    },
    "id": "xKzG-forvG5u",
    "outputId": "038b28da-6604-4a61-bda0-090a012c938b"
   },
   "outputs": [
    {
     "data": {
      "image/png": "[encoded data removed]",
      "text/plain": [
       "<Figure size 432x288 with 1 Axes>"
      ]
     },
     "metadata": {
      "needs_background": "light"
     },
     "output_type": "display_data"
    },
    {
     "data": {
      "image/png": "[encoded data removed]",
      "text/plain": [
       "<Figure size 432x288 with 1 Axes>"
      ]
     },
     "metadata": {
      "needs_background": "light"
     },
     "output_type": "display_data"
    }
   ],
   "source": [
    "import matplotlib.pyplot as plt\n",
    "\n",
    "acc = history.history['acc']\n",
    "val_acc = history.history['val_acc']\n",
    "loss = history.history['loss']\n",
    "val_loss = history.history['val_loss']\n",
    "\n",
    "epochs = range(len(acc))\n",
    "\n",
    "plt.plot(epochs, acc, 'bo', label='Training acc')\n",
    "plt.plot(epochs, val_acc, 'b', label='Validation acc')\n",
    "plt.title('Training and validation accuracy')\n",
    "plt.legend()\n",
    "\n",
    "plt.figure()\n",
    "\n",
    "plt.plot(epochs, loss, 'bo', label='Training loss')\n",
    "plt.plot(epochs, val_loss, 'b', label='Validation loss')\n",
    "plt.title('Training and validation loss')\n",
    "plt.legend()\n",
    "\n",
    "plt.show()"
   ]
  },
  {
   "cell_type": "markdown",
   "metadata": {
    "id": "eC_-ruLFvG5u"
   },
   "source": [
    "* Como recordatorio, anteriormente, el primer enfoque ingenuo de este conjunto de datos nos llevó a un accuracy de prueba del 88%. \n",
    "\n",
    "* Lamentablemente, esta pequeña red recurrente no funciona bien en comparación con esta línea de base. \n",
    "\n",
    "* Parte del problema es que sus entradas solo consideran las primeras 500 palabras, en lugar de secuencias completas, por lo tanto, la RNN tiene acceso a menos información que el modelo de línea de base anterior. \n",
    "\n",
    "* El resto del problema es que `SimpleRNN` no es bueno para procesar secuencias largas, como el texto. \n",
    "\n",
    "* Otros tipos de capas recurrentes funcionan mucho mejor. Veamos algunas capas más avanzadas."
   ]
  },
  {
   "cell_type": "markdown",
   "metadata": {
    "id": "rdSsHwSaDsFR"
   },
   "source": [
    "### Un ejemplo en concreto usando LSTM en Keras\n",
    "\n",
    "* Ahora pasemos a algo más práctico: vamos a configurar un modelo con la capa `LSTM` y lo entrenaremos con los datos de IMDB. \n",
    "\n",
    "* La red es similar a la que vimos con `SimpleRNN`. \n",
    "\n",
    "* **Solo se necesita especificar la dimensionalidad de salida de la capa** `LSTM`; es mejor dejar cualquier otro argumento (hay muchos) en los valores predeterminados de Keras. Keras tiene buenos valores predeterminados."
   ]
  },
  {
   "cell_type": "code",
   "execution_count": null,
   "metadata": {
    "colab": {
     "base_uri": "https://localhost:8080/"
    },
    "eval": false,
    "id": "ZJoDwHrWvG5w",
    "lines_to_next_cell": 2,
    "outputId": "ec30de72-4270-439a-a564-69471c668486"
   },
   "outputs": [
    {
     "name": "stdout",
     "output_type": "stream",
     "text": [
      "Epoch 1/10\n",
      "157/157 [==============================] - 8s 23ms/step - loss: 0.5081 - acc: 0.7645 - val_loss: 0.5277 - val_acc: 0.7410\n",
      "Epoch 2/10\n",
      "157/157 [==============================] - 3s 20ms/step - loss: 0.3020 - acc: 0.8819 - val_loss: 0.3375 - val_acc: 0.8596\n",
      "Epoch 3/10\n",
      "157/157 [==============================] - 3s 20ms/step - loss: 0.2396 - acc: 0.9085 - val_loss: 0.3073 - val_acc: 0.8694\n",
      "Epoch 4/10\n",
      "157/157 [==============================] - 4s 24ms/step - loss: 0.2028 - acc: 0.9245 - val_loss: 0.4220 - val_acc: 0.8498\n",
      "Epoch 5/10\n",
      "157/157 [==============================] - 3s 22ms/step - loss: 0.1742 - acc: 0.9356 - val_loss: 0.2925 - val_acc: 0.8920\n",
      "Epoch 6/10\n",
      "157/157 [==============================] - 3s 20ms/step - loss: 0.1574 - acc: 0.9445 - val_loss: 0.4618 - val_acc: 0.8154\n",
      "Epoch 7/10\n",
      "157/157 [==============================] - 3s 20ms/step - loss: 0.1452 - acc: 0.9493 - val_loss: 0.2949 - val_acc: 0.8828\n",
      "Epoch 8/10\n",
      "157/157 [==============================] - 3s 20ms/step - loss: 0.1323 - acc: 0.9538 - val_loss: 0.3932 - val_acc: 0.8646\n",
      "Epoch 9/10\n",
      "157/157 [==============================] - 3s 20ms/step - loss: 0.1223 - acc: 0.9585 - val_loss: 0.3557 - val_acc: 0.8754\n",
      "Epoch 10/10\n",
      "157/157 [==============================] - 3s 20ms/step - loss: 0.1171 - acc: 0.9581 - val_loss: 0.3520 - val_acc: 0.8542\n"
     ]
    }
   ],
   "source": [
    "#Usando la capa LSTM de Keras (10 min aprox. CPU, 38 seg en GPU)\n",
    "\n",
    "from tensorflow.keras.layers import LSTM\n",
    "\n",
    "model = Sequential()\n",
    "model.add(Embedding(max_features, 32))\n",
    "model.add(LSTM(32))\n",
    "model.add(Dense(1, activation='sigmoid'))\n",
    "\n",
    "model.compile(optimizer='rmsprop',\n",
    "              loss='binary_crossentropy',\n",
    "              metrics=['acc'])\n",
    "history = model.fit(input_train, y_train,\n",
    "                    epochs=10,\n",
    "                    batch_size=128,\n",
    "                    validation_split=0.2)"
   ]
  },
  {
   "cell_type": "code",
   "execution_count": null,
   "metadata": {
    "colab": {
     "base_uri": "https://localhost:8080/",
     "height": 545
    },
    "id": "4OZ_mQ-DvG5w",
    "outputId": "42446bfd-0491-4fa6-b740-6c5053041937"
   },
   "outputs": [
    {
     "data": {
      "image/png": "[encoded data removed]",
      "text/plain": [
       "<Figure size 432x288 with 1 Axes>"
      ]
     },
     "metadata": {
      "needs_background": "light"
     },
     "output_type": "display_data"
    },
    {
     "data": {
      "image/png": "[encoded data removed]",
      "text/plain": [
       "<Figure size 432x288 with 1 Axes>"
      ]
     },
     "metadata": {
      "needs_background": "light"
     },
     "output_type": "display_data"
    }
   ],
   "source": [
    "import matplotlib.pyplot as plt\n",
    "\n",
    "acc = history.history['acc']\n",
    "val_acc = history.history['val_acc']\n",
    "loss = history.history['loss']\n",
    "val_loss = history.history['val_loss']\n",
    "\n",
    "epochs = range(len(acc))\n",
    "\n",
    "plt.plot(epochs, acc, 'bo', label='Training acc')\n",
    "plt.plot(epochs, val_acc, 'b', label='Validation acc')\n",
    "plt.title('Training and validation accuracy')\n",
    "plt.legend()\n",
    "\n",
    "plt.figure()\n",
    "\n",
    "plt.plot(epochs, loss, 'bo', label='Training loss')\n",
    "plt.plot(epochs, val_loss, 'b', label='Validation loss')\n",
    "plt.title('Training and validation loss')\n",
    "plt.legend()\n",
    "\n",
    "plt.show()"
   ]
  },
  {
   "cell_type": "markdown",
   "metadata": {
    "id": "DOZGKJUlvG5w"
   },
   "source": [
    "* Esta vez, se logra un accuracy de validación de hasta el 88%. No está mal: ciertamente mucho mejor que la simple red RNN, en gran parte porque LSTM sufre mucho menos del problema de desvanecimiento del gradiente, y un poco mejor que el enfoque _fully connected_ de la clase anterior, a pesar de que está viendo menos datos de los que tenía en la clase anterior. Ahora nosotros estamos truncando secuencias después de 500 pasos, mientras que antes, estábamos considerando secuencias completas.\n",
    "\n",
    "* Pero este resultado no es innovador para un enfoque computacionalmente intensivo. ¿Por qué LSTM no funciona mejor? Una razón es que no se hizo ningún esfuerzo para ajustar los hiperparámetros, como la dimensionalidad del embedding o la dimensionalidad de salida LSTM. \n",
    "\n",
    "* Otro puede ser la falta de regularización. \n",
    "\n",
    "* Pero, sinceramente, la razón principal es que analizar la estructura global a largo plazo de las revisiones (en qué es bueno LSTM) no es útil para un problema de análisis de sentimientos. \n",
    "\n",
    "* Tal problema básico se resuelve bien observando qué palabras aparecen en cada revisión y con qué frecuencia. \n",
    "\n",
    "* Eso es lo que miró el primer enfoque totalmente conectado. \n",
    "\n",
    "* Pero existen problemas de procesamiento del lenguaje natural mucho más difíciles, donde la fuerza de LSTM se hará evidente: en particular, la respuesta a preguntas y la traducción automática."
   ]
  },
  {
   "cell_type": "markdown",
   "metadata": {
    "id": "trN5Xxyv6u-C"
   },
   "source": [
    "### GRU en Keras"
   ]
  },
  {
   "cell_type": "markdown",
   "metadata": {
    "id": "w8FR-DCvvG51"
   },
   "source": [
    "* En lugar de la capa `LSTM` que vimos antes, vamos ha utilizar la capa `GRU`, desarrollada por [Chung et al. en 2014](https://arxiv.org/pdf/1412.3555.pdf). \n",
    "\n",
    "* Las capas Gated recurrent unit (GRU) funcionan utilizando el mismo principio que LSTM, pero son algo más sencillas y, por lo tanto, más baratas de ejecutar (aunque pueden no tener tanto poder de representación como LSTM). "
   ]
  },
  {
   "cell_type": "code",
   "execution_count": null,
   "metadata": {
    "colab": {
     "base_uri": "https://localhost:8080/"
    },
    "eval": false,
    "id": "aF9Ye_CuvG51",
    "outputId": "bc4d38cd-2d55-4e29-84e6-7be0773f3dd0"
   },
   "outputs": [
    {
     "name": "stdout",
     "output_type": "stream",
     "text": [
      "Epoch 1/10\n",
      "157/157 [==============================] - 5s 25ms/step - loss: 0.5012 - acc: 0.7448 - val_loss: 0.3903 - val_acc: 0.8348\n",
      "Epoch 2/10\n",
      "157/157 [==============================] - 3s 20ms/step - loss: 0.3053 - acc: 0.8734 - val_loss: 0.2960 - val_acc: 0.8806\n",
      "Epoch 3/10\n",
      "157/157 [==============================] - 3s 20ms/step - loss: 0.2439 - acc: 0.9042 - val_loss: 0.3308 - val_acc: 0.8586\n",
      "Epoch 4/10\n",
      "157/157 [==============================] - 3s 21ms/step - loss: 0.2117 - acc: 0.9171 - val_loss: 0.3384 - val_acc: 0.8506\n",
      "Epoch 5/10\n",
      "157/157 [==============================] - 4s 24ms/step - loss: 0.1905 - acc: 0.9309 - val_loss: 0.3097 - val_acc: 0.8718\n",
      "Epoch 6/10\n",
      "157/157 [==============================] - 4s 22ms/step - loss: 0.1657 - acc: 0.9384 - val_loss: 0.3020 - val_acc: 0.8782\n",
      "Epoch 7/10\n",
      "157/157 [==============================] - 3s 20ms/step - loss: 0.1498 - acc: 0.9449 - val_loss: 0.3458 - val_acc: 0.8720\n",
      "Epoch 8/10\n",
      "157/157 [==============================] - 3s 20ms/step - loss: 0.1383 - acc: 0.9502 - val_loss: 0.3789 - val_acc: 0.8718\n",
      "Epoch 9/10\n",
      "157/157 [==============================] - 3s 20ms/step - loss: 0.1267 - acc: 0.9548 - val_loss: 0.3302 - val_acc: 0.8816\n",
      "Epoch 10/10\n",
      "157/157 [==============================] - 3s 20ms/step - loss: 0.1139 - acc: 0.9588 - val_loss: 0.3504 - val_acc: 0.8834\n"
     ]
    }
   ],
   "source": [
    "#Usando la capa GRU de Keras (10 min aprox. en CPU, y 42 seg en GPU)\n",
    "from tensorflow.keras.models import Sequential\n",
    "from tensorflow.keras import layers\n",
    "\n",
    "\n",
    "model = Sequential()\n",
    "model.add(Embedding(max_features, 32))\n",
    "model.add(layers.GRU(32))\n",
    "model.add(Dense(1, activation='sigmoid'))\n",
    "\n",
    "model.compile(optimizer='rmsprop',\n",
    "              loss='binary_crossentropy',\n",
    "              metrics=['acc'])\n",
    "history = model.fit(input_train, y_train,\n",
    "                    epochs=10,\n",
    "                    batch_size=128,\n",
    "                    validation_split=0.2)"
   ]
  },
  {
   "cell_type": "code",
   "execution_count": null,
   "metadata": {
    "colab": {
     "base_uri": "https://localhost:8080/",
     "height": 545
    },
    "id": "5TcCK1A--Y6M",
    "outputId": "f056c1fa-0826-4193-c48f-2c8712146b31"
   },
   "outputs": [
    {
     "data": {
      "image/png": "[encoded data removed]",
      "text/plain": [
       "<Figure size 432x288 with 1 Axes>"
      ]
     },
     "metadata": {
      "needs_background": "light"
     },
     "output_type": "display_data"
    },
    {
     "data": {
      "image/png": "[encoded data removed]",
      "text/plain": [
       "<Figure size 432x288 with 1 Axes>"
      ]
     },
     "metadata": {
      "needs_background": "light"
     },
     "output_type": "display_data"
    }
   ],
   "source": [
    "import matplotlib.pyplot as plt\n",
    "\n",
    "acc = history.history['acc']\n",
    "val_acc = history.history['val_acc']\n",
    "loss = history.history['loss']\n",
    "val_loss = history.history['val_loss']\n",
    "\n",
    "epochs = range(len(acc))\n",
    "\n",
    "plt.plot(epochs, acc, 'bo', label='Training acc')\n",
    "plt.plot(epochs, val_acc, 'b', label='Validation acc')\n",
    "plt.title('Training and validation accuracy')\n",
    "plt.legend()\n",
    "\n",
    "plt.figure()\n",
    "\n",
    "plt.plot(epochs, loss, 'bo', label='Training loss')\n",
    "plt.plot(epochs, val_loss, 'b', label='Validation loss')\n",
    "plt.title('Training and validation loss')\n",
    "plt.legend()\n",
    "\n",
    "plt.show()"
   ]
  },
  {
   "cell_type": "markdown",
   "metadata": {
    "id": "6cAZUNppWzXo"
   },
   "source": [
    "### Usando dropout recurrente para combatir el sobreajuste\n",
    "\n",
    "* Ya estamos familiarizado con una técnica clásica para combatir este fenómeno: dropout, que elimina al azar las unidades de entrada de una capa para romper las correlaciones de casualidad en los datos de entrenamiento a los que está expuesta la capa. \n",
    "\n",
    "* Pero cómo aplicar correctamente dropout en redes recurrentes no es una pregunta trivial. \n",
    "\n",
    "* Hace tiempo que se sabe que aplicar dropout antes de una capa recurrente dificulta el aprendizaje en lugar de ayudar con la regularización. \n",
    "\n",
    "* En 2015, [Yarin Gal](http://mlg.eng.cam.ac.uk/yarin/blog_2248.html), como parte de su tesis doctoral sobre aprendizaje profundo Bayesiano, determinó la forma correcta de usar dropout con una red recurrente: la misma máscara dropout (el mismo patrón de unidades abandonadas) debe aplicarse en todo momento - paso, en lugar de una máscara dropout que varía aleatoriamente de un paso a otro. \n",
    "\n",
    "* Además, para regularizar las representaciones formadas por las puertas recurrentes de capas como `GRU` y `LSTM`, se debe aplicar una máscara dropout temporal constante a las activaciones recurrentes internas de la capa (una máscara dropout recurrente). \n",
    "\n",
    "* El uso de la misma máscara dropout en cada paso de tiempo permite a la red propagar adecuadamente su error de aprendizaje a través del tiempo; Una máscara dropout temporal aleatoria interrumpiría esta señal de error y sería perjudicial para el proceso de aprendizaje.\n",
    "\n",
    "* Cada capa recurrente en Keras tiene dos argumentos relacionados con dropout: `dropout`, un número que especifica la tasa de dropout para las unidades de entrada de la capa y `recurrent_dropout`, que especifica la tasa de dropout de las unidades recurrentes. \n",
    "\n",
    "* Agreguemos el dropout y el dropout recurrente a `GRU` y veamos cómo hacerlo afecta el sobreajuste. \n",
    "\n",
    "* Debido a que las redes que se regularizan con dropout siempre tardan más en converger por completo, vamos a entrenar la red durante el doble de épocas."
   ]
  },
  {
   "cell_type": "code",
   "execution_count": null,
   "metadata": {
    "colab": {
     "base_uri": "https://localhost:8080/"
    },
    "id": "RRLWhnkr_0PH",
    "outputId": "f1ce87eb-9c5d-4527-eb03-a16f26db3cc0"
   },
   "outputs": [
    {
     "name": "stderr",
     "output_type": "stream",
     "text": [
      "WARNING:tensorflow:Layer gru_1 will not use cuDNN kernels since it doesn't meet the criteria. It will use a generic GPU kernel as fallback when running on GPU.\n"
     ]
    },
    {
     "name": "stdout",
     "output_type": "stream",
     "text": [
      "Epoch 1/20\n",
      "157/157 [==============================] - 285s 2s/step - loss: 0.5508 - acc: 0.7139 - val_loss: 0.4400 - val_acc: 0.7924\n",
      "Epoch 2/20\n",
      "157/157 [==============================] - 283s 2s/step - loss: 0.3413 - acc: 0.8616 - val_loss: 0.3982 - val_acc: 0.8590\n",
      "Epoch 3/20\n",
      "157/157 [==============================] - 284s 2s/step - loss: 0.2882 - acc: 0.8860 - val_loss: 0.3052 - val_acc: 0.8700\n",
      "Epoch 4/20\n",
      "157/157 [==============================] - 282s 2s/step - loss: 0.2435 - acc: 0.9080 - val_loss: 0.3404 - val_acc: 0.8724\n",
      "Epoch 5/20\n",
      "157/157 [==============================] - 282s 2s/step - loss: 0.2219 - acc: 0.9182 - val_loss: 0.3315 - val_acc: 0.8654\n",
      "Epoch 6/20\n",
      "157/157 [==============================] - 279s 2s/step - loss: 0.1907 - acc: 0.9291 - val_loss: 0.2926 - val_acc: 0.8870\n",
      "Epoch 7/20\n",
      "157/157 [==============================] - 281s 2s/step - loss: 0.1701 - acc: 0.9372 - val_loss: 0.3092 - val_acc: 0.8886\n",
      "Epoch 8/20\n",
      "157/157 [==============================] - 281s 2s/step - loss: 0.1575 - acc: 0.9442 - val_loss: 0.3392 - val_acc: 0.8936\n",
      "Epoch 9/20\n",
      "157/157 [==============================] - 283s 2s/step - loss: 0.1429 - acc: 0.9488 - val_loss: 0.3159 - val_acc: 0.8678\n",
      "Epoch 10/20\n",
      "157/157 [==============================] - 283s 2s/step - loss: 0.1359 - acc: 0.9488 - val_loss: 0.5871 - val_acc: 0.8440\n",
      "Epoch 11/20\n",
      "157/157 [==============================] - 279s 2s/step - loss: 0.1199 - acc: 0.9564 - val_loss: 0.3386 - val_acc: 0.8776\n",
      "Epoch 12/20\n",
      "157/157 [==============================] - 281s 2s/step - loss: 0.1168 - acc: 0.9578 - val_loss: 0.3834 - val_acc: 0.8652\n",
      "Epoch 13/20\n",
      "157/157 [==============================] - 284s 2s/step - loss: 0.1062 - acc: 0.9618 - val_loss: 0.3439 - val_acc: 0.8820\n",
      "Epoch 14/20\n",
      "157/157 [==============================] - 280s 2s/step - loss: 0.1016 - acc: 0.9641 - val_loss: 0.4338 - val_acc: 0.8836\n",
      "Epoch 15/20\n",
      "157/157 [==============================] - 281s 2s/step - loss: 0.0933 - acc: 0.9668 - val_loss: 0.4221 - val_acc: 0.8852\n",
      "Epoch 16/20\n",
      "157/157 [==============================] - 282s 2s/step - loss: 0.0885 - acc: 0.9679 - val_loss: 0.3667 - val_acc: 0.8818\n",
      "Epoch 17/20\n",
      "157/157 [==============================] - 280s 2s/step - loss: 0.0826 - acc: 0.9714 - val_loss: 0.3958 - val_acc: 0.8846\n",
      "Epoch 18/20\n",
      "157/157 [==============================] - 281s 2s/step - loss: 0.0753 - acc: 0.9741 - val_loss: 0.4961 - val_acc: 0.8772\n",
      "Epoch 19/20\n",
      "157/157 [==============================] - 283s 2s/step - loss: 0.0707 - acc: 0.9763 - val_loss: 0.4719 - val_acc: 0.8758\n",
      "Epoch 20/20\n",
      "157/157 [==============================] - 280s 2s/step - loss: 0.0663 - acc: 0.9773 - val_loss: 0.5607 - val_acc: 0.8820\n"
     ]
    }
   ],
   "source": [
    "#Usando la capa GRU con dropout (40 min aprox., sin cuDNN 1.5 hrs)\n",
    "from tensorflow.keras.models import Sequential\n",
    "from tensorflow.keras import layers\n",
    "\n",
    "\n",
    "model = Sequential()\n",
    "model.add(Embedding(max_features, 32))\n",
    "model.add(layers.GRU(32, dropout=0.1, recurrent_dropout=0.5))\n",
    "model.add(Dense(1, activation='sigmoid'))\n",
    "\n",
    "model.compile(optimizer='rmsprop',\n",
    "              loss='binary_crossentropy',\n",
    "              metrics=['acc'])\n",
    "history = model.fit(input_train, y_train,\n",
    "                    epochs=20,\n",
    "                    batch_size=128,\n",
    "                    validation_split=0.2)"
   ]
  },
  {
   "cell_type": "code",
   "execution_count": null,
   "metadata": {
    "colab": {
     "base_uri": "https://localhost:8080/",
     "height": 545
    },
    "id": "rcGi5NN1AQSW",
    "outputId": "1a3a7ee3-7b14-473a-b302-f073d7b59850"
   },
   "outputs": [
    {
     "data": {
      "image/png": "[encoded data removed]",
      "text/plain": [
       "<Figure size 432x288 with 1 Axes>"
      ]
     },
     "metadata": {
      "needs_background": "light"
     },
     "output_type": "display_data"
    },
    {
     "data": {
      "image/png": "[encoded data removed]",
      "text/plain": [
       "<Figure size 432x288 with 1 Axes>"
      ]
     },
     "metadata": {
      "needs_background": "light"
     },
     "output_type": "display_data"
    }
   ],
   "source": [
    "import matplotlib.pyplot as plt\n",
    "\n",
    "acc = history.history['acc']\n",
    "val_acc = history.history['val_acc']\n",
    "loss = history.history['loss']\n",
    "val_loss = history.history['val_loss']\n",
    "\n",
    "epochs = range(len(acc))\n",
    "\n",
    "plt.plot(epochs, acc, 'bo', label='Training acc')\n",
    "plt.plot(epochs, val_acc, 'b', label='Validation acc')\n",
    "plt.title('Training and validation accuracy')\n",
    "plt.legend()\n",
    "\n",
    "plt.figure()\n",
    "\n",
    "plt.plot(epochs, loss, 'bo', label='Training loss')\n",
    "plt.plot(epochs, val_loss, 'b', label='Validation loss')\n",
    "plt.title('Training and validation loss')\n",
    "plt.legend()\n",
    "\n",
    "plt.show()"
   ]
  },
  {
   "cell_type": "markdown",
   "metadata": {
    "id": "vUm6PRS6bFa4"
   },
   "source": [
    "### Apilando capas recurrentes\n",
    "\n",
    "* Mientras no se esté demasiado sobreajustado, es probable que la red esté bajo su capacidad.\n",
    "\n",
    "* El aumento de la capacidad de la red generalmente se realiza aumentando el número de unidades en las capas o agregando más capas. \n",
    "\n",
    "* El apilamiento de capas recurrentes es una forma clásica de construir redes recurrentes más potentes: por ejemplo, lo que actualmente impulsa el algoritmo de Google Translate es una pila de ocho capas `LSTM` grandes, eso es enorme.\n",
    "\n",
    "* Para apilar capas recurrentes una encima de otra en Keras, todas las capas intermedias deben devolver su secuencia completa de salidas (un tensor 3D) en lugar de su salida en el último paso de tiempo. \n",
    "\n",
    "* Esto se hace especificando `return_sequences = TRUE`.\n",
    "\n",
    "* Veamos usando dos capas GRU para luego finalizar con una capa densa."
   ]
  },
  {
   "cell_type": "code",
   "execution_count": null,
   "metadata": {
    "colab": {
     "base_uri": "https://localhost:8080/"
    },
    "eval": false,
    "id": "gq8XvllCvG53",
    "lines_to_next_cell": 2,
    "outputId": "05553d51-c10b-44ac-e928-00777424b7d6"
   },
   "outputs": [
    {
     "name": "stderr",
     "output_type": "stream",
     "text": [
      "WARNING:tensorflow:Layer gru_2 will not use cuDNN kernels since it doesn't meet the criteria. It will use a generic GPU kernel as fallback when running on GPU.\n",
      "WARNING:tensorflow:Layer gru_3 will not use cuDNN kernels since it doesn't meet the criteria. It will use a generic GPU kernel as fallback when running on GPU.\n"
     ]
    },
    {
     "name": "stdout",
     "output_type": "stream",
     "text": [
      "Epoch 1/10\n",
      "157/157 [==============================] - 567s 4s/step - loss: 0.5500 - acc: 0.7129 - val_loss: 0.3765 - val_acc: 0.8370\n",
      "Epoch 2/10\n",
      "157/157 [==============================] - 563s 4s/step - loss: 0.3487 - acc: 0.8585 - val_loss: 0.4237 - val_acc: 0.8224\n",
      "Epoch 3/10\n",
      "157/157 [==============================] - 552s 4s/step - loss: 0.2812 - acc: 0.8923 - val_loss: 0.3744 - val_acc: 0.8706\n",
      "Epoch 4/10\n",
      "157/157 [==============================] - 555s 4s/step - loss: 0.2341 - acc: 0.9125 - val_loss: 0.6770 - val_acc: 0.8266\n",
      "Epoch 5/10\n",
      "157/157 [==============================] - 550s 4s/step - loss: 0.2091 - acc: 0.9215 - val_loss: 0.3058 - val_acc: 0.8794\n",
      "Epoch 6/10\n",
      "157/157 [==============================] - 553s 4s/step - loss: 0.1825 - acc: 0.9337 - val_loss: 0.3447 - val_acc: 0.8702\n",
      "Epoch 7/10\n",
      "157/157 [==============================] - 551s 4s/step - loss: 0.1636 - acc: 0.9406 - val_loss: 0.5938 - val_acc: 0.8532\n",
      "Epoch 8/10\n",
      "157/157 [==============================] - 552s 4s/step - loss: 0.1473 - acc: 0.9471 - val_loss: 0.3057 - val_acc: 0.8926\n",
      "Epoch 9/10\n",
      "157/157 [==============================] - 548s 3s/step - loss: 0.1362 - acc: 0.9510 - val_loss: 0.3776 - val_acc: 0.8774\n",
      "Epoch 10/10\n",
      "157/157 [==============================] - 549s 3s/step - loss: 0.1236 - acc: 0.9564 - val_loss: 0.3932 - val_acc: 0.8682\n"
     ]
    }
   ],
   "source": [
    "#stacked GRU usando regularización dropout (38 min aprox., sin cuDNN 1.5 hrs)\n",
    "from tensorflow.keras.models import Sequential\n",
    "from tensorflow.keras import layers\n",
    "from tensorflow.keras.layers import Dense\n",
    "\n",
    "\n",
    "model = Sequential()\n",
    "model.add(Embedding(max_features, 32))\n",
    "model.add(layers.GRU(32, dropout=0.1, recurrent_dropout=0.5, return_sequences=True))\n",
    "model.add(layers.GRU(32, activation='relu', dropout=0.1, recurrent_dropout=0.5))\n",
    "model.add(Dense(1, activation='sigmoid'))\n",
    "\n",
    "model.compile(optimizer='rmsprop',\n",
    "              loss='binary_crossentropy',\n",
    "              metrics=['acc'])\n",
    "history = model.fit(input_train, y_train,\n",
    "                    epochs=10,\n",
    "                    batch_size=128,\n",
    "                    validation_split=0.2)\n"
   ]
  },
  {
   "cell_type": "code",
   "execution_count": null,
   "metadata": {
    "colab": {
     "base_uri": "https://localhost:8080/",
     "height": 545
    },
    "id": "wp47dVC6Kpqd",
    "outputId": "50edae16-dd99-4b07-a3b8-fc9e2e3a9b93"
   },
   "outputs": [
    {
     "data": {
      "image/png": "[encoded data removed]",
      "text/plain": [
       "<Figure size 432x288 with 1 Axes>"
      ]
     },
     "metadata": {
      "needs_background": "light"
     },
     "output_type": "display_data"
    },
    {
     "data": {
      "image/png": "[encoded data removed]",
      "text/plain": [
       "<Figure size 432x288 with 1 Axes>"
      ]
     },
     "metadata": {
      "needs_background": "light"
     },
     "output_type": "display_data"
    }
   ],
   "source": [
    "import matplotlib.pyplot as plt\n",
    "\n",
    "acc = history.history['acc']\n",
    "val_acc = history.history['val_acc']\n",
    "loss = history.history['loss']\n",
    "val_loss = history.history['val_loss']\n",
    "\n",
    "epochs = range(len(acc))\n",
    "\n",
    "plt.plot(epochs, acc, 'bo', label='Training acc')\n",
    "plt.plot(epochs, val_acc, 'b', label='Validation acc')\n",
    "plt.title('Training and validation accuracy')\n",
    "plt.legend()\n",
    "\n",
    "plt.figure()\n",
    "\n",
    "plt.plot(epochs, loss, 'bo', label='Training loss')\n",
    "plt.plot(epochs, val_loss, 'b', label='Validation loss')\n",
    "plt.title('Training and validation loss')\n",
    "plt.legend()\n",
    "\n",
    "plt.show()"
   ]
  },
  {
   "cell_type": "markdown",
   "metadata": {
    "id": "FEVfgWYIbprh"
   },
   "source": [
    "### Uso de RNN bidireccionales\n",
    "\n",
    "* Ahora veremos una técnica llama RNN bidireccionales. \n",
    "\n",
    "* Una RNN bidireccional es una variante común de RNN que puede ofrecer un mayor rendimiento que un RNN normal en ciertas tareas. \n",
    "\n",
    "* Se usa con frecuencia en el procesamiento del lenguaje natural.\n",
    "\n",
    "* Las RNN dependen notablemente del orden o del tiempo: procesan los pasos de tiempo de sus secuencias de entrada en orden, y la idea de mezclar o invertir los pasos de tiempo puede cambiar completamente las representaciones que la RNN extrae de la secuencia. \n",
    "\n",
    "* Una RNN bidireccional explota la sensibilidad del orden de las RNN: consiste en usar dos RNN regulares, como capas `GRU` y `LSTM` que ya conocemos, cada una de los cuales procesa la secuencia de entrada en una dirección (cronológica y anticronológicamente), y luego fusiona sus representaciones. \n",
    "\n",
    "* Al procesar una secuencia en ambos sentidos, una RNN bidireccional puede capturar patrones que un RNN unidireccional puede pasar por alto.\n",
    "\n",
    "* Sorprendentemente, el hecho de que las capas de una RNN que hemos usado en los ejemplos previos usan secuencias procesadas en orden cronológico (los pasos de tiempo más antiguos primero) puede haber sido una decisión arbitraria. \n",
    "\n",
    "* Al menos, es una decisión que no hemos intentado cuestionar hasta ahora. \n",
    "\n",
    "* ¿Podrían las RNN haber funcionado lo suficientemente bien si procesaran secuencias de entrada en orden anticronológico, por ejemplo (primero los pasos más nuevos)? "
   ]
  },
  {
   "cell_type": "markdown",
   "metadata": {
    "id": "NX18Jaj9vG54"
   },
   "source": [
    "* Probemos este enfoque en el ejemplo LSTM IMDB"
   ]
  },
  {
   "cell_type": "code",
   "execution_count": null,
   "metadata": {
    "colab": {
     "base_uri": "https://localhost:8080/"
    },
    "eval": false,
    "id": "LboEZkh_vG54",
    "outputId": "d8ad4889-ee03-496e-a0f3-511214ad3ed7"
   },
   "outputs": [
    {
     "name": "stdout",
     "output_type": "stream",
     "text": [
      "Downloading data from https://storage.googleapis.com/tensorflow/tf-keras-datasets/imdb.npz\n",
      "17465344/17464789 [==============================] - 0s 0us/step\n",
      "17473536/17464789 [==============================] - 0s 0us/step\n",
      "Epoch 1/10\n",
      "157/157 [==============================] - 12s 26ms/step - loss: 0.4971 - acc: 0.7593 - val_loss: 0.5589 - val_acc: 0.7688\n",
      "Epoch 2/10\n",
      "157/157 [==============================] - 4s 23ms/step - loss: 0.3125 - acc: 0.8792 - val_loss: 0.3421 - val_acc: 0.8628\n",
      "Epoch 3/10\n",
      "157/157 [==============================] - 4s 24ms/step - loss: 0.2496 - acc: 0.9073 - val_loss: 0.4358 - val_acc: 0.8498\n",
      "Epoch 4/10\n",
      "157/157 [==============================] - 4s 23ms/step - loss: 0.2176 - acc: 0.9234 - val_loss: 0.3516 - val_acc: 0.8696\n",
      "Epoch 5/10\n",
      "157/157 [==============================] - 4s 23ms/step - loss: 0.1940 - acc: 0.9326 - val_loss: 0.4473 - val_acc: 0.8626\n",
      "Epoch 6/10\n",
      "157/157 [==============================] - 4s 23ms/step - loss: 0.1698 - acc: 0.9411 - val_loss: 0.3784 - val_acc: 0.8568\n",
      "Epoch 7/10\n",
      "157/157 [==============================] - 4s 23ms/step - loss: 0.1536 - acc: 0.9468 - val_loss: 0.3743 - val_acc: 0.8726\n",
      "Epoch 8/10\n",
      "157/157 [==============================] - 4s 23ms/step - loss: 0.1388 - acc: 0.9528 - val_loss: 0.3815 - val_acc: 0.8652\n",
      "Epoch 9/10\n",
      "157/157 [==============================] - 4s 23ms/step - loss: 0.1281 - acc: 0.9564 - val_loss: 0.3900 - val_acc: 0.8602\n",
      "Epoch 10/10\n",
      "157/157 [==============================] - 4s 28ms/step - loss: 0.1161 - acc: 0.9617 - val_loss: 0.4140 - val_acc: 0.8612\n"
     ]
    }
   ],
   "source": [
    "\n",
    "#tarda 2 min aporx. en google colab con GPU\n",
    "#Entrenamiento y evaluación de un LSTM usando secuencias invertidas\n",
    "from tensorflow.keras.datasets import imdb\n",
    "from tensorflow.keras.preprocessing import sequence\n",
    "from tensorflow.keras import layers\n",
    "from tensorflow.keras.models import Sequential\n",
    "\n",
    "#Número de palabras a considerar como características\n",
    "max_features = 10000\n",
    "#Corta los textos después de este número de palabras \n",
    "#(entre las palabras más comunes de max_features)\n",
    "maxlen = 500\n",
    "\n",
    "# Cargar los datos\n",
    "(x_train, y_train), (x_test, y_test) = imdb.load_data(num_words=max_features)\n",
    "\n",
    "#Invierta las secuencias\n",
    "x_train = [x[::-1] for x in x_train]\n",
    "x_test = [x[::-1] for x in x_test]\n",
    "\n",
    "# Rellena (Pad) las secuencias\n",
    "x_train = sequence.pad_sequences(x_train, maxlen=maxlen)\n",
    "x_test = sequence.pad_sequences(x_test, maxlen=maxlen)\n",
    "\n",
    "model = Sequential()\n",
    "model.add(layers.Embedding(max_features, 128))\n",
    "model.add(layers.LSTM(32))\n",
    "model.add(layers.Dense(1, activation='sigmoid'))\n",
    "\n",
    "model.compile(optimizer='rmsprop',\n",
    "              loss='binary_crossentropy',\n",
    "              metrics=['acc'])\n",
    "history = model.fit(x_train, y_train,\n",
    "                    epochs=10,\n",
    "                    batch_size=128,\n",
    "                    validation_split=0.2)\n"
   ]
  },
  {
   "cell_type": "code",
   "execution_count": null,
   "metadata": {
    "colab": {
     "base_uri": "https://localhost:8080/",
     "height": 545
    },
    "id": "gZpM2hAgvG54",
    "outputId": "c0b66123-bf71-45c7-ec37-5638c614c53d"
   },
   "outputs": [
    {
     "data": {
      "image/png": "[encoded data removed]",
      "text/plain": [
       "<Figure size 432x288 with 1 Axes>"
      ]
     },
     "metadata": {
      "needs_background": "light"
     },
     "output_type": "display_data"
    },
    {
     "data": {
      "image/png": "[encoded data removed]",
      "text/plain": [
       "<Figure size 432x288 with 1 Axes>"
      ]
     },
     "metadata": {
      "needs_background": "light"
     },
     "output_type": "display_data"
    }
   ],
   "source": [
    "import matplotlib.pyplot as plt\n",
    "\n",
    "acc = history.history['acc']\n",
    "val_acc = history.history['val_acc']\n",
    "loss = history.history['loss']\n",
    "val_loss = history.history['val_loss']\n",
    "\n",
    "epochs = range(len(acc))\n",
    "\n",
    "plt.plot(epochs, acc, 'bo', label='Training acc')\n",
    "plt.plot(epochs, val_acc, 'b', label='Validation acc')\n",
    "plt.title('Training and validation accuracy')\n",
    "plt.legend()\n",
    "\n",
    "plt.figure()\n",
    "\n",
    "plt.plot(epochs, loss, 'bo', label='Training loss')\n",
    "plt.plot(epochs, val_loss, 'b', label='Validation loss')\n",
    "plt.title('Training and validation loss')\n",
    "plt.legend()\n",
    "\n",
    "plt.show()"
   ]
  },
  {
   "cell_type": "markdown",
   "metadata": {
    "id": "FuhwglLPvG54"
   },
   "source": [
    "* Se obtiene un rendimiento casi idéntico al del LSTM de orden cronológico. \n",
    "\n",
    "* Sorprendentemente, en un conjunto de datos de texto de este tipo, el procesamiento de orden inverso funciona tan bien como el procesamiento cronológico, lo que confirma la hipótesis de que, aunque el orden de las palabras es importante para comprender el lenguaje, el orden que se utiliza no es crucial.\n",
    "\n",
    "* Una RNN bidireccional aprovecha esta idea para mejorar el rendimiento de las RNN de orden cronológico. \n",
    "\n",
    "* Mira la secuencia de entrada en ambos sentidos (tal como la figura de abajo), obteniendo representaciones potencialmente más ricas y capturando patrones que pueden haber sido pasados por alto por la versión de orden solo cronológico.\n",
    "\n",
    "![](https://drive.google.com/uc?id=1E-CaGCZsFeouA99_sz-O6sNR_-e2yQ8L)\n",
    "Cómo funciona una capa RNN bidireccional. Fuente: Deep Learning with Python, FRANÇOIS CHOLLET.\n",
    "\n",
    "* Para instanciar una RNN bidireccional en Keras, se utiliza la capa `Bidirectional`, que toma una instancia de capa recurrente como argumento. \n",
    "\n",
    "* La capa `Bidirectional` crea una segunda instancia separada de esta capa recurrente y usa una instancia para procesar las secuencias de entrada en orden cronológico y la otra instancia para procesar las secuencias de entrada en orden inverso. \n",
    "\n",
    "* Probémoslo en la tarea de análisis de sentimientos IMDB."
   ]
  },
  {
   "cell_type": "code",
   "execution_count": null,
   "metadata": {
    "id": "YvJUU1oXgiXR"
   },
   "outputs": [],
   "source": [
    "from tensorflow.keras import backend as K\n",
    "K.clear_session()"
   ]
  },
  {
   "cell_type": "code",
   "execution_count": null,
   "metadata": {
    "colab": {
     "base_uri": "https://localhost:8080/"
    },
    "eval": false,
    "id": "3CIQZi53vG55",
    "lines_to_next_cell": 2,
    "outputId": "60d5b8ab-0b30-4759-9703-4428380571e1"
   },
   "outputs": [
    {
     "name": "stdout",
     "output_type": "stream",
     "text": [
      "Epoch 1/10\n",
      "157/157 [==============================] - 13s 64ms/step - loss: 0.5259 - acc: 0.7342 - val_loss: 1.3922 - val_acc: 0.5184\n",
      "Epoch 2/10\n",
      "157/157 [==============================] - 6s 37ms/step - loss: 0.3303 - acc: 0.8740 - val_loss: 0.3465 - val_acc: 0.8576\n",
      "Epoch 3/10\n",
      "157/157 [==============================] - 6s 37ms/step - loss: 0.2667 - acc: 0.9043 - val_loss: 0.3855 - val_acc: 0.8418\n",
      "Epoch 4/10\n",
      "157/157 [==============================] - 6s 37ms/step - loss: 0.2182 - acc: 0.9209 - val_loss: 0.3165 - val_acc: 0.8856\n",
      "Epoch 5/10\n",
      "157/157 [==============================] - 6s 37ms/step - loss: 0.1988 - acc: 0.9298 - val_loss: 0.3459 - val_acc: 0.8688\n",
      "Epoch 6/10\n",
      "157/157 [==============================] - 6s 37ms/step - loss: 0.1759 - acc: 0.9392 - val_loss: 0.3830 - val_acc: 0.8386\n",
      "Epoch 7/10\n",
      "157/157 [==============================] - 6s 37ms/step - loss: 0.1620 - acc: 0.9447 - val_loss: 0.4971 - val_acc: 0.8420\n",
      "Epoch 8/10\n",
      "157/157 [==============================] - 6s 37ms/step - loss: 0.1491 - acc: 0.9491 - val_loss: 0.3944 - val_acc: 0.8812\n",
      "Epoch 9/10\n",
      "157/157 [==============================] - 6s 37ms/step - loss: 0.1335 - acc: 0.9551 - val_loss: 0.3955 - val_acc: 0.8580\n",
      "Epoch 10/10\n",
      "157/157 [==============================] - 6s 37ms/step - loss: 0.1257 - acc: 0.9585 - val_loss: 0.4824 - val_acc: 0.8498\n"
     ]
    }
   ],
   "source": [
    "#tarda 1 min aprox. en google colab con GPU\n",
    "#Entrenamiento y evaluación de un LSTM bidireccional.\n",
    "\n",
    "model = Sequential()\n",
    "model.add(layers.Embedding(max_features, 32))\n",
    "model.add(layers.Bidirectional(layers.LSTM(32)))\n",
    "model.add(layers.Dense(1, activation='sigmoid'))\n",
    "\n",
    "model.compile(optimizer='rmsprop', loss='binary_crossentropy', metrics=['acc'])\n",
    "history = model.fit(x_train, y_train, epochs=10, batch_size=128, validation_split=0.2)\n"
   ]
  },
  {
   "cell_type": "code",
   "execution_count": null,
   "metadata": {
    "colab": {
     "base_uri": "https://localhost:8080/",
     "height": 545
    },
    "id": "tQFEsR9BvG55",
    "outputId": "c1d42dd1-86e5-4447-841b-1920ca3f092f"
   },
   "outputs": [
    {
     "data": {
      "image/png": "[encoded data removed]",
      "text/plain": [
       "<Figure size 432x288 with 1 Axes>"
      ]
     },
     "metadata": {
      "needs_background": "light"
     },
     "output_type": "display_data"
    },
    {
     "data": {
      "image/png": "[encoded data removed]",
      "text/plain": [
       "<Figure size 432x288 with 1 Axes>"
      ]
     },
     "metadata": {
      "needs_background": "light"
     },
     "output_type": "display_data"
    }
   ],
   "source": [
    "import matplotlib.pyplot as plt\n",
    "\n",
    "acc = history.history['acc']\n",
    "val_acc = history.history['val_acc']\n",
    "loss = history.history['loss']\n",
    "val_loss = history.history['val_loss']\n",
    "\n",
    "epochs = range(len(acc))\n",
    "\n",
    "plt.plot(epochs, acc, 'bo', label='Training acc')\n",
    "plt.plot(epochs, val_acc, 'b', label='Validation acc')\n",
    "plt.title('Training and validation accuracy')\n",
    "plt.legend()\n",
    "\n",
    "plt.figure()\n",
    "\n",
    "plt.plot(epochs, loss, 'bo', label='Training loss')\n",
    "plt.plot(epochs, val_loss, 'b', label='Validation loss')\n",
    "plt.title('Training and validation loss')\n",
    "plt.legend()\n",
    "\n",
    "plt.show()"
   ]
  },
  {
   "cell_type": "markdown",
   "metadata": {
    "id": "INUtMddJvG55"
   },
   "source": [
    "\n",
    "\n",
    "\n",
    "* Posiblemente con cierta regularización, el enfoque bidireccional tendrá un gran desempeño en esta tarea."
   ]
  },
  {
   "cell_type": "markdown",
   "metadata": {
    "id": "Mjl9oENZhGEV"
   },
   "source": [
    "## Procesamiento de secuencias con convnets\n",
    "\n",
    "* Anteriormente, aprendimos sobre las redes neuronales convolucionales (convnets) y cómo funcionan particularmente bien en problemas de visión por computadora, debido a su capacidad para operar de manera convolucional, extrayendo características de parches de entrada locales y permitiendo modularidad de representación y eficiencia de datos. \n",
    "\n",
    "* Las mismas propiedades que hacen que las convnets se destaquen en la visión por computadora también las hacen muy relevantes para el procesamiento de secuencias. \n",
    "\n",
    "* El tiempo puede tratarse como una dimensión espacial, como la altura o el ancho de una imagen 2D.\n",
    "\n",
    "* Tales convnets 1D pueden ser competitivas con las RNN en ciertos problemas de procesamiento de secuencias, generalmente a un costo computacional considerablemente más barato. \n",
    "\n",
    "* Recientemente, las convnets 1D, típicamente utilizadas con kernels dilatados o _dilated kernels_, se han utilizado con gran éxito para la generación de audio y la traducción automática. \n",
    "\n",
    "* Además de estos éxitos específicos, se sabe desde hace tiempo que los pequeños convnets 1D pueden ofrecer una alternativa rápida a las RNN para tareas simples como la clasificación de texto y el pronóstico de series de tiempo.\n",
    "\n"
   ]
  },
  {
   "cell_type": "markdown",
   "metadata": {
    "id": "7jQjPJcehc3R"
   },
   "source": [
    "### Entendiendo la convolución 1D para datos de secuencia.\n",
    "\n",
    "* Las capas de convolución introducidas anteriormente eran convoluciones 2D, extrayendo parches 2D de tensores de imagen y aplicando una transformación idéntica a cada parche. \n",
    "\n",
    "* Del mismo modo, se puede usar convoluciones 1D, extrayendo parches 1D locales (subsecuencias) de las secuencias, tal como en la siguiente figura.\n",
    "\n",
    "![](https://drive.google.com/uc?id=1eND5Y_DxTCmMJ8E_Ie-D4Jzf9mhVqrdj)\n",
    "\n",
    "Cómo funciona la convolución 1D: cada paso de tiempo de salida se obtiene de un parche temporal en la secuencia de entrada. Fuente: Deep Learning with Python, FRANÇOIS CHOLLET.\n",
    "\n",
    "* Dichas capas de convolución 1D pueden reconocer patrones locales en una secuencia. \n",
    "\n",
    "* Debido a que se realiza la misma transformación de entrada en cada parche, un patrón aprendido en una determinada posición de una oración puede reconocerse más tarde en una posición diferente, lo que hace que las convnets 1D presenten invariancia traslacional (para traslaciones temporales). \n",
    "\n",
    "* Por ejemplo, una secuencia de caracteres de procesamiento de caracteres 1D usando ventanas de convolución de tamaño 5 debería poder aprender palabras o fragmentos de palabras de longitud 5 o menos, y debería ser capaz de reconocer estas palabras en cualquier contexto en una secuencia de entrada. \n",
    "\n",
    "* Una convnet 1D de nivel de caracteres es capaz de aprender sobre la morfología de las palabras."
   ]
  },
  {
   "cell_type": "markdown",
   "metadata": {
    "id": "YlvknXIrhhFw"
   },
   "source": [
    "### Pooling 1D para datos de secuencia\n",
    "\n",
    "* Ya estamos familiarizados con las operaciones de agrupación (pooling) 2D, como la _average pooling_ 2D y la _max pooling_, que se utilizan en las convnets para reducir la dimensionalidad (submuestreo) espacial de los tensores de imagen. \n",
    "\n",
    "* La operación de pooling 2D tiene un equivalente 1D: extraer parches 1D (subsecuencias) de una entrada y generar el valor máximo (max pooling) o el valor promedio (average pooling). \n",
    "\n",
    "* Al igual que con las convnets 2D, esto se usa para reducir la longitud de las entradas 1D (submuestreo)."
   ]
  },
  {
   "cell_type": "markdown",
   "metadata": {
    "id": "Yhzih4wQhl8c"
   },
   "source": [
    "### Implementando una convnet 1D\n",
    "\n",
    "* En Keras, se utiliza una convnet 1D a través de la capa `Conv1D`, que tiene una interfaz similar a `Conv2D`. \n",
    "\n",
    "* Toma como entrada los tensores 3D con forma `(samples, time, features)` y devuelve tensores 3D de forma similar. \n",
    "\n",
    "* La ventana de convolución es una ventana 1D en el eje temporal: eje (axis) 1 en el tensor de entrada.\n",
    "\n",
    "* Vamos a crear una simple convnet 1D de dos capas y la aplicaremos a la tarea de clasificación de sentimientos de IMDB. \n",
    "\n",
    "* Como recordatorio, este es el código para obtener y preprocesar los datos."
   ]
  },
  {
   "cell_type": "code",
   "execution_count": null,
   "metadata": {
    "colab": {
     "base_uri": "https://localhost:8080/"
    },
    "id": "jo5wKfJWvG56",
    "outputId": "e5c61c03-b8a4-4b77-a6f9-656d4baa3189"
   },
   "outputs": [
    {
     "name": "stdout",
     "output_type": "stream",
     "text": [
      "Loading data...\n",
      "25000 train sequences\n",
      "25000 test sequences\n",
      "Pad sequences (samples x time)\n",
      "x_train shape: (25000, 500)\n",
      "x_test shape: (25000, 500)\n"
     ]
    }
   ],
   "source": [
    "#Preparando los datos IMDB\n",
    "from tensorflow.keras.datasets import imdb\n",
    "from tensorflow.keras.preprocessing import sequence\n",
    "\n",
    "max_features = 10000  #Número de palabras a considerar como características\n",
    "max_len = 500  #Corta los textos después de este número de palabras \n",
    "               #(entre las palabras más comunes de max_features)\n",
    "\n",
    "print('Loading data...')\n",
    "(x_train, y_train), (x_test, y_test) = imdb.load_data(num_words=max_features)\n",
    "print(len(x_train), 'train sequences')\n",
    "print(len(x_test), 'test sequences')\n",
    "\n",
    "print('Pad sequences (samples x time)')\n",
    "x_train = sequence.pad_sequences(x_train, maxlen=max_len)\n",
    "x_test = sequence.pad_sequences(x_test, maxlen=max_len)\n",
    "print('x_train shape:', x_train.shape)\n",
    "print('x_test shape:', x_test.shape)"
   ]
  },
  {
   "cell_type": "markdown",
   "metadata": {
    "id": "ELQkkhMovG56"
   },
   "source": [
    "* Las convnets 1D están estructuradas de la misma manera que sus contrapartes 2D, que usamos previamente: consisten en una pila de `Conv1D` y `MaxPooling1D`, que termina en una capa de agrupación global (pooling) o `Flatten`, que convierte las salidas 3D en salidas 2D, permitiendo agregar una o más capas densas al modelo para su clasificación o regresión.\n",
    "\n",
    "* Sin embargo, una diferencia es el hecho de que puede permitirse el lujo de usar ventanas de convolución más grandes con convnets 1D. \n",
    "\n",
    "* Con una capa de convolución 2D, una ventana de convolución 3 × 3 contiene 3 × 3 = 9 vectores de características; pero con una capa de convolución 1D, una ventana de convolución de tamaño 3 contiene solo 3 vectores de características. Por lo tanto, puede permitirse fácilmente ventanas de convolución 1D de tamaño 7 o 9.\n",
    "\n",
    "* Este es el ejemplo de una convnet 1D para el conjunto de datos IMDB."
   ]
  },
  {
   "cell_type": "code",
   "execution_count": null,
   "metadata": {
    "colab": {
     "base_uri": "https://localhost:8080/"
    },
    "eval": false,
    "id": "OSxF6xuQvG56",
    "outputId": "6c9c9577-7bd7-4187-c136-5fcc591e1c77"
   },
   "outputs": [
    {
     "name": "stdout",
     "output_type": "stream",
     "text": [
      "Model: \"sequential_1\"\n",
      "_________________________________________________________________\n",
      " Layer (type)                Output Shape              Param #   \n",
      "=================================================================\n",
      " embedding_1 (Embedding)     (None, 500, 128)          1280000   \n",
      "                                                                 \n",
      " conv1d (Conv1D)             (None, 494, 32)           28704     \n",
      "                                                                 \n",
      " max_pooling1d (MaxPooling1D  (None, 98, 32)           0         \n",
      " )                                                               \n",
      "                                                                 \n",
      " conv1d_1 (Conv1D)           (None, 92, 32)            7200      \n",
      "                                                                 \n",
      " global_max_pooling1d (Globa  (None, 32)               0         \n",
      " lMaxPooling1D)                                                  \n",
      "                                                                 \n",
      " dense_1 (Dense)             (None, 1)                 33        \n",
      "                                                                 \n",
      "=================================================================\n",
      "Total params: 1,315,937\n",
      "Trainable params: 1,315,937\n",
      "Non-trainable params: 0\n",
      "_________________________________________________________________\n",
      "Epoch 1/10\n",
      "157/157 [==============================] - 10s 13ms/step - loss: 0.6921 - acc: 0.5221 - val_loss: 0.6904 - val_acc: 0.5736\n",
      "Epoch 2/10\n",
      "157/157 [==============================] - 2s 10ms/step - loss: 0.6845 - acc: 0.6722 - val_loss: 0.6842 - val_acc: 0.6400\n",
      "Epoch 3/10\n",
      "157/157 [==============================] - 2s 10ms/step - loss: 0.6680 - acc: 0.7617 - val_loss: 0.6567 - val_acc: 0.7292\n",
      "Epoch 4/10\n",
      "157/157 [==============================] - 2s 13ms/step - loss: 0.6135 - acc: 0.7903 - val_loss: 0.5699 - val_acc: 0.7940\n",
      "Epoch 5/10\n",
      "157/157 [==============================] - 2s 10ms/step - loss: 0.4965 - acc: 0.8289 - val_loss: 0.4458 - val_acc: 0.8300\n",
      "Epoch 6/10\n",
      "157/157 [==============================] - 2s 10ms/step - loss: 0.3811 - acc: 0.8591 - val_loss: 0.3717 - val_acc: 0.8466\n",
      "Epoch 7/10\n",
      "157/157 [==============================] - 2s 10ms/step - loss: 0.3139 - acc: 0.8798 - val_loss: 0.3368 - val_acc: 0.8560\n",
      "Epoch 8/10\n",
      "157/157 [==============================] - 2s 10ms/step - loss: 0.2752 - acc: 0.8940 - val_loss: 0.3272 - val_acc: 0.8606\n",
      "Epoch 9/10\n",
      "157/157 [==============================] - 2s 10ms/step - loss: 0.2478 - acc: 0.9044 - val_loss: 0.3146 - val_acc: 0.8672\n",
      "Epoch 10/10\n",
      "157/157 [==============================] - 2s 10ms/step - loss: 0.2263 - acc: 0.9136 - val_loss: 0.3104 - val_acc: 0.8694\n"
     ]
    }
   ],
   "source": [
    "#tarda 25 seg aprox. en google colab con GPU\n",
    "#Entrenamiento y evaluación de una simple convnet 1D en los datos de IMDB\n",
    "\n",
    "from tensorflow.keras.models import Sequential\n",
    "from tensorflow.keras import layers\n",
    "from tensorflow.keras.optimizers import RMSprop\n",
    "\n",
    "model = Sequential()\n",
    "model.add(layers.Embedding(max_features, 128, input_length=max_len))\n",
    "model.add(layers.Conv1D(32, 7, activation='relu'))\n",
    "model.add(layers.MaxPooling1D(5))\n",
    "model.add(layers.Conv1D(32, 7, activation='relu'))\n",
    "model.add(layers.GlobalMaxPooling1D())\n",
    "model.add(layers.Dense(1,activation='sigmoid'))\n",
    "\n",
    "model.summary()\n",
    "\n",
    "model.compile(optimizer=RMSprop(learning_rate=1e-4),\n",
    "              loss='binary_crossentropy',\n",
    "              metrics=['acc'])\n",
    "history = model.fit(x_train, y_train,\n",
    "                    epochs=10,\n",
    "                    batch_size=128,\n",
    "                    validation_split=0.2)"
   ]
  },
  {
   "cell_type": "code",
   "execution_count": null,
   "metadata": {
    "colab": {
     "base_uri": "https://localhost:8080/",
     "height": 545
    },
    "id": "VjZsCnXHvG56",
    "outputId": "aa352d97-71b1-40fd-e773-c3a611a6aed8"
   },
   "outputs": [
    {
     "data": {
      "image/png": "[encoded data removed]",
      "text/plain": [
       "<Figure size 432x288 with 1 Axes>"
      ]
     },
     "metadata": {
      "needs_background": "light"
     },
     "output_type": "display_data"
    },
    {
     "data": {
      "image/png": "[encoded data removed]",
      "text/plain": [
       "<Figure size 432x288 with 1 Axes>"
      ]
     },
     "metadata": {
      "needs_background": "light"
     },
     "output_type": "display_data"
    }
   ],
   "source": [
    "import matplotlib.pyplot as plt\n",
    "\n",
    "acc = history.history['acc']\n",
    "val_acc = history.history['val_acc']\n",
    "loss = history.history['loss']\n",
    "val_loss = history.history['val_loss']\n",
    "\n",
    "epochs = range(len(acc))\n",
    "\n",
    "plt.plot(epochs, acc, 'bo', label='Training acc')\n",
    "plt.plot(epochs, val_acc, 'b', label='Validation acc')\n",
    "plt.title('Training and validation accuracy')\n",
    "plt.legend()\n",
    "\n",
    "plt.figure()\n",
    "\n",
    "plt.plot(epochs, loss, 'bo', label='Training loss')\n",
    "plt.plot(epochs, val_loss, 'b', label='Validation loss')\n",
    "plt.title('Training and validation loss')\n",
    "plt.legend()\n",
    "\n",
    "plt.show()"
   ]
  },
  {
   "cell_type": "markdown",
   "metadata": {
    "id": "FR6YKzi0vG57"
   },
   "source": [
    "* El gráfico muestra los resultados de entrenamiento y validación. \n",
    "\n",
    "* El accuracy de validación es algo menor que la del LSTM, pero el tiempo de ejecución es más rápido tanto en una CPU como en una GPU.\n",
    "\n",
    "* En este punto, se puede volver a entrenar este modelo para la cantidad correcta de épocas (ocho) y ejecutarlo en el conjunto de prueba. \n",
    "\n",
    "* Esta es una demostración convincente de que una convnet 1D puede ofrecer una alternativa rápida y económica a una red recurrente en una tarea de clasificación de sentimientos a nivel de palabra."
   ]
  },
  {
   "cell_type": "markdown",
   "metadata": {
    "id": "6szlABHflLEb"
   },
   "source": [
    "### Combinando CNNs y RNNs para procesar secuencias largas"
   ]
  },
  {
   "cell_type": "markdown",
   "metadata": {
    "id": "SDwp-z_ivG57"
   },
   "source": [
    "\n",
    "\n",
    "* Una estrategia para combinar la velocidad y la ligereza de las convnets con la sensibilidad del orden de las RNN es utilizar una convnet 1D como un paso de preprocesamiento antes de una RNN, tal como en la siguiente figura.\n",
    "\n",
    "![](https://drive.google.com/uc?id=1KGPD0KrsZyJ9IdIewoTT_NAfJGOLM5_v)\n",
    "\n",
    "Combinando una convnet 1D y una RNN para procesar secuencias largas. Fuente: Deep Learning with Python, FRANÇOIS CHOLLET."
   ]
  },
  {
   "cell_type": "markdown",
   "metadata": {
    "id": "ihIaUF9DvG57"
   },
   "source": [
    "* Esto es especialmente beneficioso cuando se trata de secuencias que son tan largas que no pueden procesarse de manera realista con una RNN, como secuencias con miles de pasos. \n",
    "\n",
    "* La convnet convertirá la secuencia de entrada larga en secuencias mucho más cortas (muestras reducidas) de características de nivel superior. \n",
    "\n",
    "* Esta secuencia de características extraídas se convierte en la entrada a la parte del RNN de la red."
   ]
  },
  {
   "cell_type": "markdown",
   "metadata": {
    "id": "ynxtOyvWvG58"
   },
   "source": [
    "*  Este es el modelo, comenzando con dos capas `Conv1D` y siguiendo con una capa `GRU`."
   ]
  },
  {
   "cell_type": "code",
   "execution_count": null,
   "metadata": {
    "colab": {
     "base_uri": "https://localhost:8080/"
    },
    "eval": false,
    "id": "JS4E6bUlvG58",
    "outputId": "de77e8d4-aa69-409d-a322-dda0f238ff27"
   },
   "outputs": [
    {
     "name": "stderr",
     "output_type": "stream",
     "text": [
      "WARNING:tensorflow:Layer gru will not use cuDNN kernels since it doesn't meet the criteria. It will use a generic GPU kernel as fallback when running on GPU.\n"
     ]
    },
    {
     "name": "stdout",
     "output_type": "stream",
     "text": [
      "Model: \"sequential_2\"\n",
      "_________________________________________________________________\n",
      " Layer (type)                Output Shape              Param #   \n",
      "=================================================================\n",
      " embedding_2 (Embedding)     (None, 500, 128)          1280000   \n",
      "                                                                 \n",
      " conv1d_2 (Conv1D)           (None, 494, 32)           28704     \n",
      "                                                                 \n",
      " max_pooling1d_1 (MaxPooling  (None, 98, 32)           0         \n",
      " 1D)                                                             \n",
      "                                                                 \n",
      " conv1d_3 (Conv1D)           (None, 92, 32)            7200      \n",
      "                                                                 \n",
      " gru (GRU)                   (None, 32)                6336      \n",
      "                                                                 \n",
      " dense_2 (Dense)             (None, 1)                 33        \n",
      "                                                                 \n",
      "=================================================================\n",
      "Total params: 1,322,273\n",
      "Trainable params: 1,322,273\n",
      "Non-trainable params: 0\n",
      "_________________________________________________________________\n",
      "Epoch 1/10\n",
      "157/157 [==============================] - 59s 349ms/step - loss: 0.7956 - acc: 0.5378 - val_loss: 0.6729 - val_acc: 0.6168\n",
      "Epoch 2/10\n",
      "157/157 [==============================] - 54s 342ms/step - loss: 0.6444 - acc: 0.6488 - val_loss: 0.6184 - val_acc: 0.6648\n",
      "Epoch 3/10\n",
      "157/157 [==============================] - 53s 339ms/step - loss: 0.5432 - acc: 0.7401 - val_loss: 0.5604 - val_acc: 0.7262\n",
      "Epoch 4/10\n",
      "157/157 [==============================] - 53s 337ms/step - loss: 0.4636 - acc: 0.8030 - val_loss: 0.5275 - val_acc: 0.7700\n",
      "Epoch 5/10\n",
      "157/157 [==============================] - 54s 341ms/step - loss: 0.4034 - acc: 0.8404 - val_loss: 0.5260 - val_acc: 0.7894\n",
      "Epoch 6/10\n",
      "157/157 [==============================] - 53s 341ms/step - loss: 0.3661 - acc: 0.8613 - val_loss: 0.5740 - val_acc: 0.8024\n",
      "Epoch 7/10\n",
      "157/157 [==============================] - 53s 338ms/step - loss: 0.3361 - acc: 0.8828 - val_loss: 0.6214 - val_acc: 0.8108\n",
      "Epoch 8/10\n",
      "157/157 [==============================] - 54s 342ms/step - loss: 0.3047 - acc: 0.8977 - val_loss: 0.6419 - val_acc: 0.8160\n",
      "Epoch 9/10\n",
      "157/157 [==============================] - 53s 338ms/step - loss: 0.2761 - acc: 0.9144 - val_loss: 0.6575 - val_acc: 0.8258\n",
      "Epoch 10/10\n",
      "157/157 [==============================] - 53s 338ms/step - loss: 0.2558 - acc: 0.9277 - val_loss: 0.7066 - val_acc: 0.8330\n"
     ]
    }
   ],
   "source": [
    "#tarda 10 min aprox. en google colab con GPU (sin cuDNN)\n",
    "#Modelo que combina una base convolucional 1D y una capa GRU\n",
    "\n",
    "from tensorflow.keras.models import Sequential\n",
    "from tensorflow.keras import layers\n",
    "from tensorflow.keras.optimizers import RMSprop\n",
    "\n",
    "model = Sequential()\n",
    "model.add(layers.Embedding(max_features, 128, input_length=max_len))\n",
    "model.add(layers.Conv1D(32, 7, activation='relu'))\n",
    "model.add(layers.MaxPooling1D(5))\n",
    "model.add(layers.Conv1D(32, 7, activation='relu'))\n",
    "model.add(layers.GRU(32, dropout=0.1, recurrent_dropout=0.5))\n",
    "model.add(layers.Dense(1))\n",
    "\n",
    "model.summary()\n",
    "\n",
    "model.compile(optimizer=RMSprop(learning_rate=1e-4),\n",
    "              loss='binary_crossentropy',\n",
    "              metrics=['acc'])\n",
    "history = model.fit(x_train, y_train,\n",
    "                    epochs=10,\n",
    "                    batch_size=128,\n",
    "                    validation_split=0.2)\n"
   ]
  },
  {
   "cell_type": "markdown",
   "metadata": {
    "id": "9de8cXQKvG58"
   },
   "source": [
    "* Acá los resultados"
   ]
  },
  {
   "cell_type": "code",
   "execution_count": null,
   "metadata": {
    "colab": {
     "base_uri": "https://localhost:8080/",
     "height": 545
    },
    "id": "frtblSQyvG58",
    "outputId": "a959dc3d-f837-457e-ea26-d72fe5c5799f"
   },
   "outputs": [
    {
     "data": {
      "image/png": "[encoded data removed]",
      "text/plain": [
       "<Figure size 432x288 with 1 Axes>"
      ]
     },
     "metadata": {
      "needs_background": "light"
     },
     "output_type": "display_data"
    },
    {
     "data": {
      "image/png": "[encoded data removed]",
      "text/plain": [
       "<Figure size 432x288 with 1 Axes>"
      ]
     },
     "metadata": {
      "needs_background": "light"
     },
     "output_type": "display_data"
    }
   ],
   "source": [
    "import matplotlib.pyplot as plt\n",
    "\n",
    "acc = history.history['acc']\n",
    "val_acc = history.history['val_acc']\n",
    "loss = history.history['loss']\n",
    "val_loss = history.history['val_loss']\n",
    "\n",
    "epochs = range(len(acc))\n",
    "\n",
    "plt.plot(epochs, acc, 'bo', label='Training acc')\n",
    "plt.plot(epochs, val_acc, 'b', label='Validation acc')\n",
    "plt.title('Training and validation accuracy')\n",
    "plt.legend()\n",
    "\n",
    "plt.figure()\n",
    "\n",
    "plt.plot(epochs, loss, 'bo', label='Training loss')\n",
    "plt.plot(epochs, val_loss, 'b', label='Validation loss')\n",
    "plt.title('Training and validation loss')\n",
    "plt.legend()\n",
    "\n",
    "plt.show()"
   ]
  },
  {
   "cell_type": "markdown",
   "metadata": {
    "id": "hECqu9rcvG58"
   },
   "source": [
    "* A modo de resumen:\n",
    "\n",
    "    + Si el orden global es importante en sus datos de secuencia, entonces es preferible usar una red recurrente para procesarlos. Este suele ser el caso de la serie temporal, donde el pasado reciente es más informativo que el pasado lejano.\n",
    "    \n",
    "    + Si el orden global __no__ es fundamentalmente significativo, entonces las convnets 1D funcionarán al menos igual de bien y son más baratas. Este suele ser el caso de los datos de texto, donde una palabra clave que se encuentra al comienzo de una oración es tan significativa como una palabra clave que se encuentra al final."
   ]
  }
 ],
 "metadata": {
  "colab": {
   "collapsed_sections": [],
   "provenance": []
  },
  "gpuClass": "standard",
  "jupytext": {
   "cell_metadata_filter": "tags,name,eval,-all",
   "main_language": "R",
   "notebook_metadata_filter": "-all"
  },
  "kernelspec": {
   "display_name": "Python 3.9 (tensorflow)",
   "language": "python",
   "name": "tensorflow"
  },
  "language_info": {
   "codemirror_mode": {
    "name": "ipython",
    "version": 3
   },
   "file_extension": ".py",
   "mimetype": "text/x-python",
   "name": "python",
   "nbconvert_exporter": "python",
   "pygments_lexer": "ipython3",
   "version": "3.9.13"
  }
 },
 "nbformat": 4,
 "nbformat_minor": 4
}
