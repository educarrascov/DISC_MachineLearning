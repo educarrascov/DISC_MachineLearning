{
 "cells": [
  {
   "cell_type": "markdown",
   "metadata": {
    "id": "QTpausmRklbE"
   },
   "source": [
    "## **Eduardo Carrasco Vidal** <img src=\"img/logo.png\" align=\"right\" style=\"width: 120px;\"/>\n",
    "\n",
    "**Doctorado en Ingeniería de Sistemas Complejos, Universidad Adolfo Ibáñez.**\n",
    "\n",
    "**Profesor:** Gonzalo Ruz Heredia.\n",
    "__Ayudante:__ Carlos Sepúlveda Morales.\n",
    "\n",
    "**Curso:** Machine Learning (Aprendizaje Automático).\n",
    "\n",
    "Enlace al repositorio del alumno en [GitHub](https://github.com/educarrascov/DISC_MachineLearning) _@educarrascov_\n",
    "\n",
    "![Python](https://img.shields.io/badge/python-%2314354C.svg) "
   ]
  },
  {
   "cell_type": "markdown",
   "metadata": {
    "id": "5rbOPWLYklbF"
   },
   "source": [
    "## Instrucciones\n",
    "* La tarea es individual\n",
    "* Por favor responder en este mismo notebook\n",
    "* Renombrar el archivo agregando su nombre, por ejemplo tarea3_Contreras_Almada.ipynb\n",
    "* Subir el archivo al link de entrega Trabajo en webcursos que será habilitado\n",
    "* __Fecha de entrega:__ viernes 7 de octubre, 23:55 hrs."
   ]
  },
  {
   "cell_type": "markdown",
   "metadata": {},
   "source": [
    "# Tarea Nº 3: Machine Learning."
   ]
  },
  {
   "cell_type": "markdown",
   "metadata": {},
   "source": [
    "### 1. Exploratory Data Analysis (EDA):"
   ]
  },
  {
   "cell_type": "markdown",
   "metadata": {
    "id": "mSi5rjOEl3Fg"
   },
   "source": [
    "Considere el dataset CallCenterData de la [publicación](https://www.sciencedirect.com/science/article/abs/pii/S0957417412004605) vista en clase."
   ]
  },
  {
   "cell_type": "code",
   "execution_count": 1,
   "metadata": {
    "ExecuteTime": {
     "end_time": "2022-10-04T13:37:40.353125Z",
     "start_time": "2022-10-04T13:37:35.533189Z"
    },
    "colab": {
     "base_uri": "https://localhost:8080/"
    },
    "id": "qTLGvX80__7S",
    "outputId": "dfd3f610-422b-495b-e751-b6928b9c27eb"
   },
   "outputs": [],
   "source": [
    "# se efectúa la carga de la base de datos\n",
    "import pandas as pd\n",
    "import numpy as np\n",
    "import seaborn as sns\n",
    "import matplotlib as plt \n",
    "from matplotlib.pyplot import figure\n",
    "df = pd.read_csv('data/CallCenterData.csv', sep=',')"
   ]
  },
  {
   "cell_type": "code",
   "execution_count": 2,
   "metadata": {
    "ExecuteTime": {
     "end_time": "2022-10-04T13:37:41.860718Z",
     "start_time": "2022-10-04T13:37:41.842295Z"
    }
   },
   "outputs": [
    {
     "data": {
      "text/plain": [
       "(660, 11)"
      ]
     },
     "execution_count": 2,
     "metadata": {},
     "output_type": "execute_result"
    }
   ],
   "source": [
    "df.shape #Se verifica el shape para determinar cantidad total de datos"
   ]
  },
  {
   "cell_type": "code",
   "execution_count": 3,
   "metadata": {
    "ExecuteTime": {
     "end_time": "2022-10-04T13:37:43.750162Z",
     "start_time": "2022-10-04T13:37:43.726019Z"
    },
    "id": "9skd-xpR9o1T"
   },
   "outputs": [
    {
     "name": "stdout",
     "output_type": "stream",
     "text": [
      "<class 'pandas.core.frame.DataFrame'>\n",
      "RangeIndex: 660 entries, 0 to 659\n",
      "Data columns (total 11 columns):\n",
      " #   Column                      Non-Null Count  Dtype  \n",
      "---  ------                      --------------  -----  \n",
      " 0   ID                          660 non-null    int64  \n",
      " 1   Edad                        660 non-null    int64  \n",
      " 2   Sexo                        660 non-null    object \n",
      " 3   NivelEducacion              660 non-null    object \n",
      " 4   EstadoCivil                 660 non-null    object \n",
      " 5   NivelSocEco                 660 non-null    object \n",
      " 6   HorasLogeadas               660 non-null    float64\n",
      " 7   HorasHabladas               660 non-null    float64\n",
      " 8   ContactosEfectivosPromedio  660 non-null    float64\n",
      " 9   RegistrosTerminados         660 non-null    float64\n",
      " 10  ProdMayorUbral              660 non-null    object \n",
      "dtypes: float64(4), int64(2), object(5)\n",
      "memory usage: 56.8+ KB\n"
     ]
    }
   ],
   "source": [
    "df.info() #verificar cantidad de columnas/filas, tipos de variables."
   ]
  },
  {
   "cell_type": "markdown",
   "metadata": {},
   "source": [
    "Como se observa, el detalle de las variables es el siguiente:\n",
    "1. **Numéricas:** `ID`, `Edad`, `HorasLogeadas`, `HorasHabladas`, `ContactosEfectivosPromedio`, `RegistrosTerminados`.\n",
    "2. **Categóricas:** `Sexo`, `NivelEducacion`, `EstadoCivil`, `NivelSocEco`, `ProdMayorUbral`.\n",
    "\n",
    "Todas tienen la misma cantidad de datos (660), sin presentar ninguno nulo."
   ]
  },
  {
   "cell_type": "code",
   "execution_count": 4,
   "metadata": {
    "ExecuteTime": {
     "end_time": "2022-10-04T13:37:45.880626Z",
     "start_time": "2022-10-04T13:37:45.856638Z"
    }
   },
   "outputs": [
    {
     "data": {
      "text/html": [
       "<div>\n",
       "<style scoped>\n",
       "    .dataframe tbody tr th:only-of-type {\n",
       "        vertical-align: middle;\n",
       "    }\n",
       "\n",
       "    .dataframe tbody tr th {\n",
       "        vertical-align: top;\n",
       "    }\n",
       "\n",
       "    .dataframe thead th {\n",
       "        text-align: right;\n",
       "    }\n",
       "</style>\n",
       "<table border=\"1\" class=\"dataframe\">\n",
       "  <thead>\n",
       "    <tr style=\"text-align: right;\">\n",
       "      <th></th>\n",
       "      <th>ID</th>\n",
       "      <th>Edad</th>\n",
       "      <th>Sexo</th>\n",
       "      <th>NivelEducacion</th>\n",
       "      <th>EstadoCivil</th>\n",
       "      <th>NivelSocEco</th>\n",
       "      <th>HorasLogeadas</th>\n",
       "      <th>HorasHabladas</th>\n",
       "      <th>ContactosEfectivosPromedio</th>\n",
       "      <th>RegistrosTerminados</th>\n",
       "      <th>ProdMayorUbral</th>\n",
       "    </tr>\n",
       "  </thead>\n",
       "  <tbody>\n",
       "    <tr>\n",
       "      <th>0</th>\n",
       "      <td>1</td>\n",
       "      <td>32</td>\n",
       "      <td>m</td>\n",
       "      <td>un</td>\n",
       "      <td>s</td>\n",
       "      <td>c3c4</td>\n",
       "      <td>151.1525</td>\n",
       "      <td>45.8525</td>\n",
       "      <td>192.25</td>\n",
       "      <td>591.75</td>\n",
       "      <td>si</td>\n",
       "    </tr>\n",
       "    <tr>\n",
       "      <th>1</th>\n",
       "      <td>2</td>\n",
       "      <td>24</td>\n",
       "      <td>m</td>\n",
       "      <td>em</td>\n",
       "      <td>s</td>\n",
       "      <td>c3c4</td>\n",
       "      <td>71.1800</td>\n",
       "      <td>24.7600</td>\n",
       "      <td>1.00</td>\n",
       "      <td>501.00</td>\n",
       "      <td>no</td>\n",
       "    </tr>\n",
       "    <tr>\n",
       "      <th>2</th>\n",
       "      <td>3</td>\n",
       "      <td>29</td>\n",
       "      <td>m</td>\n",
       "      <td>em</td>\n",
       "      <td>c</td>\n",
       "      <td>c3c4</td>\n",
       "      <td>120.5600</td>\n",
       "      <td>49.4500</td>\n",
       "      <td>156.00</td>\n",
       "      <td>993.00</td>\n",
       "      <td>si</td>\n",
       "    </tr>\n",
       "    <tr>\n",
       "      <th>3</th>\n",
       "      <td>4</td>\n",
       "      <td>48</td>\n",
       "      <td>f</td>\n",
       "      <td>em</td>\n",
       "      <td>c</td>\n",
       "      <td>e</td>\n",
       "      <td>90.8500</td>\n",
       "      <td>28.8500</td>\n",
       "      <td>442.00</td>\n",
       "      <td>569.00</td>\n",
       "      <td>no</td>\n",
       "    </tr>\n",
       "    <tr>\n",
       "      <th>4</th>\n",
       "      <td>5</td>\n",
       "      <td>25</td>\n",
       "      <td>m</td>\n",
       "      <td>un</td>\n",
       "      <td>s</td>\n",
       "      <td>c3c4</td>\n",
       "      <td>190.1800</td>\n",
       "      <td>41.1600</td>\n",
       "      <td>0.00</td>\n",
       "      <td>0.00</td>\n",
       "      <td>si</td>\n",
       "    </tr>\n",
       "  </tbody>\n",
       "</table>\n",
       "</div>"
      ],
      "text/plain": [
       "   ID  Edad Sexo NivelEducacion EstadoCivil NivelSocEco  HorasLogeadas  \\\n",
       "0   1    32    m             un           s        c3c4       151.1525   \n",
       "1   2    24    m             em           s        c3c4        71.1800   \n",
       "2   3    29    m             em           c        c3c4       120.5600   \n",
       "3   4    48    f             em           c           e        90.8500   \n",
       "4   5    25    m             un           s        c3c4       190.1800   \n",
       "\n",
       "   HorasHabladas  ContactosEfectivosPromedio  RegistrosTerminados  \\\n",
       "0        45.8525                      192.25               591.75   \n",
       "1        24.7600                        1.00               501.00   \n",
       "2        49.4500                      156.00               993.00   \n",
       "3        28.8500                      442.00               569.00   \n",
       "4        41.1600                        0.00                 0.00   \n",
       "\n",
       "  ProdMayorUbral  \n",
       "0             si  \n",
       "1             no  \n",
       "2             si  \n",
       "3             no  \n",
       "4             si  "
      ]
     },
     "execution_count": 4,
     "metadata": {},
     "output_type": "execute_result"
    }
   ],
   "source": [
    "df.head() #verificar detalle de 6 primeras mfilas de cada columna"
   ]
  },
  {
   "cell_type": "markdown",
   "metadata": {},
   "source": [
    "#### 1.1. Variables categóricas:"
   ]
  },
  {
   "cell_type": "code",
   "execution_count": 5,
   "metadata": {
    "ExecuteTime": {
     "end_time": "2022-10-04T13:37:51.344503Z",
     "start_time": "2022-10-04T13:37:51.333192Z"
    },
    "id": "z6Kn7wR-BZav"
   },
   "outputs": [
    {
     "name": "stdout",
     "output_type": "stream",
     "text": [
      "Existen 5 Variables Categóricas\n",
      "\n",
      "Las variables categoricas son :\n",
      "\n",
      " ['Sexo', 'NivelEducacion', 'EstadoCivil', 'NivelSocEco', 'ProdMayorUbral']\n"
     ]
    }
   ],
   "source": [
    "categorical = [var for var in df.columns if df[var].dtype=='O']\n",
    "print('Existen {} Variables Categóricas\\n'.format(len(categorical)))\n",
    "print('Las variables categoricas son :\\n\\n', categorical)"
   ]
  },
  {
   "cell_type": "code",
   "execution_count": 6,
   "metadata": {
    "ExecuteTime": {
     "end_time": "2022-10-04T13:37:53.988098Z",
     "start_time": "2022-10-04T13:37:53.974294Z"
    }
   },
   "outputs": [
    {
     "data": {
      "text/plain": [
       "Sexo              0\n",
       "NivelEducacion    0\n",
       "EstadoCivil       0\n",
       "NivelSocEco       0\n",
       "ProdMayorUbral    0\n",
       "dtype: int64"
      ]
     },
     "execution_count": 6,
     "metadata": {},
     "output_type": "execute_result"
    }
   ],
   "source": [
    "## Se verifica que no existan registros nulos.\n",
    "df[categorical].isnull().sum()"
   ]
  },
  {
   "cell_type": "code",
   "execution_count": 7,
   "metadata": {
    "ExecuteTime": {
     "end_time": "2022-10-04T13:37:56.651593Z",
     "start_time": "2022-10-04T13:37:56.640932Z"
    }
   },
   "outputs": [
    {
     "name": "stdout",
     "output_type": "stream",
     "text": [
      "Sexo  contiene  2  etiquetas\n",
      "NivelEducacion  contiene  4  etiquetas\n",
      "EstadoCivil  contiene  2  etiquetas\n",
      "NivelSocEco  contiene  5  etiquetas\n",
      "ProdMayorUbral  contiene  2  etiquetas\n"
     ]
    }
   ],
   "source": [
    "# Se verifica la cardinalidad, objeto determinar cuantas etiquetas posee cada variable\n",
    "for var in categorical:  \n",
    "    print(var, ' contiene ', len(df[var].unique()), ' etiquetas')"
   ]
  },
  {
   "cell_type": "markdown",
   "metadata": {},
   "source": [
    "#### 1.2. Variables Numéricas:"
   ]
  },
  {
   "cell_type": "code",
   "execution_count": 8,
   "metadata": {
    "ExecuteTime": {
     "end_time": "2022-10-04T13:37:57.598617Z",
     "start_time": "2022-10-04T13:37:57.589988Z"
    }
   },
   "outputs": [
    {
     "name": "stdout",
     "output_type": "stream",
     "text": [
      "Existen 6 Variables Numéricas\n",
      "\n",
      "Las variables numéricas son : ['ID', 'Edad', 'HorasLogeadas', 'HorasHabladas', 'ContactosEfectivosPromedio', 'RegistrosTerminados']\n"
     ]
    }
   ],
   "source": [
    "numerical = [var for var in df.columns if df[var].dtype!='O']\n",
    "print('Existen {} Variables Numéricas\\n'.format(len(numerical)))\n",
    "print('Las variables numéricas son :', numerical)"
   ]
  },
  {
   "cell_type": "code",
   "execution_count": 9,
   "metadata": {
    "ExecuteTime": {
     "end_time": "2022-10-04T13:38:00.154549Z",
     "start_time": "2022-10-04T13:38:00.140966Z"
    }
   },
   "outputs": [
    {
     "data": {
      "text/plain": [
       "ID                            0\n",
       "Edad                          0\n",
       "HorasLogeadas                 0\n",
       "HorasHabladas                 0\n",
       "ContactosEfectivosPromedio    0\n",
       "RegistrosTerminados           0\n",
       "dtype: int64"
      ]
     },
     "execution_count": 9,
     "metadata": {},
     "output_type": "execute_result"
    }
   ],
   "source": [
    "## Se verifica que no existan registros nulos.\n",
    "df[numerical].isnull().sum()"
   ]
  },
  {
   "cell_type": "markdown",
   "metadata": {},
   "source": [
    "Identificadas las variables, se deben crear el conjunto de datos dependientes e independientes, en eset caso, la variable de salida es `ProdMayorUbral` y además, se decide eliminar la variable `ID` porque sólo representa la identificación del agente (ejecutivo) que tiene el registro, no siendo utilizado en la resolución del problema."
   ]
  },
  {
   "cell_type": "code",
   "execution_count": 10,
   "metadata": {
    "ExecuteTime": {
     "end_time": "2022-10-04T13:38:00.880940Z",
     "start_time": "2022-10-04T13:38:00.873192Z"
    }
   },
   "outputs": [],
   "source": [
    "X = df.drop(['ProdMayorUbral','ID'], axis=1)"
   ]
  },
  {
   "cell_type": "code",
   "execution_count": 11,
   "metadata": {
    "ExecuteTime": {
     "end_time": "2022-10-04T13:38:01.433333Z",
     "start_time": "2022-10-04T13:38:01.422983Z"
    }
   },
   "outputs": [
    {
     "data": {
      "text/plain": [
       "(660, 9)"
      ]
     },
     "execution_count": 11,
     "metadata": {},
     "output_type": "execute_result"
    }
   ],
   "source": [
    "X.shape"
   ]
  },
  {
   "cell_type": "code",
   "execution_count": 12,
   "metadata": {
    "ExecuteTime": {
     "end_time": "2022-10-04T13:38:04.183201Z",
     "start_time": "2022-10-04T13:38:04.164448Z"
    }
   },
   "outputs": [
    {
     "name": "stdout",
     "output_type": "stream",
     "text": [
      "<class 'pandas.core.frame.DataFrame'>\n",
      "RangeIndex: 660 entries, 0 to 659\n",
      "Data columns (total 9 columns):\n",
      " #   Column                      Non-Null Count  Dtype  \n",
      "---  ------                      --------------  -----  \n",
      " 0   Edad                        660 non-null    int64  \n",
      " 1   Sexo                        660 non-null    object \n",
      " 2   NivelEducacion              660 non-null    object \n",
      " 3   EstadoCivil                 660 non-null    object \n",
      " 4   NivelSocEco                 660 non-null    object \n",
      " 5   HorasLogeadas               660 non-null    float64\n",
      " 6   HorasHabladas               660 non-null    float64\n",
      " 7   ContactosEfectivosPromedio  660 non-null    float64\n",
      " 8   RegistrosTerminados         660 non-null    float64\n",
      "dtypes: float64(4), int64(1), object(4)\n",
      "memory usage: 46.5+ KB\n"
     ]
    }
   ],
   "source": [
    "X.info()"
   ]
  },
  {
   "cell_type": "markdown",
   "metadata": {},
   "source": [
    "Como se observa, el detalle posterior al EDA en las variables independientes (X) es: \n",
    "\n",
    "1. **Numéricas:** `Edad`, `HorasLogeadas`, `HorasHabladas`, `ContactosEfectivosPromedio`, `RegistrosTerminados`.\n",
    "2. **Categóricas:** `Sexo`, `NivelEducacion`, `EstadoCivil`, `NivelSocEco`."
   ]
  },
  {
   "cell_type": "markdown",
   "metadata": {
    "id": "TbwKHmVFBLxs"
   },
   "source": [
    "#### 1.3. Feature Engineering:\n",
    "Conversión de atributos categóricos a númericos."
   ]
  },
  {
   "cell_type": "code",
   "execution_count": 13,
   "metadata": {
    "ExecuteTime": {
     "end_time": "2022-10-04T13:38:07.083000Z",
     "start_time": "2022-10-04T13:38:07.073180Z"
    }
   },
   "outputs": [],
   "source": [
    "def get_ohe(X):\n",
    "    temp_df = pd.DataFrame(data=ohe.transform(X[['Sexo','NivelEducacion','EstadoCivil','NivelSocEco']]), columns=ohe.get_feature_names_out())\n",
    "    X.drop(columns=['Sexo','NivelEducacion','EstadoCivil','NivelSocEco'], axis=1, inplace=True)\n",
    "    X = pd.concat([X.reset_index(drop=True), temp_df], axis=1)\n",
    "    return X"
   ]
  },
  {
   "cell_type": "code",
   "execution_count": 14,
   "metadata": {
    "ExecuteTime": {
     "end_time": "2022-10-04T13:38:07.853120Z",
     "start_time": "2022-10-04T13:38:07.724253Z"
    }
   },
   "outputs": [],
   "source": [
    "from sklearn.preprocessing import OneHotEncoder\n",
    "ohe = OneHotEncoder(handle_unknown='ignore', sparse=False, dtype='int')\n",
    "ohe.fit(X[['Sexo','NivelEducacion','EstadoCivil','NivelSocEco']]) #seleccionamos las variables categóricas\n",
    "X = get_ohe(X)"
   ]
  },
  {
   "cell_type": "code",
   "execution_count": 15,
   "metadata": {
    "ExecuteTime": {
     "end_time": "2022-10-04T13:38:08.550329Z",
     "start_time": "2022-10-04T13:38:08.541988Z"
    }
   },
   "outputs": [
    {
     "data": {
      "text/plain": [
       "(660, 18)"
      ]
     },
     "execution_count": 15,
     "metadata": {},
     "output_type": "execute_result"
    }
   ],
   "source": [
    "X.shape"
   ]
  },
  {
   "cell_type": "code",
   "execution_count": 16,
   "metadata": {
    "ExecuteTime": {
     "end_time": "2022-10-04T13:38:10.983920Z",
     "start_time": "2022-10-04T13:38:10.949557Z"
    }
   },
   "outputs": [
    {
     "data": {
      "text/html": [
       "<div>\n",
       "<style scoped>\n",
       "    .dataframe tbody tr th:only-of-type {\n",
       "        vertical-align: middle;\n",
       "    }\n",
       "\n",
       "    .dataframe tbody tr th {\n",
       "        vertical-align: top;\n",
       "    }\n",
       "\n",
       "    .dataframe thead th {\n",
       "        text-align: right;\n",
       "    }\n",
       "</style>\n",
       "<table border=\"1\" class=\"dataframe\">\n",
       "  <thead>\n",
       "    <tr style=\"text-align: right;\">\n",
       "      <th></th>\n",
       "      <th>Edad</th>\n",
       "      <th>HorasLogeadas</th>\n",
       "      <th>HorasHabladas</th>\n",
       "      <th>ContactosEfectivosPromedio</th>\n",
       "      <th>RegistrosTerminados</th>\n",
       "      <th>Sexo_f</th>\n",
       "      <th>Sexo_m</th>\n",
       "      <th>NivelEducacion_em</th>\n",
       "      <th>NivelEducacion_sec</th>\n",
       "      <th>NivelEducacion_ts</th>\n",
       "      <th>NivelEducacion_un</th>\n",
       "      <th>EstadoCivil_c</th>\n",
       "      <th>EstadoCivil_s</th>\n",
       "      <th>NivelSocEco_abc1</th>\n",
       "      <th>NivelSocEco_c2</th>\n",
       "      <th>NivelSocEco_c3c4</th>\n",
       "      <th>NivelSocEco_e</th>\n",
       "      <th>NivelSocEco_fue</th>\n",
       "    </tr>\n",
       "  </thead>\n",
       "  <tbody>\n",
       "    <tr>\n",
       "      <th>0</th>\n",
       "      <td>32</td>\n",
       "      <td>151.1525</td>\n",
       "      <td>45.8525</td>\n",
       "      <td>192.25</td>\n",
       "      <td>591.75</td>\n",
       "      <td>0</td>\n",
       "      <td>1</td>\n",
       "      <td>0</td>\n",
       "      <td>0</td>\n",
       "      <td>0</td>\n",
       "      <td>1</td>\n",
       "      <td>0</td>\n",
       "      <td>1</td>\n",
       "      <td>0</td>\n",
       "      <td>0</td>\n",
       "      <td>1</td>\n",
       "      <td>0</td>\n",
       "      <td>0</td>\n",
       "    </tr>\n",
       "    <tr>\n",
       "      <th>1</th>\n",
       "      <td>24</td>\n",
       "      <td>71.1800</td>\n",
       "      <td>24.7600</td>\n",
       "      <td>1.00</td>\n",
       "      <td>501.00</td>\n",
       "      <td>0</td>\n",
       "      <td>1</td>\n",
       "      <td>1</td>\n",
       "      <td>0</td>\n",
       "      <td>0</td>\n",
       "      <td>0</td>\n",
       "      <td>0</td>\n",
       "      <td>1</td>\n",
       "      <td>0</td>\n",
       "      <td>0</td>\n",
       "      <td>1</td>\n",
       "      <td>0</td>\n",
       "      <td>0</td>\n",
       "    </tr>\n",
       "    <tr>\n",
       "      <th>2</th>\n",
       "      <td>29</td>\n",
       "      <td>120.5600</td>\n",
       "      <td>49.4500</td>\n",
       "      <td>156.00</td>\n",
       "      <td>993.00</td>\n",
       "      <td>0</td>\n",
       "      <td>1</td>\n",
       "      <td>1</td>\n",
       "      <td>0</td>\n",
       "      <td>0</td>\n",
       "      <td>0</td>\n",
       "      <td>1</td>\n",
       "      <td>0</td>\n",
       "      <td>0</td>\n",
       "      <td>0</td>\n",
       "      <td>1</td>\n",
       "      <td>0</td>\n",
       "      <td>0</td>\n",
       "    </tr>\n",
       "    <tr>\n",
       "      <th>3</th>\n",
       "      <td>48</td>\n",
       "      <td>90.8500</td>\n",
       "      <td>28.8500</td>\n",
       "      <td>442.00</td>\n",
       "      <td>569.00</td>\n",
       "      <td>1</td>\n",
       "      <td>0</td>\n",
       "      <td>1</td>\n",
       "      <td>0</td>\n",
       "      <td>0</td>\n",
       "      <td>0</td>\n",
       "      <td>1</td>\n",
       "      <td>0</td>\n",
       "      <td>0</td>\n",
       "      <td>0</td>\n",
       "      <td>0</td>\n",
       "      <td>1</td>\n",
       "      <td>0</td>\n",
       "    </tr>\n",
       "    <tr>\n",
       "      <th>4</th>\n",
       "      <td>25</td>\n",
       "      <td>190.1800</td>\n",
       "      <td>41.1600</td>\n",
       "      <td>0.00</td>\n",
       "      <td>0.00</td>\n",
       "      <td>0</td>\n",
       "      <td>1</td>\n",
       "      <td>0</td>\n",
       "      <td>0</td>\n",
       "      <td>0</td>\n",
       "      <td>1</td>\n",
       "      <td>0</td>\n",
       "      <td>1</td>\n",
       "      <td>0</td>\n",
       "      <td>0</td>\n",
       "      <td>1</td>\n",
       "      <td>0</td>\n",
       "      <td>0</td>\n",
       "    </tr>\n",
       "  </tbody>\n",
       "</table>\n",
       "</div>"
      ],
      "text/plain": [
       "   Edad  HorasLogeadas  HorasHabladas  ContactosEfectivosPromedio  \\\n",
       "0    32       151.1525        45.8525                      192.25   \n",
       "1    24        71.1800        24.7600                        1.00   \n",
       "2    29       120.5600        49.4500                      156.00   \n",
       "3    48        90.8500        28.8500                      442.00   \n",
       "4    25       190.1800        41.1600                        0.00   \n",
       "\n",
       "   RegistrosTerminados  Sexo_f  Sexo_m  NivelEducacion_em  NivelEducacion_sec  \\\n",
       "0               591.75       0       1                  0                   0   \n",
       "1               501.00       0       1                  1                   0   \n",
       "2               993.00       0       1                  1                   0   \n",
       "3               569.00       1       0                  1                   0   \n",
       "4                 0.00       0       1                  0                   0   \n",
       "\n",
       "   NivelEducacion_ts  NivelEducacion_un  EstadoCivil_c  EstadoCivil_s  \\\n",
       "0                  0                  1              0              1   \n",
       "1                  0                  0              0              1   \n",
       "2                  0                  0              1              0   \n",
       "3                  0                  0              1              0   \n",
       "4                  0                  1              0              1   \n",
       "\n",
       "   NivelSocEco_abc1  NivelSocEco_c2  NivelSocEco_c3c4  NivelSocEco_e  \\\n",
       "0                 0               0                 1              0   \n",
       "1                 0               0                 1              0   \n",
       "2                 0               0                 1              0   \n",
       "3                 0               0                 0              1   \n",
       "4                 0               0                 1              0   \n",
       "\n",
       "   NivelSocEco_fue  \n",
       "0                0  \n",
       "1                0  \n",
       "2                0  \n",
       "3                0  \n",
       "4                0  "
      ]
     },
     "execution_count": 16,
     "metadata": {},
     "output_type": "execute_result"
    }
   ],
   "source": [
    "X.head(5)"
   ]
  },
  {
   "cell_type": "code",
   "execution_count": 17,
   "metadata": {
    "ExecuteTime": {
     "end_time": "2022-10-04T13:38:16.625947Z",
     "start_time": "2022-10-04T13:38:16.608139Z"
    }
   },
   "outputs": [
    {
     "name": "stdout",
     "output_type": "stream",
     "text": [
      "<class 'pandas.core.frame.DataFrame'>\n",
      "RangeIndex: 660 entries, 0 to 659\n",
      "Data columns (total 18 columns):\n",
      " #   Column                      Non-Null Count  Dtype  \n",
      "---  ------                      --------------  -----  \n",
      " 0   Edad                        660 non-null    int64  \n",
      " 1   HorasLogeadas               660 non-null    float64\n",
      " 2   HorasHabladas               660 non-null    float64\n",
      " 3   ContactosEfectivosPromedio  660 non-null    float64\n",
      " 4   RegistrosTerminados         660 non-null    float64\n",
      " 5   Sexo_f                      660 non-null    int64  \n",
      " 6   Sexo_m                      660 non-null    int64  \n",
      " 7   NivelEducacion_em           660 non-null    int64  \n",
      " 8   NivelEducacion_sec          660 non-null    int64  \n",
      " 9   NivelEducacion_ts           660 non-null    int64  \n",
      " 10  NivelEducacion_un           660 non-null    int64  \n",
      " 11  EstadoCivil_c               660 non-null    int64  \n",
      " 12  EstadoCivil_s               660 non-null    int64  \n",
      " 13  NivelSocEco_abc1            660 non-null    int64  \n",
      " 14  NivelSocEco_c2              660 non-null    int64  \n",
      " 15  NivelSocEco_c3c4            660 non-null    int64  \n",
      " 16  NivelSocEco_e               660 non-null    int64  \n",
      " 17  NivelSocEco_fue             660 non-null    int64  \n",
      "dtypes: float64(4), int64(14)\n",
      "memory usage: 92.9 KB\n"
     ]
    }
   ],
   "source": [
    "X.info() #Se verifica el estado de todas las variables, identificando el tipo de variable."
   ]
  },
  {
   "cell_type": "markdown",
   "metadata": {
    "id": "Mnn0n6f3CKKi"
   },
   "source": [
    "#### 1.4 Variable objetivo:\n",
    "Codifique la variable de salida ProdMayorUbral, utilice: etiqueta __si__ codificada como 1, y etiqueta __no__ como 0."
   ]
  },
  {
   "cell_type": "code",
   "execution_count": 18,
   "metadata": {
    "ExecuteTime": {
     "end_time": "2022-10-04T13:38:30.213491Z",
     "start_time": "2022-10-04T13:38:30.201981Z"
    }
   },
   "outputs": [],
   "source": [
    "from sklearn.preprocessing import LabelEncoder\n",
    "lb = LabelEncoder()\n",
    "df['ProdMayorUbral'] = lb.fit_transform(df['ProdMayorUbral'])\n",
    "y = df['ProdMayorUbral']"
   ]
  },
  {
   "cell_type": "code",
   "execution_count": 19,
   "metadata": {
    "ExecuteTime": {
     "end_time": "2022-10-04T13:38:30.821042Z",
     "start_time": "2022-10-04T13:38:30.792208Z"
    }
   },
   "outputs": [
    {
     "data": {
      "text/plain": [
       "0    1\n",
       "1    0\n",
       "2    1\n",
       "3    0\n",
       "4    1\n",
       "Name: ProdMayorUbral, dtype: int64"
      ]
     },
     "execution_count": 19,
     "metadata": {},
     "output_type": "execute_result"
    }
   ],
   "source": [
    "y.head(5) #se verifica el detalle de la variable output."
   ]
  },
  {
   "cell_type": "markdown",
   "metadata": {
    "id": "O8eUEdBeCxGy"
   },
   "source": [
    "#### 1.5. Data Split:\n",
    "Genere una partición 70% para entrenamiento y el 30% restante para prueba"
   ]
  },
  {
   "cell_type": "code",
   "execution_count": 20,
   "metadata": {
    "ExecuteTime": {
     "end_time": "2022-10-04T13:38:34.097056Z",
     "start_time": "2022-10-04T13:38:34.044885Z"
    },
    "id": "w7i-8qxwDEkf"
   },
   "outputs": [],
   "source": [
    "# split X and y into training and testing sets\n",
    "from sklearn.model_selection import train_test_split\n",
    "X_train, X_test, y_train, y_test = train_test_split(X, y, test_size = 0.3, random_state = 218)"
   ]
  },
  {
   "cell_type": "code",
   "execution_count": 21,
   "metadata": {
    "ExecuteTime": {
     "end_time": "2022-10-04T13:38:34.721875Z",
     "start_time": "2022-10-04T13:38:34.692647Z"
    }
   },
   "outputs": [
    {
     "data": {
      "text/plain": [
       "((462, 18), (198, 18))"
      ]
     },
     "execution_count": 21,
     "metadata": {},
     "output_type": "execute_result"
    }
   ],
   "source": [
    "# check the shape of X_train and X_test\n",
    "X_train.shape, X_test.shape"
   ]
  },
  {
   "cell_type": "code",
   "execution_count": 22,
   "metadata": {},
   "outputs": [
    {
     "data": {
      "text/html": [
       "<div>\n",
       "<style scoped>\n",
       "    .dataframe tbody tr th:only-of-type {\n",
       "        vertical-align: middle;\n",
       "    }\n",
       "\n",
       "    .dataframe tbody tr th {\n",
       "        vertical-align: top;\n",
       "    }\n",
       "\n",
       "    .dataframe thead th {\n",
       "        text-align: right;\n",
       "    }\n",
       "</style>\n",
       "<table border=\"1\" class=\"dataframe\">\n",
       "  <thead>\n",
       "    <tr style=\"text-align: right;\">\n",
       "      <th></th>\n",
       "      <th>Edad</th>\n",
       "      <th>HorasLogeadas</th>\n",
       "      <th>HorasHabladas</th>\n",
       "      <th>ContactosEfectivosPromedio</th>\n",
       "      <th>RegistrosTerminados</th>\n",
       "      <th>Sexo_f</th>\n",
       "      <th>Sexo_m</th>\n",
       "      <th>NivelEducacion_em</th>\n",
       "      <th>NivelEducacion_sec</th>\n",
       "      <th>NivelEducacion_ts</th>\n",
       "      <th>NivelEducacion_un</th>\n",
       "      <th>EstadoCivil_c</th>\n",
       "      <th>EstadoCivil_s</th>\n",
       "      <th>NivelSocEco_abc1</th>\n",
       "      <th>NivelSocEco_c2</th>\n",
       "      <th>NivelSocEco_c3c4</th>\n",
       "      <th>NivelSocEco_e</th>\n",
       "      <th>NivelSocEco_fue</th>\n",
       "    </tr>\n",
       "  </thead>\n",
       "  <tbody>\n",
       "    <tr>\n",
       "      <th>563</th>\n",
       "      <td>36</td>\n",
       "      <td>14.496286</td>\n",
       "      <td>2.922143</td>\n",
       "      <td>30.142857</td>\n",
       "      <td>48.428571</td>\n",
       "      <td>0</td>\n",
       "      <td>1</td>\n",
       "      <td>1</td>\n",
       "      <td>0</td>\n",
       "      <td>0</td>\n",
       "      <td>0</td>\n",
       "      <td>1</td>\n",
       "      <td>0</td>\n",
       "      <td>0</td>\n",
       "      <td>0</td>\n",
       "      <td>1</td>\n",
       "      <td>0</td>\n",
       "      <td>0</td>\n",
       "    </tr>\n",
       "    <tr>\n",
       "      <th>102</th>\n",
       "      <td>28</td>\n",
       "      <td>64.100000</td>\n",
       "      <td>12.475000</td>\n",
       "      <td>74.000000</td>\n",
       "      <td>139.500000</td>\n",
       "      <td>1</td>\n",
       "      <td>0</td>\n",
       "      <td>0</td>\n",
       "      <td>0</td>\n",
       "      <td>0</td>\n",
       "      <td>1</td>\n",
       "      <td>0</td>\n",
       "      <td>1</td>\n",
       "      <td>0</td>\n",
       "      <td>0</td>\n",
       "      <td>1</td>\n",
       "      <td>0</td>\n",
       "      <td>0</td>\n",
       "    </tr>\n",
       "    <tr>\n",
       "      <th>158</th>\n",
       "      <td>27</td>\n",
       "      <td>38.000000</td>\n",
       "      <td>10.400000</td>\n",
       "      <td>0.000000</td>\n",
       "      <td>0.000000</td>\n",
       "      <td>1</td>\n",
       "      <td>0</td>\n",
       "      <td>1</td>\n",
       "      <td>0</td>\n",
       "      <td>0</td>\n",
       "      <td>0</td>\n",
       "      <td>0</td>\n",
       "      <td>1</td>\n",
       "      <td>0</td>\n",
       "      <td>0</td>\n",
       "      <td>1</td>\n",
       "      <td>0</td>\n",
       "      <td>0</td>\n",
       "    </tr>\n",
       "    <tr>\n",
       "      <th>55</th>\n",
       "      <td>21</td>\n",
       "      <td>58.830000</td>\n",
       "      <td>21.440000</td>\n",
       "      <td>150.000000</td>\n",
       "      <td>522.000000</td>\n",
       "      <td>1</td>\n",
       "      <td>0</td>\n",
       "      <td>1</td>\n",
       "      <td>0</td>\n",
       "      <td>0</td>\n",
       "      <td>0</td>\n",
       "      <td>0</td>\n",
       "      <td>1</td>\n",
       "      <td>0</td>\n",
       "      <td>1</td>\n",
       "      <td>0</td>\n",
       "      <td>0</td>\n",
       "      <td>0</td>\n",
       "    </tr>\n",
       "    <tr>\n",
       "      <th>85</th>\n",
       "      <td>22</td>\n",
       "      <td>58.000000</td>\n",
       "      <td>13.870000</td>\n",
       "      <td>55.000000</td>\n",
       "      <td>421.000000</td>\n",
       "      <td>0</td>\n",
       "      <td>1</td>\n",
       "      <td>1</td>\n",
       "      <td>0</td>\n",
       "      <td>0</td>\n",
       "      <td>0</td>\n",
       "      <td>0</td>\n",
       "      <td>1</td>\n",
       "      <td>0</td>\n",
       "      <td>1</td>\n",
       "      <td>0</td>\n",
       "      <td>0</td>\n",
       "      <td>0</td>\n",
       "    </tr>\n",
       "    <tr>\n",
       "      <th>...</th>\n",
       "      <td>...</td>\n",
       "      <td>...</td>\n",
       "      <td>...</td>\n",
       "      <td>...</td>\n",
       "      <td>...</td>\n",
       "      <td>...</td>\n",
       "      <td>...</td>\n",
       "      <td>...</td>\n",
       "      <td>...</td>\n",
       "      <td>...</td>\n",
       "      <td>...</td>\n",
       "      <td>...</td>\n",
       "      <td>...</td>\n",
       "      <td>...</td>\n",
       "      <td>...</td>\n",
       "      <td>...</td>\n",
       "      <td>...</td>\n",
       "      <td>...</td>\n",
       "    </tr>\n",
       "    <tr>\n",
       "      <th>100</th>\n",
       "      <td>29</td>\n",
       "      <td>66.275000</td>\n",
       "      <td>10.080000</td>\n",
       "      <td>61.500000</td>\n",
       "      <td>142.500000</td>\n",
       "      <td>1</td>\n",
       "      <td>0</td>\n",
       "      <td>1</td>\n",
       "      <td>0</td>\n",
       "      <td>0</td>\n",
       "      <td>0</td>\n",
       "      <td>0</td>\n",
       "      <td>1</td>\n",
       "      <td>0</td>\n",
       "      <td>0</td>\n",
       "      <td>1</td>\n",
       "      <td>0</td>\n",
       "      <td>0</td>\n",
       "    </tr>\n",
       "    <tr>\n",
       "      <th>440</th>\n",
       "      <td>37</td>\n",
       "      <td>120.836667</td>\n",
       "      <td>52.815000</td>\n",
       "      <td>269.500000</td>\n",
       "      <td>542.500000</td>\n",
       "      <td>0</td>\n",
       "      <td>1</td>\n",
       "      <td>1</td>\n",
       "      <td>0</td>\n",
       "      <td>0</td>\n",
       "      <td>0</td>\n",
       "      <td>0</td>\n",
       "      <td>1</td>\n",
       "      <td>0</td>\n",
       "      <td>0</td>\n",
       "      <td>1</td>\n",
       "      <td>0</td>\n",
       "      <td>0</td>\n",
       "    </tr>\n",
       "    <tr>\n",
       "      <th>398</th>\n",
       "      <td>41</td>\n",
       "      <td>185.323000</td>\n",
       "      <td>45.380000</td>\n",
       "      <td>334.700000</td>\n",
       "      <td>645.500000</td>\n",
       "      <td>1</td>\n",
       "      <td>0</td>\n",
       "      <td>1</td>\n",
       "      <td>0</td>\n",
       "      <td>0</td>\n",
       "      <td>0</td>\n",
       "      <td>0</td>\n",
       "      <td>1</td>\n",
       "      <td>0</td>\n",
       "      <td>0</td>\n",
       "      <td>1</td>\n",
       "      <td>0</td>\n",
       "      <td>0</td>\n",
       "    </tr>\n",
       "    <tr>\n",
       "      <th>358</th>\n",
       "      <td>23</td>\n",
       "      <td>157.459500</td>\n",
       "      <td>32.657750</td>\n",
       "      <td>100.500000</td>\n",
       "      <td>184.250000</td>\n",
       "      <td>1</td>\n",
       "      <td>0</td>\n",
       "      <td>1</td>\n",
       "      <td>0</td>\n",
       "      <td>0</td>\n",
       "      <td>0</td>\n",
       "      <td>0</td>\n",
       "      <td>1</td>\n",
       "      <td>0</td>\n",
       "      <td>0</td>\n",
       "      <td>1</td>\n",
       "      <td>0</td>\n",
       "      <td>0</td>\n",
       "    </tr>\n",
       "    <tr>\n",
       "      <th>589</th>\n",
       "      <td>28</td>\n",
       "      <td>187.772100</td>\n",
       "      <td>67.196700</td>\n",
       "      <td>499.200000</td>\n",
       "      <td>713.800000</td>\n",
       "      <td>0</td>\n",
       "      <td>1</td>\n",
       "      <td>0</td>\n",
       "      <td>0</td>\n",
       "      <td>1</td>\n",
       "      <td>0</td>\n",
       "      <td>0</td>\n",
       "      <td>1</td>\n",
       "      <td>0</td>\n",
       "      <td>0</td>\n",
       "      <td>0</td>\n",
       "      <td>1</td>\n",
       "      <td>0</td>\n",
       "    </tr>\n",
       "  </tbody>\n",
       "</table>\n",
       "<p>462 rows × 18 columns</p>\n",
       "</div>"
      ],
      "text/plain": [
       "     Edad  HorasLogeadas  HorasHabladas  ContactosEfectivosPromedio  \\\n",
       "563    36      14.496286       2.922143                   30.142857   \n",
       "102    28      64.100000      12.475000                   74.000000   \n",
       "158    27      38.000000      10.400000                    0.000000   \n",
       "55     21      58.830000      21.440000                  150.000000   \n",
       "85     22      58.000000      13.870000                   55.000000   \n",
       "..    ...            ...            ...                         ...   \n",
       "100    29      66.275000      10.080000                   61.500000   \n",
       "440    37     120.836667      52.815000                  269.500000   \n",
       "398    41     185.323000      45.380000                  334.700000   \n",
       "358    23     157.459500      32.657750                  100.500000   \n",
       "589    28     187.772100      67.196700                  499.200000   \n",
       "\n",
       "     RegistrosTerminados  Sexo_f  Sexo_m  NivelEducacion_em  \\\n",
       "563            48.428571       0       1                  1   \n",
       "102           139.500000       1       0                  0   \n",
       "158             0.000000       1       0                  1   \n",
       "55            522.000000       1       0                  1   \n",
       "85            421.000000       0       1                  1   \n",
       "..                   ...     ...     ...                ...   \n",
       "100           142.500000       1       0                  1   \n",
       "440           542.500000       0       1                  1   \n",
       "398           645.500000       1       0                  1   \n",
       "358           184.250000       1       0                  1   \n",
       "589           713.800000       0       1                  0   \n",
       "\n",
       "     NivelEducacion_sec  NivelEducacion_ts  NivelEducacion_un  EstadoCivil_c  \\\n",
       "563                   0                  0                  0              1   \n",
       "102                   0                  0                  1              0   \n",
       "158                   0                  0                  0              0   \n",
       "55                    0                  0                  0              0   \n",
       "85                    0                  0                  0              0   \n",
       "..                  ...                ...                ...            ...   \n",
       "100                   0                  0                  0              0   \n",
       "440                   0                  0                  0              0   \n",
       "398                   0                  0                  0              0   \n",
       "358                   0                  0                  0              0   \n",
       "589                   0                  1                  0              0   \n",
       "\n",
       "     EstadoCivil_s  NivelSocEco_abc1  NivelSocEco_c2  NivelSocEco_c3c4  \\\n",
       "563              0                 0               0                 1   \n",
       "102              1                 0               0                 1   \n",
       "158              1                 0               0                 1   \n",
       "55               1                 0               1                 0   \n",
       "85               1                 0               1                 0   \n",
       "..             ...               ...             ...               ...   \n",
       "100              1                 0               0                 1   \n",
       "440              1                 0               0                 1   \n",
       "398              1                 0               0                 1   \n",
       "358              1                 0               0                 1   \n",
       "589              1                 0               0                 0   \n",
       "\n",
       "     NivelSocEco_e  NivelSocEco_fue  \n",
       "563              0                0  \n",
       "102              0                0  \n",
       "158              0                0  \n",
       "55               0                0  \n",
       "85               0                0  \n",
       "..             ...              ...  \n",
       "100              0                0  \n",
       "440              0                0  \n",
       "398              0                0  \n",
       "358              0                0  \n",
       "589              1                0  \n",
       "\n",
       "[462 rows x 18 columns]"
      ]
     },
     "execution_count": 22,
     "metadata": {},
     "output_type": "execute_result"
    }
   ],
   "source": [
    "X_train"
   ]
  },
  {
   "cell_type": "code",
   "execution_count": 23,
   "metadata": {},
   "outputs": [
    {
     "name": "stdout",
     "output_type": "stream",
     "text": [
      "<class 'pandas.core.frame.DataFrame'>\n",
      "Int64Index: 462 entries, 563 to 589\n",
      "Data columns (total 18 columns):\n",
      " #   Column                      Non-Null Count  Dtype  \n",
      "---  ------                      --------------  -----  \n",
      " 0   Edad                        462 non-null    int64  \n",
      " 1   HorasLogeadas               462 non-null    float64\n",
      " 2   HorasHabladas               462 non-null    float64\n",
      " 3   ContactosEfectivosPromedio  462 non-null    float64\n",
      " 4   RegistrosTerminados         462 non-null    float64\n",
      " 5   Sexo_f                      462 non-null    int64  \n",
      " 6   Sexo_m                      462 non-null    int64  \n",
      " 7   NivelEducacion_em           462 non-null    int64  \n",
      " 8   NivelEducacion_sec          462 non-null    int64  \n",
      " 9   NivelEducacion_ts           462 non-null    int64  \n",
      " 10  NivelEducacion_un           462 non-null    int64  \n",
      " 11  EstadoCivil_c               462 non-null    int64  \n",
      " 12  EstadoCivil_s               462 non-null    int64  \n",
      " 13  NivelSocEco_abc1            462 non-null    int64  \n",
      " 14  NivelSocEco_c2              462 non-null    int64  \n",
      " 15  NivelSocEco_c3c4            462 non-null    int64  \n",
      " 16  NivelSocEco_e               462 non-null    int64  \n",
      " 17  NivelSocEco_fue             462 non-null    int64  \n",
      "dtypes: float64(4), int64(14)\n",
      "memory usage: 68.6 KB\n"
     ]
    }
   ],
   "source": [
    "X_train.info()"
   ]
  },
  {
   "cell_type": "markdown",
   "metadata": {},
   "source": [
    "#### 1.6. Feature Scaling:\n",
    "Antes de efectuar predicciones con el modelo, se debe mapear todas las variables en la misma escala."
   ]
  },
  {
   "cell_type": "code",
   "execution_count": 24,
   "metadata": {},
   "outputs": [],
   "source": [
    "from sklearn.preprocessing import MinMaxScaler\n",
    "\n",
    "scaling = MinMaxScaler()\n",
    "X_train = scaling.fit_transform(X_train)\n",
    "X_test = scaling.transform(X_test)"
   ]
  },
  {
   "cell_type": "code",
   "execution_count": 25,
   "metadata": {},
   "outputs": [],
   "source": [
    "X_train = pd.DataFrame(X_train)"
   ]
  },
  {
   "cell_type": "code",
   "execution_count": 26,
   "metadata": {},
   "outputs": [],
   "source": [
    "X_test = pd.DataFrame(X_test)"
   ]
  },
  {
   "cell_type": "code",
   "execution_count": 27,
   "metadata": {},
   "outputs": [
    {
     "data": {
      "text/html": [
       "<div>\n",
       "<style scoped>\n",
       "    .dataframe tbody tr th:only-of-type {\n",
       "        vertical-align: middle;\n",
       "    }\n",
       "\n",
       "    .dataframe tbody tr th {\n",
       "        vertical-align: top;\n",
       "    }\n",
       "\n",
       "    .dataframe thead th {\n",
       "        text-align: right;\n",
       "    }\n",
       "</style>\n",
       "<table border=\"1\" class=\"dataframe\">\n",
       "  <thead>\n",
       "    <tr style=\"text-align: right;\">\n",
       "      <th></th>\n",
       "      <th>0</th>\n",
       "      <th>1</th>\n",
       "      <th>2</th>\n",
       "      <th>3</th>\n",
       "      <th>4</th>\n",
       "      <th>5</th>\n",
       "      <th>6</th>\n",
       "      <th>7</th>\n",
       "      <th>8</th>\n",
       "      <th>9</th>\n",
       "      <th>10</th>\n",
       "      <th>11</th>\n",
       "      <th>12</th>\n",
       "      <th>13</th>\n",
       "      <th>14</th>\n",
       "      <th>15</th>\n",
       "      <th>16</th>\n",
       "      <th>17</th>\n",
       "    </tr>\n",
       "  </thead>\n",
       "  <tbody>\n",
       "    <tr>\n",
       "      <th>0</th>\n",
       "      <td>0.386364</td>\n",
       "      <td>0.055479</td>\n",
       "      <td>0.023335</td>\n",
       "      <td>0.024789</td>\n",
       "      <td>0.025620</td>\n",
       "      <td>0.0</td>\n",
       "      <td>1.0</td>\n",
       "      <td>1.0</td>\n",
       "      <td>0.0</td>\n",
       "      <td>0.0</td>\n",
       "      <td>0.0</td>\n",
       "      <td>1.0</td>\n",
       "      <td>0.0</td>\n",
       "      <td>0.0</td>\n",
       "      <td>0.0</td>\n",
       "      <td>1.0</td>\n",
       "      <td>0.0</td>\n",
       "      <td>0.0</td>\n",
       "    </tr>\n",
       "    <tr>\n",
       "      <th>1</th>\n",
       "      <td>0.204545</td>\n",
       "      <td>0.247570</td>\n",
       "      <td>0.102324</td>\n",
       "      <td>0.060855</td>\n",
       "      <td>0.073800</td>\n",
       "      <td>1.0</td>\n",
       "      <td>0.0</td>\n",
       "      <td>0.0</td>\n",
       "      <td>0.0</td>\n",
       "      <td>0.0</td>\n",
       "      <td>1.0</td>\n",
       "      <td>0.0</td>\n",
       "      <td>1.0</td>\n",
       "      <td>0.0</td>\n",
       "      <td>0.0</td>\n",
       "      <td>1.0</td>\n",
       "      <td>0.0</td>\n",
       "      <td>0.0</td>\n",
       "    </tr>\n",
       "    <tr>\n",
       "      <th>2</th>\n",
       "      <td>0.181818</td>\n",
       "      <td>0.146497</td>\n",
       "      <td>0.085166</td>\n",
       "      <td>0.000000</td>\n",
       "      <td>0.000000</td>\n",
       "      <td>1.0</td>\n",
       "      <td>0.0</td>\n",
       "      <td>1.0</td>\n",
       "      <td>0.0</td>\n",
       "      <td>0.0</td>\n",
       "      <td>0.0</td>\n",
       "      <td>0.0</td>\n",
       "      <td>1.0</td>\n",
       "      <td>0.0</td>\n",
       "      <td>0.0</td>\n",
       "      <td>1.0</td>\n",
       "      <td>0.0</td>\n",
       "      <td>0.0</td>\n",
       "    </tr>\n",
       "    <tr>\n",
       "      <th>3</th>\n",
       "      <td>0.045455</td>\n",
       "      <td>0.227162</td>\n",
       "      <td>0.176451</td>\n",
       "      <td>0.123355</td>\n",
       "      <td>0.276154</td>\n",
       "      <td>1.0</td>\n",
       "      <td>0.0</td>\n",
       "      <td>1.0</td>\n",
       "      <td>0.0</td>\n",
       "      <td>0.0</td>\n",
       "      <td>0.0</td>\n",
       "      <td>0.0</td>\n",
       "      <td>1.0</td>\n",
       "      <td>0.0</td>\n",
       "      <td>1.0</td>\n",
       "      <td>0.0</td>\n",
       "      <td>0.0</td>\n",
       "      <td>0.0</td>\n",
       "    </tr>\n",
       "    <tr>\n",
       "      <th>4</th>\n",
       "      <td>0.068182</td>\n",
       "      <td>0.223948</td>\n",
       "      <td>0.113858</td>\n",
       "      <td>0.045230</td>\n",
       "      <td>0.222722</td>\n",
       "      <td>0.0</td>\n",
       "      <td>1.0</td>\n",
       "      <td>1.0</td>\n",
       "      <td>0.0</td>\n",
       "      <td>0.0</td>\n",
       "      <td>0.0</td>\n",
       "      <td>0.0</td>\n",
       "      <td>1.0</td>\n",
       "      <td>0.0</td>\n",
       "      <td>1.0</td>\n",
       "      <td>0.0</td>\n",
       "      <td>0.0</td>\n",
       "      <td>0.0</td>\n",
       "    </tr>\n",
       "  </tbody>\n",
       "</table>\n",
       "</div>"
      ],
      "text/plain": [
       "         0         1         2         3         4    5    6    7    8    9   \\\n",
       "0  0.386364  0.055479  0.023335  0.024789  0.025620  0.0  1.0  1.0  0.0  0.0   \n",
       "1  0.204545  0.247570  0.102324  0.060855  0.073800  1.0  0.0  0.0  0.0  0.0   \n",
       "2  0.181818  0.146497  0.085166  0.000000  0.000000  1.0  0.0  1.0  0.0  0.0   \n",
       "3  0.045455  0.227162  0.176451  0.123355  0.276154  1.0  0.0  1.0  0.0  0.0   \n",
       "4  0.068182  0.223948  0.113858  0.045230  0.222722  0.0  1.0  1.0  0.0  0.0   \n",
       "\n",
       "    10   11   12   13   14   15   16   17  \n",
       "0  0.0  1.0  0.0  0.0  0.0  1.0  0.0  0.0  \n",
       "1  1.0  0.0  1.0  0.0  0.0  1.0  0.0  0.0  \n",
       "2  0.0  0.0  1.0  0.0  0.0  1.0  0.0  0.0  \n",
       "3  0.0  0.0  1.0  0.0  1.0  0.0  0.0  0.0  \n",
       "4  0.0  0.0  1.0  0.0  1.0  0.0  0.0  0.0  "
      ]
     },
     "execution_count": 27,
     "metadata": {},
     "output_type": "execute_result"
    }
   ],
   "source": [
    "X_train.head()"
   ]
  },
  {
   "cell_type": "code",
   "execution_count": 28,
   "metadata": {},
   "outputs": [],
   "source": [
    "col_names = X.columns\n",
    "X_train.columns = X.columns"
   ]
  },
  {
   "cell_type": "code",
   "execution_count": 29,
   "metadata": {},
   "outputs": [
    {
     "data": {
      "text/html": [
       "<div>\n",
       "<style scoped>\n",
       "    .dataframe tbody tr th:only-of-type {\n",
       "        vertical-align: middle;\n",
       "    }\n",
       "\n",
       "    .dataframe tbody tr th {\n",
       "        vertical-align: top;\n",
       "    }\n",
       "\n",
       "    .dataframe thead th {\n",
       "        text-align: right;\n",
       "    }\n",
       "</style>\n",
       "<table border=\"1\" class=\"dataframe\">\n",
       "  <thead>\n",
       "    <tr style=\"text-align: right;\">\n",
       "      <th></th>\n",
       "      <th>Edad</th>\n",
       "      <th>HorasLogeadas</th>\n",
       "      <th>HorasHabladas</th>\n",
       "      <th>ContactosEfectivosPromedio</th>\n",
       "      <th>RegistrosTerminados</th>\n",
       "      <th>Sexo_f</th>\n",
       "      <th>Sexo_m</th>\n",
       "      <th>NivelEducacion_em</th>\n",
       "      <th>NivelEducacion_sec</th>\n",
       "      <th>NivelEducacion_ts</th>\n",
       "      <th>NivelEducacion_un</th>\n",
       "      <th>EstadoCivil_c</th>\n",
       "      <th>EstadoCivil_s</th>\n",
       "      <th>NivelSocEco_abc1</th>\n",
       "      <th>NivelSocEco_c2</th>\n",
       "      <th>NivelSocEco_c3c4</th>\n",
       "      <th>NivelSocEco_e</th>\n",
       "      <th>NivelSocEco_fue</th>\n",
       "    </tr>\n",
       "  </thead>\n",
       "  <tbody>\n",
       "    <tr>\n",
       "      <th>0</th>\n",
       "      <td>0.386364</td>\n",
       "      <td>0.055479</td>\n",
       "      <td>0.023335</td>\n",
       "      <td>0.024789</td>\n",
       "      <td>0.025620</td>\n",
       "      <td>0.0</td>\n",
       "      <td>1.0</td>\n",
       "      <td>1.0</td>\n",
       "      <td>0.0</td>\n",
       "      <td>0.0</td>\n",
       "      <td>0.0</td>\n",
       "      <td>1.0</td>\n",
       "      <td>0.0</td>\n",
       "      <td>0.0</td>\n",
       "      <td>0.0</td>\n",
       "      <td>1.0</td>\n",
       "      <td>0.0</td>\n",
       "      <td>0.0</td>\n",
       "    </tr>\n",
       "    <tr>\n",
       "      <th>1</th>\n",
       "      <td>0.204545</td>\n",
       "      <td>0.247570</td>\n",
       "      <td>0.102324</td>\n",
       "      <td>0.060855</td>\n",
       "      <td>0.073800</td>\n",
       "      <td>1.0</td>\n",
       "      <td>0.0</td>\n",
       "      <td>0.0</td>\n",
       "      <td>0.0</td>\n",
       "      <td>0.0</td>\n",
       "      <td>1.0</td>\n",
       "      <td>0.0</td>\n",
       "      <td>1.0</td>\n",
       "      <td>0.0</td>\n",
       "      <td>0.0</td>\n",
       "      <td>1.0</td>\n",
       "      <td>0.0</td>\n",
       "      <td>0.0</td>\n",
       "    </tr>\n",
       "    <tr>\n",
       "      <th>2</th>\n",
       "      <td>0.181818</td>\n",
       "      <td>0.146497</td>\n",
       "      <td>0.085166</td>\n",
       "      <td>0.000000</td>\n",
       "      <td>0.000000</td>\n",
       "      <td>1.0</td>\n",
       "      <td>0.0</td>\n",
       "      <td>1.0</td>\n",
       "      <td>0.0</td>\n",
       "      <td>0.0</td>\n",
       "      <td>0.0</td>\n",
       "      <td>0.0</td>\n",
       "      <td>1.0</td>\n",
       "      <td>0.0</td>\n",
       "      <td>0.0</td>\n",
       "      <td>1.0</td>\n",
       "      <td>0.0</td>\n",
       "      <td>0.0</td>\n",
       "    </tr>\n",
       "    <tr>\n",
       "      <th>3</th>\n",
       "      <td>0.045455</td>\n",
       "      <td>0.227162</td>\n",
       "      <td>0.176451</td>\n",
       "      <td>0.123355</td>\n",
       "      <td>0.276154</td>\n",
       "      <td>1.0</td>\n",
       "      <td>0.0</td>\n",
       "      <td>1.0</td>\n",
       "      <td>0.0</td>\n",
       "      <td>0.0</td>\n",
       "      <td>0.0</td>\n",
       "      <td>0.0</td>\n",
       "      <td>1.0</td>\n",
       "      <td>0.0</td>\n",
       "      <td>1.0</td>\n",
       "      <td>0.0</td>\n",
       "      <td>0.0</td>\n",
       "      <td>0.0</td>\n",
       "    </tr>\n",
       "    <tr>\n",
       "      <th>4</th>\n",
       "      <td>0.068182</td>\n",
       "      <td>0.223948</td>\n",
       "      <td>0.113858</td>\n",
       "      <td>0.045230</td>\n",
       "      <td>0.222722</td>\n",
       "      <td>0.0</td>\n",
       "      <td>1.0</td>\n",
       "      <td>1.0</td>\n",
       "      <td>0.0</td>\n",
       "      <td>0.0</td>\n",
       "      <td>0.0</td>\n",
       "      <td>0.0</td>\n",
       "      <td>1.0</td>\n",
       "      <td>0.0</td>\n",
       "      <td>1.0</td>\n",
       "      <td>0.0</td>\n",
       "      <td>0.0</td>\n",
       "      <td>0.0</td>\n",
       "    </tr>\n",
       "  </tbody>\n",
       "</table>\n",
       "</div>"
      ],
      "text/plain": [
       "       Edad  HorasLogeadas  HorasHabladas  ContactosEfectivosPromedio  \\\n",
       "0  0.386364       0.055479       0.023335                    0.024789   \n",
       "1  0.204545       0.247570       0.102324                    0.060855   \n",
       "2  0.181818       0.146497       0.085166                    0.000000   \n",
       "3  0.045455       0.227162       0.176451                    0.123355   \n",
       "4  0.068182       0.223948       0.113858                    0.045230   \n",
       "\n",
       "   RegistrosTerminados  Sexo_f  Sexo_m  NivelEducacion_em  NivelEducacion_sec  \\\n",
       "0             0.025620     0.0     1.0                1.0                 0.0   \n",
       "1             0.073800     1.0     0.0                0.0                 0.0   \n",
       "2             0.000000     1.0     0.0                1.0                 0.0   \n",
       "3             0.276154     1.0     0.0                1.0                 0.0   \n",
       "4             0.222722     0.0     1.0                1.0                 0.0   \n",
       "\n",
       "   NivelEducacion_ts  NivelEducacion_un  EstadoCivil_c  EstadoCivil_s  \\\n",
       "0                0.0                0.0            1.0            0.0   \n",
       "1                0.0                1.0            0.0            1.0   \n",
       "2                0.0                0.0            0.0            1.0   \n",
       "3                0.0                0.0            0.0            1.0   \n",
       "4                0.0                0.0            0.0            1.0   \n",
       "\n",
       "   NivelSocEco_abc1  NivelSocEco_c2  NivelSocEco_c3c4  NivelSocEco_e  \\\n",
       "0               0.0             0.0               1.0            0.0   \n",
       "1               0.0             0.0               1.0            0.0   \n",
       "2               0.0             0.0               1.0            0.0   \n",
       "3               0.0             1.0               0.0            0.0   \n",
       "4               0.0             1.0               0.0            0.0   \n",
       "\n",
       "   NivelSocEco_fue  \n",
       "0              0.0  \n",
       "1              0.0  \n",
       "2              0.0  \n",
       "3              0.0  \n",
       "4              0.0  "
      ]
     },
     "execution_count": 29,
     "metadata": {},
     "output_type": "execute_result"
    }
   ],
   "source": [
    "X_train.head() #verificar la asignación de nombres para cada columna"
   ]
  },
  {
   "cell_type": "code",
   "execution_count": 30,
   "metadata": {},
   "outputs": [
    {
     "name": "stdout",
     "output_type": "stream",
     "text": [
      "<class 'pandas.core.frame.DataFrame'>\n",
      "RangeIndex: 462 entries, 0 to 461\n",
      "Data columns (total 18 columns):\n",
      " #   Column                      Non-Null Count  Dtype  \n",
      "---  ------                      --------------  -----  \n",
      " 0   Edad                        462 non-null    float64\n",
      " 1   HorasLogeadas               462 non-null    float64\n",
      " 2   HorasHabladas               462 non-null    float64\n",
      " 3   ContactosEfectivosPromedio  462 non-null    float64\n",
      " 4   RegistrosTerminados         462 non-null    float64\n",
      " 5   Sexo_f                      462 non-null    float64\n",
      " 6   Sexo_m                      462 non-null    float64\n",
      " 7   NivelEducacion_em           462 non-null    float64\n",
      " 8   NivelEducacion_sec          462 non-null    float64\n",
      " 9   NivelEducacion_ts           462 non-null    float64\n",
      " 10  NivelEducacion_un           462 non-null    float64\n",
      " 11  EstadoCivil_c               462 non-null    float64\n",
      " 12  EstadoCivil_s               462 non-null    float64\n",
      " 13  NivelSocEco_abc1            462 non-null    float64\n",
      " 14  NivelSocEco_c2              462 non-null    float64\n",
      " 15  NivelSocEco_c3c4            462 non-null    float64\n",
      " 16  NivelSocEco_e               462 non-null    float64\n",
      " 17  NivelSocEco_fue             462 non-null    float64\n",
      "dtypes: float64(18)\n",
      "memory usage: 65.1 KB\n"
     ]
    }
   ],
   "source": [
    "X_train.info()"
   ]
  },
  {
   "cell_type": "markdown",
   "metadata": {
    "id": "HGoajCnpklbS"
   },
   "source": [
    "## Pregunta 1\n",
    "Entrene un clasificador naive Bayes usando sólo los atributos socio-demográficos. Luego evalúe en el conjunto de prueba generando el classification report."
   ]
  },
  {
   "cell_type": "markdown",
   "metadata": {
    "id": "dys8WeiYklbT"
   },
   "source": [
    "### Respuesta:"
   ]
  },
  {
   "cell_type": "markdown",
   "metadata": {},
   "source": [
    "Objeto efectuar lo requerido, se debe identificar en el conjunto de datos, aquellos que son socio-demográficos (14), los cuales corresponden a:\n",
    "\n",
    "- `Edad`\n",
    "- `Sexo_f`\n",
    "- `Sexo_m` \n",
    "- `NivelEducacion_em`  \n",
    "- `NivelEducacion_sec` \n",
    "- `NivelEducacion_ts` \n",
    "- `NivelEducacion_un` \n",
    "- `EstadoCivil_c`  \n",
    "- `EstadoCivil_s`  \n",
    "- `NivelSocEco_abc1` \n",
    "- `NivelSocEco_c2`\n",
    "- `NivelSocEco_c3c4`\n",
    "- `NivelSocEco_e`\n",
    "- `NivelSocEco_fue`\n",
    "\n"
   ]
  },
  {
   "cell_type": "code",
   "execution_count": 31,
   "metadata": {
    "ExecuteTime": {
     "end_time": "2022-10-04T13:38:37.853789Z",
     "start_time": "2022-10-04T13:38:37.844061Z"
    }
   },
   "outputs": [],
   "source": [
    "X_train1 = X_train.iloc[:,[0,5,6,7,8,9,10,11,12,13,14,15,16,17]].copy()\n",
    "X_test1 = X_test.iloc[:,[0,5,6,7,8,9,10,11,12,13,14,15,16,17]].copy()"
   ]
  },
  {
   "cell_type": "code",
   "execution_count": 32,
   "metadata": {
    "ExecuteTime": {
     "end_time": "2022-10-04T13:38:38.551015Z",
     "start_time": "2022-10-04T13:38:38.526410Z"
    }
   },
   "outputs": [
    {
     "data": {
      "text/html": [
       "<div>\n",
       "<style scoped>\n",
       "    .dataframe tbody tr th:only-of-type {\n",
       "        vertical-align: middle;\n",
       "    }\n",
       "\n",
       "    .dataframe tbody tr th {\n",
       "        vertical-align: top;\n",
       "    }\n",
       "\n",
       "    .dataframe thead th {\n",
       "        text-align: right;\n",
       "    }\n",
       "</style>\n",
       "<table border=\"1\" class=\"dataframe\">\n",
       "  <thead>\n",
       "    <tr style=\"text-align: right;\">\n",
       "      <th></th>\n",
       "      <th>Edad</th>\n",
       "      <th>Sexo_f</th>\n",
       "      <th>Sexo_m</th>\n",
       "      <th>NivelEducacion_em</th>\n",
       "      <th>NivelEducacion_sec</th>\n",
       "      <th>NivelEducacion_ts</th>\n",
       "      <th>NivelEducacion_un</th>\n",
       "      <th>EstadoCivil_c</th>\n",
       "      <th>EstadoCivil_s</th>\n",
       "      <th>NivelSocEco_abc1</th>\n",
       "      <th>NivelSocEco_c2</th>\n",
       "      <th>NivelSocEco_c3c4</th>\n",
       "      <th>NivelSocEco_e</th>\n",
       "      <th>NivelSocEco_fue</th>\n",
       "    </tr>\n",
       "  </thead>\n",
       "  <tbody>\n",
       "    <tr>\n",
       "      <th>0</th>\n",
       "      <td>0.386364</td>\n",
       "      <td>0.0</td>\n",
       "      <td>1.0</td>\n",
       "      <td>1.0</td>\n",
       "      <td>0.0</td>\n",
       "      <td>0.0</td>\n",
       "      <td>0.0</td>\n",
       "      <td>1.0</td>\n",
       "      <td>0.0</td>\n",
       "      <td>0.0</td>\n",
       "      <td>0.0</td>\n",
       "      <td>1.0</td>\n",
       "      <td>0.0</td>\n",
       "      <td>0.0</td>\n",
       "    </tr>\n",
       "    <tr>\n",
       "      <th>1</th>\n",
       "      <td>0.204545</td>\n",
       "      <td>1.0</td>\n",
       "      <td>0.0</td>\n",
       "      <td>0.0</td>\n",
       "      <td>0.0</td>\n",
       "      <td>0.0</td>\n",
       "      <td>1.0</td>\n",
       "      <td>0.0</td>\n",
       "      <td>1.0</td>\n",
       "      <td>0.0</td>\n",
       "      <td>0.0</td>\n",
       "      <td>1.0</td>\n",
       "      <td>0.0</td>\n",
       "      <td>0.0</td>\n",
       "    </tr>\n",
       "    <tr>\n",
       "      <th>2</th>\n",
       "      <td>0.181818</td>\n",
       "      <td>1.0</td>\n",
       "      <td>0.0</td>\n",
       "      <td>1.0</td>\n",
       "      <td>0.0</td>\n",
       "      <td>0.0</td>\n",
       "      <td>0.0</td>\n",
       "      <td>0.0</td>\n",
       "      <td>1.0</td>\n",
       "      <td>0.0</td>\n",
       "      <td>0.0</td>\n",
       "      <td>1.0</td>\n",
       "      <td>0.0</td>\n",
       "      <td>0.0</td>\n",
       "    </tr>\n",
       "    <tr>\n",
       "      <th>3</th>\n",
       "      <td>0.045455</td>\n",
       "      <td>1.0</td>\n",
       "      <td>0.0</td>\n",
       "      <td>1.0</td>\n",
       "      <td>0.0</td>\n",
       "      <td>0.0</td>\n",
       "      <td>0.0</td>\n",
       "      <td>0.0</td>\n",
       "      <td>1.0</td>\n",
       "      <td>0.0</td>\n",
       "      <td>1.0</td>\n",
       "      <td>0.0</td>\n",
       "      <td>0.0</td>\n",
       "      <td>0.0</td>\n",
       "    </tr>\n",
       "    <tr>\n",
       "      <th>4</th>\n",
       "      <td>0.068182</td>\n",
       "      <td>0.0</td>\n",
       "      <td>1.0</td>\n",
       "      <td>1.0</td>\n",
       "      <td>0.0</td>\n",
       "      <td>0.0</td>\n",
       "      <td>0.0</td>\n",
       "      <td>0.0</td>\n",
       "      <td>1.0</td>\n",
       "      <td>0.0</td>\n",
       "      <td>1.0</td>\n",
       "      <td>0.0</td>\n",
       "      <td>0.0</td>\n",
       "      <td>0.0</td>\n",
       "    </tr>\n",
       "    <tr>\n",
       "      <th>...</th>\n",
       "      <td>...</td>\n",
       "      <td>...</td>\n",
       "      <td>...</td>\n",
       "      <td>...</td>\n",
       "      <td>...</td>\n",
       "      <td>...</td>\n",
       "      <td>...</td>\n",
       "      <td>...</td>\n",
       "      <td>...</td>\n",
       "      <td>...</td>\n",
       "      <td>...</td>\n",
       "      <td>...</td>\n",
       "      <td>...</td>\n",
       "      <td>...</td>\n",
       "    </tr>\n",
       "    <tr>\n",
       "      <th>457</th>\n",
       "      <td>0.227273</td>\n",
       "      <td>1.0</td>\n",
       "      <td>0.0</td>\n",
       "      <td>1.0</td>\n",
       "      <td>0.0</td>\n",
       "      <td>0.0</td>\n",
       "      <td>0.0</td>\n",
       "      <td>0.0</td>\n",
       "      <td>1.0</td>\n",
       "      <td>0.0</td>\n",
       "      <td>0.0</td>\n",
       "      <td>1.0</td>\n",
       "      <td>0.0</td>\n",
       "      <td>0.0</td>\n",
       "    </tr>\n",
       "    <tr>\n",
       "      <th>458</th>\n",
       "      <td>0.409091</td>\n",
       "      <td>0.0</td>\n",
       "      <td>1.0</td>\n",
       "      <td>1.0</td>\n",
       "      <td>0.0</td>\n",
       "      <td>0.0</td>\n",
       "      <td>0.0</td>\n",
       "      <td>0.0</td>\n",
       "      <td>1.0</td>\n",
       "      <td>0.0</td>\n",
       "      <td>0.0</td>\n",
       "      <td>1.0</td>\n",
       "      <td>0.0</td>\n",
       "      <td>0.0</td>\n",
       "    </tr>\n",
       "    <tr>\n",
       "      <th>459</th>\n",
       "      <td>0.500000</td>\n",
       "      <td>1.0</td>\n",
       "      <td>0.0</td>\n",
       "      <td>1.0</td>\n",
       "      <td>0.0</td>\n",
       "      <td>0.0</td>\n",
       "      <td>0.0</td>\n",
       "      <td>0.0</td>\n",
       "      <td>1.0</td>\n",
       "      <td>0.0</td>\n",
       "      <td>0.0</td>\n",
       "      <td>1.0</td>\n",
       "      <td>0.0</td>\n",
       "      <td>0.0</td>\n",
       "    </tr>\n",
       "    <tr>\n",
       "      <th>460</th>\n",
       "      <td>0.090909</td>\n",
       "      <td>1.0</td>\n",
       "      <td>0.0</td>\n",
       "      <td>1.0</td>\n",
       "      <td>0.0</td>\n",
       "      <td>0.0</td>\n",
       "      <td>0.0</td>\n",
       "      <td>0.0</td>\n",
       "      <td>1.0</td>\n",
       "      <td>0.0</td>\n",
       "      <td>0.0</td>\n",
       "      <td>1.0</td>\n",
       "      <td>0.0</td>\n",
       "      <td>0.0</td>\n",
       "    </tr>\n",
       "    <tr>\n",
       "      <th>461</th>\n",
       "      <td>0.204545</td>\n",
       "      <td>0.0</td>\n",
       "      <td>1.0</td>\n",
       "      <td>0.0</td>\n",
       "      <td>0.0</td>\n",
       "      <td>1.0</td>\n",
       "      <td>0.0</td>\n",
       "      <td>0.0</td>\n",
       "      <td>1.0</td>\n",
       "      <td>0.0</td>\n",
       "      <td>0.0</td>\n",
       "      <td>0.0</td>\n",
       "      <td>1.0</td>\n",
       "      <td>0.0</td>\n",
       "    </tr>\n",
       "  </tbody>\n",
       "</table>\n",
       "<p>462 rows × 14 columns</p>\n",
       "</div>"
      ],
      "text/plain": [
       "         Edad  Sexo_f  Sexo_m  NivelEducacion_em  NivelEducacion_sec  \\\n",
       "0    0.386364     0.0     1.0                1.0                 0.0   \n",
       "1    0.204545     1.0     0.0                0.0                 0.0   \n",
       "2    0.181818     1.0     0.0                1.0                 0.0   \n",
       "3    0.045455     1.0     0.0                1.0                 0.0   \n",
       "4    0.068182     0.0     1.0                1.0                 0.0   \n",
       "..        ...     ...     ...                ...                 ...   \n",
       "457  0.227273     1.0     0.0                1.0                 0.0   \n",
       "458  0.409091     0.0     1.0                1.0                 0.0   \n",
       "459  0.500000     1.0     0.0                1.0                 0.0   \n",
       "460  0.090909     1.0     0.0                1.0                 0.0   \n",
       "461  0.204545     0.0     1.0                0.0                 0.0   \n",
       "\n",
       "     NivelEducacion_ts  NivelEducacion_un  EstadoCivil_c  EstadoCivil_s  \\\n",
       "0                  0.0                0.0            1.0            0.0   \n",
       "1                  0.0                1.0            0.0            1.0   \n",
       "2                  0.0                0.0            0.0            1.0   \n",
       "3                  0.0                0.0            0.0            1.0   \n",
       "4                  0.0                0.0            0.0            1.0   \n",
       "..                 ...                ...            ...            ...   \n",
       "457                0.0                0.0            0.0            1.0   \n",
       "458                0.0                0.0            0.0            1.0   \n",
       "459                0.0                0.0            0.0            1.0   \n",
       "460                0.0                0.0            0.0            1.0   \n",
       "461                1.0                0.0            0.0            1.0   \n",
       "\n",
       "     NivelSocEco_abc1  NivelSocEco_c2  NivelSocEco_c3c4  NivelSocEco_e  \\\n",
       "0                 0.0             0.0               1.0            0.0   \n",
       "1                 0.0             0.0               1.0            0.0   \n",
       "2                 0.0             0.0               1.0            0.0   \n",
       "3                 0.0             1.0               0.0            0.0   \n",
       "4                 0.0             1.0               0.0            0.0   \n",
       "..                ...             ...               ...            ...   \n",
       "457               0.0             0.0               1.0            0.0   \n",
       "458               0.0             0.0               1.0            0.0   \n",
       "459               0.0             0.0               1.0            0.0   \n",
       "460               0.0             0.0               1.0            0.0   \n",
       "461               0.0             0.0               0.0            1.0   \n",
       "\n",
       "     NivelSocEco_fue  \n",
       "0                0.0  \n",
       "1                0.0  \n",
       "2                0.0  \n",
       "3                0.0  \n",
       "4                0.0  \n",
       "..               ...  \n",
       "457              0.0  \n",
       "458              0.0  \n",
       "459              0.0  \n",
       "460              0.0  \n",
       "461              0.0  \n",
       "\n",
       "[462 rows x 14 columns]"
      ]
     },
     "execution_count": 32,
     "metadata": {},
     "output_type": "execute_result"
    }
   ],
   "source": [
    "X_train1"
   ]
  },
  {
   "cell_type": "markdown",
   "metadata": {},
   "source": [
    "Para la resolución de esta pregunta, la variable `Edad` es una variable continua pero se asume que posee una distribución normal."
   ]
  },
  {
   "cell_type": "code",
   "execution_count": 33,
   "metadata": {
    "ExecuteTime": {
     "end_time": "2022-10-04T13:39:21.370639Z",
     "start_time": "2022-10-04T13:39:21.353819Z"
    }
   },
   "outputs": [
    {
     "data": {
      "text/plain": [
       "GaussianNB()"
      ]
     },
     "execution_count": 33,
     "metadata": {},
     "output_type": "execute_result"
    }
   ],
   "source": [
    "from sklearn.naive_bayes import GaussianNB\n",
    "model_sociodem = GaussianNB()\n",
    "score = []\n",
    "model_sociodem.fit(X_train1,y_train)"
   ]
  },
  {
   "cell_type": "code",
   "execution_count": 34,
   "metadata": {
    "ExecuteTime": {
     "end_time": "2022-10-04T13:39:22.642968Z",
     "start_time": "2022-10-04T13:39:22.629316Z"
    }
   },
   "outputs": [
    {
     "name": "stdout",
     "output_type": "stream",
     "text": [
      "El porcentaje de clasificaciones correctas para el NB de Variables Socio Demográficas es: 55.56 %\n"
     ]
    },
    {
     "name": "stderr",
     "output_type": "stream",
     "text": [
      "/Users/educarrasco/opt/anaconda3/lib/python3.9/site-packages/sklearn/base.py:450: UserWarning: X does not have valid feature names, but GaussianNB was fitted with feature names\n",
      "  warnings.warn(\n"
     ]
    }
   ],
   "source": [
    "from sklearn.metrics import accuracy_score,r2_score as r2\n",
    "from sklearn.metrics import classification_report, plot_confusion_matrix\n",
    "\n",
    "predicciones_sociodem = model_sociodem.predict(X_test1)\n",
    "accuracy_sociodem = accuracy_score(\n",
    "            y_true    = y_test,\n",
    "            y_pred    = predicciones_sociodem,\n",
    "            normalize = True\n",
    "           )\n",
    "print(f\"El porcentaje de clasificaciones correctas para el NB de Variables Socio Demográficas es: {round(100 * accuracy_sociodem,2)} %\")\n",
    "score.append(round(100 * accuracy_sociodem,2))"
   ]
  },
  {
   "cell_type": "code",
   "execution_count": 35,
   "metadata": {
    "ExecuteTime": {
     "end_time": "2022-10-04T13:39:30.637156Z",
     "start_time": "2022-10-04T13:39:30.621112Z"
    }
   },
   "outputs": [
    {
     "name": "stdout",
     "output_type": "stream",
     "text": [
      "              precision    recall  f1-score   support\n",
      "\n",
      "           0       0.55      0.82      0.66       104\n",
      "           1       0.57      0.27      0.36        94\n",
      "\n",
      "    accuracy                           0.56       198\n",
      "   macro avg       0.56      0.54      0.51       198\n",
      "weighted avg       0.56      0.56      0.52       198\n",
      "\n"
     ]
    }
   ],
   "source": [
    "print(classification_report(y_test, predicciones_sociodem))"
   ]
  },
  {
   "cell_type": "markdown",
   "metadata": {},
   "source": [
    "Como se observa, los valores obtenidos son de bajo desempeño, especialmente los que refieren a Recall."
   ]
  },
  {
   "cell_type": "code",
   "execution_count": 36,
   "metadata": {
    "ExecuteTime": {
     "end_time": "2022-10-04T13:39:31.683985Z",
     "start_time": "2022-10-04T13:39:31.655718Z"
    }
   },
   "outputs": [
    {
     "name": "stdout",
     "output_type": "stream",
     "text": [
      "[[85 19]\n",
      " [69 25]]\n"
     ]
    }
   ],
   "source": [
    "from sklearn.metrics import confusion_matrix\n",
    "cf_matrix_1 = confusion_matrix(\n",
    "            y_true    = y_test,\n",
    "            y_pred    = predicciones_sociodem)\n",
    "print(cf_matrix_1)"
   ]
  },
  {
   "cell_type": "code",
   "execution_count": 37,
   "metadata": {
    "ExecuteTime": {
     "end_time": "2022-10-04T13:39:33.932513Z",
     "start_time": "2022-10-04T13:39:33.617225Z"
    }
   },
   "outputs": [
    {
     "data": {
      "text/plain": [
       "<AxesSubplot:>"
      ]
     },
     "execution_count": 37,
     "metadata": {},
     "output_type": "execute_result"
    },
    {
     "data": {
      "image/png": "[encoded data removed]",
      "text/plain": [
       "<Figure size 432x288 with 2 Axes>"
      ]
     },
     "metadata": {
      "needs_background": "light"
     },
     "output_type": "display_data"
    }
   ],
   "source": [
    "import seaborn as sns\n",
    "group_names = ['True Neg','False Pos','False Neg','True Pos']\n",
    "group_counts = [\"{0:0.0f}\".format(value) for value in\n",
    "                cf_matrix_1.flatten()]\n",
    "group_percentages = [\"{0:.2%}\".format(value) for value in\n",
    "                     cf_matrix_1.flatten()/np.sum(cf_matrix_1)]\n",
    "labels = [f\"{v1}\\n{v2}\\n{v3}\" for v1, v2, v3 in\n",
    "          zip(group_names,group_counts,group_percentages)]\n",
    "labels = np.asarray(labels).reshape(2,2)\n",
    "sns.heatmap(cf_matrix_1, annot=labels, fmt='', cmap='Greys')"
   ]
  },
  {
   "cell_type": "markdown",
   "metadata": {},
   "source": [
    "De acuerdo al resultado obtenido en la matriz de confusión, donde se observan: **True Negative** = 85 (42.93%), **False Negative** = 69 (34.85%),   **True Positive** = 25 (12.63%) y **False Positive** = 19 (9.60%), se pueden determinar las siguientes métricas:\n",
    "\n",
    "| Métrica         | Descripción                              |\n",
    "|-----------------|------------------------------------------|\n",
    "| `Accuracy`     | (**ACC** - Classification Accuracy Rate)  |\n",
    "| `Sensitivity (Recall)`  | (**TPR** - True Positive Rate)   |\n",
    "| `Specificity` | (**TNR** - True Negative Rate)             |\n",
    "\n",
    "En base a los resultados obtenidos, el desempeño del clasificador con las variables ingresadas (socio-dem.) tiene una alta tasa de clasificaciones **False Negative**, lo cual influye negativamente en el modelo; observando el resto de los parámetros, no hay ninguno que represente un alto poder predictivo.\n",
    "\n",
    "Lo anterior representa que los aspectos sociodemográficos no permiten predecir el comportamiento del ejecutivo referidos a cumplir: **si** o **no**, un determinado margen de producción. Esto se observa al identificar la gran cantidad de False (tanto negativos como positivos)."
   ]
  },
  {
   "cell_type": "markdown",
   "metadata": {
    "id": "5um4ZrhjklbW"
   },
   "source": [
    "## Pregunta 2\n",
    "Lo mismo que la pregunta anterior pero usando sólo los atributos operacionales. Mejora el desempeño? argumente en función de las métricas de desempeño."
   ]
  },
  {
   "cell_type": "markdown",
   "metadata": {
    "id": "_EtLL1QoklbW"
   },
   "source": [
    "### Respuesta:"
   ]
  },
  {
   "cell_type": "markdown",
   "metadata": {},
   "source": [
    "Objeto efectuar lo requerido, se debe identificar en el conjunto de datos, aquellos que son operacionales (4), los cuales corresponden a:\n",
    "\n",
    "- `HorasLogeadas`.\n",
    "- `HorasHabladas`.\n",
    "- `ContactosEfectivosPromedio`.\n",
    "- `RegistrosTerminados`."
   ]
  },
  {
   "cell_type": "code",
   "execution_count": 38,
   "metadata": {
    "ExecuteTime": {
     "end_time": "2022-10-04T13:39:37.489855Z",
     "start_time": "2022-10-04T13:39:37.479626Z"
    },
    "id": "goH5R_rKklbX"
   },
   "outputs": [],
   "source": [
    "X_train2 = X_train.iloc[:,[1,2,3,4]].copy()\n",
    "X_test2 = X_test.iloc[:,[1,2,3,4]].copy()"
   ]
  },
  {
   "cell_type": "code",
   "execution_count": 39,
   "metadata": {
    "ExecuteTime": {
     "end_time": "2022-10-04T13:39:39.100563Z",
     "start_time": "2022-10-04T13:39:39.080758Z"
    }
   },
   "outputs": [
    {
     "data": {
      "text/html": [
       "<div>\n",
       "<style scoped>\n",
       "    .dataframe tbody tr th:only-of-type {\n",
       "        vertical-align: middle;\n",
       "    }\n",
       "\n",
       "    .dataframe tbody tr th {\n",
       "        vertical-align: top;\n",
       "    }\n",
       "\n",
       "    .dataframe thead th {\n",
       "        text-align: right;\n",
       "    }\n",
       "</style>\n",
       "<table border=\"1\" class=\"dataframe\">\n",
       "  <thead>\n",
       "    <tr style=\"text-align: right;\">\n",
       "      <th></th>\n",
       "      <th>HorasLogeadas</th>\n",
       "      <th>HorasHabladas</th>\n",
       "      <th>ContactosEfectivosPromedio</th>\n",
       "      <th>RegistrosTerminados</th>\n",
       "    </tr>\n",
       "  </thead>\n",
       "  <tbody>\n",
       "    <tr>\n",
       "      <th>0</th>\n",
       "      <td>0.055479</td>\n",
       "      <td>0.023335</td>\n",
       "      <td>0.024789</td>\n",
       "      <td>0.025620</td>\n",
       "    </tr>\n",
       "    <tr>\n",
       "      <th>1</th>\n",
       "      <td>0.247570</td>\n",
       "      <td>0.102324</td>\n",
       "      <td>0.060855</td>\n",
       "      <td>0.073800</td>\n",
       "    </tr>\n",
       "    <tr>\n",
       "      <th>2</th>\n",
       "      <td>0.146497</td>\n",
       "      <td>0.085166</td>\n",
       "      <td>0.000000</td>\n",
       "      <td>0.000000</td>\n",
       "    </tr>\n",
       "    <tr>\n",
       "      <th>3</th>\n",
       "      <td>0.227162</td>\n",
       "      <td>0.176451</td>\n",
       "      <td>0.123355</td>\n",
       "      <td>0.276154</td>\n",
       "    </tr>\n",
       "    <tr>\n",
       "      <th>4</th>\n",
       "      <td>0.223948</td>\n",
       "      <td>0.113858</td>\n",
       "      <td>0.045230</td>\n",
       "      <td>0.222722</td>\n",
       "    </tr>\n",
       "    <tr>\n",
       "      <th>...</th>\n",
       "      <td>...</td>\n",
       "      <td>...</td>\n",
       "      <td>...</td>\n",
       "      <td>...</td>\n",
       "    </tr>\n",
       "    <tr>\n",
       "      <th>457</th>\n",
       "      <td>0.255993</td>\n",
       "      <td>0.082520</td>\n",
       "      <td>0.050576</td>\n",
       "      <td>0.075387</td>\n",
       "    </tr>\n",
       "    <tr>\n",
       "      <th>458</th>\n",
       "      <td>0.467284</td>\n",
       "      <td>0.435878</td>\n",
       "      <td>0.221628</td>\n",
       "      <td>0.286999</td>\n",
       "    </tr>\n",
       "    <tr>\n",
       "      <th>459</th>\n",
       "      <td>0.717008</td>\n",
       "      <td>0.374401</td>\n",
       "      <td>0.275247</td>\n",
       "      <td>0.341489</td>\n",
       "    </tr>\n",
       "    <tr>\n",
       "      <th>460</th>\n",
       "      <td>0.609106</td>\n",
       "      <td>0.269206</td>\n",
       "      <td>0.082648</td>\n",
       "      <td>0.097474</td>\n",
       "    </tr>\n",
       "    <tr>\n",
       "      <th>461</th>\n",
       "      <td>0.726492</td>\n",
       "      <td>0.554794</td>\n",
       "      <td>0.410526</td>\n",
       "      <td>0.377622</td>\n",
       "    </tr>\n",
       "  </tbody>\n",
       "</table>\n",
       "<p>462 rows × 4 columns</p>\n",
       "</div>"
      ],
      "text/plain": [
       "     HorasLogeadas  HorasHabladas  ContactosEfectivosPromedio  \\\n",
       "0         0.055479       0.023335                    0.024789   \n",
       "1         0.247570       0.102324                    0.060855   \n",
       "2         0.146497       0.085166                    0.000000   \n",
       "3         0.227162       0.176451                    0.123355   \n",
       "4         0.223948       0.113858                    0.045230   \n",
       "..             ...            ...                         ...   \n",
       "457       0.255993       0.082520                    0.050576   \n",
       "458       0.467284       0.435878                    0.221628   \n",
       "459       0.717008       0.374401                    0.275247   \n",
       "460       0.609106       0.269206                    0.082648   \n",
       "461       0.726492       0.554794                    0.410526   \n",
       "\n",
       "     RegistrosTerminados  \n",
       "0               0.025620  \n",
       "1               0.073800  \n",
       "2               0.000000  \n",
       "3               0.276154  \n",
       "4               0.222722  \n",
       "..                   ...  \n",
       "457             0.075387  \n",
       "458             0.286999  \n",
       "459             0.341489  \n",
       "460             0.097474  \n",
       "461             0.377622  \n",
       "\n",
       "[462 rows x 4 columns]"
      ]
     },
     "execution_count": 39,
     "metadata": {},
     "output_type": "execute_result"
    }
   ],
   "source": [
    "X_train2"
   ]
  },
  {
   "cell_type": "markdown",
   "metadata": {},
   "source": [
    "### 2.1. Test de Normalidad\n",
    "Para el análisis de los varoles operacionales, se verificará su normalidad mediante Métodos Gráficos."
   ]
  },
  {
   "cell_type": "code",
   "execution_count": 40,
   "metadata": {},
   "outputs": [],
   "source": [
    "# Gráficos\n",
    "# ==============================================================================\n",
    "import matplotlib.pyplot as plt\n",
    "from matplotlib import style\n",
    "import seaborn as sns\n",
    "\n",
    "# Preprocesado y análisis\n",
    "# ==============================================================================\n",
    "import statsmodels.api as sm\n",
    "from scipy import stats\n",
    "\n",
    "# Configuración matplotlib\n",
    "# ==============================================================================\n",
    "plt.style.use('ggplot')\n",
    "\n",
    "# Configuración warnings\n",
    "# ==============================================================================\n",
    "import warnings\n",
    "warnings.filterwarnings('ignore')"
   ]
  },
  {
   "cell_type": "code",
   "execution_count": 41,
   "metadata": {},
   "outputs": [],
   "source": [
    "logeadas = X_train2['HorasLogeadas']\n",
    "habladas = X_train2['HorasHabladas']\n",
    "contactos = X_train2['ContactosEfectivosPromedio']\n",
    "registros = X_train2['RegistrosTerminados']"
   ]
  },
  {
   "cell_type": "markdown",
   "metadata": {},
   "source": [
    "#### 2.1.1. Normalidad de Horas Logeadas:"
   ]
  },
  {
   "cell_type": "code",
   "execution_count": 42,
   "metadata": {},
   "outputs": [
    {
     "data": {
      "image/png": "[encoded data removed]",
      "text/plain": [
       "<Figure size 504x288 with 1 Axes>"
      ]
     },
     "metadata": {},
     "output_type": "display_data"
    }
   ],
   "source": [
    "mu, sigma = stats.norm.fit(logeadas)\n",
    "x_hat = np.linspace(min(logeadas), max(logeadas), num=100)\n",
    "y_hat = stats.norm.pdf(x_hat, mu, sigma)\n",
    "\n",
    "# Gráfico\n",
    "fig, ax = plt.subplots(figsize=(7,4))\n",
    "ax.plot(x_hat, y_hat, linewidth=3, label='normal')\n",
    "ax.hist(x=logeadas, density=True, bins=45, color=\"#3182bd\", alpha=0.5)\n",
    "ax.plot(logeadas, np.full_like(logeadas, -0.01), '|k', markeredgewidth=1)\n",
    "ax.set_title('Distribución de HorasLogeadas')\n",
    "ax.set_xlabel('HorasLogeadas')\n",
    "ax.set_ylabel('Densidad de probabilidad')\n",
    "ax.legend();"
   ]
  },
  {
   "cell_type": "code",
   "execution_count": 43,
   "metadata": {},
   "outputs": [
    {
     "data": {
      "image/png": "[encoded data removed]",
      "text/plain": [
       "<Figure size 504x288 with 1 Axes>"
      ]
     },
     "metadata": {},
     "output_type": "display_data"
    }
   ],
   "source": [
    "fig, ax = plt.subplots(figsize=(7,4))\n",
    "sm.qqplot(\n",
    "    logeadas,\n",
    "    fit   = True,\n",
    "    line  = 'q',\n",
    "    alpha = 0.4,\n",
    "    lw    = 2,\n",
    "    ax    = ax\n",
    ")\n",
    "ax.set_title('Gráfico Q-Q de HorasLogeadas', fontsize = 10,\n",
    "             fontweight = \"bold\")\n",
    "ax.tick_params(labelsize = 7)"
   ]
  },
  {
   "cell_type": "markdown",
   "metadata": {},
   "source": [
    "Mediante ambos métodos gráficos, se puede observar que los datos de `HorasLogeadas` tienen tendencia a una distribución normal."
   ]
  },
  {
   "cell_type": "markdown",
   "metadata": {},
   "source": [
    "#### 2.1.2. Normalidad de Horas Habladas:"
   ]
  },
  {
   "cell_type": "code",
   "execution_count": 44,
   "metadata": {},
   "outputs": [
    {
     "data": {
      "image/png": "[encoded data removed]",
      "text/plain": [
       "<Figure size 504x288 with 1 Axes>"
      ]
     },
     "metadata": {},
     "output_type": "display_data"
    }
   ],
   "source": [
    "mu, sigma = stats.norm.fit(habladas)\n",
    "x_hat = np.linspace(min(habladas), max(habladas), num=100)\n",
    "y_hat = stats.norm.pdf(x_hat, mu, sigma)\n",
    "\n",
    "# Gráfico\n",
    "fig, ax = plt.subplots(figsize=(7,4))\n",
    "ax.plot(x_hat, y_hat, linewidth=3, label='normal')\n",
    "ax.hist(x=habladas, density=True, bins=45, color=\"#3182bd\", alpha=0.5)\n",
    "ax.plot(habladas, np.full_like(habladas, -0.01), '|k', markeredgewidth=1)\n",
    "ax.set_title('Distribución de HorasHabladas')\n",
    "ax.set_xlabel('HorasHabladas')\n",
    "ax.set_ylabel('Densidad de probabilidad')\n",
    "ax.legend();"
   ]
  },
  {
   "cell_type": "code",
   "execution_count": 45,
   "metadata": {},
   "outputs": [
    {
     "data": {
      "image/png": "[encoded data removed]",
      "text/plain": [
       "<Figure size 504x288 with 1 Axes>"
      ]
     },
     "metadata": {},
     "output_type": "display_data"
    }
   ],
   "source": [
    "# Gráfico Q-Q\n",
    "# ==============================================================================\n",
    "fig, ax = plt.subplots(figsize=(7,4))\n",
    "sm.qqplot(\n",
    "    habladas,\n",
    "    fit   = True,\n",
    "    line  = 'q',\n",
    "    alpha = 0.4,\n",
    "    lw    = 2,\n",
    "    ax    = ax\n",
    ")\n",
    "ax.set_title('Gráfico Q-Q de HorasHabladas', fontsize = 10,\n",
    "             fontweight = \"bold\")\n",
    "ax.tick_params(labelsize = 7)"
   ]
  },
  {
   "cell_type": "markdown",
   "metadata": {},
   "source": [
    "Mediante ambos métodos gráficos, se puede observar que los datos de `HorasHabladas` tienen tendencia a una distribución normal, a pesar de que su gráfico muestra una ligera asimetría positiva."
   ]
  },
  {
   "cell_type": "markdown",
   "metadata": {},
   "source": [
    "#### 2.1.3. Normalidad de Contactos Efectivos Promedio:"
   ]
  },
  {
   "cell_type": "code",
   "execution_count": 46,
   "metadata": {},
   "outputs": [
    {
     "data": {
      "image/png": "[encoded data removed]",
      "text/plain": [
       "<Figure size 504x288 with 1 Axes>"
      ]
     },
     "metadata": {},
     "output_type": "display_data"
    }
   ],
   "source": [
    "mu, sigma = stats.norm.fit(contactos)\n",
    "x_hat = np.linspace(min(contactos), max(contactos), num=100)\n",
    "y_hat = stats.norm.pdf(x_hat, mu, sigma)\n",
    "\n",
    "# Gráfico\n",
    "fig, ax = plt.subplots(figsize=(7,4))\n",
    "ax.plot(x_hat, y_hat, linewidth=3, label='normal')\n",
    "ax.hist(x=contactos, density=True, bins=30, color=\"#3182bd\", alpha=0.5)\n",
    "ax.plot(contactos, np.full_like(contactos, -0.01), '|k', markeredgewidth=1)\n",
    "ax.set_title('Distribución de ContactosEfectivosPromedio')\n",
    "ax.set_xlabel('ContactosEfectivosPromedio')\n",
    "ax.set_ylabel('Densidad de probabilidad')\n",
    "ax.legend();"
   ]
  },
  {
   "cell_type": "code",
   "execution_count": 47,
   "metadata": {},
   "outputs": [
    {
     "data": {
      "image/png": "[encoded data removed]",
      "text/plain": [
       "<Figure size 504x288 with 1 Axes>"
      ]
     },
     "metadata": {},
     "output_type": "display_data"
    }
   ],
   "source": [
    "# Gráfico Q-Q\n",
    "# ==============================================================================\n",
    "fig, ax = plt.subplots(figsize=(7,4))\n",
    "sm.qqplot(\n",
    "    contactos,\n",
    "    fit   = True,\n",
    "    line  = 'q',\n",
    "    alpha = 0.4,\n",
    "    lw    = 2,\n",
    "    ax    = ax\n",
    ")\n",
    "ax.set_title('Gráfico Q-Q de ContactosEfectivosPromedio', fontsize = 10,\n",
    "             fontweight = \"bold\")\n",
    "ax.tick_params(labelsize = 7)"
   ]
  },
  {
   "cell_type": "markdown",
   "metadata": {},
   "source": [
    "Mediante ambos métodos gráficos, se puede observar que los datos de `ContactosEfectivosPromedio` tienen tendencia a una distribución normal, a pesar de que su gráfico muestra una marcada asimetría positiva, el gráfico Q-Q se puede observar la tendencia dem la distribución de datos con la distribución de comparación, por lo cual, se puede señalar que siguen una distribución normal."
   ]
  },
  {
   "cell_type": "markdown",
   "metadata": {},
   "source": [
    "#### 2.1.4. Normalidad de Registros Terminados:"
   ]
  },
  {
   "cell_type": "code",
   "execution_count": 48,
   "metadata": {},
   "outputs": [
    {
     "data": {
      "image/png": "[encoded data removed]",
      "text/plain": [
       "<Figure size 504x288 with 1 Axes>"
      ]
     },
     "metadata": {},
     "output_type": "display_data"
    }
   ],
   "source": [
    "mu, sigma = stats.norm.fit(registros)\n",
    "x_hat = np.linspace(min(registros), max(registros), num=100)\n",
    "y_hat = stats.norm.pdf(x_hat, mu, sigma)\n",
    "\n",
    "# Gráfico\n",
    "fig, ax = plt.subplots(figsize=(7,4))\n",
    "ax.plot(x_hat, y_hat, linewidth=3, label='normal')\n",
    "ax.hist(x=registros, density=True, bins=45, color=\"#3182bd\", alpha=0.5)\n",
    "ax.plot(registros, np.full_like(registros, -0.01), '|k', markeredgewidth=1)\n",
    "ax.set_title('Distribución de RegistrosTerminados')\n",
    "ax.set_xlabel('RegistrosTerminados')\n",
    "ax.set_ylabel('Densidad de probabilidad')\n",
    "ax.legend();"
   ]
  },
  {
   "cell_type": "code",
   "execution_count": 49,
   "metadata": {},
   "outputs": [
    {
     "data": {
      "image/png": "[encoded data removed]",
      "text/plain": [
       "<Figure size 504x288 with 1 Axes>"
      ]
     },
     "metadata": {},
     "output_type": "display_data"
    }
   ],
   "source": [
    "# Gráfico Q-Q\n",
    "# ==============================================================================\n",
    "fig, ax = plt.subplots(figsize=(7,4))\n",
    "sm.qqplot(\n",
    "    registros,\n",
    "    fit   = True,\n",
    "    line  = 'q',\n",
    "    alpha = 0.4,\n",
    "    lw    = 2,\n",
    "    ax    = ax\n",
    ")\n",
    "ax.set_title('Gráfico Q-Q de RegistrosTerminados', fontsize = 10,\n",
    "             fontweight = \"bold\")\n",
    "ax.tick_params(labelsize = 7)"
   ]
  },
  {
   "cell_type": "markdown",
   "metadata": {},
   "source": [
    "Al igual que el anterior, se puede observar que los datos de `Registros Terminados` tienen tendencia a una distribución normal, a pesar de que su gráfico muestra una asimetría positiva, el gráfico Q-Q se puede observar la tendencia dem la distribución de datos con la distribución de comparación, por lo cual, se puede señalar que siguen una distribución normal.\n",
    "\n",
    "A partir de lo expuesto, se puede señalar que **las variables operacionales tienen una distribución normal**."
   ]
  },
  {
   "cell_type": "code",
   "execution_count": 50,
   "metadata": {
    "ExecuteTime": {
     "end_time": "2022-10-04T13:39:48.804841Z",
     "start_time": "2022-10-04T13:39:48.788294Z"
    }
   },
   "outputs": [
    {
     "data": {
      "text/plain": [
       "GaussianNB()"
      ]
     },
     "execution_count": 50,
     "metadata": {},
     "output_type": "execute_result"
    }
   ],
   "source": [
    "from sklearn.naive_bayes import GaussianNB\n",
    "model_operacionales = GaussianNB()\n",
    "score = []\n",
    "model_operacionales.fit(X_train2,y_train)"
   ]
  },
  {
   "cell_type": "code",
   "execution_count": 51,
   "metadata": {
    "ExecuteTime": {
     "end_time": "2022-10-04T13:39:49.892843Z",
     "start_time": "2022-10-04T13:39:49.879832Z"
    }
   },
   "outputs": [
    {
     "name": "stdout",
     "output_type": "stream",
     "text": [
      "El porcentaje de clasificaciones correctas para el NB de Variables Operacionales es: 77.78 %\n"
     ]
    }
   ],
   "source": [
    "predicciones_operacionales = model_operacionales.predict(X_test2)\n",
    "accuracy_operacionales = accuracy_score(\n",
    "            y_true    = y_test,\n",
    "            y_pred    = predicciones_operacionales,\n",
    "            normalize = True\n",
    "           )\n",
    "print(f\"El porcentaje de clasificaciones correctas para el NB de Variables Operacionales es: {round(100 * accuracy_operacionales,2)} %\")\n",
    "score.append(round(100 * accuracy_operacionales,2))"
   ]
  },
  {
   "cell_type": "markdown",
   "metadata": {},
   "source": [
    "Al utilizar sólo las variables operacionales, aumenta el porcentaje de clasificaciones correctas significativamente, pasando de un 55.56% a un 77.78%, esto preliminarmente permite señalar que las variables operacionales tienen mayor nivel de significancia en la determinación de la variable output."
   ]
  },
  {
   "cell_type": "code",
   "execution_count": 52,
   "metadata": {
    "ExecuteTime": {
     "end_time": "2022-10-04T13:39:57.998289Z",
     "start_time": "2022-10-04T13:39:57.982410Z"
    }
   },
   "outputs": [
    {
     "name": "stdout",
     "output_type": "stream",
     "text": [
      "              precision    recall  f1-score   support\n",
      "\n",
      "           0       0.81      0.75      0.78       104\n",
      "           1       0.75      0.81      0.78        94\n",
      "\n",
      "    accuracy                           0.78       198\n",
      "   macro avg       0.78      0.78      0.78       198\n",
      "weighted avg       0.78      0.78      0.78       198\n",
      "\n"
     ]
    }
   ],
   "source": [
    "print(classification_report(y_test, predicciones_operacionales))"
   ]
  },
  {
   "cell_type": "markdown",
   "metadata": {},
   "source": [
    "En relación con el Classification Report, se puede observar que la tasa recall aumenta de manera importante, lo cual nos permite diferenciar cuales son realmente los agentes que bajo ciertos parámetros podemos identificar positivamente.\n",
    "En este caso con un 81% de acuertos, podemos identificar un agente que potencialmente **si** se encuentre por sobre el umbral de producción, en contraste con lo obtenido en el resultado de variables socio-demográficas donde este valor era cercano al 36%."
   ]
  },
  {
   "cell_type": "code",
   "execution_count": 53,
   "metadata": {
    "ExecuteTime": {
     "end_time": "2022-10-04T13:39:59.677480Z",
     "start_time": "2022-10-04T13:39:59.666757Z"
    }
   },
   "outputs": [
    {
     "name": "stdout",
     "output_type": "stream",
     "text": [
      "[[78 26]\n",
      " [18 76]]\n"
     ]
    }
   ],
   "source": [
    "from sklearn.metrics import confusion_matrix\n",
    "cf_matrix_2 = confusion_matrix(\n",
    "            y_true    = y_test,\n",
    "            y_pred    = predicciones_operacionales)\n",
    "print(cf_matrix_2)"
   ]
  },
  {
   "cell_type": "code",
   "execution_count": 54,
   "metadata": {
    "ExecuteTime": {
     "end_time": "2022-10-04T13:40:01.686297Z",
     "start_time": "2022-10-04T13:40:01.432672Z"
    }
   },
   "outputs": [
    {
     "data": {
      "text/plain": [
       "<AxesSubplot:>"
      ]
     },
     "execution_count": 54,
     "metadata": {},
     "output_type": "execute_result"
    },
    {
     "data": {
      "image/png": "[encoded data removed]",
      "text/plain": [
       "<Figure size 432x288 with 2 Axes>"
      ]
     },
     "metadata": {},
     "output_type": "display_data"
    }
   ],
   "source": [
    "import seaborn as sns\n",
    "group_names = ['True Neg','False Pos','False Neg','True Pos']\n",
    "group_counts = [\"{0:0.0f}\".format(value) for value in\n",
    "                cf_matrix_2.flatten()]\n",
    "group_percentages = [\"{0:.2%}\".format(value) for value in\n",
    "                     cf_matrix_2.flatten()/np.sum(cf_matrix_2)]\n",
    "labels = [f\"{v1}\\n{v2}\\n{v3}\" for v1, v2, v3 in\n",
    "          zip(group_names,group_counts,group_percentages)]\n",
    "labels = np.asarray(labels).reshape(2,2)\n",
    "sns.heatmap(cf_matrix_2, annot=labels, fmt='', cmap='Greys')"
   ]
  },
  {
   "cell_type": "markdown",
   "metadata": {},
   "source": [
    "Por último, del análisis de la matriz de confusión, se puede señalar que la cantidad de falsos negativos (18 - 9.09%) y falsos positivos (26 - 13.13%), disminuye considerablemente, por lo cual, se puede concluir que las variables operacionales en gran medida permiten efectuar la predicción de que un agente se encuentre por sobre/bajo el umbral de producción."
   ]
  },
  {
   "cell_type": "markdown",
   "metadata": {
    "id": "oITWrVC_7EJv"
   },
   "source": [
    "## Pregunta 3\n",
    "Lo mismo que antes pero ahora considerando todos los atributos. Mejora el desempeño? Valdrá la pena usar todos los atributos realmente? argumente en función de las métricas de desempeño.\n",
    "\n"
   ]
  },
  {
   "cell_type": "markdown",
   "metadata": {
    "id": "IhooYPGM7EJ2"
   },
   "source": [
    "### Respuesta"
   ]
  },
  {
   "cell_type": "code",
   "execution_count": 55,
   "metadata": {
    "ExecuteTime": {
     "end_time": "2022-10-04T13:40:09.376031Z",
     "start_time": "2022-10-04T13:40:09.357996Z"
    },
    "id": "B23X2bNE7EJ3"
   },
   "outputs": [
    {
     "data": {
      "text/plain": [
       "GaussianNB()"
      ]
     },
     "execution_count": 55,
     "metadata": {},
     "output_type": "execute_result"
    }
   ],
   "source": [
    "from sklearn.naive_bayes import GaussianNB\n",
    "model_NB = GaussianNB()\n",
    "score = []\n",
    "model_NB.fit(X_train,y_train)"
   ]
  },
  {
   "cell_type": "code",
   "execution_count": 56,
   "metadata": {
    "ExecuteTime": {
     "end_time": "2022-10-04T13:40:21.459930Z",
     "start_time": "2022-10-04T13:40:21.443284Z"
    }
   },
   "outputs": [
    {
     "name": "stdout",
     "output_type": "stream",
     "text": [
      "El porcentaje de clasificaciones correctas para el NB de todas las variables es: 74.24 %\n"
     ]
    }
   ],
   "source": [
    "predicciones_NB = model_NB.predict(X_test)\n",
    "accuracy_NB = accuracy_score(\n",
    "            y_true    = y_test,\n",
    "            y_pred    = predicciones_NB,\n",
    "            normalize = True\n",
    "           )\n",
    "print(f\"El porcentaje de clasificaciones correctas para el NB de todas las variables es: {round(100 * accuracy_NB,2)} %\")\n",
    "score.append(round(100 * accuracy_NB,2))"
   ]
  },
  {
   "cell_type": "markdown",
   "metadata": {},
   "source": [
    "De acuerdo al resultado obtenido al utilizar todas las variables, existe una leve disminución del porcentaje de clasificaciones correctas al utilizar variables socio-demográficas como operacinales, pasando de un 78% a un 74%."
   ]
  },
  {
   "cell_type": "code",
   "execution_count": 57,
   "metadata": {
    "ExecuteTime": {
     "end_time": "2022-10-04T13:40:22.737987Z",
     "start_time": "2022-10-04T13:40:22.719699Z"
    }
   },
   "outputs": [
    {
     "name": "stdout",
     "output_type": "stream",
     "text": [
      "              precision    recall  f1-score   support\n",
      "\n",
      "           0       0.75      0.76      0.76       104\n",
      "           1       0.73      0.72      0.73        94\n",
      "\n",
      "    accuracy                           0.74       198\n",
      "   macro avg       0.74      0.74      0.74       198\n",
      "weighted avg       0.74      0.74      0.74       198\n",
      "\n"
     ]
    }
   ],
   "source": [
    "print(classification_report(y_test, predicciones_NB))"
   ]
  },
  {
   "cell_type": "markdown",
   "metadata": {},
   "source": [
    "Con respecto al análisis del Classification Report, se puede observar una disminución del recall, lo que se ve afectado por la inclusión de las variables socio-demográficas."
   ]
  },
  {
   "cell_type": "code",
   "execution_count": 58,
   "metadata": {
    "ExecuteTime": {
     "end_time": "2022-10-04T13:40:25.112402Z",
     "start_time": "2022-10-04T13:40:25.101882Z"
    }
   },
   "outputs": [
    {
     "name": "stdout",
     "output_type": "stream",
     "text": [
      "[[79 25]\n",
      " [26 68]]\n"
     ]
    }
   ],
   "source": [
    "from sklearn.metrics import confusion_matrix\n",
    "cf_matrix_3 = confusion_matrix(\n",
    "            y_true    = y_test,\n",
    "            y_pred    = predicciones_NB)\n",
    "print(cf_matrix_3)"
   ]
  },
  {
   "cell_type": "code",
   "execution_count": 59,
   "metadata": {
    "ExecuteTime": {
     "end_time": "2022-10-04T13:40:26.101679Z",
     "start_time": "2022-10-04T13:40:25.859701Z"
    }
   },
   "outputs": [
    {
     "data": {
      "text/plain": [
       "<AxesSubplot:>"
      ]
     },
     "execution_count": 59,
     "metadata": {},
     "output_type": "execute_result"
    },
    {
     "data": {
      "image/png": "[encoded data removed]",
      "text/plain": [
       "<Figure size 432x288 with 2 Axes>"
      ]
     },
     "metadata": {},
     "output_type": "display_data"
    }
   ],
   "source": [
    "import seaborn as sns\n",
    "group_names = ['True Neg','False Pos','False Neg','True Pos']\n",
    "group_counts = [\"{0:0.0f}\".format(value) for value in\n",
    "                cf_matrix_3.flatten()]\n",
    "group_percentages = [\"{0:.2%}\".format(value) for value in\n",
    "                     cf_matrix_3.flatten()/np.sum(cf_matrix_3)]\n",
    "labels = [f\"{v1}\\n{v2}\\n{v3}\" for v1, v2, v3 in\n",
    "          zip(group_names,group_counts,group_percentages)]\n",
    "labels = np.asarray(labels).reshape(2,2)\n",
    "sns.heatmap(cf_matrix_3, annot=labels, fmt='', cmap='Greys')"
   ]
  },
  {
   "cell_type": "markdown",
   "metadata": {},
   "source": [
    "Por último, el análisis de la matriz de confusión señala que los valores obtenidos tanto de **False Negative (26 - 13.13%)** como de **False Positive (25 - 13.63%)**, representan un aumento a causa del uso de las variables socio-demográficas.\n",
    "\n"
   ]
  },
  {
   "cell_type": "markdown",
   "metadata": {
    "id": "hw58AA299eTG"
   },
   "source": [
    "## Pregunta 4\n",
    "Qué ocurre si entrena un árbol de decisión usando todos los atributos. Luego evalúe en el conjunto de prueba generando el classification report. Mejora el desempeño? argumente en función de las métricas de desempeño.\n",
    "Qué atributos aparecen en el árbol resultante? "
   ]
  },
  {
   "cell_type": "markdown",
   "metadata": {
    "id": "kuxlTjbR9eTN"
   },
   "source": [
    "### Respuesta"
   ]
  },
  {
   "cell_type": "code",
   "execution_count": 60,
   "metadata": {},
   "outputs": [
    {
     "data": {
      "text/html": [
       "<div>\n",
       "<style scoped>\n",
       "    .dataframe tbody tr th:only-of-type {\n",
       "        vertical-align: middle;\n",
       "    }\n",
       "\n",
       "    .dataframe tbody tr th {\n",
       "        vertical-align: top;\n",
       "    }\n",
       "\n",
       "    .dataframe thead th {\n",
       "        text-align: right;\n",
       "    }\n",
       "</style>\n",
       "<table border=\"1\" class=\"dataframe\">\n",
       "  <thead>\n",
       "    <tr style=\"text-align: right;\">\n",
       "      <th></th>\n",
       "      <th>Edad</th>\n",
       "      <th>HorasLogeadas</th>\n",
       "      <th>HorasHabladas</th>\n",
       "      <th>ContactosEfectivosPromedio</th>\n",
       "      <th>RegistrosTerminados</th>\n",
       "      <th>Sexo_f</th>\n",
       "      <th>Sexo_m</th>\n",
       "      <th>NivelEducacion_em</th>\n",
       "      <th>NivelEducacion_sec</th>\n",
       "      <th>NivelEducacion_ts</th>\n",
       "      <th>NivelEducacion_un</th>\n",
       "      <th>EstadoCivil_c</th>\n",
       "      <th>EstadoCivil_s</th>\n",
       "      <th>NivelSocEco_abc1</th>\n",
       "      <th>NivelSocEco_c2</th>\n",
       "      <th>NivelSocEco_c3c4</th>\n",
       "      <th>NivelSocEco_e</th>\n",
       "      <th>NivelSocEco_fue</th>\n",
       "    </tr>\n",
       "  </thead>\n",
       "  <tbody>\n",
       "    <tr>\n",
       "      <th>0</th>\n",
       "      <td>0.386364</td>\n",
       "      <td>0.055479</td>\n",
       "      <td>0.023335</td>\n",
       "      <td>0.024789</td>\n",
       "      <td>0.025620</td>\n",
       "      <td>0.0</td>\n",
       "      <td>1.0</td>\n",
       "      <td>1.0</td>\n",
       "      <td>0.0</td>\n",
       "      <td>0.0</td>\n",
       "      <td>0.0</td>\n",
       "      <td>1.0</td>\n",
       "      <td>0.0</td>\n",
       "      <td>0.0</td>\n",
       "      <td>0.0</td>\n",
       "      <td>1.0</td>\n",
       "      <td>0.0</td>\n",
       "      <td>0.0</td>\n",
       "    </tr>\n",
       "    <tr>\n",
       "      <th>1</th>\n",
       "      <td>0.204545</td>\n",
       "      <td>0.247570</td>\n",
       "      <td>0.102324</td>\n",
       "      <td>0.060855</td>\n",
       "      <td>0.073800</td>\n",
       "      <td>1.0</td>\n",
       "      <td>0.0</td>\n",
       "      <td>0.0</td>\n",
       "      <td>0.0</td>\n",
       "      <td>0.0</td>\n",
       "      <td>1.0</td>\n",
       "      <td>0.0</td>\n",
       "      <td>1.0</td>\n",
       "      <td>0.0</td>\n",
       "      <td>0.0</td>\n",
       "      <td>1.0</td>\n",
       "      <td>0.0</td>\n",
       "      <td>0.0</td>\n",
       "    </tr>\n",
       "    <tr>\n",
       "      <th>2</th>\n",
       "      <td>0.181818</td>\n",
       "      <td>0.146497</td>\n",
       "      <td>0.085166</td>\n",
       "      <td>0.000000</td>\n",
       "      <td>0.000000</td>\n",
       "      <td>1.0</td>\n",
       "      <td>0.0</td>\n",
       "      <td>1.0</td>\n",
       "      <td>0.0</td>\n",
       "      <td>0.0</td>\n",
       "      <td>0.0</td>\n",
       "      <td>0.0</td>\n",
       "      <td>1.0</td>\n",
       "      <td>0.0</td>\n",
       "      <td>0.0</td>\n",
       "      <td>1.0</td>\n",
       "      <td>0.0</td>\n",
       "      <td>0.0</td>\n",
       "    </tr>\n",
       "    <tr>\n",
       "      <th>3</th>\n",
       "      <td>0.045455</td>\n",
       "      <td>0.227162</td>\n",
       "      <td>0.176451</td>\n",
       "      <td>0.123355</td>\n",
       "      <td>0.276154</td>\n",
       "      <td>1.0</td>\n",
       "      <td>0.0</td>\n",
       "      <td>1.0</td>\n",
       "      <td>0.0</td>\n",
       "      <td>0.0</td>\n",
       "      <td>0.0</td>\n",
       "      <td>0.0</td>\n",
       "      <td>1.0</td>\n",
       "      <td>0.0</td>\n",
       "      <td>1.0</td>\n",
       "      <td>0.0</td>\n",
       "      <td>0.0</td>\n",
       "      <td>0.0</td>\n",
       "    </tr>\n",
       "    <tr>\n",
       "      <th>4</th>\n",
       "      <td>0.068182</td>\n",
       "      <td>0.223948</td>\n",
       "      <td>0.113858</td>\n",
       "      <td>0.045230</td>\n",
       "      <td>0.222722</td>\n",
       "      <td>0.0</td>\n",
       "      <td>1.0</td>\n",
       "      <td>1.0</td>\n",
       "      <td>0.0</td>\n",
       "      <td>0.0</td>\n",
       "      <td>0.0</td>\n",
       "      <td>0.0</td>\n",
       "      <td>1.0</td>\n",
       "      <td>0.0</td>\n",
       "      <td>1.0</td>\n",
       "      <td>0.0</td>\n",
       "      <td>0.0</td>\n",
       "      <td>0.0</td>\n",
       "    </tr>\n",
       "  </tbody>\n",
       "</table>\n",
       "</div>"
      ],
      "text/plain": [
       "       Edad  HorasLogeadas  HorasHabladas  ContactosEfectivosPromedio  \\\n",
       "0  0.386364       0.055479       0.023335                    0.024789   \n",
       "1  0.204545       0.247570       0.102324                    0.060855   \n",
       "2  0.181818       0.146497       0.085166                    0.000000   \n",
       "3  0.045455       0.227162       0.176451                    0.123355   \n",
       "4  0.068182       0.223948       0.113858                    0.045230   \n",
       "\n",
       "   RegistrosTerminados  Sexo_f  Sexo_m  NivelEducacion_em  NivelEducacion_sec  \\\n",
       "0             0.025620     0.0     1.0                1.0                 0.0   \n",
       "1             0.073800     1.0     0.0                0.0                 0.0   \n",
       "2             0.000000     1.0     0.0                1.0                 0.0   \n",
       "3             0.276154     1.0     0.0                1.0                 0.0   \n",
       "4             0.222722     0.0     1.0                1.0                 0.0   \n",
       "\n",
       "   NivelEducacion_ts  NivelEducacion_un  EstadoCivil_c  EstadoCivil_s  \\\n",
       "0                0.0                0.0            1.0            0.0   \n",
       "1                0.0                1.0            0.0            1.0   \n",
       "2                0.0                0.0            0.0            1.0   \n",
       "3                0.0                0.0            0.0            1.0   \n",
       "4                0.0                0.0            0.0            1.0   \n",
       "\n",
       "   NivelSocEco_abc1  NivelSocEco_c2  NivelSocEco_c3c4  NivelSocEco_e  \\\n",
       "0               0.0             0.0               1.0            0.0   \n",
       "1               0.0             0.0               1.0            0.0   \n",
       "2               0.0             0.0               1.0            0.0   \n",
       "3               0.0             1.0               0.0            0.0   \n",
       "4               0.0             1.0               0.0            0.0   \n",
       "\n",
       "   NivelSocEco_fue  \n",
       "0              0.0  \n",
       "1              0.0  \n",
       "2              0.0  \n",
       "3              0.0  \n",
       "4              0.0  "
      ]
     },
     "execution_count": 60,
     "metadata": {},
     "output_type": "execute_result"
    }
   ],
   "source": [
    "X_train.head()"
   ]
  },
  {
   "cell_type": "markdown",
   "metadata": {},
   "source": [
    "Se genera una segunda partición de datos, de manera de efectuar una determinación de optimalidad en relación a la profundidad del árbolm de decisión."
   ]
  },
  {
   "cell_type": "code",
   "execution_count": 61,
   "metadata": {},
   "outputs": [],
   "source": [
    "#segunda partición\n",
    "X_train_dtc, X_val, y_train_dtc, y_val = train_test_split(\n",
    "    X_train,y_train,\n",
    "    test_size=0.2, random_state=0)"
   ]
  },
  {
   "cell_type": "code",
   "execution_count": 62,
   "metadata": {
    "id": "EGtVuH9J9eTN"
   },
   "outputs": [
    {
     "data": {
      "image/png": "[encoded data removed]",
      "text/plain": [
       "<Figure size 432x288 with 1 Axes>"
      ]
     },
     "metadata": {},
     "output_type": "display_data"
    }
   ],
   "source": [
    "from sklearn.tree import DecisionTreeClassifier\n",
    "import matplotlib.pyplot as plt\n",
    "\n",
    "train_score = []\n",
    "test_score = []\n",
    "\n",
    "for depth in range(1,10):\n",
    "    tree = DecisionTreeClassifier(random_state=218, max_depth=depth).fit(X_train, y_train)\n",
    "    train_score.append(tree.score(X_train_dtc, y_train_dtc))\n",
    "    test_score.append(tree.score(X_val, y_val))\n",
    "plt.plot(range(1,10), train_score, label=\"train_score\", linewidth=3)\n",
    "plt.plot(range(1,10), test_score, label=\"test_score\", linewidth=3)\n",
    "plt.legend(bbox_to_anchor=(1.35, 1), loc='upper right', borderaxespad=0.);"
   ]
  },
  {
   "cell_type": "markdown",
   "metadata": {},
   "source": [
    "Como se observa en la figura, la profundidad adecuada es de 2, con esta técnica de pre-pruning evitamos que el arbol de sobreajuste, a pesar de que aumentó el sesgo.\n",
    "\n",
    "Con una profundidad 2, permite observar de manera **gráfica las variables más incidentes en el problema**."
   ]
  },
  {
   "cell_type": "code",
   "execution_count": 63,
   "metadata": {},
   "outputs": [
    {
     "data": {
      "text/plain": [
       "DecisionTreeClassifier(max_depth=2, random_state=218)"
      ]
     },
     "execution_count": 63,
     "metadata": {},
     "output_type": "execute_result"
    }
   ],
   "source": [
    "# Creación del modelo\n",
    "modelo_dtc = DecisionTreeClassifier(\n",
    "            max_depth         = 2, #de acuerdo a lo obtenido anteriormente\n",
    "            criterion         = 'gini',\n",
    "            random_state      = 218\n",
    "          )\n",
    "modelo_dtc.fit(X_train, y_train)"
   ]
  },
  {
   "cell_type": "code",
   "execution_count": 64,
   "metadata": {},
   "outputs": [
    {
     "name": "stdout",
     "output_type": "stream",
     "text": [
      "El Accuracy (porcentaje de clasificaciones correctas) es: 77.0 %\n"
     ]
    }
   ],
   "source": [
    "from sklearn.metrics import accuracy_score\n",
    "predicciones = modelo_dtc.predict(X_test)\n",
    "accuracy = accuracy_score(\n",
    "            y_true    = y_test,\n",
    "            y_pred    = predicciones,\n",
    "            normalize = True\n",
    "           )\n",
    "print(f\"El Accuracy (porcentaje de clasificaciones correctas) es: {100 * round(accuracy,2)} %\")"
   ]
  },
  {
   "cell_type": "code",
   "execution_count": 73,
   "metadata": {},
   "outputs": [
    {
     "name": "stdout",
     "output_type": "stream",
     "text": [
      "              precision    recall  f1-score   support\n",
      "\n",
      "           0       0.77      0.81      0.79       104\n",
      "           1       0.78      0.73      0.75        94\n",
      "\n",
      "    accuracy                           0.77       198\n",
      "   macro avg       0.77      0.77      0.77       198\n",
      "weighted avg       0.77      0.77      0.77       198\n",
      "\n"
     ]
    }
   ],
   "source": [
    "print(classification_report(y_test, predicciones))"
   ]
  },
  {
   "cell_type": "code",
   "execution_count": 77,
   "metadata": {},
   "outputs": [
    {
     "name": "stdout",
     "output_type": "stream",
     "text": [
      "[[84 20]\n",
      " [25 69]]\n"
     ]
    }
   ],
   "source": [
    "from sklearn.metrics import confusion_matrix\n",
    "cf_matrix_dtc = confusion_matrix(\n",
    "            y_true    = y_test,\n",
    "            y_pred    = predicciones)\n",
    "print(cf_matrix_dtc)"
   ]
  },
  {
   "cell_type": "code",
   "execution_count": 78,
   "metadata": {},
   "outputs": [
    {
     "data": {
      "text/plain": [
       "<AxesSubplot:>"
      ]
     },
     "execution_count": 78,
     "metadata": {},
     "output_type": "execute_result"
    },
    {
     "data": {
      "image/png": "[encoded data removed]",
      "text/plain": [
       "<Figure size 432x288 with 2 Axes>"
      ]
     },
     "metadata": {},
     "output_type": "display_data"
    }
   ],
   "source": [
    "import seaborn as sns\n",
    "group_names = ['True Neg','False Pos','False Neg','True Pos']\n",
    "group_counts = [\"{0:0.0f}\".format(value) for value in\n",
    "                cf_matrix_dtc.flatten()]\n",
    "group_percentages = [\"{0:.2%}\".format(value) for value in\n",
    "                     cf_matrix_dtc.flatten()/np.sum(cf_matrix_dtc)]\n",
    "labels = [f\"{v1}\\n{v2}\\n{v3}\" for v1, v2, v3 in\n",
    "          zip(group_names,group_counts,group_percentages)]\n",
    "labels = np.asarray(labels).reshape(2,2)\n",
    "sns.heatmap(cf_matrix_dtc, annot=labels, fmt='', cmap='Greys')"
   ]
  },
  {
   "cell_type": "markdown",
   "metadata": {},
   "source": [
    "Si bien, el porcentaje de clasificaciones correctas demuestra un alto porcentaje, el recall posee valores cercanos a los obtenidos en Naive Bayes que considera el uso de todas las variables, por lo cual, no se observa una mejora significativa."
   ]
  },
  {
   "cell_type": "code",
   "execution_count": 65,
   "metadata": {},
   "outputs": [
    {
     "name": "stdout",
     "output_type": "stream",
     "text": [
      "Profundidad del árbol: 2\n",
      "Número de nodos terminales: 4\n"
     ]
    },
    {
     "data": {
      "image/png": "[encoded data removed]",
      "text/plain": [
       "<Figure size 1872x864 with 1 Axes>"
      ]
     },
     "metadata": {},
     "output_type": "display_data"
    }
   ],
   "source": [
    "from sklearn.tree import plot_tree\n",
    "\n",
    "fig, ax = plt.subplots(figsize=(26, 12))\n",
    "\n",
    "print(f\"Profundidad del árbol: {modelo_dtc.get_depth()}\")\n",
    "print(f\"Número de nodos terminales: {modelo_dtc.get_n_leaves()}\")\n",
    "\n",
    "plot = plot_tree(\n",
    "            decision_tree = modelo_dtc,\n",
    "            feature_names = X.columns.tolist(),\n",
    "            class_names   = 'y_n',\n",
    "            filled        = True,\n",
    "            impurity      = True,\n",
    "            fontsize      = 9.5,\n",
    "            ax            = ax\n",
    "       )"
   ]
  },
  {
   "cell_type": "markdown",
   "metadata": {},
   "source": [
    "En base al análisis del gráfico, se puede determinar que las variables más incidentes en la predicción son: `HorasLogeadas` y `HorasHabladas`."
   ]
  },
  {
   "cell_type": "markdown",
   "metadata": {
    "id": "Q2lHfIUeF7zr"
   },
   "source": [
    "## Pregunta 5\n",
    "Entrene un clasificador naive Bayes usando los atributos que aparecen en el árbol de decisión.  Luego evalúe en el conjunto de prueba generando el classification report. Mejora el desempeño al comparar los resultados de las preguntas 1, 2, y 3? argumente en función de las métricas de desempeño."
   ]
  },
  {
   "cell_type": "markdown",
   "metadata": {
    "id": "MMrl98GdF7z0"
   },
   "source": [
    "### Respuesta"
   ]
  },
  {
   "cell_type": "code",
   "execution_count": 66,
   "metadata": {},
   "outputs": [
    {
     "name": "stdout",
     "output_type": "stream",
     "text": [
      "<class 'pandas.core.frame.DataFrame'>\n",
      "RangeIndex: 462 entries, 0 to 461\n",
      "Data columns (total 18 columns):\n",
      " #   Column                      Non-Null Count  Dtype  \n",
      "---  ------                      --------------  -----  \n",
      " 0   Edad                        462 non-null    float64\n",
      " 1   HorasLogeadas               462 non-null    float64\n",
      " 2   HorasHabladas               462 non-null    float64\n",
      " 3   ContactosEfectivosPromedio  462 non-null    float64\n",
      " 4   RegistrosTerminados         462 non-null    float64\n",
      " 5   Sexo_f                      462 non-null    float64\n",
      " 6   Sexo_m                      462 non-null    float64\n",
      " 7   NivelEducacion_em           462 non-null    float64\n",
      " 8   NivelEducacion_sec          462 non-null    float64\n",
      " 9   NivelEducacion_ts           462 non-null    float64\n",
      " 10  NivelEducacion_un           462 non-null    float64\n",
      " 11  EstadoCivil_c               462 non-null    float64\n",
      " 12  EstadoCivil_s               462 non-null    float64\n",
      " 13  NivelSocEco_abc1            462 non-null    float64\n",
      " 14  NivelSocEco_c2              462 non-null    float64\n",
      " 15  NivelSocEco_c3c4            462 non-null    float64\n",
      " 16  NivelSocEco_e               462 non-null    float64\n",
      " 17  NivelSocEco_fue             462 non-null    float64\n",
      "dtypes: float64(18)\n",
      "memory usage: 65.1 KB\n"
     ]
    }
   ],
   "source": [
    "X_train.info() #objeto identificar las variables que muestra el árbol de decisión."
   ]
  },
  {
   "cell_type": "markdown",
   "metadata": {},
   "source": [
    "De acuerdo a lo obtenido en el árbol de decisión (DecisionTreeClasiffier), aquellos que son operacionales (2), los cuales corresponden a:\n",
    "\n",
    "- `HorasLogeadas`.\n",
    "- `HorasHabladas`."
   ]
  },
  {
   "cell_type": "code",
   "execution_count": 67,
   "metadata": {
    "id": "BL8fnt4KF7z1"
   },
   "outputs": [],
   "source": [
    "X_train3 = X_train.iloc[:,[1,2]].copy()\n",
    "X_test3 = X_test.iloc[:,[1,2]].copy()"
   ]
  },
  {
   "cell_type": "code",
   "execution_count": 68,
   "metadata": {},
   "outputs": [
    {
     "data": {
      "text/plain": [
       "GaussianNB()"
      ]
     },
     "execution_count": 68,
     "metadata": {},
     "output_type": "execute_result"
    }
   ],
   "source": [
    "from sklearn.naive_bayes import GaussianNB\n",
    "model_NB_DTC = GaussianNB()\n",
    "score = []\n",
    "model_NB_DTC.fit(X_train3,y_train)"
   ]
  },
  {
   "cell_type": "code",
   "execution_count": 69,
   "metadata": {},
   "outputs": [
    {
     "name": "stdout",
     "output_type": "stream",
     "text": [
      "El porcentaje de clasificaciones correctas para el NB con variables de dtc es: 77.78 %\n"
     ]
    }
   ],
   "source": [
    "predicciones_NB_DTC = model_NB_DTC.predict(X_test3)\n",
    "accuracy_NB_DTC = accuracy_score(\n",
    "            y_true    = y_test,\n",
    "            y_pred    = predicciones_NB_DTC,\n",
    "            normalize = True\n",
    "           )\n",
    "print(f\"El porcentaje de clasificaciones correctas para el NB con variables de dtc es: {round(100 * accuracy_operacionales,2)} %\")\n",
    "score.append(round(100 * accuracy_NB_DTC,2))"
   ]
  },
  {
   "cell_type": "markdown",
   "metadata": {},
   "source": [
    "Al utilizar sólo las variables indicadas por el DecisionTreClassifier, podemos observar un aumento en el porcentaje de clasificaciones correctas."
   ]
  },
  {
   "cell_type": "code",
   "execution_count": 70,
   "metadata": {},
   "outputs": [
    {
     "name": "stdout",
     "output_type": "stream",
     "text": [
      "              precision    recall  f1-score   support\n",
      "\n",
      "           0       0.82      0.77      0.79       104\n",
      "           1       0.76      0.81      0.78        94\n",
      "\n",
      "    accuracy                           0.79       198\n",
      "   macro avg       0.79      0.79      0.79       198\n",
      "weighted avg       0.79      0.79      0.79       198\n",
      "\n"
     ]
    }
   ],
   "source": [
    "print(classification_report(y_test, predicciones_NB_DTC))"
   ]
  },
  {
   "cell_type": "markdown",
   "metadata": {},
   "source": [
    "Del análisis de lo anterior, se puede observar que los niveles de recall se han optimizado."
   ]
  },
  {
   "cell_type": "code",
   "execution_count": 71,
   "metadata": {},
   "outputs": [
    {
     "name": "stdout",
     "output_type": "stream",
     "text": [
      "[[80 24]\n",
      " [18 76]]\n"
     ]
    }
   ],
   "source": [
    "from sklearn.metrics import confusion_matrix\n",
    "cf_matrix_4 = confusion_matrix(\n",
    "            y_true    = y_test,\n",
    "            y_pred    = predicciones_NB_DTC)\n",
    "print(cf_matrix_4)"
   ]
  },
  {
   "cell_type": "code",
   "execution_count": 72,
   "metadata": {},
   "outputs": [
    {
     "data": {
      "text/plain": [
       "<AxesSubplot:>"
      ]
     },
     "execution_count": 72,
     "metadata": {},
     "output_type": "execute_result"
    },
    {
     "data": {
      "image/png": "[encoded data removed]",
      "text/plain": [
       "<Figure size 432x288 with 2 Axes>"
      ]
     },
     "metadata": {},
     "output_type": "display_data"
    }
   ],
   "source": [
    "import seaborn as sns\n",
    "group_names = ['True Neg','False Pos','False Neg','True Pos']\n",
    "group_counts = [\"{0:0.0f}\".format(value) for value in\n",
    "                cf_matrix_4.flatten()]\n",
    "group_percentages = [\"{0:.2%}\".format(value) for value in\n",
    "                     cf_matrix_4.flatten()/np.sum(cf_matrix_4)]\n",
    "labels = [f\"{v1}\\n{v2}\\n{v3}\" for v1, v2, v3 in\n",
    "          zip(group_names,group_counts,group_percentages)]\n",
    "labels = np.asarray(labels).reshape(2,2)\n",
    "sns.heatmap(cf_matrix_4, annot=labels, fmt='', cmap='Greys')"
   ]
  },
  {
   "cell_type": "markdown",
   "metadata": {},
   "source": [
    "Por último, cabe destacar que los valores de **False Negative (18 - 9.09%)** y **False Positive (24 - 12.12%)**, se encuentran en sus valores más bajos, lo que demuestra que el modelo es un mejor modelo que los anteriores."
   ]
  },
  {
   "cell_type": "markdown",
   "metadata": {},
   "source": [
    "## Tabla Resumen de Métricas Obtenidas en los modelos:\n",
    "\n",
    "| Nº de modelo | Descripción  | Accuracy| TN       | TP       |FP        | FN       | Recall (yes)|\n",
    "|:---:|:-----------------------|:-------:|----------|----------|----------|----------|:-------------:|\n",
    "| 1 | `GaussianNB - SocioDemografico` | 55.56%  |85(42.93%)|25(12.63%)|69(34.85%)|19(09.60%)| 27%         |\n",
    "| 2 | `GaussianNB - Operacionales` | **77.78%**  |**78(39.39%)**|76(38.38%)|18(09.09%)|**26(13.13%)**| 81%         |\n",
    "| 3 | `GaussianNB - Completo` | 74.24%  |79(39.90%)|68(34.34%)|26(13.13%)|25(12.63%)| 72%         |\n",
    "| 4 | `DecisionTreeClassifier`| 77.00%  |84(42.42%)|69(34.85%)|25(12.63%)|20(10.10%)| 73%         |\n",
    "| 5 | `GaussianNB - VariablesDTC`   | **77.78%**  |**80(40.40%)**|76(38.38%)|18(09.09%)|**24(12.12%)**| 81%         |\n",
    "\n",
    "Prelimnarmente se puede observar que el uso de las variables operacionales y el modelo número 5, tienen métricas similares pero este último tiene menores tasas de Falsos Negativos y mayor tasa de Verdaderos negativos, por lo cual representa el mejor modelo.\n"
   ]
  },
  {
   "cell_type": "markdown",
   "metadata": {
    "id": "Fexd2Z9fklbh"
   },
   "source": [
    "## Suerte!"
   ]
  }
 ],
 "metadata": {
  "colab": {
   "collapsed_sections": [],
   "provenance": []
  },
  "kernelspec": {
   "display_name": "Python 3 (ipykernel)",
   "language": "python",
   "name": "python3"
  },
  "language_info": {
   "codemirror_mode": {
    "name": "ipython",
    "version": 3
   },
   "file_extension": ".py",
   "mimetype": "text/x-python",
   "name": "python",
   "nbconvert_exporter": "python",
   "pygments_lexer": "ipython3",
   "version": "3.9.12"
  },
  "toc": {
   "base_numbering": 1,
   "nav_menu": {},
   "number_sections": true,
   "sideBar": true,
   "skip_h1_title": false,
   "title_cell": "Table of Contents",
   "title_sidebar": "Contents",
   "toc_cell": false,
   "toc_position": {},
   "toc_section_display": true,
   "toc_window_display": false
  },
  "varInspector": {
   "cols": {
    "lenName": 16,
    "lenType": 16,
    "lenVar": 40
   },
   "kernels_config": {
    "python": {
     "delete_cmd_postfix": "",
     "delete_cmd_prefix": "del ",
     "library": "var_list.py",
     "varRefreshCmd": "print(var_dic_list())"
    },
    "r": {
     "delete_cmd_postfix": ") ",
     "delete_cmd_prefix": "rm(",
     "library": "var_list.r",
     "varRefreshCmd": "cat(var_dic_list()) "
    }
   },
   "types_to_exclude": [
    "module",
    "function",
    "builtin_function_or_method",
    "instance",
    "_Feature"
   ],
   "window_display": false
  },
  "widgets": {
   "application/vnd.jupyter.widget-state+json": {
    "state": {},
    "version_major": 2,
    "version_minor": 0
   }
  }
 },
 "nbformat": 4,
 "nbformat_minor": 4
}
