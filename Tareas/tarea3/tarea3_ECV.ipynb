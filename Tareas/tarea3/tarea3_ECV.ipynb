{
 "cells": [
  {
   "cell_type": "markdown",
   "metadata": {
    "id": "QTpausmRklbE"
   },
   "source": [
    "## **Eduardo Carrasco Vidal** <img src=\"img/logo.png\" align=\"right\" style=\"width: 120px;\"/>\n",
    "\n",
    "**Doctorado en Ingeniería de Sistemas Complejos, Universidad Adolfo Ibáñez.**\n",
    "\n",
    "**Profesor:** Gonzalo Ruz Heredia.\n",
    "__Ayudante:__ Carlos Sepúlveda Morales.\n",
    "\n",
    "**Curso:** Machine Learning (Aprendizaje Automático).\n",
    "\n",
    "Enlace al repositorio del alumno en [GitHub](https://github.com/educarrascov/DISC_MachineLearning) _@educarrascov_\n",
    "\n",
    "![Python](https://img.shields.io/badge/python-%2314354C.svg) "
   ]
  },
  {
   "cell_type": "markdown",
   "metadata": {
    "id": "5rbOPWLYklbF"
   },
   "source": [
    "## Instrucciones\n",
    "* La tarea es individual\n",
    "* Por favor responder en este mismo notebook\n",
    "* Renombrar el archivo agregando su nombre, por ejemplo tarea3_Contreras_Almada.ipynb\n",
    "* Subir el archivo al link de entrega Trabajo en webcursos que será habilitado\n",
    "* __Fecha de entrega:__ viernes 7 de octubre, 23:55 hrs."
   ]
  },
  {
   "cell_type": "markdown",
   "metadata": {},
   "source": [
    "# Tarea Nº 3: Machine Learning."
   ]
  },
  {
   "cell_type": "markdown",
   "metadata": {
    "id": "mSi5rjOEl3Fg"
   },
   "source": [
    "Considere el dataset CallCenterData de la [publicación](https://www.sciencedirect.com/science/article/abs/pii/S0957417412004605) vista en clase."
   ]
  },
  {
   "cell_type": "code",
   "execution_count": 10,
   "metadata": {
    "colab": {
     "base_uri": "https://localhost:8080/"
    },
    "id": "qTLGvX80__7S",
    "outputId": "dfd3f610-422b-495b-e751-b6928b9c27eb"
   },
   "outputs": [],
   "source": [
    "# se efectúa la carga de la base de datos\n",
    "import pandas as pd\n",
    "import numpy as np\n",
    "import seaborn as sns\n",
    "import matplotlib as plt \n",
    "from matplotlib.pyplot import figure\n",
    "df = pd.read_csv('data/CallCenterData.csv', sep=',')"
   ]
  },
  {
   "cell_type": "code",
   "execution_count": 11,
   "metadata": {},
   "outputs": [
    {
     "data": {
      "text/plain": [
       "(660, 11)"
      ]
     },
     "execution_count": 11,
     "metadata": {},
     "output_type": "execute_result"
    }
   ],
   "source": [
    "df.shape"
   ]
  },
  {
   "cell_type": "code",
   "execution_count": 12,
   "metadata": {
    "id": "9skd-xpR9o1T"
   },
   "outputs": [
    {
     "name": "stdout",
     "output_type": "stream",
     "text": [
      "<class 'pandas.core.frame.DataFrame'>\n",
      "RangeIndex: 660 entries, 0 to 659\n",
      "Data columns (total 11 columns):\n",
      " #   Column                      Non-Null Count  Dtype  \n",
      "---  ------                      --------------  -----  \n",
      " 0   ID                          660 non-null    int64  \n",
      " 1   Edad                        660 non-null    int64  \n",
      " 2   Sexo                        660 non-null    object \n",
      " 3   NivelEducacion              660 non-null    object \n",
      " 4   EstadoCivil                 660 non-null    object \n",
      " 5   NivelSocEco                 660 non-null    object \n",
      " 6   HorasLogeadas               660 non-null    float64\n",
      " 7   HorasHabladas               660 non-null    float64\n",
      " 8   ContactosEfectivosPromedio  660 non-null    float64\n",
      " 9   RegistrosTerminados         660 non-null    float64\n",
      " 10  ProdMayorUbral              660 non-null    object \n",
      "dtypes: float64(4), int64(2), object(5)\n",
      "memory usage: 56.8+ KB\n"
     ]
    }
   ],
   "source": [
    "df.info() #verificar cantidad de columnas/filas, tipos de variables."
   ]
  },
  {
   "cell_type": "code",
   "execution_count": 13,
   "metadata": {},
   "outputs": [],
   "source": [
    "conti_data = df.iloc[:,[1,6,7,8,9]].copy()\n",
    "categ_data = df.iloc[:,[2,3,4,5]].copy()"
   ]
  },
  {
   "cell_type": "code",
   "execution_count": 14,
   "metadata": {},
   "outputs": [
    {
     "data": {
      "text/html": [
       "<div>\n",
       "<style scoped>\n",
       "    .dataframe tbody tr th:only-of-type {\n",
       "        vertical-align: middle;\n",
       "    }\n",
       "\n",
       "    .dataframe tbody tr th {\n",
       "        vertical-align: top;\n",
       "    }\n",
       "\n",
       "    .dataframe thead th {\n",
       "        text-align: right;\n",
       "    }\n",
       "</style>\n",
       "<table border=\"1\" class=\"dataframe\">\n",
       "  <thead>\n",
       "    <tr style=\"text-align: right;\">\n",
       "      <th></th>\n",
       "      <th>Edad</th>\n",
       "      <th>HorasLogeadas</th>\n",
       "      <th>HorasHabladas</th>\n",
       "      <th>ContactosEfectivosPromedio</th>\n",
       "      <th>RegistrosTerminados</th>\n",
       "    </tr>\n",
       "  </thead>\n",
       "  <tbody>\n",
       "    <tr>\n",
       "      <th>0</th>\n",
       "      <td>32</td>\n",
       "      <td>151.1525</td>\n",
       "      <td>45.8525</td>\n",
       "      <td>192.250000</td>\n",
       "      <td>591.750000</td>\n",
       "    </tr>\n",
       "    <tr>\n",
       "      <th>1</th>\n",
       "      <td>24</td>\n",
       "      <td>71.1800</td>\n",
       "      <td>24.7600</td>\n",
       "      <td>1.000000</td>\n",
       "      <td>501.000000</td>\n",
       "    </tr>\n",
       "    <tr>\n",
       "      <th>2</th>\n",
       "      <td>29</td>\n",
       "      <td>120.5600</td>\n",
       "      <td>49.4500</td>\n",
       "      <td>156.000000</td>\n",
       "      <td>993.000000</td>\n",
       "    </tr>\n",
       "    <tr>\n",
       "      <th>3</th>\n",
       "      <td>48</td>\n",
       "      <td>90.8500</td>\n",
       "      <td>28.8500</td>\n",
       "      <td>442.000000</td>\n",
       "      <td>569.000000</td>\n",
       "    </tr>\n",
       "    <tr>\n",
       "      <th>4</th>\n",
       "      <td>25</td>\n",
       "      <td>190.1800</td>\n",
       "      <td>41.1600</td>\n",
       "      <td>0.000000</td>\n",
       "      <td>0.000000</td>\n",
       "    </tr>\n",
       "    <tr>\n",
       "      <th>...</th>\n",
       "      <td>...</td>\n",
       "      <td>...</td>\n",
       "      <td>...</td>\n",
       "      <td>...</td>\n",
       "      <td>...</td>\n",
       "    </tr>\n",
       "    <tr>\n",
       "      <th>655</th>\n",
       "      <td>50</td>\n",
       "      <td>193.7820</td>\n",
       "      <td>90.1750</td>\n",
       "      <td>376.500000</td>\n",
       "      <td>908.000000</td>\n",
       "    </tr>\n",
       "    <tr>\n",
       "      <th>656</th>\n",
       "      <td>28</td>\n",
       "      <td>193.3200</td>\n",
       "      <td>71.5200</td>\n",
       "      <td>390.000000</td>\n",
       "      <td>687.500000</td>\n",
       "    </tr>\n",
       "    <tr>\n",
       "      <th>657</th>\n",
       "      <td>29</td>\n",
       "      <td>120.8200</td>\n",
       "      <td>39.1300</td>\n",
       "      <td>85.666667</td>\n",
       "      <td>471.666667</td>\n",
       "    </tr>\n",
       "    <tr>\n",
       "      <th>658</th>\n",
       "      <td>28</td>\n",
       "      <td>164.6262</td>\n",
       "      <td>51.7097</td>\n",
       "      <td>428.600000</td>\n",
       "      <td>494.600000</td>\n",
       "    </tr>\n",
       "    <tr>\n",
       "      <th>659</th>\n",
       "      <td>33</td>\n",
       "      <td>121.2960</td>\n",
       "      <td>35.7900</td>\n",
       "      <td>147.200000</td>\n",
       "      <td>404.000000</td>\n",
       "    </tr>\n",
       "  </tbody>\n",
       "</table>\n",
       "<p>660 rows × 5 columns</p>\n",
       "</div>"
      ],
      "text/plain": [
       "     Edad  HorasLogeadas  HorasHabladas  ContactosEfectivosPromedio  \\\n",
       "0      32       151.1525        45.8525                  192.250000   \n",
       "1      24        71.1800        24.7600                    1.000000   \n",
       "2      29       120.5600        49.4500                  156.000000   \n",
       "3      48        90.8500        28.8500                  442.000000   \n",
       "4      25       190.1800        41.1600                    0.000000   \n",
       "..    ...            ...            ...                         ...   \n",
       "655    50       193.7820        90.1750                  376.500000   \n",
       "656    28       193.3200        71.5200                  390.000000   \n",
       "657    29       120.8200        39.1300                   85.666667   \n",
       "658    28       164.6262        51.7097                  428.600000   \n",
       "659    33       121.2960        35.7900                  147.200000   \n",
       "\n",
       "     RegistrosTerminados  \n",
       "0             591.750000  \n",
       "1             501.000000  \n",
       "2             993.000000  \n",
       "3             569.000000  \n",
       "4               0.000000  \n",
       "..                   ...  \n",
       "655           908.000000  \n",
       "656           687.500000  \n",
       "657           471.666667  \n",
       "658           494.600000  \n",
       "659           404.000000  \n",
       "\n",
       "[660 rows x 5 columns]"
      ]
     },
     "execution_count": 14,
     "metadata": {},
     "output_type": "execute_result"
    }
   ],
   "source": [
    "conti_data"
   ]
  },
  {
   "cell_type": "code",
   "execution_count": 19,
   "metadata": {},
   "outputs": [
    {
     "data": {
      "text/plain": [
       "0      32\n",
       "1      24\n",
       "2      29\n",
       "3      48\n",
       "4      25\n",
       "       ..\n",
       "655    50\n",
       "656    28\n",
       "657    29\n",
       "658    28\n",
       "659    33\n",
       "Name: Edad, Length: 660, dtype: int64"
      ]
     },
     "execution_count": 19,
     "metadata": {},
     "output_type": "execute_result"
    }
   ],
   "source": [
    "conti_data.iloc[:,0]"
   ]
  },
  {
   "cell_type": "code",
   "execution_count": 22,
   "metadata": {},
   "outputs": [
    {
     "ename": "NotFittedError",
     "evalue": "This KBinsDiscretizer instance is not fitted yet. Call 'fit' with appropriate arguments before using this estimator.",
     "output_type": "error",
     "traceback": [
      "\u001b[0;31m---------------------------------------------------------------------------\u001b[0m",
      "\u001b[0;31mNotFittedError\u001b[0m                            Traceback (most recent call last)",
      "Input \u001b[0;32mIn [22]\u001b[0m, in \u001b[0;36m<cell line: 1>\u001b[0;34m()\u001b[0m\n\u001b[0;32m----> 1\u001b[0m X_disc \u001b[38;5;241m=\u001b[39m \u001b[43mdisc\u001b[49m\u001b[38;5;241;43m.\u001b[39;49m\u001b[43mtransform\u001b[49m\u001b[43m(\u001b[49m\u001b[43mconti_data\u001b[49m\u001b[43m)\u001b[49m\n",
      "File \u001b[0;32m~/opt/anaconda3/lib/python3.9/site-packages/sklearn/preprocessing/_discretization.py:306\u001b[0m, in \u001b[0;36mKBinsDiscretizer.transform\u001b[0;34m(self, X)\u001b[0m\n\u001b[1;32m    291\u001b[0m \u001b[38;5;28;01mdef\u001b[39;00m \u001b[38;5;21mtransform\u001b[39m(\u001b[38;5;28mself\u001b[39m, X):\n\u001b[1;32m    292\u001b[0m     \u001b[38;5;124;03m\"\"\"\u001b[39;00m\n\u001b[1;32m    293\u001b[0m \u001b[38;5;124;03m    Discretize the data.\u001b[39;00m\n\u001b[1;32m    294\u001b[0m \n\u001b[0;32m   (...)\u001b[0m\n\u001b[1;32m    304\u001b[0m \u001b[38;5;124;03m        `self.encode='onehot'` and ndarray otherwise.\u001b[39;00m\n\u001b[1;32m    305\u001b[0m \u001b[38;5;124;03m    \"\"\"\u001b[39;00m\n\u001b[0;32m--> 306\u001b[0m     \u001b[43mcheck_is_fitted\u001b[49m\u001b[43m(\u001b[49m\u001b[38;5;28;43mself\u001b[39;49m\u001b[43m)\u001b[49m\n\u001b[1;32m    308\u001b[0m     \u001b[38;5;66;03m# check input and attribute dtypes\u001b[39;00m\n\u001b[1;32m    309\u001b[0m     dtype \u001b[38;5;241m=\u001b[39m (np\u001b[38;5;241m.\u001b[39mfloat64, np\u001b[38;5;241m.\u001b[39mfloat32) \u001b[38;5;28;01mif\u001b[39;00m \u001b[38;5;28mself\u001b[39m\u001b[38;5;241m.\u001b[39mdtype \u001b[38;5;129;01mis\u001b[39;00m \u001b[38;5;28;01mNone\u001b[39;00m \u001b[38;5;28;01melse\u001b[39;00m \u001b[38;5;28mself\u001b[39m\u001b[38;5;241m.\u001b[39mdtype\n",
      "File \u001b[0;32m~/opt/anaconda3/lib/python3.9/site-packages/sklearn/utils/validation.py:1222\u001b[0m, in \u001b[0;36mcheck_is_fitted\u001b[0;34m(estimator, attributes, msg, all_or_any)\u001b[0m\n\u001b[1;32m   1217\u001b[0m     fitted \u001b[38;5;241m=\u001b[39m [\n\u001b[1;32m   1218\u001b[0m         v \u001b[38;5;28;01mfor\u001b[39;00m v \u001b[38;5;129;01min\u001b[39;00m \u001b[38;5;28mvars\u001b[39m(estimator) \u001b[38;5;28;01mif\u001b[39;00m v\u001b[38;5;241m.\u001b[39mendswith(\u001b[38;5;124m\"\u001b[39m\u001b[38;5;124m_\u001b[39m\u001b[38;5;124m\"\u001b[39m) \u001b[38;5;129;01mand\u001b[39;00m \u001b[38;5;129;01mnot\u001b[39;00m v\u001b[38;5;241m.\u001b[39mstartswith(\u001b[38;5;124m\"\u001b[39m\u001b[38;5;124m__\u001b[39m\u001b[38;5;124m\"\u001b[39m)\n\u001b[1;32m   1219\u001b[0m     ]\n\u001b[1;32m   1221\u001b[0m \u001b[38;5;28;01mif\u001b[39;00m \u001b[38;5;129;01mnot\u001b[39;00m fitted:\n\u001b[0;32m-> 1222\u001b[0m     \u001b[38;5;28;01mraise\u001b[39;00m NotFittedError(msg \u001b[38;5;241m%\u001b[39m {\u001b[38;5;124m\"\u001b[39m\u001b[38;5;124mname\u001b[39m\u001b[38;5;124m\"\u001b[39m: \u001b[38;5;28mtype\u001b[39m(estimator)\u001b[38;5;241m.\u001b[39m\u001b[38;5;18m__name__\u001b[39m})\n",
      "\u001b[0;31mNotFittedError\u001b[0m: This KBinsDiscretizer instance is not fitted yet. Call 'fit' with appropriate arguments before using this estimator."
     ]
    }
   ],
   "source": [
    "X_disc = disc.transform(conti_data)"
   ]
  },
  {
   "cell_type": "code",
   "execution_count": 9,
   "metadata": {},
   "outputs": [
    {
     "ename": "AttributeError",
     "evalue": "module 'pandas' has no attribute 'X_disc'",
     "output_type": "error",
     "traceback": [
      "\u001b[0;31m---------------------------------------------------------------------------\u001b[0m",
      "\u001b[0;31mAttributeError\u001b[0m                            Traceback (most recent call last)",
      "Input \u001b[0;32mIn [9]\u001b[0m, in \u001b[0;36m<cell line: 1>\u001b[0;34m()\u001b[0m\n\u001b[0;32m----> 1\u001b[0m a \u001b[38;5;241m=\u001b[39m \u001b[43mpd\u001b[49m\u001b[38;5;241;43m.\u001b[39;49m\u001b[43mX_disc\u001b[49m\n",
      "File \u001b[0;32m~/opt/anaconda3/lib/python3.9/site-packages/pandas/__init__.py:261\u001b[0m, in \u001b[0;36m__getattr__\u001b[0;34m(name)\u001b[0m\n\u001b[1;32m    257\u001b[0m     \u001b[38;5;28;01mfrom\u001b[39;00m \u001b[38;5;21;01mpandas\u001b[39;00m\u001b[38;5;21;01m.\u001b[39;00m\u001b[38;5;21;01mcore\u001b[39;00m\u001b[38;5;21;01m.\u001b[39;00m\u001b[38;5;21;01marrays\u001b[39;00m\u001b[38;5;21;01m.\u001b[39;00m\u001b[38;5;21;01msparse\u001b[39;00m \u001b[38;5;28;01mimport\u001b[39;00m SparseArray \u001b[38;5;28;01mas\u001b[39;00m _SparseArray\n\u001b[1;32m    259\u001b[0m     \u001b[38;5;28;01mreturn\u001b[39;00m _SparseArray\n\u001b[0;32m--> 261\u001b[0m \u001b[38;5;28;01mraise\u001b[39;00m \u001b[38;5;167;01mAttributeError\u001b[39;00m(\u001b[38;5;124mf\u001b[39m\u001b[38;5;124m\"\u001b[39m\u001b[38;5;124mmodule \u001b[39m\u001b[38;5;124m'\u001b[39m\u001b[38;5;124mpandas\u001b[39m\u001b[38;5;124m'\u001b[39m\u001b[38;5;124m has no attribute \u001b[39m\u001b[38;5;124m'\u001b[39m\u001b[38;5;132;01m{\u001b[39;00mname\u001b[38;5;132;01m}\u001b[39;00m\u001b[38;5;124m'\u001b[39m\u001b[38;5;124m\"\u001b[39m)\n",
      "\u001b[0;31mAttributeError\u001b[0m: module 'pandas' has no attribute 'X_disc'"
     ]
    }
   ],
   "source": [
    "a = pd.X_disc"
   ]
  },
  {
   "cell_type": "markdown",
   "metadata": {},
   "source": [
    "Como se observa, el detalle de las variables es el siguiente:\n",
    "1. **Numéricas:** `ID`, `Edad`, `HorasLogeadas`, `HorasHabladas`, `ContactosEfectivosPromedio`, `RegistrosTerminados`.\n",
    "2. **Categóricas:** `Sexo`, `NivelEducacion`, `EstadoCivil`, `NivelSocEco`, `ProdMayorUbral`.\n",
    "\n",
    "Todas tienen la misma cantidad de datos (660), sin presentar ninguno nulo."
   ]
  },
  {
   "cell_type": "code",
   "execution_count": null,
   "metadata": {},
   "outputs": [],
   "source": [
    "df.head()"
   ]
  },
  {
   "cell_type": "code",
   "execution_count": null,
   "metadata": {},
   "outputs": [],
   "source": [
    "df.columns"
   ]
  },
  {
   "cell_type": "code",
   "execution_count": null,
   "metadata": {
    "colab": {
     "base_uri": "https://localhost:8080/",
     "height": 394
    },
    "id": "wTS6aUH79o1U",
    "outputId": "5de317e9-f697-47bd-e40e-1747c2cd11c9",
    "scrolled": true
   },
   "outputs": [],
   "source": [
    "df.describe(include='all')"
   ]
  },
  {
   "cell_type": "markdown",
   "metadata": {
    "id": "TbwKHmVFBLxs"
   },
   "source": [
    "Convierta los atributos categóricos a númericos"
   ]
  },
  {
   "cell_type": "code",
   "execution_count": null,
   "metadata": {
    "id": "z6Kn7wR-BZav"
   },
   "outputs": [],
   "source": [
    "# find categorical variables\n",
    "categorical = [var for var in df.columns if df[var].dtype=='O']\n",
    "print('There are {} categorical variables\\n'.format(len(categorical)))\n",
    "print('The categorical variables are :\\n\\n', categorical)"
   ]
  },
  {
   "cell_type": "code",
   "execution_count": null,
   "metadata": {},
   "outputs": [],
   "source": [
    "df[categorical].head()"
   ]
  },
  {
   "cell_type": "code",
   "execution_count": null,
   "metadata": {},
   "outputs": [],
   "source": [
    "# check missing values in categorical variables\n",
    "df[categorical].isnull().sum()"
   ]
  },
  {
   "cell_type": "code",
   "execution_count": null,
   "metadata": {},
   "outputs": [],
   "source": [
    "# check for cardinality in categorical variables\n",
    "for var in categorical:  \n",
    "    print(var, ' contiene ', len(df[var].unique()), ' etiquetas')"
   ]
  },
  {
   "cell_type": "code",
   "execution_count": null,
   "metadata": {},
   "outputs": [],
   "source": [
    "# find numerical variables\n",
    "numerical = [var for var in df.columns if df[var].dtype!='O']\n",
    "print('There are {} numerical variables\\n'.format(len(numerical)))\n",
    "print('The numerical variables are :', numerical)"
   ]
  },
  {
   "cell_type": "code",
   "execution_count": null,
   "metadata": {},
   "outputs": [],
   "source": [
    "df[numerical].head()"
   ]
  },
  {
   "cell_type": "code",
   "execution_count": null,
   "metadata": {},
   "outputs": [],
   "source": [
    "# check missing values in numerical variables\n",
    "df[numerical].isnull().sum()"
   ]
  },
  {
   "cell_type": "code",
   "execution_count": null,
   "metadata": {},
   "outputs": [],
   "source": [
    "X = df.drop(['ProdMayorUbral','ID'], axis=1)"
   ]
  },
  {
   "cell_type": "code",
   "execution_count": null,
   "metadata": {},
   "outputs": [],
   "source": [
    "X.shape"
   ]
  },
  {
   "cell_type": "code",
   "execution_count": null,
   "metadata": {},
   "outputs": [],
   "source": [
    "X.info()"
   ]
  },
  {
   "cell_type": "code",
   "execution_count": null,
   "metadata": {},
   "outputs": [],
   "source": [
    "def get_ohe(X):\n",
    "    temp_df = pd.DataFrame(data=ohe.transform(X[['Sexo','NivelEducacion','EstadoCivil','NivelSocEco']]), columns=ohe.get_feature_names_out())\n",
    "    X.drop(columns=['Sexo','NivelEducacion','EstadoCivil','NivelSocEco'], axis=1, inplace=True)\n",
    "    X = pd.concat([X.reset_index(drop=True), temp_df], axis=1)\n",
    "    return X"
   ]
  },
  {
   "cell_type": "code",
   "execution_count": null,
   "metadata": {},
   "outputs": [],
   "source": [
    "from sklearn.preprocessing import OneHotEncoder\n",
    "ohe = OneHotEncoder(handle_unknown='ignore', sparse=False, dtype='int')\n",
    "ohe.fit(X[['Sexo','NivelEducacion','EstadoCivil','NivelSocEco']])\n",
    "X = get_ohe(X)"
   ]
  },
  {
   "cell_type": "code",
   "execution_count": null,
   "metadata": {},
   "outputs": [],
   "source": [
    "X.shape"
   ]
  },
  {
   "cell_type": "code",
   "execution_count": null,
   "metadata": {},
   "outputs": [],
   "source": [
    "X.head(5)"
   ]
  },
  {
   "cell_type": "code",
   "execution_count": null,
   "metadata": {},
   "outputs": [],
   "source": [
    "X.info()"
   ]
  },
  {
   "cell_type": "markdown",
   "metadata": {
    "id": "Mnn0n6f3CKKi"
   },
   "source": [
    "Codifique la variable de salida ProdMayorUbral, utilice: etiqueta __si__ codificada como 1, y etiqueta __no__ como 0."
   ]
  },
  {
   "cell_type": "code",
   "execution_count": null,
   "metadata": {},
   "outputs": [],
   "source": [
    "from sklearn.preprocessing import LabelEncoder\n",
    "lb = LabelEncoder()\n",
    "df['ProdMayorUbral'] = lb.fit_transform(df['ProdMayorUbral'])\n",
    "y = df['ProdMayorUbral']"
   ]
  },
  {
   "cell_type": "code",
   "execution_count": null,
   "metadata": {},
   "outputs": [],
   "source": [
    "y.head(5)"
   ]
  },
  {
   "cell_type": "markdown",
   "metadata": {
    "id": "O8eUEdBeCxGy"
   },
   "source": [
    "Genere una partición 70% para entrenamiento y el 30% restante para prueba"
   ]
  },
  {
   "cell_type": "code",
   "execution_count": null,
   "metadata": {
    "id": "w7i-8qxwDEkf"
   },
   "outputs": [],
   "source": [
    "# split X and y into training and testing sets\n",
    "from sklearn.model_selection import train_test_split\n",
    "X_train, X_test, y_train, y_test = train_test_split(X, y, test_size = 0.3, random_state = 218)"
   ]
  },
  {
   "cell_type": "code",
   "execution_count": null,
   "metadata": {},
   "outputs": [],
   "source": [
    "# check the shape of X_train and X_test\n",
    "X_train.shape, X_test.shape"
   ]
  },
  {
   "cell_type": "code",
   "execution_count": null,
   "metadata": {},
   "outputs": [],
   "source": [
    "X_train"
   ]
  },
  {
   "cell_type": "code",
   "execution_count": null,
   "metadata": {},
   "outputs": [],
   "source": [
    "from sklearn.preprocessing import MinMaxScaler\n",
    "\n",
    "scaling = MinMaxScaler()\n",
    "X_train = scaling.fit_transform(X_train)\n",
    "X_test = scaling.transform(X_test)"
   ]
  },
  {
   "cell_type": "code",
   "execution_count": null,
   "metadata": {},
   "outputs": [],
   "source": [
    "X_train = pd.DataFrame(X_train)"
   ]
  },
  {
   "cell_type": "code",
   "execution_count": null,
   "metadata": {},
   "outputs": [],
   "source": [
    "X_test = pd.DataFrame(X_test)"
   ]
  },
  {
   "cell_type": "code",
   "execution_count": null,
   "metadata": {},
   "outputs": [],
   "source": [
    "X_train.head()"
   ]
  },
  {
   "cell_type": "code",
   "execution_count": null,
   "metadata": {},
   "outputs": [],
   "source": [
    "col_names = X.columns\n",
    "X_train.columns = X.columns"
   ]
  },
  {
   "cell_type": "code",
   "execution_count": null,
   "metadata": {},
   "outputs": [],
   "source": [
    "X_train.head()"
   ]
  },
  {
   "cell_type": "markdown",
   "metadata": {
    "id": "HGoajCnpklbS"
   },
   "source": [
    "## Pregunta 1\n",
    "Entrene un clasificador naive Bayes usando sólo los atributos socio-demográficos. Luego evalúe en el conjunto de prueba generando el classification report."
   ]
  },
  {
   "cell_type": "markdown",
   "metadata": {
    "id": "dys8WeiYklbT"
   },
   "source": [
    "### Respuesta:"
   ]
  },
  {
   "cell_type": "code",
   "execution_count": null,
   "metadata": {},
   "outputs": [],
   "source": [
    "X_train1 = X_train.iloc[:,[0,5,6,7,8,9,10,11,12,13,14,15,16,17]].copy()\n",
    "X_test1 = X_test.iloc[:,[0,5,6,7,8,9,10,11,12,13,14,15,16,17]].copy()"
   ]
  },
  {
   "cell_type": "code",
   "execution_count": null,
   "metadata": {},
   "outputs": [],
   "source": [
    "X_train1"
   ]
  },
  {
   "cell_type": "code",
   "execution_count": null,
   "metadata": {},
   "outputs": [],
   "source": [
    "X_train1.info()"
   ]
  },
  {
   "cell_type": "code",
   "execution_count": null,
   "metadata": {},
   "outputs": [],
   "source": [
    "from sklearn.naive_bayes import BernoulliNB\n",
    "model_sociodem = BernoulliNB()\n",
    "score = []\n",
    "model_sociodem.fit(X_train1, y_train)"
   ]
  },
  {
   "cell_type": "code",
   "execution_count": null,
   "metadata": {},
   "outputs": [],
   "source": [
    "from sklearn.metrics import accuracy_score,r2_score as r2\n",
    "from sklearn.metrics import classification_report, plot_confusion_matrix\n",
    "\n",
    "predicciones_sociodem = model_sociodem.predict(X_test1)\n",
    "accuracy_sociodem = accuracy_score(\n",
    "            y_true    = y_test,\n",
    "            y_pred    = predicciones_sociodem,\n",
    "            normalize = True\n",
    "           )\n",
    "print(f\"El porcentaje de clasificaciones correctas para el NB de Variables Socio Demográficas es: {round(100 * accuracy_sociodem,2)} %\")\n",
    "score.append(round(100 * accuracy_sociodem,2))"
   ]
  },
  {
   "cell_type": "code",
   "execution_count": null,
   "metadata": {},
   "outputs": [],
   "source": [
    "predicciones_sociodem"
   ]
  },
  {
   "cell_type": "code",
   "execution_count": null,
   "metadata": {},
   "outputs": [],
   "source": [
    "print('Training set score: {:.4f}'.format(model_sociodem.score(X_train1, y_train)))\n",
    "print('Test set score: {:.4f}'.format(model_sociodem.score(X_test1, y_test)))"
   ]
  },
  {
   "cell_type": "code",
   "execution_count": null,
   "metadata": {},
   "outputs": [],
   "source": [
    "print(classification_report(y_test, predicciones_sociodem))"
   ]
  },
  {
   "cell_type": "code",
   "execution_count": null,
   "metadata": {},
   "outputs": [],
   "source": [
    "from sklearn.metrics import confusion_matrix\n",
    "cf_matrix_1 = confusion_matrix(\n",
    "            y_true    = y_test,\n",
    "            y_pred    = predicciones_sociodem)\n",
    "print(cf_matrix_1)"
   ]
  },
  {
   "cell_type": "code",
   "execution_count": null,
   "metadata": {},
   "outputs": [],
   "source": [
    "import seaborn as sns\n",
    "group_names = ['True Neg','False Pos','False Neg','True Pos']\n",
    "group_counts = [\"{0:0.0f}\".format(value) for value in\n",
    "                cf_matrix_1.flatten()]\n",
    "group_percentages = [\"{0:.2%}\".format(value) for value in\n",
    "                     cf_matrix_1.flatten()/np.sum(cf_matrix_1)]\n",
    "labels = [f\"{v1}\\n{v2}\\n{v3}\" for v1, v2, v3 in\n",
    "          zip(group_names,group_counts,group_percentages)]\n",
    "labels = np.asarray(labels).reshape(2,2)\n",
    "sns.heatmap(cf_matrix_1, annot=labels, fmt='', cmap='Greys')"
   ]
  },
  {
   "cell_type": "markdown",
   "metadata": {
    "id": "5um4ZrhjklbW"
   },
   "source": [
    "## Pregunta 2\n",
    "Lo mismo que la pregunta anterior pero usando sólo los atributos operacionales. Mejora el desempeño? argumente en función de las métricas de desempeño."
   ]
  },
  {
   "cell_type": "markdown",
   "metadata": {
    "id": "_EtLL1QoklbW"
   },
   "source": [
    "### Respuesta:"
   ]
  },
  {
   "cell_type": "code",
   "execution_count": null,
   "metadata": {
    "id": "goH5R_rKklbX"
   },
   "outputs": [],
   "source": [
    "X_train2 = X_train.iloc[:,[1,2,3,4]].copy()\n",
    "X_test2 = X_test.iloc[:,[1,2,3,4]].copy()"
   ]
  },
  {
   "cell_type": "code",
   "execution_count": null,
   "metadata": {},
   "outputs": [],
   "source": [
    "X_train2"
   ]
  },
  {
   "cell_type": "code",
   "execution_count": null,
   "metadata": {},
   "outputs": [],
   "source": [
    "from sklearn.naive_bayes import GaussianNB\n",
    "model_operacionales = GaussianNB()\n",
    "\n",
    "score = []\n",
    "model_operacionales.fit(X_train2,y_train)"
   ]
  },
  {
   "cell_type": "code",
   "execution_count": null,
   "metadata": {},
   "outputs": [],
   "source": [
    "predicciones_operacionales = model_operacionales.predict(X_test2)\n",
    "accuracy_operacionales = accuracy_score(\n",
    "            y_true    = y_test,\n",
    "            y_pred    = predicciones_operacionales,\n",
    "            normalize = True\n",
    "           )\n",
    "print(f\"El porcentaje de clasificaciones correctas para el NB de Variables Operacionales es: {round(100 * accuracy_operacionales,2)} %\")\n",
    "score.append(round(100 * accuracy_operacionales,2))"
   ]
  },
  {
   "cell_type": "code",
   "execution_count": null,
   "metadata": {},
   "outputs": [],
   "source": [
    "print(classification_report(y_test, predicciones_operacionales))"
   ]
  },
  {
   "cell_type": "code",
   "execution_count": null,
   "metadata": {},
   "outputs": [],
   "source": [
    "from sklearn.metrics import confusion_matrix\n",
    "cf_matrix_2 = confusion_matrix(\n",
    "            y_true    = y_test,\n",
    "            y_pred    = predicciones_operacionales)\n",
    "print(cf_matrix_2)"
   ]
  },
  {
   "cell_type": "code",
   "execution_count": null,
   "metadata": {},
   "outputs": [],
   "source": [
    "import seaborn as sns\n",
    "group_names = ['True Neg','False Pos','False Neg','True Pos']\n",
    "group_counts = [\"{0:0.0f}\".format(value) for value in\n",
    "                cf_matrix_2.flatten()]\n",
    "group_percentages = [\"{0:.2%}\".format(value) for value in\n",
    "                     cf_matrix_2.flatten()/np.sum(cf_matrix_2)]\n",
    "labels = [f\"{v1}\\n{v2}\\n{v3}\" for v1, v2, v3 in\n",
    "          zip(group_names,group_counts,group_percentages)]\n",
    "labels = np.asarray(labels).reshape(2,2)\n",
    "sns.heatmap(cf_matrix_2, annot=labels, fmt='', cmap='Greys')"
   ]
  },
  {
   "cell_type": "markdown",
   "metadata": {
    "id": "oITWrVC_7EJv"
   },
   "source": [
    "## Pregunta 3\n",
    "Lo mismo que antes pero ahora considerando todos los atributos. Mejora el desempeño? Valdrá la pena usar todos los atributos realmente? argumente en función de las métricas de desempeño.\n",
    "\n"
   ]
  },
  {
   "cell_type": "markdown",
   "metadata": {
    "id": "IhooYPGM7EJ2"
   },
   "source": [
    "### Respuesta"
   ]
  },
  {
   "cell_type": "code",
   "execution_count": null,
   "metadata": {
    "id": "B23X2bNE7EJ3"
   },
   "outputs": [],
   "source": [
    "from sklearn.naive_bayes import GaussianNB\n",
    "model_NB = GaussianNB()\n",
    "\n",
    "score = []\n",
    "model_NB.fit(X_train,y_train)"
   ]
  },
  {
   "cell_type": "code",
   "execution_count": null,
   "metadata": {},
   "outputs": [],
   "source": [
    "predicciones_NB = model_NB.predict(X_test)\n",
    "accuracy_NB = accuracy_score(\n",
    "            y_true    = y_test,\n",
    "            y_pred    = predicciones_NB,\n",
    "            normalize = True\n",
    "           )\n",
    "print(f\"El porcentaje de clasificaciones correctas para el NB de todas las variables es: {round(100 * accuracy_NB,2)} %\")\n",
    "score.append(round(100 * accuracy_NB,2))"
   ]
  },
  {
   "cell_type": "code",
   "execution_count": null,
   "metadata": {},
   "outputs": [],
   "source": [
    "print(classification_report(y_test, predicciones_NB))"
   ]
  },
  {
   "cell_type": "code",
   "execution_count": null,
   "metadata": {},
   "outputs": [],
   "source": [
    "from sklearn.metrics import confusion_matrix\n",
    "cf_matrix_3 = confusion_matrix(\n",
    "            y_true    = y_test,\n",
    "            y_pred    = predicciones_NB)\n",
    "print(cf_matrix_3)"
   ]
  },
  {
   "cell_type": "code",
   "execution_count": null,
   "metadata": {},
   "outputs": [],
   "source": [
    "import seaborn as sns\n",
    "group_names = ['True Neg','False Pos','False Neg','True Pos']\n",
    "group_counts = [\"{0:0.0f}\".format(value) for value in\n",
    "                cf_matrix_3.flatten()]\n",
    "group_percentages = [\"{0:.2%}\".format(value) for value in\n",
    "                     cf_matrix_3.flatten()/np.sum(cf_matrix_3)]\n",
    "labels = [f\"{v1}\\n{v2}\\n{v3}\" for v1, v2, v3 in\n",
    "          zip(group_names,group_counts,group_percentages)]\n",
    "labels = np.asarray(labels).reshape(2,2)\n",
    "sns.heatmap(cf_matrix_3, annot=labels, fmt='', cmap='Greys')"
   ]
  },
  {
   "cell_type": "markdown",
   "metadata": {
    "id": "hw58AA299eTG"
   },
   "source": [
    "## Pregunta 4\n",
    "Qué ocurre si entrena un árbol de decisión usando todos los atributos. Luego evalúe en el conjunto de prueba generando el classification report. Mejora el desempeño? argumente en función de las métricas de desempeño.\n",
    "Qué atributos aparecen en el árbol resultante? "
   ]
  },
  {
   "cell_type": "markdown",
   "metadata": {
    "id": "kuxlTjbR9eTN"
   },
   "source": [
    "### Respuesta"
   ]
  },
  {
   "cell_type": "code",
   "execution_count": null,
   "metadata": {
    "id": "EGtVuH9J9eTN"
   },
   "outputs": [],
   "source": []
  },
  {
   "cell_type": "markdown",
   "metadata": {
    "id": "Q2lHfIUeF7zr"
   },
   "source": [
    "## Pregunta 5\n",
    "Entrene un clasificador naive Bayes usando los atributos que aparecen en el árbol de decisión.  Luego evalúe en el conjunto de prueba generando el classification report. Mejora el desempeño al comparar los resultados de las preguntas 1, 2, y 3? argumente en función de las métricas de desempeño."
   ]
  },
  {
   "cell_type": "markdown",
   "metadata": {
    "id": "MMrl98GdF7z0"
   },
   "source": [
    "### Respuesta"
   ]
  },
  {
   "cell_type": "code",
   "execution_count": null,
   "metadata": {
    "id": "BL8fnt4KF7z1"
   },
   "outputs": [],
   "source": []
  },
  {
   "cell_type": "markdown",
   "metadata": {
    "id": "Fexd2Z9fklbh"
   },
   "source": [
    "## Suerte!"
   ]
  }
 ],
 "metadata": {
  "colab": {
   "collapsed_sections": [],
   "provenance": []
  },
  "kernelspec": {
   "display_name": "Python 3 (ipykernel)",
   "language": "python",
   "name": "python3"
  },
  "language_info": {
   "codemirror_mode": {
    "name": "ipython",
    "version": 3
   },
   "file_extension": ".py",
   "mimetype": "text/x-python",
   "name": "python",
   "nbconvert_exporter": "python",
   "pygments_lexer": "ipython3",
   "version": "3.9.12"
  },
  "widgets": {
   "application/vnd.jupyter.widget-state+json": {
    "state": {},
    "version_major": 2,
    "version_minor": 0
   }
  }
 },
 "nbformat": 4,
 "nbformat_minor": 4
}
