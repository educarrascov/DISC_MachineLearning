{
 "cells": [
  {
   "cell_type": "markdown",
   "metadata": {
    "id": "QTpausmRklbE"
   },
   "source": [
    "## **Eduardo Carrasco Vidal** <img src=\"img/logo.png\" align=\"right\" style=\"width: 120px;\"/>\n",
    "\n",
    "**Doctorado en Ingeniería de Sistemas Complejos, Universidad Adolfo Ibáñez.**\n",
    "\n",
    "**Profesor:** Gonzalo Ruz Heredia.\n",
    "__Ayudante:__ Carlos Sepúlveda Morales.\n",
    "\n",
    "**Curso:** Machine Learning (Aprendizaje Automático).\n",
    "\n",
    "Enlace al repositorio del alumno en [GitHub](https://github.com/educarrascov/DISC_MachineLearning) _@educarrascov_\n",
    "\n",
    "![Python](https://img.shields.io/badge/python-%2314354C.svg) "
   ]
  },
  {
   "cell_type": "markdown",
   "metadata": {
    "id": "5rbOPWLYklbF"
   },
   "source": [
    "## Instrucciones\n",
    "* La tarea es individual\n",
    "* Por favor responder en este mismo notebook\n",
    "* Renombrar el archivo agregando su nombre, por ejemplo tarea3_Contreras_Almada.ipynb\n",
    "* Subir el archivo al link de entrega Trabajo en webcursos que será habilitado\n",
    "* __Fecha de entrega:__ viernes 7 de octubre, 23:55 hrs."
   ]
  },
  {
   "cell_type": "markdown",
   "metadata": {},
   "source": [
    "# Tarea Nº 3: Machine Learning."
   ]
  },
  {
   "cell_type": "markdown",
   "metadata": {
    "id": "mSi5rjOEl3Fg"
   },
   "source": [
    "Considere el dataset CallCenterData de la [publicación](https://www.sciencedirect.com/science/article/abs/pii/S0957417412004605) vista en clase."
   ]
  },
  {
   "cell_type": "code",
   "execution_count": 24,
   "metadata": {
    "colab": {
     "base_uri": "https://localhost:8080/"
    },
    "id": "qTLGvX80__7S",
    "outputId": "dfd3f610-422b-495b-e751-b6928b9c27eb"
   },
   "outputs": [],
   "source": [
    "# se efectúa la carga de la base de datos\n",
    "import pandas as pd\n",
    "import numpy as np\n",
    "import seaborn as sns\n",
    "import matplotlib as plt \n",
    "from matplotlib.pyplot import figure\n",
    "df = pd.read_csv('data/CallCenterData.csv', sep=',')"
   ]
  },
  {
   "cell_type": "code",
   "execution_count": 25,
   "metadata": {},
   "outputs": [
    {
     "data": {
      "text/plain": [
       "(660, 11)"
      ]
     },
     "execution_count": 25,
     "metadata": {},
     "output_type": "execute_result"
    }
   ],
   "source": [
    "df.shape"
   ]
  },
  {
   "cell_type": "code",
   "execution_count": 26,
   "metadata": {
    "id": "9skd-xpR9o1T"
   },
   "outputs": [
    {
     "name": "stdout",
     "output_type": "stream",
     "text": [
      "<class 'pandas.core.frame.DataFrame'>\n",
      "RangeIndex: 660 entries, 0 to 659\n",
      "Data columns (total 11 columns):\n",
      " #   Column                      Non-Null Count  Dtype  \n",
      "---  ------                      --------------  -----  \n",
      " 0   ID                          660 non-null    int64  \n",
      " 1   Edad                        660 non-null    int64  \n",
      " 2   Sexo                        660 non-null    object \n",
      " 3   NivelEducacion              660 non-null    object \n",
      " 4   EstadoCivil                 660 non-null    object \n",
      " 5   NivelSocEco                 660 non-null    object \n",
      " 6   HorasLogeadas               660 non-null    float64\n",
      " 7   HorasHabladas               660 non-null    float64\n",
      " 8   ContactosEfectivosPromedio  660 non-null    float64\n",
      " 9   RegistrosTerminados         660 non-null    float64\n",
      " 10  ProdMayorUbral              660 non-null    object \n",
      "dtypes: float64(4), int64(2), object(5)\n",
      "memory usage: 56.8+ KB\n"
     ]
    }
   ],
   "source": [
    "df.info() #verificar cantidad de columnas/filas, tipos de variables."
   ]
  },
  {
   "cell_type": "code",
   "execution_count": 27,
   "metadata": {},
   "outputs": [],
   "source": [
    "conti_data = df.iloc[:,[1,6,7,8,9]].copy()\n",
    "categ_data = df.iloc[:,[2,3,4,5]].copy()"
   ]
  },
  {
   "cell_type": "code",
   "execution_count": 34,
   "metadata": {},
   "outputs": [
    {
     "data": {
      "text/html": [
       "<div>\n",
       "<style scoped>\n",
       "    .dataframe tbody tr th:only-of-type {\n",
       "        vertical-align: middle;\n",
       "    }\n",
       "\n",
       "    .dataframe tbody tr th {\n",
       "        vertical-align: top;\n",
       "    }\n",
       "\n",
       "    .dataframe thead th {\n",
       "        text-align: right;\n",
       "    }\n",
       "</style>\n",
       "<table border=\"1\" class=\"dataframe\">\n",
       "  <thead>\n",
       "    <tr style=\"text-align: right;\">\n",
       "      <th></th>\n",
       "      <th>Edad</th>\n",
       "      <th>HorasLogeadas</th>\n",
       "      <th>HorasHabladas</th>\n",
       "      <th>ContactosEfectivosPromedio</th>\n",
       "      <th>RegistrosTerminados</th>\n",
       "    </tr>\n",
       "  </thead>\n",
       "  <tbody>\n",
       "    <tr>\n",
       "      <th>0</th>\n",
       "      <td>32</td>\n",
       "      <td>151.1525</td>\n",
       "      <td>45.8525</td>\n",
       "      <td>192.250000</td>\n",
       "      <td>591.750000</td>\n",
       "    </tr>\n",
       "    <tr>\n",
       "      <th>1</th>\n",
       "      <td>24</td>\n",
       "      <td>71.1800</td>\n",
       "      <td>24.7600</td>\n",
       "      <td>1.000000</td>\n",
       "      <td>501.000000</td>\n",
       "    </tr>\n",
       "    <tr>\n",
       "      <th>2</th>\n",
       "      <td>29</td>\n",
       "      <td>120.5600</td>\n",
       "      <td>49.4500</td>\n",
       "      <td>156.000000</td>\n",
       "      <td>993.000000</td>\n",
       "    </tr>\n",
       "    <tr>\n",
       "      <th>3</th>\n",
       "      <td>48</td>\n",
       "      <td>90.8500</td>\n",
       "      <td>28.8500</td>\n",
       "      <td>442.000000</td>\n",
       "      <td>569.000000</td>\n",
       "    </tr>\n",
       "    <tr>\n",
       "      <th>4</th>\n",
       "      <td>25</td>\n",
       "      <td>190.1800</td>\n",
       "      <td>41.1600</td>\n",
       "      <td>0.000000</td>\n",
       "      <td>0.000000</td>\n",
       "    </tr>\n",
       "    <tr>\n",
       "      <th>...</th>\n",
       "      <td>...</td>\n",
       "      <td>...</td>\n",
       "      <td>...</td>\n",
       "      <td>...</td>\n",
       "      <td>...</td>\n",
       "    </tr>\n",
       "    <tr>\n",
       "      <th>655</th>\n",
       "      <td>50</td>\n",
       "      <td>193.7820</td>\n",
       "      <td>90.1750</td>\n",
       "      <td>376.500000</td>\n",
       "      <td>908.000000</td>\n",
       "    </tr>\n",
       "    <tr>\n",
       "      <th>656</th>\n",
       "      <td>28</td>\n",
       "      <td>193.3200</td>\n",
       "      <td>71.5200</td>\n",
       "      <td>390.000000</td>\n",
       "      <td>687.500000</td>\n",
       "    </tr>\n",
       "    <tr>\n",
       "      <th>657</th>\n",
       "      <td>29</td>\n",
       "      <td>120.8200</td>\n",
       "      <td>39.1300</td>\n",
       "      <td>85.666667</td>\n",
       "      <td>471.666667</td>\n",
       "    </tr>\n",
       "    <tr>\n",
       "      <th>658</th>\n",
       "      <td>28</td>\n",
       "      <td>164.6262</td>\n",
       "      <td>51.7097</td>\n",
       "      <td>428.600000</td>\n",
       "      <td>494.600000</td>\n",
       "    </tr>\n",
       "    <tr>\n",
       "      <th>659</th>\n",
       "      <td>33</td>\n",
       "      <td>121.2960</td>\n",
       "      <td>35.7900</td>\n",
       "      <td>147.200000</td>\n",
       "      <td>404.000000</td>\n",
       "    </tr>\n",
       "  </tbody>\n",
       "</table>\n",
       "<p>660 rows × 5 columns</p>\n",
       "</div>"
      ],
      "text/plain": [
       "     Edad  HorasLogeadas  HorasHabladas  ContactosEfectivosPromedio  \\\n",
       "0      32       151.1525        45.8525                  192.250000   \n",
       "1      24        71.1800        24.7600                    1.000000   \n",
       "2      29       120.5600        49.4500                  156.000000   \n",
       "3      48        90.8500        28.8500                  442.000000   \n",
       "4      25       190.1800        41.1600                    0.000000   \n",
       "..    ...            ...            ...                         ...   \n",
       "655    50       193.7820        90.1750                  376.500000   \n",
       "656    28       193.3200        71.5200                  390.000000   \n",
       "657    29       120.8200        39.1300                   85.666667   \n",
       "658    28       164.6262        51.7097                  428.600000   \n",
       "659    33       121.2960        35.7900                  147.200000   \n",
       "\n",
       "     RegistrosTerminados  \n",
       "0             591.750000  \n",
       "1             501.000000  \n",
       "2             993.000000  \n",
       "3             569.000000  \n",
       "4               0.000000  \n",
       "..                   ...  \n",
       "655           908.000000  \n",
       "656           687.500000  \n",
       "657           471.666667  \n",
       "658           494.600000  \n",
       "659           404.000000  \n",
       "\n",
       "[660 rows x 5 columns]"
      ]
     },
     "execution_count": 34,
     "metadata": {},
     "output_type": "execute_result"
    }
   ],
   "source": [
    "conti_data"
   ]
  },
  {
   "cell_type": "code",
   "execution_count": 28,
   "metadata": {},
   "outputs": [],
   "source": [
    "from sklearn.preprocessing import KBinsDiscretizer\n",
    "disc = KBinsDiscretizer(n_bins=3, encode='ordinal', strategy='quantile')"
   ]
  },
  {
   "cell_type": "code",
   "execution_count": 29,
   "metadata": {},
   "outputs": [
    {
     "data": {
      "text/plain": [
       "KBinsDiscretizer(encode='ordinal', n_bins=3)"
      ]
     },
     "execution_count": 29,
     "metadata": {},
     "output_type": "execute_result"
    }
   ],
   "source": [
    "disc.fit(conti_data)"
   ]
  },
  {
   "cell_type": "code",
   "execution_count": 30,
   "metadata": {},
   "outputs": [],
   "source": [
    "X_disc = disc.transform(conti_data)"
   ]
  },
  {
   "cell_type": "code",
   "execution_count": 33,
   "metadata": {},
   "outputs": [
    {
     "ename": "AttributeError",
     "evalue": "module 'pandas' has no attribute 'X_disc'",
     "output_type": "error",
     "traceback": [
      "\u001b[0;31m---------------------------------------------------------------------------\u001b[0m",
      "\u001b[0;31mAttributeError\u001b[0m                            Traceback (most recent call last)",
      "Input \u001b[0;32mIn [33]\u001b[0m, in \u001b[0;36m<cell line: 1>\u001b[0;34m()\u001b[0m\n\u001b[0;32m----> 1\u001b[0m a \u001b[38;5;241m=\u001b[39m \u001b[43mpd\u001b[49m\u001b[38;5;241;43m.\u001b[39;49m\u001b[43mX_disc\u001b[49m\n",
      "File \u001b[0;32m~/opt/anaconda3/lib/python3.9/site-packages/pandas/__init__.py:261\u001b[0m, in \u001b[0;36m__getattr__\u001b[0;34m(name)\u001b[0m\n\u001b[1;32m    257\u001b[0m     \u001b[38;5;28;01mfrom\u001b[39;00m \u001b[38;5;21;01mpandas\u001b[39;00m\u001b[38;5;21;01m.\u001b[39;00m\u001b[38;5;21;01mcore\u001b[39;00m\u001b[38;5;21;01m.\u001b[39;00m\u001b[38;5;21;01marrays\u001b[39;00m\u001b[38;5;21;01m.\u001b[39;00m\u001b[38;5;21;01msparse\u001b[39;00m \u001b[38;5;28;01mimport\u001b[39;00m SparseArray \u001b[38;5;28;01mas\u001b[39;00m _SparseArray\n\u001b[1;32m    259\u001b[0m     \u001b[38;5;28;01mreturn\u001b[39;00m _SparseArray\n\u001b[0;32m--> 261\u001b[0m \u001b[38;5;28;01mraise\u001b[39;00m \u001b[38;5;167;01mAttributeError\u001b[39;00m(\u001b[38;5;124mf\u001b[39m\u001b[38;5;124m\"\u001b[39m\u001b[38;5;124mmodule \u001b[39m\u001b[38;5;124m'\u001b[39m\u001b[38;5;124mpandas\u001b[39m\u001b[38;5;124m'\u001b[39m\u001b[38;5;124m has no attribute \u001b[39m\u001b[38;5;124m'\u001b[39m\u001b[38;5;132;01m{\u001b[39;00mname\u001b[38;5;132;01m}\u001b[39;00m\u001b[38;5;124m'\u001b[39m\u001b[38;5;124m\"\u001b[39m)\n",
      "\u001b[0;31mAttributeError\u001b[0m: module 'pandas' has no attribute 'X_disc'"
     ]
    }
   ],
   "source": [
    "a = pd.X_disc"
   ]
  },
  {
   "cell_type": "markdown",
   "metadata": {},
   "source": [
    "Como se observa, el detalle de las variables es el siguiente:\n",
    "1. **Numéricas:** `ID`, `Edad`, `HorasLogeadas`, `HorasHabladas`, `ContactosEfectivosPromedio`, `RegistrosTerminados`.\n",
    "2. **Categóricas:** `Sexo`, `NivelEducacion`, `EstadoCivil`, `NivelSocEco`, `ProdMayorUbral`.\n",
    "\n",
    "Todas tienen la misma cantidad de datos (660), sin presentar ninguno nulo."
   ]
  },
  {
   "cell_type": "code",
   "execution_count": 4,
   "metadata": {},
   "outputs": [
    {
     "data": {
      "text/html": [
       "<div>\n",
       "<style scoped>\n",
       "    .dataframe tbody tr th:only-of-type {\n",
       "        vertical-align: middle;\n",
       "    }\n",
       "\n",
       "    .dataframe tbody tr th {\n",
       "        vertical-align: top;\n",
       "    }\n",
       "\n",
       "    .dataframe thead th {\n",
       "        text-align: right;\n",
       "    }\n",
       "</style>\n",
       "<table border=\"1\" class=\"dataframe\">\n",
       "  <thead>\n",
       "    <tr style=\"text-align: right;\">\n",
       "      <th></th>\n",
       "      <th>ID</th>\n",
       "      <th>Edad</th>\n",
       "      <th>Sexo</th>\n",
       "      <th>NivelEducacion</th>\n",
       "      <th>EstadoCivil</th>\n",
       "      <th>NivelSocEco</th>\n",
       "      <th>HorasLogeadas</th>\n",
       "      <th>HorasHabladas</th>\n",
       "      <th>ContactosEfectivosPromedio</th>\n",
       "      <th>RegistrosTerminados</th>\n",
       "      <th>ProdMayorUbral</th>\n",
       "    </tr>\n",
       "  </thead>\n",
       "  <tbody>\n",
       "    <tr>\n",
       "      <th>0</th>\n",
       "      <td>1</td>\n",
       "      <td>32</td>\n",
       "      <td>m</td>\n",
       "      <td>un</td>\n",
       "      <td>s</td>\n",
       "      <td>c3c4</td>\n",
       "      <td>151.1525</td>\n",
       "      <td>45.8525</td>\n",
       "      <td>192.25</td>\n",
       "      <td>591.75</td>\n",
       "      <td>si</td>\n",
       "    </tr>\n",
       "    <tr>\n",
       "      <th>1</th>\n",
       "      <td>2</td>\n",
       "      <td>24</td>\n",
       "      <td>m</td>\n",
       "      <td>em</td>\n",
       "      <td>s</td>\n",
       "      <td>c3c4</td>\n",
       "      <td>71.1800</td>\n",
       "      <td>24.7600</td>\n",
       "      <td>1.00</td>\n",
       "      <td>501.00</td>\n",
       "      <td>no</td>\n",
       "    </tr>\n",
       "    <tr>\n",
       "      <th>2</th>\n",
       "      <td>3</td>\n",
       "      <td>29</td>\n",
       "      <td>m</td>\n",
       "      <td>em</td>\n",
       "      <td>c</td>\n",
       "      <td>c3c4</td>\n",
       "      <td>120.5600</td>\n",
       "      <td>49.4500</td>\n",
       "      <td>156.00</td>\n",
       "      <td>993.00</td>\n",
       "      <td>si</td>\n",
       "    </tr>\n",
       "    <tr>\n",
       "      <th>3</th>\n",
       "      <td>4</td>\n",
       "      <td>48</td>\n",
       "      <td>f</td>\n",
       "      <td>em</td>\n",
       "      <td>c</td>\n",
       "      <td>e</td>\n",
       "      <td>90.8500</td>\n",
       "      <td>28.8500</td>\n",
       "      <td>442.00</td>\n",
       "      <td>569.00</td>\n",
       "      <td>no</td>\n",
       "    </tr>\n",
       "    <tr>\n",
       "      <th>4</th>\n",
       "      <td>5</td>\n",
       "      <td>25</td>\n",
       "      <td>m</td>\n",
       "      <td>un</td>\n",
       "      <td>s</td>\n",
       "      <td>c3c4</td>\n",
       "      <td>190.1800</td>\n",
       "      <td>41.1600</td>\n",
       "      <td>0.00</td>\n",
       "      <td>0.00</td>\n",
       "      <td>si</td>\n",
       "    </tr>\n",
       "  </tbody>\n",
       "</table>\n",
       "</div>"
      ],
      "text/plain": [
       "   ID  Edad Sexo NivelEducacion EstadoCivil NivelSocEco  HorasLogeadas  \\\n",
       "0   1    32    m             un           s        c3c4       151.1525   \n",
       "1   2    24    m             em           s        c3c4        71.1800   \n",
       "2   3    29    m             em           c        c3c4       120.5600   \n",
       "3   4    48    f             em           c           e        90.8500   \n",
       "4   5    25    m             un           s        c3c4       190.1800   \n",
       "\n",
       "   HorasHabladas  ContactosEfectivosPromedio  RegistrosTerminados  \\\n",
       "0        45.8525                      192.25               591.75   \n",
       "1        24.7600                        1.00               501.00   \n",
       "2        49.4500                      156.00               993.00   \n",
       "3        28.8500                      442.00               569.00   \n",
       "4        41.1600                        0.00                 0.00   \n",
       "\n",
       "  ProdMayorUbral  \n",
       "0             si  \n",
       "1             no  \n",
       "2             si  \n",
       "3             no  \n",
       "4             si  "
      ]
     },
     "execution_count": 4,
     "metadata": {},
     "output_type": "execute_result"
    }
   ],
   "source": [
    "df.head()"
   ]
  },
  {
   "cell_type": "code",
   "execution_count": 5,
   "metadata": {},
   "outputs": [
    {
     "data": {
      "text/plain": [
       "Index(['ID', 'Edad', 'Sexo', 'NivelEducacion', 'EstadoCivil', 'NivelSocEco',\n",
       "       'HorasLogeadas', 'HorasHabladas', 'ContactosEfectivosPromedio',\n",
       "       'RegistrosTerminados', 'ProdMayorUbral'],\n",
       "      dtype='object')"
      ]
     },
     "execution_count": 5,
     "metadata": {},
     "output_type": "execute_result"
    }
   ],
   "source": [
    "df.columns"
   ]
  },
  {
   "cell_type": "code",
   "execution_count": 6,
   "metadata": {
    "colab": {
     "base_uri": "https://localhost:8080/",
     "height": 394
    },
    "id": "wTS6aUH79o1U",
    "outputId": "5de317e9-f697-47bd-e40e-1747c2cd11c9",
    "scrolled": true
   },
   "outputs": [
    {
     "data": {
      "text/html": [
       "<div>\n",
       "<style scoped>\n",
       "    .dataframe tbody tr th:only-of-type {\n",
       "        vertical-align: middle;\n",
       "    }\n",
       "\n",
       "    .dataframe tbody tr th {\n",
       "        vertical-align: top;\n",
       "    }\n",
       "\n",
       "    .dataframe thead th {\n",
       "        text-align: right;\n",
       "    }\n",
       "</style>\n",
       "<table border=\"1\" class=\"dataframe\">\n",
       "  <thead>\n",
       "    <tr style=\"text-align: right;\">\n",
       "      <th></th>\n",
       "      <th>ID</th>\n",
       "      <th>Edad</th>\n",
       "      <th>Sexo</th>\n",
       "      <th>NivelEducacion</th>\n",
       "      <th>EstadoCivil</th>\n",
       "      <th>NivelSocEco</th>\n",
       "      <th>HorasLogeadas</th>\n",
       "      <th>HorasHabladas</th>\n",
       "      <th>ContactosEfectivosPromedio</th>\n",
       "      <th>RegistrosTerminados</th>\n",
       "      <th>ProdMayorUbral</th>\n",
       "    </tr>\n",
       "  </thead>\n",
       "  <tbody>\n",
       "    <tr>\n",
       "      <th>count</th>\n",
       "      <td>660.000000</td>\n",
       "      <td>660.000000</td>\n",
       "      <td>660</td>\n",
       "      <td>660</td>\n",
       "      <td>660</td>\n",
       "      <td>660</td>\n",
       "      <td>660.000000</td>\n",
       "      <td>660.000000</td>\n",
       "      <td>660.000000</td>\n",
       "      <td>660.000000</td>\n",
       "      <td>660</td>\n",
       "    </tr>\n",
       "    <tr>\n",
       "      <th>unique</th>\n",
       "      <td>NaN</td>\n",
       "      <td>NaN</td>\n",
       "      <td>2</td>\n",
       "      <td>4</td>\n",
       "      <td>2</td>\n",
       "      <td>5</td>\n",
       "      <td>NaN</td>\n",
       "      <td>NaN</td>\n",
       "      <td>NaN</td>\n",
       "      <td>NaN</td>\n",
       "      <td>2</td>\n",
       "    </tr>\n",
       "    <tr>\n",
       "      <th>top</th>\n",
       "      <td>NaN</td>\n",
       "      <td>NaN</td>\n",
       "      <td>f</td>\n",
       "      <td>em</td>\n",
       "      <td>s</td>\n",
       "      <td>c3c4</td>\n",
       "      <td>NaN</td>\n",
       "      <td>NaN</td>\n",
       "      <td>NaN</td>\n",
       "      <td>NaN</td>\n",
       "      <td>no</td>\n",
       "    </tr>\n",
       "    <tr>\n",
       "      <th>freq</th>\n",
       "      <td>NaN</td>\n",
       "      <td>NaN</td>\n",
       "      <td>340</td>\n",
       "      <td>345</td>\n",
       "      <td>489</td>\n",
       "      <td>386</td>\n",
       "      <td>NaN</td>\n",
       "      <td>NaN</td>\n",
       "      <td>NaN</td>\n",
       "      <td>NaN</td>\n",
       "      <td>351</td>\n",
       "    </tr>\n",
       "    <tr>\n",
       "      <th>mean</th>\n",
       "      <td>330.500000</td>\n",
       "      <td>32.034848</td>\n",
       "      <td>NaN</td>\n",
       "      <td>NaN</td>\n",
       "      <td>NaN</td>\n",
       "      <td>NaN</td>\n",
       "      <td>117.025260</td>\n",
       "      <td>41.113746</td>\n",
       "      <td>192.477960</td>\n",
       "      <td>467.773235</td>\n",
       "      <td>NaN</td>\n",
       "    </tr>\n",
       "    <tr>\n",
       "      <th>std</th>\n",
       "      <td>190.669872</td>\n",
       "      <td>8.970209</td>\n",
       "      <td>NaN</td>\n",
       "      <td>NaN</td>\n",
       "      <td>NaN</td>\n",
       "      <td>NaN</td>\n",
       "      <td>53.348341</td>\n",
       "      <td>25.310637</td>\n",
       "      <td>146.711340</td>\n",
       "      <td>312.863798</td>\n",
       "      <td>NaN</td>\n",
       "    </tr>\n",
       "    <tr>\n",
       "      <th>min</th>\n",
       "      <td>1.000000</td>\n",
       "      <td>19.000000</td>\n",
       "      <td>NaN</td>\n",
       "      <td>NaN</td>\n",
       "      <td>NaN</td>\n",
       "      <td>NaN</td>\n",
       "      <td>0.170000</td>\n",
       "      <td>0.013333</td>\n",
       "      <td>0.000000</td>\n",
       "      <td>0.000000</td>\n",
       "      <td>NaN</td>\n",
       "    </tr>\n",
       "    <tr>\n",
       "      <th>25%</th>\n",
       "      <td>165.750000</td>\n",
       "      <td>26.000000</td>\n",
       "      <td>NaN</td>\n",
       "      <td>NaN</td>\n",
       "      <td>NaN</td>\n",
       "      <td>NaN</td>\n",
       "      <td>79.197125</td>\n",
       "      <td>21.767312</td>\n",
       "      <td>84.625000</td>\n",
       "      <td>231.107143</td>\n",
       "      <td>NaN</td>\n",
       "    </tr>\n",
       "    <tr>\n",
       "      <th>50%</th>\n",
       "      <td>330.500000</td>\n",
       "      <td>29.500000</td>\n",
       "      <td>NaN</td>\n",
       "      <td>NaN</td>\n",
       "      <td>NaN</td>\n",
       "      <td>NaN</td>\n",
       "      <td>122.679417</td>\n",
       "      <td>37.665000</td>\n",
       "      <td>181.000000</td>\n",
       "      <td>440.500000</td>\n",
       "      <td>NaN</td>\n",
       "    </tr>\n",
       "    <tr>\n",
       "      <th>75%</th>\n",
       "      <td>495.250000</td>\n",
       "      <td>36.000000</td>\n",
       "      <td>NaN</td>\n",
       "      <td>NaN</td>\n",
       "      <td>NaN</td>\n",
       "      <td>NaN</td>\n",
       "      <td>160.650250</td>\n",
       "      <td>57.709000</td>\n",
       "      <td>270.558333</td>\n",
       "      <td>645.812500</td>\n",
       "      <td>NaN</td>\n",
       "    </tr>\n",
       "    <tr>\n",
       "      <th>max</th>\n",
       "      <td>660.000000</td>\n",
       "      <td>65.000000</td>\n",
       "      <td>NaN</td>\n",
       "      <td>NaN</td>\n",
       "      <td>NaN</td>\n",
       "      <td>NaN</td>\n",
       "      <td>258.400000</td>\n",
       "      <td>122.182500</td>\n",
       "      <td>1216.000000</td>\n",
       "      <td>1890.250000</td>\n",
       "      <td>NaN</td>\n",
       "    </tr>\n",
       "  </tbody>\n",
       "</table>\n",
       "</div>"
      ],
      "text/plain": [
       "                ID        Edad Sexo NivelEducacion EstadoCivil NivelSocEco  \\\n",
       "count   660.000000  660.000000  660            660         660         660   \n",
       "unique         NaN         NaN    2              4           2           5   \n",
       "top            NaN         NaN    f             em           s        c3c4   \n",
       "freq           NaN         NaN  340            345         489         386   \n",
       "mean    330.500000   32.034848  NaN            NaN         NaN         NaN   \n",
       "std     190.669872    8.970209  NaN            NaN         NaN         NaN   \n",
       "min       1.000000   19.000000  NaN            NaN         NaN         NaN   \n",
       "25%     165.750000   26.000000  NaN            NaN         NaN         NaN   \n",
       "50%     330.500000   29.500000  NaN            NaN         NaN         NaN   \n",
       "75%     495.250000   36.000000  NaN            NaN         NaN         NaN   \n",
       "max     660.000000   65.000000  NaN            NaN         NaN         NaN   \n",
       "\n",
       "        HorasLogeadas  HorasHabladas  ContactosEfectivosPromedio  \\\n",
       "count      660.000000     660.000000                  660.000000   \n",
       "unique            NaN            NaN                         NaN   \n",
       "top               NaN            NaN                         NaN   \n",
       "freq              NaN            NaN                         NaN   \n",
       "mean       117.025260      41.113746                  192.477960   \n",
       "std         53.348341      25.310637                  146.711340   \n",
       "min          0.170000       0.013333                    0.000000   \n",
       "25%         79.197125      21.767312                   84.625000   \n",
       "50%        122.679417      37.665000                  181.000000   \n",
       "75%        160.650250      57.709000                  270.558333   \n",
       "max        258.400000     122.182500                 1216.000000   \n",
       "\n",
       "        RegistrosTerminados ProdMayorUbral  \n",
       "count            660.000000            660  \n",
       "unique                  NaN              2  \n",
       "top                     NaN             no  \n",
       "freq                    NaN            351  \n",
       "mean             467.773235            NaN  \n",
       "std              312.863798            NaN  \n",
       "min                0.000000            NaN  \n",
       "25%              231.107143            NaN  \n",
       "50%              440.500000            NaN  \n",
       "75%              645.812500            NaN  \n",
       "max             1890.250000            NaN  "
      ]
     },
     "execution_count": 6,
     "metadata": {},
     "output_type": "execute_result"
    }
   ],
   "source": [
    "df.describe(include='all')"
   ]
  },
  {
   "cell_type": "markdown",
   "metadata": {
    "id": "TbwKHmVFBLxs"
   },
   "source": [
    "Convierta los atributos categóricos a númericos"
   ]
  },
  {
   "cell_type": "code",
   "execution_count": 7,
   "metadata": {
    "id": "z6Kn7wR-BZav"
   },
   "outputs": [
    {
     "name": "stdout",
     "output_type": "stream",
     "text": [
      "There are 5 categorical variables\n",
      "\n",
      "The categorical variables are :\n",
      "\n",
      " ['Sexo', 'NivelEducacion', 'EstadoCivil', 'NivelSocEco', 'ProdMayorUbral']\n"
     ]
    }
   ],
   "source": [
    "# find categorical variables\n",
    "categorical = [var for var in df.columns if df[var].dtype=='O']\n",
    "print('There are {} categorical variables\\n'.format(len(categorical)))\n",
    "print('The categorical variables are :\\n\\n', categorical)"
   ]
  },
  {
   "cell_type": "code",
   "execution_count": 8,
   "metadata": {},
   "outputs": [
    {
     "data": {
      "text/html": [
       "<div>\n",
       "<style scoped>\n",
       "    .dataframe tbody tr th:only-of-type {\n",
       "        vertical-align: middle;\n",
       "    }\n",
       "\n",
       "    .dataframe tbody tr th {\n",
       "        vertical-align: top;\n",
       "    }\n",
       "\n",
       "    .dataframe thead th {\n",
       "        text-align: right;\n",
       "    }\n",
       "</style>\n",
       "<table border=\"1\" class=\"dataframe\">\n",
       "  <thead>\n",
       "    <tr style=\"text-align: right;\">\n",
       "      <th></th>\n",
       "      <th>Sexo</th>\n",
       "      <th>NivelEducacion</th>\n",
       "      <th>EstadoCivil</th>\n",
       "      <th>NivelSocEco</th>\n",
       "      <th>ProdMayorUbral</th>\n",
       "    </tr>\n",
       "  </thead>\n",
       "  <tbody>\n",
       "    <tr>\n",
       "      <th>0</th>\n",
       "      <td>m</td>\n",
       "      <td>un</td>\n",
       "      <td>s</td>\n",
       "      <td>c3c4</td>\n",
       "      <td>si</td>\n",
       "    </tr>\n",
       "    <tr>\n",
       "      <th>1</th>\n",
       "      <td>m</td>\n",
       "      <td>em</td>\n",
       "      <td>s</td>\n",
       "      <td>c3c4</td>\n",
       "      <td>no</td>\n",
       "    </tr>\n",
       "    <tr>\n",
       "      <th>2</th>\n",
       "      <td>m</td>\n",
       "      <td>em</td>\n",
       "      <td>c</td>\n",
       "      <td>c3c4</td>\n",
       "      <td>si</td>\n",
       "    </tr>\n",
       "    <tr>\n",
       "      <th>3</th>\n",
       "      <td>f</td>\n",
       "      <td>em</td>\n",
       "      <td>c</td>\n",
       "      <td>e</td>\n",
       "      <td>no</td>\n",
       "    </tr>\n",
       "    <tr>\n",
       "      <th>4</th>\n",
       "      <td>m</td>\n",
       "      <td>un</td>\n",
       "      <td>s</td>\n",
       "      <td>c3c4</td>\n",
       "      <td>si</td>\n",
       "    </tr>\n",
       "  </tbody>\n",
       "</table>\n",
       "</div>"
      ],
      "text/plain": [
       "  Sexo NivelEducacion EstadoCivil NivelSocEco ProdMayorUbral\n",
       "0    m             un           s        c3c4             si\n",
       "1    m             em           s        c3c4             no\n",
       "2    m             em           c        c3c4             si\n",
       "3    f             em           c           e             no\n",
       "4    m             un           s        c3c4             si"
      ]
     },
     "execution_count": 8,
     "metadata": {},
     "output_type": "execute_result"
    }
   ],
   "source": [
    "df[categorical].head()"
   ]
  },
  {
   "cell_type": "code",
   "execution_count": 9,
   "metadata": {},
   "outputs": [
    {
     "data": {
      "text/plain": [
       "Sexo              0\n",
       "NivelEducacion    0\n",
       "EstadoCivil       0\n",
       "NivelSocEco       0\n",
       "ProdMayorUbral    0\n",
       "dtype: int64"
      ]
     },
     "execution_count": 9,
     "metadata": {},
     "output_type": "execute_result"
    }
   ],
   "source": [
    "# check missing values in categorical variables\n",
    "df[categorical].isnull().sum()"
   ]
  },
  {
   "cell_type": "code",
   "execution_count": 10,
   "metadata": {},
   "outputs": [
    {
     "name": "stdout",
     "output_type": "stream",
     "text": [
      "Sexo  contiene  2  etiquetas\n",
      "NivelEducacion  contiene  4  etiquetas\n",
      "EstadoCivil  contiene  2  etiquetas\n",
      "NivelSocEco  contiene  5  etiquetas\n",
      "ProdMayorUbral  contiene  2  etiquetas\n"
     ]
    }
   ],
   "source": [
    "# check for cardinality in categorical variables\n",
    "for var in categorical:  \n",
    "    print(var, ' contiene ', len(df[var].unique()), ' etiquetas')"
   ]
  },
  {
   "cell_type": "code",
   "execution_count": 11,
   "metadata": {},
   "outputs": [
    {
     "name": "stdout",
     "output_type": "stream",
     "text": [
      "There are 6 numerical variables\n",
      "\n",
      "The numerical variables are : ['ID', 'Edad', 'HorasLogeadas', 'HorasHabladas', 'ContactosEfectivosPromedio', 'RegistrosTerminados']\n"
     ]
    }
   ],
   "source": [
    "# find numerical variables\n",
    "numerical = [var for var in df.columns if df[var].dtype!='O']\n",
    "print('There are {} numerical variables\\n'.format(len(numerical)))\n",
    "print('The numerical variables are :', numerical)"
   ]
  },
  {
   "cell_type": "code",
   "execution_count": 12,
   "metadata": {},
   "outputs": [
    {
     "data": {
      "text/html": [
       "<div>\n",
       "<style scoped>\n",
       "    .dataframe tbody tr th:only-of-type {\n",
       "        vertical-align: middle;\n",
       "    }\n",
       "\n",
       "    .dataframe tbody tr th {\n",
       "        vertical-align: top;\n",
       "    }\n",
       "\n",
       "    .dataframe thead th {\n",
       "        text-align: right;\n",
       "    }\n",
       "</style>\n",
       "<table border=\"1\" class=\"dataframe\">\n",
       "  <thead>\n",
       "    <tr style=\"text-align: right;\">\n",
       "      <th></th>\n",
       "      <th>ID</th>\n",
       "      <th>Edad</th>\n",
       "      <th>HorasLogeadas</th>\n",
       "      <th>HorasHabladas</th>\n",
       "      <th>ContactosEfectivosPromedio</th>\n",
       "      <th>RegistrosTerminados</th>\n",
       "    </tr>\n",
       "  </thead>\n",
       "  <tbody>\n",
       "    <tr>\n",
       "      <th>0</th>\n",
       "      <td>1</td>\n",
       "      <td>32</td>\n",
       "      <td>151.1525</td>\n",
       "      <td>45.8525</td>\n",
       "      <td>192.25</td>\n",
       "      <td>591.75</td>\n",
       "    </tr>\n",
       "    <tr>\n",
       "      <th>1</th>\n",
       "      <td>2</td>\n",
       "      <td>24</td>\n",
       "      <td>71.1800</td>\n",
       "      <td>24.7600</td>\n",
       "      <td>1.00</td>\n",
       "      <td>501.00</td>\n",
       "    </tr>\n",
       "    <tr>\n",
       "      <th>2</th>\n",
       "      <td>3</td>\n",
       "      <td>29</td>\n",
       "      <td>120.5600</td>\n",
       "      <td>49.4500</td>\n",
       "      <td>156.00</td>\n",
       "      <td>993.00</td>\n",
       "    </tr>\n",
       "    <tr>\n",
       "      <th>3</th>\n",
       "      <td>4</td>\n",
       "      <td>48</td>\n",
       "      <td>90.8500</td>\n",
       "      <td>28.8500</td>\n",
       "      <td>442.00</td>\n",
       "      <td>569.00</td>\n",
       "    </tr>\n",
       "    <tr>\n",
       "      <th>4</th>\n",
       "      <td>5</td>\n",
       "      <td>25</td>\n",
       "      <td>190.1800</td>\n",
       "      <td>41.1600</td>\n",
       "      <td>0.00</td>\n",
       "      <td>0.00</td>\n",
       "    </tr>\n",
       "  </tbody>\n",
       "</table>\n",
       "</div>"
      ],
      "text/plain": [
       "   ID  Edad  HorasLogeadas  HorasHabladas  ContactosEfectivosPromedio  \\\n",
       "0   1    32       151.1525        45.8525                      192.25   \n",
       "1   2    24        71.1800        24.7600                        1.00   \n",
       "2   3    29       120.5600        49.4500                      156.00   \n",
       "3   4    48        90.8500        28.8500                      442.00   \n",
       "4   5    25       190.1800        41.1600                        0.00   \n",
       "\n",
       "   RegistrosTerminados  \n",
       "0               591.75  \n",
       "1               501.00  \n",
       "2               993.00  \n",
       "3               569.00  \n",
       "4                 0.00  "
      ]
     },
     "execution_count": 12,
     "metadata": {},
     "output_type": "execute_result"
    }
   ],
   "source": [
    "df[numerical].head()"
   ]
  },
  {
   "cell_type": "code",
   "execution_count": 13,
   "metadata": {},
   "outputs": [
    {
     "data": {
      "text/plain": [
       "ID                            0\n",
       "Edad                          0\n",
       "HorasLogeadas                 0\n",
       "HorasHabladas                 0\n",
       "ContactosEfectivosPromedio    0\n",
       "RegistrosTerminados           0\n",
       "dtype: int64"
      ]
     },
     "execution_count": 13,
     "metadata": {},
     "output_type": "execute_result"
    }
   ],
   "source": [
    "# check missing values in numerical variables\n",
    "df[numerical].isnull().sum()"
   ]
  },
  {
   "cell_type": "code",
   "execution_count": 14,
   "metadata": {},
   "outputs": [],
   "source": [
    "X = df.drop(['ProdMayorUbral','ID'], axis=1)"
   ]
  },
  {
   "cell_type": "code",
   "execution_count": 15,
   "metadata": {},
   "outputs": [
    {
     "data": {
      "text/plain": [
       "(660, 9)"
      ]
     },
     "execution_count": 15,
     "metadata": {},
     "output_type": "execute_result"
    }
   ],
   "source": [
    "X.shape"
   ]
  },
  {
   "cell_type": "code",
   "execution_count": 16,
   "metadata": {},
   "outputs": [
    {
     "name": "stdout",
     "output_type": "stream",
     "text": [
      "<class 'pandas.core.frame.DataFrame'>\n",
      "RangeIndex: 660 entries, 0 to 659\n",
      "Data columns (total 9 columns):\n",
      " #   Column                      Non-Null Count  Dtype  \n",
      "---  ------                      --------------  -----  \n",
      " 0   Edad                        660 non-null    int64  \n",
      " 1   Sexo                        660 non-null    object \n",
      " 2   NivelEducacion              660 non-null    object \n",
      " 3   EstadoCivil                 660 non-null    object \n",
      " 4   NivelSocEco                 660 non-null    object \n",
      " 5   HorasLogeadas               660 non-null    float64\n",
      " 6   HorasHabladas               660 non-null    float64\n",
      " 7   ContactosEfectivosPromedio  660 non-null    float64\n",
      " 8   RegistrosTerminados         660 non-null    float64\n",
      "dtypes: float64(4), int64(1), object(4)\n",
      "memory usage: 46.5+ KB\n"
     ]
    }
   ],
   "source": [
    "X.info()"
   ]
  },
  {
   "cell_type": "code",
   "execution_count": 17,
   "metadata": {},
   "outputs": [],
   "source": [
    "def get_ohe(X):\n",
    "    temp_df = pd.DataFrame(data=ohe.transform(X[['Sexo','NivelEducacion','EstadoCivil','NivelSocEco']]), columns=ohe.get_feature_names_out())\n",
    "    X.drop(columns=['Sexo','NivelEducacion','EstadoCivil','NivelSocEco'], axis=1, inplace=True)\n",
    "    X = pd.concat([X.reset_index(drop=True), temp_df], axis=1)\n",
    "    return X"
   ]
  },
  {
   "cell_type": "code",
   "execution_count": 18,
   "metadata": {},
   "outputs": [],
   "source": [
    "from sklearn.preprocessing import OneHotEncoder\n",
    "ohe = OneHotEncoder(handle_unknown='ignore', sparse=False, dtype='int')\n",
    "ohe.fit(X[['Sexo','NivelEducacion','EstadoCivil','NivelSocEco']])\n",
    "X = get_ohe(X)"
   ]
  },
  {
   "cell_type": "code",
   "execution_count": 19,
   "metadata": {},
   "outputs": [
    {
     "data": {
      "text/plain": [
       "(660, 18)"
      ]
     },
     "execution_count": 19,
     "metadata": {},
     "output_type": "execute_result"
    }
   ],
   "source": [
    "X.shape"
   ]
  },
  {
   "cell_type": "code",
   "execution_count": 20,
   "metadata": {},
   "outputs": [
    {
     "data": {
      "text/html": [
       "<div>\n",
       "<style scoped>\n",
       "    .dataframe tbody tr th:only-of-type {\n",
       "        vertical-align: middle;\n",
       "    }\n",
       "\n",
       "    .dataframe tbody tr th {\n",
       "        vertical-align: top;\n",
       "    }\n",
       "\n",
       "    .dataframe thead th {\n",
       "        text-align: right;\n",
       "    }\n",
       "</style>\n",
       "<table border=\"1\" class=\"dataframe\">\n",
       "  <thead>\n",
       "    <tr style=\"text-align: right;\">\n",
       "      <th></th>\n",
       "      <th>Edad</th>\n",
       "      <th>HorasLogeadas</th>\n",
       "      <th>HorasHabladas</th>\n",
       "      <th>ContactosEfectivosPromedio</th>\n",
       "      <th>RegistrosTerminados</th>\n",
       "      <th>Sexo_f</th>\n",
       "      <th>Sexo_m</th>\n",
       "      <th>NivelEducacion_em</th>\n",
       "      <th>NivelEducacion_sec</th>\n",
       "      <th>NivelEducacion_ts</th>\n",
       "      <th>NivelEducacion_un</th>\n",
       "      <th>EstadoCivil_c</th>\n",
       "      <th>EstadoCivil_s</th>\n",
       "      <th>NivelSocEco_abc1</th>\n",
       "      <th>NivelSocEco_c2</th>\n",
       "      <th>NivelSocEco_c3c4</th>\n",
       "      <th>NivelSocEco_e</th>\n",
       "      <th>NivelSocEco_fue</th>\n",
       "    </tr>\n",
       "  </thead>\n",
       "  <tbody>\n",
       "    <tr>\n",
       "      <th>0</th>\n",
       "      <td>32</td>\n",
       "      <td>151.1525</td>\n",
       "      <td>45.8525</td>\n",
       "      <td>192.25</td>\n",
       "      <td>591.75</td>\n",
       "      <td>0</td>\n",
       "      <td>1</td>\n",
       "      <td>0</td>\n",
       "      <td>0</td>\n",
       "      <td>0</td>\n",
       "      <td>1</td>\n",
       "      <td>0</td>\n",
       "      <td>1</td>\n",
       "      <td>0</td>\n",
       "      <td>0</td>\n",
       "      <td>1</td>\n",
       "      <td>0</td>\n",
       "      <td>0</td>\n",
       "    </tr>\n",
       "    <tr>\n",
       "      <th>1</th>\n",
       "      <td>24</td>\n",
       "      <td>71.1800</td>\n",
       "      <td>24.7600</td>\n",
       "      <td>1.00</td>\n",
       "      <td>501.00</td>\n",
       "      <td>0</td>\n",
       "      <td>1</td>\n",
       "      <td>1</td>\n",
       "      <td>0</td>\n",
       "      <td>0</td>\n",
       "      <td>0</td>\n",
       "      <td>0</td>\n",
       "      <td>1</td>\n",
       "      <td>0</td>\n",
       "      <td>0</td>\n",
       "      <td>1</td>\n",
       "      <td>0</td>\n",
       "      <td>0</td>\n",
       "    </tr>\n",
       "    <tr>\n",
       "      <th>2</th>\n",
       "      <td>29</td>\n",
       "      <td>120.5600</td>\n",
       "      <td>49.4500</td>\n",
       "      <td>156.00</td>\n",
       "      <td>993.00</td>\n",
       "      <td>0</td>\n",
       "      <td>1</td>\n",
       "      <td>1</td>\n",
       "      <td>0</td>\n",
       "      <td>0</td>\n",
       "      <td>0</td>\n",
       "      <td>1</td>\n",
       "      <td>0</td>\n",
       "      <td>0</td>\n",
       "      <td>0</td>\n",
       "      <td>1</td>\n",
       "      <td>0</td>\n",
       "      <td>0</td>\n",
       "    </tr>\n",
       "    <tr>\n",
       "      <th>3</th>\n",
       "      <td>48</td>\n",
       "      <td>90.8500</td>\n",
       "      <td>28.8500</td>\n",
       "      <td>442.00</td>\n",
       "      <td>569.00</td>\n",
       "      <td>1</td>\n",
       "      <td>0</td>\n",
       "      <td>1</td>\n",
       "      <td>0</td>\n",
       "      <td>0</td>\n",
       "      <td>0</td>\n",
       "      <td>1</td>\n",
       "      <td>0</td>\n",
       "      <td>0</td>\n",
       "      <td>0</td>\n",
       "      <td>0</td>\n",
       "      <td>1</td>\n",
       "      <td>0</td>\n",
       "    </tr>\n",
       "    <tr>\n",
       "      <th>4</th>\n",
       "      <td>25</td>\n",
       "      <td>190.1800</td>\n",
       "      <td>41.1600</td>\n",
       "      <td>0.00</td>\n",
       "      <td>0.00</td>\n",
       "      <td>0</td>\n",
       "      <td>1</td>\n",
       "      <td>0</td>\n",
       "      <td>0</td>\n",
       "      <td>0</td>\n",
       "      <td>1</td>\n",
       "      <td>0</td>\n",
       "      <td>1</td>\n",
       "      <td>0</td>\n",
       "      <td>0</td>\n",
       "      <td>1</td>\n",
       "      <td>0</td>\n",
       "      <td>0</td>\n",
       "    </tr>\n",
       "  </tbody>\n",
       "</table>\n",
       "</div>"
      ],
      "text/plain": [
       "   Edad  HorasLogeadas  HorasHabladas  ContactosEfectivosPromedio  \\\n",
       "0    32       151.1525        45.8525                      192.25   \n",
       "1    24        71.1800        24.7600                        1.00   \n",
       "2    29       120.5600        49.4500                      156.00   \n",
       "3    48        90.8500        28.8500                      442.00   \n",
       "4    25       190.1800        41.1600                        0.00   \n",
       "\n",
       "   RegistrosTerminados  Sexo_f  Sexo_m  NivelEducacion_em  NivelEducacion_sec  \\\n",
       "0               591.75       0       1                  0                   0   \n",
       "1               501.00       0       1                  1                   0   \n",
       "2               993.00       0       1                  1                   0   \n",
       "3               569.00       1       0                  1                   0   \n",
       "4                 0.00       0       1                  0                   0   \n",
       "\n",
       "   NivelEducacion_ts  NivelEducacion_un  EstadoCivil_c  EstadoCivil_s  \\\n",
       "0                  0                  1              0              1   \n",
       "1                  0                  0              0              1   \n",
       "2                  0                  0              1              0   \n",
       "3                  0                  0              1              0   \n",
       "4                  0                  1              0              1   \n",
       "\n",
       "   NivelSocEco_abc1  NivelSocEco_c2  NivelSocEco_c3c4  NivelSocEco_e  \\\n",
       "0                 0               0                 1              0   \n",
       "1                 0               0                 1              0   \n",
       "2                 0               0                 1              0   \n",
       "3                 0               0                 0              1   \n",
       "4                 0               0                 1              0   \n",
       "\n",
       "   NivelSocEco_fue  \n",
       "0                0  \n",
       "1                0  \n",
       "2                0  \n",
       "3                0  \n",
       "4                0  "
      ]
     },
     "execution_count": 20,
     "metadata": {},
     "output_type": "execute_result"
    }
   ],
   "source": [
    "X.head(5)"
   ]
  },
  {
   "cell_type": "code",
   "execution_count": 21,
   "metadata": {},
   "outputs": [
    {
     "name": "stdout",
     "output_type": "stream",
     "text": [
      "<class 'pandas.core.frame.DataFrame'>\n",
      "RangeIndex: 660 entries, 0 to 659\n",
      "Data columns (total 18 columns):\n",
      " #   Column                      Non-Null Count  Dtype  \n",
      "---  ------                      --------------  -----  \n",
      " 0   Edad                        660 non-null    int64  \n",
      " 1   HorasLogeadas               660 non-null    float64\n",
      " 2   HorasHabladas               660 non-null    float64\n",
      " 3   ContactosEfectivosPromedio  660 non-null    float64\n",
      " 4   RegistrosTerminados         660 non-null    float64\n",
      " 5   Sexo_f                      660 non-null    int64  \n",
      " 6   Sexo_m                      660 non-null    int64  \n",
      " 7   NivelEducacion_em           660 non-null    int64  \n",
      " 8   NivelEducacion_sec          660 non-null    int64  \n",
      " 9   NivelEducacion_ts           660 non-null    int64  \n",
      " 10  NivelEducacion_un           660 non-null    int64  \n",
      " 11  EstadoCivil_c               660 non-null    int64  \n",
      " 12  EstadoCivil_s               660 non-null    int64  \n",
      " 13  NivelSocEco_abc1            660 non-null    int64  \n",
      " 14  NivelSocEco_c2              660 non-null    int64  \n",
      " 15  NivelSocEco_c3c4            660 non-null    int64  \n",
      " 16  NivelSocEco_e               660 non-null    int64  \n",
      " 17  NivelSocEco_fue             660 non-null    int64  \n",
      "dtypes: float64(4), int64(14)\n",
      "memory usage: 92.9 KB\n"
     ]
    }
   ],
   "source": [
    "X.info()"
   ]
  },
  {
   "cell_type": "markdown",
   "metadata": {
    "id": "Mnn0n6f3CKKi"
   },
   "source": [
    "Codifique la variable de salida ProdMayorUbral, utilice: etiqueta __si__ codificada como 1, y etiqueta __no__ como 0."
   ]
  },
  {
   "cell_type": "code",
   "execution_count": 22,
   "metadata": {},
   "outputs": [],
   "source": [
    "from sklearn.preprocessing import LabelEncoder\n",
    "lb = LabelEncoder()\n",
    "df['ProdMayorUbral'] = lb.fit_transform(df['ProdMayorUbral'])\n",
    "y = df['ProdMayorUbral']"
   ]
  },
  {
   "cell_type": "code",
   "execution_count": 23,
   "metadata": {},
   "outputs": [
    {
     "data": {
      "text/plain": [
       "0    1\n",
       "1    0\n",
       "2    1\n",
       "3    0\n",
       "4    1\n",
       "Name: ProdMayorUbral, dtype: int64"
      ]
     },
     "execution_count": 23,
     "metadata": {},
     "output_type": "execute_result"
    }
   ],
   "source": [
    "y.head(5)"
   ]
  },
  {
   "cell_type": "markdown",
   "metadata": {
    "id": "O8eUEdBeCxGy"
   },
   "source": [
    "Genere una partición 70% para entrenamiento y el 30% restante para prueba"
   ]
  },
  {
   "cell_type": "code",
   "execution_count": 24,
   "metadata": {
    "id": "w7i-8qxwDEkf"
   },
   "outputs": [],
   "source": [
    "# split X and y into training and testing sets\n",
    "from sklearn.model_selection import train_test_split\n",
    "X_train, X_test, y_train, y_test = train_test_split(X, y, test_size = 0.3, random_state = 218)"
   ]
  },
  {
   "cell_type": "code",
   "execution_count": 25,
   "metadata": {},
   "outputs": [
    {
     "data": {
      "text/plain": [
       "((462, 18), (198, 18))"
      ]
     },
     "execution_count": 25,
     "metadata": {},
     "output_type": "execute_result"
    }
   ],
   "source": [
    "# check the shape of X_train and X_test\n",
    "X_train.shape, X_test.shape"
   ]
  },
  {
   "cell_type": "code",
   "execution_count": 26,
   "metadata": {},
   "outputs": [
    {
     "data": {
      "text/html": [
       "<div>\n",
       "<style scoped>\n",
       "    .dataframe tbody tr th:only-of-type {\n",
       "        vertical-align: middle;\n",
       "    }\n",
       "\n",
       "    .dataframe tbody tr th {\n",
       "        vertical-align: top;\n",
       "    }\n",
       "\n",
       "    .dataframe thead th {\n",
       "        text-align: right;\n",
       "    }\n",
       "</style>\n",
       "<table border=\"1\" class=\"dataframe\">\n",
       "  <thead>\n",
       "    <tr style=\"text-align: right;\">\n",
       "      <th></th>\n",
       "      <th>Edad</th>\n",
       "      <th>HorasLogeadas</th>\n",
       "      <th>HorasHabladas</th>\n",
       "      <th>ContactosEfectivosPromedio</th>\n",
       "      <th>RegistrosTerminados</th>\n",
       "      <th>Sexo_f</th>\n",
       "      <th>Sexo_m</th>\n",
       "      <th>NivelEducacion_em</th>\n",
       "      <th>NivelEducacion_sec</th>\n",
       "      <th>NivelEducacion_ts</th>\n",
       "      <th>NivelEducacion_un</th>\n",
       "      <th>EstadoCivil_c</th>\n",
       "      <th>EstadoCivil_s</th>\n",
       "      <th>NivelSocEco_abc1</th>\n",
       "      <th>NivelSocEco_c2</th>\n",
       "      <th>NivelSocEco_c3c4</th>\n",
       "      <th>NivelSocEco_e</th>\n",
       "      <th>NivelSocEco_fue</th>\n",
       "    </tr>\n",
       "  </thead>\n",
       "  <tbody>\n",
       "    <tr>\n",
       "      <th>563</th>\n",
       "      <td>36</td>\n",
       "      <td>14.496286</td>\n",
       "      <td>2.922143</td>\n",
       "      <td>30.142857</td>\n",
       "      <td>48.428571</td>\n",
       "      <td>0</td>\n",
       "      <td>1</td>\n",
       "      <td>1</td>\n",
       "      <td>0</td>\n",
       "      <td>0</td>\n",
       "      <td>0</td>\n",
       "      <td>1</td>\n",
       "      <td>0</td>\n",
       "      <td>0</td>\n",
       "      <td>0</td>\n",
       "      <td>1</td>\n",
       "      <td>0</td>\n",
       "      <td>0</td>\n",
       "    </tr>\n",
       "    <tr>\n",
       "      <th>102</th>\n",
       "      <td>28</td>\n",
       "      <td>64.100000</td>\n",
       "      <td>12.475000</td>\n",
       "      <td>74.000000</td>\n",
       "      <td>139.500000</td>\n",
       "      <td>1</td>\n",
       "      <td>0</td>\n",
       "      <td>0</td>\n",
       "      <td>0</td>\n",
       "      <td>0</td>\n",
       "      <td>1</td>\n",
       "      <td>0</td>\n",
       "      <td>1</td>\n",
       "      <td>0</td>\n",
       "      <td>0</td>\n",
       "      <td>1</td>\n",
       "      <td>0</td>\n",
       "      <td>0</td>\n",
       "    </tr>\n",
       "    <tr>\n",
       "      <th>158</th>\n",
       "      <td>27</td>\n",
       "      <td>38.000000</td>\n",
       "      <td>10.400000</td>\n",
       "      <td>0.000000</td>\n",
       "      <td>0.000000</td>\n",
       "      <td>1</td>\n",
       "      <td>0</td>\n",
       "      <td>1</td>\n",
       "      <td>0</td>\n",
       "      <td>0</td>\n",
       "      <td>0</td>\n",
       "      <td>0</td>\n",
       "      <td>1</td>\n",
       "      <td>0</td>\n",
       "      <td>0</td>\n",
       "      <td>1</td>\n",
       "      <td>0</td>\n",
       "      <td>0</td>\n",
       "    </tr>\n",
       "    <tr>\n",
       "      <th>55</th>\n",
       "      <td>21</td>\n",
       "      <td>58.830000</td>\n",
       "      <td>21.440000</td>\n",
       "      <td>150.000000</td>\n",
       "      <td>522.000000</td>\n",
       "      <td>1</td>\n",
       "      <td>0</td>\n",
       "      <td>1</td>\n",
       "      <td>0</td>\n",
       "      <td>0</td>\n",
       "      <td>0</td>\n",
       "      <td>0</td>\n",
       "      <td>1</td>\n",
       "      <td>0</td>\n",
       "      <td>1</td>\n",
       "      <td>0</td>\n",
       "      <td>0</td>\n",
       "      <td>0</td>\n",
       "    </tr>\n",
       "    <tr>\n",
       "      <th>85</th>\n",
       "      <td>22</td>\n",
       "      <td>58.000000</td>\n",
       "      <td>13.870000</td>\n",
       "      <td>55.000000</td>\n",
       "      <td>421.000000</td>\n",
       "      <td>0</td>\n",
       "      <td>1</td>\n",
       "      <td>1</td>\n",
       "      <td>0</td>\n",
       "      <td>0</td>\n",
       "      <td>0</td>\n",
       "      <td>0</td>\n",
       "      <td>1</td>\n",
       "      <td>0</td>\n",
       "      <td>1</td>\n",
       "      <td>0</td>\n",
       "      <td>0</td>\n",
       "      <td>0</td>\n",
       "    </tr>\n",
       "    <tr>\n",
       "      <th>...</th>\n",
       "      <td>...</td>\n",
       "      <td>...</td>\n",
       "      <td>...</td>\n",
       "      <td>...</td>\n",
       "      <td>...</td>\n",
       "      <td>...</td>\n",
       "      <td>...</td>\n",
       "      <td>...</td>\n",
       "      <td>...</td>\n",
       "      <td>...</td>\n",
       "      <td>...</td>\n",
       "      <td>...</td>\n",
       "      <td>...</td>\n",
       "      <td>...</td>\n",
       "      <td>...</td>\n",
       "      <td>...</td>\n",
       "      <td>...</td>\n",
       "      <td>...</td>\n",
       "    </tr>\n",
       "    <tr>\n",
       "      <th>100</th>\n",
       "      <td>29</td>\n",
       "      <td>66.275000</td>\n",
       "      <td>10.080000</td>\n",
       "      <td>61.500000</td>\n",
       "      <td>142.500000</td>\n",
       "      <td>1</td>\n",
       "      <td>0</td>\n",
       "      <td>1</td>\n",
       "      <td>0</td>\n",
       "      <td>0</td>\n",
       "      <td>0</td>\n",
       "      <td>0</td>\n",
       "      <td>1</td>\n",
       "      <td>0</td>\n",
       "      <td>0</td>\n",
       "      <td>1</td>\n",
       "      <td>0</td>\n",
       "      <td>0</td>\n",
       "    </tr>\n",
       "    <tr>\n",
       "      <th>440</th>\n",
       "      <td>37</td>\n",
       "      <td>120.836667</td>\n",
       "      <td>52.815000</td>\n",
       "      <td>269.500000</td>\n",
       "      <td>542.500000</td>\n",
       "      <td>0</td>\n",
       "      <td>1</td>\n",
       "      <td>1</td>\n",
       "      <td>0</td>\n",
       "      <td>0</td>\n",
       "      <td>0</td>\n",
       "      <td>0</td>\n",
       "      <td>1</td>\n",
       "      <td>0</td>\n",
       "      <td>0</td>\n",
       "      <td>1</td>\n",
       "      <td>0</td>\n",
       "      <td>0</td>\n",
       "    </tr>\n",
       "    <tr>\n",
       "      <th>398</th>\n",
       "      <td>41</td>\n",
       "      <td>185.323000</td>\n",
       "      <td>45.380000</td>\n",
       "      <td>334.700000</td>\n",
       "      <td>645.500000</td>\n",
       "      <td>1</td>\n",
       "      <td>0</td>\n",
       "      <td>1</td>\n",
       "      <td>0</td>\n",
       "      <td>0</td>\n",
       "      <td>0</td>\n",
       "      <td>0</td>\n",
       "      <td>1</td>\n",
       "      <td>0</td>\n",
       "      <td>0</td>\n",
       "      <td>1</td>\n",
       "      <td>0</td>\n",
       "      <td>0</td>\n",
       "    </tr>\n",
       "    <tr>\n",
       "      <th>358</th>\n",
       "      <td>23</td>\n",
       "      <td>157.459500</td>\n",
       "      <td>32.657750</td>\n",
       "      <td>100.500000</td>\n",
       "      <td>184.250000</td>\n",
       "      <td>1</td>\n",
       "      <td>0</td>\n",
       "      <td>1</td>\n",
       "      <td>0</td>\n",
       "      <td>0</td>\n",
       "      <td>0</td>\n",
       "      <td>0</td>\n",
       "      <td>1</td>\n",
       "      <td>0</td>\n",
       "      <td>0</td>\n",
       "      <td>1</td>\n",
       "      <td>0</td>\n",
       "      <td>0</td>\n",
       "    </tr>\n",
       "    <tr>\n",
       "      <th>589</th>\n",
       "      <td>28</td>\n",
       "      <td>187.772100</td>\n",
       "      <td>67.196700</td>\n",
       "      <td>499.200000</td>\n",
       "      <td>713.800000</td>\n",
       "      <td>0</td>\n",
       "      <td>1</td>\n",
       "      <td>0</td>\n",
       "      <td>0</td>\n",
       "      <td>1</td>\n",
       "      <td>0</td>\n",
       "      <td>0</td>\n",
       "      <td>1</td>\n",
       "      <td>0</td>\n",
       "      <td>0</td>\n",
       "      <td>0</td>\n",
       "      <td>1</td>\n",
       "      <td>0</td>\n",
       "    </tr>\n",
       "  </tbody>\n",
       "</table>\n",
       "<p>462 rows × 18 columns</p>\n",
       "</div>"
      ],
      "text/plain": [
       "     Edad  HorasLogeadas  HorasHabladas  ContactosEfectivosPromedio  \\\n",
       "563    36      14.496286       2.922143                   30.142857   \n",
       "102    28      64.100000      12.475000                   74.000000   \n",
       "158    27      38.000000      10.400000                    0.000000   \n",
       "55     21      58.830000      21.440000                  150.000000   \n",
       "85     22      58.000000      13.870000                   55.000000   \n",
       "..    ...            ...            ...                         ...   \n",
       "100    29      66.275000      10.080000                   61.500000   \n",
       "440    37     120.836667      52.815000                  269.500000   \n",
       "398    41     185.323000      45.380000                  334.700000   \n",
       "358    23     157.459500      32.657750                  100.500000   \n",
       "589    28     187.772100      67.196700                  499.200000   \n",
       "\n",
       "     RegistrosTerminados  Sexo_f  Sexo_m  NivelEducacion_em  \\\n",
       "563            48.428571       0       1                  1   \n",
       "102           139.500000       1       0                  0   \n",
       "158             0.000000       1       0                  1   \n",
       "55            522.000000       1       0                  1   \n",
       "85            421.000000       0       1                  1   \n",
       "..                   ...     ...     ...                ...   \n",
       "100           142.500000       1       0                  1   \n",
       "440           542.500000       0       1                  1   \n",
       "398           645.500000       1       0                  1   \n",
       "358           184.250000       1       0                  1   \n",
       "589           713.800000       0       1                  0   \n",
       "\n",
       "     NivelEducacion_sec  NivelEducacion_ts  NivelEducacion_un  EstadoCivil_c  \\\n",
       "563                   0                  0                  0              1   \n",
       "102                   0                  0                  1              0   \n",
       "158                   0                  0                  0              0   \n",
       "55                    0                  0                  0              0   \n",
       "85                    0                  0                  0              0   \n",
       "..                  ...                ...                ...            ...   \n",
       "100                   0                  0                  0              0   \n",
       "440                   0                  0                  0              0   \n",
       "398                   0                  0                  0              0   \n",
       "358                   0                  0                  0              0   \n",
       "589                   0                  1                  0              0   \n",
       "\n",
       "     EstadoCivil_s  NivelSocEco_abc1  NivelSocEco_c2  NivelSocEco_c3c4  \\\n",
       "563              0                 0               0                 1   \n",
       "102              1                 0               0                 1   \n",
       "158              1                 0               0                 1   \n",
       "55               1                 0               1                 0   \n",
       "85               1                 0               1                 0   \n",
       "..             ...               ...             ...               ...   \n",
       "100              1                 0               0                 1   \n",
       "440              1                 0               0                 1   \n",
       "398              1                 0               0                 1   \n",
       "358              1                 0               0                 1   \n",
       "589              1                 0               0                 0   \n",
       "\n",
       "     NivelSocEco_e  NivelSocEco_fue  \n",
       "563              0                0  \n",
       "102              0                0  \n",
       "158              0                0  \n",
       "55               0                0  \n",
       "85               0                0  \n",
       "..             ...              ...  \n",
       "100              0                0  \n",
       "440              0                0  \n",
       "398              0                0  \n",
       "358              0                0  \n",
       "589              1                0  \n",
       "\n",
       "[462 rows x 18 columns]"
      ]
     },
     "execution_count": 26,
     "metadata": {},
     "output_type": "execute_result"
    }
   ],
   "source": [
    "X_train"
   ]
  },
  {
   "cell_type": "code",
   "execution_count": 27,
   "metadata": {},
   "outputs": [],
   "source": [
    "from sklearn.preprocessing import MinMaxScaler\n",
    "\n",
    "scaling = MinMaxScaler()\n",
    "X_train = scaling.fit_transform(X_train)\n",
    "X_test = scaling.transform(X_test)"
   ]
  },
  {
   "cell_type": "code",
   "execution_count": 28,
   "metadata": {},
   "outputs": [],
   "source": [
    "X_train = pd.DataFrame(X_train)"
   ]
  },
  {
   "cell_type": "code",
   "execution_count": 29,
   "metadata": {},
   "outputs": [],
   "source": [
    "X_test = pd.DataFrame(X_test)"
   ]
  },
  {
   "cell_type": "code",
   "execution_count": 30,
   "metadata": {},
   "outputs": [
    {
     "data": {
      "text/html": [
       "<div>\n",
       "<style scoped>\n",
       "    .dataframe tbody tr th:only-of-type {\n",
       "        vertical-align: middle;\n",
       "    }\n",
       "\n",
       "    .dataframe tbody tr th {\n",
       "        vertical-align: top;\n",
       "    }\n",
       "\n",
       "    .dataframe thead th {\n",
       "        text-align: right;\n",
       "    }\n",
       "</style>\n",
       "<table border=\"1\" class=\"dataframe\">\n",
       "  <thead>\n",
       "    <tr style=\"text-align: right;\">\n",
       "      <th></th>\n",
       "      <th>0</th>\n",
       "      <th>1</th>\n",
       "      <th>2</th>\n",
       "      <th>3</th>\n",
       "      <th>4</th>\n",
       "      <th>5</th>\n",
       "      <th>6</th>\n",
       "      <th>7</th>\n",
       "      <th>8</th>\n",
       "      <th>9</th>\n",
       "      <th>10</th>\n",
       "      <th>11</th>\n",
       "      <th>12</th>\n",
       "      <th>13</th>\n",
       "      <th>14</th>\n",
       "      <th>15</th>\n",
       "      <th>16</th>\n",
       "      <th>17</th>\n",
       "    </tr>\n",
       "  </thead>\n",
       "  <tbody>\n",
       "    <tr>\n",
       "      <th>0</th>\n",
       "      <td>0.386364</td>\n",
       "      <td>0.055479</td>\n",
       "      <td>0.023335</td>\n",
       "      <td>0.024789</td>\n",
       "      <td>0.025620</td>\n",
       "      <td>0.0</td>\n",
       "      <td>1.0</td>\n",
       "      <td>1.0</td>\n",
       "      <td>0.0</td>\n",
       "      <td>0.0</td>\n",
       "      <td>0.0</td>\n",
       "      <td>1.0</td>\n",
       "      <td>0.0</td>\n",
       "      <td>0.0</td>\n",
       "      <td>0.0</td>\n",
       "      <td>1.0</td>\n",
       "      <td>0.0</td>\n",
       "      <td>0.0</td>\n",
       "    </tr>\n",
       "    <tr>\n",
       "      <th>1</th>\n",
       "      <td>0.204545</td>\n",
       "      <td>0.247570</td>\n",
       "      <td>0.102324</td>\n",
       "      <td>0.060855</td>\n",
       "      <td>0.073800</td>\n",
       "      <td>1.0</td>\n",
       "      <td>0.0</td>\n",
       "      <td>0.0</td>\n",
       "      <td>0.0</td>\n",
       "      <td>0.0</td>\n",
       "      <td>1.0</td>\n",
       "      <td>0.0</td>\n",
       "      <td>1.0</td>\n",
       "      <td>0.0</td>\n",
       "      <td>0.0</td>\n",
       "      <td>1.0</td>\n",
       "      <td>0.0</td>\n",
       "      <td>0.0</td>\n",
       "    </tr>\n",
       "    <tr>\n",
       "      <th>2</th>\n",
       "      <td>0.181818</td>\n",
       "      <td>0.146497</td>\n",
       "      <td>0.085166</td>\n",
       "      <td>0.000000</td>\n",
       "      <td>0.000000</td>\n",
       "      <td>1.0</td>\n",
       "      <td>0.0</td>\n",
       "      <td>1.0</td>\n",
       "      <td>0.0</td>\n",
       "      <td>0.0</td>\n",
       "      <td>0.0</td>\n",
       "      <td>0.0</td>\n",
       "      <td>1.0</td>\n",
       "      <td>0.0</td>\n",
       "      <td>0.0</td>\n",
       "      <td>1.0</td>\n",
       "      <td>0.0</td>\n",
       "      <td>0.0</td>\n",
       "    </tr>\n",
       "    <tr>\n",
       "      <th>3</th>\n",
       "      <td>0.045455</td>\n",
       "      <td>0.227162</td>\n",
       "      <td>0.176451</td>\n",
       "      <td>0.123355</td>\n",
       "      <td>0.276154</td>\n",
       "      <td>1.0</td>\n",
       "      <td>0.0</td>\n",
       "      <td>1.0</td>\n",
       "      <td>0.0</td>\n",
       "      <td>0.0</td>\n",
       "      <td>0.0</td>\n",
       "      <td>0.0</td>\n",
       "      <td>1.0</td>\n",
       "      <td>0.0</td>\n",
       "      <td>1.0</td>\n",
       "      <td>0.0</td>\n",
       "      <td>0.0</td>\n",
       "      <td>0.0</td>\n",
       "    </tr>\n",
       "    <tr>\n",
       "      <th>4</th>\n",
       "      <td>0.068182</td>\n",
       "      <td>0.223948</td>\n",
       "      <td>0.113858</td>\n",
       "      <td>0.045230</td>\n",
       "      <td>0.222722</td>\n",
       "      <td>0.0</td>\n",
       "      <td>1.0</td>\n",
       "      <td>1.0</td>\n",
       "      <td>0.0</td>\n",
       "      <td>0.0</td>\n",
       "      <td>0.0</td>\n",
       "      <td>0.0</td>\n",
       "      <td>1.0</td>\n",
       "      <td>0.0</td>\n",
       "      <td>1.0</td>\n",
       "      <td>0.0</td>\n",
       "      <td>0.0</td>\n",
       "      <td>0.0</td>\n",
       "    </tr>\n",
       "  </tbody>\n",
       "</table>\n",
       "</div>"
      ],
      "text/plain": [
       "         0         1         2         3         4    5    6    7    8    9   \\\n",
       "0  0.386364  0.055479  0.023335  0.024789  0.025620  0.0  1.0  1.0  0.0  0.0   \n",
       "1  0.204545  0.247570  0.102324  0.060855  0.073800  1.0  0.0  0.0  0.0  0.0   \n",
       "2  0.181818  0.146497  0.085166  0.000000  0.000000  1.0  0.0  1.0  0.0  0.0   \n",
       "3  0.045455  0.227162  0.176451  0.123355  0.276154  1.0  0.0  1.0  0.0  0.0   \n",
       "4  0.068182  0.223948  0.113858  0.045230  0.222722  0.0  1.0  1.0  0.0  0.0   \n",
       "\n",
       "    10   11   12   13   14   15   16   17  \n",
       "0  0.0  1.0  0.0  0.0  0.0  1.0  0.0  0.0  \n",
       "1  1.0  0.0  1.0  0.0  0.0  1.0  0.0  0.0  \n",
       "2  0.0  0.0  1.0  0.0  0.0  1.0  0.0  0.0  \n",
       "3  0.0  0.0  1.0  0.0  1.0  0.0  0.0  0.0  \n",
       "4  0.0  0.0  1.0  0.0  1.0  0.0  0.0  0.0  "
      ]
     },
     "execution_count": 30,
     "metadata": {},
     "output_type": "execute_result"
    }
   ],
   "source": [
    "X_train.head()"
   ]
  },
  {
   "cell_type": "code",
   "execution_count": 31,
   "metadata": {},
   "outputs": [],
   "source": [
    "col_names = X.columns\n",
    "X_train.columns = X.columns"
   ]
  },
  {
   "cell_type": "code",
   "execution_count": 32,
   "metadata": {},
   "outputs": [
    {
     "data": {
      "text/html": [
       "<div>\n",
       "<style scoped>\n",
       "    .dataframe tbody tr th:only-of-type {\n",
       "        vertical-align: middle;\n",
       "    }\n",
       "\n",
       "    .dataframe tbody tr th {\n",
       "        vertical-align: top;\n",
       "    }\n",
       "\n",
       "    .dataframe thead th {\n",
       "        text-align: right;\n",
       "    }\n",
       "</style>\n",
       "<table border=\"1\" class=\"dataframe\">\n",
       "  <thead>\n",
       "    <tr style=\"text-align: right;\">\n",
       "      <th></th>\n",
       "      <th>Edad</th>\n",
       "      <th>HorasLogeadas</th>\n",
       "      <th>HorasHabladas</th>\n",
       "      <th>ContactosEfectivosPromedio</th>\n",
       "      <th>RegistrosTerminados</th>\n",
       "      <th>Sexo_f</th>\n",
       "      <th>Sexo_m</th>\n",
       "      <th>NivelEducacion_em</th>\n",
       "      <th>NivelEducacion_sec</th>\n",
       "      <th>NivelEducacion_ts</th>\n",
       "      <th>NivelEducacion_un</th>\n",
       "      <th>EstadoCivil_c</th>\n",
       "      <th>EstadoCivil_s</th>\n",
       "      <th>NivelSocEco_abc1</th>\n",
       "      <th>NivelSocEco_c2</th>\n",
       "      <th>NivelSocEco_c3c4</th>\n",
       "      <th>NivelSocEco_e</th>\n",
       "      <th>NivelSocEco_fue</th>\n",
       "    </tr>\n",
       "  </thead>\n",
       "  <tbody>\n",
       "    <tr>\n",
       "      <th>0</th>\n",
       "      <td>0.386364</td>\n",
       "      <td>0.055479</td>\n",
       "      <td>0.023335</td>\n",
       "      <td>0.024789</td>\n",
       "      <td>0.025620</td>\n",
       "      <td>0.0</td>\n",
       "      <td>1.0</td>\n",
       "      <td>1.0</td>\n",
       "      <td>0.0</td>\n",
       "      <td>0.0</td>\n",
       "      <td>0.0</td>\n",
       "      <td>1.0</td>\n",
       "      <td>0.0</td>\n",
       "      <td>0.0</td>\n",
       "      <td>0.0</td>\n",
       "      <td>1.0</td>\n",
       "      <td>0.0</td>\n",
       "      <td>0.0</td>\n",
       "    </tr>\n",
       "    <tr>\n",
       "      <th>1</th>\n",
       "      <td>0.204545</td>\n",
       "      <td>0.247570</td>\n",
       "      <td>0.102324</td>\n",
       "      <td>0.060855</td>\n",
       "      <td>0.073800</td>\n",
       "      <td>1.0</td>\n",
       "      <td>0.0</td>\n",
       "      <td>0.0</td>\n",
       "      <td>0.0</td>\n",
       "      <td>0.0</td>\n",
       "      <td>1.0</td>\n",
       "      <td>0.0</td>\n",
       "      <td>1.0</td>\n",
       "      <td>0.0</td>\n",
       "      <td>0.0</td>\n",
       "      <td>1.0</td>\n",
       "      <td>0.0</td>\n",
       "      <td>0.0</td>\n",
       "    </tr>\n",
       "    <tr>\n",
       "      <th>2</th>\n",
       "      <td>0.181818</td>\n",
       "      <td>0.146497</td>\n",
       "      <td>0.085166</td>\n",
       "      <td>0.000000</td>\n",
       "      <td>0.000000</td>\n",
       "      <td>1.0</td>\n",
       "      <td>0.0</td>\n",
       "      <td>1.0</td>\n",
       "      <td>0.0</td>\n",
       "      <td>0.0</td>\n",
       "      <td>0.0</td>\n",
       "      <td>0.0</td>\n",
       "      <td>1.0</td>\n",
       "      <td>0.0</td>\n",
       "      <td>0.0</td>\n",
       "      <td>1.0</td>\n",
       "      <td>0.0</td>\n",
       "      <td>0.0</td>\n",
       "    </tr>\n",
       "    <tr>\n",
       "      <th>3</th>\n",
       "      <td>0.045455</td>\n",
       "      <td>0.227162</td>\n",
       "      <td>0.176451</td>\n",
       "      <td>0.123355</td>\n",
       "      <td>0.276154</td>\n",
       "      <td>1.0</td>\n",
       "      <td>0.0</td>\n",
       "      <td>1.0</td>\n",
       "      <td>0.0</td>\n",
       "      <td>0.0</td>\n",
       "      <td>0.0</td>\n",
       "      <td>0.0</td>\n",
       "      <td>1.0</td>\n",
       "      <td>0.0</td>\n",
       "      <td>1.0</td>\n",
       "      <td>0.0</td>\n",
       "      <td>0.0</td>\n",
       "      <td>0.0</td>\n",
       "    </tr>\n",
       "    <tr>\n",
       "      <th>4</th>\n",
       "      <td>0.068182</td>\n",
       "      <td>0.223948</td>\n",
       "      <td>0.113858</td>\n",
       "      <td>0.045230</td>\n",
       "      <td>0.222722</td>\n",
       "      <td>0.0</td>\n",
       "      <td>1.0</td>\n",
       "      <td>1.0</td>\n",
       "      <td>0.0</td>\n",
       "      <td>0.0</td>\n",
       "      <td>0.0</td>\n",
       "      <td>0.0</td>\n",
       "      <td>1.0</td>\n",
       "      <td>0.0</td>\n",
       "      <td>1.0</td>\n",
       "      <td>0.0</td>\n",
       "      <td>0.0</td>\n",
       "      <td>0.0</td>\n",
       "    </tr>\n",
       "  </tbody>\n",
       "</table>\n",
       "</div>"
      ],
      "text/plain": [
       "       Edad  HorasLogeadas  HorasHabladas  ContactosEfectivosPromedio  \\\n",
       "0  0.386364       0.055479       0.023335                    0.024789   \n",
       "1  0.204545       0.247570       0.102324                    0.060855   \n",
       "2  0.181818       0.146497       0.085166                    0.000000   \n",
       "3  0.045455       0.227162       0.176451                    0.123355   \n",
       "4  0.068182       0.223948       0.113858                    0.045230   \n",
       "\n",
       "   RegistrosTerminados  Sexo_f  Sexo_m  NivelEducacion_em  NivelEducacion_sec  \\\n",
       "0             0.025620     0.0     1.0                1.0                 0.0   \n",
       "1             0.073800     1.0     0.0                0.0                 0.0   \n",
       "2             0.000000     1.0     0.0                1.0                 0.0   \n",
       "3             0.276154     1.0     0.0                1.0                 0.0   \n",
       "4             0.222722     0.0     1.0                1.0                 0.0   \n",
       "\n",
       "   NivelEducacion_ts  NivelEducacion_un  EstadoCivil_c  EstadoCivil_s  \\\n",
       "0                0.0                0.0            1.0            0.0   \n",
       "1                0.0                1.0            0.0            1.0   \n",
       "2                0.0                0.0            0.0            1.0   \n",
       "3                0.0                0.0            0.0            1.0   \n",
       "4                0.0                0.0            0.0            1.0   \n",
       "\n",
       "   NivelSocEco_abc1  NivelSocEco_c2  NivelSocEco_c3c4  NivelSocEco_e  \\\n",
       "0               0.0             0.0               1.0            0.0   \n",
       "1               0.0             0.0               1.0            0.0   \n",
       "2               0.0             0.0               1.0            0.0   \n",
       "3               0.0             1.0               0.0            0.0   \n",
       "4               0.0             1.0               0.0            0.0   \n",
       "\n",
       "   NivelSocEco_fue  \n",
       "0              0.0  \n",
       "1              0.0  \n",
       "2              0.0  \n",
       "3              0.0  \n",
       "4              0.0  "
      ]
     },
     "execution_count": 32,
     "metadata": {},
     "output_type": "execute_result"
    }
   ],
   "source": [
    "X_train.head()"
   ]
  },
  {
   "cell_type": "markdown",
   "metadata": {
    "id": "HGoajCnpklbS"
   },
   "source": [
    "## Pregunta 1\n",
    "Entrene un clasificador naive Bayes usando sólo los atributos socio-demográficos. Luego evalúe en el conjunto de prueba generando el classification report."
   ]
  },
  {
   "cell_type": "markdown",
   "metadata": {
    "id": "dys8WeiYklbT"
   },
   "source": [
    "### Respuesta:"
   ]
  },
  {
   "cell_type": "code",
   "execution_count": 33,
   "metadata": {},
   "outputs": [],
   "source": [
    "X_train1 = X_train.iloc[:,[0,5,6,7,8,9,10,11,12,13,14,15,16,17]].copy()\n",
    "X_test1 = X_test.iloc[:,[0,5,6,7,8,9,10,11,12,13,14,15,16,17]].copy()"
   ]
  },
  {
   "cell_type": "code",
   "execution_count": 34,
   "metadata": {},
   "outputs": [
    {
     "data": {
      "text/html": [
       "<div>\n",
       "<style scoped>\n",
       "    .dataframe tbody tr th:only-of-type {\n",
       "        vertical-align: middle;\n",
       "    }\n",
       "\n",
       "    .dataframe tbody tr th {\n",
       "        vertical-align: top;\n",
       "    }\n",
       "\n",
       "    .dataframe thead th {\n",
       "        text-align: right;\n",
       "    }\n",
       "</style>\n",
       "<table border=\"1\" class=\"dataframe\">\n",
       "  <thead>\n",
       "    <tr style=\"text-align: right;\">\n",
       "      <th></th>\n",
       "      <th>Edad</th>\n",
       "      <th>Sexo_f</th>\n",
       "      <th>Sexo_m</th>\n",
       "      <th>NivelEducacion_em</th>\n",
       "      <th>NivelEducacion_sec</th>\n",
       "      <th>NivelEducacion_ts</th>\n",
       "      <th>NivelEducacion_un</th>\n",
       "      <th>EstadoCivil_c</th>\n",
       "      <th>EstadoCivil_s</th>\n",
       "      <th>NivelSocEco_abc1</th>\n",
       "      <th>NivelSocEco_c2</th>\n",
       "      <th>NivelSocEco_c3c4</th>\n",
       "      <th>NivelSocEco_e</th>\n",
       "      <th>NivelSocEco_fue</th>\n",
       "    </tr>\n",
       "  </thead>\n",
       "  <tbody>\n",
       "    <tr>\n",
       "      <th>0</th>\n",
       "      <td>0.386364</td>\n",
       "      <td>0.0</td>\n",
       "      <td>1.0</td>\n",
       "      <td>1.0</td>\n",
       "      <td>0.0</td>\n",
       "      <td>0.0</td>\n",
       "      <td>0.0</td>\n",
       "      <td>1.0</td>\n",
       "      <td>0.0</td>\n",
       "      <td>0.0</td>\n",
       "      <td>0.0</td>\n",
       "      <td>1.0</td>\n",
       "      <td>0.0</td>\n",
       "      <td>0.0</td>\n",
       "    </tr>\n",
       "    <tr>\n",
       "      <th>1</th>\n",
       "      <td>0.204545</td>\n",
       "      <td>1.0</td>\n",
       "      <td>0.0</td>\n",
       "      <td>0.0</td>\n",
       "      <td>0.0</td>\n",
       "      <td>0.0</td>\n",
       "      <td>1.0</td>\n",
       "      <td>0.0</td>\n",
       "      <td>1.0</td>\n",
       "      <td>0.0</td>\n",
       "      <td>0.0</td>\n",
       "      <td>1.0</td>\n",
       "      <td>0.0</td>\n",
       "      <td>0.0</td>\n",
       "    </tr>\n",
       "    <tr>\n",
       "      <th>2</th>\n",
       "      <td>0.181818</td>\n",
       "      <td>1.0</td>\n",
       "      <td>0.0</td>\n",
       "      <td>1.0</td>\n",
       "      <td>0.0</td>\n",
       "      <td>0.0</td>\n",
       "      <td>0.0</td>\n",
       "      <td>0.0</td>\n",
       "      <td>1.0</td>\n",
       "      <td>0.0</td>\n",
       "      <td>0.0</td>\n",
       "      <td>1.0</td>\n",
       "      <td>0.0</td>\n",
       "      <td>0.0</td>\n",
       "    </tr>\n",
       "    <tr>\n",
       "      <th>3</th>\n",
       "      <td>0.045455</td>\n",
       "      <td>1.0</td>\n",
       "      <td>0.0</td>\n",
       "      <td>1.0</td>\n",
       "      <td>0.0</td>\n",
       "      <td>0.0</td>\n",
       "      <td>0.0</td>\n",
       "      <td>0.0</td>\n",
       "      <td>1.0</td>\n",
       "      <td>0.0</td>\n",
       "      <td>1.0</td>\n",
       "      <td>0.0</td>\n",
       "      <td>0.0</td>\n",
       "      <td>0.0</td>\n",
       "    </tr>\n",
       "    <tr>\n",
       "      <th>4</th>\n",
       "      <td>0.068182</td>\n",
       "      <td>0.0</td>\n",
       "      <td>1.0</td>\n",
       "      <td>1.0</td>\n",
       "      <td>0.0</td>\n",
       "      <td>0.0</td>\n",
       "      <td>0.0</td>\n",
       "      <td>0.0</td>\n",
       "      <td>1.0</td>\n",
       "      <td>0.0</td>\n",
       "      <td>1.0</td>\n",
       "      <td>0.0</td>\n",
       "      <td>0.0</td>\n",
       "      <td>0.0</td>\n",
       "    </tr>\n",
       "    <tr>\n",
       "      <th>...</th>\n",
       "      <td>...</td>\n",
       "      <td>...</td>\n",
       "      <td>...</td>\n",
       "      <td>...</td>\n",
       "      <td>...</td>\n",
       "      <td>...</td>\n",
       "      <td>...</td>\n",
       "      <td>...</td>\n",
       "      <td>...</td>\n",
       "      <td>...</td>\n",
       "      <td>...</td>\n",
       "      <td>...</td>\n",
       "      <td>...</td>\n",
       "      <td>...</td>\n",
       "    </tr>\n",
       "    <tr>\n",
       "      <th>457</th>\n",
       "      <td>0.227273</td>\n",
       "      <td>1.0</td>\n",
       "      <td>0.0</td>\n",
       "      <td>1.0</td>\n",
       "      <td>0.0</td>\n",
       "      <td>0.0</td>\n",
       "      <td>0.0</td>\n",
       "      <td>0.0</td>\n",
       "      <td>1.0</td>\n",
       "      <td>0.0</td>\n",
       "      <td>0.0</td>\n",
       "      <td>1.0</td>\n",
       "      <td>0.0</td>\n",
       "      <td>0.0</td>\n",
       "    </tr>\n",
       "    <tr>\n",
       "      <th>458</th>\n",
       "      <td>0.409091</td>\n",
       "      <td>0.0</td>\n",
       "      <td>1.0</td>\n",
       "      <td>1.0</td>\n",
       "      <td>0.0</td>\n",
       "      <td>0.0</td>\n",
       "      <td>0.0</td>\n",
       "      <td>0.0</td>\n",
       "      <td>1.0</td>\n",
       "      <td>0.0</td>\n",
       "      <td>0.0</td>\n",
       "      <td>1.0</td>\n",
       "      <td>0.0</td>\n",
       "      <td>0.0</td>\n",
       "    </tr>\n",
       "    <tr>\n",
       "      <th>459</th>\n",
       "      <td>0.500000</td>\n",
       "      <td>1.0</td>\n",
       "      <td>0.0</td>\n",
       "      <td>1.0</td>\n",
       "      <td>0.0</td>\n",
       "      <td>0.0</td>\n",
       "      <td>0.0</td>\n",
       "      <td>0.0</td>\n",
       "      <td>1.0</td>\n",
       "      <td>0.0</td>\n",
       "      <td>0.0</td>\n",
       "      <td>1.0</td>\n",
       "      <td>0.0</td>\n",
       "      <td>0.0</td>\n",
       "    </tr>\n",
       "    <tr>\n",
       "      <th>460</th>\n",
       "      <td>0.090909</td>\n",
       "      <td>1.0</td>\n",
       "      <td>0.0</td>\n",
       "      <td>1.0</td>\n",
       "      <td>0.0</td>\n",
       "      <td>0.0</td>\n",
       "      <td>0.0</td>\n",
       "      <td>0.0</td>\n",
       "      <td>1.0</td>\n",
       "      <td>0.0</td>\n",
       "      <td>0.0</td>\n",
       "      <td>1.0</td>\n",
       "      <td>0.0</td>\n",
       "      <td>0.0</td>\n",
       "    </tr>\n",
       "    <tr>\n",
       "      <th>461</th>\n",
       "      <td>0.204545</td>\n",
       "      <td>0.0</td>\n",
       "      <td>1.0</td>\n",
       "      <td>0.0</td>\n",
       "      <td>0.0</td>\n",
       "      <td>1.0</td>\n",
       "      <td>0.0</td>\n",
       "      <td>0.0</td>\n",
       "      <td>1.0</td>\n",
       "      <td>0.0</td>\n",
       "      <td>0.0</td>\n",
       "      <td>0.0</td>\n",
       "      <td>1.0</td>\n",
       "      <td>0.0</td>\n",
       "    </tr>\n",
       "  </tbody>\n",
       "</table>\n",
       "<p>462 rows × 14 columns</p>\n",
       "</div>"
      ],
      "text/plain": [
       "         Edad  Sexo_f  Sexo_m  NivelEducacion_em  NivelEducacion_sec  \\\n",
       "0    0.386364     0.0     1.0                1.0                 0.0   \n",
       "1    0.204545     1.0     0.0                0.0                 0.0   \n",
       "2    0.181818     1.0     0.0                1.0                 0.0   \n",
       "3    0.045455     1.0     0.0                1.0                 0.0   \n",
       "4    0.068182     0.0     1.0                1.0                 0.0   \n",
       "..        ...     ...     ...                ...                 ...   \n",
       "457  0.227273     1.0     0.0                1.0                 0.0   \n",
       "458  0.409091     0.0     1.0                1.0                 0.0   \n",
       "459  0.500000     1.0     0.0                1.0                 0.0   \n",
       "460  0.090909     1.0     0.0                1.0                 0.0   \n",
       "461  0.204545     0.0     1.0                0.0                 0.0   \n",
       "\n",
       "     NivelEducacion_ts  NivelEducacion_un  EstadoCivil_c  EstadoCivil_s  \\\n",
       "0                  0.0                0.0            1.0            0.0   \n",
       "1                  0.0                1.0            0.0            1.0   \n",
       "2                  0.0                0.0            0.0            1.0   \n",
       "3                  0.0                0.0            0.0            1.0   \n",
       "4                  0.0                0.0            0.0            1.0   \n",
       "..                 ...                ...            ...            ...   \n",
       "457                0.0                0.0            0.0            1.0   \n",
       "458                0.0                0.0            0.0            1.0   \n",
       "459                0.0                0.0            0.0            1.0   \n",
       "460                0.0                0.0            0.0            1.0   \n",
       "461                1.0                0.0            0.0            1.0   \n",
       "\n",
       "     NivelSocEco_abc1  NivelSocEco_c2  NivelSocEco_c3c4  NivelSocEco_e  \\\n",
       "0                 0.0             0.0               1.0            0.0   \n",
       "1                 0.0             0.0               1.0            0.0   \n",
       "2                 0.0             0.0               1.0            0.0   \n",
       "3                 0.0             1.0               0.0            0.0   \n",
       "4                 0.0             1.0               0.0            0.0   \n",
       "..                ...             ...               ...            ...   \n",
       "457               0.0             0.0               1.0            0.0   \n",
       "458               0.0             0.0               1.0            0.0   \n",
       "459               0.0             0.0               1.0            0.0   \n",
       "460               0.0             0.0               1.0            0.0   \n",
       "461               0.0             0.0               0.0            1.0   \n",
       "\n",
       "     NivelSocEco_fue  \n",
       "0                0.0  \n",
       "1                0.0  \n",
       "2                0.0  \n",
       "3                0.0  \n",
       "4                0.0  \n",
       "..               ...  \n",
       "457              0.0  \n",
       "458              0.0  \n",
       "459              0.0  \n",
       "460              0.0  \n",
       "461              0.0  \n",
       "\n",
       "[462 rows x 14 columns]"
      ]
     },
     "execution_count": 34,
     "metadata": {},
     "output_type": "execute_result"
    }
   ],
   "source": [
    "X_train1"
   ]
  },
  {
   "cell_type": "code",
   "execution_count": 37,
   "metadata": {},
   "outputs": [
    {
     "name": "stdout",
     "output_type": "stream",
     "text": [
      "<class 'pandas.core.frame.DataFrame'>\n",
      "RangeIndex: 462 entries, 0 to 461\n",
      "Data columns (total 14 columns):\n",
      " #   Column              Non-Null Count  Dtype  \n",
      "---  ------              --------------  -----  \n",
      " 0   Edad                462 non-null    float64\n",
      " 1   Sexo_f              462 non-null    float64\n",
      " 2   Sexo_m              462 non-null    float64\n",
      " 3   NivelEducacion_em   462 non-null    float64\n",
      " 4   NivelEducacion_sec  462 non-null    float64\n",
      " 5   NivelEducacion_ts   462 non-null    float64\n",
      " 6   NivelEducacion_un   462 non-null    float64\n",
      " 7   EstadoCivil_c       462 non-null    float64\n",
      " 8   EstadoCivil_s       462 non-null    float64\n",
      " 9   NivelSocEco_abc1    462 non-null    float64\n",
      " 10  NivelSocEco_c2      462 non-null    float64\n",
      " 11  NivelSocEco_c3c4    462 non-null    float64\n",
      " 12  NivelSocEco_e       462 non-null    float64\n",
      " 13  NivelSocEco_fue     462 non-null    float64\n",
      "dtypes: float64(14)\n",
      "memory usage: 50.7 KB\n"
     ]
    }
   ],
   "source": [
    "X_train1.info()"
   ]
  },
  {
   "cell_type": "code",
   "execution_count": 58,
   "metadata": {},
   "outputs": [
    {
     "data": {
      "text/plain": [
       "BernoulliNB()"
      ]
     },
     "execution_count": 58,
     "metadata": {},
     "output_type": "execute_result"
    }
   ],
   "source": [
    "from sklearn.naive_bayes import BernoulliNB\n",
    "model_sociodem = BernoulliNB()\n",
    "score = []\n",
    "model_sociodem.fit(X_train1, y_train)"
   ]
  },
  {
   "cell_type": "code",
   "execution_count": 59,
   "metadata": {},
   "outputs": [
    {
     "name": "stdout",
     "output_type": "stream",
     "text": [
      "El porcentaje de clasificaciones correctas para el NB de Variables Socio Demográficas es: 51.52 %\n"
     ]
    },
    {
     "name": "stderr",
     "output_type": "stream",
     "text": [
      "/Users/educarrasco/opt/anaconda3/lib/python3.9/site-packages/sklearn/base.py:450: UserWarning: X does not have valid feature names, but BernoulliNB was fitted with feature names\n",
      "  warnings.warn(\n"
     ]
    }
   ],
   "source": [
    "from sklearn.metrics import accuracy_score,r2_score as r2\n",
    "from sklearn.metrics import classification_report, plot_confusion_matrix\n",
    "\n",
    "predicciones_sociodem = model_sociodem.predict(X_test1)\n",
    "accuracy_sociodem = accuracy_score(\n",
    "            y_true    = y_test,\n",
    "            y_pred    = predicciones_sociodem,\n",
    "            normalize = True\n",
    "           )\n",
    "print(f\"El porcentaje de clasificaciones correctas para el NB de Variables Socio Demográficas es: {round(100 * accuracy_sociodem,2)} %\")\n",
    "score.append(round(100 * accuracy_sociodem,2))"
   ]
  },
  {
   "cell_type": "code",
   "execution_count": 60,
   "metadata": {},
   "outputs": [
    {
     "data": {
      "text/plain": [
       "array([0, 1, 0, 1, 0, 0, 0, 0, 0, 0, 0, 0, 0, 1, 0, 1, 0, 1, 0, 0, 0, 1,\n",
       "       0, 0, 1, 1, 0, 1, 0, 0, 1, 1, 1, 1, 1, 0, 1, 0, 0, 0, 0, 1, 0, 0,\n",
       "       0, 1, 1, 1, 0, 1, 1, 0, 1, 1, 0, 0, 0, 0, 0, 0, 0, 0, 0, 1, 0, 1,\n",
       "       0, 0, 1, 0, 0, 0, 1, 0, 1, 0, 0, 1, 1, 1, 0, 1, 0, 0, 0, 0, 0, 0,\n",
       "       0, 1, 1, 0, 1, 0, 0, 0, 0, 1, 0, 1, 0, 0, 0, 0, 0, 1, 0, 0, 0, 0,\n",
       "       0, 1, 1, 1, 1, 0, 0, 0, 1, 1, 0, 0, 0, 0, 0, 1, 1, 0, 0, 1, 1, 0,\n",
       "       0, 0, 0, 0, 0, 0, 0, 0, 1, 1, 1, 0, 1, 1, 0, 0, 1, 0, 0, 0, 1, 1,\n",
       "       1, 0, 1, 0, 0, 0, 0, 1, 1, 0, 0, 0, 0, 0, 0, 1, 1, 0, 0, 0, 0, 0,\n",
       "       0, 0, 0, 1, 0, 1, 0, 0, 0, 0, 0, 1, 1, 0, 1, 0, 1, 1, 1, 1, 0, 1])"
      ]
     },
     "execution_count": 60,
     "metadata": {},
     "output_type": "execute_result"
    }
   ],
   "source": [
    "predicciones_sociodem"
   ]
  },
  {
   "cell_type": "code",
   "execution_count": 61,
   "metadata": {},
   "outputs": [
    {
     "name": "stdout",
     "output_type": "stream",
     "text": [
      "Training set score: 0.5779\n",
      "Test set score: 0.5152\n"
     ]
    },
    {
     "name": "stderr",
     "output_type": "stream",
     "text": [
      "/Users/educarrasco/opt/anaconda3/lib/python3.9/site-packages/sklearn/base.py:450: UserWarning: X does not have valid feature names, but BernoulliNB was fitted with feature names\n",
      "  warnings.warn(\n"
     ]
    }
   ],
   "source": [
    "print('Training set score: {:.4f}'.format(model_sociodem.score(X_train1, y_train)))\n",
    "print('Test set score: {:.4f}'.format(model_sociodem.score(X_test1, y_test)))"
   ]
  },
  {
   "cell_type": "code",
   "execution_count": 62,
   "metadata": {},
   "outputs": [
    {
     "name": "stdout",
     "output_type": "stream",
     "text": [
      "              precision    recall  f1-score   support\n",
      "\n",
      "           0       0.53      0.64      0.58       104\n",
      "           1       0.49      0.37      0.42        94\n",
      "\n",
      "    accuracy                           0.52       198\n",
      "   macro avg       0.51      0.51      0.50       198\n",
      "weighted avg       0.51      0.52      0.51       198\n",
      "\n"
     ]
    }
   ],
   "source": [
    "print(classification_report(y_test, predicciones_sociodem))"
   ]
  },
  {
   "cell_type": "code",
   "execution_count": 63,
   "metadata": {},
   "outputs": [
    {
     "name": "stdout",
     "output_type": "stream",
     "text": [
      "[[67 37]\n",
      " [59 35]]\n"
     ]
    }
   ],
   "source": [
    "from sklearn.metrics import confusion_matrix\n",
    "cf_matrix_1 = confusion_matrix(\n",
    "            y_true    = y_test,\n",
    "            y_pred    = predicciones_sociodem)\n",
    "print(cf_matrix_1)"
   ]
  },
  {
   "cell_type": "code",
   "execution_count": 64,
   "metadata": {},
   "outputs": [
    {
     "data": {
      "text/plain": [
       "<AxesSubplot:>"
      ]
     },
     "execution_count": 64,
     "metadata": {},
     "output_type": "execute_result"
    },
    {
     "data": {
      "image/png": "[encoded data removed]",
      "text/plain": [
       "<Figure size 432x288 with 2 Axes>"
      ]
     },
     "metadata": {
      "needs_background": "light"
     },
     "output_type": "display_data"
    }
   ],
   "source": [
    "import seaborn as sns\n",
    "group_names = ['True Neg','False Pos','False Neg','True Pos']\n",
    "group_counts = [\"{0:0.0f}\".format(value) for value in\n",
    "                cf_matrix_1.flatten()]\n",
    "group_percentages = [\"{0:.2%}\".format(value) for value in\n",
    "                     cf_matrix_1.flatten()/np.sum(cf_matrix_1)]\n",
    "labels = [f\"{v1}\\n{v2}\\n{v3}\" for v1, v2, v3 in\n",
    "          zip(group_names,group_counts,group_percentages)]\n",
    "labels = np.asarray(labels).reshape(2,2)\n",
    "sns.heatmap(cf_matrix_1, annot=labels, fmt='', cmap='Greys')"
   ]
  },
  {
   "cell_type": "markdown",
   "metadata": {
    "id": "5um4ZrhjklbW"
   },
   "source": [
    "## Pregunta 2\n",
    "Lo mismo que la pregunta anterior pero usando sólo los atributos operacionales. Mejora el desempeño? argumente en función de las métricas de desempeño."
   ]
  },
  {
   "cell_type": "markdown",
   "metadata": {
    "id": "_EtLL1QoklbW"
   },
   "source": [
    "### Respuesta:"
   ]
  },
  {
   "cell_type": "code",
   "execution_count": 65,
   "metadata": {
    "id": "goH5R_rKklbX"
   },
   "outputs": [],
   "source": [
    "X_train2 = X_train.iloc[:,[1,2,3,4]].copy()\n",
    "X_test2 = X_test.iloc[:,[1,2,3,4]].copy()"
   ]
  },
  {
   "cell_type": "code",
   "execution_count": 66,
   "metadata": {},
   "outputs": [
    {
     "data": {
      "text/html": [
       "<div>\n",
       "<style scoped>\n",
       "    .dataframe tbody tr th:only-of-type {\n",
       "        vertical-align: middle;\n",
       "    }\n",
       "\n",
       "    .dataframe tbody tr th {\n",
       "        vertical-align: top;\n",
       "    }\n",
       "\n",
       "    .dataframe thead th {\n",
       "        text-align: right;\n",
       "    }\n",
       "</style>\n",
       "<table border=\"1\" class=\"dataframe\">\n",
       "  <thead>\n",
       "    <tr style=\"text-align: right;\">\n",
       "      <th></th>\n",
       "      <th>HorasLogeadas</th>\n",
       "      <th>HorasHabladas</th>\n",
       "      <th>ContactosEfectivosPromedio</th>\n",
       "      <th>RegistrosTerminados</th>\n",
       "    </tr>\n",
       "  </thead>\n",
       "  <tbody>\n",
       "    <tr>\n",
       "      <th>0</th>\n",
       "      <td>0.055479</td>\n",
       "      <td>0.023335</td>\n",
       "      <td>0.024789</td>\n",
       "      <td>0.025620</td>\n",
       "    </tr>\n",
       "    <tr>\n",
       "      <th>1</th>\n",
       "      <td>0.247570</td>\n",
       "      <td>0.102324</td>\n",
       "      <td>0.060855</td>\n",
       "      <td>0.073800</td>\n",
       "    </tr>\n",
       "    <tr>\n",
       "      <th>2</th>\n",
       "      <td>0.146497</td>\n",
       "      <td>0.085166</td>\n",
       "      <td>0.000000</td>\n",
       "      <td>0.000000</td>\n",
       "    </tr>\n",
       "    <tr>\n",
       "      <th>3</th>\n",
       "      <td>0.227162</td>\n",
       "      <td>0.176451</td>\n",
       "      <td>0.123355</td>\n",
       "      <td>0.276154</td>\n",
       "    </tr>\n",
       "    <tr>\n",
       "      <th>4</th>\n",
       "      <td>0.223948</td>\n",
       "      <td>0.113858</td>\n",
       "      <td>0.045230</td>\n",
       "      <td>0.222722</td>\n",
       "    </tr>\n",
       "    <tr>\n",
       "      <th>...</th>\n",
       "      <td>...</td>\n",
       "      <td>...</td>\n",
       "      <td>...</td>\n",
       "      <td>...</td>\n",
       "    </tr>\n",
       "    <tr>\n",
       "      <th>457</th>\n",
       "      <td>0.255993</td>\n",
       "      <td>0.082520</td>\n",
       "      <td>0.050576</td>\n",
       "      <td>0.075387</td>\n",
       "    </tr>\n",
       "    <tr>\n",
       "      <th>458</th>\n",
       "      <td>0.467284</td>\n",
       "      <td>0.435878</td>\n",
       "      <td>0.221628</td>\n",
       "      <td>0.286999</td>\n",
       "    </tr>\n",
       "    <tr>\n",
       "      <th>459</th>\n",
       "      <td>0.717008</td>\n",
       "      <td>0.374401</td>\n",
       "      <td>0.275247</td>\n",
       "      <td>0.341489</td>\n",
       "    </tr>\n",
       "    <tr>\n",
       "      <th>460</th>\n",
       "      <td>0.609106</td>\n",
       "      <td>0.269206</td>\n",
       "      <td>0.082648</td>\n",
       "      <td>0.097474</td>\n",
       "    </tr>\n",
       "    <tr>\n",
       "      <th>461</th>\n",
       "      <td>0.726492</td>\n",
       "      <td>0.554794</td>\n",
       "      <td>0.410526</td>\n",
       "      <td>0.377622</td>\n",
       "    </tr>\n",
       "  </tbody>\n",
       "</table>\n",
       "<p>462 rows × 4 columns</p>\n",
       "</div>"
      ],
      "text/plain": [
       "     HorasLogeadas  HorasHabladas  ContactosEfectivosPromedio  \\\n",
       "0         0.055479       0.023335                    0.024789   \n",
       "1         0.247570       0.102324                    0.060855   \n",
       "2         0.146497       0.085166                    0.000000   \n",
       "3         0.227162       0.176451                    0.123355   \n",
       "4         0.223948       0.113858                    0.045230   \n",
       "..             ...            ...                         ...   \n",
       "457       0.255993       0.082520                    0.050576   \n",
       "458       0.467284       0.435878                    0.221628   \n",
       "459       0.717008       0.374401                    0.275247   \n",
       "460       0.609106       0.269206                    0.082648   \n",
       "461       0.726492       0.554794                    0.410526   \n",
       "\n",
       "     RegistrosTerminados  \n",
       "0               0.025620  \n",
       "1               0.073800  \n",
       "2               0.000000  \n",
       "3               0.276154  \n",
       "4               0.222722  \n",
       "..                   ...  \n",
       "457             0.075387  \n",
       "458             0.286999  \n",
       "459             0.341489  \n",
       "460             0.097474  \n",
       "461             0.377622  \n",
       "\n",
       "[462 rows x 4 columns]"
      ]
     },
     "execution_count": 66,
     "metadata": {},
     "output_type": "execute_result"
    }
   ],
   "source": [
    "X_train2"
   ]
  },
  {
   "cell_type": "code",
   "execution_count": 67,
   "metadata": {},
   "outputs": [
    {
     "data": {
      "text/plain": [
       "GaussianNB()"
      ]
     },
     "execution_count": 67,
     "metadata": {},
     "output_type": "execute_result"
    }
   ],
   "source": [
    "from sklearn.naive_bayes import GaussianNB\n",
    "model_operacionales = GaussianNB()\n",
    "\n",
    "score = []\n",
    "model_operacionales.fit(X_train2,y_train)"
   ]
  },
  {
   "cell_type": "code",
   "execution_count": 68,
   "metadata": {},
   "outputs": [
    {
     "name": "stdout",
     "output_type": "stream",
     "text": [
      "El porcentaje de clasificaciones correctas para el NB de Variables Operacionales es: 77.78 %\n"
     ]
    },
    {
     "name": "stderr",
     "output_type": "stream",
     "text": [
      "/Users/educarrasco/opt/anaconda3/lib/python3.9/site-packages/sklearn/base.py:450: UserWarning: X does not have valid feature names, but GaussianNB was fitted with feature names\n",
      "  warnings.warn(\n"
     ]
    }
   ],
   "source": [
    "predicciones_operacionales = model_operacionales.predict(X_test2)\n",
    "accuracy_operacionales = accuracy_score(\n",
    "            y_true    = y_test,\n",
    "            y_pred    = predicciones_operacionales,\n",
    "            normalize = True\n",
    "           )\n",
    "print(f\"El porcentaje de clasificaciones correctas para el NB de Variables Operacionales es: {round(100 * accuracy_operacionales,2)} %\")\n",
    "score.append(round(100 * accuracy_operacionales,2))"
   ]
  },
  {
   "cell_type": "code",
   "execution_count": 69,
   "metadata": {},
   "outputs": [
    {
     "name": "stdout",
     "output_type": "stream",
     "text": [
      "              precision    recall  f1-score   support\n",
      "\n",
      "           0       0.81      0.75      0.78       104\n",
      "           1       0.75      0.81      0.78        94\n",
      "\n",
      "    accuracy                           0.78       198\n",
      "   macro avg       0.78      0.78      0.78       198\n",
      "weighted avg       0.78      0.78      0.78       198\n",
      "\n"
     ]
    }
   ],
   "source": [
    "print(classification_report(y_test, predicciones_operacionales))"
   ]
  },
  {
   "cell_type": "code",
   "execution_count": 70,
   "metadata": {},
   "outputs": [
    {
     "name": "stdout",
     "output_type": "stream",
     "text": [
      "[[78 26]\n",
      " [18 76]]\n"
     ]
    }
   ],
   "source": [
    "from sklearn.metrics import confusion_matrix\n",
    "cf_matrix_2 = confusion_matrix(\n",
    "            y_true    = y_test,\n",
    "            y_pred    = predicciones_operacionales)\n",
    "print(cf_matrix_2)"
   ]
  },
  {
   "cell_type": "code",
   "execution_count": 71,
   "metadata": {},
   "outputs": [
    {
     "data": {
      "text/plain": [
       "<AxesSubplot:>"
      ]
     },
     "execution_count": 71,
     "metadata": {},
     "output_type": "execute_result"
    },
    {
     "data": {
      "image/png": "[encoded data removed]",
      "text/plain": [
       "<Figure size 432x288 with 2 Axes>"
      ]
     },
     "metadata": {
      "needs_background": "light"
     },
     "output_type": "display_data"
    }
   ],
   "source": [
    "import seaborn as sns\n",
    "group_names = ['True Neg','False Pos','False Neg','True Pos']\n",
    "group_counts = [\"{0:0.0f}\".format(value) for value in\n",
    "                cf_matrix_2.flatten()]\n",
    "group_percentages = [\"{0:.2%}\".format(value) for value in\n",
    "                     cf_matrix_2.flatten()/np.sum(cf_matrix_2)]\n",
    "labels = [f\"{v1}\\n{v2}\\n{v3}\" for v1, v2, v3 in\n",
    "          zip(group_names,group_counts,group_percentages)]\n",
    "labels = np.asarray(labels).reshape(2,2)\n",
    "sns.heatmap(cf_matrix_2, annot=labels, fmt='', cmap='Greys')"
   ]
  },
  {
   "cell_type": "markdown",
   "metadata": {
    "id": "oITWrVC_7EJv"
   },
   "source": [
    "## Pregunta 3\n",
    "Lo mismo que antes pero ahora considerando todos los atributos. Mejora el desempeño? Valdrá la pena usar todos los atributos realmente? argumente en función de las métricas de desempeño.\n",
    "\n"
   ]
  },
  {
   "cell_type": "markdown",
   "metadata": {
    "id": "IhooYPGM7EJ2"
   },
   "source": [
    "### Respuesta"
   ]
  },
  {
   "cell_type": "code",
   "execution_count": 72,
   "metadata": {
    "id": "B23X2bNE7EJ3"
   },
   "outputs": [
    {
     "data": {
      "text/plain": [
       "GaussianNB()"
      ]
     },
     "execution_count": 72,
     "metadata": {},
     "output_type": "execute_result"
    }
   ],
   "source": [
    "from sklearn.naive_bayes import GaussianNB\n",
    "model_NB = GaussianNB()\n",
    "\n",
    "score = []\n",
    "model_NB.fit(X_train,y_train)"
   ]
  },
  {
   "cell_type": "code",
   "execution_count": 73,
   "metadata": {},
   "outputs": [
    {
     "name": "stdout",
     "output_type": "stream",
     "text": [
      "El porcentaje de clasificaciones correctas para el NB de todas las variables es: 74.24 %\n"
     ]
    },
    {
     "name": "stderr",
     "output_type": "stream",
     "text": [
      "/Users/educarrasco/opt/anaconda3/lib/python3.9/site-packages/sklearn/base.py:450: UserWarning: X does not have valid feature names, but GaussianNB was fitted with feature names\n",
      "  warnings.warn(\n"
     ]
    }
   ],
   "source": [
    "predicciones_NB = model_NB.predict(X_test)\n",
    "accuracy_NB = accuracy_score(\n",
    "            y_true    = y_test,\n",
    "            y_pred    = predicciones_NB,\n",
    "            normalize = True\n",
    "           )\n",
    "print(f\"El porcentaje de clasificaciones correctas para el NB de todas las variables es: {round(100 * accuracy_NB,2)} %\")\n",
    "score.append(round(100 * accuracy_NB,2))"
   ]
  },
  {
   "cell_type": "code",
   "execution_count": 74,
   "metadata": {},
   "outputs": [
    {
     "name": "stdout",
     "output_type": "stream",
     "text": [
      "              precision    recall  f1-score   support\n",
      "\n",
      "           0       0.75      0.76      0.76       104\n",
      "           1       0.73      0.72      0.73        94\n",
      "\n",
      "    accuracy                           0.74       198\n",
      "   macro avg       0.74      0.74      0.74       198\n",
      "weighted avg       0.74      0.74      0.74       198\n",
      "\n"
     ]
    }
   ],
   "source": [
    "print(classification_report(y_test, predicciones_NB))"
   ]
  },
  {
   "cell_type": "code",
   "execution_count": 75,
   "metadata": {},
   "outputs": [
    {
     "name": "stdout",
     "output_type": "stream",
     "text": [
      "[[79 25]\n",
      " [26 68]]\n"
     ]
    }
   ],
   "source": [
    "from sklearn.metrics import confusion_matrix\n",
    "cf_matrix_3 = confusion_matrix(\n",
    "            y_true    = y_test,\n",
    "            y_pred    = predicciones_NB)\n",
    "print(cf_matrix_3)"
   ]
  },
  {
   "cell_type": "code",
   "execution_count": 76,
   "metadata": {},
   "outputs": [
    {
     "data": {
      "text/plain": [
       "<AxesSubplot:>"
      ]
     },
     "execution_count": 76,
     "metadata": {},
     "output_type": "execute_result"
    },
    {
     "data": {
      "image/png": "[encoded data removed]",
      "text/plain": [
       "<Figure size 432x288 with 2 Axes>"
      ]
     },
     "metadata": {
      "needs_background": "light"
     },
     "output_type": "display_data"
    }
   ],
   "source": [
    "import seaborn as sns\n",
    "group_names = ['True Neg','False Pos','False Neg','True Pos']\n",
    "group_counts = [\"{0:0.0f}\".format(value) for value in\n",
    "                cf_matrix_3.flatten()]\n",
    "group_percentages = [\"{0:.2%}\".format(value) for value in\n",
    "                     cf_matrix_3.flatten()/np.sum(cf_matrix_3)]\n",
    "labels = [f\"{v1}\\n{v2}\\n{v3}\" for v1, v2, v3 in\n",
    "          zip(group_names,group_counts,group_percentages)]\n",
    "labels = np.asarray(labels).reshape(2,2)\n",
    "sns.heatmap(cf_matrix_3, annot=labels, fmt='', cmap='Greys')"
   ]
  },
  {
   "cell_type": "markdown",
   "metadata": {
    "id": "hw58AA299eTG"
   },
   "source": [
    "## Pregunta 4\n",
    "Qué ocurre si entrena un árbol de decisión usando todos los atributos. Luego evalúe en el conjunto de prueba generando el classification report. Mejora el desempeño? argumente en función de las métricas de desempeño.\n",
    "Qué atributos aparecen en el árbol resultante? "
   ]
  },
  {
   "cell_type": "markdown",
   "metadata": {
    "id": "kuxlTjbR9eTN"
   },
   "source": [
    "### Respuesta"
   ]
  },
  {
   "cell_type": "code",
   "execution_count": null,
   "metadata": {
    "id": "EGtVuH9J9eTN"
   },
   "outputs": [],
   "source": []
  },
  {
   "cell_type": "markdown",
   "metadata": {
    "id": "Q2lHfIUeF7zr"
   },
   "source": [
    "## Pregunta 5\n",
    "Entrene un clasificador naive Bayes usando los atributos que aparecen en el árbol de decisión.  Luego evalúe en el conjunto de prueba generando el classification report. Mejora el desempeño al comparar los resultados de las preguntas 1, 2, y 3? argumente en función de las métricas de desempeño."
   ]
  },
  {
   "cell_type": "markdown",
   "metadata": {
    "id": "MMrl98GdF7z0"
   },
   "source": [
    "### Respuesta"
   ]
  },
  {
   "cell_type": "code",
   "execution_count": null,
   "metadata": {
    "id": "BL8fnt4KF7z1"
   },
   "outputs": [],
   "source": []
  },
  {
   "cell_type": "markdown",
   "metadata": {
    "id": "Fexd2Z9fklbh"
   },
   "source": [
    "## Suerte!"
   ]
  }
 ],
 "metadata": {
  "colab": {
   "collapsed_sections": [],
   "provenance": []
  },
  "kernelspec": {
   "display_name": "Python 3 (ipykernel)",
   "language": "python",
   "name": "python3"
  },
  "language_info": {
   "codemirror_mode": {
    "name": "ipython",
    "version": 3
   },
   "file_extension": ".py",
   "mimetype": "text/x-python",
   "name": "python",
   "nbconvert_exporter": "python",
   "pygments_lexer": "ipython3",
   "version": "3.9.12"
  },
  "widgets": {
   "application/vnd.jupyter.widget-state+json": {
    "state": {},
    "version_major": 2,
    "version_minor": 0
   }
  }
 },
 "nbformat": 4,
 "nbformat_minor": 4
}
