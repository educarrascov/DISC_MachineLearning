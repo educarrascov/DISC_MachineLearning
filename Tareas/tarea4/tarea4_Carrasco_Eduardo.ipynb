{
 "cells": [
  {
   "cell_type": "markdown",
   "metadata": {
    "id": "W3d2cB9hE7fi"
   },
   "source": [
    "# Tarea 4.\n",
    "\n",
    "Eduardo Carrasco Vidal\n",
    "Doctorado en Ingeniería de Sistemas Complejos, Universidad Adolfo Ibáñez.\n",
    "\n",
    "Profesor: Gonzalo Ruz Heredia. Ayudante: Carlos Sepúlveda Morales.\n",
    "\n",
    "Curso: Machine Learning (Aprendizaje Automático).\n",
    "\n",
    "Enlace al repositorio del alumno en GitHub @educarrascov"
   ]
  },
  {
   "cell_type": "markdown",
   "metadata": {
    "id": "IR_z9mZNQHxM"
   },
   "source": [
    "## Instrucciones\n",
    "* La tarea es individual\n",
    "* Por favor responder en este mismo notebook\n",
    "* Renombrar el archivo agregando su nombre, por ejemplo tarea4_Dituro_Pérez.ipynb\n",
    "* Subir el archivo al link de entrega Trabajo en webcursos que será habilitado\n",
    "* __Fecha de entrega:__ viernes 21 de octubre, 23:55 hrs."
   ]
  },
  {
   "cell_type": "code",
   "execution_count": 1,
   "metadata": {},
   "outputs": [
    {
     "name": "stdout",
     "output_type": "stream",
     "text": [
      "Plataforma (Software-Hardware): macOS-13.0-arm64-i386-64bit\n",
      "Versión de Python 3.9.13 | packaged by conda-forge | (main, May 27 2022, 17:01:00) \n",
      "[Clang 13.0.1 ]\n",
      "Versión de TensorFlow: 2.10.0\n",
      "Versión de Keras: 2.10.0\n",
      "versión de Pandas 1.5.1\n",
      "Versión de Scikit-Learn 1.1.3\n",
      "GPU está Disponible\n"
     ]
    }
   ],
   "source": [
    "### Conocer version de paquetes y Hardware en uso\n",
    "#------------------------------------------------------\n",
    "#------------------------------------------------------\n",
    "import sys\n",
    "import tensorflow.keras\n",
    "import pandas as pd\n",
    "import sklearn as sk\n",
    "import tensorflow as tf\n",
    "import platform\n",
    "\n",
    "print(f\"Plataforma (Software-Hardware): {platform.platform()}\")\n",
    "print(f\"Versión de Python {sys.version}\")\n",
    "print(f\"Versión de TensorFlow: {tf.__version__}\")\n",
    "print(f\"Versión de Keras: {tensorflow.keras.__version__}\")\n",
    "print(f\"versión de Pandas {pd.__version__}\")\n",
    "print(f\"Versión de Scikit-Learn {sk.__version__}\")\n",
    "gpu = len(tf.config.list_physical_devices('GPU'))>0\n",
    "print(\"GPU está\", \"Disponible\" if gpu else \"No Disponible\")\n",
    "#---------------------------------------------------------"
   ]
  },
  {
   "cell_type": "markdown",
   "metadata": {
    "id": "_Rz6sIOlDyb-"
   },
   "source": [
    "## Dependencias de librerías"
   ]
  },
  {
   "cell_type": "code",
   "execution_count": 44,
   "metadata": {
    "colab": {
     "base_uri": "https://localhost:8080/"
    },
    "id": "nVUXqitSx1D_",
    "outputId": "e4ca0871-da0e-4731-c929-0fe819bf7dae"
   },
   "outputs": [
    {
     "name": "stdout",
     "output_type": "stream",
     "text": [
      "Looking in indexes: https://pypi.org/simple, https://us-python.pkg.dev/colab-wheels/public/simple/\n",
      "Requirement already satisfied: xlrd==1.2.0 in /usr/local/lib/python3.7/dist-packages (1.2.0)\n"
     ]
    }
   ],
   "source": [
    "!pip install xlrd=='1.2.0'\n",
    "## Despues de instalar la libreria, Reiniciar el kernel"
   ]
  },
  {
   "cell_type": "code",
   "execution_count": 1,
   "metadata": {
    "id": "NSRhDALkDRnb"
   },
   "outputs": [],
   "source": [
    "from time import time\n",
    "from pandas import read_excel\n",
    "import matplotlib.pyplot as plt\n",
    "\n",
    "## Pre-processing functions\n",
    "from sklearn.preprocessing import StandardScaler\n",
    "from sklearn.model_selection import train_test_split\n",
    "\n",
    "## tensorflow-Keras \n",
    "from tensorflow.keras.models import Sequential\n",
    "from tensorflow.keras import layers\n",
    "from tensorflow.keras import metrics"
   ]
  },
  {
   "cell_type": "markdown",
   "metadata": {
    "id": "8TO5pHttI7ah"
   },
   "source": [
    "## Funciones personalizadas"
   ]
  },
  {
   "cell_type": "code",
   "execution_count": 2,
   "metadata": {
    "id": "VbCLG50lD3lB"
   },
   "outputs": [],
   "source": [
    "def plot_history(history, width=12, height=6):\n",
    "  \"\"\"\n",
    "  DESCRIPTION:\n",
    "    Historical performance of the keras model\n",
    "  \n",
    "  INPUT:\n",
    "    @param history: history of performance of fitted model\n",
    "    @type history: tensorflow.python.keras.callbacks.History\n",
    "\n",
    "    @param width: width of the graphic display\n",
    "    @type width: int\n",
    "\n",
    "    @param height: height of the graphic display\n",
    "    @type height: int\n",
    "\n",
    "  OUTPUT:\n",
    "    A graphic\n",
    "  \"\"\"\n",
    "\n",
    "  ## Metrics keys stored in tensorflow object\n",
    "  keys = list(history.history.keys())\n",
    "\n",
    "  ## Number of epoch used for fit the model\n",
    "  epoch = range(1, len(history.epoch) +1)\n",
    "\n",
    "  ## Check if validation set was used.\n",
    "  withValidation = False\n",
    "  for key in keys:\n",
    "    if 'val' in key:\n",
    "      withValidation = True\n",
    "\n",
    "  ## Number of metrics \n",
    "  nMetrics = len(keys)\n",
    "  if withValidation:\n",
    "    nMetrics = nMetrics//2\n",
    "\n",
    "  ## Plot-space instance\n",
    "  plt.figure(figsize=(width, height))\n",
    "\n",
    "  for i in range(nMetrics):\n",
    "    plt.subplot(nMetrics, 1, i+1)\n",
    "\n",
    "    ## Plot (train) metric value\n",
    "    labelMetric = keys[i]\n",
    "    metric = history.history[keys[i]]\n",
    "    plt.plot(epoch, metric, 'o-', label=labelMetric)\n",
    "\n",
    "    if withValidation:\n",
    "      ## Plot (validation) metric value\n",
    "      labelMetricVal = keys[i+nMetrics]\n",
    "      metricVal = history.history[keys[i+nMetrics]]\n",
    "      plt.plot(epoch, metricVal, 'o-', label=labelMetricVal)\n",
    "\n",
    "    plt.xlim(epoch[0], epoch[-1])\n",
    "    plt.legend()\n",
    "    plt.grid()\n",
    "\n",
    "  plt.xlabel('Epoch')\n",
    "  plt.show()"
   ]
  },
  {
   "cell_type": "markdown",
   "metadata": {
    "id": "MqqFAfmPfO1K"
   },
   "source": [
    "# Problema (Regresión): Aplicado al _Concrete Compressive Strength Dataset_\n",
    "\n",
    "**Objetivo**: Predecir Concrete compressive strength (Strength)"
   ]
  },
  {
   "cell_type": "markdown",
   "metadata": {
    "id": "GWabNKBhx1EB"
   },
   "source": [
    "__Descripcion__:\n",
    "\n",
    "| **Name**             | **Data Type** | **Measurement**    | **Description** |\n",
    "|----------------------|---------------|--------------------|-----------------|\n",
    "| Cement | Quantitative  | kg in a m3 mixture | Input Variable  |\n",
    "| Blast Furnace Slag | Quantitative | kg in a m3 mixture | Input Variable |\n",
    "| Fly Ash | Quantitative | kg in a m3 mixture | Input Variable |\n",
    "| Water | Quantitative | kg in a m3 mixture | Input Variable |\n",
    "| Superplasticizer | Quantitative | kg in a m3 mixture | Input Variable |\n",
    "| Coarse Aggregate | Quantitative | kg in a m3 mixture | Input Variable |\n",
    "| Fine Aggregate | Quantitative | kg in a m3 mixture | Input Variable |\n",
    "| Age | Quantitative | Day (1~365) | Input Variable |\n",
    "| Concrete compressive strength | Quantitative | MPa | Output Variable |"
   ]
  },
  {
   "cell_type": "markdown",
   "metadata": {
    "id": "G2xgYhPEh1Ad"
   },
   "source": [
    "## Carga y preprocesamiento de datos\n",
    "\n",
    "Fuente: [Concrete Compressive Strength Data Set](https://archive.ics.uci.edu/ml/datasets/Concrete+Compressive+Strength) (UCI Repository)"
   ]
  },
  {
   "cell_type": "code",
   "execution_count": 3,
   "metadata": {
    "id": "6cqRrZLXZ95z"
   },
   "outputs": [],
   "source": [
    "## Load data\n",
    "data = read_excel(io='https://archive.ics.uci.edu/ml/machine-learning-databases/concrete/compressive/Concrete_Data.xls', \n",
    "                  sheet_name='Sheet1', header=0)\n",
    "\n",
    "## Adding feature names\n",
    "data.columns = ['Cement', 'Blast Furnace Slag', 'Fly Ash', 'Water', 'Superplasticizer', \n",
    "                'Coarse Aggregate', 'Fine Aggregate', 'Age', 'Strength']"
   ]
  },
  {
   "cell_type": "code",
   "execution_count": 4,
   "metadata": {
    "colab": {
     "base_uri": "https://localhost:8080/"
    },
    "id": "fyUcMTSZGvbX",
    "outputId": "c1d8954b-4f97-45d5-eaed-f57a8f470952"
   },
   "outputs": [
    {
     "data": {
      "text/plain": [
       "(1030, 9)"
      ]
     },
     "execution_count": 4,
     "metadata": {},
     "output_type": "execute_result"
    }
   ],
   "source": [
    "data.shape"
   ]
  },
  {
   "cell_type": "code",
   "execution_count": 5,
   "metadata": {
    "colab": {
     "base_uri": "https://localhost:8080/",
     "height": 175
    },
    "id": "aB3_6ORGZ952",
    "outputId": "0219470b-7344-4d91-9118-d45962296c22"
   },
   "outputs": [
    {
     "data": {
      "text/html": [
       "\n",
       "  <div id=\"df-d24ac40b-7000-485f-9ddb-f44dcd503835\">\n",
       "    <div class=\"colab-df-container\">\n",
       "      <div>\n",
       "<style scoped>\n",
       "    .dataframe tbody tr th:only-of-type {\n",
       "        vertical-align: middle;\n",
       "    }\n",
       "\n",
       "    .dataframe tbody tr th {\n",
       "        vertical-align: top;\n",
       "    }\n",
       "\n",
       "    .dataframe thead th {\n",
       "        text-align: right;\n",
       "    }\n",
       "</style>\n",
       "<table border=\"1\" class=\"dataframe\">\n",
       "  <thead>\n",
       "    <tr style=\"text-align: right;\">\n",
       "      <th></th>\n",
       "      <th>Cement</th>\n",
       "      <th>Blast Furnace Slag</th>\n",
       "      <th>Fly Ash</th>\n",
       "      <th>Water</th>\n",
       "      <th>Superplasticizer</th>\n",
       "      <th>Coarse Aggregate</th>\n",
       "      <th>Fine Aggregate</th>\n",
       "      <th>Age</th>\n",
       "      <th>Strength</th>\n",
       "    </tr>\n",
       "  </thead>\n",
       "  <tbody>\n",
       "    <tr>\n",
       "      <th>0</th>\n",
       "      <td>540.0</td>\n",
       "      <td>0.0</td>\n",
       "      <td>0.0</td>\n",
       "      <td>162.0</td>\n",
       "      <td>2.5</td>\n",
       "      <td>1040.0</td>\n",
       "      <td>676.0</td>\n",
       "      <td>28</td>\n",
       "      <td>79.986111</td>\n",
       "    </tr>\n",
       "    <tr>\n",
       "      <th>1</th>\n",
       "      <td>540.0</td>\n",
       "      <td>0.0</td>\n",
       "      <td>0.0</td>\n",
       "      <td>162.0</td>\n",
       "      <td>2.5</td>\n",
       "      <td>1055.0</td>\n",
       "      <td>676.0</td>\n",
       "      <td>28</td>\n",
       "      <td>61.887366</td>\n",
       "    </tr>\n",
       "    <tr>\n",
       "      <th>2</th>\n",
       "      <td>332.5</td>\n",
       "      <td>142.5</td>\n",
       "      <td>0.0</td>\n",
       "      <td>228.0</td>\n",
       "      <td>0.0</td>\n",
       "      <td>932.0</td>\n",
       "      <td>594.0</td>\n",
       "      <td>270</td>\n",
       "      <td>40.269535</td>\n",
       "    </tr>\n",
       "    <tr>\n",
       "      <th>3</th>\n",
       "      <td>332.5</td>\n",
       "      <td>142.5</td>\n",
       "      <td>0.0</td>\n",
       "      <td>228.0</td>\n",
       "      <td>0.0</td>\n",
       "      <td>932.0</td>\n",
       "      <td>594.0</td>\n",
       "      <td>365</td>\n",
       "      <td>41.052780</td>\n",
       "    </tr>\n",
       "  </tbody>\n",
       "</table>\n",
       "</div>\n",
       "      <button class=\"colab-df-convert\" onclick=\"convertToInteractive('df-d24ac40b-7000-485f-9ddb-f44dcd503835')\"\n",
       "              title=\"Convert this dataframe to an interactive table.\"\n",
       "              style=\"display:none;\">\n",
       "        \n",
       "  <svg xmlns=\"http://www.w3.org/2000/svg\" height=\"24px\"viewBox=\"0 0 24 24\"\n",
       "       width=\"24px\">\n",
       "    <path d=\"M0 0h24v24H0V0z\" fill=\"none\"/>\n",
       "    <path d=\"M18.56 5.44l.94 2.06.94-2.06 2.06-.94-2.06-.94-.94-2.06-.94 2.06-2.06.94zm-11 1L8.5 8.5l.94-2.06 2.06-.94-2.06-.94L8.5 2.5l-.94 2.06-2.06.94zm10 10l.94 2.06.94-2.06 2.06-.94-2.06-.94-.94-2.06-.94 2.06-2.06.94z\"/><path d=\"M17.41 7.96l-1.37-1.37c-.4-.4-.92-.59-1.43-.59-.52 0-1.04.2-1.43.59L10.3 9.45l-7.72 7.72c-.78.78-.78 2.05 0 2.83L4 21.41c.39.39.9.59 1.41.59.51 0 1.02-.2 1.41-.59l7.78-7.78 2.81-2.81c.8-.78.8-2.07 0-2.86zM5.41 20L4 18.59l7.72-7.72 1.47 1.35L5.41 20z\"/>\n",
       "  </svg>\n",
       "      </button>\n",
       "      \n",
       "  <style>\n",
       "    .colab-df-container {\n",
       "      display:flex;\n",
       "      flex-wrap:wrap;\n",
       "      gap: 12px;\n",
       "    }\n",
       "\n",
       "    .colab-df-convert {\n",
       "      background-color: #E8F0FE;\n",
       "      border: none;\n",
       "      border-radius: 50%;\n",
       "      cursor: pointer;\n",
       "      display: none;\n",
       "      fill: #1967D2;\n",
       "      height: 32px;\n",
       "      padding: 0 0 0 0;\n",
       "      width: 32px;\n",
       "    }\n",
       "\n",
       "    .colab-df-convert:hover {\n",
       "      background-color: #E2EBFA;\n",
       "      box-shadow: 0px 1px 2px rgba(60, 64, 67, 0.3), 0px 1px 3px 1px rgba(60, 64, 67, 0.15);\n",
       "      fill: #174EA6;\n",
       "    }\n",
       "\n",
       "    [theme=dark] .colab-df-convert {\n",
       "      background-color: #3B4455;\n",
       "      fill: #D2E3FC;\n",
       "    }\n",
       "\n",
       "    [theme=dark] .colab-df-convert:hover {\n",
       "      background-color: #434B5C;\n",
       "      box-shadow: 0px 1px 3px 1px rgba(0, 0, 0, 0.15);\n",
       "      filter: drop-shadow(0px 1px 2px rgba(0, 0, 0, 0.3));\n",
       "      fill: #FFFFFF;\n",
       "    }\n",
       "  </style>\n",
       "\n",
       "      <script>\n",
       "        const buttonEl =\n",
       "          document.querySelector('#df-d24ac40b-7000-485f-9ddb-f44dcd503835 button.colab-df-convert');\n",
       "        buttonEl.style.display =\n",
       "          google.colab.kernel.accessAllowed ? 'block' : 'none';\n",
       "\n",
       "        async function convertToInteractive(key) {\n",
       "          const element = document.querySelector('#df-d24ac40b-7000-485f-9ddb-f44dcd503835');\n",
       "          const dataTable =\n",
       "            await google.colab.kernel.invokeFunction('convertToInteractive',\n",
       "                                                     [key], {});\n",
       "          if (!dataTable) return;\n",
       "\n",
       "          const docLinkHtml = 'Like what you see? Visit the ' +\n",
       "            '<a target=\"_blank\" href=https://colab.research.google.com/notebooks/data_table.ipynb>data table notebook</a>'\n",
       "            + ' to learn more about interactive tables.';\n",
       "          element.innerHTML = '';\n",
       "          dataTable['output_type'] = 'display_data';\n",
       "          await google.colab.output.renderOutput(dataTable, element);\n",
       "          const docLink = document.createElement('div');\n",
       "          docLink.innerHTML = docLinkHtml;\n",
       "          element.appendChild(docLink);\n",
       "        }\n",
       "      </script>\n",
       "    </div>\n",
       "  </div>\n",
       "  "
      ],
      "text/plain": [
       "   Cement  Blast Furnace Slag  Fly Ash  Water  Superplasticizer  \\\n",
       "0   540.0                 0.0      0.0  162.0               2.5   \n",
       "1   540.0                 0.0      0.0  162.0               2.5   \n",
       "2   332.5               142.5      0.0  228.0               0.0   \n",
       "3   332.5               142.5      0.0  228.0               0.0   \n",
       "\n",
       "   Coarse Aggregate  Fine Aggregate  Age   Strength  \n",
       "0            1040.0           676.0   28  79.986111  \n",
       "1            1055.0           676.0   28  61.887366  \n",
       "2             932.0           594.0  270  40.269535  \n",
       "3             932.0           594.0  365  41.052780  "
      ]
     },
     "execution_count": 5,
     "metadata": {},
     "output_type": "execute_result"
    }
   ],
   "source": [
    "data.head(4)"
   ]
  },
  {
   "cell_type": "code",
   "execution_count": 6,
   "metadata": {
    "colab": {
     "base_uri": "https://localhost:8080/"
    },
    "id": "BRKuGO_eUTID",
    "outputId": "e8a9f42d-b92d-4b74-f39a-151e25a1383f"
   },
   "outputs": [
    {
     "name": "stdout",
     "output_type": "stream",
     "text": [
      "<class 'pandas.core.frame.DataFrame'>\n",
      "RangeIndex: 1030 entries, 0 to 1029\n",
      "Data columns (total 9 columns):\n",
      " #   Column              Non-Null Count  Dtype  \n",
      "---  ------              --------------  -----  \n",
      " 0   Cement              1030 non-null   float64\n",
      " 1   Blast Furnace Slag  1030 non-null   float64\n",
      " 2   Fly Ash             1030 non-null   float64\n",
      " 3   Water               1030 non-null   float64\n",
      " 4   Superplasticizer    1030 non-null   float64\n",
      " 5   Coarse Aggregate    1030 non-null   float64\n",
      " 6   Fine Aggregate      1030 non-null   float64\n",
      " 7   Age                 1030 non-null   int64  \n",
      " 8   Strength            1030 non-null   float64\n",
      "dtypes: float64(8), int64(1)\n",
      "memory usage: 72.5 KB\n"
     ]
    }
   ],
   "source": [
    "data.info()"
   ]
  },
  {
   "cell_type": "markdown",
   "metadata": {
    "id": "oxROzmBqUYlW"
   },
   "source": [
    "Con lo anterior, se verifica que todas las variables corresponden a variables numéricas"
   ]
  },
  {
   "cell_type": "code",
   "execution_count": 7,
   "metadata": {
    "colab": {
     "base_uri": "https://localhost:8080/",
     "height": 441
    },
    "id": "bTMxfio8Uxrb",
    "outputId": "40e5a33c-1cda-4c93-fdea-9376bc19babd"
   },
   "outputs": [
    {
     "data": {
      "image/png": "[encoded data removed]",
      "text/plain": [
       "<Figure size 432x288 with 9 Axes>"
      ]
     },
     "metadata": {
      "needs_background": "light"
     },
     "output_type": "display_data"
    }
   ],
   "source": [
    "import matplotlib.pyplot as plt\n",
    "\n",
    "%matplotlib inline\n",
    "\n",
    "data.hist(bins=15, color='steelblue', edgecolor='black', linewidth=1.0,\n",
    "           xlabelsize=8, ylabelsize=8, grid=True)\n",
    "plt.tight_layout(rect=(0, 0, 1.5, 1.5)) "
   ]
  },
  {
   "cell_type": "code",
   "execution_count": 8,
   "metadata": {
    "colab": {
     "base_uri": "https://localhost:8080/",
     "height": 500
    },
    "id": "qtoVhuY-VC_R",
    "outputId": "856a21c0-d0fb-448d-aeaa-e9a18efc6d90"
   },
   "outputs": [
    {
     "data": {
      "image/png": "[encoded data removed]",
      "text/plain": [
       "<Figure size 864x432 with 2 Axes>"
      ]
     },
     "metadata": {
      "needs_background": "light"
     },
     "output_type": "display_data"
    }
   ],
   "source": [
    "import seaborn as sn\n",
    "\n",
    "f, ax = plt.subplots(figsize=(12, 6))\n",
    "corr = data.corr()\n",
    "hm = sn.heatmap(round(corr, 2), annot=True, ax=ax, cmap='coolwarm', fmt='.2f', linewidths=.05)\n",
    "\n",
    "f.suptitle('Matriz de Correlación de Atributos', fontsize=14)\n",
    "f.subplots_adjust(top=0.93)"
   ]
  },
  {
   "cell_type": "markdown",
   "metadata": {
    "id": "SAscfcdFFd-I"
   },
   "source": [
    "Como se observa en la matriz de correlación, inicialmente se puede señalar que las variables `cement`, `Superplasticizer`, y `Age`, son las más significativas para la variable de respuesta (objetivo) `Strength`."
   ]
  },
  {
   "cell_type": "code",
   "execution_count": 9,
   "metadata": {
    "colab": {
     "base_uri": "https://localhost:8080/"
    },
    "id": "DWuPFsAYZ95_",
    "outputId": "fe4838bd-412a-4662-ffb7-e034ab72c331"
   },
   "outputs": [
    {
     "name": "stdout",
     "output_type": "stream",
     "text": [
      "(train shape) X: (743, 8), y: (743,)\n",
      "(Validation shape) X: (132, 8), y: (132,)\n",
      "(test shape) X: (155, 8), y: (155,)\n"
     ]
    }
   ],
   "source": [
    "## Data partition (hold-out validation)\n",
    "trainValSet, testSet = train_test_split(data, train_size=0.85, random_state=0)\n",
    "trainSet, valSet = train_test_split(trainValSet, train_size=0.85, random_state=0)\n",
    "\n",
    "## Data standardization (this function return a numpy.ndarray)\n",
    "scaler = StandardScaler().fit(trainSet)\n",
    "trainSet_scaled = scaler.transform(trainSet)\n",
    "valSet_scaled = scaler.transform(valSet)\n",
    "testSet_scaled = scaler.transform(testSet)\n",
    "\n",
    "## Predictors and target\n",
    "X_train, y_train = trainSet_scaled[:, :-1], trainSet_scaled[:, -1]\n",
    "X_val,   y_val =   valSet_scaled[:, :-1], valSet_scaled[:, -1]\n",
    "X_test,  y_test =  testSet_scaled[:, :-1], testSet_scaled[:, -1]\n",
    "\n",
    "## Shape of data\n",
    "print('(train shape) X: {}, y: {}'.format(X_train.shape, y_train.shape))\n",
    "print('(Validation shape) X: {}, y: {}'.format(X_val.shape, y_val.shape))\n",
    "print('(test shape) X: {}, y: {}'.format(X_test.shape, y_test.shape))"
   ]
  },
  {
   "cell_type": "markdown",
   "metadata": {
    "id": "zhofK7FeSS-j"
   },
   "source": [
    "# __Actividad__\n",
    "\n",
    "En base a lo aprendido hoy en clase, genere un modelo predictivo mediante redes neuronales con capas Dense, para predecir el __Strength__. Utilice el conjunto de entrenamiento y validación de la mejor forma tal de poder definir los hiperparámetros de una red neuronal (número de capas ocultas, número de unidades en las capas, funciones de activación, número de épocas). Una vez que haya definido la mejor configuración de la red neuronal, entrenela (con el conjunto de entrenamiento completo, i.e., train +val) y evalúe el desempeño en el conjunto de prueba, en particular entregue el mean absolute error o el mean squared error."
   ]
  },
  {
   "cell_type": "markdown",
   "metadata": {
    "id": "dys8WeiYklbT"
   },
   "source": [
    "### Respuesta:"
   ]
  },
  {
   "cell_type": "markdown",
   "metadata": {
    "id": "14uG8R1ykN6T"
   },
   "source": [
    "## Definición de la Red Neuronal:\n",
    "Inicialmente se define la red con parámetros estandar (estimados), en este caso, lo primero es definir como métrica una función de RMSE"
   ]
  },
  {
   "cell_type": "code",
   "execution_count": 10,
   "metadata": {
    "id": "1iQYIXO3zLMz"
   },
   "outputs": [],
   "source": [
    "def rmse(y_true, y_pred):\n",
    "\treturn backend.sqrt(backend.mean(backend.square(y_pred - y_true), axis=-1))"
   ]
  },
  {
   "cell_type": "markdown",
   "metadata": {
    "id": "Wr1eKyn17jS6"
   },
   "source": [
    " Se define una red neuronal **densa** que involucra una capa de entrada de 8 variables y una capa de salida de 1 variable correspondiente a la variable objetivo.\n",
    " En este caso, tenemos 2 capas intermedias de 32 y 16 correspondientemente."
   ]
  },
  {
   "cell_type": "code",
   "execution_count": 11,
   "metadata": {
    "id": "mGam696CcpC-"
   },
   "outputs": [],
   "source": [
    "from keras.models import Sequential\n",
    "from keras.layers import Dense\n",
    "from keras import backend\n",
    "from tensorflow import keras\n",
    "\n",
    "model = keras.Sequential([\n",
    "    #Primera capa\n",
    "    keras.layers.Dense(64, activation='relu', input_dim=8),\n",
    "    #Segunda capa\n",
    "    keras.layers.Dense(32, activation='relu'),\n",
    "    #Tercera Capa\n",
    "    keras.layers.Dense(16, activation='relu'),\n",
    "    #Capa de salida\n",
    "    keras.layers.Dense(1, activation='linear')\n",
    "])"
   ]
  },
  {
   "cell_type": "markdown",
   "metadata": {
    "id": "kkVJ002I7zr_"
   },
   "source": [
    "Se verifica el detalle de capas, variables y parámetros creados."
   ]
  },
  {
   "cell_type": "code",
   "execution_count": 12,
   "metadata": {
    "colab": {
     "base_uri": "https://localhost:8080/"
    },
    "id": "m4PlkZuIjAip",
    "outputId": "c9c37c5c-9d7b-4db5-dfe0-4bd941cecc12"
   },
   "outputs": [
    {
     "name": "stdout",
     "output_type": "stream",
     "text": [
      "Model: \"sequential\"\n",
      "_________________________________________________________________\n",
      " Layer (type)                Output Shape              Param #   \n",
      "=================================================================\n",
      " dense (Dense)               (None, 64)                576       \n",
      "                                                                 \n",
      " dense_1 (Dense)             (None, 32)                2080      \n",
      "                                                                 \n",
      " dense_2 (Dense)             (None, 16)                528       \n",
      "                                                                 \n",
      " dense_3 (Dense)             (None, 1)                 17        \n",
      "                                                                 \n",
      "=================================================================\n",
      "Total params: 3,201\n",
      "Trainable params: 3,201\n",
      "Non-trainable params: 0\n",
      "_________________________________________________________________\n"
     ]
    }
   ],
   "source": [
    "model.summary()"
   ]
  },
  {
   "cell_type": "markdown",
   "metadata": {
    "id": "_0hK8TapkXjJ"
   },
   "source": [
    "## Entrenamiento de la red neuronal."
   ]
  },
  {
   "cell_type": "markdown",
   "metadata": {
    "id": "7yEEAMIo8AYk"
   },
   "source": [
    "Objeto entrenar la red neuronal y habiendo definido el optimizador \"adam\", definimos el **learning rate**, el cual modificamos para obtener mejores resultados."
   ]
  },
  {
   "cell_type": "code",
   "execution_count": 13,
   "metadata": {
    "id": "VIyazzkGzagO"
   },
   "outputs": [],
   "source": [
    "opt =keras.optimizers.Adam(learning_rate=0.00015)"
   ]
  },
  {
   "cell_type": "markdown",
   "metadata": {
    "id": "MHLwz8YU8YyR"
   },
   "source": [
    "Los parámetros seleccionados en esta red será autodefinidos considerando: Epocas = 20, batch_size = 12."
   ]
  },
  {
   "cell_type": "code",
   "execution_count": 14,
   "metadata": {
    "colab": {
     "base_uri": "https://localhost:8080/"
    },
    "id": "lKsGcjWpzgY3",
    "outputId": "983920df-b610-4eeb-cf2d-ef270e21ac69"
   },
   "outputs": [
    {
     "name": "stdout",
     "output_type": "stream",
     "text": [
      "Epoch 1/20\n",
      "62/62 [==============================] - 1s 6ms/step - loss: 1.0241 - rmse: 0.7954 - val_loss: 0.8730 - val_rmse: 0.7679\n",
      "Epoch 2/20\n",
      "62/62 [==============================] - 0s 3ms/step - loss: 0.9045 - rmse: 0.7502 - val_loss: 0.7807 - val_rmse: 0.7280\n",
      "Epoch 3/20\n",
      "62/62 [==============================] - 0s 3ms/step - loss: 0.8165 - rmse: 0.7137 - val_loss: 0.7137 - val_rmse: 0.6932\n",
      "Epoch 4/20\n",
      "62/62 [==============================] - 0s 3ms/step - loss: 0.7421 - rmse: 0.6803 - val_loss: 0.6489 - val_rmse: 0.6597\n",
      "Epoch 5/20\n",
      "62/62 [==============================] - 0s 3ms/step - loss: 0.6695 - rmse: 0.6455 - val_loss: 0.5847 - val_rmse: 0.6272\n",
      "Epoch 6/20\n",
      "62/62 [==============================] - 0s 3ms/step - loss: 0.5947 - rmse: 0.6069 - val_loss: 0.5238 - val_rmse: 0.5931\n",
      "Epoch 7/20\n",
      "62/62 [==============================] - 0s 3ms/step - loss: 0.5229 - rmse: 0.5659 - val_loss: 0.4704 - val_rmse: 0.5565\n",
      "Epoch 8/20\n",
      "62/62 [==============================] - 0s 3ms/step - loss: 0.4612 - rmse: 0.5304 - val_loss: 0.4284 - val_rmse: 0.5257\n",
      "Epoch 9/20\n",
      "62/62 [==============================] - 0s 3ms/step - loss: 0.4115 - rmse: 0.5010 - val_loss: 0.4005 - val_rmse: 0.5086\n",
      "Epoch 10/20\n",
      "62/62 [==============================] - 0s 3ms/step - loss: 0.3744 - rmse: 0.4789 - val_loss: 0.3796 - val_rmse: 0.4911\n",
      "Epoch 11/20\n",
      "62/62 [==============================] - 0s 3ms/step - loss: 0.3476 - rmse: 0.4605 - val_loss: 0.3657 - val_rmse: 0.4783\n",
      "Epoch 12/20\n",
      "62/62 [==============================] - 0s 3ms/step - loss: 0.3240 - rmse: 0.4442 - val_loss: 0.3484 - val_rmse: 0.4649\n",
      "Epoch 13/20\n",
      "62/62 [==============================] - 0s 3ms/step - loss: 0.3048 - rmse: 0.4309 - val_loss: 0.3340 - val_rmse: 0.4521\n",
      "Epoch 14/20\n",
      "62/62 [==============================] - 0s 3ms/step - loss: 0.2872 - rmse: 0.4169 - val_loss: 0.3219 - val_rmse: 0.4431\n",
      "Epoch 15/20\n",
      "62/62 [==============================] - 0s 3ms/step - loss: 0.2739 - rmse: 0.4060 - val_loss: 0.3018 - val_rmse: 0.4303\n",
      "Epoch 16/20\n",
      "62/62 [==============================] - 0s 3ms/step - loss: 0.2626 - rmse: 0.3969 - val_loss: 0.2966 - val_rmse: 0.4251\n",
      "Epoch 17/20\n",
      "62/62 [==============================] - 0s 3ms/step - loss: 0.2490 - rmse: 0.3855 - val_loss: 0.2841 - val_rmse: 0.4148\n",
      "Epoch 18/20\n",
      "62/62 [==============================] - 0s 3ms/step - loss: 0.2386 - rmse: 0.3763 - val_loss: 0.2778 - val_rmse: 0.4101\n",
      "Epoch 19/20\n",
      "62/62 [==============================] - 0s 3ms/step - loss: 0.2287 - rmse: 0.3671 - val_loss: 0.2698 - val_rmse: 0.4041\n",
      "Epoch 20/20\n",
      "62/62 [==============================] - 0s 3ms/step - loss: 0.2203 - rmse: 0.3601 - val_loss: 0.2562 - val_rmse: 0.3948\n",
      "5/5 [==============================] - 0s 3ms/step - loss: 0.2531 - rmse: 0.3831\n",
      "Model: \"sequential\"\n",
      "_________________________________________________________________\n",
      " Layer (type)                Output Shape              Param #   \n",
      "=================================================================\n",
      " dense (Dense)               (None, 64)                576       \n",
      "                                                                 \n",
      " dense_1 (Dense)             (None, 32)                2080      \n",
      "                                                                 \n",
      " dense_2 (Dense)             (None, 16)                528       \n",
      "                                                                 \n",
      " dense_3 (Dense)             (None, 1)                 17        \n",
      "                                                                 \n",
      "=================================================================\n",
      "Total params: 3,201\n",
      "Trainable params: 3,201\n",
      "Non-trainable params: 0\n",
      "_________________________________________________________________\n",
      "None\n"
     ]
    }
   ],
   "source": [
    "from keras import backend\n",
    "model.compile(optimizer=opt, loss='mean_squared_error', metrics=[rmse])\n",
    "history = model.fit(X_train, y_train, epochs = 20 , batch_size=12, validation_data=(X_val, y_val))\n",
    "mse_test = model.evaluate(X_test, y_test)\n",
    "\n",
    "print(model.summary())"
   ]
  },
  {
   "cell_type": "markdown",
   "metadata": {
    "id": "LcDPcwF98dRx"
   },
   "source": [
    "Posterior a esto, se identifica el indicador de R2 que simboliza qué tan cerca están los datos de la línea de regresión ajustada."
   ]
  },
  {
   "cell_type": "code",
   "execution_count": 15,
   "metadata": {
    "colab": {
     "base_uri": "https://localhost:8080/"
    },
    "id": "GoaKU8b50STY",
    "outputId": "90dbd27f-f1ce-4e64-a74a-6a855ada1090"
   },
   "outputs": [
    {
     "name": "stdout",
     "output_type": "stream",
     "text": [
      "5/5 [==============================] - 0s 3ms/step\n",
      "0.7330271985419285\n"
     ]
    }
   ],
   "source": [
    "# Calculo de r2\n",
    "\n",
    "y_predict = model.predict(X_test)\n",
    "\n",
    "from sklearn.metrics import r2_score\n",
    "print(r2_score(y_test,y_predict))"
   ]
  },
  {
   "cell_type": "markdown",
   "metadata": {
    "id": "fVDnMhf788sF"
   },
   "source": [
    "De acuerdo al resultado obtenido en r2 (73.3%), demuestra que el modelo ajusta parte de la variabilidad en torno a su media."
   ]
  },
  {
   "cell_type": "code",
   "execution_count": 24,
   "metadata": {
    "colab": {
     "base_uri": "https://localhost:8080/",
     "height": 350
    },
    "id": "3_86ne4F0gwN",
    "outputId": "aee3487c-86c6-4ab9-c3cb-24b37c774ceb"
   },
   "outputs": [
    {
     "data": {
      "image/png": "[encoded data removed]",
      "text/plain": [
       "<Figure size 1152x360 with 2 Axes>"
      ]
     },
     "metadata": {
      "needs_background": "light"
     },
     "output_type": "display_data"
    }
   ],
   "source": [
    "# Gráfico que muestra la pérdida (loss) y rmse Para Training y Test.\n",
    "plt.figure(figsize=(16,5))\n",
    "plt.subplot(1,2,1)\n",
    "plt.plot(history.history['rmse'])\n",
    "plt.plot(history.history['val_rmse'])\n",
    "plt.title('Root Mean Squared Error (RMSE)')\n",
    "plt.ylabel('rmse')\n",
    "plt.xlabel('epoch')\n",
    "plt.legend(['Entrenamiento', 'test'], loc='upper right')\n",
    "# Sumatoria de pérdidas\n",
    "\n",
    "plt.subplot(1,2,2)\n",
    "plt.plot(history.history['loss'])\n",
    "plt.plot(history.history['val_loss'])\n",
    "plt.title('Pérdida (loss) del modelo')\n",
    "plt.ylabel('loss')\n",
    "plt.xlabel('epoch')\n",
    "plt.legend(['Entrenamiento', 'test'], loc='upper right')\n",
    "plt.savefig('4.png')\n",
    "plt.show()"
   ]
  },
  {
   "cell_type": "markdown",
   "metadata": {
    "id": "PoHr1-YH_Jfe"
   },
   "source": [
    "Del análisis de los gráficos, en particular el 2, podemos obtener que existe una estabilización en torno a las perdidas, por lo cual, el número de épocas ideal, lo podemos relacionar a un valor cercano a 8."
   ]
  },
  {
   "cell_type": "markdown",
   "metadata": {
    "id": "llv04GsG_g4K"
   },
   "source": [
    "## Modelo 2:\n",
    "\n",
    "Se ejecutará una nueva simulación con variación en los hiperparámetros, considerando lo siguiente:\n",
    "\n",
    "- Optimizador: SGD.\n",
    "- Epocas : 200.\n",
    "- Batch Size: 12.\n",
    "- Learning Rate: 0.015."
   ]
  },
  {
   "cell_type": "code",
   "execution_count": 46,
   "metadata": {
    "colab": {
     "base_uri": "https://localhost:8080/"
    },
    "id": "Ci0scVqRAGY4",
    "outputId": "734f49d6-f306-40d5-af89-62507cd86ed7"
   },
   "outputs": [
    {
     "name": "stdout",
     "output_type": "stream",
     "text": [
      "Epoch 1/200\n",
      "62/62 [==============================] - 1s 4ms/step - loss: 0.0701 - rmse: 0.2042 - val_loss: 0.1457 - val_rmse: 0.2986\n",
      "Epoch 2/200\n",
      "62/62 [==============================] - 0s 2ms/step - loss: 0.0852 - rmse: 0.2171 - val_loss: 0.1317 - val_rmse: 0.2859\n",
      "Epoch 3/200\n",
      "62/62 [==============================] - 0s 2ms/step - loss: 0.0785 - rmse: 0.2087 - val_loss: 0.1438 - val_rmse: 0.2865\n",
      "Epoch 4/200\n",
      "62/62 [==============================] - 0s 2ms/step - loss: 0.0671 - rmse: 0.1942 - val_loss: 0.1506 - val_rmse: 0.3057\n",
      "Epoch 5/200\n",
      "62/62 [==============================] - 0s 2ms/step - loss: 0.0749 - rmse: 0.2038 - val_loss: 0.1334 - val_rmse: 0.2860\n",
      "Epoch 6/200\n",
      "62/62 [==============================] - 0s 2ms/step - loss: 0.0684 - rmse: 0.1946 - val_loss: 0.1336 - val_rmse: 0.2824\n",
      "Epoch 7/200\n",
      "62/62 [==============================] - 0s 2ms/step - loss: 0.0667 - rmse: 0.1953 - val_loss: 0.1432 - val_rmse: 0.2818\n",
      "Epoch 8/200\n",
      "62/62 [==============================] - 0s 2ms/step - loss: 0.0661 - rmse: 0.1924 - val_loss: 0.2060 - val_rmse: 0.3490\n",
      "Epoch 9/200\n",
      "62/62 [==============================] - 0s 2ms/step - loss: 0.0686 - rmse: 0.1963 - val_loss: 0.1217 - val_rmse: 0.2650\n",
      "Epoch 10/200\n",
      "62/62 [==============================] - 0s 2ms/step - loss: 0.0589 - rmse: 0.1815 - val_loss: 0.1401 - val_rmse: 0.2860\n",
      "Epoch 11/200\n",
      "62/62 [==============================] - 0s 2ms/step - loss: 0.0623 - rmse: 0.1850 - val_loss: 0.1272 - val_rmse: 0.2711\n",
      "Epoch 12/200\n",
      "62/62 [==============================] - 0s 2ms/step - loss: 0.0603 - rmse: 0.1825 - val_loss: 0.1360 - val_rmse: 0.2858\n",
      "Epoch 13/200\n",
      "62/62 [==============================] - 0s 2ms/step - loss: 0.0611 - rmse: 0.1830 - val_loss: 0.1294 - val_rmse: 0.2816\n",
      "Epoch 14/200\n",
      "62/62 [==============================] - 0s 2ms/step - loss: 0.0603 - rmse: 0.1835 - val_loss: 0.1199 - val_rmse: 0.2663\n",
      "Epoch 15/200\n",
      "62/62 [==============================] - 0s 2ms/step - loss: 0.0609 - rmse: 0.1829 - val_loss: 0.1325 - val_rmse: 0.2763\n",
      "Epoch 16/200\n",
      "62/62 [==============================] - 0s 2ms/step - loss: 0.0585 - rmse: 0.1829 - val_loss: 0.1444 - val_rmse: 0.2901\n",
      "Epoch 17/200\n",
      "62/62 [==============================] - 0s 2ms/step - loss: 0.0577 - rmse: 0.1789 - val_loss: 0.1196 - val_rmse: 0.2609\n",
      "Epoch 18/200\n",
      "62/62 [==============================] - 0s 2ms/step - loss: 0.0558 - rmse: 0.1761 - val_loss: 0.1232 - val_rmse: 0.2727\n",
      "Epoch 19/200\n",
      "62/62 [==============================] - 0s 2ms/step - loss: 0.0603 - rmse: 0.1810 - val_loss: 0.1374 - val_rmse: 0.2894\n",
      "Epoch 20/200\n",
      "62/62 [==============================] - 0s 2ms/step - loss: 0.0617 - rmse: 0.1804 - val_loss: 0.1176 - val_rmse: 0.2617\n",
      "Epoch 21/200\n",
      "62/62 [==============================] - 0s 2ms/step - loss: 0.0553 - rmse: 0.1751 - val_loss: 0.1239 - val_rmse: 0.2670\n",
      "Epoch 22/200\n",
      "62/62 [==============================] - 0s 2ms/step - loss: 0.0566 - rmse: 0.1818 - val_loss: 0.1225 - val_rmse: 0.2652\n",
      "Epoch 23/200\n",
      "62/62 [==============================] - 0s 2ms/step - loss: 0.0594 - rmse: 0.1816 - val_loss: 0.1244 - val_rmse: 0.2652\n",
      "Epoch 24/200\n",
      "62/62 [==============================] - 0s 2ms/step - loss: 0.0565 - rmse: 0.1749 - val_loss: 0.1249 - val_rmse: 0.2684\n",
      "Epoch 25/200\n",
      "62/62 [==============================] - 0s 2ms/step - loss: 0.0533 - rmse: 0.1711 - val_loss: 0.1131 - val_rmse: 0.2608\n",
      "Epoch 26/200\n",
      "62/62 [==============================] - 0s 2ms/step - loss: 0.0539 - rmse: 0.1735 - val_loss: 0.1293 - val_rmse: 0.2675\n",
      "Epoch 27/200\n",
      "62/62 [==============================] - 0s 2ms/step - loss: 0.0531 - rmse: 0.1727 - val_loss: 0.1173 - val_rmse: 0.2650\n",
      "Epoch 28/200\n",
      "62/62 [==============================] - 0s 2ms/step - loss: 0.0501 - rmse: 0.1651 - val_loss: 0.1366 - val_rmse: 0.2782\n",
      "Epoch 29/200\n",
      "62/62 [==============================] - 0s 2ms/step - loss: 0.0517 - rmse: 0.1673 - val_loss: 0.1458 - val_rmse: 0.2864\n",
      "Epoch 30/200\n",
      "62/62 [==============================] - 0s 2ms/step - loss: 0.0489 - rmse: 0.1634 - val_loss: 0.1133 - val_rmse: 0.2555\n",
      "Epoch 31/200\n",
      "62/62 [==============================] - 0s 2ms/step - loss: 0.0551 - rmse: 0.1740 - val_loss: 0.1112 - val_rmse: 0.2546\n",
      "Epoch 32/200\n",
      "62/62 [==============================] - 0s 2ms/step - loss: 0.0515 - rmse: 0.1679 - val_loss: 0.1143 - val_rmse: 0.2595\n",
      "Epoch 33/200\n",
      "62/62 [==============================] - 0s 2ms/step - loss: 0.0488 - rmse: 0.1632 - val_loss: 0.1225 - val_rmse: 0.2697\n",
      "Epoch 34/200\n",
      "62/62 [==============================] - 0s 2ms/step - loss: 0.0459 - rmse: 0.1592 - val_loss: 0.1267 - val_rmse: 0.2700\n",
      "Epoch 35/200\n",
      "62/62 [==============================] - 0s 2ms/step - loss: 0.0539 - rmse: 0.1733 - val_loss: 0.1106 - val_rmse: 0.2571\n",
      "Epoch 36/200\n",
      "62/62 [==============================] - 0s 2ms/step - loss: 0.0542 - rmse: 0.1697 - val_loss: 0.1134 - val_rmse: 0.2590\n",
      "Epoch 37/200\n",
      "62/62 [==============================] - 0s 2ms/step - loss: 0.0505 - rmse: 0.1664 - val_loss: 0.1144 - val_rmse: 0.2570\n",
      "Epoch 38/200\n",
      "62/62 [==============================] - 0s 2ms/step - loss: 0.0478 - rmse: 0.1614 - val_loss: 0.1103 - val_rmse: 0.2472\n",
      "Epoch 39/200\n",
      "62/62 [==============================] - 0s 2ms/step - loss: 0.0460 - rmse: 0.1591 - val_loss: 0.1120 - val_rmse: 0.2548\n",
      "Epoch 40/200\n",
      "62/62 [==============================] - 0s 2ms/step - loss: 0.0524 - rmse: 0.1683 - val_loss: 0.1097 - val_rmse: 0.2527\n",
      "Epoch 41/200\n",
      "62/62 [==============================] - 0s 3ms/step - loss: 0.0462 - rmse: 0.1578 - val_loss: 0.1130 - val_rmse: 0.2536\n",
      "Epoch 42/200\n",
      "62/62 [==============================] - 0s 2ms/step - loss: 0.0705 - rmse: 0.1790 - val_loss: 0.1252 - val_rmse: 0.2690\n",
      "Epoch 43/200\n",
      "62/62 [==============================] - 0s 2ms/step - loss: 0.0499 - rmse: 0.1608 - val_loss: 0.1183 - val_rmse: 0.2607\n",
      "Epoch 44/200\n",
      "62/62 [==============================] - 0s 2ms/step - loss: 0.0477 - rmse: 0.1604 - val_loss: 0.1122 - val_rmse: 0.2552\n",
      "Epoch 45/200\n",
      "62/62 [==============================] - 0s 2ms/step - loss: 0.0421 - rmse: 0.1527 - val_loss: 0.1286 - val_rmse: 0.2733\n",
      "Epoch 46/200\n",
      "62/62 [==============================] - 0s 2ms/step - loss: 0.0449 - rmse: 0.1546 - val_loss: 0.1348 - val_rmse: 0.2798\n",
      "Epoch 47/200\n",
      "62/62 [==============================] - 0s 2ms/step - loss: 0.0455 - rmse: 0.1581 - val_loss: 0.1167 - val_rmse: 0.2505\n",
      "Epoch 48/200\n",
      "62/62 [==============================] - 0s 2ms/step - loss: 0.0494 - rmse: 0.1606 - val_loss: 0.1173 - val_rmse: 0.2556\n",
      "Epoch 49/200\n",
      "62/62 [==============================] - 0s 2ms/step - loss: 0.0477 - rmse: 0.1573 - val_loss: 0.1161 - val_rmse: 0.2551\n",
      "Epoch 50/200\n",
      "62/62 [==============================] - 0s 2ms/step - loss: 0.0460 - rmse: 0.1531 - val_loss: 0.1339 - val_rmse: 0.2754\n",
      "Epoch 51/200\n",
      "62/62 [==============================] - 0s 2ms/step - loss: 0.0439 - rmse: 0.1560 - val_loss: 0.1134 - val_rmse: 0.2517\n",
      "Epoch 52/200\n",
      "62/62 [==============================] - 0s 2ms/step - loss: 0.0489 - rmse: 0.1582 - val_loss: 0.1113 - val_rmse: 0.2471\n",
      "Epoch 53/200\n",
      "62/62 [==============================] - 0s 2ms/step - loss: 0.0450 - rmse: 0.1539 - val_loss: 0.1485 - val_rmse: 0.2779\n",
      "Epoch 54/200\n",
      "62/62 [==============================] - 0s 2ms/step - loss: 0.0465 - rmse: 0.1562 - val_loss: 0.1073 - val_rmse: 0.2521\n",
      "Epoch 55/200\n",
      "62/62 [==============================] - 0s 2ms/step - loss: 0.0504 - rmse: 0.1607 - val_loss: 0.1302 - val_rmse: 0.2638\n",
      "Epoch 56/200\n",
      "62/62 [==============================] - 0s 2ms/step - loss: 0.0419 - rmse: 0.1531 - val_loss: 0.1331 - val_rmse: 0.2724\n",
      "Epoch 57/200\n",
      "62/62 [==============================] - 0s 2ms/step - loss: 0.0425 - rmse: 0.1514 - val_loss: 0.1140 - val_rmse: 0.2594\n",
      "Epoch 58/200\n",
      "62/62 [==============================] - 0s 2ms/step - loss: 0.0449 - rmse: 0.1535 - val_loss: 0.1211 - val_rmse: 0.2609\n",
      "Epoch 59/200\n",
      "62/62 [==============================] - 0s 2ms/step - loss: 0.0412 - rmse: 0.1489 - val_loss: 0.1127 - val_rmse: 0.2500\n",
      "Epoch 60/200\n",
      "62/62 [==============================] - 0s 2ms/step - loss: 0.0413 - rmse: 0.1501 - val_loss: 0.1076 - val_rmse: 0.2509\n",
      "Epoch 61/200\n",
      "62/62 [==============================] - 0s 2ms/step - loss: 0.0398 - rmse: 0.1477 - val_loss: 0.1066 - val_rmse: 0.2497\n",
      "Epoch 62/200\n",
      "62/62 [==============================] - 0s 2ms/step - loss: 0.0417 - rmse: 0.1475 - val_loss: 0.1236 - val_rmse: 0.2629\n",
      "Epoch 63/200\n",
      "62/62 [==============================] - 0s 2ms/step - loss: 0.0433 - rmse: 0.1498 - val_loss: 0.1105 - val_rmse: 0.2562\n",
      "Epoch 64/200\n",
      "62/62 [==============================] - 0s 2ms/step - loss: 0.0409 - rmse: 0.1508 - val_loss: 0.1189 - val_rmse: 0.2530\n",
      "Epoch 65/200\n",
      "62/62 [==============================] - 0s 2ms/step - loss: 0.0420 - rmse: 0.1480 - val_loss: 0.1248 - val_rmse: 0.2621\n",
      "Epoch 66/200\n",
      "62/62 [==============================] - 0s 2ms/step - loss: 0.0398 - rmse: 0.1484 - val_loss: 0.1171 - val_rmse: 0.2512\n",
      "Epoch 67/200\n",
      "62/62 [==============================] - 0s 2ms/step - loss: 0.0424 - rmse: 0.1497 - val_loss: 0.1165 - val_rmse: 0.2539\n",
      "Epoch 68/200\n",
      "62/62 [==============================] - 0s 2ms/step - loss: 0.0478 - rmse: 0.1517 - val_loss: 0.1090 - val_rmse: 0.2415\n",
      "Epoch 69/200\n",
      "62/62 [==============================] - 0s 2ms/step - loss: 0.0387 - rmse: 0.1440 - val_loss: 0.1434 - val_rmse: 0.2822\n",
      "Epoch 70/200\n",
      "62/62 [==============================] - 0s 3ms/step - loss: 0.0437 - rmse: 0.1543 - val_loss: 0.1132 - val_rmse: 0.2512\n",
      "Epoch 71/200\n",
      "62/62 [==============================] - 0s 2ms/step - loss: 0.0405 - rmse: 0.1458 - val_loss: 0.1173 - val_rmse: 0.2550\n",
      "Epoch 72/200\n",
      "62/62 [==============================] - 0s 2ms/step - loss: 0.0473 - rmse: 0.1560 - val_loss: 0.1118 - val_rmse: 0.2473\n",
      "Epoch 73/200\n",
      "62/62 [==============================] - 0s 2ms/step - loss: 0.0457 - rmse: 0.1500 - val_loss: 0.1170 - val_rmse: 0.2534\n",
      "Epoch 74/200\n",
      "62/62 [==============================] - 0s 2ms/step - loss: 0.0375 - rmse: 0.1363 - val_loss: 0.1223 - val_rmse: 0.2620\n",
      "Epoch 75/200\n",
      "62/62 [==============================] - 0s 2ms/step - loss: 0.0412 - rmse: 0.1507 - val_loss: 0.1210 - val_rmse: 0.2568\n",
      "Epoch 76/200\n",
      "62/62 [==============================] - 0s 2ms/step - loss: 0.0400 - rmse: 0.1444 - val_loss: 0.1091 - val_rmse: 0.2512\n",
      "Epoch 77/200\n",
      "62/62 [==============================] - 0s 2ms/step - loss: 0.0419 - rmse: 0.1497 - val_loss: 0.1331 - val_rmse: 0.2672\n",
      "Epoch 78/200\n",
      "62/62 [==============================] - 0s 2ms/step - loss: 0.0376 - rmse: 0.1413 - val_loss: 0.1107 - val_rmse: 0.2411\n",
      "Epoch 79/200\n",
      "62/62 [==============================] - 0s 2ms/step - loss: 0.0432 - rmse: 0.1474 - val_loss: 0.1042 - val_rmse: 0.2513\n",
      "Epoch 80/200\n",
      "62/62 [==============================] - 0s 2ms/step - loss: 0.0426 - rmse: 0.1475 - val_loss: 0.1076 - val_rmse: 0.2522\n",
      "Epoch 81/200\n",
      "62/62 [==============================] - 0s 2ms/step - loss: 0.0370 - rmse: 0.1396 - val_loss: 0.1106 - val_rmse: 0.2411\n",
      "Epoch 82/200\n",
      "62/62 [==============================] - 0s 2ms/step - loss: 0.0350 - rmse: 0.1340 - val_loss: 0.1135 - val_rmse: 0.2438\n",
      "Epoch 83/200\n",
      "62/62 [==============================] - 0s 2ms/step - loss: 0.0366 - rmse: 0.1358 - val_loss: 0.1102 - val_rmse: 0.2514\n",
      "Epoch 84/200\n",
      "62/62 [==============================] - 0s 2ms/step - loss: 0.0353 - rmse: 0.1340 - val_loss: 0.1368 - val_rmse: 0.2761\n",
      "Epoch 85/200\n",
      "62/62 [==============================] - 0s 2ms/step - loss: 0.0363 - rmse: 0.1368 - val_loss: 0.1620 - val_rmse: 0.2943\n",
      "Epoch 86/200\n",
      "62/62 [==============================] - 0s 2ms/step - loss: 0.0455 - rmse: 0.1465 - val_loss: 0.1089 - val_rmse: 0.2380\n",
      "Epoch 87/200\n",
      "62/62 [==============================] - 0s 2ms/step - loss: 0.0370 - rmse: 0.1378 - val_loss: 0.1020 - val_rmse: 0.2329\n",
      "Epoch 88/200\n",
      "62/62 [==============================] - 0s 2ms/step - loss: 0.0331 - rmse: 0.1327 - val_loss: 0.1101 - val_rmse: 0.2441\n",
      "Epoch 89/200\n",
      "62/62 [==============================] - 0s 2ms/step - loss: 0.0361 - rmse: 0.1400 - val_loss: 0.1179 - val_rmse: 0.2571\n",
      "Epoch 90/200\n",
      "62/62 [==============================] - 0s 2ms/step - loss: 0.0352 - rmse: 0.1376 - val_loss: 0.1055 - val_rmse: 0.2401\n",
      "Epoch 91/200\n",
      "62/62 [==============================] - 0s 2ms/step - loss: 0.0333 - rmse: 0.1329 - val_loss: 0.1973 - val_rmse: 0.3380\n",
      "Epoch 92/200\n",
      "62/62 [==============================] - 0s 2ms/step - loss: 0.0389 - rmse: 0.1433 - val_loss: 0.1054 - val_rmse: 0.2406\n",
      "Epoch 93/200\n",
      "62/62 [==============================] - 0s 2ms/step - loss: 0.0352 - rmse: 0.1373 - val_loss: 0.1145 - val_rmse: 0.2508\n",
      "Epoch 94/200\n",
      "62/62 [==============================] - 0s 2ms/step - loss: 0.0330 - rmse: 0.1335 - val_loss: 0.1013 - val_rmse: 0.2342\n",
      "Epoch 95/200\n",
      "62/62 [==============================] - 0s 3ms/step - loss: 0.0333 - rmse: 0.1323 - val_loss: 0.1210 - val_rmse: 0.2544\n",
      "Epoch 96/200\n",
      "62/62 [==============================] - 0s 2ms/step - loss: 0.0349 - rmse: 0.1337 - val_loss: 0.1269 - val_rmse: 0.2663\n",
      "Epoch 97/200\n",
      "62/62 [==============================] - 0s 3ms/step - loss: 0.0345 - rmse: 0.1323 - val_loss: 0.1185 - val_rmse: 0.2483\n",
      "Epoch 98/200\n",
      "62/62 [==============================] - 0s 2ms/step - loss: 0.0379 - rmse: 0.1411 - val_loss: 0.1067 - val_rmse: 0.2364\n",
      "Epoch 99/200\n",
      "62/62 [==============================] - 0s 3ms/step - loss: 0.0362 - rmse: 0.1351 - val_loss: 0.1357 - val_rmse: 0.2688\n",
      "Epoch 100/200\n",
      "62/62 [==============================] - 0s 2ms/step - loss: 0.0361 - rmse: 0.1387 - val_loss: 0.1176 - val_rmse: 0.2486\n",
      "Epoch 101/200\n",
      "62/62 [==============================] - 0s 2ms/step - loss: 0.0339 - rmse: 0.1313 - val_loss: 0.1432 - val_rmse: 0.2685\n",
      "Epoch 102/200\n",
      "62/62 [==============================] - 0s 2ms/step - loss: 0.0342 - rmse: 0.1355 - val_loss: 0.1142 - val_rmse: 0.2399\n",
      "Epoch 103/200\n",
      "62/62 [==============================] - 0s 2ms/step - loss: 0.0340 - rmse: 0.1347 - val_loss: 0.1438 - val_rmse: 0.2831\n",
      "Epoch 104/200\n",
      "62/62 [==============================] - 0s 3ms/step - loss: 0.0345 - rmse: 0.1353 - val_loss: 0.1363 - val_rmse: 0.2733\n",
      "Epoch 105/200\n",
      "62/62 [==============================] - 0s 2ms/step - loss: 0.0355 - rmse: 0.1328 - val_loss: 0.1080 - val_rmse: 0.2365\n",
      "Epoch 106/200\n",
      "62/62 [==============================] - 0s 2ms/step - loss: 0.0377 - rmse: 0.1387 - val_loss: 0.1147 - val_rmse: 0.2480\n",
      "Epoch 107/200\n",
      "62/62 [==============================] - 0s 2ms/step - loss: 0.0364 - rmse: 0.1344 - val_loss: 0.1094 - val_rmse: 0.2452\n",
      "Epoch 108/200\n",
      "62/62 [==============================] - 0s 2ms/step - loss: 0.0329 - rmse: 0.1292 - val_loss: 0.1120 - val_rmse: 0.2476\n",
      "Epoch 109/200\n",
      "62/62 [==============================] - 0s 2ms/step - loss: 0.0361 - rmse: 0.1363 - val_loss: 0.1103 - val_rmse: 0.2441\n",
      "Epoch 110/200\n",
      "62/62 [==============================] - 0s 3ms/step - loss: 0.0334 - rmse: 0.1305 - val_loss: 0.1086 - val_rmse: 0.2414\n",
      "Epoch 111/200\n",
      "62/62 [==============================] - 0s 3ms/step - loss: 0.0316 - rmse: 0.1277 - val_loss: 0.1287 - val_rmse: 0.2620\n",
      "Epoch 112/200\n",
      "62/62 [==============================] - 0s 3ms/step - loss: 0.0326 - rmse: 0.1283 - val_loss: 0.1197 - val_rmse: 0.2445\n",
      "Epoch 113/200\n",
      "62/62 [==============================] - 0s 2ms/step - loss: 0.0322 - rmse: 0.1290 - val_loss: 0.1115 - val_rmse: 0.2462\n",
      "Epoch 114/200\n",
      "62/62 [==============================] - 0s 2ms/step - loss: 0.0319 - rmse: 0.1293 - val_loss: 0.1178 - val_rmse: 0.2481\n",
      "Epoch 115/200\n",
      "62/62 [==============================] - 0s 3ms/step - loss: 0.0322 - rmse: 0.1275 - val_loss: 0.1302 - val_rmse: 0.2618\n",
      "Epoch 116/200\n",
      "62/62 [==============================] - 0s 3ms/step - loss: 0.0377 - rmse: 0.1353 - val_loss: 0.1159 - val_rmse: 0.2505\n",
      "Epoch 117/200\n",
      "62/62 [==============================] - 0s 2ms/step - loss: 0.0335 - rmse: 0.1308 - val_loss: 0.1166 - val_rmse: 0.2552\n",
      "Epoch 118/200\n",
      "62/62 [==============================] - 0s 2ms/step - loss: 0.0352 - rmse: 0.1356 - val_loss: 0.1146 - val_rmse: 0.2453\n",
      "Epoch 119/200\n",
      "62/62 [==============================] - 0s 3ms/step - loss: 0.0328 - rmse: 0.1258 - val_loss: 0.1177 - val_rmse: 0.2523\n",
      "Epoch 120/200\n",
      "62/62 [==============================] - 0s 3ms/step - loss: 0.0375 - rmse: 0.1349 - val_loss: 0.1066 - val_rmse: 0.2443\n",
      "Epoch 121/200\n",
      "62/62 [==============================] - 0s 3ms/step - loss: 0.0357 - rmse: 0.1338 - val_loss: 0.1035 - val_rmse: 0.2406\n",
      "Epoch 122/200\n",
      "62/62 [==============================] - 0s 3ms/step - loss: 0.0324 - rmse: 0.1290 - val_loss: 0.1280 - val_rmse: 0.2647\n",
      "Epoch 123/200\n",
      "62/62 [==============================] - 0s 2ms/step - loss: 0.0366 - rmse: 0.1335 - val_loss: 0.1122 - val_rmse: 0.2513\n",
      "Epoch 124/200\n",
      "62/62 [==============================] - 0s 3ms/step - loss: 0.0301 - rmse: 0.1257 - val_loss: 0.1034 - val_rmse: 0.2311\n",
      "Epoch 125/200\n",
      "62/62 [==============================] - 0s 2ms/step - loss: 0.0342 - rmse: 0.1271 - val_loss: 0.1057 - val_rmse: 0.2337\n",
      "Epoch 126/200\n",
      "62/62 [==============================] - 0s 2ms/step - loss: 0.0323 - rmse: 0.1262 - val_loss: 0.1155 - val_rmse: 0.2491\n",
      "Epoch 127/200\n",
      "62/62 [==============================] - 0s 3ms/step - loss: 0.0334 - rmse: 0.1277 - val_loss: 0.1171 - val_rmse: 0.2480\n",
      "Epoch 128/200\n",
      "62/62 [==============================] - 0s 2ms/step - loss: 0.0337 - rmse: 0.1300 - val_loss: 0.1015 - val_rmse: 0.2350\n",
      "Epoch 129/200\n",
      "62/62 [==============================] - 0s 2ms/step - loss: 0.0320 - rmse: 0.1239 - val_loss: 0.1143 - val_rmse: 0.2437\n",
      "Epoch 130/200\n",
      "62/62 [==============================] - 0s 2ms/step - loss: 0.0327 - rmse: 0.1287 - val_loss: 0.1063 - val_rmse: 0.2363\n",
      "Epoch 131/200\n",
      "62/62 [==============================] - 0s 2ms/step - loss: 0.0330 - rmse: 0.1247 - val_loss: 0.1036 - val_rmse: 0.2390\n",
      "Epoch 132/200\n",
      "62/62 [==============================] - 0s 2ms/step - loss: 0.0309 - rmse: 0.1238 - val_loss: 0.1267 - val_rmse: 0.2680\n",
      "Epoch 133/200\n",
      "62/62 [==============================] - 0s 2ms/step - loss: 0.0302 - rmse: 0.1230 - val_loss: 0.1091 - val_rmse: 0.2376\n",
      "Epoch 134/200\n",
      "62/62 [==============================] - 0s 2ms/step - loss: 0.0318 - rmse: 0.1240 - val_loss: 0.1044 - val_rmse: 0.2434\n",
      "Epoch 135/200\n",
      "62/62 [==============================] - 0s 2ms/step - loss: 0.0316 - rmse: 0.1250 - val_loss: 0.1028 - val_rmse: 0.2348\n",
      "Epoch 136/200\n",
      "62/62 [==============================] - 0s 2ms/step - loss: 0.0296 - rmse: 0.1218 - val_loss: 0.1000 - val_rmse: 0.2330\n",
      "Epoch 137/200\n",
      "62/62 [==============================] - 0s 2ms/step - loss: 0.0325 - rmse: 0.1294 - val_loss: 0.1094 - val_rmse: 0.2383\n",
      "Epoch 138/200\n",
      "62/62 [==============================] - 0s 2ms/step - loss: 0.0311 - rmse: 0.1228 - val_loss: 0.1132 - val_rmse: 0.2408\n",
      "Epoch 139/200\n",
      "62/62 [==============================] - 0s 2ms/step - loss: 0.0307 - rmse: 0.1222 - val_loss: 0.1048 - val_rmse: 0.2359\n",
      "Epoch 140/200\n",
      "62/62 [==============================] - 0s 3ms/step - loss: 0.0324 - rmse: 0.1245 - val_loss: 0.1162 - val_rmse: 0.2461\n",
      "Epoch 141/200\n",
      "62/62 [==============================] - 0s 2ms/step - loss: 0.0285 - rmse: 0.1208 - val_loss: 0.1094 - val_rmse: 0.2350\n",
      "Epoch 142/200\n",
      "62/62 [==============================] - 0s 2ms/step - loss: 0.0303 - rmse: 0.1208 - val_loss: 0.1072 - val_rmse: 0.2357\n",
      "Epoch 143/200\n",
      "62/62 [==============================] - 0s 2ms/step - loss: 0.0337 - rmse: 0.1249 - val_loss: 0.1084 - val_rmse: 0.2403\n",
      "Epoch 144/200\n",
      "62/62 [==============================] - 0s 2ms/step - loss: 0.0275 - rmse: 0.1188 - val_loss: 0.1144 - val_rmse: 0.2514\n",
      "Epoch 145/200\n",
      "62/62 [==============================] - 0s 2ms/step - loss: 0.0299 - rmse: 0.1206 - val_loss: 0.1100 - val_rmse: 0.2324\n",
      "Epoch 146/200\n",
      "62/62 [==============================] - 0s 2ms/step - loss: 0.0295 - rmse: 0.1242 - val_loss: 0.1113 - val_rmse: 0.2378\n",
      "Epoch 147/200\n",
      "62/62 [==============================] - 0s 2ms/step - loss: 0.0303 - rmse: 0.1234 - val_loss: 0.1113 - val_rmse: 0.2389\n",
      "Epoch 148/200\n",
      "62/62 [==============================] - 0s 2ms/step - loss: 0.0293 - rmse: 0.1197 - val_loss: 0.1127 - val_rmse: 0.2411\n",
      "Epoch 149/200\n",
      "62/62 [==============================] - 0s 2ms/step - loss: 0.0305 - rmse: 0.1196 - val_loss: 0.1053 - val_rmse: 0.2358\n",
      "Epoch 150/200\n",
      "62/62 [==============================] - 0s 2ms/step - loss: 0.0286 - rmse: 0.1189 - val_loss: 0.1056 - val_rmse: 0.2343\n",
      "Epoch 151/200\n",
      "62/62 [==============================] - 0s 2ms/step - loss: 0.0303 - rmse: 0.1235 - val_loss: 0.1107 - val_rmse: 0.2401\n",
      "Epoch 152/200\n",
      "62/62 [==============================] - 0s 2ms/step - loss: 0.0325 - rmse: 0.1236 - val_loss: 0.1217 - val_rmse: 0.2571\n",
      "Epoch 153/200\n",
      "62/62 [==============================] - 0s 3ms/step - loss: 0.0322 - rmse: 0.1247 - val_loss: 0.1031 - val_rmse: 0.2383\n",
      "Epoch 154/200\n",
      "62/62 [==============================] - 0s 3ms/step - loss: 0.0318 - rmse: 0.1249 - val_loss: 0.1053 - val_rmse: 0.2347\n",
      "Epoch 155/200\n",
      "62/62 [==============================] - 0s 3ms/step - loss: 0.0284 - rmse: 0.1181 - val_loss: 0.1047 - val_rmse: 0.2313\n",
      "Epoch 156/200\n",
      "62/62 [==============================] - 0s 2ms/step - loss: 0.0308 - rmse: 0.1206 - val_loss: 0.1093 - val_rmse: 0.2394\n",
      "Epoch 157/200\n",
      "62/62 [==============================] - 0s 3ms/step - loss: 0.0287 - rmse: 0.1175 - val_loss: 0.1562 - val_rmse: 0.2898\n",
      "Epoch 158/200\n",
      "62/62 [==============================] - 0s 2ms/step - loss: 0.0286 - rmse: 0.1181 - val_loss: 0.1375 - val_rmse: 0.2723\n",
      "Epoch 159/200\n",
      "62/62 [==============================] - 0s 2ms/step - loss: 0.0284 - rmse: 0.1178 - val_loss: 0.1039 - val_rmse: 0.2359\n",
      "Epoch 160/200\n",
      "62/62 [==============================] - 0s 2ms/step - loss: 0.0292 - rmse: 0.1187 - val_loss: 0.1126 - val_rmse: 0.2421\n",
      "Epoch 161/200\n",
      "62/62 [==============================] - 0s 2ms/step - loss: 0.0280 - rmse: 0.1172 - val_loss: 0.1066 - val_rmse: 0.2378\n",
      "Epoch 162/200\n",
      "62/62 [==============================] - 0s 2ms/step - loss: 0.0299 - rmse: 0.1169 - val_loss: 0.1230 - val_rmse: 0.2514\n",
      "Epoch 163/200\n",
      "62/62 [==============================] - 0s 2ms/step - loss: 0.0298 - rmse: 0.1235 - val_loss: 0.1025 - val_rmse: 0.2332\n",
      "Epoch 164/200\n",
      "62/62 [==============================] - 0s 2ms/step - loss: 0.0277 - rmse: 0.1165 - val_loss: 0.1103 - val_rmse: 0.2374\n",
      "Epoch 165/200\n",
      "62/62 [==============================] - 0s 2ms/step - loss: 0.0315 - rmse: 0.1228 - val_loss: 0.1080 - val_rmse: 0.2369\n",
      "Epoch 166/200\n",
      "62/62 [==============================] - 0s 2ms/step - loss: 0.0283 - rmse: 0.1165 - val_loss: 0.1112 - val_rmse: 0.2374\n",
      "Epoch 167/200\n",
      "62/62 [==============================] - 0s 3ms/step - loss: 0.0299 - rmse: 0.1203 - val_loss: 0.1068 - val_rmse: 0.2366\n",
      "Epoch 168/200\n",
      "62/62 [==============================] - 0s 2ms/step - loss: 0.0269 - rmse: 0.1158 - val_loss: 0.1224 - val_rmse: 0.2509\n",
      "Epoch 169/200\n",
      "62/62 [==============================] - 0s 2ms/step - loss: 0.0284 - rmse: 0.1163 - val_loss: 0.1125 - val_rmse: 0.2440\n",
      "Epoch 170/200\n",
      "62/62 [==============================] - 0s 2ms/step - loss: 0.0303 - rmse: 0.1230 - val_loss: 0.1049 - val_rmse: 0.2330\n",
      "Epoch 171/200\n",
      "62/62 [==============================] - 0s 2ms/step - loss: 0.0261 - rmse: 0.1131 - val_loss: 0.1103 - val_rmse: 0.2382\n",
      "Epoch 172/200\n",
      "62/62 [==============================] - 0s 2ms/step - loss: 0.0281 - rmse: 0.1167 - val_loss: 0.0984 - val_rmse: 0.2298\n",
      "Epoch 173/200\n",
      "62/62 [==============================] - 0s 2ms/step - loss: 0.0297 - rmse: 0.1203 - val_loss: 0.1075 - val_rmse: 0.2391\n",
      "Epoch 174/200\n",
      "62/62 [==============================] - 0s 2ms/step - loss: 0.0279 - rmse: 0.1152 - val_loss: 0.1130 - val_rmse: 0.2445\n",
      "Epoch 175/200\n",
      "62/62 [==============================] - 0s 2ms/step - loss: 0.0252 - rmse: 0.1128 - val_loss: 0.1075 - val_rmse: 0.2347\n",
      "Epoch 176/200\n",
      "62/62 [==============================] - 0s 2ms/step - loss: 0.0276 - rmse: 0.1153 - val_loss: 0.1106 - val_rmse: 0.2398\n",
      "Epoch 177/200\n",
      "62/62 [==============================] - 0s 2ms/step - loss: 0.0302 - rmse: 0.1181 - val_loss: 0.1150 - val_rmse: 0.2471\n",
      "Epoch 178/200\n",
      "62/62 [==============================] - 0s 3ms/step - loss: 0.0265 - rmse: 0.1144 - val_loss: 0.1620 - val_rmse: 0.2953\n",
      "Epoch 179/200\n",
      "62/62 [==============================] - 0s 2ms/step - loss: 0.0261 - rmse: 0.1142 - val_loss: 0.1200 - val_rmse: 0.2487\n",
      "Epoch 180/200\n",
      "62/62 [==============================] - 0s 2ms/step - loss: 0.0293 - rmse: 0.1200 - val_loss: 0.1031 - val_rmse: 0.2374\n",
      "Epoch 181/200\n",
      "62/62 [==============================] - 0s 2ms/step - loss: 0.0269 - rmse: 0.1147 - val_loss: 0.1078 - val_rmse: 0.2362\n",
      "Epoch 182/200\n",
      "62/62 [==============================] - 0s 2ms/step - loss: 0.0291 - rmse: 0.1170 - val_loss: 0.1073 - val_rmse: 0.2383\n",
      "Epoch 183/200\n",
      "62/62 [==============================] - 0s 2ms/step - loss: 0.0285 - rmse: 0.1145 - val_loss: 0.1056 - val_rmse: 0.2349\n",
      "Epoch 184/200\n",
      "62/62 [==============================] - 0s 2ms/step - loss: 0.0293 - rmse: 0.1178 - val_loss: 0.1069 - val_rmse: 0.2362\n",
      "Epoch 185/200\n",
      "62/62 [==============================] - 0s 2ms/step - loss: 0.0272 - rmse: 0.1119 - val_loss: 0.1019 - val_rmse: 0.2287\n",
      "Epoch 186/200\n",
      "62/62 [==============================] - 0s 2ms/step - loss: 0.0268 - rmse: 0.1141 - val_loss: 0.1555 - val_rmse: 0.2840\n",
      "Epoch 187/200\n",
      "62/62 [==============================] - 0s 2ms/step - loss: 0.0283 - rmse: 0.1175 - val_loss: 0.1092 - val_rmse: 0.2387\n",
      "Epoch 188/200\n",
      "62/62 [==============================] - 0s 2ms/step - loss: 0.0325 - rmse: 0.1242 - val_loss: 0.1017 - val_rmse: 0.2330\n",
      "Epoch 189/200\n",
      "62/62 [==============================] - 0s 2ms/step - loss: 0.0269 - rmse: 0.1119 - val_loss: 0.1108 - val_rmse: 0.2365\n",
      "Epoch 190/200\n",
      "62/62 [==============================] - 0s 2ms/step - loss: 0.0253 - rmse: 0.1119 - val_loss: 0.1030 - val_rmse: 0.2319\n",
      "Epoch 191/200\n",
      "62/62 [==============================] - 0s 2ms/step - loss: 0.0272 - rmse: 0.1131 - val_loss: 0.0974 - val_rmse: 0.2290\n",
      "Epoch 192/200\n",
      "62/62 [==============================] - 0s 2ms/step - loss: 0.0264 - rmse: 0.1124 - val_loss: 0.1140 - val_rmse: 0.2426\n",
      "Epoch 193/200\n",
      "62/62 [==============================] - 0s 2ms/step - loss: 0.0275 - rmse: 0.1148 - val_loss: 0.1540 - val_rmse: 0.2775\n",
      "Epoch 194/200\n",
      "62/62 [==============================] - 0s 3ms/step - loss: 0.0289 - rmse: 0.1185 - val_loss: 0.1057 - val_rmse: 0.2318\n",
      "Epoch 195/200\n",
      "62/62 [==============================] - 0s 3ms/step - loss: 0.0261 - rmse: 0.1105 - val_loss: 0.1032 - val_rmse: 0.2320\n",
      "Epoch 196/200\n",
      "62/62 [==============================] - 0s 2ms/step - loss: 0.0274 - rmse: 0.1157 - val_loss: 0.1164 - val_rmse: 0.2436\n",
      "Epoch 197/200\n",
      "62/62 [==============================] - 0s 2ms/step - loss: 0.0282 - rmse: 0.1149 - val_loss: 0.1019 - val_rmse: 0.2331\n",
      "Epoch 198/200\n",
      "62/62 [==============================] - 0s 2ms/step - loss: 0.0306 - rmse: 0.1143 - val_loss: 0.1127 - val_rmse: 0.2443\n",
      "Epoch 199/200\n",
      "62/62 [==============================] - 0s 2ms/step - loss: 0.0285 - rmse: 0.1183 - val_loss: 0.1045 - val_rmse: 0.2344\n",
      "Epoch 200/200\n",
      "62/62 [==============================] - 0s 2ms/step - loss: 0.0261 - rmse: 0.1107 - val_loss: 0.1053 - val_rmse: 0.2320\n",
      "5/5 [==============================] - 0s 3ms/step - loss: 0.1053 - rmse: 0.2297\n",
      "Model: \"sequential\"\n",
      "_________________________________________________________________\n",
      " Layer (type)                Output Shape              Param #   \n",
      "=================================================================\n",
      " dense (Dense)               (None, 64)                576       \n",
      "                                                                 \n",
      " dense_1 (Dense)             (None, 32)                2080      \n",
      "                                                                 \n",
      " dense_2 (Dense)             (None, 16)                528       \n",
      "                                                                 \n",
      " dense_3 (Dense)             (None, 1)                 17        \n",
      "                                                                 \n",
      "=================================================================\n",
      "Total params: 3,201\n",
      "Trainable params: 3,201\n",
      "Non-trainable params: 0\n",
      "_________________________________________________________________\n",
      "None\n"
     ]
    }
   ],
   "source": [
    "from keras import backend\n",
    "opt1 =keras.optimizers.SGD(learning_rate=0.015)\n",
    "model.compile(optimizer=opt1, loss='mean_squared_error', metrics=[rmse])\n",
    "history = model.fit(X_train, y_train, epochs = 200 , batch_size=12, validation_data=(X_val, y_val))\n",
    "mse_test = model.evaluate(X_test, y_test)\n",
    "\n",
    "print(model.summary())"
   ]
  },
  {
   "cell_type": "markdown",
   "metadata": {
    "id": "tsitItQGAnXD"
   },
   "source": [
    "De igual manera, se efectúa el cálculo del r2."
   ]
  },
  {
   "cell_type": "code",
   "execution_count": 47,
   "metadata": {
    "colab": {
     "base_uri": "https://localhost:8080/"
    },
    "id": "k6-mtwEZAsJo",
    "outputId": "687ff3ff-2836-40ff-c1ee-3ca53377d0e5"
   },
   "outputs": [
    {
     "name": "stdout",
     "output_type": "stream",
     "text": [
      "5/5 [==============================] - 0s 2ms/step\n",
      "0.8889225035293373\n"
     ]
    }
   ],
   "source": [
    "# Calculo de r2\n",
    "\n",
    "y_predict = model.predict(X_test)\n",
    "\n",
    "from sklearn.metrics import r2_score\n",
    "print(r2_score(y_test,y_predict))"
   ]
  },
  {
   "cell_type": "markdown",
   "metadata": {
    "id": "7cvsP3QtHaoC"
   },
   "source": [
    "De acuerdo a lo obtenido en r2, el modelo demuestra un aumento en esta métrica cercano al 88.9%"
   ]
  },
  {
   "cell_type": "code",
   "execution_count": 48,
   "metadata": {
    "colab": {
     "base_uri": "https://localhost:8080/",
     "height": 350
    },
    "id": "p8udcNDwAzyD",
    "outputId": "d376eb6c-a7f0-4424-c560-4e93a1c2f82d"
   },
   "outputs": [
    {
     "data": {
      "image/png": "[encoded data removed]",
      "text/plain": [
       "<Figure size 1152x360 with 2 Axes>"
      ]
     },
     "metadata": {
      "needs_background": "light"
     },
     "output_type": "display_data"
    }
   ],
   "source": [
    "# Gráfico que muestra la pérdida (loss) y rmse Para Training y Test.\n",
    "plt.figure(figsize=(16,5))\n",
    "plt.subplot(1,2,1)\n",
    "plt.plot(history.history['rmse'])\n",
    "plt.plot(history.history['val_rmse'])\n",
    "plt.title('Root Mean Squared Error (RMSE)')\n",
    "plt.ylabel('rmse')\n",
    "plt.xlabel('epoch')\n",
    "plt.legend(['Entrenamiento', 'test'], loc='upper right')\n",
    "# Sumatoria de pérdidas\n",
    "\n",
    "plt.subplot(1,2,2)\n",
    "plt.plot(history.history['loss'])\n",
    "plt.plot(history.history['val_loss'])\n",
    "plt.title('Pérdida (loss) del modelo')\n",
    "plt.ylabel('loss')\n",
    "plt.xlabel('epoch')\n",
    "plt.legend(['Entrenamiento', 'test'], loc='upper right')\n",
    "plt.savefig('4.png')\n",
    "plt.show()"
   ]
  },
  {
   "cell_type": "markdown",
   "metadata": {
    "id": "X6PbxVLLCa3Y"
   },
   "source": [
    "Como se observa, a pesar de que presumiblemente el r2 permite explicar de mejor manera la varabiabilidad en torno a la media, no se produce convergencia en las pérdidas entre el conjunto de entrenamiento y test."
   ]
  },
  {
   "cell_type": "markdown",
   "metadata": {
    "id": "MZ9fvV8HDmwC"
   },
   "source": [
    "Objeto determinar parte de los hiperparámetros, se puede utilizar la función Early Stopping, objeto determinar las pérdidas globales de la funciñon monitor (val_loss, en este caso)."
   ]
  },
  {
   "cell_type": "code",
   "execution_count": 25,
   "metadata": {
    "id": "VFNx9bJaotdq"
   },
   "outputs": [],
   "source": [
    "from tensorflow.keras.callbacks import EarlyStopping"
   ]
  },
  {
   "cell_type": "code",
   "execution_count": 60,
   "metadata": {
    "colab": {
     "base_uri": "https://localhost:8080/"
    },
    "id": "Mo0AqP9GycCr",
    "outputId": "a8e392d5-6938-4667-86f2-bc973ffc7731"
   },
   "outputs": [
    {
     "name": "stdout",
     "output_type": "stream",
     "text": [
      "Epoch 1/10\n",
      "200/200 [==============================] - 1s 2ms/step - loss: 0.0277 - rmse: 0.1171 - val_loss: 0.1319 - val_rmse: 0.2684\n",
      "Epoch 2/10\n",
      "200/200 [==============================] - 0s 2ms/step - loss: 0.0282 - rmse: 0.1146 - val_loss: 0.1368 - val_rmse: 0.2679\n",
      "Epoch 3/10\n",
      "200/200 [==============================] - 0s 1ms/step - loss: 0.0304 - rmse: 0.1190 - val_loss: 0.1212 - val_rmse: 0.2569\n",
      "Epoch 4/10\n",
      "200/200 [==============================] - 0s 2ms/step - loss: 0.0294 - rmse: 0.1164 - val_loss: 0.1325 - val_rmse: 0.2621\n",
      "Epoch 5/10\n",
      "200/200 [==============================] - 0s 2ms/step - loss: 0.0254 - rmse: 0.1118 - val_loss: 0.1228 - val_rmse: 0.2731\n",
      "Epoch 6/10\n",
      "200/200 [==============================] - 0s 2ms/step - loss: 0.0299 - rmse: 0.1172 - val_loss: 0.1731 - val_rmse: 0.3289\n"
     ]
    }
   ],
   "source": [
    "import tensorflow as tf\n",
    "estop = EarlyStopping(monitor='val_loss', patience=3, restore_best_weights=True)\n",
    "\n",
    "model.compile(optimizer='sgd',\n",
    "              loss='mean_squared_error',\n",
    "              metrics=[rmse])\n",
    "\n",
    "history = model.fit(\n",
    "    X_train, y_train,\n",
    "    epochs = 10,\n",
    "    steps_per_epoch=200,\n",
    "    batch_size=6,\n",
    "    validation_data=(X_val, y_val),\n",
    "    validation_steps = 3,\n",
    "    callbacks=[estop]\n",
    "    )"
   ]
  },
  {
   "cell_type": "code",
   "execution_count": 61,
   "metadata": {
    "colab": {
     "base_uri": "https://localhost:8080/",
     "height": 388
    },
    "id": "6buv31Qe4-we",
    "outputId": "01cdeed9-c1b5-43b1-de82-0fb8defae33d"
   },
   "outputs": [
    {
     "data": {
      "image/png": "[encoded data removed]",
      "text/plain": [
       "<Figure size 864x432 with 2 Axes>"
      ]
     },
     "metadata": {
      "needs_background": "light"
     },
     "output_type": "display_data"
    }
   ],
   "source": [
    "plot_history(history)"
   ]
  },
  {
   "cell_type": "markdown",
   "metadata": {
    "id": "9ljqlAT6ELP6"
   },
   "source": [
    "Se efectuará una nueva modelación con un número de épocas igual a 5, de acuerdo al resultado obtenido."
   ]
  },
  {
   "cell_type": "code",
   "execution_count": 62,
   "metadata": {
    "colab": {
     "base_uri": "https://localhost:8080/"
    },
    "id": "dNnAY92KEj9B",
    "outputId": "9cd90fdc-c919-4289-a893-333e8cbcec64"
   },
   "outputs": [
    {
     "name": "stdout",
     "output_type": "stream",
     "text": [
      "Epoch 1/5\n",
      "62/62 [==============================] - 1s 5ms/step - loss: 0.0214 - rmse: 0.0997 - val_loss: 0.1014 - val_rmse: 0.2300\n",
      "Epoch 2/5\n",
      "62/62 [==============================] - 0s 3ms/step - loss: 0.0203 - rmse: 0.0967 - val_loss: 0.0990 - val_rmse: 0.2279\n",
      "Epoch 3/5\n",
      "62/62 [==============================] - 0s 3ms/step - loss: 0.0201 - rmse: 0.0939 - val_loss: 0.0956 - val_rmse: 0.2207\n",
      "Epoch 4/5\n",
      "62/62 [==============================] - 0s 3ms/step - loss: 0.0195 - rmse: 0.0955 - val_loss: 0.1003 - val_rmse: 0.2267\n",
      "Epoch 5/5\n",
      "62/62 [==============================] - 0s 3ms/step - loss: 0.0196 - rmse: 0.0934 - val_loss: 0.0980 - val_rmse: 0.2249\n",
      "5/5 [==============================] - 0s 3ms/step - loss: 0.0949 - rmse: 0.2140\n",
      "Model: \"sequential\"\n",
      "_________________________________________________________________\n",
      " Layer (type)                Output Shape              Param #   \n",
      "=================================================================\n",
      " dense (Dense)               (None, 64)                576       \n",
      "                                                                 \n",
      " dense_1 (Dense)             (None, 32)                2080      \n",
      "                                                                 \n",
      " dense_2 (Dense)             (None, 16)                528       \n",
      "                                                                 \n",
      " dense_3 (Dense)             (None, 1)                 17        \n",
      "                                                                 \n",
      "=================================================================\n",
      "Total params: 3,201\n",
      "Trainable params: 3,201\n",
      "Non-trainable params: 0\n",
      "_________________________________________________________________\n",
      "None\n"
     ]
    }
   ],
   "source": [
    "from keras import backend\n",
    "opt2 =keras.optimizers.Adam(learning_rate=0.00015)\n",
    "model.compile(optimizer=opt2, loss='mean_squared_error', metrics=[rmse])\n",
    "history = model.fit(X_train, y_train, epochs = 5 , batch_size=12, validation_data=(X_val, y_val))\n",
    "mse_test = model.evaluate(X_test, y_test)\n",
    "\n",
    "print(model.summary())"
   ]
  },
  {
   "cell_type": "code",
   "execution_count": 63,
   "metadata": {
    "colab": {
     "base_uri": "https://localhost:8080/"
    },
    "id": "fhbuG5uQExZ1",
    "outputId": "c3f8d9e5-f2b3-4496-a4b7-2868eea28558"
   },
   "outputs": [
    {
     "name": "stdout",
     "output_type": "stream",
     "text": [
      "5/5 [==============================] - 0s 3ms/step\n",
      "0.8998555802338938\n"
     ]
    }
   ],
   "source": [
    "# Calculo de r2\n",
    "\n",
    "y_predict = model.predict(X_test)\n",
    "\n",
    "from sklearn.metrics import r2_score\n",
    "print(r2_score(y_test,y_predict))"
   ]
  },
  {
   "cell_type": "markdown",
   "metadata": {
    "id": "ysHQ8USxHjsX"
   },
   "source": [
    "Nuevamente hay un aumento en comparación con los modelos obtenidos anteriormente del resultado del r2."
   ]
  },
  {
   "cell_type": "code",
   "execution_count": 65,
   "metadata": {
    "colab": {
     "base_uri": "https://localhost:8080/",
     "height": 350
    },
    "id": "zr1DG_zcFD8P",
    "outputId": "5b4ca4c7-ca27-4cc3-a383-32c7031bdaf1"
   },
   "outputs": [
    {
     "data": {
      "image/png": "[encoded data removed]",
      "text/plain": [
       "<Figure size 1152x360 with 2 Axes>"
      ]
     },
     "metadata": {
      "needs_background": "light"
     },
     "output_type": "display_data"
    }
   ],
   "source": [
    "# Gráfico que muestra la pérdida (loss) y rmse Para Training y Test.\n",
    "plt.figure(figsize=(16,5))\n",
    "plt.subplot(1,2,1)\n",
    "plt.plot(history.history['rmse'])\n",
    "plt.plot(history.history['val_rmse'])\n",
    "plt.title('Root Mean Squared Error (RMSE)')\n",
    "plt.ylabel('rmse')\n",
    "plt.xlabel('epoch')\n",
    "plt.legend(['Entrenamiento', 'test'], loc='upper right')\n",
    "# Sumatoria de pérdidas\n",
    "\n",
    "plt.subplot(1,2,2)\n",
    "plt.plot(history.history['loss'])\n",
    "plt.plot(history.history['val_loss'])\n",
    "plt.title('Pérdida (loss) del modelo')\n",
    "plt.ylabel('loss')\n",
    "plt.xlabel('epoch')\n",
    "plt.legend(['Entrenamiento', 'test'], loc='upper right')\n",
    "plt.savefig('4.png')\n",
    "plt.show()"
   ]
  }
 ],
 "metadata": {
  "colab": {
   "collapsed_sections": [],
   "provenance": []
  },
  "kernelspec": {
   "display_name": "Python 3.9 (tensorflow)",
   "language": "python",
   "name": "tensorflow"
  },
  "language_info": {
   "codemirror_mode": {
    "name": "ipython",
    "version": 3
   },
   "file_extension": ".py",
   "mimetype": "text/x-python",
   "name": "python",
   "nbconvert_exporter": "python",
   "pygments_lexer": "ipython3",
   "version": "3.9.13"
  }
 },
 "nbformat": 4,
 "nbformat_minor": 4
}
