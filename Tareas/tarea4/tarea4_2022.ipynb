{
 "cells": [
  {
   "cell_type": "markdown",
   "metadata": {
    "id": "W3d2cB9hE7fi"
   },
   "source": [
    "# Tarea 4\n",
    "__Curso:__ Aprendizaje Automático 2022 \n",
    "\n",
    "__Programa:__ MCI/MIIIO/DIIIO/DISC\n",
    "\n",
    "__Profesor:__ Gonzalo A. Ruz\n",
    "\n",
    "__Ayudante:__ Carlos Sepúlveda\n",
    "\n",
    "**Tema**: Keras (Multi-Layer Perceptron MLP) - Aplicado a _Concrete Compressive Strength_\n"
   ]
  },
  {
   "cell_type": "markdown",
   "metadata": {
    "id": "IR_z9mZNQHxM"
   },
   "source": [
    "## Instrucciones\n",
    "* La tarea es individual\n",
    "* Por favor responder en este mismo notebook\n",
    "* Renombrar el archivo agregando su nombre, por ejemplo tarea4_Dituro_Pérez.ipynb\n",
    "* Subir el archivo al link de entrega Trabajo en webcursos que será habilitado\n",
    "* __Fecha de entrega:__ viernes 21 de octubre, 23:55 hrs."
   ]
  },
  {
   "cell_type": "markdown",
   "metadata": {
    "id": "_Rz6sIOlDyb-"
   },
   "source": [
    "## Dependencias de librerías"
   ]
  },
  {
   "cell_type": "code",
   "execution_count": null,
   "metadata": {
    "id": "nVUXqitSx1D_"
   },
   "outputs": [],
   "source": [
    "!pip install xlrd=='1.2.0'\n",
    "## Despues de instalar la libreria, Reiniciar el kernel"
   ]
  },
  {
   "cell_type": "code",
   "execution_count": 1,
   "metadata": {
    "id": "NSRhDALkDRnb"
   },
   "outputs": [],
   "source": [
    "from time import time\n",
    "from pandas import read_excel\n",
    "import matplotlib.pyplot as plt\n",
    "\n",
    "## Pre-processing functions\n",
    "from sklearn.preprocessing import StandardScaler\n",
    "from sklearn.model_selection import train_test_split\n",
    "\n",
    "## tensorflow-Keras \n",
    "from tensorflow.keras.models import Sequential\n",
    "from tensorflow.keras import layers\n",
    "from tensorflow.keras import metrics"
   ]
  },
  {
   "cell_type": "markdown",
   "metadata": {
    "id": "8TO5pHttI7ah"
   },
   "source": [
    "## Funciones personalizadas"
   ]
  },
  {
   "cell_type": "code",
   "execution_count": 2,
   "metadata": {
    "id": "VbCLG50lD3lB"
   },
   "outputs": [],
   "source": [
    "def plot_history(history, width=12, height=6):\n",
    "  \"\"\"\n",
    "  DESCRIPTION:\n",
    "    Historical performance of the keras model\n",
    "  \n",
    "  INPUT:\n",
    "    @param history: history of performance of fitted model\n",
    "    @type history: tensorflow.python.keras.callbacks.History\n",
    "\n",
    "    @param width: width of the graphic display\n",
    "    @type width: int\n",
    "\n",
    "    @param height: height of the graphic display\n",
    "    @type height: int\n",
    "\n",
    "  OUTPUT:\n",
    "    A graphic\n",
    "  \"\"\"\n",
    "\n",
    "  ## Metrics keys stored in tensorflow object\n",
    "  keys = list(history.history.keys())\n",
    "\n",
    "  ## Number of epoch used for fit the model\n",
    "  epoch = range(1, len(history.epoch) +1)\n",
    "\n",
    "  ## Check if validation set was used.\n",
    "  withValidation = False\n",
    "  for key in keys:\n",
    "    if 'val' in key:\n",
    "      withValidation = True\n",
    "\n",
    "  ## Number of metrics \n",
    "  nMetrics = len(keys)\n",
    "  if withValidation:\n",
    "    nMetrics = nMetrics//2\n",
    "\n",
    "  ## Plot-space instance\n",
    "  plt.figure(figsize=(width, height))\n",
    "\n",
    "  for i in range(nMetrics):\n",
    "    plt.subplot(nMetrics, 1, i+1)\n",
    "\n",
    "    ## Plot (train) metric value\n",
    "    labelMetric = keys[i]\n",
    "    metric = history.history[keys[i]]\n",
    "    plt.plot(epoch, metric, 'o-', label=labelMetric)\n",
    "\n",
    "    if withValidation:\n",
    "      ## Plot (validation) metric value\n",
    "      labelMetricVal = keys[i+nMetrics]\n",
    "      metricVal = history.history[keys[i+nMetrics]]\n",
    "      plt.plot(epoch, metricVal, 'o-', label=labelMetricVal)\n",
    "\n",
    "    plt.xlim(epoch[0], epoch[-1])\n",
    "    plt.legend()\n",
    "    plt.grid()\n",
    "\n",
    "  plt.xlabel('Epoch')\n",
    "  plt.show()"
   ]
  },
  {
   "cell_type": "markdown",
   "metadata": {
    "id": "MqqFAfmPfO1K"
   },
   "source": [
    "# Problema (Regresión): Aplicado al _Concrete Compressive Strength Dataset_\n",
    "\n",
    "**Objetivo**: Predecir Concrete compressive strength (Strength)"
   ]
  },
  {
   "cell_type": "markdown",
   "metadata": {
    "id": "GWabNKBhx1EB"
   },
   "source": [
    "__Descripcion__:\n",
    "\n",
    "| **Name**             | **Data Type** | **Measurement**    | **Description** |\n",
    "|----------------------|---------------|--------------------|-----------------|\n",
    "| Cement | Quantitative  | kg in a m3 mixture | Input Variable  |\n",
    "| Blast Furnace Slag | Quantitative | kg in a m3 mixture | Input Variable |\n",
    "| Fly Ash | Quantitative | kg in a m3 mixture | Input Variable |\n",
    "| Water | Quantitative | kg in a m3 mixture | Input Variable |\n",
    "| Superplasticizer | Quantitative | kg in a m3 mixture | Input Variable |\n",
    "| Coarse Aggregate | Quantitative | kg in a m3 mixture | Input Variable |\n",
    "| Fine Aggregate | Quantitative | kg in a m3 mixture | Input Variable |\n",
    "| Age | Quantitative | Day (1~365) | Input Variable |\n",
    "| Concrete compressive strength | Quantitative | MPa | Output Variable |"
   ]
  },
  {
   "cell_type": "markdown",
   "metadata": {
    "id": "G2xgYhPEh1Ad"
   },
   "source": [
    "## Carga y preprocesamiento de datos\n",
    "\n",
    "Fuente: [Concrete Compressive Strength Data Set](https://archive.ics.uci.edu/ml/datasets/Concrete+Compressive+Strength) (UCI Repository)"
   ]
  },
  {
   "cell_type": "code",
   "execution_count": 3,
   "metadata": {
    "id": "6cqRrZLXZ95z"
   },
   "outputs": [],
   "source": [
    "## Load data\n",
    "data = read_excel(io='https://archive.ics.uci.edu/ml/machine-learning-databases/concrete/compressive/Concrete_Data.xls', \n",
    "                  sheet_name='Sheet1', header=0)\n",
    "\n",
    "## Adding feature names\n",
    "data.columns = ['Cement', 'Blast Furnace Slag', 'Fly Ash', 'Water', 'Superplasticizer', \n",
    "                'Coarse Aggregate', 'Fine Aggregate', 'Age', 'Strength']"
   ]
  },
  {
   "cell_type": "code",
   "execution_count": null,
   "metadata": {
    "id": "fyUcMTSZGvbX"
   },
   "outputs": [],
   "source": [
    "data.shape"
   ]
  },
  {
   "cell_type": "code",
   "execution_count": null,
   "metadata": {
    "id": "aB3_6ORGZ952"
   },
   "outputs": [],
   "source": [
    "data.head(4)"
   ]
  },
  {
   "cell_type": "code",
   "execution_count": null,
   "metadata": {
    "id": "DWuPFsAYZ95_"
   },
   "outputs": [],
   "source": [
    "## Data partition (hold-out validation)\n",
    "trainValSet, testSet = train_test_split(data, train_size=0.85, random_state=0)\n",
    "trainSet, valSet = train_test_split(trainValSet, train_size=0.85, random_state=0)\n",
    "\n",
    "## Data standardization (this function return a numpy.ndarray)\n",
    "scaler = StandardScaler().fit(trainSet)\n",
    "trainSet_scaled = scaler.transform(trainSet)\n",
    "valSet_scaled = scaler.transform(valSet)\n",
    "testSet_scaled = scaler.transform(testSet)\n",
    "\n",
    "## Predictors and target\n",
    "X_train, y_train = trainSet_scaled[:, :-1], trainSet_scaled[:, -1]\n",
    "X_val,   y_val =   valSet_scaled[:, :-1], valSet_scaled[:, -1]\n",
    "X_test,  y_test =  testSet_scaled[:, :-1], testSet_scaled[:, -1]\n",
    "\n",
    "## Shape of data\n",
    "print('(train shape) X: {}, y: {}'.format(X_train.shape, y_train.shape))\n",
    "print('(Validation shape) X: {}, y: {}'.format(X_val.shape, y_val.shape))\n",
    "print('(test shape) X: {}, y: {}'.format(X_test.shape, y_test.shape))"
   ]
  },
  {
   "cell_type": "markdown",
   "metadata": {
    "id": "zhofK7FeSS-j"
   },
   "source": [
    "# __Actividad__\n",
    "\n",
    "En base a lo aprendido hoy en clase, genere un modelo predictivo mediante redes neuronales con capas Dense, para predecir el __Strength__. Utilice el conjunto de entrenamiento y validación de la mejor forma tal de poder definir los hiperparámetros de una red neuronal (número de capas ocultas, número de unidades en las capas, funciones de activación, número de épocas). Una vez que haya definido la mejor configuración de la red neuronal, entrenela (con el conjunto de entrenamiento completo, i.e., train +val) y evalúe el desempeño en el conjunto de prueba, en particular entregue el mean absolute error o el mean squared error."
   ]
  },
  {
   "cell_type": "markdown",
   "metadata": {
    "id": "dys8WeiYklbT"
   },
   "source": [
    "### Respuesta:"
   ]
  },
  {
   "cell_type": "code",
   "execution_count": null,
   "metadata": {
    "id": "-LJ7HRhWklbT"
   },
   "outputs": [],
   "source": []
  }
 ],
 "metadata": {
  "colab": {
   "collapsed_sections": [],
   "provenance": []
  },
  "kernelspec": {
   "display_name": "Python 3 (ipykernel)",
   "language": "python",
   "name": "python3"
  },
  "language_info": {
   "codemirror_mode": {
    "name": "ipython",
    "version": 3
   },
   "file_extension": ".py",
   "mimetype": "text/x-python",
   "name": "python",
   "nbconvert_exporter": "python",
   "pygments_lexer": "ipython3",
   "version": "3.9.12"
  },
  "widgets": {
   "application/vnd.jupyter.widget-state+json": {
    "state": {},
    "version_major": 2,
    "version_minor": 0
   }
  }
 },
 "nbformat": 4,
 "nbformat_minor": 4
}
