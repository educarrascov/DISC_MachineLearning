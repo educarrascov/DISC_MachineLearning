{
 "cells": [
  {
   "cell_type": "markdown",
   "metadata": {
    "id": "rci7JN_UH9rb"
   },
   "source": [
    "## Instrucciones\n",
    "\n",
    "* Por favor responder en este mismo notebook\n",
    "\n",
    "\n"
   ]
  },
  {
   "cell_type": "markdown",
   "metadata": {
    "id": "etaG6aiPH9rc"
   },
   "source": [
    "Considere el dataset wine (un clásico parecido a iris)"
   ]
  },
  {
   "cell_type": "code",
   "execution_count": 1,
   "metadata": {
    "colab": {
     "base_uri": "https://localhost:8080/"
    },
    "id": "XPpGrDtJH9rc",
    "outputId": "53e79334-833f-420b-91f1-f1eab642ab6f"
   },
   "outputs": [
    {
     "name": "stdout",
     "output_type": "stream",
     "text": [
      "dict_keys(['data', 'target', 'target_names', 'DESCR', 'feature_names'])\n",
      ".. _wine_dataset:\n",
      "\n",
      "Wine recognition dataset\n",
      "------------------------\n",
      "\n",
      "**Data Set Characteristics:**\n",
      "\n",
      "    :Number of Instances: 178 (50 in each of three classes)\n",
      "    :Number of Attributes: 13 numeric, predictive attributes and the class\n",
      "    :Attribute Information:\n",
      " \t\t- Alcohol\n",
      " \t\t- Malic acid\n",
      " \t\t- Ash\n",
      "\t\t- Alcalinity of ash  \n",
      " \t\t- Magnesium\n",
      "\t\t- Total phenols\n",
      " \t\t- Flavanoids\n",
      " \t\t- Nonflavanoid phenols\n",
      " \t\t- Proanthocyanins\n",
      "\t\t- Color intensity\n",
      " \t\t- Hue\n",
      " \t\t- OD280/OD315 of diluted wines\n",
      " \t\t- Proline\n",
      "\n",
      "    - class:\n",
      "            - class_0\n",
      "            - class_1\n",
      "            - class_2\n",
      "\t\t\n",
      "    :Summary Statistics:\n",
      "    \n",
      "    ============================= ==== ===== ======= =====\n",
      "                                   Min   Max   Mean     SD\n",
      "    ============================= ==== ===== ======= =====\n",
      "    Alcohol:                      11.0  14.8    13.0   0.8\n",
      "    Malic Acid:                   0.74  5.80    2.34  1.12\n",
      "    Ash:                          1.36  3.23    2.36  0.27\n",
      "    Alcalinity of Ash:            10.6  30.0    19.5   3.3\n",
      "    Magnesium:                    70.0 162.0    99.7  14.3\n",
      "    Total Phenols:                0.98  3.88    2.29  0.63\n",
      "    Flavanoids:                   0.34  5.08    2.03  1.00\n",
      "    Nonflavanoid Phenols:         0.13  0.66    0.36  0.12\n",
      "    Proanthocyanins:              0.41  3.58    1.59  0.57\n",
      "    Colour Intensity:              1.3  13.0     5.1   2.3\n",
      "    Hue:                          0.48  1.71    0.96  0.23\n",
      "    OD280/OD315 of diluted wines: 1.27  4.00    2.61  0.71\n",
      "    Proline:                       278  1680     746   315\n",
      "    ============================= ==== ===== ======= =====\n",
      "\n",
      "    :Missing Attribute Values: None\n",
      "    :Class Distribution: class_0 (59), class_1 (71), class_2 (48)\n",
      "    :Creator: R.A. Fisher\n",
      "    :Donor: Michael Marshall (MARSHALL%PLU@io.arc.nasa.gov)\n",
      "    :Date: July, 1988\n",
      "\n",
      "This is a copy of UCI ML Wine recognition datasets.\n",
      "https://archive.ics.uci.edu/ml/machine-learning-databases/wine/wine.data\n",
      "\n",
      "The data is the results of a chemical analysis of wines grown in the same\n",
      "region in Italy by three different cultivators. There are thirteen different\n",
      "measurements taken for different constituents found in the three types of\n",
      "wine.\n",
      "\n",
      "Original Owners: \n",
      "\n",
      "Forina, M. et al, PARVUS - \n",
      "An Extendible Package for Data Exploration, Classification and Correlation. \n",
      "Institute of Pharmaceutical and Food Analysis and Technologies,\n",
      "Via Brigata Salerno, 16147 Genoa, Italy.\n",
      "\n",
      "Citation:\n",
      "\n",
      "Lichman, M. (2013). UCI Machine Learning Repository\n",
      "[https://archive.ics.uci.edu/ml]. Irvine, CA: University of California,\n",
      "School of Information and Computer Science. \n",
      "\n",
      ".. topic:: References\n",
      "\n",
      "  (1) S. Aeberhard, D. Coomans and O. de Vel, \n",
      "  Comparison of Classifiers in High Dimensional Settings, \n",
      "  Tech. Rep. no. 92-02, (1992), Dept. of Computer Science and Dept. of  \n",
      "  Mathematics and Statistics, James Cook University of North Queensland. \n",
      "  (Also submitted to Technometrics). \n",
      "\n",
      "  The data was used with many others for comparing various \n",
      "  classifiers. The classes are separable, though only RDA \n",
      "  has achieved 100% correct classification. \n",
      "  (RDA : 100%, QDA 99.4%, LDA 98.9%, 1NN 96.1% (z-transformed data)) \n",
      "  (All results using the leave-one-out technique) \n",
      "\n",
      "  (2) S. Aeberhard, D. Coomans and O. de Vel, \n",
      "  \"THE CLASSIFICATION PERFORMANCE OF RDA\" \n",
      "  Tech. Rep. no. 92-01, (1992), Dept. of Computer Science and Dept. of \n",
      "  Mathematics and Statistics, James Cook University of North Queensland. \n",
      "  (Also submitted to Journal of Chemometrics).\n",
      "\n"
     ]
    }
   ],
   "source": [
    "from sklearn.datasets import load_wine\n",
    "wine_dataset = load_wine()\n",
    "print(wine_dataset.keys())\n",
    "print(wine_dataset['DESCR'])"
   ]
  },
  {
   "cell_type": "markdown",
   "metadata": {
    "id": "mDITHGi-H9re"
   },
   "source": [
    "## Pregunta 1\n",
    "Realice una partición aleatoria para generar un conjunto de entrenamiento, validación, y prueba. Utilice un enfoque de Grid Search para encontrar el valor de k más apropiado para un clasificador knn. Para el valor de k encontrado, evalúe en el conjunto de prueba, entregando la matriz de confusión, accuracy, precision, recall, y F1-score. Para qué tipo de vino (clase), el clasificador tiene más problemas para clasificar, justifique su respuesta. "
   ]
  },
  {
   "cell_type": "markdown",
   "metadata": {
    "id": "m_vkciiVH9rf"
   },
   "source": [
    "### Respuesta:"
   ]
  },
  {
   "cell_type": "code",
   "execution_count": null,
   "metadata": {
    "id": "0l8ciGK8H9rf"
   },
   "outputs": [],
   "source": []
  },
  {
   "cell_type": "markdown",
   "metadata": {
    "id": "WIKdO19iH9rg"
   },
   "source": [
    "## Pregunta 2\n",
    "Considere como conjunto de entrenamiento el conjunto de entrenamiento + validación de la pregunta 1. Para un clasificador knn grafique en un mismo plot el accuracy de entrenamiento y el accuracy en el conjunto de prueba a medida que aumenta el valor de k (ver el ejemplo de la clase 1 con el dataset breast_cancer). En base al resultado del gráfico, cuál es el valor de k más apropiado? Justifique su respuesta. Coincide con el resultado obtenido en la pregunta 1?"
   ]
  },
  {
   "cell_type": "markdown",
   "metadata": {
    "id": "PEyWNA3bH9rh"
   },
   "source": [
    "### Respuesta:"
   ]
  },
  {
   "cell_type": "code",
   "execution_count": null,
   "metadata": {
    "id": "LZWU3s1BH9rh"
   },
   "outputs": [],
   "source": []
  },
  {
   "cell_type": "markdown",
   "metadata": {
    "id": "CnRFIuIzH9ri"
   },
   "source": [
    "## Pregunta 3\n",
    "Usando la partición de la pregunta 1, entrene una regresión logística con regularización L1. Usando Random Search, determine el valor del hiperparámetro C. Para el valor de C seleccionado, qué atributos quedan ponderados por pesos igual a 0. Evalúe en el conjunto de prueba, entregando la matriz de confusión, accuracy, precision, recall, y F1-score. En base al resultado de accuracy, cuál clasificador (knn o regresión logística) obtiene el mejor resultado."
   ]
  },
  {
   "cell_type": "markdown",
   "metadata": {
    "id": "0iW3hPEfH9ri"
   },
   "source": [
    "### Respuesta:"
   ]
  },
  {
   "cell_type": "code",
   "execution_count": null,
   "metadata": {
    "id": "GkHjL65TH9rj"
   },
   "outputs": [],
   "source": []
  },
  {
   "cell_type": "markdown",
   "metadata": {
    "id": "8Xs-cmbUH9rj"
   },
   "source": [
    "## Pregunta 4\n",
    "Repita la pregunta 3 con regularización L2"
   ]
  },
  {
   "cell_type": "markdown",
   "metadata": {
    "id": "uTdV1LF3H9rj"
   },
   "source": [
    "### Respuesta"
   ]
  },
  {
   "cell_type": "code",
   "execution_count": null,
   "metadata": {
    "id": "hNZPxZLDH9rj"
   },
   "outputs": [],
   "source": []
  },
  {
   "cell_type": "markdown",
   "metadata": {
    "id": "ZDwNHCHAH9rk"
   },
   "source": [
    "## Pregunta 5 \n",
    "Considere el clasificador Linear Support Vector Machine. Utilizando el dataset completo, realice una validación cruzada de 10 dobladas estratificada, con SVC (usando valores para los hiperparámetros que trae por defecto) usando como métrica el accuracy. Qué le parece el resultado obtenido? se puede comparar el accuracy obtenido por este enfoque de validación cruzada versus los resultados de accuracy obtenidos por los enfoques hold-out usados para knn, regresión logística L1 y L2? Justifique su respuesta."
   ]
  },
  {
   "cell_type": "markdown",
   "metadata": {
    "id": "kJ32U-MnH9rk"
   },
   "source": [
    "### Respuesta"
   ]
  },
  {
   "cell_type": "code",
   "execution_count": null,
   "metadata": {
    "id": "PSNtEsWbH9rk"
   },
   "outputs": [],
   "source": []
  },
  {
   "cell_type": "markdown",
   "metadata": {
    "id": "ZIsMzSfSH9rl"
   },
   "source": [
    "## Pregunta 6\n",
    "Repita la pregunta 5 pero ahora con Grid-search + cross-validation para determinar el valor de C más apropiado. Mejora el accuracy resultante?"
   ]
  },
  {
   "cell_type": "markdown",
   "metadata": {
    "id": "1q_jT-EdH9rl"
   },
   "source": [
    "### Respuesta"
   ]
  },
  {
   "cell_type": "code",
   "execution_count": null,
   "metadata": {
    "id": "2ouf5Y9lH9rl"
   },
   "outputs": [],
   "source": []
  },
  {
   "cell_type": "markdown",
   "metadata": {
    "id": "rGjqGsiCH9rl"
   },
   "source": [
    "## Suerte!"
   ]
  },
  {
   "cell_type": "code",
   "execution_count": null,
   "metadata": {
    "id": "1JqnJwmYH9rl"
   },
   "outputs": [],
   "source": []
  }
 ],
 "metadata": {
  "colab": {
   "name": "tarea1.ipynb",
   "provenance": []
  },
  "kernelspec": {
   "display_name": "Python 3",
   "language": "python",
   "name": "python3"
  },
  "language_info": {
   "codemirror_mode": {
    "name": "ipython",
    "version": 3
   },
   "file_extension": ".py",
   "mimetype": "text/x-python",
   "name": "python",
   "nbconvert_exporter": "python",
   "pygments_lexer": "ipython3",
   "version": "3.8.8"
  }
 },
 "nbformat": 4,
 "nbformat_minor": 1
}
