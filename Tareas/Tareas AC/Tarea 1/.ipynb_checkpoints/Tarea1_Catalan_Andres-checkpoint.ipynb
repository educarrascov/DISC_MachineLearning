{
 "cells": [
  {
   "cell_type": "markdown",
   "metadata": {
    "id": "rci7JN_UH9rb"
   },
   "source": [
    "## Instrucciones\n",
    "\n",
    "* Por favor responder en este mismo notebook\n",
    "\n",
    "\n"
   ]
  },
  {
   "cell_type": "markdown",
   "metadata": {
    "id": "etaG6aiPH9rc"
   },
   "source": [
    "Considere el dataset wine (un clásico parecido a iris)"
   ]
  },
  {
   "cell_type": "code",
   "execution_count": 1,
   "metadata": {
    "colab": {
     "base_uri": "https://localhost:8080/"
    },
    "id": "XPpGrDtJH9rc",
    "outputId": "53e79334-833f-420b-91f1-f1eab642ab6f"
   },
   "outputs": [
    {
     "name": "stdout",
     "output_type": "stream",
     "text": [
      "dict_keys(['data', 'target', 'frame', 'target_names', 'DESCR', 'feature_names'])\n",
      ".. _wine_dataset:\n",
      "\n",
      "Wine recognition dataset\n",
      "------------------------\n",
      "\n",
      "**Data Set Characteristics:**\n",
      "\n",
      "    :Number of Instances: 178 (50 in each of three classes)\n",
      "    :Number of Attributes: 13 numeric, predictive attributes and the class\n",
      "    :Attribute Information:\n",
      " \t\t- Alcohol\n",
      " \t\t- Malic acid\n",
      " \t\t- Ash\n",
      "\t\t- Alcalinity of ash  \n",
      " \t\t- Magnesium\n",
      "\t\t- Total phenols\n",
      " \t\t- Flavanoids\n",
      " \t\t- Nonflavanoid phenols\n",
      " \t\t- Proanthocyanins\n",
      "\t\t- Color intensity\n",
      " \t\t- Hue\n",
      " \t\t- OD280/OD315 of diluted wines\n",
      " \t\t- Proline\n",
      "\n",
      "    - class:\n",
      "            - class_0\n",
      "            - class_1\n",
      "            - class_2\n",
      "\t\t\n",
      "    :Summary Statistics:\n",
      "    \n",
      "    ============================= ==== ===== ======= =====\n",
      "                                   Min   Max   Mean     SD\n",
      "    ============================= ==== ===== ======= =====\n",
      "    Alcohol:                      11.0  14.8    13.0   0.8\n",
      "    Malic Acid:                   0.74  5.80    2.34  1.12\n",
      "    Ash:                          1.36  3.23    2.36  0.27\n",
      "    Alcalinity of Ash:            10.6  30.0    19.5   3.3\n",
      "    Magnesium:                    70.0 162.0    99.7  14.3\n",
      "    Total Phenols:                0.98  3.88    2.29  0.63\n",
      "    Flavanoids:                   0.34  5.08    2.03  1.00\n",
      "    Nonflavanoid Phenols:         0.13  0.66    0.36  0.12\n",
      "    Proanthocyanins:              0.41  3.58    1.59  0.57\n",
      "    Colour Intensity:              1.3  13.0     5.1   2.3\n",
      "    Hue:                          0.48  1.71    0.96  0.23\n",
      "    OD280/OD315 of diluted wines: 1.27  4.00    2.61  0.71\n",
      "    Proline:                       278  1680     746   315\n",
      "    ============================= ==== ===== ======= =====\n",
      "\n",
      "    :Missing Attribute Values: None\n",
      "    :Class Distribution: class_0 (59), class_1 (71), class_2 (48)\n",
      "    :Creator: R.A. Fisher\n",
      "    :Donor: Michael Marshall (MARSHALL%PLU@io.arc.nasa.gov)\n",
      "    :Date: July, 1988\n",
      "\n",
      "This is a copy of UCI ML Wine recognition datasets.\n",
      "https://archive.ics.uci.edu/ml/machine-learning-databases/wine/wine.data\n",
      "\n",
      "The data is the results of a chemical analysis of wines grown in the same\n",
      "region in Italy by three different cultivators. There are thirteen different\n",
      "measurements taken for different constituents found in the three types of\n",
      "wine.\n",
      "\n",
      "Original Owners: \n",
      "\n",
      "Forina, M. et al, PARVUS - \n",
      "An Extendible Package for Data Exploration, Classification and Correlation. \n",
      "Institute of Pharmaceutical and Food Analysis and Technologies,\n",
      "Via Brigata Salerno, 16147 Genoa, Italy.\n",
      "\n",
      "Citation:\n",
      "\n",
      "Lichman, M. (2013). UCI Machine Learning Repository\n",
      "[https://archive.ics.uci.edu/ml]. Irvine, CA: University of California,\n",
      "School of Information and Computer Science. \n",
      "\n",
      ".. topic:: References\n",
      "\n",
      "  (1) S. Aeberhard, D. Coomans and O. de Vel, \n",
      "  Comparison of Classifiers in High Dimensional Settings, \n",
      "  Tech. Rep. no. 92-02, (1992), Dept. of Computer Science and Dept. of  \n",
      "  Mathematics and Statistics, James Cook University of North Queensland. \n",
      "  (Also submitted to Technometrics). \n",
      "\n",
      "  The data was used with many others for comparing various \n",
      "  classifiers. The classes are separable, though only RDA \n",
      "  has achieved 100% correct classification. \n",
      "  (RDA : 100%, QDA 99.4%, LDA 98.9%, 1NN 96.1% (z-transformed data)) \n",
      "  (All results using the leave-one-out technique) \n",
      "\n",
      "  (2) S. Aeberhard, D. Coomans and O. de Vel, \n",
      "  \"THE CLASSIFICATION PERFORMANCE OF RDA\" \n",
      "  Tech. Rep. no. 92-01, (1992), Dept. of Computer Science and Dept. of \n",
      "  Mathematics and Statistics, James Cook University of North Queensland. \n",
      "  (Also submitted to Journal of Chemometrics).\n",
      "\n"
     ]
    }
   ],
   "source": [
    "from sklearn.datasets import load_wine\n",
    "wine_dataset = load_wine()\n",
    "print(wine_dataset.keys())\n",
    "print(wine_dataset['DESCR'])"
   ]
  },
  {
   "cell_type": "code",
   "execution_count": 2,
   "metadata": {},
   "outputs": [],
   "source": [
    "# Librerías utilizadas\n",
    "\n",
    "import pandas as pd\n",
    "import numpy as np\n",
    "\n",
    "import warnings\n",
    "warnings.filterwarnings('ignore')\n",
    "\n",
    "from sklearn.model_selection import train_test_split\n",
    "from sklearn.preprocessing import StandardScaler\n",
    "from sklearn.model_selection import GridSearchCV, RandomizedSearchCV, StratifiedKFold, cross_val_score\n",
    "from sklearn.neighbors import KNeighborsClassifier\n",
    "from sklearn.metrics import accuracy_score, confusion_matrix, classification_report\n",
    "from sklearn.linear_model import LogisticRegression\n",
    "from sklearn.svm import SVC\n",
    "from scipy.stats import uniform\n",
    "import matplotlib.pyplot as plt"
   ]
  },
  {
   "cell_type": "markdown",
   "metadata": {
    "id": "mDITHGi-H9re"
   },
   "source": [
    "## Pregunta 1\n",
    "Realice una partición aleatoria para generar un conjunto de entrenamiento, validación, y prueba. Utilice un enfoque de Grid Search para encontrar el valor de k más apropiado para un clasificador knn. Para el valor de k encontrado, evalúe en el conjunto de prueba, entregando la matriz de confusión, accuracy, precision, recall, y F1-score. Para qué tipo de vino (clase), el clasificador tiene más problemas para clasificar, justifique su respuesta. "
   ]
  },
  {
   "cell_type": "markdown",
   "metadata": {
    "id": "m_vkciiVH9rf"
   },
   "source": [
    "### Respuesta:"
   ]
  },
  {
   "cell_type": "code",
   "execution_count": 4,
   "metadata": {},
   "outputs": [
    {
     "data": {
      "text/html": [
       "<div>\n",
       "<style scoped>\n",
       "    .dataframe tbody tr th:only-of-type {\n",
       "        vertical-align: middle;\n",
       "    }\n",
       "\n",
       "    .dataframe tbody tr th {\n",
       "        vertical-align: top;\n",
       "    }\n",
       "\n",
       "    .dataframe thead th {\n",
       "        text-align: right;\n",
       "    }\n",
       "</style>\n",
       "<table border=\"1\" class=\"dataframe\">\n",
       "  <thead>\n",
       "    <tr style=\"text-align: right;\">\n",
       "      <th></th>\n",
       "      <th>alcohol</th>\n",
       "      <th>malic_acid</th>\n",
       "      <th>ash</th>\n",
       "      <th>alcalinity_of_ash</th>\n",
       "      <th>magnesium</th>\n",
       "      <th>total_phenols</th>\n",
       "      <th>flavanoids</th>\n",
       "      <th>nonflavanoid_phenols</th>\n",
       "      <th>proanthocyanins</th>\n",
       "      <th>color_intensity</th>\n",
       "      <th>hue</th>\n",
       "      <th>od280/od315_of_diluted_wines</th>\n",
       "      <th>proline</th>\n",
       "    </tr>\n",
       "  </thead>\n",
       "  <tbody>\n",
       "    <tr>\n",
       "      <th>0</th>\n",
       "      <td>14.23</td>\n",
       "      <td>1.71</td>\n",
       "      <td>2.43</td>\n",
       "      <td>15.6</td>\n",
       "      <td>127.0</td>\n",
       "      <td>2.80</td>\n",
       "      <td>3.06</td>\n",
       "      <td>0.28</td>\n",
       "      <td>2.29</td>\n",
       "      <td>5.64</td>\n",
       "      <td>1.04</td>\n",
       "      <td>3.92</td>\n",
       "      <td>1065.0</td>\n",
       "    </tr>\n",
       "    <tr>\n",
       "      <th>1</th>\n",
       "      <td>13.20</td>\n",
       "      <td>1.78</td>\n",
       "      <td>2.14</td>\n",
       "      <td>11.2</td>\n",
       "      <td>100.0</td>\n",
       "      <td>2.65</td>\n",
       "      <td>2.76</td>\n",
       "      <td>0.26</td>\n",
       "      <td>1.28</td>\n",
       "      <td>4.38</td>\n",
       "      <td>1.05</td>\n",
       "      <td>3.40</td>\n",
       "      <td>1050.0</td>\n",
       "    </tr>\n",
       "    <tr>\n",
       "      <th>2</th>\n",
       "      <td>13.16</td>\n",
       "      <td>2.36</td>\n",
       "      <td>2.67</td>\n",
       "      <td>18.6</td>\n",
       "      <td>101.0</td>\n",
       "      <td>2.80</td>\n",
       "      <td>3.24</td>\n",
       "      <td>0.30</td>\n",
       "      <td>2.81</td>\n",
       "      <td>5.68</td>\n",
       "      <td>1.03</td>\n",
       "      <td>3.17</td>\n",
       "      <td>1185.0</td>\n",
       "    </tr>\n",
       "    <tr>\n",
       "      <th>3</th>\n",
       "      <td>14.37</td>\n",
       "      <td>1.95</td>\n",
       "      <td>2.50</td>\n",
       "      <td>16.8</td>\n",
       "      <td>113.0</td>\n",
       "      <td>3.85</td>\n",
       "      <td>3.49</td>\n",
       "      <td>0.24</td>\n",
       "      <td>2.18</td>\n",
       "      <td>7.80</td>\n",
       "      <td>0.86</td>\n",
       "      <td>3.45</td>\n",
       "      <td>1480.0</td>\n",
       "    </tr>\n",
       "    <tr>\n",
       "      <th>4</th>\n",
       "      <td>13.24</td>\n",
       "      <td>2.59</td>\n",
       "      <td>2.87</td>\n",
       "      <td>21.0</td>\n",
       "      <td>118.0</td>\n",
       "      <td>2.80</td>\n",
       "      <td>2.69</td>\n",
       "      <td>0.39</td>\n",
       "      <td>1.82</td>\n",
       "      <td>4.32</td>\n",
       "      <td>1.04</td>\n",
       "      <td>2.93</td>\n",
       "      <td>735.0</td>\n",
       "    </tr>\n",
       "  </tbody>\n",
       "</table>\n",
       "</div>"
      ],
      "text/plain": [
       "   alcohol  malic_acid   ash  alcalinity_of_ash  magnesium  total_phenols  \\\n",
       "0    14.23        1.71  2.43               15.6      127.0           2.80   \n",
       "1    13.20        1.78  2.14               11.2      100.0           2.65   \n",
       "2    13.16        2.36  2.67               18.6      101.0           2.80   \n",
       "3    14.37        1.95  2.50               16.8      113.0           3.85   \n",
       "4    13.24        2.59  2.87               21.0      118.0           2.80   \n",
       "\n",
       "   flavanoids  nonflavanoid_phenols  proanthocyanins  color_intensity   hue  \\\n",
       "0        3.06                  0.28             2.29             5.64  1.04   \n",
       "1        2.76                  0.26             1.28             4.38  1.05   \n",
       "2        3.24                  0.30             2.81             5.68  1.03   \n",
       "3        3.49                  0.24             2.18             7.80  0.86   \n",
       "4        2.69                  0.39             1.82             4.32  1.04   \n",
       "\n",
       "   od280/od315_of_diluted_wines  proline  \n",
       "0                          3.92   1065.0  \n",
       "1                          3.40   1050.0  \n",
       "2                          3.17   1185.0  \n",
       "3                          3.45   1480.0  \n",
       "4                          2.93    735.0  "
      ]
     },
     "execution_count": 4,
     "metadata": {},
     "output_type": "execute_result"
    }
   ],
   "source": [
    "# Cargamos la data a utilizar\n",
    "X, y = pd.DataFrame(data=wine_dataset.data, columns=wine_dataset.feature_names), pd.DataFrame(data=wine_dataset.target, \n",
    "                                                                                              columns=[\"wine_quality_type\"])\n",
    "\n",
    "# Matriz de atributos                                                                                               \n",
    "X.head()"
   ]
  },
  {
   "cell_type": "code",
   "execution_count": 5,
   "metadata": {},
   "outputs": [
    {
     "data": {
      "text/html": [
       "<div>\n",
       "<style scoped>\n",
       "    .dataframe tbody tr th:only-of-type {\n",
       "        vertical-align: middle;\n",
       "    }\n",
       "\n",
       "    .dataframe tbody tr th {\n",
       "        vertical-align: top;\n",
       "    }\n",
       "\n",
       "    .dataframe thead th {\n",
       "        text-align: right;\n",
       "    }\n",
       "</style>\n",
       "<table border=\"1\" class=\"dataframe\">\n",
       "  <thead>\n",
       "    <tr style=\"text-align: right;\">\n",
       "      <th></th>\n",
       "      <th>wine_quality_type</th>\n",
       "    </tr>\n",
       "  </thead>\n",
       "  <tbody>\n",
       "    <tr>\n",
       "      <th>0</th>\n",
       "      <td>0</td>\n",
       "    </tr>\n",
       "    <tr>\n",
       "      <th>1</th>\n",
       "      <td>0</td>\n",
       "    </tr>\n",
       "    <tr>\n",
       "      <th>2</th>\n",
       "      <td>0</td>\n",
       "    </tr>\n",
       "    <tr>\n",
       "      <th>3</th>\n",
       "      <td>0</td>\n",
       "    </tr>\n",
       "    <tr>\n",
       "      <th>4</th>\n",
       "      <td>0</td>\n",
       "    </tr>\n",
       "  </tbody>\n",
       "</table>\n",
       "</div>"
      ],
      "text/plain": [
       "   wine_quality_type\n",
       "0                  0\n",
       "1                  0\n",
       "2                  0\n",
       "3                  0\n",
       "4                  0"
      ]
     },
     "execution_count": 5,
     "metadata": {},
     "output_type": "execute_result"
    }
   ],
   "source": [
    "# Vector objetivo\n",
    "y.head()"
   ]
  },
  {
   "cell_type": "code",
   "execution_count": 6,
   "metadata": {},
   "outputs": [],
   "source": [
    "# Partición aleatoria para generar un conjunto de entrenamiento, validación, y prueba\n",
    "\n",
    "X_trainval, X_test, y_trainval, y_test = train_test_split(X, y, random_state=0)\n",
    "X_train, X_valid, y_train, y_valid = train_test_split(X_trainval, y_trainval, random_state=1)"
   ]
  },
  {
   "cell_type": "code",
   "execution_count": 7,
   "metadata": {},
   "outputs": [],
   "source": [
    "# Utilizamos un enfoque de Grid Search para encontrar el valor de k\n",
    "\n",
    "k_range = list(range(1, 100))\n",
    "param_grid = dict(n_neighbors=k_range)\n",
    "grid = GridSearchCV(KNeighborsClassifier(), param_grid, cv=10, scoring='accuracy', verbose = 0).fit(X_train, y_train)"
   ]
  },
  {
   "cell_type": "code",
   "execution_count": 8,
   "metadata": {},
   "outputs": [
    {
     "name": "stdout",
     "output_type": "stream",
     "text": [
      "El valor de k corresponde a: {'n_neighbors': 30}\n"
     ]
    }
   ],
   "source": [
    "print(\"El valor de k corresponde a:\", grid.best_params_)"
   ]
  },
  {
   "cell_type": "code",
   "execution_count": 9,
   "metadata": {},
   "outputs": [],
   "source": [
    "# Predicciones en el conjunto de prueba\n",
    "knn_y_hat = grid.best_estimator_.predict(X_test)"
   ]
  },
  {
   "cell_type": "code",
   "execution_count": 10,
   "metadata": {},
   "outputs": [
    {
     "name": "stdout",
     "output_type": "stream",
     "text": [
      "[[15  0  1]\n",
      " [ 0 15  6]\n",
      " [ 0  3  5]]\n"
     ]
    }
   ],
   "source": [
    "# Matriz de confusión\n",
    "print(confusion_matrix(y_test, knn_y_hat))"
   ]
  },
  {
   "cell_type": "code",
   "execution_count": 11,
   "metadata": {},
   "outputs": [
    {
     "name": "stdout",
     "output_type": "stream",
     "text": [
      "El valor de la métrica de accuracy es: 0.78\n"
     ]
    }
   ],
   "source": [
    "# Medición de accuracy\n",
    "print(\"El valor de la métrica de accuracy es:\", accuracy_score(y_test, knn_y_hat).round(2))"
   ]
  },
  {
   "cell_type": "code",
   "execution_count": 12,
   "metadata": {},
   "outputs": [
    {
     "name": "stdout",
     "output_type": "stream",
     "text": [
      "              precision    recall  f1-score   support\n",
      "\n",
      "           0       1.00      0.94      0.97        16\n",
      "           1       0.83      0.71      0.77        21\n",
      "           2       0.42      0.62      0.50         8\n",
      "\n",
      "    accuracy                           0.78        45\n",
      "   macro avg       0.75      0.76      0.75        45\n",
      "weighted avg       0.82      0.78      0.79        45\n",
      "\n"
     ]
    }
   ],
   "source": [
    "# Reporte de las métricas prescision, recall y f1-score\n",
    "\n",
    "print(classification_report(y_test, knn_y_hat))"
   ]
  },
  {
   "cell_type": "markdown",
   "metadata": {},
   "source": [
    "**Comentarios:**\n",
    "    \n",
    "1. El el clasificador tiene más problemas para clasificar al vino de la clase número 2, dado que sus métricas de precision, recall y f1-score son menores a 70%."
   ]
  },
  {
   "cell_type": "markdown",
   "metadata": {
    "id": "WIKdO19iH9rg"
   },
   "source": [
    "## Pregunta 2\n",
    "Considere como conjunto de entrenamiento el conjunto de entrenamiento + validación de la pregunta 1. Para un clasificador knn grafique en un mismo plot el accuracy de entrenamiento y el accuracy en el conjunto de prueba a medida que aumenta el valor de k (ver el ejemplo de la clase 1 con el dataset breast_cancer). En base al resultado del gráfico, cuál es el valor de k más apropiado? Justifique su respuesta. Coincide con el resultado obtenido en la pregunta 1?"
   ]
  },
  {
   "cell_type": "markdown",
   "metadata": {
    "id": "PEyWNA3bH9rh"
   },
   "source": [
    "### Respuesta:"
   ]
  },
  {
   "cell_type": "code",
   "execution_count": 13,
   "metadata": {
    "id": "LZWU3s1BH9rh"
   },
   "outputs": [],
   "source": [
    "# Conjunto de entrenamiento + validación\n",
    "\n",
    "X_trainval, X_test, y_trainval, y_test = train_test_split(X, y, random_state=0)\n",
    "X_train, X_valid, y_train, y_valid = train_test_split(X_trainval, y_trainval, random_state=1)"
   ]
  },
  {
   "cell_type": "code",
   "execution_count": 14,
   "metadata": {},
   "outputs": [
    {
     "data": {
      "image/png": "[encoded data removed]",
      "text/plain": [
       "<Figure size 432x288 with 1 Axes>"
      ]
     },
     "metadata": {
      "needs_background": "light"
     },
     "output_type": "display_data"
    }
   ],
   "source": [
    "training_accuracy = []\n",
    "test_accuracy = []\n",
    "k_range = range(1, 100)\n",
    "\n",
    "for n_neighbors in k_range:\n",
    "    # build the model\n",
    "    clf = KNeighborsClassifier(n_neighbors=n_neighbors).fit(X_train, y_train)\n",
    "    # record training and test set accuracy\n",
    "    training_accuracy.append(clf.score(X_train, y_train))\n",
    "    test_accuracy.append(clf.score(X_valid, y_valid))\n",
    "    \n",
    "plt.plot(k_range, training_accuracy, label=\"training accuracy\")\n",
    "plt.plot(k_range, test_accuracy, label=\"test accuracy\")\n",
    "plt.ylabel(\"Accuracy\")\n",
    "plt.xlabel(\"n_neighbors\")\n",
    "_ = plt.legend()"
   ]
  },
  {
   "cell_type": "markdown",
   "metadata": {},
   "source": [
    "**Comentarios:**\n",
    "\n",
    "1. Podemos apreciar que para n_neighbors = 30 el valor de accuracy se estabiliza en el conjunto de entrenamiento y disminuye a medida que aumentamos el valor de n_neighbors. El resultado concuerda con lo realizado en la pregunta número 1 "
   ]
  },
  {
   "cell_type": "markdown",
   "metadata": {
    "id": "CnRFIuIzH9ri"
   },
   "source": [
    "## Pregunta 3\n",
    "Usando la partición de la pregunta 1, entrene una regresión logística con regularización L1. Usando Random Search, determine el valor del hiperparámetro C. Para el valor de C seleccionado, qué atributos quedan ponderados por pesos igual a 0. Evalúe en el conjunto de prueba, entregando la matriz de confusión, accuracy, precision, recall, y F1-score. En base al resultado de accuracy, cuál clasificador (knn o regresión logística) obtiene el mejor resultado."
   ]
  },
  {
   "cell_type": "markdown",
   "metadata": {
    "id": "0iW3hPEfH9ri"
   },
   "source": [
    "### Respuesta:"
   ]
  },
  {
   "cell_type": "code",
   "execution_count": 15,
   "metadata": {
    "id": "GkHjL65TH9rj"
   },
   "outputs": [],
   "source": [
    "# Partición aleatoria para generar un conjunto de entrenamiento, validación, y prueba\n",
    "\n",
    "X_trainval, X_test, y_trainval, y_test = train_test_split(X, y, random_state=0)\n",
    "X_train, X_valid, y_train, y_valid = train_test_split(X_trainval, y_trainval, random_state=1)"
   ]
  },
  {
   "cell_type": "code",
   "execution_count": 16,
   "metadata": {},
   "outputs": [],
   "source": [
    "# Valores posibles para C\n",
    "\n",
    "distributions = {'C': [0.001, 0.01, 0.1, 1, 10, 100]}"
   ]
  },
  {
   "cell_type": "code",
   "execution_count": 17,
   "metadata": {},
   "outputs": [],
   "source": [
    "# Utilización de RandomizedSearchCV para encontrar el valor de C\n",
    "\n",
    "model_logreg = RandomizedSearchCV(LogisticRegression(penalty='l1', solver='liblinear'), \n",
    "                                  distributions, random_state=0).fit(X_train, y_train)"
   ]
  },
  {
   "cell_type": "code",
   "execution_count": 18,
   "metadata": {},
   "outputs": [
    {
     "name": "stdout",
     "output_type": "stream",
     "text": [
      "El mejor valor para el parámetro es {'C': 1}\n"
     ]
    }
   ],
   "source": [
    "# Mejor parámetro\n",
    "\n",
    "print(\"El mejor valor para el parámetro es\", model_logreg.best_params_)"
   ]
  },
  {
   "cell_type": "code",
   "execution_count": 19,
   "metadata": {},
   "outputs": [],
   "source": [
    "# Implementación del modelo de regresión logística con penalización L1 y el mejor parámetro\n",
    "\n",
    "best_model_reg = LogisticRegression(penalty='l1', solver='liblinear', \n",
    "                                    C=100, random_state=0).fit(X_train, y_train)                     "
   ]
  },
  {
   "cell_type": "code",
   "execution_count": 20,
   "metadata": {},
   "outputs": [
    {
     "data": {
      "text/plain": [
       "array([[-5.98974573e-01,  4.64773515e+00,  0.00000000e+00,\n",
       "        -3.18442140e+00, -1.69527232e-01,  0.00000000e+00,\n",
       "         9.54263147e+00,  0.00000000e+00,  0.00000000e+00,\n",
       "         2.43384115e-02,  0.00000000e+00,  0.00000000e+00,\n",
       "         6.29102819e-02],\n",
       "       [ 7.59252773e-01, -2.10150000e+00, -4.03928816e+00,\n",
       "         7.53580267e-01, -4.29742251e-02, -1.96696469e-01,\n",
       "         0.00000000e+00,  0.00000000e+00,  7.56032194e+00,\n",
       "        -5.78415544e+00,  8.31358673e+00,  5.07569183e-02,\n",
       "        -2.67335266e-02],\n",
       "       [-9.96776720e-02,  9.40449963e-01,  0.00000000e+00,\n",
       "         1.58403361e-01,  5.27386811e-02,  0.00000000e+00,\n",
       "        -5.91842267e+00,  0.00000000e+00, -1.87875364e+00,\n",
       "         3.91050233e+00,  0.00000000e+00, -7.67134735e+00,\n",
       "        -2.87962961e-03]])"
      ]
     },
     "execution_count": 20,
     "metadata": {},
     "output_type": "execute_result"
    }
   ],
   "source": [
    "# Coeficientes del modelo\n",
    "\n",
    "best_model_reg.coef_"
   ]
  },
  {
   "cell_type": "markdown",
   "metadata": {},
   "source": [
    "1. Para la clase 0 los atributos con peso 0 son: Ash, Total phenols, Nonflavanoid phenols, Proanthocyanins, Hue, OD280/OD315 of diluted wines.\n",
    "\n",
    "2. Para la clase 0 los atributos con peso 0 son: Flavanoids, Nonflavanoid phenols.\n",
    "\n",
    "3. Para la clase 0 los atributos con peso 0 son: Ash, Total phenols, Nonflavanoid phenols, Hue."
   ]
  },
  {
   "cell_type": "code",
   "execution_count": 21,
   "metadata": {},
   "outputs": [],
   "source": [
    "# Predicciones\n",
    "y_hat = best_model_reg.predict(X_test)"
   ]
  },
  {
   "cell_type": "code",
   "execution_count": 22,
   "metadata": {},
   "outputs": [
    {
     "name": "stdout",
     "output_type": "stream",
     "text": [
      "[[14  2  0]\n",
      " [ 0 20  1]\n",
      " [ 0  0  8]]\n"
     ]
    }
   ],
   "source": [
    "# Matriz de confusión\n",
    "print(confusion_matrix(y_test, y_hat))"
   ]
  },
  {
   "cell_type": "code",
   "execution_count": 23,
   "metadata": {},
   "outputs": [
    {
     "data": {
      "text/plain": [
       "0.93"
      ]
     },
     "execution_count": 23,
     "metadata": {},
     "output_type": "execute_result"
    }
   ],
   "source": [
    "# Valor métrica de accuracy\n",
    "accuracy_score(y_test, y_hat).round(2)"
   ]
  },
  {
   "cell_type": "code",
   "execution_count": 24,
   "metadata": {},
   "outputs": [
    {
     "name": "stdout",
     "output_type": "stream",
     "text": [
      "              precision    recall  f1-score   support\n",
      "\n",
      "           0       1.00      0.88      0.93        16\n",
      "           1       0.91      0.95      0.93        21\n",
      "           2       0.89      1.00      0.94         8\n",
      "\n",
      "    accuracy                           0.93        45\n",
      "   macro avg       0.93      0.94      0.93        45\n",
      "weighted avg       0.94      0.93      0.93        45\n",
      "\n"
     ]
    }
   ],
   "source": [
    "# Valor métricas de precision, recall y f1-score\n",
    "print(classification_report(y_test, y_hat))"
   ]
  },
  {
   "cell_type": "markdown",
   "metadata": {},
   "source": [
    "**Comentarios**\n",
    "\n",
    "1. En base al resultado de accuracy, elclasificador de regresión logística obtiene el mejor resultado."
   ]
  },
  {
   "cell_type": "markdown",
   "metadata": {
    "id": "8Xs-cmbUH9rj"
   },
   "source": [
    "## Pregunta 4\n",
    "Repita la pregunta 3 con regularización L2"
   ]
  },
  {
   "cell_type": "markdown",
   "metadata": {
    "id": "uTdV1LF3H9rj"
   },
   "source": [
    "### Respuesta"
   ]
  },
  {
   "cell_type": "code",
   "execution_count": 25,
   "metadata": {
    "id": "hNZPxZLDH9rj"
   },
   "outputs": [],
   "source": [
    "# Partición aleatoria para generar un conjunto de entrenamiento, validación, y prueba\n",
    "\n",
    "X_trainval, X_test, y_trainval, y_test = train_test_split(X, y, random_state=0)\n",
    "X_train, X_valid, y_train, y_valid = train_test_split(X_trainval, y_trainval, random_state=1)"
   ]
  },
  {
   "cell_type": "code",
   "execution_count": 26,
   "metadata": {},
   "outputs": [],
   "source": [
    "# Valores posibles para C\n",
    "\n",
    "distributions = {'C': [0.001, 0.01, 0.1, 1, 10, 100]}"
   ]
  },
  {
   "cell_type": "code",
   "execution_count": 27,
   "metadata": {},
   "outputs": [],
   "source": [
    "# Utilización de RandomizedSearchCV para encontrar el valor de C\n",
    "\n",
    "model_logregl2 = RandomizedSearchCV(LogisticRegression(), \n",
    "                                  distributions, random_state=0).fit(X_train, y_train)"
   ]
  },
  {
   "cell_type": "code",
   "execution_count": 28,
   "metadata": {},
   "outputs": [
    {
     "name": "stdout",
     "output_type": "stream",
     "text": [
      "El mejor valor para el parámetro es {'C': 1}\n"
     ]
    }
   ],
   "source": [
    "# Mejor parámetro\n",
    "\n",
    "print(\"El mejor valor para el parámetro es\", model_logregl2.best_params_)"
   ]
  },
  {
   "cell_type": "code",
   "execution_count": 29,
   "metadata": {},
   "outputs": [],
   "source": [
    "# Implementación del modelo de regresión logística con penalización L2 y el mejor parámetro\n",
    "\n",
    "best_model_regl2 = LogisticRegression(C=1, random_state=0).fit(X_train, y_train)"
   ]
  },
  {
   "cell_type": "code",
   "execution_count": 30,
   "metadata": {},
   "outputs": [
    {
     "data": {
      "text/plain": [
       "array([[ 2.03244220e-01,  4.06265286e-01,  9.54558589e-02,\n",
       "        -5.50063433e-01, -5.19718573e-02,  2.00084522e-01,\n",
       "         4.44806552e-01, -1.96501628e-02,  9.65706538e-02,\n",
       "         2.71028896e-01, -1.02952238e-02,  3.39397206e-01,\n",
       "         1.12730016e-02],\n",
       "       [ 2.18542118e-01, -7.33360068e-01, -9.52773090e-02,\n",
       "         3.17650948e-01,  1.54523733e-02,  1.82525599e-01,\n",
       "         3.37431604e-01, -2.19110420e-03,  2.44331619e-01,\n",
       "        -1.21370050e+00,  2.30867796e-01,  4.22320695e-01,\n",
       "        -7.35472797e-03],\n",
       "       [-4.21786338e-01,  3.27094782e-01, -1.78549899e-04,\n",
       "         2.32412485e-01,  3.65194839e-02, -3.82610121e-01,\n",
       "        -7.82238157e-01,  2.18412670e-02, -3.40902272e-01,\n",
       "         9.42671605e-01, -2.20572572e-01, -7.61717901e-01,\n",
       "        -3.91827359e-03]])"
      ]
     },
     "execution_count": 30,
     "metadata": {},
     "output_type": "execute_result"
    }
   ],
   "source": [
    "# Coeficientes del modelo\n",
    "\n",
    "best_model_regl2.coef_"
   ]
  },
  {
   "cell_type": "code",
   "execution_count": 31,
   "metadata": {},
   "outputs": [],
   "source": [
    "# Predicciones \n",
    "\n",
    "y_hat = best_model_regl2.predict(X_test)"
   ]
  },
  {
   "cell_type": "code",
   "execution_count": 32,
   "metadata": {},
   "outputs": [
    {
     "name": "stdout",
     "output_type": "stream",
     "text": [
      "[[14  2  0]\n",
      " [ 0 20  1]\n",
      " [ 0  0  8]]\n"
     ]
    }
   ],
   "source": [
    "# Matriz de confusión\n",
    "\n",
    "print(confusion_matrix(y_test, y_hat))"
   ]
  },
  {
   "cell_type": "code",
   "execution_count": 33,
   "metadata": {},
   "outputs": [
    {
     "data": {
      "text/plain": [
       "0.93"
      ]
     },
     "execution_count": 33,
     "metadata": {},
     "output_type": "execute_result"
    }
   ],
   "source": [
    "# Valor métrica accuracy\n",
    "\n",
    "accuracy_score(y_test, y_hat).round(2)"
   ]
  },
  {
   "cell_type": "code",
   "execution_count": 34,
   "metadata": {},
   "outputs": [
    {
     "name": "stdout",
     "output_type": "stream",
     "text": [
      "              precision    recall  f1-score   support\n",
      "\n",
      "           0       1.00      0.88      0.93        16\n",
      "           1       0.91      0.95      0.93        21\n",
      "           2       0.89      1.00      0.94         8\n",
      "\n",
      "    accuracy                           0.93        45\n",
      "   macro avg       0.93      0.94      0.93        45\n",
      "weighted avg       0.94      0.93      0.93        45\n",
      "\n"
     ]
    }
   ],
   "source": [
    "# Reporte métrica precision, recall y f1-score\n",
    "\n",
    "print(classification_report(y_test, y_hat))"
   ]
  },
  {
   "cell_type": "markdown",
   "metadata": {},
   "source": [
    "**Comentarios:**\n",
    "    \n",
    "1. El modelo de regresión logítica con penalización L2 tiene el mismo desempeño que el modelo con penalización L1"
   ]
  },
  {
   "cell_type": "markdown",
   "metadata": {
    "id": "ZDwNHCHAH9rk"
   },
   "source": [
    "## Pregunta 5 \n",
    "Considere el clasificador Linear Support Vector Machine. Utilizando el dataset completo, realice una validación cruzada de 10 dobladas estratificada, con SVC (usando valores para los hiperparámetros que trae por defecto) usando como métrica el accuracy. Qué le parece el resultado obtenido? se puede comparar el accuracy obtenido por este enfoque de validación cruzada versus los resultados de accuracy obtenidos por los enfoques hold-out usados para knn, regresión logística L1 y L2? Justifique su respuesta."
   ]
  },
  {
   "cell_type": "markdown",
   "metadata": {
    "id": "kJ32U-MnH9rk"
   },
   "source": [
    "### Respuesta"
   ]
  },
  {
   "cell_type": "code",
   "execution_count": 42,
   "metadata": {
    "id": "PSNtEsWbH9rk"
   },
   "outputs": [],
   "source": [
    "skfold = StratifiedKFold(n_splits=10, shuffle=True)\n",
    "explicit_accuracy = cross_val_score(SVC(random_state=0), X, y, cv=skfold, scoring=\"accuracy\").round(2)"
   ]
  },
  {
   "cell_type": "code",
   "execution_count": 43,
   "metadata": {},
   "outputs": [
    {
     "name": "stdout",
     "output_type": "stream",
     "text": [
      "Explicit accuracy scoring: [0.67 0.61 0.72 0.83 0.67 0.61 0.72 0.72 0.88 0.59]\n"
     ]
    }
   ],
   "source": [
    "print(\"Explicit accuracy scoring: {}\".format(explicit_accuracy))"
   ]
  },
  {
   "cell_type": "code",
   "execution_count": 47,
   "metadata": {},
   "outputs": [
    {
     "name": "stdout",
     "output_type": "stream",
     "text": [
      "Explicit accuracy scoring: 0.7\n"
     ]
    }
   ],
   "source": [
    "print(\"Explicit accuracy scoring: {}\".format(explicit_accuracy.mean().round(2)))"
   ]
  },
  {
   "cell_type": "markdown",
   "metadata": {},
   "source": [
    "**Comentarios:**\n",
    "    \n",
    "1. Los valores de accuracy alcanzan su valor máximo en la validación cruzada considerando el split 9 como test data con un valor de 0.88, siendo en promedio el valor de accuracy de 0.7, que es menor que el obtenido en el modelo KNN y en los modelos de regresión logística implementados"
   ]
  },
  {
   "cell_type": "markdown",
   "metadata": {
    "id": "ZIsMzSfSH9rl"
   },
   "source": [
    "## Pregunta 6\n",
    "Repita la pregunta 5 pero ahora con Grid-search + cross-validation para determinar el valor de C más apropiado. Mejora el accuracy resultante?"
   ]
  },
  {
   "cell_type": "markdown",
   "metadata": {
    "id": "1q_jT-EdH9rl"
   },
   "source": [
    "### Respuesta"
   ]
  },
  {
   "cell_type": "code",
   "execution_count": 49,
   "metadata": {},
   "outputs": [
    {
     "name": "stdout",
     "output_type": "stream",
     "text": [
      "El valor de parámetro es: {'C': 100}\n"
     ]
    }
   ],
   "source": [
    "# Utilización de Grid-search + cross-validation para determinar el valor de C más apropiado\n",
    "\n",
    "params = {'C': [0.0001, 0.001, 0.01, 0.1, 1, 10, 100, 1000]}\n",
    "get_params = GridSearchCV(SVC(kernel='rbf', random_state=11238), params, cv=2, return_train_score=True)\n",
    "get_params.fit(X_train, y_train)\n",
    "print(\"El valor de parámetro es:\", get_params.best_params_)"
   ]
  },
  {
   "cell_type": "code",
   "execution_count": 51,
   "metadata": {},
   "outputs": [],
   "source": [
    "# Implementación del modelo con el mejor parámetro\n",
    "svc_model = SVC(kernel='rbf',  C=100)\n",
    "svc_model.fit(X_train, y_train)\n",
    "\n",
    "# Predicción\n",
    "y_hat = svc_model.predict(X_test)"
   ]
  },
  {
   "cell_type": "code",
   "execution_count": 52,
   "metadata": {},
   "outputs": [
    {
     "name": "stdout",
     "output_type": "stream",
     "text": [
      "[[15  0  1]\n",
      " [ 0 15  6]\n",
      " [ 0  1  7]]\n"
     ]
    }
   ],
   "source": [
    "print(confusion_matrix(y_test, y_hat))"
   ]
  },
  {
   "cell_type": "code",
   "execution_count": 53,
   "metadata": {},
   "outputs": [
    {
     "data": {
      "text/plain": [
       "0.82"
      ]
     },
     "execution_count": 53,
     "metadata": {},
     "output_type": "execute_result"
    }
   ],
   "source": [
    "accuracy_score(y_test, y_hat).round(2)"
   ]
  },
  {
   "cell_type": "code",
   "execution_count": 54,
   "metadata": {},
   "outputs": [
    {
     "name": "stdout",
     "output_type": "stream",
     "text": [
      "              precision    recall  f1-score   support\n",
      "\n",
      "           0       1.00      0.94      0.97        16\n",
      "           1       0.94      0.71      0.81        21\n",
      "           2       0.50      0.88      0.64         8\n",
      "\n",
      "    accuracy                           0.82        45\n",
      "   macro avg       0.81      0.84      0.80        45\n",
      "weighted avg       0.88      0.82      0.84        45\n",
      "\n"
     ]
    }
   ],
   "source": [
    "print(classification_report(y_test, y_hat))"
   ]
  },
  {
   "cell_type": "markdown",
   "metadata": {},
   "source": [
    "**Comentarios:**\n",
    "    \n",
    "1. Tenemos que el valor de accuracy aumenta con respecto al método empleado anteriormente"
   ]
  },
  {
   "cell_type": "markdown",
   "metadata": {
    "id": "rGjqGsiCH9rl"
   },
   "source": [
    "## Suerte!"
   ]
  },
  {
   "cell_type": "code",
   "execution_count": null,
   "metadata": {
    "id": "1JqnJwmYH9rl"
   },
   "outputs": [],
   "source": []
  }
 ],
 "metadata": {
  "colab": {
   "name": "tarea1.ipynb",
   "provenance": []
  },
  "kernelspec": {
   "display_name": "Python 3",
   "language": "python",
   "name": "python3"
  },
  "language_info": {
   "codemirror_mode": {
    "name": "ipython",
    "version": 3
   },
   "file_extension": ".py",
   "mimetype": "text/x-python",
   "name": "python",
   "nbconvert_exporter": "python",
   "pygments_lexer": "ipython3",
   "version": "3.8.8"
  }
 },
 "nbformat": 4,
 "nbformat_minor": 1
}
