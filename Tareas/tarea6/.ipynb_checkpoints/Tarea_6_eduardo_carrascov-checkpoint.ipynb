{
  "cells": [
    {
      "cell_type": "markdown",
      "metadata": {
        "id": "W3d2cB9hE7fi"
      },
      "source": [
        "# Tarea 6\n",
        "\n",
        "__Alumno:__ Eduardo Carrasco\n",
        "\n",
        "__Curso:__ Aprendizaje Automático 2022 \n",
        "\n",
        "__Programa:__ MCI/MIIIO/DIIIO/DISC\n",
        "\n",
        "__Profesor:__ Gonzalo A. Ruz\n",
        "\n",
        "__Ayudante:__ Carlos Sepúlveda\n",
        "\n",
        "**Tema**: LSTM aplicado a predicción de series de tiempo\n"
      ]
    },
    {
      "cell_type": "markdown",
      "metadata": {
        "id": "IR_z9mZNQHxM"
      },
      "source": [
        "## Instrucciones\n",
        "* La tarea es individual\n",
        "* Por favor responder en este mismo notebook\n",
        "* Renombrar el archivo agregando su nombre, por ejemplo tarea4_Dituro_Pérez.ipynb\n",
        "* Subir el archivo al link de entrega Trabajo en webcursos que será habilitado\n",
        "* __Fecha de entrega:__ viernes 18 de Noviembre, 23:55 hrs."
      ]
    },
    {
      "cell_type": "markdown",
      "metadata": {
        "id": "_Rz6sIOlDyb-"
      },
      "source": [
        "## Dependencias de librerías"
      ]
    },
    {
      "cell_type": "code",
      "execution_count": 1,
      "metadata": {
        "id": "nVUXqitSx1D_",
        "colab": {
          "base_uri": "https://localhost:8080/"
        },
        "outputId": "7a933e76-ca49-4e80-a619-97025d9c7cd2"
      },
      "outputs": [
        {
          "output_type": "stream",
          "name": "stdout",
          "text": [
            "Looking in indexes: https://pypi.org/simple, https://us-python.pkg.dev/colab-wheels/public/simple/\n",
            "Collecting yahoo_fin\n",
            "  Downloading yahoo_fin-0.8.9.1-py3-none-any.whl (10 kB)\n",
            "Collecting requests-html\n",
            "  Downloading requests_html-0.10.0-py3-none-any.whl (13 kB)\n",
            "Requirement already satisfied: requests in /usr/local/lib/python3.7/dist-packages (from yahoo_fin) (2.23.0)\n",
            "Requirement already satisfied: pandas in /usr/local/lib/python3.7/dist-packages (from yahoo_fin) (1.3.5)\n",
            "Collecting feedparser\n",
            "  Downloading feedparser-6.0.10-py3-none-any.whl (81 kB)\n",
            "\u001b[K     |████████████████████████████████| 81 kB 3.9 MB/s \n",
            "\u001b[?25hCollecting sgmllib3k\n",
            "  Downloading sgmllib3k-1.0.0.tar.gz (5.8 kB)\n",
            "Requirement already satisfied: pytz>=2017.3 in /usr/local/lib/python3.7/dist-packages (from pandas->yahoo_fin) (2022.6)\n",
            "Requirement already satisfied: numpy>=1.17.3 in /usr/local/lib/python3.7/dist-packages (from pandas->yahoo_fin) (1.21.6)\n",
            "Requirement already satisfied: python-dateutil>=2.7.3 in /usr/local/lib/python3.7/dist-packages (from pandas->yahoo_fin) (2.8.2)\n",
            "Requirement already satisfied: six>=1.5 in /usr/local/lib/python3.7/dist-packages (from python-dateutil>=2.7.3->pandas->yahoo_fin) (1.15.0)\n",
            "Requirement already satisfied: certifi>=2017.4.17 in /usr/local/lib/python3.7/dist-packages (from requests->yahoo_fin) (2022.9.24)\n",
            "Requirement already satisfied: idna<3,>=2.5 in /usr/local/lib/python3.7/dist-packages (from requests->yahoo_fin) (2.10)\n",
            "Requirement already satisfied: chardet<4,>=3.0.2 in /usr/local/lib/python3.7/dist-packages (from requests->yahoo_fin) (3.0.4)\n",
            "Requirement already satisfied: urllib3!=1.25.0,!=1.25.1,<1.26,>=1.21.1 in /usr/local/lib/python3.7/dist-packages (from requests->yahoo_fin) (1.24.3)\n",
            "Collecting parse\n",
            "  Downloading parse-1.19.0.tar.gz (30 kB)\n",
            "Collecting pyquery\n",
            "  Downloading pyquery-1.4.3-py3-none-any.whl (22 kB)\n",
            "Collecting w3lib\n",
            "  Downloading w3lib-2.0.1-py3-none-any.whl (20 kB)\n",
            "Collecting fake-useragent\n",
            "  Downloading fake_useragent-1.0.0-py3-none-any.whl (49 kB)\n",
            "\u001b[K     |████████████████████████████████| 49 kB 5.6 MB/s \n",
            "\u001b[?25hRequirement already satisfied: bs4 in /usr/local/lib/python3.7/dist-packages (from requests-html->yahoo_fin) (0.0.1)\n",
            "Collecting pyppeteer>=0.0.14\n",
            "  Downloading pyppeteer-1.0.2-py3-none-any.whl (83 kB)\n",
            "\u001b[K     |████████████████████████████████| 83 kB 863 kB/s \n",
            "\u001b[?25hCollecting pyee<9.0.0,>=8.1.0\n",
            "  Downloading pyee-8.2.2-py2.py3-none-any.whl (12 kB)\n",
            "Requirement already satisfied: tqdm<5.0.0,>=4.42.1 in /usr/local/lib/python3.7/dist-packages (from pyppeteer>=0.0.14->requests-html->yahoo_fin) (4.64.1)\n",
            "Requirement already satisfied: appdirs<2.0.0,>=1.4.3 in /usr/local/lib/python3.7/dist-packages (from pyppeteer>=0.0.14->requests-html->yahoo_fin) (1.4.4)\n",
            "Collecting urllib3!=1.25.0,!=1.25.1,<1.26,>=1.21.1\n",
            "  Downloading urllib3-1.25.11-py2.py3-none-any.whl (127 kB)\n",
            "\u001b[K     |████████████████████████████████| 127 kB 45.2 MB/s \n",
            "\u001b[?25hCollecting websockets<11.0,>=10.0\n",
            "  Downloading websockets-10.4-cp37-cp37m-manylinux_2_5_x86_64.manylinux1_x86_64.manylinux_2_17_x86_64.manylinux2014_x86_64.whl (106 kB)\n",
            "\u001b[K     |████████████████████████████████| 106 kB 47.5 MB/s \n",
            "\u001b[?25hRequirement already satisfied: importlib-metadata>=1.4 in /usr/local/lib/python3.7/dist-packages (from pyppeteer>=0.0.14->requests-html->yahoo_fin) (4.13.0)\n",
            "Requirement already satisfied: zipp>=0.5 in /usr/local/lib/python3.7/dist-packages (from importlib-metadata>=1.4->pyppeteer>=0.0.14->requests-html->yahoo_fin) (3.10.0)\n",
            "Requirement already satisfied: typing-extensions>=3.6.4 in /usr/local/lib/python3.7/dist-packages (from importlib-metadata>=1.4->pyppeteer>=0.0.14->requests-html->yahoo_fin) (4.1.1)\n",
            "Requirement already satisfied: beautifulsoup4 in /usr/local/lib/python3.7/dist-packages (from bs4->requests-html->yahoo_fin) (4.6.3)\n",
            "Requirement already satisfied: lxml>=2.1 in /usr/local/lib/python3.7/dist-packages (from pyquery->requests-html->yahoo_fin) (4.9.1)\n",
            "Collecting cssselect>0.7.9\n",
            "  Downloading cssselect-1.2.0-py2.py3-none-any.whl (18 kB)\n",
            "Building wheels for collected packages: parse, sgmllib3k\n",
            "  Building wheel for parse (setup.py) ... \u001b[?25l\u001b[?25hdone\n",
            "  Created wheel for parse: filename=parse-1.19.0-py3-none-any.whl size=24590 sha256=ed7cc57417742a31f4112780f8a8e5a1019c905c0ced266474d781df0b1fc3d9\n",
            "  Stored in directory: /root/.cache/pip/wheels/9c/aa/cc/f2228050ccb40f22144b073f15a2c84f11204f29fc0dce028e\n",
            "  Building wheel for sgmllib3k (setup.py) ... \u001b[?25l\u001b[?25hdone\n",
            "  Created wheel for sgmllib3k: filename=sgmllib3k-1.0.0-py3-none-any.whl size=6065 sha256=1ae2819fca2e6e3af9d226283055b4b009cd5dd008208ed77b950f302cf2d544\n",
            "  Stored in directory: /root/.cache/pip/wheels/73/ad/a4/0dff4a6ef231fc0dfa12ffbac2a36cebfdddfe059f50e019aa\n",
            "Successfully built parse sgmllib3k\n",
            "Installing collected packages: websockets, urllib3, pyee, cssselect, w3lib, sgmllib3k, pyquery, pyppeteer, parse, fake-useragent, requests-html, feedparser, yahoo-fin\n",
            "  Attempting uninstall: urllib3\n",
            "    Found existing installation: urllib3 1.24.3\n",
            "    Uninstalling urllib3-1.24.3:\n",
            "      Successfully uninstalled urllib3-1.24.3\n",
            "Successfully installed cssselect-1.2.0 fake-useragent-1.0.0 feedparser-6.0.10 parse-1.19.0 pyee-8.2.2 pyppeteer-1.0.2 pyquery-1.4.3 requests-html-0.10.0 sgmllib3k-1.0.0 urllib3-1.25.11 w3lib-2.0.1 websockets-10.4 yahoo-fin-0.8.9.1\n"
          ]
        }
      ],
      "source": [
        "!pip install yahoo_fin\n",
        "## Despues de instalar la libreria, Reiniciar el kernel"
      ]
    },
    {
      "cell_type": "code",
      "source": [
        "# Importar librerias a usar\n",
        "import numpy as np\n",
        "import time as tm\n",
        "import datetime as dt # series de tiempo tienen marca temporal\n",
        "import tensorflow as tf\n",
        "\n",
        "# Preparación de los datos\n",
        "from yahoo_fin import stock_info as yf\n",
        "from sklearn.preprocessing import MinMaxScaler\n",
        "from collections import deque\n",
        "\n",
        "# modelo de ML\n",
        "from keras.models import Sequential\n",
        "from keras.layers import Dense, LSTM, Dropout\n",
        "\n",
        "# librería gráfica\n",
        "import matplotlib.pyplot as plt"
      ],
      "metadata": {
        "id": "QvjNr_mnoXYY"
      },
      "execution_count": 2,
      "outputs": []
    },
    {
      "cell_type": "markdown",
      "metadata": {
        "id": "MqqFAfmPfO1K"
      },
      "source": [
        "# Problema (Regresión): Aplicado a serie de tiempo (precio de un activo)\n",
        "\n",
        "**Objetivo**: Predecir el precio de cierre de la acción para el siguiente día usando como base el precio de los 15 días anteriores, usando los datos historicos de los últimos 3 años.\n",
        "Activo: Acciones de Lyft, Inc. (LYFT)\n",
        "\n",
        "Ejemplo de datos proporcionados por **yahoo_fin**\n",
        "\n",
        "\n",
        "|                | **open** | **high** | **low** | **close** | **adjclose** | **volume** | **ticker**|\n",
        "|----------------|----------|----------|---------|-----------|--------------|-----------|-----------|\n",
        "| **2010-03-02** | 465.864014|468.174011|452.421997\t|457.334015|457.334015|\t21056800|\tLYFT\n",
        "| **2010-03-03** | 399.100006|\t406.915985|\t397.130005|\t402.152008|\t402.15200|\t24127600|\tLYFT\n",
        "| **2010-03-04** | 423.156006|\t423.519989|\t409.467987|\t411.574005|\t411.574005|\t26814400|\tBTC-USD|\n",
        "\n",
        "$$\\vdots$$\n",
        "\n",
        "Deberá obtener los precios de cierre desde el 09-11-2022 hasta 3 años atrás con intervalos de 1 día\n",
        "\n",
        "---\n",
        "Rubrica de evaluación:\n",
        "* Importar datos y crear conjunto de entrenamiento y prueba (train y test), considerando un 70% para el conjunto de entrenamiento y un 30% para el conjunto de test. Considerar el preprocesamiento necesario para el entrenamiento.(20 pts)\n",
        "\n",
        "* Generar modelo usando capas LSTM. Deberá al menos entrenar tres modelos diferentes comenzando de un modelo base y usando un 7% de los datos de entrenamiento como conjunto de validación ir variando la arquitectura de su modelo. Deberá graficar e interpretar en cada modelo loss y score seleccionado en función del número de épocas e interpretar el resultado. El análisis de los gráficos como toda decisión arquitectónica que tome debé quedar reflejada en el notebook en celda de texto con markdown. (30 pts)\n",
        "\n",
        "* Seleccionar y entrenar modelo final, efectuando medición de performance sobre el conjunto de test y reportar métricas (al menos MSE y MAE). (15 pts)\n",
        "\n",
        "* Efectuar predicción de valor del activo para el día siguiente al de captura de sus datos. (15 pts)\n",
        "\n",
        "* Graficar predicción de su modelo en escala original y compararlo con el conjunto de test. (10 pts)\n",
        "\n",
        "*Total: 90 pts.* \n",
        "\n",
        "\n",
        "|Puntaje| Nota||Puntaje| Nota||Puntaje| Nota||Puntaje| Nota|Puntaje| Nota|\t\t\t\t\n",
        "|-------|-----||-------|-----||-------|-----||-------|-----|-------|-----|\t\t\t\t\n",
        "0.0 |1.0||   22.0| 2.0||\t44.0| 3.1||\t66.0| 4.3|\t88.0| 6.8|\n",
        "1.0 |1.0||\t23.0| 2.1||\t45.0| 3.1||\t67.0| 4.4|\t89.0| 6.9|\n",
        "2.0 |1.1||\t24.0| 2.1||\t46.0| 3.2||\t68.0| 4.6|\t90.0| 7.0|\n",
        "3.0 |1.1||\t25.0| 2.2||\t47.0| 3.2||\t69.0| 4.7||\t\n",
        "4.0 |1.2||\t26.0| 2.2||\t48.0| 3.3||\t70.0| 4.8||\t\n",
        "5.0 |1.2||\t27.0| 2.3||\t49.0| 3.3||\t71.0| 4.9||\t\n",
        "6.0 |1.3||\t28.0| 2.3||\t50.0| 3.4||\t72.0| 5.0||\t\n",
        "7.0 |1.3||\t29.0| 2.4||\t51.0| 3.4||\t73.0| 5.1||\t\n",
        "8.0 |1.4||\t30.0| 2.4||\t52.0| 3.5||\t74.0| 5.2||\t\n",
        "9.0 |1.4||\t31.0| 2.5||\t53.0| 3.5||\t75.0| 5.3||\t\n",
        "10.0| 1.5||\t32.0| 2.5||\t54.0| 3.6||\t76.0| 5.4||\t\n",
        "11.0| 1.5||\t33.0| 2.6||\t55.0| 3.6||\t77.0| 5.6||\t\n",
        "12.0| 1.6||\t34.0| 2.6||\t56.0| 3.7||\t78.0| 5.7||\t\n",
        "13.0| 1.6||\t35.0| 2.7||\t57.0| 3.7||\t79.0| 5.8||\t\n",
        "14.0| 1.7||\t36.0| 2.7||\t58.0| 3.8||\t80.0| 5.9||\t\n",
        "15.0| 1.7||\t37.0| 2.8||\t59.0| 3.8||\t81.0| 6.0||\t\n",
        "16.0| 1.8||\t38.0| 2.8||\t60.0| 3.9||\t82.0| 6.1||\t\n",
        "17.0| 1.8||\t39.0| 2.9||\t61.0| 3.9||\t83.0| 6.2||\t\n",
        "18.0| 1.9||\t40.0| 2.9||\t62.0| 4.0||\t84.0| 6.3||\t\n",
        "19.0| 1.9||\t41.0| 3.0||\t63.0| 4.0||\t85.0| 6.4||\t\n",
        "20.0| 2.0||\t42.0| 3.0||\t64.0| 4.1||\t86.0| 6.6||\t\n",
        "21.0| 2.0||\t43.0| 3.0||\t65.0| 4.2||\t87.0| 6.7||\t\n",
        "\n"
      ]
    },
    {
      "cell_type": "markdown",
      "metadata": {
        "id": "dys8WeiYklbT"
      },
      "source": [
        "### Respuesta:"
      ]
    },
    {
      "cell_type": "markdown",
      "source": [
        "Definición de parámetros\n",
        "* **N_STEPS** el número de días de nuestra ventana de tiempo. Cuantos días tomaremos en cuenta para nuestra predicción (_cantidad de días pasados, los primeros 15 días - para predecir la posición 16_).\n",
        "\n",
        "* **STOCK** la acción o activo que nos interesa que nos interesa , usaremos Acciones de Lyft, Inc. `LYFT`; (_output_).\n",
        "\n",
        "* **date_set** Considerando que se requiere analizar los datos desde el 9 de Noviembre hacia atrás, se debe fijar como fecha el día 10 de noviembre.\n",
        "\n",
        "* **date_3_years_back** Considerando el enunciado, la cantidad de días requerido es de 1097, permitiendo contar con datos desde _9-nov-19_ al _9-nov-22_.\n",
        "\n",
        "* **INTERVAL** Se fija el intervalo de tiempo en un día, requerido por el enunciado para el precio de cierre de la acción.\n",
        "\n",
        "* **TEST_SIZE** tamaño porcentual del conjunto de test (0-1). En este caso, equivalente a 0.7 (70%).\n",
        "\n",
        "* **BATCH_SIZE** cuanto items entregaremos por batch, en este caso seleccionamos 32."
      ],
      "metadata": {
        "id": "BofkpJMkGbzV"
      }
    },
    {
      "cell_type": "code",
      "execution_count": 3,
      "metadata": {
        "id": "-LJ7HRhWklbT"
      },
      "outputs": [],
      "source": [
        "# Tamaño de la ventana, 15 dias de acuerdo al enunciado \n",
        "N_STEPS = 15\n",
        "\n",
        "# Stock ticker, LYFT (nombre con el que voy a encontrar los datos en yahoo finance)\n",
        "STOCK = 'LYFT'\n",
        "\n",
        "# Se debe setear la fecha 10 de nov 2022, para obtener datos desde el 9 hacia atrás\n",
        "date_set = dt.date(2022, 11, 10)\n",
        "\n",
        "# 1097 días son 3 años (considerando años biciestos) - desde el 9-nov-19 al 9-nov-22\n",
        "date_3_years_back = (dt.date(2022, 11, 10) - dt.timedelta(days=1097)).strftime('%Y-%m-%d')\n",
        "\n",
        "INTERVAL = '1d'\n",
        "\n",
        "# size of test (30% para test - 70% para training) \n",
        "TEST_SIZE = 0.3\n",
        "\n",
        "# batch size (multiplos de 2 - regla)\n",
        "BATCH_SIZE = 16"
      ]
    },
    {
      "cell_type": "code",
      "source": [
        "# Se verifica la fecha seteada\n",
        "date_set"
      ],
      "metadata": {
        "colab": {
          "base_uri": "https://localhost:8080/"
        },
        "id": "HvaFHSWISrYY",
        "outputId": "0bfc810d-b1cc-43fc-d850-7fd2f66bb4f2"
      },
      "execution_count": 4,
      "outputs": [
        {
          "output_type": "execute_result",
          "data": {
            "text/plain": [
              "datetime.date(2022, 11, 10)"
            ]
          },
          "metadata": {},
          "execution_count": 4
        }
      ]
    },
    {
      "cell_type": "code",
      "source": [
        "# Se verifica la fecha 3 años atrás\n",
        "date_3_years_back"
      ],
      "metadata": {
        "colab": {
          "base_uri": "https://localhost:8080/",
          "height": 35
        },
        "id": "H9RIxyCtOVVV",
        "outputId": "5cd96da1-2afb-4cf5-c701-b74d0e4a8160"
      },
      "execution_count": 5,
      "outputs": [
        {
          "output_type": "execute_result",
          "data": {
            "text/plain": [
              "'2019-11-09'"
            ],
            "application/vnd.google.colaboratory.intrinsic+json": {
              "type": "string"
            }
          },
          "metadata": {},
          "execution_count": 5
        }
      ]
    },
    {
      "cell_type": "code",
      "source": [
        "# obtener los datos\n",
        "# (Stock, desde cuando - 3 years back, cuando termina, intervalo)\n",
        "\n",
        "df = yf.get_data(STOCK, start_date = date_3_years_back,\n",
        "                 end_date=date_set,\n",
        "                 interval = INTERVAL)\n",
        "\n",
        "df.tail(10)"
      ],
      "metadata": {
        "colab": {
          "base_uri": "https://localhost:8080/",
          "height": 363
        },
        "id": "GpNByE4uGtFn",
        "outputId": "8c4ea15f-696e-4f4b-a426-0b0f48b58b99"
      },
      "execution_count": 6,
      "outputs": [
        {
          "output_type": "execute_result",
          "data": {
            "text/plain": [
              "              open    high     low  close  adjclose    volume ticker\n",
              "2022-10-27  14.750  15.035  14.440  14.63     14.63   7604900   LYFT\n",
              "2022-10-28  14.550  14.765  14.085  14.52     14.52  10749000   LYFT\n",
              "2022-10-31  14.530  15.025  14.325  14.64     14.64  11140000   LYFT\n",
              "2022-11-01  15.960  16.400  15.120  15.15     15.15  20388000   LYFT\n",
              "2022-11-02  14.980  15.260  13.975  14.00     14.00  12427800   LYFT\n",
              "2022-11-03  13.780  14.215  13.430  13.72     13.72  14173900   LYFT\n",
              "2022-11-04  13.980  14.150  13.170  13.74     13.74  11819900   LYFT\n",
              "2022-11-07  14.120  14.255  13.200  14.14     14.14  27568700   LYFT\n",
              "2022-11-08  11.938  12.191  10.620  10.90     10.90  80955300   LYFT\n",
              "2022-11-09  10.760  11.095  10.600  10.64     10.64  28137100   LYFT"
            ],
            "text/html": [
              "\n",
              "  <div id=\"df-04c04859-6dfd-4cb8-9b18-65baf945b27d\">\n",
              "    <div class=\"colab-df-container\">\n",
              "      <div>\n",
              "<style scoped>\n",
              "    .dataframe tbody tr th:only-of-type {\n",
              "        vertical-align: middle;\n",
              "    }\n",
              "\n",
              "    .dataframe tbody tr th {\n",
              "        vertical-align: top;\n",
              "    }\n",
              "\n",
              "    .dataframe thead th {\n",
              "        text-align: right;\n",
              "    }\n",
              "</style>\n",
              "<table border=\"1\" class=\"dataframe\">\n",
              "  <thead>\n",
              "    <tr style=\"text-align: right;\">\n",
              "      <th></th>\n",
              "      <th>open</th>\n",
              "      <th>high</th>\n",
              "      <th>low</th>\n",
              "      <th>close</th>\n",
              "      <th>adjclose</th>\n",
              "      <th>volume</th>\n",
              "      <th>ticker</th>\n",
              "    </tr>\n",
              "  </thead>\n",
              "  <tbody>\n",
              "    <tr>\n",
              "      <th>2022-10-27</th>\n",
              "      <td>14.750</td>\n",
              "      <td>15.035</td>\n",
              "      <td>14.440</td>\n",
              "      <td>14.63</td>\n",
              "      <td>14.63</td>\n",
              "      <td>7604900</td>\n",
              "      <td>LYFT</td>\n",
              "    </tr>\n",
              "    <tr>\n",
              "      <th>2022-10-28</th>\n",
              "      <td>14.550</td>\n",
              "      <td>14.765</td>\n",
              "      <td>14.085</td>\n",
              "      <td>14.52</td>\n",
              "      <td>14.52</td>\n",
              "      <td>10749000</td>\n",
              "      <td>LYFT</td>\n",
              "    </tr>\n",
              "    <tr>\n",
              "      <th>2022-10-31</th>\n",
              "      <td>14.530</td>\n",
              "      <td>15.025</td>\n",
              "      <td>14.325</td>\n",
              "      <td>14.64</td>\n",
              "      <td>14.64</td>\n",
              "      <td>11140000</td>\n",
              "      <td>LYFT</td>\n",
              "    </tr>\n",
              "    <tr>\n",
              "      <th>2022-11-01</th>\n",
              "      <td>15.960</td>\n",
              "      <td>16.400</td>\n",
              "      <td>15.120</td>\n",
              "      <td>15.15</td>\n",
              "      <td>15.15</td>\n",
              "      <td>20388000</td>\n",
              "      <td>LYFT</td>\n",
              "    </tr>\n",
              "    <tr>\n",
              "      <th>2022-11-02</th>\n",
              "      <td>14.980</td>\n",
              "      <td>15.260</td>\n",
              "      <td>13.975</td>\n",
              "      <td>14.00</td>\n",
              "      <td>14.00</td>\n",
              "      <td>12427800</td>\n",
              "      <td>LYFT</td>\n",
              "    </tr>\n",
              "    <tr>\n",
              "      <th>2022-11-03</th>\n",
              "      <td>13.780</td>\n",
              "      <td>14.215</td>\n",
              "      <td>13.430</td>\n",
              "      <td>13.72</td>\n",
              "      <td>13.72</td>\n",
              "      <td>14173900</td>\n",
              "      <td>LYFT</td>\n",
              "    </tr>\n",
              "    <tr>\n",
              "      <th>2022-11-04</th>\n",
              "      <td>13.980</td>\n",
              "      <td>14.150</td>\n",
              "      <td>13.170</td>\n",
              "      <td>13.74</td>\n",
              "      <td>13.74</td>\n",
              "      <td>11819900</td>\n",
              "      <td>LYFT</td>\n",
              "    </tr>\n",
              "    <tr>\n",
              "      <th>2022-11-07</th>\n",
              "      <td>14.120</td>\n",
              "      <td>14.255</td>\n",
              "      <td>13.200</td>\n",
              "      <td>14.14</td>\n",
              "      <td>14.14</td>\n",
              "      <td>27568700</td>\n",
              "      <td>LYFT</td>\n",
              "    </tr>\n",
              "    <tr>\n",
              "      <th>2022-11-08</th>\n",
              "      <td>11.938</td>\n",
              "      <td>12.191</td>\n",
              "      <td>10.620</td>\n",
              "      <td>10.90</td>\n",
              "      <td>10.90</td>\n",
              "      <td>80955300</td>\n",
              "      <td>LYFT</td>\n",
              "    </tr>\n",
              "    <tr>\n",
              "      <th>2022-11-09</th>\n",
              "      <td>10.760</td>\n",
              "      <td>11.095</td>\n",
              "      <td>10.600</td>\n",
              "      <td>10.64</td>\n",
              "      <td>10.64</td>\n",
              "      <td>28137100</td>\n",
              "      <td>LYFT</td>\n",
              "    </tr>\n",
              "  </tbody>\n",
              "</table>\n",
              "</div>\n",
              "      <button class=\"colab-df-convert\" onclick=\"convertToInteractive('df-04c04859-6dfd-4cb8-9b18-65baf945b27d')\"\n",
              "              title=\"Convert this dataframe to an interactive table.\"\n",
              "              style=\"display:none;\">\n",
              "        \n",
              "  <svg xmlns=\"http://www.w3.org/2000/svg\" height=\"24px\"viewBox=\"0 0 24 24\"\n",
              "       width=\"24px\">\n",
              "    <path d=\"M0 0h24v24H0V0z\" fill=\"none\"/>\n",
              "    <path d=\"M18.56 5.44l.94 2.06.94-2.06 2.06-.94-2.06-.94-.94-2.06-.94 2.06-2.06.94zm-11 1L8.5 8.5l.94-2.06 2.06-.94-2.06-.94L8.5 2.5l-.94 2.06-2.06.94zm10 10l.94 2.06.94-2.06 2.06-.94-2.06-.94-.94-2.06-.94 2.06-2.06.94z\"/><path d=\"M17.41 7.96l-1.37-1.37c-.4-.4-.92-.59-1.43-.59-.52 0-1.04.2-1.43.59L10.3 9.45l-7.72 7.72c-.78.78-.78 2.05 0 2.83L4 21.41c.39.39.9.59 1.41.59.51 0 1.02-.2 1.41-.59l7.78-7.78 2.81-2.81c.8-.78.8-2.07 0-2.86zM5.41 20L4 18.59l7.72-7.72 1.47 1.35L5.41 20z\"/>\n",
              "  </svg>\n",
              "      </button>\n",
              "      \n",
              "  <style>\n",
              "    .colab-df-container {\n",
              "      display:flex;\n",
              "      flex-wrap:wrap;\n",
              "      gap: 12px;\n",
              "    }\n",
              "\n",
              "    .colab-df-convert {\n",
              "      background-color: #E8F0FE;\n",
              "      border: none;\n",
              "      border-radius: 50%;\n",
              "      cursor: pointer;\n",
              "      display: none;\n",
              "      fill: #1967D2;\n",
              "      height: 32px;\n",
              "      padding: 0 0 0 0;\n",
              "      width: 32px;\n",
              "    }\n",
              "\n",
              "    .colab-df-convert:hover {\n",
              "      background-color: #E2EBFA;\n",
              "      box-shadow: 0px 1px 2px rgba(60, 64, 67, 0.3), 0px 1px 3px 1px rgba(60, 64, 67, 0.15);\n",
              "      fill: #174EA6;\n",
              "    }\n",
              "\n",
              "    [theme=dark] .colab-df-convert {\n",
              "      background-color: #3B4455;\n",
              "      fill: #D2E3FC;\n",
              "    }\n",
              "\n",
              "    [theme=dark] .colab-df-convert:hover {\n",
              "      background-color: #434B5C;\n",
              "      box-shadow: 0px 1px 3px 1px rgba(0, 0, 0, 0.15);\n",
              "      filter: drop-shadow(0px 1px 2px rgba(0, 0, 0, 0.3));\n",
              "      fill: #FFFFFF;\n",
              "    }\n",
              "  </style>\n",
              "\n",
              "      <script>\n",
              "        const buttonEl =\n",
              "          document.querySelector('#df-04c04859-6dfd-4cb8-9b18-65baf945b27d button.colab-df-convert');\n",
              "        buttonEl.style.display =\n",
              "          google.colab.kernel.accessAllowed ? 'block' : 'none';\n",
              "\n",
              "        async function convertToInteractive(key) {\n",
              "          const element = document.querySelector('#df-04c04859-6dfd-4cb8-9b18-65baf945b27d');\n",
              "          const dataTable =\n",
              "            await google.colab.kernel.invokeFunction('convertToInteractive',\n",
              "                                                     [key], {});\n",
              "          if (!dataTable) return;\n",
              "\n",
              "          const docLinkHtml = 'Like what you see? Visit the ' +\n",
              "            '<a target=\"_blank\" href=https://colab.research.google.com/notebooks/data_table.ipynb>data table notebook</a>'\n",
              "            + ' to learn more about interactive tables.';\n",
              "          element.innerHTML = '';\n",
              "          dataTable['output_type'] = 'display_data';\n",
              "          await google.colab.output.renderOutput(dataTable, element);\n",
              "          const docLink = document.createElement('div');\n",
              "          docLink.innerHTML = docLinkHtml;\n",
              "          element.appendChild(docLink);\n",
              "        }\n",
              "      </script>\n",
              "    </div>\n",
              "  </div>\n",
              "  "
            ]
          },
          "metadata": {},
          "execution_count": 6
        }
      ]
    },
    {
      "cell_type": "code",
      "source": [
        "df.head(10)"
      ],
      "metadata": {
        "colab": {
          "base_uri": "https://localhost:8080/",
          "height": 363
        },
        "id": "dObr6-z0hsOt",
        "outputId": "770876a4-9bfd-4d28-fc0e-734fa602340d"
      },
      "execution_count": 7,
      "outputs": [
        {
          "output_type": "execute_result",
          "data": {
            "text/plain": [
              "                 open       high        low      close   adjclose    volume  \\\n",
              "2019-11-11  42.849998  43.009998  41.799999  42.970001  42.970001   3839900   \n",
              "2019-11-12  42.740002  43.450001  42.200001  42.330002  42.330002   4293400   \n",
              "2019-11-13  42.200001  43.430000  42.009998  43.299999  43.299999   3993200   \n",
              "2019-11-14  42.830002  42.910000  40.650002  41.919998  41.919998   8868300   \n",
              "2019-11-15  42.180000  43.930000  41.730000  43.040001  43.040001   7362600   \n",
              "2019-11-18  43.290001  45.360001  42.799999  44.860001  44.860001   9062500   \n",
              "2019-11-19  45.000000  45.000000  43.810001  44.150002  44.150002   3740700   \n",
              "2019-11-20  44.000000  44.540001  42.770000  43.950001  43.950001   7547700   \n",
              "2019-11-21  44.240002  46.830002  44.099998  46.759998  46.759998  10806900   \n",
              "2019-11-22  46.700001  47.200001  46.230000  46.459999  46.459999   6344600   \n",
              "\n",
              "           ticker  \n",
              "2019-11-11   LYFT  \n",
              "2019-11-12   LYFT  \n",
              "2019-11-13   LYFT  \n",
              "2019-11-14   LYFT  \n",
              "2019-11-15   LYFT  \n",
              "2019-11-18   LYFT  \n",
              "2019-11-19   LYFT  \n",
              "2019-11-20   LYFT  \n",
              "2019-11-21   LYFT  \n",
              "2019-11-22   LYFT  "
            ],
            "text/html": [
              "\n",
              "  <div id=\"df-7d978742-793b-4b1e-b753-7de2b38512cc\">\n",
              "    <div class=\"colab-df-container\">\n",
              "      <div>\n",
              "<style scoped>\n",
              "    .dataframe tbody tr th:only-of-type {\n",
              "        vertical-align: middle;\n",
              "    }\n",
              "\n",
              "    .dataframe tbody tr th {\n",
              "        vertical-align: top;\n",
              "    }\n",
              "\n",
              "    .dataframe thead th {\n",
              "        text-align: right;\n",
              "    }\n",
              "</style>\n",
              "<table border=\"1\" class=\"dataframe\">\n",
              "  <thead>\n",
              "    <tr style=\"text-align: right;\">\n",
              "      <th></th>\n",
              "      <th>open</th>\n",
              "      <th>high</th>\n",
              "      <th>low</th>\n",
              "      <th>close</th>\n",
              "      <th>adjclose</th>\n",
              "      <th>volume</th>\n",
              "      <th>ticker</th>\n",
              "    </tr>\n",
              "  </thead>\n",
              "  <tbody>\n",
              "    <tr>\n",
              "      <th>2019-11-11</th>\n",
              "      <td>42.849998</td>\n",
              "      <td>43.009998</td>\n",
              "      <td>41.799999</td>\n",
              "      <td>42.970001</td>\n",
              "      <td>42.970001</td>\n",
              "      <td>3839900</td>\n",
              "      <td>LYFT</td>\n",
              "    </tr>\n",
              "    <tr>\n",
              "      <th>2019-11-12</th>\n",
              "      <td>42.740002</td>\n",
              "      <td>43.450001</td>\n",
              "      <td>42.200001</td>\n",
              "      <td>42.330002</td>\n",
              "      <td>42.330002</td>\n",
              "      <td>4293400</td>\n",
              "      <td>LYFT</td>\n",
              "    </tr>\n",
              "    <tr>\n",
              "      <th>2019-11-13</th>\n",
              "      <td>42.200001</td>\n",
              "      <td>43.430000</td>\n",
              "      <td>42.009998</td>\n",
              "      <td>43.299999</td>\n",
              "      <td>43.299999</td>\n",
              "      <td>3993200</td>\n",
              "      <td>LYFT</td>\n",
              "    </tr>\n",
              "    <tr>\n",
              "      <th>2019-11-14</th>\n",
              "      <td>42.830002</td>\n",
              "      <td>42.910000</td>\n",
              "      <td>40.650002</td>\n",
              "      <td>41.919998</td>\n",
              "      <td>41.919998</td>\n",
              "      <td>8868300</td>\n",
              "      <td>LYFT</td>\n",
              "    </tr>\n",
              "    <tr>\n",
              "      <th>2019-11-15</th>\n",
              "      <td>42.180000</td>\n",
              "      <td>43.930000</td>\n",
              "      <td>41.730000</td>\n",
              "      <td>43.040001</td>\n",
              "      <td>43.040001</td>\n",
              "      <td>7362600</td>\n",
              "      <td>LYFT</td>\n",
              "    </tr>\n",
              "    <tr>\n",
              "      <th>2019-11-18</th>\n",
              "      <td>43.290001</td>\n",
              "      <td>45.360001</td>\n",
              "      <td>42.799999</td>\n",
              "      <td>44.860001</td>\n",
              "      <td>44.860001</td>\n",
              "      <td>9062500</td>\n",
              "      <td>LYFT</td>\n",
              "    </tr>\n",
              "    <tr>\n",
              "      <th>2019-11-19</th>\n",
              "      <td>45.000000</td>\n",
              "      <td>45.000000</td>\n",
              "      <td>43.810001</td>\n",
              "      <td>44.150002</td>\n",
              "      <td>44.150002</td>\n",
              "      <td>3740700</td>\n",
              "      <td>LYFT</td>\n",
              "    </tr>\n",
              "    <tr>\n",
              "      <th>2019-11-20</th>\n",
              "      <td>44.000000</td>\n",
              "      <td>44.540001</td>\n",
              "      <td>42.770000</td>\n",
              "      <td>43.950001</td>\n",
              "      <td>43.950001</td>\n",
              "      <td>7547700</td>\n",
              "      <td>LYFT</td>\n",
              "    </tr>\n",
              "    <tr>\n",
              "      <th>2019-11-21</th>\n",
              "      <td>44.240002</td>\n",
              "      <td>46.830002</td>\n",
              "      <td>44.099998</td>\n",
              "      <td>46.759998</td>\n",
              "      <td>46.759998</td>\n",
              "      <td>10806900</td>\n",
              "      <td>LYFT</td>\n",
              "    </tr>\n",
              "    <tr>\n",
              "      <th>2019-11-22</th>\n",
              "      <td>46.700001</td>\n",
              "      <td>47.200001</td>\n",
              "      <td>46.230000</td>\n",
              "      <td>46.459999</td>\n",
              "      <td>46.459999</td>\n",
              "      <td>6344600</td>\n",
              "      <td>LYFT</td>\n",
              "    </tr>\n",
              "  </tbody>\n",
              "</table>\n",
              "</div>\n",
              "      <button class=\"colab-df-convert\" onclick=\"convertToInteractive('df-7d978742-793b-4b1e-b753-7de2b38512cc')\"\n",
              "              title=\"Convert this dataframe to an interactive table.\"\n",
              "              style=\"display:none;\">\n",
              "        \n",
              "  <svg xmlns=\"http://www.w3.org/2000/svg\" height=\"24px\"viewBox=\"0 0 24 24\"\n",
              "       width=\"24px\">\n",
              "    <path d=\"M0 0h24v24H0V0z\" fill=\"none\"/>\n",
              "    <path d=\"M18.56 5.44l.94 2.06.94-2.06 2.06-.94-2.06-.94-.94-2.06-.94 2.06-2.06.94zm-11 1L8.5 8.5l.94-2.06 2.06-.94-2.06-.94L8.5 2.5l-.94 2.06-2.06.94zm10 10l.94 2.06.94-2.06 2.06-.94-2.06-.94-.94-2.06-.94 2.06-2.06.94z\"/><path d=\"M17.41 7.96l-1.37-1.37c-.4-.4-.92-.59-1.43-.59-.52 0-1.04.2-1.43.59L10.3 9.45l-7.72 7.72c-.78.78-.78 2.05 0 2.83L4 21.41c.39.39.9.59 1.41.59.51 0 1.02-.2 1.41-.59l7.78-7.78 2.81-2.81c.8-.78.8-2.07 0-2.86zM5.41 20L4 18.59l7.72-7.72 1.47 1.35L5.41 20z\"/>\n",
              "  </svg>\n",
              "      </button>\n",
              "      \n",
              "  <style>\n",
              "    .colab-df-container {\n",
              "      display:flex;\n",
              "      flex-wrap:wrap;\n",
              "      gap: 12px;\n",
              "    }\n",
              "\n",
              "    .colab-df-convert {\n",
              "      background-color: #E8F0FE;\n",
              "      border: none;\n",
              "      border-radius: 50%;\n",
              "      cursor: pointer;\n",
              "      display: none;\n",
              "      fill: #1967D2;\n",
              "      height: 32px;\n",
              "      padding: 0 0 0 0;\n",
              "      width: 32px;\n",
              "    }\n",
              "\n",
              "    .colab-df-convert:hover {\n",
              "      background-color: #E2EBFA;\n",
              "      box-shadow: 0px 1px 2px rgba(60, 64, 67, 0.3), 0px 1px 3px 1px rgba(60, 64, 67, 0.15);\n",
              "      fill: #174EA6;\n",
              "    }\n",
              "\n",
              "    [theme=dark] .colab-df-convert {\n",
              "      background-color: #3B4455;\n",
              "      fill: #D2E3FC;\n",
              "    }\n",
              "\n",
              "    [theme=dark] .colab-df-convert:hover {\n",
              "      background-color: #434B5C;\n",
              "      box-shadow: 0px 1px 3px 1px rgba(0, 0, 0, 0.15);\n",
              "      filter: drop-shadow(0px 1px 2px rgba(0, 0, 0, 0.3));\n",
              "      fill: #FFFFFF;\n",
              "    }\n",
              "  </style>\n",
              "\n",
              "      <script>\n",
              "        const buttonEl =\n",
              "          document.querySelector('#df-7d978742-793b-4b1e-b753-7de2b38512cc button.colab-df-convert');\n",
              "        buttonEl.style.display =\n",
              "          google.colab.kernel.accessAllowed ? 'block' : 'none';\n",
              "\n",
              "        async function convertToInteractive(key) {\n",
              "          const element = document.querySelector('#df-7d978742-793b-4b1e-b753-7de2b38512cc');\n",
              "          const dataTable =\n",
              "            await google.colab.kernel.invokeFunction('convertToInteractive',\n",
              "                                                     [key], {});\n",
              "          if (!dataTable) return;\n",
              "\n",
              "          const docLinkHtml = 'Like what you see? Visit the ' +\n",
              "            '<a target=\"_blank\" href=https://colab.research.google.com/notebooks/data_table.ipynb>data table notebook</a>'\n",
              "            + ' to learn more about interactive tables.';\n",
              "          element.innerHTML = '';\n",
              "          dataTable['output_type'] = 'display_data';\n",
              "          await google.colab.output.renderOutput(dataTable, element);\n",
              "          const docLink = document.createElement('div');\n",
              "          docLink.innerHTML = docLinkHtml;\n",
              "          element.appendChild(docLink);\n",
              "        }\n",
              "      </script>\n",
              "    </div>\n",
              "  </div>\n",
              "  "
            ]
          },
          "metadata": {},
          "execution_count": 7
        }
      ]
    },
    {
      "cell_type": "code",
      "source": [
        "df.describe() #para observar la cantidad total de registros por columna, en este caso 756"
      ],
      "metadata": {
        "colab": {
          "base_uri": "https://localhost:8080/",
          "height": 300
        },
        "id": "pcy9ekijiPwl",
        "outputId": "d3c3422e-0a01-4091-c970-06fa7a99defd"
      },
      "execution_count": 8,
      "outputs": [
        {
          "output_type": "execute_result",
          "data": {
            "text/plain": [
              "             open        high         low       close    adjclose  \\\n",
              "count  756.000000  756.000000  756.000000  756.000000  756.000000   \n",
              "mean    38.335480   39.232807   37.356730   38.279127   38.279127   \n",
              "std     14.639607   14.824288   14.410975   14.621476   14.621476   \n",
              "min     10.760000   11.095000   10.600000   10.640000   10.640000   \n",
              "25%     28.330000   29.165000   27.330000   28.147500   28.147500   \n",
              "50%     38.990000   39.775002   37.847500   38.905001   38.905001   \n",
              "75%     49.314500   50.315000   48.382499   49.379999   49.379999   \n",
              "max     67.339996   68.279999   65.519997   67.419998   67.419998   \n",
              "\n",
              "             volume  \n",
              "count  7.560000e+02  \n",
              "mean   9.039541e+06  \n",
              "std    7.747721e+06  \n",
              "min    1.702300e+06  \n",
              "25%    4.817675e+06  \n",
              "50%    7.244500e+06  \n",
              "75%    1.081115e+07  \n",
              "max    1.125188e+08  "
            ],
            "text/html": [
              "\n",
              "  <div id=\"df-58f34fda-e41f-4abc-a6ad-be7aff166f32\">\n",
              "    <div class=\"colab-df-container\">\n",
              "      <div>\n",
              "<style scoped>\n",
              "    .dataframe tbody tr th:only-of-type {\n",
              "        vertical-align: middle;\n",
              "    }\n",
              "\n",
              "    .dataframe tbody tr th {\n",
              "        vertical-align: top;\n",
              "    }\n",
              "\n",
              "    .dataframe thead th {\n",
              "        text-align: right;\n",
              "    }\n",
              "</style>\n",
              "<table border=\"1\" class=\"dataframe\">\n",
              "  <thead>\n",
              "    <tr style=\"text-align: right;\">\n",
              "      <th></th>\n",
              "      <th>open</th>\n",
              "      <th>high</th>\n",
              "      <th>low</th>\n",
              "      <th>close</th>\n",
              "      <th>adjclose</th>\n",
              "      <th>volume</th>\n",
              "    </tr>\n",
              "  </thead>\n",
              "  <tbody>\n",
              "    <tr>\n",
              "      <th>count</th>\n",
              "      <td>756.000000</td>\n",
              "      <td>756.000000</td>\n",
              "      <td>756.000000</td>\n",
              "      <td>756.000000</td>\n",
              "      <td>756.000000</td>\n",
              "      <td>7.560000e+02</td>\n",
              "    </tr>\n",
              "    <tr>\n",
              "      <th>mean</th>\n",
              "      <td>38.335480</td>\n",
              "      <td>39.232807</td>\n",
              "      <td>37.356730</td>\n",
              "      <td>38.279127</td>\n",
              "      <td>38.279127</td>\n",
              "      <td>9.039541e+06</td>\n",
              "    </tr>\n",
              "    <tr>\n",
              "      <th>std</th>\n",
              "      <td>14.639607</td>\n",
              "      <td>14.824288</td>\n",
              "      <td>14.410975</td>\n",
              "      <td>14.621476</td>\n",
              "      <td>14.621476</td>\n",
              "      <td>7.747721e+06</td>\n",
              "    </tr>\n",
              "    <tr>\n",
              "      <th>min</th>\n",
              "      <td>10.760000</td>\n",
              "      <td>11.095000</td>\n",
              "      <td>10.600000</td>\n",
              "      <td>10.640000</td>\n",
              "      <td>10.640000</td>\n",
              "      <td>1.702300e+06</td>\n",
              "    </tr>\n",
              "    <tr>\n",
              "      <th>25%</th>\n",
              "      <td>28.330000</td>\n",
              "      <td>29.165000</td>\n",
              "      <td>27.330000</td>\n",
              "      <td>28.147500</td>\n",
              "      <td>28.147500</td>\n",
              "      <td>4.817675e+06</td>\n",
              "    </tr>\n",
              "    <tr>\n",
              "      <th>50%</th>\n",
              "      <td>38.990000</td>\n",
              "      <td>39.775002</td>\n",
              "      <td>37.847500</td>\n",
              "      <td>38.905001</td>\n",
              "      <td>38.905001</td>\n",
              "      <td>7.244500e+06</td>\n",
              "    </tr>\n",
              "    <tr>\n",
              "      <th>75%</th>\n",
              "      <td>49.314500</td>\n",
              "      <td>50.315000</td>\n",
              "      <td>48.382499</td>\n",
              "      <td>49.379999</td>\n",
              "      <td>49.379999</td>\n",
              "      <td>1.081115e+07</td>\n",
              "    </tr>\n",
              "    <tr>\n",
              "      <th>max</th>\n",
              "      <td>67.339996</td>\n",
              "      <td>68.279999</td>\n",
              "      <td>65.519997</td>\n",
              "      <td>67.419998</td>\n",
              "      <td>67.419998</td>\n",
              "      <td>1.125188e+08</td>\n",
              "    </tr>\n",
              "  </tbody>\n",
              "</table>\n",
              "</div>\n",
              "      <button class=\"colab-df-convert\" onclick=\"convertToInteractive('df-58f34fda-e41f-4abc-a6ad-be7aff166f32')\"\n",
              "              title=\"Convert this dataframe to an interactive table.\"\n",
              "              style=\"display:none;\">\n",
              "        \n",
              "  <svg xmlns=\"http://www.w3.org/2000/svg\" height=\"24px\"viewBox=\"0 0 24 24\"\n",
              "       width=\"24px\">\n",
              "    <path d=\"M0 0h24v24H0V0z\" fill=\"none\"/>\n",
              "    <path d=\"M18.56 5.44l.94 2.06.94-2.06 2.06-.94-2.06-.94-.94-2.06-.94 2.06-2.06.94zm-11 1L8.5 8.5l.94-2.06 2.06-.94-2.06-.94L8.5 2.5l-.94 2.06-2.06.94zm10 10l.94 2.06.94-2.06 2.06-.94-2.06-.94-.94-2.06-.94 2.06-2.06.94z\"/><path d=\"M17.41 7.96l-1.37-1.37c-.4-.4-.92-.59-1.43-.59-.52 0-1.04.2-1.43.59L10.3 9.45l-7.72 7.72c-.78.78-.78 2.05 0 2.83L4 21.41c.39.39.9.59 1.41.59.51 0 1.02-.2 1.41-.59l7.78-7.78 2.81-2.81c.8-.78.8-2.07 0-2.86zM5.41 20L4 18.59l7.72-7.72 1.47 1.35L5.41 20z\"/>\n",
              "  </svg>\n",
              "      </button>\n",
              "      \n",
              "  <style>\n",
              "    .colab-df-container {\n",
              "      display:flex;\n",
              "      flex-wrap:wrap;\n",
              "      gap: 12px;\n",
              "    }\n",
              "\n",
              "    .colab-df-convert {\n",
              "      background-color: #E8F0FE;\n",
              "      border: none;\n",
              "      border-radius: 50%;\n",
              "      cursor: pointer;\n",
              "      display: none;\n",
              "      fill: #1967D2;\n",
              "      height: 32px;\n",
              "      padding: 0 0 0 0;\n",
              "      width: 32px;\n",
              "    }\n",
              "\n",
              "    .colab-df-convert:hover {\n",
              "      background-color: #E2EBFA;\n",
              "      box-shadow: 0px 1px 2px rgba(60, 64, 67, 0.3), 0px 1px 3px 1px rgba(60, 64, 67, 0.15);\n",
              "      fill: #174EA6;\n",
              "    }\n",
              "\n",
              "    [theme=dark] .colab-df-convert {\n",
              "      background-color: #3B4455;\n",
              "      fill: #D2E3FC;\n",
              "    }\n",
              "\n",
              "    [theme=dark] .colab-df-convert:hover {\n",
              "      background-color: #434B5C;\n",
              "      box-shadow: 0px 1px 3px 1px rgba(0, 0, 0, 0.15);\n",
              "      filter: drop-shadow(0px 1px 2px rgba(0, 0, 0, 0.3));\n",
              "      fill: #FFFFFF;\n",
              "    }\n",
              "  </style>\n",
              "\n",
              "      <script>\n",
              "        const buttonEl =\n",
              "          document.querySelector('#df-58f34fda-e41f-4abc-a6ad-be7aff166f32 button.colab-df-convert');\n",
              "        buttonEl.style.display =\n",
              "          google.colab.kernel.accessAllowed ? 'block' : 'none';\n",
              "\n",
              "        async function convertToInteractive(key) {\n",
              "          const element = document.querySelector('#df-58f34fda-e41f-4abc-a6ad-be7aff166f32');\n",
              "          const dataTable =\n",
              "            await google.colab.kernel.invokeFunction('convertToInteractive',\n",
              "                                                     [key], {});\n",
              "          if (!dataTable) return;\n",
              "\n",
              "          const docLinkHtml = 'Like what you see? Visit the ' +\n",
              "            '<a target=\"_blank\" href=https://colab.research.google.com/notebooks/data_table.ipynb>data table notebook</a>'\n",
              "            + ' to learn more about interactive tables.';\n",
              "          element.innerHTML = '';\n",
              "          dataTable['output_type'] = 'display_data';\n",
              "          await google.colab.output.renderOutput(dataTable, element);\n",
              "          const docLink = document.createElement('div');\n",
              "          docLink.innerHTML = docLinkHtml;\n",
              "          element.appendChild(docLink);\n",
              "        }\n",
              "      </script>\n",
              "    </div>\n",
              "  </div>\n",
              "  "
            ]
          },
          "metadata": {},
          "execution_count": 8
        }
      ]
    },
    {
      "cell_type": "markdown",
      "source": [
        "Se pueden observar los precios de apertura/cierre de la acción desde el día 11 de nov de 2019 (**9 y 10 de nov corresponden a Sab y Dom**)."
      ],
      "metadata": {
        "id": "1px1bRHfUD43"
      }
    },
    {
      "cell_type": "markdown",
      "source": [
        "La columna open contiene el precio de apertura del día y close el precio de cierre. Sólo utilizaremos el precio de cierre y la fecha. Convertiremos los precios a float32, para dado que ocuparemos en nuestra red 32 bit de precisión."
      ],
      "metadata": {
        "id": "R3Sqwm8OG3Af"
      }
    },
    {
      "cell_type": "code",
      "source": [
        "# normalmente se trabaja en 32 bit, por lo cual, es conveniente pasar de 64 a 32.\n",
        "\n",
        "df = df.drop(['open','high','low','adjclose','ticker','volume'], axis=1)\n",
        "df['close'] = df['close'].astype('float32')\n",
        "print(f'new data frame shape: {df.shape}')"
      ],
      "metadata": {
        "colab": {
          "base_uri": "https://localhost:8080/"
        },
        "id": "zmrHhmILG4Rn",
        "outputId": "b1bb049c-a5ec-4203-9b59-ff65e94b98a9"
      },
      "execution_count": 9,
      "outputs": [
        {
          "output_type": "stream",
          "name": "stdout",
          "text": [
            "new data frame shape: (756, 1)\n"
          ]
        }
      ]
    },
    {
      "cell_type": "code",
      "source": [
        "df.head(6)"
      ],
      "metadata": {
        "colab": {
          "base_uri": "https://localhost:8080/",
          "height": 238
        },
        "id": "c9QKi_CFG7aG",
        "outputId": "d1bdcd06-8683-47d4-af50-c5d6d1cd2fbe"
      },
      "execution_count": 10,
      "outputs": [
        {
          "output_type": "execute_result",
          "data": {
            "text/plain": [
              "                close\n",
              "2019-11-11  42.970001\n",
              "2019-11-12  42.330002\n",
              "2019-11-13  43.299999\n",
              "2019-11-14  41.919998\n",
              "2019-11-15  43.040001\n",
              "2019-11-18  44.860001"
            ],
            "text/html": [
              "\n",
              "  <div id=\"df-763a7a0e-72e3-4e81-a129-480a10574993\">\n",
              "    <div class=\"colab-df-container\">\n",
              "      <div>\n",
              "<style scoped>\n",
              "    .dataframe tbody tr th:only-of-type {\n",
              "        vertical-align: middle;\n",
              "    }\n",
              "\n",
              "    .dataframe tbody tr th {\n",
              "        vertical-align: top;\n",
              "    }\n",
              "\n",
              "    .dataframe thead th {\n",
              "        text-align: right;\n",
              "    }\n",
              "</style>\n",
              "<table border=\"1\" class=\"dataframe\">\n",
              "  <thead>\n",
              "    <tr style=\"text-align: right;\">\n",
              "      <th></th>\n",
              "      <th>close</th>\n",
              "    </tr>\n",
              "  </thead>\n",
              "  <tbody>\n",
              "    <tr>\n",
              "      <th>2019-11-11</th>\n",
              "      <td>42.970001</td>\n",
              "    </tr>\n",
              "    <tr>\n",
              "      <th>2019-11-12</th>\n",
              "      <td>42.330002</td>\n",
              "    </tr>\n",
              "    <tr>\n",
              "      <th>2019-11-13</th>\n",
              "      <td>43.299999</td>\n",
              "    </tr>\n",
              "    <tr>\n",
              "      <th>2019-11-14</th>\n",
              "      <td>41.919998</td>\n",
              "    </tr>\n",
              "    <tr>\n",
              "      <th>2019-11-15</th>\n",
              "      <td>43.040001</td>\n",
              "    </tr>\n",
              "    <tr>\n",
              "      <th>2019-11-18</th>\n",
              "      <td>44.860001</td>\n",
              "    </tr>\n",
              "  </tbody>\n",
              "</table>\n",
              "</div>\n",
              "      <button class=\"colab-df-convert\" onclick=\"convertToInteractive('df-763a7a0e-72e3-4e81-a129-480a10574993')\"\n",
              "              title=\"Convert this dataframe to an interactive table.\"\n",
              "              style=\"display:none;\">\n",
              "        \n",
              "  <svg xmlns=\"http://www.w3.org/2000/svg\" height=\"24px\"viewBox=\"0 0 24 24\"\n",
              "       width=\"24px\">\n",
              "    <path d=\"M0 0h24v24H0V0z\" fill=\"none\"/>\n",
              "    <path d=\"M18.56 5.44l.94 2.06.94-2.06 2.06-.94-2.06-.94-.94-2.06-.94 2.06-2.06.94zm-11 1L8.5 8.5l.94-2.06 2.06-.94-2.06-.94L8.5 2.5l-.94 2.06-2.06.94zm10 10l.94 2.06.94-2.06 2.06-.94-2.06-.94-.94-2.06-.94 2.06-2.06.94z\"/><path d=\"M17.41 7.96l-1.37-1.37c-.4-.4-.92-.59-1.43-.59-.52 0-1.04.2-1.43.59L10.3 9.45l-7.72 7.72c-.78.78-.78 2.05 0 2.83L4 21.41c.39.39.9.59 1.41.59.51 0 1.02-.2 1.41-.59l7.78-7.78 2.81-2.81c.8-.78.8-2.07 0-2.86zM5.41 20L4 18.59l7.72-7.72 1.47 1.35L5.41 20z\"/>\n",
              "  </svg>\n",
              "      </button>\n",
              "      \n",
              "  <style>\n",
              "    .colab-df-container {\n",
              "      display:flex;\n",
              "      flex-wrap:wrap;\n",
              "      gap: 12px;\n",
              "    }\n",
              "\n",
              "    .colab-df-convert {\n",
              "      background-color: #E8F0FE;\n",
              "      border: none;\n",
              "      border-radius: 50%;\n",
              "      cursor: pointer;\n",
              "      display: none;\n",
              "      fill: #1967D2;\n",
              "      height: 32px;\n",
              "      padding: 0 0 0 0;\n",
              "      width: 32px;\n",
              "    }\n",
              "\n",
              "    .colab-df-convert:hover {\n",
              "      background-color: #E2EBFA;\n",
              "      box-shadow: 0px 1px 2px rgba(60, 64, 67, 0.3), 0px 1px 3px 1px rgba(60, 64, 67, 0.15);\n",
              "      fill: #174EA6;\n",
              "    }\n",
              "\n",
              "    [theme=dark] .colab-df-convert {\n",
              "      background-color: #3B4455;\n",
              "      fill: #D2E3FC;\n",
              "    }\n",
              "\n",
              "    [theme=dark] .colab-df-convert:hover {\n",
              "      background-color: #434B5C;\n",
              "      box-shadow: 0px 1px 3px 1px rgba(0, 0, 0, 0.15);\n",
              "      filter: drop-shadow(0px 1px 2px rgba(0, 0, 0, 0.3));\n",
              "      fill: #FFFFFF;\n",
              "    }\n",
              "  </style>\n",
              "\n",
              "      <script>\n",
              "        const buttonEl =\n",
              "          document.querySelector('#df-763a7a0e-72e3-4e81-a129-480a10574993 button.colab-df-convert');\n",
              "        buttonEl.style.display =\n",
              "          google.colab.kernel.accessAllowed ? 'block' : 'none';\n",
              "\n",
              "        async function convertToInteractive(key) {\n",
              "          const element = document.querySelector('#df-763a7a0e-72e3-4e81-a129-480a10574993');\n",
              "          const dataTable =\n",
              "            await google.colab.kernel.invokeFunction('convertToInteractive',\n",
              "                                                     [key], {});\n",
              "          if (!dataTable) return;\n",
              "\n",
              "          const docLinkHtml = 'Like what you see? Visit the ' +\n",
              "            '<a target=\"_blank\" href=https://colab.research.google.com/notebooks/data_table.ipynb>data table notebook</a>'\n",
              "            + ' to learn more about interactive tables.';\n",
              "          element.innerHTML = '';\n",
              "          dataTable['output_type'] = 'display_data';\n",
              "          await google.colab.output.renderOutput(dataTable, element);\n",
              "          const docLink = document.createElement('div');\n",
              "          docLink.innerHTML = docLinkHtml;\n",
              "          element.appendChild(docLink);\n",
              "        }\n",
              "      </script>\n",
              "    </div>\n",
              "  </div>\n",
              "  "
            ]
          },
          "metadata": {},
          "execution_count": 10
        }
      ]
    },
    {
      "cell_type": "code",
      "source": [
        "df.tail(6)"
      ],
      "metadata": {
        "colab": {
          "base_uri": "https://localhost:8080/",
          "height": 238
        },
        "id": "CjAak-mt3fbd",
        "outputId": "ffba82ff-753e-4fb8-b0fa-6a67cfcb2d11"
      },
      "execution_count": 11,
      "outputs": [
        {
          "output_type": "execute_result",
          "data": {
            "text/plain": [
              "            close\n",
              "2022-11-02  14.00\n",
              "2022-11-03  13.72\n",
              "2022-11-04  13.74\n",
              "2022-11-07  14.14\n",
              "2022-11-08  10.90\n",
              "2022-11-09  10.64"
            ],
            "text/html": [
              "\n",
              "  <div id=\"df-55d80c1e-8ca8-48b9-98d2-96b453a56edf\">\n",
              "    <div class=\"colab-df-container\">\n",
              "      <div>\n",
              "<style scoped>\n",
              "    .dataframe tbody tr th:only-of-type {\n",
              "        vertical-align: middle;\n",
              "    }\n",
              "\n",
              "    .dataframe tbody tr th {\n",
              "        vertical-align: top;\n",
              "    }\n",
              "\n",
              "    .dataframe thead th {\n",
              "        text-align: right;\n",
              "    }\n",
              "</style>\n",
              "<table border=\"1\" class=\"dataframe\">\n",
              "  <thead>\n",
              "    <tr style=\"text-align: right;\">\n",
              "      <th></th>\n",
              "      <th>close</th>\n",
              "    </tr>\n",
              "  </thead>\n",
              "  <tbody>\n",
              "    <tr>\n",
              "      <th>2022-11-02</th>\n",
              "      <td>14.00</td>\n",
              "    </tr>\n",
              "    <tr>\n",
              "      <th>2022-11-03</th>\n",
              "      <td>13.72</td>\n",
              "    </tr>\n",
              "    <tr>\n",
              "      <th>2022-11-04</th>\n",
              "      <td>13.74</td>\n",
              "    </tr>\n",
              "    <tr>\n",
              "      <th>2022-11-07</th>\n",
              "      <td>14.14</td>\n",
              "    </tr>\n",
              "    <tr>\n",
              "      <th>2022-11-08</th>\n",
              "      <td>10.90</td>\n",
              "    </tr>\n",
              "    <tr>\n",
              "      <th>2022-11-09</th>\n",
              "      <td>10.64</td>\n",
              "    </tr>\n",
              "  </tbody>\n",
              "</table>\n",
              "</div>\n",
              "      <button class=\"colab-df-convert\" onclick=\"convertToInteractive('df-55d80c1e-8ca8-48b9-98d2-96b453a56edf')\"\n",
              "              title=\"Convert this dataframe to an interactive table.\"\n",
              "              style=\"display:none;\">\n",
              "        \n",
              "  <svg xmlns=\"http://www.w3.org/2000/svg\" height=\"24px\"viewBox=\"0 0 24 24\"\n",
              "       width=\"24px\">\n",
              "    <path d=\"M0 0h24v24H0V0z\" fill=\"none\"/>\n",
              "    <path d=\"M18.56 5.44l.94 2.06.94-2.06 2.06-.94-2.06-.94-.94-2.06-.94 2.06-2.06.94zm-11 1L8.5 8.5l.94-2.06 2.06-.94-2.06-.94L8.5 2.5l-.94 2.06-2.06.94zm10 10l.94 2.06.94-2.06 2.06-.94-2.06-.94-.94-2.06-.94 2.06-2.06.94z\"/><path d=\"M17.41 7.96l-1.37-1.37c-.4-.4-.92-.59-1.43-.59-.52 0-1.04.2-1.43.59L10.3 9.45l-7.72 7.72c-.78.78-.78 2.05 0 2.83L4 21.41c.39.39.9.59 1.41.59.51 0 1.02-.2 1.41-.59l7.78-7.78 2.81-2.81c.8-.78.8-2.07 0-2.86zM5.41 20L4 18.59l7.72-7.72 1.47 1.35L5.41 20z\"/>\n",
              "  </svg>\n",
              "      </button>\n",
              "      \n",
              "  <style>\n",
              "    .colab-df-container {\n",
              "      display:flex;\n",
              "      flex-wrap:wrap;\n",
              "      gap: 12px;\n",
              "    }\n",
              "\n",
              "    .colab-df-convert {\n",
              "      background-color: #E8F0FE;\n",
              "      border: none;\n",
              "      border-radius: 50%;\n",
              "      cursor: pointer;\n",
              "      display: none;\n",
              "      fill: #1967D2;\n",
              "      height: 32px;\n",
              "      padding: 0 0 0 0;\n",
              "      width: 32px;\n",
              "    }\n",
              "\n",
              "    .colab-df-convert:hover {\n",
              "      background-color: #E2EBFA;\n",
              "      box-shadow: 0px 1px 2px rgba(60, 64, 67, 0.3), 0px 1px 3px 1px rgba(60, 64, 67, 0.15);\n",
              "      fill: #174EA6;\n",
              "    }\n",
              "\n",
              "    [theme=dark] .colab-df-convert {\n",
              "      background-color: #3B4455;\n",
              "      fill: #D2E3FC;\n",
              "    }\n",
              "\n",
              "    [theme=dark] .colab-df-convert:hover {\n",
              "      background-color: #434B5C;\n",
              "      box-shadow: 0px 1px 3px 1px rgba(0, 0, 0, 0.15);\n",
              "      filter: drop-shadow(0px 1px 2px rgba(0, 0, 0, 0.3));\n",
              "      fill: #FFFFFF;\n",
              "    }\n",
              "  </style>\n",
              "\n",
              "      <script>\n",
              "        const buttonEl =\n",
              "          document.querySelector('#df-55d80c1e-8ca8-48b9-98d2-96b453a56edf button.colab-df-convert');\n",
              "        buttonEl.style.display =\n",
              "          google.colab.kernel.accessAllowed ? 'block' : 'none';\n",
              "\n",
              "        async function convertToInteractive(key) {\n",
              "          const element = document.querySelector('#df-55d80c1e-8ca8-48b9-98d2-96b453a56edf');\n",
              "          const dataTable =\n",
              "            await google.colab.kernel.invokeFunction('convertToInteractive',\n",
              "                                                     [key], {});\n",
              "          if (!dataTable) return;\n",
              "\n",
              "          const docLinkHtml = 'Like what you see? Visit the ' +\n",
              "            '<a target=\"_blank\" href=https://colab.research.google.com/notebooks/data_table.ipynb>data table notebook</a>'\n",
              "            + ' to learn more about interactive tables.';\n",
              "          element.innerHTML = '';\n",
              "          dataTable['output_type'] = 'display_data';\n",
              "          await google.colab.output.renderOutput(dataTable, element);\n",
              "          const docLink = document.createElement('div');\n",
              "          docLink.innerHTML = docLinkHtml;\n",
              "          element.appendChild(docLink);\n",
              "        }\n",
              "      </script>\n",
              "    </div>\n",
              "  </div>\n",
              "  "
            ]
          },
          "metadata": {},
          "execution_count": 11
        }
      ]
    },
    {
      "cell_type": "code",
      "source": [
        "# Visualizemos los datos\n",
        "plt.style.use(style='bmh')\n",
        "plt.figure(figsize=(12,6))\n",
        "plt.plot(df['close'], color='green', marker='.', linestyle='-',\n",
        "     linewidth=2, markersize=4)\n",
        "plt.xlabel('Date')\n",
        "plt.ylabel('Precio de cierre')\n",
        "plt.legend([f'Evolución de precio de {STOCK}, en función del tiempo'], loc='best')\n",
        "plt.show()"
      ],
      "metadata": {
        "colab": {
          "base_uri": "https://localhost:8080/",
          "height": 390
        },
        "id": "HNxHb6ZtKcJi",
        "outputId": "e9ef7304-16db-4433-f9ba-bef7138c8d65"
      },
      "execution_count": 12,
      "outputs": [
        {
          "output_type": "display_data",
          "data": {
            "text/plain": [
              "<Figure size 864x432 with 1 Axes>"
            ],
            "image/png": "[encoded data removed]"
          },
          "metadata": {
            "needs_background": "light"
          }
        }
      ]
    },
    {
      "cell_type": "markdown",
      "source": [
        "Vemos datos con gran variación en escala y sabemos que las redes funcionan mejor con datos escalados. En este caso aplicaremos MinMax al precio de cierre"
      ],
      "metadata": {
        "id": "evYezURlKgLZ"
      }
    },
    {
      "cell_type": "markdown",
      "source": [
        "## I. Separación en conjunto de entrenamiento y prueba\n"
      ],
      "metadata": {
        "id": "pBiBNpIUKjyG"
      }
    },
    {
      "cell_type": "code",
      "source": [
        "# Split into train and test sets\n",
        "test_size = int(len(df) * TEST_SIZE) #calculo el porcentaje para la longitud\n",
        "train_size = len(df) - test_size # resto es el train size\n",
        "\n",
        "df_train = df.iloc[:train_size, :]\n",
        "df_test = df.iloc[train_size:,:]\n",
        "\n",
        "dataset_train, dataset_test = df_train.values, df_test.values\n",
        "\n",
        "print(f'dataset_train length:{len(dataset_train)}, dataset_test length:{len(dataset_test)}')"
      ],
      "metadata": {
        "colab": {
          "base_uri": "https://localhost:8080/"
        },
        "id": "Uxe33S21Khg4",
        "outputId": "7e8114cb-8286-4e24-ba3d-eaa030c037ee"
      },
      "execution_count": 13,
      "outputs": [
        {
          "output_type": "stream",
          "name": "stdout",
          "text": [
            "dataset_train length:530, dataset_test length:226\n"
          ]
        }
      ]
    },
    {
      "cell_type": "markdown",
      "source": [
        "Se comprueba el tamaño del DataSet de Train = 530, y Test = 226"
      ],
      "metadata": {
        "id": "J1966Lbi8-C0"
      }
    },
    {
      "cell_type": "code",
      "source": [
        "dataset_train"
      ],
      "metadata": {
        "colab": {
          "base_uri": "https://localhost:8080/"
        },
        "id": "0S5v_MDbjE7Q",
        "outputId": "407988ca-6a77-40a9-a701-5cccf031092e"
      },
      "execution_count": 14,
      "outputs": [
        {
          "output_type": "execute_result",
          "data": {
            "text/plain": [
              "array([[42.97 ],\n",
              "       [42.33 ],\n",
              "       [43.3  ],\n",
              "       [41.92 ],\n",
              "       [43.04 ],\n",
              "       [44.86 ],\n",
              "       [44.15 ],\n",
              "       [43.95 ],\n",
              "       [46.76 ],\n",
              "       [46.46 ],\n",
              "       [48.94 ],\n",
              "       [49.   ],\n",
              "       [49.37 ],\n",
              "       [48.98 ],\n",
              "       [47.39 ],\n",
              "       [47.51 ],\n",
              "       [47.315],\n",
              "       [45.065],\n",
              "       [45.2  ],\n",
              "       [45.42 ],\n",
              "       [45.26 ],\n",
              "       [47.36 ],\n",
              "       [46.6  ],\n",
              "       [46.75 ],\n",
              "       [47.93 ],\n",
              "       [47.5  ],\n",
              "       [47.01 ],\n",
              "       [46.28 ],\n",
              "       [47.92 ],\n",
              "       [45.54 ],\n",
              "       [45.7  ],\n",
              "       [45.73 ],\n",
              "       [45.84 ],\n",
              "       [43.5  ],\n",
              "       [43.02 ],\n",
              "       [43.58 ],\n",
              "       [43.19 ],\n",
              "       [43.1  ],\n",
              "       [44.25 ],\n",
              "       [45.08 ],\n",
              "       [45.59 ],\n",
              "       [46.06 ],\n",
              "       [46.35 ],\n",
              "       [47.68 ],\n",
              "       [47.08 ],\n",
              "       [46.83 ],\n",
              "       [46.52 ],\n",
              "       [47.98 ],\n",
              "       [47.47 ],\n",
              "       [48.48 ],\n",
              "       [48.43 ],\n",
              "       [47.36 ],\n",
              "       [48.21 ],\n",
              "       [46.84 ],\n",
              "       [47.79 ],\n",
              "       [47.48 ],\n",
              "       [47.96 ],\n",
              "       [50.   ],\n",
              "       [48.06 ],\n",
              "       [47.42 ],\n",
              "       [49.92 ],\n",
              "       [53.72 ],\n",
              "       [53.94 ],\n",
              "       [48.46 ],\n",
              "       [47.03 ],\n",
              "       [44.69 ],\n",
              "       [45.1  ],\n",
              "       [46.24 ],\n",
              "       [45.47 ],\n",
              "       [44.7  ],\n",
              "       [42.52 ],\n",
              "       [41.82 ],\n",
              "       [39.86 ],\n",
              "       [37.78 ],\n",
              "       [38.12 ],\n",
              "       [36.91 ],\n",
              "       [36.97 ],\n",
              "       [40.27 ],\n",
              "       [37.08 ],\n",
              "       [36.02 ],\n",
              "       [32.81 ],\n",
              "       [32.89 ],\n",
              "       [29.01 ],\n",
              "       [23.88 ],\n",
              "       [24.17 ],\n",
              "       [19.12 ],\n",
              "       [18.66 ],\n",
              "       [16.05 ],\n",
              "       [20.7  ],\n",
              "       [21.27 ],\n",
              "       [22.61 ],\n",
              "       [27.06 ],\n",
              "       [27.95 ],\n",
              "       [29.94 ],\n",
              "       [27.6  ],\n",
              "       [26.92 ],\n",
              "       [26.85 ],\n",
              "       [23.5  ],\n",
              "       [22.45 ],\n",
              "       [22.   ],\n",
              "       [25.73 ],\n",
              "       [27.5  ],\n",
              "       [29.64 ],\n",
              "       [30.33 ],\n",
              "       [30.66 ],\n",
              "       [30.5  ],\n",
              "       [28.39 ],\n",
              "       [27.14 ],\n",
              "       [29.07 ],\n",
              "       [30.1  ],\n",
              "       [29.25 ],\n",
              "       [30.7  ],\n",
              "       [30.09 ],\n",
              "       [31.96 ],\n",
              "       [34.32 ],\n",
              "       [32.74 ],\n",
              "       [34.06 ],\n",
              "       [32.83 ],\n",
              "       [29.605],\n",
              "       [27.03 ],\n",
              "       [26.68 ],\n",
              "       [26.12 ],\n",
              "       [31.78 ],\n",
              "       [32.73 ],\n",
              "       [31.36 ],\n",
              "       [29.53 ],\n",
              "       [28.37 ],\n",
              "       [27.72 ],\n",
              "       [28.15 ],\n",
              "       [30.43 ],\n",
              "       [30.69 ],\n",
              "       [30.82 ],\n",
              "       [30.39 ],\n",
              "       [31.26 ],\n",
              "       [32.47 ],\n",
              "       [33.75 ],\n",
              "       [31.73 ],\n",
              "       [31.26 ],\n",
              "       [32.59 ],\n",
              "       [31.68 ],\n",
              "       [34.44 ],\n",
              "       [36.075],\n",
              "       [38.61 ],\n",
              "       [40.98 ],\n",
              "       [39.21 ],\n",
              "       [38.56 ],\n",
              "       [35.32 ],\n",
              "       [36.89 ],\n",
              "       [36.21 ],\n",
              "       [36.71 ],\n",
              "       [35.32 ],\n",
              "       [35.83 ],\n",
              "       [34.82 ],\n",
              "       [34.25 ],\n",
              "       [35.6  ],\n",
              "       [32.795],\n",
              "       [33.19 ],\n",
              "       [32.27 ],\n",
              "       [33.06 ],\n",
              "       [33.01 ],\n",
              "       [32.   ],\n",
              "       [31.82 ],\n",
              "       [33.22 ],\n",
              "       [30.94 ],\n",
              "       [32.18 ],\n",
              "       [29.9  ],\n",
              "       [30.7  ],\n",
              "       [28.81 ],\n",
              "       [27.92 ],\n",
              "       [30.78 ],\n",
              "       [29.58 ],\n",
              "       [29.73 ],\n",
              "       [30.57 ],\n",
              "       [30.49 ],\n",
              "       [30.84 ],\n",
              "       [30.86 ],\n",
              "       [30.42 ],\n",
              "       [29.89 ],\n",
              "       [29.49 ],\n",
              "       [29.89 ],\n",
              "       [29.48 ],\n",
              "       [29.23 ],\n",
              "       [29.09 ],\n",
              "       [30.5  ],\n",
              "       [30.89 ],\n",
              "       [32.34 ],\n",
              "       [30.19 ],\n",
              "       [31.05 ],\n",
              "       [30.65 ],\n",
              "       [30.52 ],\n",
              "       [28.88 ],\n",
              "       [28.51 ],\n",
              "       [27.17 ],\n",
              "       [27.94 ],\n",
              "       [28.14 ],\n",
              "       [29.76 ],\n",
              "       [28.93 ],\n",
              "       [28.98 ],\n",
              "       [29.01 ],\n",
              "       [29.52 ],\n",
              "       [29.7  ],\n",
              "       [30.77 ],\n",
              "       [29.67 ],\n",
              "       [29.43 ],\n",
              "       [28.61 ],\n",
              "       [28.56 ],\n",
              "       [28.97 ],\n",
              "       [30.1  ],\n",
              "       [29.87 ],\n",
              "       [29.51 ],\n",
              "       [30.76 ],\n",
              "       [31.97 ],\n",
              "       [30.23 ],\n",
              "       [30.7  ],\n",
              "       [31.24 ],\n",
              "       [30.59 ],\n",
              "       [28.9  ],\n",
              "       [28.31 ],\n",
              "       [26.97 ],\n",
              "       [26.77 ],\n",
              "       [27.53 ],\n",
              "       [28.05 ],\n",
              "       [27.14 ],\n",
              "       [27.55 ],\n",
              "       [27.81 ],\n",
              "       [27.63 ],\n",
              "       [26.69 ],\n",
              "       [26.41 ],\n",
              "       [26.27 ],\n",
              "       [27.21 ],\n",
              "       [27.8  ],\n",
              "       [27.24 ],\n",
              "       [26.33 ],\n",
              "       [26.75 ],\n",
              "       [25.6  ],\n",
              "       [25.53 ],\n",
              "       [24.63 ],\n",
              "       [25.13 ],\n",
              "       [24.66 ],\n",
              "       [25.58 ],\n",
              "       [26.02 ],\n",
              "       [24.84 ],\n",
              "       [22.94 ],\n",
              "       [22.23 ],\n",
              "       [22.93 ],\n",
              "       [22.83 ],\n",
              "       [24.5  ],\n",
              "       [26.23 ],\n",
              "       [29.19 ],\n",
              "       [29.03 ],\n",
              "       [29.84 ],\n",
              "       [37.69 ],\n",
              "       [36.05 ],\n",
              "       [36.41 ],\n",
              "       [36.46 ],\n",
              "       [37.54 ],\n",
              "       [39.92 ],\n",
              "       [39.42 ],\n",
              "       [39.77 ],\n",
              "       [40.11 ],\n",
              "       [38.1  ],\n",
              "       [39.35 ],\n",
              "       [39.49 ],\n",
              "       [39.52 ],\n",
              "       [39.04 ],\n",
              "       [38.17 ],\n",
              "       [39.61 ],\n",
              "       [43.4  ],\n",
              "       [43.1  ],\n",
              "       [46.1  ],\n",
              "       [46.555],\n",
              "       [46.52 ],\n",
              "       [47.53 ],\n",
              "       [48.11 ],\n",
              "       [46.87 ],\n",
              "       [46.77 ],\n",
              "       [49.3  ],\n",
              "       [49.91 ],\n",
              "       [49.47 ],\n",
              "       [49.98 ],\n",
              "       [49.91 ],\n",
              "       [49.51 ],\n",
              "       [50.07 ],\n",
              "       [48.86 ],\n",
              "       [49.77 ],\n",
              "       [49.25 ],\n",
              "       [50.34 ],\n",
              "       [49.13 ],\n",
              "       [47.28 ],\n",
              "       [48.85 ],\n",
              "       [47.46 ],\n",
              "       [48.84 ],\n",
              "       [47.5  ],\n",
              "       [48.37 ],\n",
              "       [50.68 ],\n",
              "       [49.78 ],\n",
              "       [48.745],\n",
              "       [47.88 ],\n",
              "       [48.96 ],\n",
              "       [48.94 ],\n",
              "       [48.1  ],\n",
              "       [47.81 ],\n",
              "       [47.14 ],\n",
              "       [46.9  ],\n",
              "       [43.62 ],\n",
              "       [46.22 ],\n",
              "       [44.46 ],\n",
              "       [45.51 ],\n",
              "       [47.5  ],\n",
              "       [49.41 ],\n",
              "       [51.77 ],\n",
              "       [53.12 ],\n",
              "       [53.41 ],\n",
              "       [53.64 ],\n",
              "       [56.21 ],\n",
              "       [57.07 ],\n",
              "       [57.65 ],\n",
              "       [58.455],\n",
              "       [58.11 ],\n",
              "       [57.07 ],\n",
              "       [58.93 ],\n",
              "       [56.82 ],\n",
              "       [57.72 ],\n",
              "       [59.13 ],\n",
              "       [55.91 ],\n",
              "       [55.7  ],\n",
              "       [57.34 ],\n",
              "       [57.06 ],\n",
              "       [61.76 ],\n",
              "       [61.87 ],\n",
              "       [64.12 ],\n",
              "       [64.31 ],\n",
              "       [62.34 ],\n",
              "       [61.31 ],\n",
              "       [62.72 ],\n",
              "       [66.37 ],\n",
              "       [67.42 ],\n",
              "       [64.69 ],\n",
              "       [65.93 ],\n",
              "       [66.08 ],\n",
              "       [66.56 ],\n",
              "       [64.16 ],\n",
              "       [61.56 ],\n",
              "       [60.97 ],\n",
              "       [63.57 ],\n",
              "       [64.51 ],\n",
              "       [63.62 ],\n",
              "       [63.05 ],\n",
              "       [63.18 ],\n",
              "       [64.64 ],\n",
              "       [64.47 ],\n",
              "       [64.24 ],\n",
              "       [60.96 ],\n",
              "       [62.01 ],\n",
              "       [60.97 ],\n",
              "       [59.85 ],\n",
              "       [62.33 ],\n",
              "       [62.8  ],\n",
              "       [64.44 ],\n",
              "       [63.4  ],\n",
              "       [61.87 ],\n",
              "       [60.8  ],\n",
              "       [60.74 ],\n",
              "       [61.   ],\n",
              "       [63.7  ],\n",
              "       [63.06 ],\n",
              "       [62.14 ],\n",
              "       [63.4  ],\n",
              "       [57.1  ],\n",
              "       [55.66 ],\n",
              "       [57.08 ],\n",
              "       [56.19 ],\n",
              "       [52.63 ],\n",
              "       [49.8  ],\n",
              "       [50.07 ],\n",
              "       [49.16 ],\n",
              "       [48.82 ],\n",
              "       [46.89 ],\n",
              "       [46.02 ],\n",
              "       [49.65 ],\n",
              "       [49.71 ],\n",
              "       [51.51 ],\n",
              "       [52.21 ],\n",
              "       [51.96 ],\n",
              "       [52.32 ],\n",
              "       [53.31 ],\n",
              "       [52.76 ],\n",
              "       [54.92 ],\n",
              "       [55.49 ],\n",
              "       [57.09 ],\n",
              "       [58.76 ],\n",
              "       [58.46 ],\n",
              "       [56.32 ],\n",
              "       [57.4  ],\n",
              "       [58.56 ],\n",
              "       [56.74 ],\n",
              "       [55.38 ],\n",
              "       [55.66 ],\n",
              "       [56.11 ],\n",
              "       [58.41 ],\n",
              "       [57.82 ],\n",
              "       [56.97 ],\n",
              "       [58.8  ],\n",
              "       [58.48 ],\n",
              "       [59.5  ],\n",
              "       [59.06 ],\n",
              "       [61.41 ],\n",
              "       [61.78 ],\n",
              "       [61.5  ],\n",
              "       [58.73 ],\n",
              "       [59.99 ],\n",
              "       [60.48 ],\n",
              "       [61.87 ],\n",
              "       [62.79 ],\n",
              "       [61.64 ],\n",
              "       [58.75 ],\n",
              "       [58.55 ],\n",
              "       [60.06 ],\n",
              "       [58.07 ],\n",
              "       [57.07 ],\n",
              "       [55.83 ],\n",
              "       [54.73 ],\n",
              "       [53.4  ],\n",
              "       [51.72 ],\n",
              "       [52.95 ],\n",
              "       [55.77 ],\n",
              "       [55.14 ],\n",
              "       [54.9  ],\n",
              "       [54.39 ],\n",
              "       [53.32 ],\n",
              "       [55.77 ],\n",
              "       [56.74 ],\n",
              "       [55.32 ],\n",
              "       [56.   ],\n",
              "       [55.38 ],\n",
              "       [49.53 ],\n",
              "       [52.42 ],\n",
              "       [52.44 ],\n",
              "       [52.13 ],\n",
              "       [53.85 ],\n",
              "       [53.91 ],\n",
              "       [53.82 ],\n",
              "       [53.39 ],\n",
              "       [50.83 ],\n",
              "       [49.11 ],\n",
              "       [49.58 ],\n",
              "       [46.79 ],\n",
              "       [45.89 ],\n",
              "       [47.24 ],\n",
              "       [47.67 ],\n",
              "       [49.43 ],\n",
              "       [48.6  ],\n",
              "       [48.39 ],\n",
              "       [47.13 ],\n",
              "       [47.61 ],\n",
              "       [48.37 ],\n",
              "       [49.3  ],\n",
              "       [48.21 ],\n",
              "       [50.59 ],\n",
              "       [49.81 ],\n",
              "       [50.51 ],\n",
              "       [50.01 ],\n",
              "       [51.84 ],\n",
              "       [50.53 ],\n",
              "       [51.01 ],\n",
              "       [52.39 ],\n",
              "       [52.18 ],\n",
              "       [51.12 ],\n",
              "       [54.45 ],\n",
              "       [54.69 ],\n",
              "       [55.64 ],\n",
              "       [55.86 ],\n",
              "       [55.98 ],\n",
              "       [54.18 ],\n",
              "       [53.32 ],\n",
              "       [53.59 ],\n",
              "       [55.48 ],\n",
              "       [53.68 ],\n",
              "       [52.92 ],\n",
              "       [54.16 ],\n",
              "       [54.7  ],\n",
              "       [54.89 ],\n",
              "       [52.8  ],\n",
              "       [52.55 ],\n",
              "       [53.24 ],\n",
              "       [50.51 ],\n",
              "       [51.58 ],\n",
              "       [50.47 ],\n",
              "       [50.04 ],\n",
              "       [49.41 ],\n",
              "       [49.57 ],\n",
              "       [48.32 ],\n",
              "       [48.12 ],\n",
              "       [47.54 ],\n",
              "       [46.72 ],\n",
              "       [46.92 ],\n",
              "       [45.87 ],\n",
              "       [46.4  ],\n",
              "       [45.32 ],\n",
              "       [49.03 ],\n",
              "       [49.14 ],\n",
              "       [53.55 ],\n",
              "       [55.24 ],\n",
              "       [56.26 ],\n",
              "       [54.6  ],\n",
              "       [53.18 ],\n",
              "       [52.96 ],\n",
              "       [51.66 ],\n",
              "       [51.28 ],\n",
              "       [49.71 ],\n",
              "       [49.29 ],\n",
              "       [47.51 ],\n",
              "       [45.48 ],\n",
              "       [45.67 ],\n",
              "       [44.52 ],\n",
              "       [42.4  ],\n",
              "       [41.82 ],\n",
              "       [40.61 ],\n",
              "       [38.22 ],\n",
              "       [41.15 ],\n",
              "       [39.47 ],\n",
              "       [41.95 ],\n",
              "       [41.41 ],\n",
              "       [42.21 ],\n",
              "       [40.76 ],\n",
              "       [39.51 ],\n",
              "       [38.41 ],\n",
              "       [38.98 ],\n",
              "       [38.42 ],\n",
              "       [37.46 ]], dtype=float32)"
            ]
          },
          "metadata": {},
          "execution_count": 14
        }
      ]
    },
    {
      "cell_type": "code",
      "source": [
        "# Split into train and test sets\n",
        "dataset = df.values\n",
        "\n",
        "test_size = int(len(dataset) * TEST_SIZE)\n",
        "train_size = len(dataset) - test_size\n",
        "\n",
        "dataset_train, dataset_test = dataset[0:train_size,:], dataset[train_size:len(dataset),:]\n",
        "\n",
        "print(f'dataset_train length:{len(dataset_train)}, dataset_test length:{len(dataset_test)}')"
      ],
      "metadata": {
        "colab": {
          "base_uri": "https://localhost:8080/"
        },
        "id": "MDic6RPWKsTV",
        "outputId": "d74e42c0-bdf4-4801-b7b8-d5caab55f54b"
      },
      "execution_count": 15,
      "outputs": [
        {
          "output_type": "stream",
          "name": "stdout",
          "text": [
            "dataset_train length:530, dataset_test length:226\n"
          ]
        }
      ]
    },
    {
      "cell_type": "markdown",
      "source": [
        "## II. Escalamiento de Datos"
      ],
      "metadata": {
        "id": "QFifCjBy9wlE"
      }
    },
    {
      "cell_type": "code",
      "source": [
        "# Normalización de datos, en este caso, rescalamos con un minmaxscaler\n",
        "# con esto, quedan entre [0,1]\n",
        "scaler = MinMaxScaler()\n",
        "ds_scale_train = scaler.fit_transform(dataset_train)\n",
        "ds_scale_test = scaler.transform(dataset_test)\n"
      ],
      "metadata": {
        "id": "BYK5i8nQbNCe"
      },
      "execution_count": 16,
      "outputs": []
    },
    {
      "cell_type": "code",
      "source": [
        "ds_scale_train.shape"
      ],
      "metadata": {
        "colab": {
          "base_uri": "https://localhost:8080/"
        },
        "id": "a9ohzYLDj0Au",
        "outputId": "5a722d9d-4d23-4b8f-9ac5-399cb21cb553"
      },
      "execution_count": 17,
      "outputs": [
        {
          "output_type": "execute_result",
          "data": {
            "text/plain": [
              "(530, 1)"
            ]
          },
          "metadata": {},
          "execution_count": 17
        }
      ]
    },
    {
      "cell_type": "code",
      "source": [
        "ds_scale_test.shape"
      ],
      "metadata": {
        "colab": {
          "base_uri": "https://localhost:8080/"
        },
        "id": "6KZzlrpO2dzv",
        "outputId": "2f3c9a7f-f4ee-4a5f-b13c-3cc0904105cd"
      },
      "execution_count": 18,
      "outputs": [
        {
          "output_type": "execute_result",
          "data": {
            "text/plain": [
              "(226, 1)"
            ]
          },
          "metadata": {},
          "execution_count": 18
        }
      ]
    },
    {
      "cell_type": "markdown",
      "source": [
        "## III. Crear características (X) y target (Y)\n",
        "Dado que queremos predecir el precio de la acción en un determinado día usando como *features* los **N_STEPS** días previos, se perderán esos primeros días del conjunto de entrenamiento."
      ],
      "metadata": {
        "id": "m9yw-6ut9-dk"
      }
    },
    {
      "cell_type": "code",
      "source": [
        "## con Drop last day dejamos el último día afuera objeto hacer la predicción final\n",
        "##\n",
        "\n",
        "def create_features_and_target(dataset, look_back = N_STEPS): #loop back 15, deja 15 registros\n",
        "  dataX, dataY = [], []\n",
        "  for i in range(len(dataset)-look_back -1):\n",
        "    a = dataset[i:(i+look_back), 0]\n",
        "    dataX.append(a)\n",
        "    dataY.append(dataset[i + look_back, 0])\n",
        "  \n",
        "  return np.array(dataX), np.array(dataY)"
      ],
      "metadata": {
        "id": "TOnJ-XZw-M9f"
      },
      "execution_count": 19,
      "outputs": []
    },
    {
      "cell_type": "code",
      "source": [
        "trainX, trainY = create_features_and_target(ds_scale_train)\n",
        "testX, testY = create_features_and_target(ds_scale_test)\n",
        "\n",
        "\n",
        "# Para verificar consistencia\n",
        "print(f'X train shape: {trainX.shape}, Y train shape: {trainY.shape}')\n",
        "print(f'X test shape: {testX.shape}, Y test shape: {testY.shape}')\n",
        "\n"
      ],
      "metadata": {
        "colab": {
          "base_uri": "https://localhost:8080/"
        },
        "id": "c-IhNvAu_rBj",
        "outputId": "b743bdf6-a87b-4393-e561-bb92524dca65"
      },
      "execution_count": 20,
      "outputs": [
        {
          "output_type": "stream",
          "name": "stdout",
          "text": [
            "X train shape: (514, 15), Y train shape: (514,)\n",
            "X test shape: (210, 15), Y test shape: (210,)\n"
          ]
        }
      ]
    },
    {
      "cell_type": "markdown",
      "source": [
        "## IV. Preparación de los datos.\n",
        "\n",
        "Nuestro objetivo es poder predecir el precio de la acción para los próximos tres días. Esto significa que debemos preparar nuestros datos para tal efecto, haciendo un corrimiento en la serie de tiempo, objeto podamos con los datos del día de hoy, predecir el precio futuro."
      ],
      "metadata": {
        "id": "HuLW43b-ciIH"
      }
    },
    {
      "cell_type": "code",
      "source": [
        "# Se define una función de CallBack que se utilizará en alguna de las propuestas\n",
        "\n",
        "class EarlyStoppingCustom(tf.keras.callbacks.Callback):\n",
        "  def on_epoch_end(self, epoch, logs={}):\n",
        "    \n",
        "    if(logs.get('mae') < 0.02): #se establece un threshold de 0.02 para el MAE (aim)\n",
        "      print(\"\\nMAEthreshold reached. Training stopped.\")\n",
        "      self.model.stop_training = True\n",
        "\n",
        "# Let's create an object of our class and assign it to a variable\n",
        "early_stoppingcustom = EarlyStoppingCustom()\n",
        "\n",
        "early_stopping = tf.keras.callbacks.EarlyStopping(monitor='val_loss',\n",
        "                                                    patience=8,\n",
        "                                                    mode='min')"
      ],
      "metadata": {
        "id": "uqzrx43Nz2Zq"
      },
      "execution_count": 21,
      "outputs": []
    },
    {
      "cell_type": "markdown",
      "source": [
        "De igual manera, se define una función que permita graficar el _performance_ del modelo, en base a los parámetros de `Val_loss` y `Val_Mae` (Accuracy), en función de la `Epoch` (history)."
      ],
      "metadata": {
        "id": "QlsCgyDAec6y"
      }
    },
    {
      "cell_type": "code",
      "source": [
        "def plot_history(history, width=12, height=6):\n",
        "  \"\"\"\n",
        "  DESCRIPTION:\n",
        "    History performance of the keras model\n",
        "  \n",
        "  INPUT:\n",
        "    @param history: history of performance of fitted model\n",
        "    @type history: tensorflow.python.keras.callbacks.History\n",
        "\n",
        "  OUTPUT:\n",
        "    A graphic\n",
        "  \"\"\"\n",
        "\n",
        "  ## Metrics keys stored in tensorflow object\n",
        "  keys = list(history.history.keys())\n",
        "\n",
        "  ## Number of epoch used for fit the model\n",
        "  epoch = range(1, len(history.epoch) +1)\n",
        "\n",
        "  ## Check if validation set was used.\n",
        "  withValidation = False\n",
        "  for key in keys:\n",
        "    if 'val' in key:\n",
        "      withValidation = True\n",
        "\n",
        "  ## Number of metrics \n",
        "  nMetrics = len(keys)\n",
        "  if withValidation:\n",
        "    nMetrics = nMetrics//2\n",
        "\n",
        "  ## Plot-space instance\n",
        "  plt.figure(figsize=(width, height))\n",
        "\n",
        "  for i in range(nMetrics):\n",
        "    plt.subplot(nMetrics, 1, i+1)\n",
        "\n",
        "    ## Plot (train) metric value\n",
        "    labelMetric = keys[i]\n",
        "    metric = history.history[keys[i]]\n",
        "    plt.plot(epoch, metric, 'o-', label=labelMetric)\n",
        "\n",
        "    if withValidation:\n",
        "      ## Plot (validation) metric value\n",
        "      labelMetricVal = keys[i+nMetrics]\n",
        "      metricVal = history.history[keys[i+nMetrics]]\n",
        "      plt.plot(epoch, metricVal, 'o-', label=labelMetricVal)\n",
        "\n",
        "    plt.xlim(epoch[0], epoch[-1])\n",
        "    plt.legend()\n",
        "    plt.grid()\n",
        "\n",
        "  plt.xlabel('Epoch')\n",
        "  plt.show()"
      ],
      "metadata": {
        "id": "PSbs_dtIlg-h"
      },
      "execution_count": 22,
      "outputs": []
    },
    {
      "cell_type": "markdown",
      "source": [
        "## V. Definición de Red LSTM:\n",
        "\n",
        "Se definen 3 redes LSTM, con variaciones de hiperparámetros, considerando lo enunciado en el artículo [_10 Hyperparameters to keep an eye on for your LSTM model — and other tips_](https://medium.com/geekculture/10-hyperparameters-to-keep-an-eye-on-for-your-lstm-model-and-other-tips-f0ff5b63fcd4), de Medium."
      ],
      "metadata": {
        "id": "YW52paxwcU1m"
      }
    },
    {
      "cell_type": "markdown",
      "source": [
        "### A. Propuesta de Arquitectura de Red LSTM Nº 1 (1st Proposal):"
      ],
      "metadata": {
        "id": "0EcSUrTs4FFM"
      }
    },
    {
      "cell_type": "markdown",
      "source": [
        "En este propuesta, se definen los siguientes hiperparámetros:\n",
        "\n",
        "- Epoch = 50.\n",
        "- Validation Split = 7%.\n",
        "- 1ra Capa LSTM = 128 + DropOut = 0.2\n",
        "- 2da Capa LSTM = 64\n",
        "- 3ra Capa Densa = 32\n",
        "- 4ta Capa Densa (Output) = 1\n",
        "- Activation Function = Linear\n",
        "- Optimizador = ADAM\n",
        "- Uso Callback = No."
      ],
      "metadata": {
        "id": "-D0pRxrPksLN"
      }
    },
    {
      "cell_type": "code",
      "source": [
        "from keras.layers.core.activation import Activation\n",
        "def getCompileModel():\n",
        "  model = Sequential(name= 'LSTM_1st_Proposal')\n",
        "  \n",
        "  # El número de dimensiones será el número de largo de nuestra secuencia de \n",
        "  # entrada (días) x el número de dimensionalidad de la data (1 en este caso)\n",
        "\n",
        "  model.add(LSTM(128, return_sequences=True, input_shape=(N_STEPS, 1), name = 'LSTM_L1'))\n",
        "  model.add(Dropout(0.2))\n",
        "  model.add(LSTM(64, name='LSTM_L2'))\n",
        "  model.add(Dense(32, name= 'Dense_L3'))\n",
        "  model.add(Dense(1, name = 'Dense_L4'))\n",
        "  model.add(Activation('linear'))\n",
        "  \n",
        "\n",
        "  model.compile(loss='mean_squared_error', optimizer='adam', metrics='mae')\n",
        "  model.summary()\n",
        " \n",
        "  return model\n"
      ],
      "metadata": {
        "id": "b4ft4XgVktq2"
      },
      "execution_count": 23,
      "outputs": []
    },
    {
      "cell_type": "code",
      "source": [
        "model = getCompileModel()"
      ],
      "metadata": {
        "colab": {
          "base_uri": "https://localhost:8080/"
        },
        "id": "8PJwZ4rYJn6B",
        "outputId": "000f73da-fd98-44f5-c4df-256f7878dc3a"
      },
      "execution_count": 24,
      "outputs": [
        {
          "output_type": "stream",
          "name": "stdout",
          "text": [
            "Model: \"LSTM_1st_Proposal\"\n",
            "_________________________________________________________________\n",
            " Layer (type)                Output Shape              Param #   \n",
            "=================================================================\n",
            " LSTM_L1 (LSTM)              (None, 15, 128)           66560     \n",
            "                                                                 \n",
            " dropout (Dropout)           (None, 15, 128)           0         \n",
            "                                                                 \n",
            " LSTM_L2 (LSTM)              (None, 64)                49408     \n",
            "                                                                 \n",
            " Dense_L3 (Dense)            (None, 32)                2080      \n",
            "                                                                 \n",
            " Dense_L4 (Dense)            (None, 1)                 33        \n",
            "                                                                 \n",
            " activation (Activation)     (None, 1)                 0         \n",
            "                                                                 \n",
            "=================================================================\n",
            "Total params: 118,081\n",
            "Trainable params: 118,081\n",
            "Non-trainable params: 0\n",
            "_________________________________________________________________\n"
          ]
        }
      ]
    },
    {
      "cell_type": "code",
      "source": [
        "history = model.fit(trainX,trainY,\n",
        "            batch_size = BATCH_SIZE,\n",
        "            epochs = 50,\n",
        "            validation_split=0.07)"
      ],
      "metadata": {
        "colab": {
          "base_uri": "https://localhost:8080/"
        },
        "id": "3he0n3dQImfi",
        "outputId": "b3568a08-d331-4ceb-acee-a5d797a3f89d"
      },
      "execution_count": 25,
      "outputs": [
        {
          "output_type": "stream",
          "name": "stdout",
          "text": [
            "Epoch 1/50\n",
            "30/30 [==============================] - 6s 76ms/step - loss: 0.0412 - mae: 0.1435 - val_loss: 0.0075 - val_mae: 0.0756\n",
            "Epoch 2/50\n",
            "30/30 [==============================] - 1s 40ms/step - loss: 0.0069 - mae: 0.0658 - val_loss: 0.0074 - val_mae: 0.0736\n",
            "Epoch 3/50\n",
            "30/30 [==============================] - 1s 29ms/step - loss: 0.0053 - mae: 0.0547 - val_loss: 0.0063 - val_mae: 0.0643\n",
            "Epoch 4/50\n",
            "30/30 [==============================] - 1s 26ms/step - loss: 0.0051 - mae: 0.0524 - val_loss: 0.0072 - val_mae: 0.0726\n",
            "Epoch 5/50\n",
            "30/30 [==============================] - 1s 25ms/step - loss: 0.0046 - mae: 0.0512 - val_loss: 0.0056 - val_mae: 0.0588\n",
            "Epoch 6/50\n",
            "30/30 [==============================] - 1s 24ms/step - loss: 0.0051 - mae: 0.0541 - val_loss: 0.0128 - val_mae: 0.1018\n",
            "Epoch 7/50\n",
            "30/30 [==============================] - 1s 25ms/step - loss: 0.0045 - mae: 0.0509 - val_loss: 0.0057 - val_mae: 0.0526\n",
            "Epoch 8/50\n",
            "30/30 [==============================] - 1s 25ms/step - loss: 0.0040 - mae: 0.0487 - val_loss: 0.0073 - val_mae: 0.0745\n",
            "Epoch 9/50\n",
            "30/30 [==============================] - 1s 24ms/step - loss: 0.0040 - mae: 0.0481 - val_loss: 0.0053 - val_mae: 0.0612\n",
            "Epoch 10/50\n",
            "30/30 [==============================] - 1s 25ms/step - loss: 0.0037 - mae: 0.0458 - val_loss: 0.0043 - val_mae: 0.0490\n",
            "Epoch 11/50\n",
            "30/30 [==============================] - 1s 24ms/step - loss: 0.0033 - mae: 0.0430 - val_loss: 0.0049 - val_mae: 0.0595\n",
            "Epoch 12/50\n",
            "30/30 [==============================] - 1s 25ms/step - loss: 0.0033 - mae: 0.0427 - val_loss: 0.0040 - val_mae: 0.0477\n",
            "Epoch 13/50\n",
            "30/30 [==============================] - 1s 25ms/step - loss: 0.0031 - mae: 0.0419 - val_loss: 0.0040 - val_mae: 0.0513\n",
            "Epoch 14/50\n",
            "30/30 [==============================] - 1s 24ms/step - loss: 0.0030 - mae: 0.0413 - val_loss: 0.0040 - val_mae: 0.0525\n",
            "Epoch 15/50\n",
            "30/30 [==============================] - 1s 25ms/step - loss: 0.0029 - mae: 0.0414 - val_loss: 0.0036 - val_mae: 0.0438\n",
            "Epoch 16/50\n",
            "30/30 [==============================] - 1s 26ms/step - loss: 0.0028 - mae: 0.0402 - val_loss: 0.0034 - val_mae: 0.0462\n",
            "Epoch 17/50\n",
            "30/30 [==============================] - 1s 25ms/step - loss: 0.0032 - mae: 0.0434 - val_loss: 0.0035 - val_mae: 0.0418\n",
            "Epoch 18/50\n",
            "30/30 [==============================] - 1s 26ms/step - loss: 0.0031 - mae: 0.0436 - val_loss: 0.0034 - val_mae: 0.0410\n",
            "Epoch 19/50\n",
            "30/30 [==============================] - 1s 24ms/step - loss: 0.0031 - mae: 0.0421 - val_loss: 0.0035 - val_mae: 0.0508\n",
            "Epoch 20/50\n",
            "30/30 [==============================] - 1s 25ms/step - loss: 0.0026 - mae: 0.0388 - val_loss: 0.0045 - val_mae: 0.0602\n",
            "Epoch 21/50\n",
            "30/30 [==============================] - 1s 24ms/step - loss: 0.0026 - mae: 0.0388 - val_loss: 0.0030 - val_mae: 0.0459\n",
            "Epoch 22/50\n",
            "30/30 [==============================] - 1s 25ms/step - loss: 0.0023 - mae: 0.0359 - val_loss: 0.0031 - val_mae: 0.0484\n",
            "Epoch 23/50\n",
            "30/30 [==============================] - 1s 26ms/step - loss: 0.0025 - mae: 0.0386 - val_loss: 0.0027 - val_mae: 0.0417\n",
            "Epoch 24/50\n",
            "30/30 [==============================] - 1s 24ms/step - loss: 0.0025 - mae: 0.0372 - val_loss: 0.0030 - val_mae: 0.0485\n",
            "Epoch 25/50\n",
            "30/30 [==============================] - 1s 25ms/step - loss: 0.0023 - mae: 0.0365 - val_loss: 0.0024 - val_mae: 0.0378\n",
            "Epoch 26/50\n",
            "30/30 [==============================] - 1s 24ms/step - loss: 0.0024 - mae: 0.0365 - val_loss: 0.0025 - val_mae: 0.0416\n",
            "Epoch 27/50\n",
            "30/30 [==============================] - 1s 26ms/step - loss: 0.0023 - mae: 0.0366 - val_loss: 0.0023 - val_mae: 0.0349\n",
            "Epoch 28/50\n",
            "30/30 [==============================] - 1s 25ms/step - loss: 0.0021 - mae: 0.0349 - val_loss: 0.0037 - val_mae: 0.0552\n",
            "Epoch 29/50\n",
            "30/30 [==============================] - 1s 25ms/step - loss: 0.0023 - mae: 0.0362 - val_loss: 0.0022 - val_mae: 0.0394\n",
            "Epoch 30/50\n",
            "30/30 [==============================] - 1s 25ms/step - loss: 0.0021 - mae: 0.0347 - val_loss: 0.0024 - val_mae: 0.0435\n",
            "Epoch 31/50\n",
            "30/30 [==============================] - 1s 26ms/step - loss: 0.0025 - mae: 0.0382 - val_loss: 0.0031 - val_mae: 0.0502\n",
            "Epoch 32/50\n",
            "30/30 [==============================] - 1s 25ms/step - loss: 0.0024 - mae: 0.0374 - val_loss: 0.0019 - val_mae: 0.0355\n",
            "Epoch 33/50\n",
            "30/30 [==============================] - 1s 25ms/step - loss: 0.0023 - mae: 0.0362 - val_loss: 0.0020 - val_mae: 0.0386\n",
            "Epoch 34/50\n",
            "30/30 [==============================] - 1s 25ms/step - loss: 0.0020 - mae: 0.0345 - val_loss: 0.0018 - val_mae: 0.0351\n",
            "Epoch 35/50\n",
            "30/30 [==============================] - 1s 25ms/step - loss: 0.0019 - mae: 0.0335 - val_loss: 0.0017 - val_mae: 0.0310\n",
            "Epoch 36/50\n",
            "30/30 [==============================] - 1s 25ms/step - loss: 0.0019 - mae: 0.0330 - val_loss: 0.0020 - val_mae: 0.0399\n",
            "Epoch 37/50\n",
            "30/30 [==============================] - 1s 25ms/step - loss: 0.0022 - mae: 0.0356 - val_loss: 0.0020 - val_mae: 0.0398\n",
            "Epoch 38/50\n",
            "30/30 [==============================] - 1s 26ms/step - loss: 0.0020 - mae: 0.0341 - val_loss: 0.0020 - val_mae: 0.0398\n",
            "Epoch 39/50\n",
            "30/30 [==============================] - 1s 25ms/step - loss: 0.0018 - mae: 0.0320 - val_loss: 0.0016 - val_mae: 0.0270\n",
            "Epoch 40/50\n",
            "30/30 [==============================] - 1s 25ms/step - loss: 0.0019 - mae: 0.0341 - val_loss: 0.0015 - val_mae: 0.0274\n",
            "Epoch 41/50\n",
            "30/30 [==============================] - 1s 25ms/step - loss: 0.0018 - mae: 0.0322 - val_loss: 0.0015 - val_mae: 0.0334\n",
            "Epoch 42/50\n",
            "30/30 [==============================] - 1s 26ms/step - loss: 0.0017 - mae: 0.0318 - val_loss: 0.0019 - val_mae: 0.0298\n",
            "Epoch 43/50\n",
            "30/30 [==============================] - 1s 25ms/step - loss: 0.0020 - mae: 0.0346 - val_loss: 0.0021 - val_mae: 0.0418\n",
            "Epoch 44/50\n",
            "30/30 [==============================] - 1s 25ms/step - loss: 0.0016 - mae: 0.0315 - val_loss: 0.0013 - val_mae: 0.0272\n",
            "Epoch 45/50\n",
            "30/30 [==============================] - 1s 26ms/step - loss: 0.0016 - mae: 0.0301 - val_loss: 0.0013 - val_mae: 0.0278\n",
            "Epoch 46/50\n",
            "30/30 [==============================] - 1s 25ms/step - loss: 0.0016 - mae: 0.0302 - val_loss: 0.0019 - val_mae: 0.0392\n",
            "Epoch 47/50\n",
            "30/30 [==============================] - 1s 25ms/step - loss: 0.0016 - mae: 0.0306 - val_loss: 0.0014 - val_mae: 0.0315\n",
            "Epoch 48/50\n",
            "30/30 [==============================] - 1s 25ms/step - loss: 0.0017 - mae: 0.0309 - val_loss: 0.0013 - val_mae: 0.0288\n",
            "Epoch 49/50\n",
            "30/30 [==============================] - 1s 25ms/step - loss: 0.0014 - mae: 0.0292 - val_loss: 0.0012 - val_mae: 0.0266\n",
            "Epoch 50/50\n",
            "30/30 [==============================] - 1s 26ms/step - loss: 0.0016 - mae: 0.0305 - val_loss: 0.0012 - val_mae: 0.0267\n"
          ]
        }
      ]
    },
    {
      "cell_type": "code",
      "source": [
        "# save model\n",
        "model.save('./drive/MyDrive/LSTM_LYFT_1.h5')"
      ],
      "metadata": {
        "id": "1StoXBcEknia"
      },
      "execution_count": 26,
      "outputs": []
    },
    {
      "cell_type": "code",
      "source": [
        "plot_history(history, width=12, height=6)"
      ],
      "metadata": {
        "colab": {
          "base_uri": "https://localhost:8080/",
          "height": 388
        },
        "id": "GniwsRJsmDUK",
        "outputId": "6213d29a-b1f8-43d2-c08f-2f2d2f06478d"
      },
      "execution_count": 27,
      "outputs": [
        {
          "output_type": "display_data",
          "data": {
            "text/plain": [
              "<Figure size 864x432 with 2 Axes>"
            ],
            "image/png": "[encoded data removed]"
          },
          "metadata": {
            "needs_background": "light"
          }
        }
      ]
    },
    {
      "cell_type": "markdown",
      "source": [
        "Como se observa en la figura, se produce una convergencia en la `Epoch` 11, por lo cual es conveniente reducirlos. Por otra parte se observa que tiene un aumento inicial, por lo cual, para el modelo 2 se aumentará el número de neuronas y de igual manera, se incorporará una capa adicional LSTM.\n",
        "Con respecto al análisis de las métricas, no se puede determinar una mejora significativa en reducir los errores `MSE` y `MAE`."
      ],
      "metadata": {
        "id": "h9zVQeKCtdmF"
      }
    },
    {
      "cell_type": "markdown",
      "source": [
        "#### A.1. Rendimiento del modelo en conjunto de prueba"
      ],
      "metadata": {
        "id": "7p4DD5t4uoDi"
      }
    },
    {
      "cell_type": "code",
      "source": [
        "def compute_metrics(true_series, forecast):\n",
        "  mse = tf.keras.metrics.mean_squared_error(true_series, forecast).numpy()\n",
        "  mae = tf.keras.metrics.mean_absolute_error(true_series, forecast).numpy()\n",
        "  mape = tf.keras.metrics.mean_absolute_percentage_error(true_series, forecast).numpy()\n",
        "\n",
        "  return mse, mae, mape"
      ],
      "metadata": {
        "id": "bgjcj2ddusBK"
      },
      "execution_count": 28,
      "outputs": []
    },
    {
      "cell_type": "code",
      "source": [
        "forecast = model.predict(testX)\n",
        "mse, mae, mape = compute_metrics(testY, forecast.squeeze())\n",
        "\n",
        "print(f'Model: Mean Square Error: {mse}, Mean Absolute Error: {mae}, Mean Absolute Percentage Error: {mape}')"
      ],
      "metadata": {
        "colab": {
          "base_uri": "https://localhost:8080/"
        },
        "id": "gpp4oBO4vUDB",
        "outputId": "22cc142d-023d-4176-adbb-c189b1c1af0f"
      },
      "execution_count": 29,
      "outputs": [
        {
          "output_type": "stream",
          "name": "stdout",
          "text": [
            "7/7 [==============================] - 1s 13ms/step\n",
            "Model: Mean Square Error: 0.0010208811145275831, Mean Absolute Error: 0.02430420182645321, Mean Absolute Percentage Error: 66.51255798339844\n"
          ]
        }
      ]
    },
    {
      "cell_type": "markdown",
      "source": [
        "De las métricas obtenidas, el MSE que corresponde al _error cuadrado promedio de nuestras predicciones_ lo que conlleva que cuanto mayor sea este valor, peor es el modelo, en este caso es bajo pero no es útil para análisis, sólo sería en caso que se obtengan valores anormales, en este caso, se amplificaría el error.\n",
        "\n",
        "El MAE (Mean Absolute Error), se calcula como un promedio de diferencias absolutas entre los valores objetivo y las predicciones, por lo cual, es más robusto (menos sensible a los valores atípicos), que normalmente se esperarían en aspectos financieros"
      ],
      "metadata": {
        "id": "n98CileZuhQT"
      }
    },
    {
      "cell_type": "markdown",
      "source": [
        "#### A.2. Predicción precio mañana"
      ],
      "metadata": {
        "id": "inlNXAet8jOi"
      }
    },
    {
      "cell_type": "code",
      "source": [
        "next_day_features = ds_scale_test[-N_STEPS:,0]\n",
        "next_day_features"
      ],
      "metadata": {
        "colab": {
          "base_uri": "https://localhost:8080/"
        },
        "id": "7H_bJMVVoxPY",
        "outputId": "951a2521-a491-4f08-9d3d-e98e65dd66ff"
      },
      "execution_count": 30,
      "outputs": [
        {
          "output_type": "execute_result",
          "data": {
            "text/plain": [
              "array([-0.0533385 , -0.04847184, -0.04185322, -0.02413857, -0.02511191,\n",
              "       -0.02764258, -0.0297839 , -0.02744791, -0.01751995, -0.03990653,\n",
              "       -0.0453572 , -0.04496786, -0.0371812 , -0.10025306, -0.10531436],\n",
              "      dtype=float32)"
            ]
          },
          "metadata": {},
          "execution_count": 30
        }
      ]
    },
    {
      "cell_type": "code",
      "source": [
        "#dar forma del modelo para predecir\n",
        "next_day_features = np.expand_dims(np.array(ds_scale_test[-N_STEPS:,0]), axis=0)\n",
        "next_day_features"
      ],
      "metadata": {
        "colab": {
          "base_uri": "https://localhost:8080/"
        },
        "id": "B66jhD9YonQZ",
        "outputId": "8891818a-32e0-459f-caa0-27a854fc9d42"
      },
      "execution_count": 31,
      "outputs": [
        {
          "output_type": "execute_result",
          "data": {
            "text/plain": [
              "array([[-0.0533385 , -0.04847184, -0.04185322, -0.02413857, -0.02511191,\n",
              "        -0.02764258, -0.0297839 , -0.02744791, -0.01751995, -0.03990653,\n",
              "        -0.0453572 , -0.04496786, -0.0371812 , -0.10025306, -0.10531436]],\n",
              "      dtype=float32)"
            ]
          },
          "metadata": {},
          "execution_count": 31
        }
      ]
    },
    {
      "cell_type": "code",
      "source": [
        "pred = model.predict(next_day_features)\n",
        "\n",
        "forecast_price = scaler.inverse_transform(pred)[0][0]\n",
        "\n",
        "print(f'El precio de {STOCK} para el día de de mañana es {forecast_price} USD')"
      ],
      "metadata": {
        "colab": {
          "base_uri": "https://localhost:8080/"
        },
        "id": "WuRFq5k4wM2J",
        "outputId": "7e431fa2-43b1-4898-b041-fec56a3ab28c"
      },
      "execution_count": 32,
      "outputs": [
        {
          "output_type": "stream",
          "name": "stdout",
          "text": [
            "1/1 [==============================] - 0s 24ms/step\n",
            "El precio de LYFT para el día de de mañana es 12.417381286621094 USD\n"
          ]
        }
      ]
    },
    {
      "cell_type": "code",
      "source": [
        "# Determinar los index, objeto conocer la dimensionalidad.\n",
        "# se debe recordar que se usa este conjunto de datos para la comparación\n",
        "# Largo registro = 226 \n",
        "df_test.index"
      ],
      "metadata": {
        "colab": {
          "base_uri": "https://localhost:8080/"
        },
        "id": "vU3pqjSZ5pvf",
        "outputId": "4a0425b6-00f3-44c7-914c-17fde81f8666"
      },
      "execution_count": 33,
      "outputs": [
        {
          "output_type": "execute_result",
          "data": {
            "text/plain": [
              "DatetimeIndex(['2021-12-17', '2021-12-20', '2021-12-21', '2021-12-22',\n",
              "               '2021-12-23', '2021-12-27', '2021-12-28', '2021-12-29',\n",
              "               '2021-12-30', '2021-12-31',\n",
              "               ...\n",
              "               '2022-10-27', '2022-10-28', '2022-10-31', '2022-11-01',\n",
              "               '2022-11-02', '2022-11-03', '2022-11-04', '2022-11-07',\n",
              "               '2022-11-08', '2022-11-09'],\n",
              "              dtype='datetime64[ns]', length=226, freq=None)"
            ]
          },
          "metadata": {},
          "execution_count": 33
        }
      ]
    },
    {
      "cell_type": "markdown",
      "source": [
        "Con lo anterior, se puede determinar que el primer registro del conjunto de validación es a contar del _17-DIC-21_ hasta el _09-NOV-22_. Esto se mantendrà para todos los modelos propuestos."
      ],
      "metadata": {
        "id": "Tpvh6Y8j9vzA"
      }
    },
    {
      "cell_type": "code",
      "source": [
        "forecast_prices = scaler.inverse_transform(forecast).squeeze()\n",
        "plt.figure(figsize=(16,8))\n",
        "dates = df_test.index[N_STEPS+1:,]\n",
        "\n",
        "plt.plot(dates,dataset_test[N_STEPS+1:,], label='LYFT real')\n",
        "plt.plot(dates,scaler.inverse_transform(forecast), label='LYFT forecast')\n",
        "plt.xlabel('date')\n",
        "plt.ylabel(f'{STOCK}')\n",
        "plt.legend()\n"
      ],
      "metadata": {
        "colab": {
          "base_uri": "https://localhost:8080/",
          "height": 513
        },
        "id": "6Czo6juzL1wV",
        "outputId": "562a2f73-7cd8-4373-b9f2-5a577542eed3"
      },
      "execution_count": 34,
      "outputs": [
        {
          "output_type": "execute_result",
          "data": {
            "text/plain": [
              "<matplotlib.legend.Legend at 0x7f1539c8a450>"
            ]
          },
          "metadata": {},
          "execution_count": 34
        },
        {
          "output_type": "display_data",
          "data": {
            "text/plain": [
              "<Figure size 1152x576 with 1 Axes>"
            ],
            "image/png": "[encoded data removed]"
          },
          "metadata": {
            "needs_background": "light"
          }
        }
      ]
    },
    {
      "cell_type": "markdown",
      "source": [
        "El análisis gráfico muestra que el ajuste del modelo es bastante exacto, lo que se puede apreciar por los bajos valores obtenidos de `MSE`, `MAE` y `MAPE`."
      ],
      "metadata": {
        "id": "9nlq5nYuG7bI"
      }
    },
    {
      "cell_type": "markdown",
      "source": [
        "### B. Propuesta de Arquitectura de Red LSTM Nº 2 (2nd Proposal):"
      ],
      "metadata": {
        "id": "OtkbycEv_jhv"
      }
    },
    {
      "cell_type": "markdown",
      "source": [
        "En este propuesta, se definen los siguientes hiperparámetros:\n",
        "\n",
        "- Epoch = 50.\n",
        "- Validation Split = 7%.\n",
        "- 1ra Capa LSTM = 256 + DropOut = 0.3\n",
        "- 2da Capa LSTM = 128 + DropOut = 0.3\n",
        "- 3da Capa LSTM = 64 + DropOut = 0.3\n",
        "- 4ta Capa LSTM = 32 \n",
        "- 5ta Capa Densa = 20\n",
        "- 6ta Capa Densa (Output) = 1\n",
        "- Activation Function = Linear\n",
        "- Optimizador = ADAM\n",
        "- Callback = Si, EarlyStopping.\n",
        "\n"
      ],
      "metadata": {
        "id": "Huo_3F_3lZZY"
      }
    },
    {
      "cell_type": "code",
      "source": [
        "from keras.layers.core.activation import Activation\n",
        "def getCompileModel():\n",
        "  model = Sequential(name= 'LSTM_2nd_Proposal')\n",
        "  \n",
        "  # El número de dimensiones será el número de largo de nuestra secuencia de \n",
        "  # entrada (días) x el número de dimensionalidad de la data (1 en este caso)\n",
        "\n",
        "  model.add(LSTM(256, return_sequences=True, input_shape=(N_STEPS, 1), name = 'LSTM_L1'))\n",
        "  model.add(Dropout(0.3))\n",
        "  model.add(LSTM(128, return_sequences=True, name='LSTM_L2'))\n",
        "  model.add(Dropout(0.3))\n",
        "  model.add(LSTM(64, return_sequences=True, name='LSTM_L3'))\n",
        "  model.add(Dropout(0.3))\n",
        "  model.add(LSTM(32, name = 'LSTM_L4'))\n",
        "  model.add(Dense(20, name= 'Dense_L5'))\n",
        "  model.add(Dense(1, name = 'Dense_L6'))\n",
        "  model.add(Activation('linear'))\n",
        "  \n",
        "\n",
        "  model.compile(loss='mean_squared_error', optimizer='adam', metrics='mae')\n",
        "  model.summary()\n",
        " \n",
        "  return model\n"
      ],
      "metadata": {
        "id": "qhXRI9pt_jhw"
      },
      "execution_count": 35,
      "outputs": []
    },
    {
      "cell_type": "code",
      "source": [
        "model = getCompileModel()"
      ],
      "metadata": {
        "colab": {
          "base_uri": "https://localhost:8080/"
        },
        "outputId": "f28706e4-7de3-4217-ccb9-9ebca06b9dfe",
        "id": "1vuFNovH_jhw"
      },
      "execution_count": 36,
      "outputs": [
        {
          "output_type": "stream",
          "name": "stdout",
          "text": [
            "Model: \"LSTM_2nd_Proposal\"\n",
            "_________________________________________________________________\n",
            " Layer (type)                Output Shape              Param #   \n",
            "=================================================================\n",
            " LSTM_L1 (LSTM)              (None, 15, 256)           264192    \n",
            "                                                                 \n",
            " dropout_1 (Dropout)         (None, 15, 256)           0         \n",
            "                                                                 \n",
            " LSTM_L2 (LSTM)              (None, 15, 128)           197120    \n",
            "                                                                 \n",
            " dropout_2 (Dropout)         (None, 15, 128)           0         \n",
            "                                                                 \n",
            " LSTM_L3 (LSTM)              (None, 15, 64)            49408     \n",
            "                                                                 \n",
            " dropout_3 (Dropout)         (None, 15, 64)            0         \n",
            "                                                                 \n",
            " LSTM_L4 (LSTM)              (None, 32)                12416     \n",
            "                                                                 \n",
            " Dense_L5 (Dense)            (None, 20)                660       \n",
            "                                                                 \n",
            " Dense_L6 (Dense)            (None, 1)                 21        \n",
            "                                                                 \n",
            " activation_1 (Activation)   (None, 1)                 0         \n",
            "                                                                 \n",
            "=================================================================\n",
            "Total params: 523,817\n",
            "Trainable params: 523,817\n",
            "Non-trainable params: 0\n",
            "_________________________________________________________________\n"
          ]
        }
      ]
    },
    {
      "cell_type": "code",
      "source": [
        "history = model.fit(trainX,trainY,\n",
        "            batch_size = BATCH_SIZE,\n",
        "            epochs = 50,\n",
        "            shuffle = False,\n",
        "            validation_split=0.07,\n",
        "            callbacks=[early_stopping]) #en este red si se considero el uso del callback definido"
      ],
      "metadata": {
        "colab": {
          "base_uri": "https://localhost:8080/"
        },
        "outputId": "b07b0294-ee81-4b96-fa13-013398c5db57",
        "id": "mj4TZHVO_jhx"
      },
      "execution_count": 37,
      "outputs": [
        {
          "output_type": "stream",
          "name": "stdout",
          "text": [
            "Epoch 1/50\n",
            "30/30 [==============================] - 12s 145ms/step - loss: 0.0518 - mae: 0.1726 - val_loss: 0.0142 - val_mae: 0.0903\n",
            "Epoch 2/50\n",
            "30/30 [==============================] - 3s 85ms/step - loss: 0.0444 - mae: 0.1666 - val_loss: 0.0268 - val_mae: 0.1431\n",
            "Epoch 3/50\n",
            "30/30 [==============================] - 3s 85ms/step - loss: 0.0464 - mae: 0.1619 - val_loss: 0.0263 - val_mae: 0.1407\n",
            "Epoch 4/50\n",
            "30/30 [==============================] - 3s 85ms/step - loss: 0.0527 - mae: 0.1715 - val_loss: 0.0338 - val_mae: 0.1606\n",
            "Epoch 5/50\n",
            "30/30 [==============================] - 3s 88ms/step - loss: 0.0394 - mae: 0.1487 - val_loss: 0.0133 - val_mae: 0.1010\n",
            "Epoch 6/50\n",
            "30/30 [==============================] - 3s 86ms/step - loss: 0.0353 - mae: 0.1549 - val_loss: 0.0678 - val_mae: 0.2386\n",
            "Epoch 7/50\n",
            "30/30 [==============================] - 4s 126ms/step - loss: 0.0630 - mae: 0.1959 - val_loss: 0.0097 - val_mae: 0.0827\n",
            "Epoch 8/50\n",
            "30/30 [==============================] - 3s 89ms/step - loss: 0.0396 - mae: 0.1610 - val_loss: 0.0743 - val_mae: 0.2535\n",
            "Epoch 9/50\n",
            "30/30 [==============================] - 3s 83ms/step - loss: 0.0889 - mae: 0.2516 - val_loss: 0.0392 - val_mae: 0.1724\n",
            "Epoch 10/50\n",
            "30/30 [==============================] - 3s 84ms/step - loss: 0.0775 - mae: 0.2398 - val_loss: 0.0337 - val_mae: 0.1586\n",
            "Epoch 11/50\n",
            "30/30 [==============================] - 3s 84ms/step - loss: 0.0849 - mae: 0.2601 - val_loss: 0.0101 - val_mae: 0.0846\n",
            "Epoch 12/50\n",
            "30/30 [==============================] - 3s 87ms/step - loss: 0.0439 - mae: 0.1712 - val_loss: 0.0185 - val_mae: 0.1183\n",
            "Epoch 13/50\n",
            "30/30 [==============================] - 3s 92ms/step - loss: 0.0616 - mae: 0.2132 - val_loss: 0.0332 - val_mae: 0.1592\n",
            "Epoch 14/50\n",
            "30/30 [==============================] - 3s 90ms/step - loss: 0.0278 - mae: 0.1327 - val_loss: 0.0454 - val_mae: 0.1905\n",
            "Epoch 15/50\n",
            "30/30 [==============================] - 3s 87ms/step - loss: 0.0272 - mae: 0.1373 - val_loss: 0.0402 - val_mae: 0.1771\n"
          ]
        }
      ]
    },
    {
      "cell_type": "code",
      "source": [
        "# save model\n",
        "model.save('./drive/MyDrive/LSTM_LYFT_2.h5')"
      ],
      "metadata": {
        "id": "4c2uPEGA_jhx"
      },
      "execution_count": 38,
      "outputs": []
    },
    {
      "cell_type": "code",
      "source": [
        "plot_history(history, width=12, height=6)"
      ],
      "metadata": {
        "colab": {
          "base_uri": "https://localhost:8080/",
          "height": 388
        },
        "outputId": "a2028973-7b3b-475c-9642-245bb78a2696",
        "id": "QSGw8LlC_jhx"
      },
      "execution_count": 39,
      "outputs": [
        {
          "output_type": "display_data",
          "data": {
            "text/plain": [
              "<Figure size 864x432 with 2 Axes>"
            ],
            "image/png": "[encoded data removed]"
          },
          "metadata": {
            "needs_background": "light"
          }
        }
      ]
    },
    {
      "cell_type": "markdown",
      "source": [
        "#### B.1. Rendimiento del modelo en conjunto de prueba"
      ],
      "metadata": {
        "id": "AFv7FfEkAoi7"
      }
    },
    {
      "cell_type": "code",
      "source": [
        "forecast = model.predict(testX)\n",
        "mse, mae, mape = compute_metrics(testY, forecast.squeeze())\n",
        "\n",
        "print(f'Model Mean Square Error: {mse}, Mean Absolute Error: {mae}, Mean Absolute Percentage Error: {mape}')"
      ],
      "metadata": {
        "colab": {
          "base_uri": "https://localhost:8080/"
        },
        "outputId": "7d469f2e-48cb-4a33-d176-646c29ba060d",
        "id": "OSwHiGQnAupX"
      },
      "execution_count": 40,
      "outputs": [
        {
          "output_type": "stream",
          "name": "stdout",
          "text": [
            "7/7 [==============================] - 2s 34ms/step\n",
            "Model Mean Square Error: 0.010386000387370586, Mean Absolute Error: 0.07368546724319458, Mean Absolute Percentage Error: 87.87092590332031\n"
          ]
        }
      ]
    },
    {
      "cell_type": "markdown",
      "source": [
        "#### B.2. Predicción precio mañana"
      ],
      "metadata": {
        "id": "qd2BL3y0AupY"
      }
    },
    {
      "cell_type": "code",
      "source": [
        "next_day_features = ds_scale_test[-N_STEPS:,0]\n",
        "next_day_features"
      ],
      "metadata": {
        "colab": {
          "base_uri": "https://localhost:8080/"
        },
        "outputId": "cf62aaad-e5ed-4e8b-c3dc-09633fbce419",
        "id": "2eplfh7tAupY"
      },
      "execution_count": 41,
      "outputs": [
        {
          "output_type": "execute_result",
          "data": {
            "text/plain": [
              "array([-0.0533385 , -0.04847184, -0.04185322, -0.02413857, -0.02511191,\n",
              "       -0.02764258, -0.0297839 , -0.02744791, -0.01751995, -0.03990653,\n",
              "       -0.0453572 , -0.04496786, -0.0371812 , -0.10025306, -0.10531436],\n",
              "      dtype=float32)"
            ]
          },
          "metadata": {},
          "execution_count": 41
        }
      ]
    },
    {
      "cell_type": "code",
      "source": [
        "#dar forma del modelo para predecir\n",
        "next_day_features = np.expand_dims(np.array(ds_scale_test[-N_STEPS:,0]), axis=0)\n",
        "next_day_features"
      ],
      "metadata": {
        "colab": {
          "base_uri": "https://localhost:8080/"
        },
        "outputId": "7f5c20c8-d6fb-45b6-cf4f-e4fe8e24e67e",
        "id": "11NCLnsYAupY"
      },
      "execution_count": 42,
      "outputs": [
        {
          "output_type": "execute_result",
          "data": {
            "text/plain": [
              "array([[-0.0533385 , -0.04847184, -0.04185322, -0.02413857, -0.02511191,\n",
              "        -0.02764258, -0.0297839 , -0.02744791, -0.01751995, -0.03990653,\n",
              "        -0.0453572 , -0.04496786, -0.0371812 , -0.10025306, -0.10531436]],\n",
              "      dtype=float32)"
            ]
          },
          "metadata": {},
          "execution_count": 42
        }
      ]
    },
    {
      "cell_type": "code",
      "source": [
        "pred = model.predict(next_day_features)\n",
        "\n",
        "forecast_price = scaler.inverse_transform(pred)[0][0]\n",
        "\n",
        "print(f'El precio de {STOCK} para el día de de mañana es {forecast_price} USD')"
      ],
      "metadata": {
        "colab": {
          "base_uri": "https://localhost:8080/"
        },
        "outputId": "6bd36f51-b15b-431b-a2ed-5be84ec1c3a2",
        "id": "vXrben-NAupY"
      },
      "execution_count": 43,
      "outputs": [
        {
          "output_type": "stream",
          "name": "stdout",
          "text": [
            "1/1 [==============================] - 0s 27ms/step\n",
            "El precio de LYFT para el día de de mañana es 15.358186721801758 USD\n"
          ]
        }
      ]
    },
    {
      "cell_type": "code",
      "source": [
        "forecast_prices = scaler.inverse_transform(forecast).squeeze()\n",
        "plt.figure(figsize=(16,8))\n",
        "dates = df_test.index[N_STEPS+1:,]\n",
        "\n",
        "plt.plot(dates,dataset_test[N_STEPS+1:,], label='LYFT real')\n",
        "plt.plot(dates,scaler.inverse_transform(forecast), label='LYFT forecast')\n",
        "plt.xlabel('date')\n",
        "plt.ylabel(f'{STOCK}')\n",
        "plt.legend()\n"
      ],
      "metadata": {
        "colab": {
          "base_uri": "https://localhost:8080/",
          "height": 513
        },
        "outputId": "e36a80ca-ec45-4bb0-b7a3-41a4b92c3465",
        "id": "o_d7hDK2AupY"
      },
      "execution_count": 44,
      "outputs": [
        {
          "output_type": "execute_result",
          "data": {
            "text/plain": [
              "<matplotlib.legend.Legend at 0x7f153a80cfd0>"
            ]
          },
          "metadata": {},
          "execution_count": 44
        },
        {
          "output_type": "display_data",
          "data": {
            "text/plain": [
              "<Figure size 1152x576 with 1 Axes>"
            ],
            "image/png": "[encoded data removed]"
          },
          "metadata": {
            "needs_background": "light"
          }
        }
      ]
    },
    {
      "cell_type": "markdown",
      "source": [
        "El análisis del gráfico muestra que este modelo a pesar de adicionar una red LSTM Adicional e incrementar su número profundidad, el uso del callback (earlystopping) produce una detención del entrenamiento una vez que se ha alcanzado el min (objetivo), determinado. Por lo cual, el modelo no alcanza a optimizarse completamente."
      ],
      "metadata": {
        "id": "8TOvjqWHHNYR"
      }
    },
    {
      "cell_type": "markdown",
      "source": [
        "### C. Propuesta de Arquitectura de Red LSTM Nº 3 (3rd Proposal):"
      ],
      "metadata": {
        "id": "KYjlpmNzfX8K"
      }
    },
    {
      "cell_type": "markdown",
      "source": [
        "En este propuesta, se definen los siguientes hiperparámetros:\n",
        "\n",
        "- Epoch = 50.\n",
        "- 1ra Capa LSTM = 256 + DropOut = 0.3\n",
        "- 2da Capa LSTM = 128 + DropOut = 0.3\n",
        "- 3da Capa LSTM = 64 + DropOut = 0.3\n",
        "- 4ta Capa LSTM = 32 + DropOut = 0.3\n",
        "- 5ta Capa Densa = 20\n",
        "- 6ta Capa Densa (Output) = 1\n",
        "- Activation Function = Linear\n",
        "- Optimizador = SGD\n",
        "- Callback = No.\n",
        "\n"
      ],
      "metadata": {
        "id": "s8Jpkomhl21u"
      }
    },
    {
      "cell_type": "code",
      "source": [
        "from keras.layers.core.activation import Activation\n",
        "def getCompileModel():\n",
        "  model = Sequential(name= 'LSTM_3rd_Proposal')\n",
        "  \n",
        "  # El número de dimensiones será el número de largo de nuestra secuencia de \n",
        "  # entrada (días) x el número de dimensionalidad de la data (1 en este caso)\n",
        "\n",
        "  model.add(LSTM(256, return_sequences=True, input_shape=(N_STEPS, 1), name = 'LSTM_L1'))\n",
        "  model.add(Dropout(0.3))\n",
        "  model.add(LSTM(128, return_sequences=True, name='LSTM_L2'))\n",
        "  model.add(Dropout(0.3))\n",
        "  model.add(LSTM(64, return_sequences=True, name='LSTM_L3'))\n",
        "  model.add(Dropout(0.3))\n",
        "  model.add(LSTM(32, name = 'LSTM_L4'))\n",
        "  model.add(Dense(20, name= 'Dense_L5'))\n",
        "  model.add(Dense(1, name = 'Dense_L6'))\n",
        "  model.add(Activation('linear'))\n",
        "  \n",
        "\n",
        "  model.compile(loss='mean_squared_error', optimizer='SGD', metrics='mae')\n",
        "  model.summary()\n",
        " \n",
        "  return model\n"
      ],
      "metadata": {
        "id": "KBBkkVJtfX8L"
      },
      "execution_count": 45,
      "outputs": []
    },
    {
      "cell_type": "code",
      "source": [
        "model = getCompileModel()"
      ],
      "metadata": {
        "colab": {
          "base_uri": "https://localhost:8080/"
        },
        "outputId": "bb2b6fc1-d67e-4a12-8106-a247b2681f67",
        "id": "BSntEgUCfX8L"
      },
      "execution_count": 46,
      "outputs": [
        {
          "output_type": "stream",
          "name": "stdout",
          "text": [
            "Model: \"LSTM_3rd_Proposal\"\n",
            "_________________________________________________________________\n",
            " Layer (type)                Output Shape              Param #   \n",
            "=================================================================\n",
            " LSTM_L1 (LSTM)              (None, 15, 256)           264192    \n",
            "                                                                 \n",
            " dropout_4 (Dropout)         (None, 15, 256)           0         \n",
            "                                                                 \n",
            " LSTM_L2 (LSTM)              (None, 15, 128)           197120    \n",
            "                                                                 \n",
            " dropout_5 (Dropout)         (None, 15, 128)           0         \n",
            "                                                                 \n",
            " LSTM_L3 (LSTM)              (None, 15, 64)            49408     \n",
            "                                                                 \n",
            " dropout_6 (Dropout)         (None, 15, 64)            0         \n",
            "                                                                 \n",
            " LSTM_L4 (LSTM)              (None, 32)                12416     \n",
            "                                                                 \n",
            " Dense_L5 (Dense)            (None, 20)                660       \n",
            "                                                                 \n",
            " Dense_L6 (Dense)            (None, 1)                 21        \n",
            "                                                                 \n",
            " activation_2 (Activation)   (None, 1)                 0         \n",
            "                                                                 \n",
            "=================================================================\n",
            "Total params: 523,817\n",
            "Trainable params: 523,817\n",
            "Non-trainable params: 0\n",
            "_________________________________________________________________\n"
          ]
        }
      ]
    },
    {
      "cell_type": "code",
      "source": [
        "history = model.fit(trainX,trainY,\n",
        "            batch_size = BATCH_SIZE,\n",
        "            epochs = 50,\n",
        "            validation_split=0.07)\n",
        "            #callbacks=[early_stopping]) # en este red, no se considerará el uso del callback definido"
      ],
      "metadata": {
        "colab": {
          "base_uri": "https://localhost:8080/"
        },
        "outputId": "d1736249-4bcb-479d-d300-41730166dcbf",
        "id": "_iJzZysTfX8M"
      },
      "execution_count": 47,
      "outputs": [
        {
          "output_type": "stream",
          "name": "stdout",
          "text": [
            "Epoch 1/50\n",
            "30/30 [==============================] - 20s 143ms/step - loss: 0.0782 - mae: 0.2333 - val_loss: 0.0137 - val_mae: 0.0946\n",
            "Epoch 2/50\n",
            "30/30 [==============================] - 3s 86ms/step - loss: 0.0488 - mae: 0.1928 - val_loss: 0.0125 - val_mae: 0.0912\n",
            "Epoch 3/50\n",
            "30/30 [==============================] - 3s 87ms/step - loss: 0.0449 - mae: 0.1844 - val_loss: 0.0104 - val_mae: 0.0844\n",
            "Epoch 4/50\n",
            "30/30 [==============================] - 3s 86ms/step - loss: 0.0414 - mae: 0.1747 - val_loss: 0.0104 - val_mae: 0.0837\n",
            "Epoch 5/50\n",
            "30/30 [==============================] - 3s 88ms/step - loss: 0.0371 - mae: 0.1658 - val_loss: 0.0100 - val_mae: 0.0844\n",
            "Epoch 6/50\n",
            "30/30 [==============================] - 3s 86ms/step - loss: 0.0329 - mae: 0.1545 - val_loss: 0.0102 - val_mae: 0.0818\n",
            "Epoch 7/50\n",
            "30/30 [==============================] - 3s 86ms/step - loss: 0.0298 - mae: 0.1468 - val_loss: 0.0103 - val_mae: 0.0811\n",
            "Epoch 8/50\n",
            "30/30 [==============================] - 3s 87ms/step - loss: 0.0257 - mae: 0.1352 - val_loss: 0.0118 - val_mae: 0.0963\n",
            "Epoch 9/50\n",
            "30/30 [==============================] - 3s 92ms/step - loss: 0.0231 - mae: 0.1274 - val_loss: 0.0100 - val_mae: 0.0871\n",
            "Epoch 10/50\n",
            "30/30 [==============================] - 4s 125ms/step - loss: 0.0192 - mae: 0.1148 - val_loss: 0.0098 - val_mae: 0.0809\n",
            "Epoch 11/50\n",
            "30/30 [==============================] - 3s 85ms/step - loss: 0.0162 - mae: 0.1056 - val_loss: 0.0108 - val_mae: 0.0925\n",
            "Epoch 12/50\n",
            "30/30 [==============================] - 3s 85ms/step - loss: 0.0139 - mae: 0.0972 - val_loss: 0.0099 - val_mae: 0.0849\n",
            "Epoch 13/50\n",
            "30/30 [==============================] - 3s 87ms/step - loss: 0.0125 - mae: 0.0899 - val_loss: 0.0113 - val_mae: 0.0945\n",
            "Epoch 14/50\n",
            "30/30 [==============================] - 3s 87ms/step - loss: 0.0115 - mae: 0.0845 - val_loss: 0.0117 - val_mae: 0.0959\n",
            "Epoch 15/50\n",
            "30/30 [==============================] - 3s 86ms/step - loss: 0.0099 - mae: 0.0783 - val_loss: 0.0117 - val_mae: 0.0956\n",
            "Epoch 16/50\n",
            "30/30 [==============================] - 3s 88ms/step - loss: 0.0098 - mae: 0.0772 - val_loss: 0.0134 - val_mae: 0.1022\n",
            "Epoch 17/50\n",
            "30/30 [==============================] - 3s 86ms/step - loss: 0.0098 - mae: 0.0760 - val_loss: 0.0170 - val_mae: 0.1162\n",
            "Epoch 18/50\n",
            "30/30 [==============================] - 3s 88ms/step - loss: 0.0101 - mae: 0.0748 - val_loss: 0.0130 - val_mae: 0.1003\n",
            "Epoch 19/50\n",
            "30/30 [==============================] - 3s 83ms/step - loss: 0.0100 - mae: 0.0761 - val_loss: 0.0119 - val_mae: 0.0955\n",
            "Epoch 20/50\n",
            "30/30 [==============================] - 3s 84ms/step - loss: 0.0094 - mae: 0.0733 - val_loss: 0.0143 - val_mae: 0.1057\n",
            "Epoch 21/50\n",
            "30/30 [==============================] - 3s 84ms/step - loss: 0.0092 - mae: 0.0723 - val_loss: 0.0140 - val_mae: 0.1043\n",
            "Epoch 22/50\n",
            "30/30 [==============================] - 3s 89ms/step - loss: 0.0098 - mae: 0.0741 - val_loss: 0.0143 - val_mae: 0.1054\n",
            "Epoch 23/50\n",
            "30/30 [==============================] - 3s 87ms/step - loss: 0.0095 - mae: 0.0728 - val_loss: 0.0125 - val_mae: 0.0978\n",
            "Epoch 24/50\n",
            "30/30 [==============================] - 3s 97ms/step - loss: 0.0092 - mae: 0.0717 - val_loss: 0.0163 - val_mae: 0.1135\n",
            "Epoch 25/50\n",
            "30/30 [==============================] - 4s 129ms/step - loss: 0.0094 - mae: 0.0709 - val_loss: 0.0178 - val_mae: 0.1186\n",
            "Epoch 26/50\n",
            "30/30 [==============================] - 4s 132ms/step - loss: 0.0089 - mae: 0.0709 - val_loss: 0.0151 - val_mae: 0.1086\n",
            "Epoch 27/50\n",
            "30/30 [==============================] - 3s 88ms/step - loss: 0.0096 - mae: 0.0731 - val_loss: 0.0169 - val_mae: 0.1153\n",
            "Epoch 28/50\n",
            "30/30 [==============================] - 3s 87ms/step - loss: 0.0092 - mae: 0.0717 - val_loss: 0.0133 - val_mae: 0.1014\n",
            "Epoch 29/50\n",
            "30/30 [==============================] - 3s 87ms/step - loss: 0.0092 - mae: 0.0721 - val_loss: 0.0126 - val_mae: 0.0981\n",
            "Epoch 30/50\n",
            "30/30 [==============================] - 3s 87ms/step - loss: 0.0092 - mae: 0.0714 - val_loss: 0.0135 - val_mae: 0.1023\n",
            "Epoch 31/50\n",
            "30/30 [==============================] - 3s 89ms/step - loss: 0.0093 - mae: 0.0716 - val_loss: 0.0140 - val_mae: 0.1040\n",
            "Epoch 32/50\n",
            "30/30 [==============================] - 3s 87ms/step - loss: 0.0089 - mae: 0.0701 - val_loss: 0.0128 - val_mae: 0.0991\n",
            "Epoch 33/50\n",
            "30/30 [==============================] - 3s 89ms/step - loss: 0.0092 - mae: 0.0719 - val_loss: 0.0136 - val_mae: 0.1026\n",
            "Epoch 34/50\n",
            "30/30 [==============================] - 3s 87ms/step - loss: 0.0092 - mae: 0.0716 - val_loss: 0.0145 - val_mae: 0.1063\n",
            "Epoch 35/50\n",
            "30/30 [==============================] - 4s 118ms/step - loss: 0.0090 - mae: 0.0701 - val_loss: 0.0132 - val_mae: 0.1010\n",
            "Epoch 36/50\n",
            "30/30 [==============================] - 3s 99ms/step - loss: 0.0093 - mae: 0.0718 - val_loss: 0.0139 - val_mae: 0.1037\n",
            "Epoch 37/50\n",
            "30/30 [==============================] - 3s 90ms/step - loss: 0.0092 - mae: 0.0711 - val_loss: 0.0139 - val_mae: 0.1039\n",
            "Epoch 38/50\n",
            "30/30 [==============================] - 4s 136ms/step - loss: 0.0092 - mae: 0.0717 - val_loss: 0.0146 - val_mae: 0.1066\n",
            "Epoch 39/50\n",
            "30/30 [==============================] - 3s 87ms/step - loss: 0.0091 - mae: 0.0712 - val_loss: 0.0136 - val_mae: 0.1026\n",
            "Epoch 40/50\n",
            "30/30 [==============================] - 3s 84ms/step - loss: 0.0090 - mae: 0.0706 - val_loss: 0.0116 - val_mae: 0.0939\n",
            "Epoch 41/50\n",
            "30/30 [==============================] - 3s 89ms/step - loss: 0.0087 - mae: 0.0704 - val_loss: 0.0137 - val_mae: 0.1029\n",
            "Epoch 42/50\n",
            "30/30 [==============================] - 3s 88ms/step - loss: 0.0092 - mae: 0.0716 - val_loss: 0.0144 - val_mae: 0.1058\n",
            "Epoch 43/50\n",
            "30/30 [==============================] - 3s 88ms/step - loss: 0.0089 - mae: 0.0707 - val_loss: 0.0130 - val_mae: 0.1002\n",
            "Epoch 44/50\n",
            "30/30 [==============================] - 3s 87ms/step - loss: 0.0092 - mae: 0.0716 - val_loss: 0.0132 - val_mae: 0.1008\n",
            "Epoch 45/50\n",
            "30/30 [==============================] - 3s 89ms/step - loss: 0.0090 - mae: 0.0711 - val_loss: 0.0114 - val_mae: 0.0929\n",
            "Epoch 46/50\n",
            "30/30 [==============================] - 3s 87ms/step - loss: 0.0090 - mae: 0.0699 - val_loss: 0.0139 - val_mae: 0.1038\n",
            "Epoch 47/50\n",
            "30/30 [==============================] - 4s 125ms/step - loss: 0.0089 - mae: 0.0701 - val_loss: 0.0146 - val_mae: 0.1068\n",
            "Epoch 48/50\n",
            "30/30 [==============================] - 4s 148ms/step - loss: 0.0090 - mae: 0.0700 - val_loss: 0.0153 - val_mae: 0.1097\n",
            "Epoch 49/50\n",
            "30/30 [==============================] - 3s 114ms/step - loss: 0.0087 - mae: 0.0696 - val_loss: 0.0157 - val_mae: 0.1112\n",
            "Epoch 50/50\n",
            "30/30 [==============================] - 3s 111ms/step - loss: 0.0093 - mae: 0.0722 - val_loss: 0.0148 - val_mae: 0.1075\n"
          ]
        }
      ]
    },
    {
      "cell_type": "code",
      "source": [
        "# save model\n",
        "model.save('./drive/MyDrive/LSTM_LYFT_3.h5')"
      ],
      "metadata": {
        "id": "jyuzq-3ffX8M"
      },
      "execution_count": 48,
      "outputs": []
    },
    {
      "cell_type": "code",
      "source": [
        "plot_history(history, width=12, height=6)"
      ],
      "metadata": {
        "colab": {
          "base_uri": "https://localhost:8080/",
          "height": 388
        },
        "outputId": "9d2252f0-c6fe-4e4d-a4e5-d4b0cdb866d5",
        "id": "8N0oeMOQfX8M"
      },
      "execution_count": 49,
      "outputs": [
        {
          "output_type": "display_data",
          "data": {
            "text/plain": [
              "<Figure size 864x432 with 2 Axes>"
            ],
            "image/png": "[encoded data removed]"
          },
          "metadata": {
            "needs_background": "light"
          }
        }
      ]
    },
    {
      "cell_type": "markdown",
      "source": [
        "#### C.1. Rendimiento del modelo en conjunto de prueba"
      ],
      "metadata": {
        "id": "ldxbwYbtfX8M"
      }
    },
    {
      "cell_type": "code",
      "source": [
        "forecast = model.predict(testX)\n",
        "mse, mae, mape = compute_metrics(testY, forecast.squeeze())\n",
        "\n",
        "print(f'Model Mean Square Error: {mse}, Mean Absolute Error: {mae}, Mean Absolute Percentage Error: {mape}')"
      ],
      "metadata": {
        "colab": {
          "base_uri": "https://localhost:8080/"
        },
        "outputId": "1b2d8966-ab61-45cb-c868-bbcc39bab277",
        "id": "sWX8kBpMfX8M"
      },
      "execution_count": 50,
      "outputs": [
        {
          "output_type": "stream",
          "name": "stdout",
          "text": [
            "7/7 [==============================] - 2s 34ms/step\n",
            "Model Mean Square Error: 0.008467878215014935, Mean Absolute Error: 0.07347666472196579, Mean Absolute Percentage Error: 187.39849853515625\n"
          ]
        }
      ]
    },
    {
      "cell_type": "markdown",
      "source": [
        "#### C.2. Predicción precio mañana"
      ],
      "metadata": {
        "id": "MtwDtqVbfX8M"
      }
    },
    {
      "cell_type": "code",
      "source": [
        "next_day_features = ds_scale_test[-N_STEPS:,0]\n",
        "next_day_features"
      ],
      "metadata": {
        "colab": {
          "base_uri": "https://localhost:8080/"
        },
        "outputId": "d5c51779-ff70-41eb-c7ce-d1b239c3a701",
        "id": "GhGnq43YfX8M"
      },
      "execution_count": 51,
      "outputs": [
        {
          "output_type": "execute_result",
          "data": {
            "text/plain": [
              "array([-0.0533385 , -0.04847184, -0.04185322, -0.02413857, -0.02511191,\n",
              "       -0.02764258, -0.0297839 , -0.02744791, -0.01751995, -0.03990653,\n",
              "       -0.0453572 , -0.04496786, -0.0371812 , -0.10025306, -0.10531436],\n",
              "      dtype=float32)"
            ]
          },
          "metadata": {},
          "execution_count": 51
        }
      ]
    },
    {
      "cell_type": "code",
      "source": [
        "#dar forma del modelo para predecir\n",
        "next_day_features = np.expand_dims(np.array(ds_scale_test[-N_STEPS:,0]), axis=0)\n",
        "next_day_features"
      ],
      "metadata": {
        "colab": {
          "base_uri": "https://localhost:8080/"
        },
        "outputId": "13a11778-c7e2-452b-b57c-02054ce5e86a",
        "id": "lLJjh6HFfX8M"
      },
      "execution_count": 52,
      "outputs": [
        {
          "output_type": "execute_result",
          "data": {
            "text/plain": [
              "array([[-0.0533385 , -0.04847184, -0.04185322, -0.02413857, -0.02511191,\n",
              "        -0.02764258, -0.0297839 , -0.02744791, -0.01751995, -0.03990653,\n",
              "        -0.0453572 , -0.04496786, -0.0371812 , -0.10025306, -0.10531436]],\n",
              "      dtype=float32)"
            ]
          },
          "metadata": {},
          "execution_count": 52
        }
      ]
    },
    {
      "cell_type": "code",
      "source": [
        "pred = model.predict(next_day_features)\n",
        "\n",
        "forecast_price = scaler.inverse_transform(pred)[0][0]\n",
        "\n",
        "print(f'El precio de {STOCK} para el día de de mañana es {forecast_price} USD')"
      ],
      "metadata": {
        "colab": {
          "base_uri": "https://localhost:8080/"
        },
        "outputId": "8efd0100-3338-449b-acf8-8924582b8488",
        "id": "xTxLOglBfX8M"
      },
      "execution_count": 53,
      "outputs": [
        {
          "output_type": "stream",
          "name": "stdout",
          "text": [
            "1/1 [==============================] - 0s 25ms/step\n",
            "El precio de LYFT para el día de de mañana es 16.719940185546875 USD\n"
          ]
        }
      ]
    },
    {
      "cell_type": "code",
      "source": [
        "forecast_prices = scaler.inverse_transform(forecast).squeeze()\n",
        "plt.figure(figsize=(16,8))\n",
        "dates = df_test.index[N_STEPS+1:,]\n",
        "\n",
        "plt.plot(dates,dataset_test[N_STEPS+1:,], label='LYFT real')\n",
        "plt.plot(dates,scaler.inverse_transform(forecast), label='LYFT forecast')\n",
        "plt.xlabel('date')\n",
        "plt.ylabel(f'{STOCK}')\n",
        "plt.legend()\n"
      ],
      "metadata": {
        "colab": {
          "base_uri": "https://localhost:8080/",
          "height": 513
        },
        "outputId": "ac2eabc9-d319-4a2c-d55e-57525b5fb541",
        "id": "Ydm2owQtfX8N"
      },
      "execution_count": 54,
      "outputs": [
        {
          "output_type": "execute_result",
          "data": {
            "text/plain": [
              "<matplotlib.legend.Legend at 0x7f153641bb10>"
            ]
          },
          "metadata": {},
          "execution_count": 54
        },
        {
          "output_type": "display_data",
          "data": {
            "text/plain": [
              "<Figure size 1152x576 with 1 Axes>"
            ],
            "image/png": "[encoded data removed]"
          },
          "metadata": {
            "needs_background": "light"
          }
        }
      ]
    },
    {
      "cell_type": "markdown",
      "source": [
        "En este tercer modelo, se decidió mantener la distribución (arquitectura) de red anterior pero con el objeto de entrenar con mayor número de épocas, se decidió no utilizar un CallBack y cambiar el optimizador por un Stochastic Gradient Descent. El cual muestra la poca eficiencia que genera en el ajuste del modelo."
      ],
      "metadata": {
        "id": "mmVyGTTqHvqW"
      }
    },
    {
      "cell_type": "markdown",
      "source": [
        "### D. Propuesta de Arquitectura de Red LSTM Nº 4 (4rd Proposal):"
      ],
      "metadata": {
        "id": "U3Ha6cESCy1Q"
      }
    },
    {
      "cell_type": "markdown",
      "source": [
        "En este propuesta, se definen los siguientes hiperparámetros:\n",
        "\n",
        "- Epoch = 100.\n",
        "- 1ra Capa LSTM = 256 + DropOut = 0.3\n",
        "- 2da Capa LSTM = 128 + DropOut = 0.3\n",
        "- 3da Capa LSTM = 64 + DropOut = 0.3\n",
        "- 4ta Capa LSTM = 32 + DropOut = 0.3\n",
        "- 5ta Capa Densa = 20\n",
        "- 6ta Capa Densa (Output) = 1\n",
        "- Activation Function = Linear\n",
        "- Optimizador = ADAM\n",
        "- Callback = No.\n",
        "\n"
      ],
      "metadata": {
        "id": "aj_U4hPaCy1Q"
      }
    },
    {
      "cell_type": "code",
      "source": [
        "from keras.layers.core.activation import Activation\n",
        "def getCompileModel():\n",
        "  model = Sequential(name= 'LSTM_4rd_Proposal')\n",
        "  \n",
        "  # El número de dimensiones será el número de largo de nuestra secuencia de \n",
        "  # entrada (días) x el número de dimensionalidad de la data (1 en este caso)\n",
        "\n",
        "  model.add(LSTM(256, return_sequences=True, input_shape=(N_STEPS, 1), name = 'LSTM_L1'))\n",
        "  model.add(Dropout(0.3))\n",
        "  model.add(LSTM(128, return_sequences=True, name='LSTM_L2'))\n",
        "  model.add(Dropout(0.3))\n",
        "  model.add(LSTM(64, return_sequences=True, name='LSTM_L3'))\n",
        "  model.add(Dropout(0.3))\n",
        "  model.add(LSTM(32, name = 'LSTM_L4'))\n",
        "  model.add(Dense(20, name= 'Dense_L5'))\n",
        "  model.add(Dense(1, name = 'Dense_L6'))\n",
        "  model.add(Activation('linear'))\n",
        "  \n",
        "\n",
        "  model.compile(loss='mean_squared_error', optimizer='adam', metrics='mae')\n",
        "  model.summary()\n",
        " \n",
        "  return model\n"
      ],
      "metadata": {
        "id": "iAQvdbMnCy1Q"
      },
      "execution_count": 55,
      "outputs": []
    },
    {
      "cell_type": "code",
      "source": [
        "model = getCompileModel()"
      ],
      "metadata": {
        "colab": {
          "base_uri": "https://localhost:8080/"
        },
        "outputId": "c5025467-c6b7-4ffc-93b1-87b8fd510b73",
        "id": "r3iEnDbsCy1Q"
      },
      "execution_count": 56,
      "outputs": [
        {
          "output_type": "stream",
          "name": "stdout",
          "text": [
            "Model: \"LSTM_4rd_Proposal\"\n",
            "_________________________________________________________________\n",
            " Layer (type)                Output Shape              Param #   \n",
            "=================================================================\n",
            " LSTM_L1 (LSTM)              (None, 15, 256)           264192    \n",
            "                                                                 \n",
            " dropout_7 (Dropout)         (None, 15, 256)           0         \n",
            "                                                                 \n",
            " LSTM_L2 (LSTM)              (None, 15, 128)           197120    \n",
            "                                                                 \n",
            " dropout_8 (Dropout)         (None, 15, 128)           0         \n",
            "                                                                 \n",
            " LSTM_L3 (LSTM)              (None, 15, 64)            49408     \n",
            "                                                                 \n",
            " dropout_9 (Dropout)         (None, 15, 64)            0         \n",
            "                                                                 \n",
            " LSTM_L4 (LSTM)              (None, 32)                12416     \n",
            "                                                                 \n",
            " Dense_L5 (Dense)            (None, 20)                660       \n",
            "                                                                 \n",
            " Dense_L6 (Dense)            (None, 1)                 21        \n",
            "                                                                 \n",
            " activation_3 (Activation)   (None, 1)                 0         \n",
            "                                                                 \n",
            "=================================================================\n",
            "Total params: 523,817\n",
            "Trainable params: 523,817\n",
            "Non-trainable params: 0\n",
            "_________________________________________________________________\n"
          ]
        }
      ]
    },
    {
      "cell_type": "code",
      "source": [
        "history = model.fit(trainX,trainY,\n",
        "            batch_size = BATCH_SIZE,\n",
        "            epochs = 100,\n",
        "            validation_split=0.07)\n",
        "            #callbacks=[early_stopping]) # en este red, no se considerará el uso del callback definido"
      ],
      "metadata": {
        "colab": {
          "base_uri": "https://localhost:8080/"
        },
        "outputId": "ba94f07d-054a-4099-fdad-b6e083b1ae5f",
        "id": "eeLOVzHZCy1Q"
      },
      "execution_count": 58,
      "outputs": [
        {
          "output_type": "stream",
          "name": "stdout",
          "text": [
            "Epoch 1/100\n",
            "30/30 [==============================] - 3s 89ms/step - loss: 0.0104 - mae: 0.0777 - val_loss: 0.0182 - val_mae: 0.1193\n",
            "Epoch 2/100\n",
            "30/30 [==============================] - 3s 89ms/step - loss: 0.0094 - mae: 0.0741 - val_loss: 0.0096 - val_mae: 0.0801\n",
            "Epoch 3/100\n",
            "30/30 [==============================] - 3s 89ms/step - loss: 0.0090 - mae: 0.0699 - val_loss: 0.0107 - val_mae: 0.0897\n",
            "Epoch 4/100\n",
            "30/30 [==============================] - 3s 90ms/step - loss: 0.0088 - mae: 0.0700 - val_loss: 0.0096 - val_mae: 0.0692\n",
            "Epoch 5/100\n",
            "30/30 [==============================] - 3s 87ms/step - loss: 0.0081 - mae: 0.0679 - val_loss: 0.0094 - val_mae: 0.0824\n",
            "Epoch 6/100\n",
            "30/30 [==============================] - 3s 107ms/step - loss: 0.0082 - mae: 0.0690 - val_loss: 0.0086 - val_mae: 0.0777\n",
            "Epoch 7/100\n",
            "30/30 [==============================] - 3s 86ms/step - loss: 0.0075 - mae: 0.0648 - val_loss: 0.0080 - val_mae: 0.0652\n",
            "Epoch 8/100\n",
            "30/30 [==============================] - 3s 88ms/step - loss: 0.0083 - mae: 0.0702 - val_loss: 0.0176 - val_mae: 0.1190\n",
            "Epoch 9/100\n",
            "30/30 [==============================] - 3s 89ms/step - loss: 0.0069 - mae: 0.0629 - val_loss: 0.0076 - val_mae: 0.0651\n",
            "Epoch 10/100\n",
            "30/30 [==============================] - 4s 135ms/step - loss: 0.0066 - mae: 0.0611 - val_loss: 0.0067 - val_mae: 0.0629\n",
            "Epoch 11/100\n",
            "30/30 [==============================] - 3s 88ms/step - loss: 0.0058 - mae: 0.0578 - val_loss: 0.0074 - val_mae: 0.0707\n",
            "Epoch 12/100\n",
            "30/30 [==============================] - 3s 87ms/step - loss: 0.0057 - mae: 0.0577 - val_loss: 0.0066 - val_mae: 0.0677\n",
            "Epoch 13/100\n",
            "30/30 [==============================] - 3s 87ms/step - loss: 0.0059 - mae: 0.0573 - val_loss: 0.0062 - val_mae: 0.0649\n",
            "Epoch 14/100\n",
            "30/30 [==============================] - 3s 88ms/step - loss: 0.0052 - mae: 0.0543 - val_loss: 0.0057 - val_mae: 0.0533\n",
            "Epoch 15/100\n",
            "30/30 [==============================] - 3s 88ms/step - loss: 0.0049 - mae: 0.0533 - val_loss: 0.0061 - val_mae: 0.0536\n",
            "Epoch 16/100\n",
            "30/30 [==============================] - 3s 86ms/step - loss: 0.0049 - mae: 0.0534 - val_loss: 0.0078 - val_mae: 0.0772\n",
            "Epoch 17/100\n",
            "30/30 [==============================] - 3s 88ms/step - loss: 0.0045 - mae: 0.0507 - val_loss: 0.0052 - val_mae: 0.0623\n",
            "Epoch 18/100\n",
            "30/30 [==============================] - 3s 88ms/step - loss: 0.0040 - mae: 0.0479 - val_loss: 0.0047 - val_mae: 0.0491\n",
            "Epoch 19/100\n",
            "30/30 [==============================] - 3s 90ms/step - loss: 0.0042 - mae: 0.0497 - val_loss: 0.0057 - val_mae: 0.0665\n",
            "Epoch 20/100\n",
            "30/30 [==============================] - 3s 90ms/step - loss: 0.0048 - mae: 0.0533 - val_loss: 0.0057 - val_mae: 0.0501\n",
            "Epoch 21/100\n",
            "30/30 [==============================] - 4s 125ms/step - loss: 0.0048 - mae: 0.0528 - val_loss: 0.0042 - val_mae: 0.0508\n",
            "Epoch 22/100\n",
            "30/30 [==============================] - 3s 87ms/step - loss: 0.0042 - mae: 0.0490 - val_loss: 0.0055 - val_mae: 0.0482\n",
            "Epoch 23/100\n",
            "30/30 [==============================] - 3s 88ms/step - loss: 0.0051 - mae: 0.0554 - val_loss: 0.0038 - val_mae: 0.0450\n",
            "Epoch 24/100\n",
            "30/30 [==============================] - 4s 131ms/step - loss: 0.0040 - mae: 0.0482 - val_loss: 0.0037 - val_mae: 0.0488\n",
            "Epoch 25/100\n",
            "30/30 [==============================] - 3s 87ms/step - loss: 0.0038 - mae: 0.0474 - val_loss: 0.0072 - val_mae: 0.0760\n",
            "Epoch 26/100\n",
            "30/30 [==============================] - 3s 89ms/step - loss: 0.0036 - mae: 0.0457 - val_loss: 0.0043 - val_mae: 0.0581\n",
            "Epoch 27/100\n",
            "30/30 [==============================] - 3s 89ms/step - loss: 0.0033 - mae: 0.0434 - val_loss: 0.0038 - val_mae: 0.0539\n",
            "Epoch 28/100\n",
            "30/30 [==============================] - 3s 87ms/step - loss: 0.0040 - mae: 0.0486 - val_loss: 0.0060 - val_mae: 0.0695\n",
            "Epoch 29/100\n",
            "30/30 [==============================] - 3s 113ms/step - loss: 0.0039 - mae: 0.0474 - val_loss: 0.0036 - val_mae: 0.0527\n",
            "Epoch 30/100\n",
            "30/30 [==============================] - 4s 133ms/step - loss: 0.0036 - mae: 0.0465 - val_loss: 0.0030 - val_mae: 0.0417\n",
            "Epoch 31/100\n",
            "30/30 [==============================] - 4s 132ms/step - loss: 0.0033 - mae: 0.0437 - val_loss: 0.0034 - val_mae: 0.0512\n",
            "Epoch 32/100\n",
            "30/30 [==============================] - 3s 91ms/step - loss: 0.0035 - mae: 0.0451 - val_loss: 0.0031 - val_mae: 0.0472\n",
            "Epoch 33/100\n",
            "30/30 [==============================] - 3s 89ms/step - loss: 0.0031 - mae: 0.0426 - val_loss: 0.0029 - val_mae: 0.0433\n",
            "Epoch 34/100\n",
            "30/30 [==============================] - 3s 91ms/step - loss: 0.0030 - mae: 0.0424 - val_loss: 0.0027 - val_mae: 0.0425\n",
            "Epoch 35/100\n",
            "30/30 [==============================] - 3s 91ms/step - loss: 0.0029 - mae: 0.0410 - val_loss: 0.0030 - val_mae: 0.0480\n",
            "Epoch 36/100\n",
            "30/30 [==============================] - 3s 93ms/step - loss: 0.0030 - mae: 0.0426 - val_loss: 0.0027 - val_mae: 0.0443\n",
            "Epoch 37/100\n",
            "30/30 [==============================] - 4s 137ms/step - loss: 0.0029 - mae: 0.0409 - val_loss: 0.0033 - val_mae: 0.0514\n",
            "Epoch 38/100\n",
            "30/30 [==============================] - 3s 90ms/step - loss: 0.0027 - mae: 0.0414 - val_loss: 0.0030 - val_mae: 0.0483\n",
            "Epoch 39/100\n",
            "30/30 [==============================] - 3s 92ms/step - loss: 0.0029 - mae: 0.0427 - val_loss: 0.0025 - val_mae: 0.0397\n",
            "Epoch 40/100\n",
            "30/30 [==============================] - 3s 91ms/step - loss: 0.0028 - mae: 0.0400 - val_loss: 0.0022 - val_mae: 0.0359\n",
            "Epoch 41/100\n",
            "30/30 [==============================] - 3s 90ms/step - loss: 0.0029 - mae: 0.0417 - val_loss: 0.0043 - val_mae: 0.0599\n",
            "Epoch 42/100\n",
            "30/30 [==============================] - 3s 92ms/step - loss: 0.0025 - mae: 0.0382 - val_loss: 0.0021 - val_mae: 0.0349\n",
            "Epoch 43/100\n",
            "30/30 [==============================] - 3s 93ms/step - loss: 0.0028 - mae: 0.0403 - val_loss: 0.0022 - val_mae: 0.0320\n",
            "Epoch 44/100\n",
            "30/30 [==============================] - 3s 94ms/step - loss: 0.0027 - mae: 0.0414 - val_loss: 0.0030 - val_mae: 0.0488\n",
            "Epoch 45/100\n",
            "30/30 [==============================] - 3s 90ms/step - loss: 0.0022 - mae: 0.0363 - val_loss: 0.0021 - val_mae: 0.0373\n",
            "Epoch 46/100\n",
            "30/30 [==============================] - 3s 89ms/step - loss: 0.0023 - mae: 0.0375 - val_loss: 0.0024 - val_mae: 0.0424\n",
            "Epoch 47/100\n",
            "30/30 [==============================] - 3s 90ms/step - loss: 0.0026 - mae: 0.0405 - val_loss: 0.0027 - val_mae: 0.0457\n",
            "Epoch 48/100\n",
            "30/30 [==============================] - 3s 90ms/step - loss: 0.0023 - mae: 0.0366 - val_loss: 0.0022 - val_mae: 0.0409\n",
            "Epoch 49/100\n",
            "30/30 [==============================] - 3s 90ms/step - loss: 0.0020 - mae: 0.0352 - val_loss: 0.0023 - val_mae: 0.0423\n",
            "Epoch 50/100\n",
            "30/30 [==============================] - 3s 116ms/step - loss: 0.0022 - mae: 0.0365 - val_loss: 0.0037 - val_mae: 0.0552\n",
            "Epoch 51/100\n",
            "30/30 [==============================] - 3s 107ms/step - loss: 0.0023 - mae: 0.0366 - val_loss: 0.0028 - val_mae: 0.0476\n",
            "Epoch 52/100\n",
            "30/30 [==============================] - 3s 90ms/step - loss: 0.0022 - mae: 0.0368 - val_loss: 0.0032 - val_mae: 0.0507\n",
            "Epoch 53/100\n",
            "30/30 [==============================] - 3s 89ms/step - loss: 0.0022 - mae: 0.0372 - val_loss: 0.0017 - val_mae: 0.0345\n",
            "Epoch 54/100\n",
            "30/30 [==============================] - 3s 92ms/step - loss: 0.0021 - mae: 0.0361 - val_loss: 0.0019 - val_mae: 0.0300\n",
            "Epoch 55/100\n",
            "30/30 [==============================] - 3s 92ms/step - loss: 0.0020 - mae: 0.0344 - val_loss: 0.0015 - val_mae: 0.0285\n",
            "Epoch 56/100\n",
            "30/30 [==============================] - 3s 92ms/step - loss: 0.0020 - mae: 0.0338 - val_loss: 0.0015 - val_mae: 0.0278\n",
            "Epoch 57/100\n",
            "30/30 [==============================] - 3s 89ms/step - loss: 0.0022 - mae: 0.0373 - val_loss: 0.0018 - val_mae: 0.0368\n",
            "Epoch 58/100\n",
            "30/30 [==============================] - 3s 90ms/step - loss: 0.0023 - mae: 0.0373 - val_loss: 0.0017 - val_mae: 0.0358\n",
            "Epoch 59/100\n",
            "30/30 [==============================] - 3s 90ms/step - loss: 0.0021 - mae: 0.0360 - val_loss: 0.0018 - val_mae: 0.0294\n",
            "Epoch 60/100\n",
            "30/30 [==============================] - 3s 90ms/step - loss: 0.0019 - mae: 0.0342 - val_loss: 0.0015 - val_mae: 0.0298\n",
            "Epoch 61/100\n",
            "30/30 [==============================] - 3s 89ms/step - loss: 0.0019 - mae: 0.0336 - val_loss: 0.0015 - val_mae: 0.0312\n",
            "Epoch 62/100\n",
            "30/30 [==============================] - 3s 87ms/step - loss: 0.0019 - mae: 0.0339 - val_loss: 0.0023 - val_mae: 0.0429\n",
            "Epoch 63/100\n",
            "30/30 [==============================] - 3s 89ms/step - loss: 0.0021 - mae: 0.0347 - val_loss: 0.0015 - val_mae: 0.0327\n",
            "Epoch 64/100\n",
            "30/30 [==============================] - 4s 119ms/step - loss: 0.0018 - mae: 0.0326 - val_loss: 0.0016 - val_mae: 0.0338\n",
            "Epoch 65/100\n",
            "30/30 [==============================] - 3s 102ms/step - loss: 0.0020 - mae: 0.0344 - val_loss: 0.0019 - val_mae: 0.0381\n",
            "Epoch 66/100\n",
            "30/30 [==============================] - 3s 87ms/step - loss: 0.0016 - mae: 0.0310 - val_loss: 0.0020 - val_mae: 0.0400\n",
            "Epoch 67/100\n",
            "30/30 [==============================] - 3s 88ms/step - loss: 0.0019 - mae: 0.0339 - val_loss: 0.0014 - val_mae: 0.0314\n",
            "Epoch 68/100\n",
            "30/30 [==============================] - 3s 87ms/step - loss: 0.0018 - mae: 0.0335 - val_loss: 0.0015 - val_mae: 0.0328\n",
            "Epoch 69/100\n",
            "30/30 [==============================] - 3s 88ms/step - loss: 0.0018 - mae: 0.0322 - val_loss: 0.0022 - val_mae: 0.0432\n",
            "Epoch 70/100\n",
            "30/30 [==============================] - 3s 88ms/step - loss: 0.0019 - mae: 0.0329 - val_loss: 0.0024 - val_mae: 0.0440\n",
            "Epoch 71/100\n",
            "30/30 [==============================] - 3s 88ms/step - loss: 0.0019 - mae: 0.0334 - val_loss: 0.0013 - val_mae: 0.0277\n",
            "Epoch 72/100\n",
            "30/30 [==============================] - 3s 86ms/step - loss: 0.0016 - mae: 0.0315 - val_loss: 0.0013 - val_mae: 0.0292\n",
            "Epoch 73/100\n",
            "30/30 [==============================] - 3s 87ms/step - loss: 0.0017 - mae: 0.0319 - val_loss: 0.0014 - val_mae: 0.0324\n",
            "Epoch 74/100\n",
            "30/30 [==============================] - 3s 87ms/step - loss: 0.0022 - mae: 0.0371 - val_loss: 0.0013 - val_mae: 0.0275\n",
            "Epoch 75/100\n",
            "30/30 [==============================] - 3s 88ms/step - loss: 0.0018 - mae: 0.0322 - val_loss: 0.0018 - val_mae: 0.0374\n",
            "Epoch 76/100\n",
            "30/30 [==============================] - 3s 89ms/step - loss: 0.0018 - mae: 0.0343 - val_loss: 0.0019 - val_mae: 0.0396\n",
            "Epoch 77/100\n",
            "30/30 [==============================] - 3s 89ms/step - loss: 0.0017 - mae: 0.0315 - val_loss: 0.0015 - val_mae: 0.0333\n",
            "Epoch 78/100\n",
            "30/30 [==============================] - 3s 94ms/step - loss: 0.0020 - mae: 0.0345 - val_loss: 0.0012 - val_mae: 0.0281\n",
            "Epoch 79/100\n",
            "30/30 [==============================] - 4s 134ms/step - loss: 0.0017 - mae: 0.0320 - val_loss: 0.0014 - val_mae: 0.0320\n",
            "Epoch 80/100\n",
            "30/30 [==============================] - 3s 89ms/step - loss: 0.0016 - mae: 0.0315 - val_loss: 0.0013 - val_mae: 0.0292\n",
            "Epoch 81/100\n",
            "30/30 [==============================] - 3s 91ms/step - loss: 0.0019 - mae: 0.0346 - val_loss: 0.0023 - val_mae: 0.0431\n",
            "Epoch 82/100\n",
            "30/30 [==============================] - 3s 90ms/step - loss: 0.0015 - mae: 0.0301 - val_loss: 0.0012 - val_mae: 0.0258\n",
            "Epoch 83/100\n",
            "30/30 [==============================] - 3s 91ms/step - loss: 0.0016 - mae: 0.0321 - val_loss: 0.0012 - val_mae: 0.0257\n",
            "Epoch 84/100\n",
            "30/30 [==============================] - 3s 90ms/step - loss: 0.0015 - mae: 0.0314 - val_loss: 0.0013 - val_mae: 0.0249\n",
            "Epoch 85/100\n",
            "30/30 [==============================] - 3s 93ms/step - loss: 0.0017 - mae: 0.0325 - val_loss: 0.0013 - val_mae: 0.0314\n",
            "Epoch 86/100\n",
            "30/30 [==============================] - 3s 91ms/step - loss: 0.0016 - mae: 0.0310 - val_loss: 0.0012 - val_mae: 0.0244\n",
            "Epoch 87/100\n",
            "30/30 [==============================] - 3s 91ms/step - loss: 0.0023 - mae: 0.0378 - val_loss: 0.0015 - val_mae: 0.0265\n",
            "Epoch 88/100\n",
            "30/30 [==============================] - 3s 94ms/step - loss: 0.0018 - mae: 0.0329 - val_loss: 0.0017 - val_mae: 0.0365\n",
            "Epoch 89/100\n",
            "30/30 [==============================] - 4s 138ms/step - loss: 0.0017 - mae: 0.0316 - val_loss: 0.0020 - val_mae: 0.0404\n",
            "Epoch 90/100\n",
            "30/30 [==============================] - 3s 89ms/step - loss: 0.0016 - mae: 0.0305 - val_loss: 0.0011 - val_mae: 0.0273\n",
            "Epoch 91/100\n",
            "30/30 [==============================] - 3s 91ms/step - loss: 0.0015 - mae: 0.0307 - val_loss: 0.0019 - val_mae: 0.0398\n",
            "Epoch 92/100\n",
            "30/30 [==============================] - 4s 136ms/step - loss: 0.0020 - mae: 0.0336 - val_loss: 0.0019 - val_mae: 0.0396\n",
            "Epoch 93/100\n",
            "30/30 [==============================] - 3s 92ms/step - loss: 0.0016 - mae: 0.0319 - val_loss: 0.0012 - val_mae: 0.0293\n",
            "Epoch 94/100\n",
            "30/30 [==============================] - 3s 90ms/step - loss: 0.0017 - mae: 0.0309 - val_loss: 0.0016 - val_mae: 0.0364\n",
            "Epoch 95/100\n",
            "30/30 [==============================] - 3s 91ms/step - loss: 0.0018 - mae: 0.0322 - val_loss: 0.0011 - val_mae: 0.0264\n",
            "Epoch 96/100\n",
            "30/30 [==============================] - 3s 92ms/step - loss: 0.0015 - mae: 0.0291 - val_loss: 0.0012 - val_mae: 0.0272\n",
            "Epoch 97/100\n",
            "30/30 [==============================] - 3s 92ms/step - loss: 0.0015 - mae: 0.0293 - val_loss: 0.0012 - val_mae: 0.0295\n",
            "Epoch 98/100\n",
            "30/30 [==============================] - 3s 91ms/step - loss: 0.0015 - mae: 0.0303 - val_loss: 0.0018 - val_mae: 0.0381\n",
            "Epoch 99/100\n",
            "30/30 [==============================] - 3s 92ms/step - loss: 0.0016 - mae: 0.0314 - val_loss: 0.0011 - val_mae: 0.0277\n",
            "Epoch 100/100\n",
            "30/30 [==============================] - 3s 89ms/step - loss: 0.0015 - mae: 0.0298 - val_loss: 0.0011 - val_mae: 0.0263\n"
          ]
        }
      ]
    },
    {
      "cell_type": "code",
      "source": [
        "# save model\n",
        "model.save('./drive/MyDrive/LSTM_LYFT_4.h5')"
      ],
      "metadata": {
        "id": "gQRtsqq0Cy1R"
      },
      "execution_count": 59,
      "outputs": []
    },
    {
      "cell_type": "code",
      "source": [
        "plot_history(history, width=12, height=6)"
      ],
      "metadata": {
        "colab": {
          "base_uri": "https://localhost:8080/",
          "height": 388
        },
        "outputId": "3372862e-e8e6-401f-89ff-8fcc7cbd0293",
        "id": "TIm8Xm8ZCy1R"
      },
      "execution_count": 60,
      "outputs": [
        {
          "output_type": "display_data",
          "data": {
            "text/plain": [
              "<Figure size 864x432 with 2 Axes>"
            ],
            "image/png": "[encoded data removed]"
          },
          "metadata": {
            "needs_background": "light"
          }
        }
      ]
    },
    {
      "cell_type": "markdown",
      "source": [
        "#### D.1. Rendimiento del modelo en conjunto de prueba"
      ],
      "metadata": {
        "id": "yF_cbg7JCy1R"
      }
    },
    {
      "cell_type": "code",
      "source": [
        "forecast = model.predict(testX)\n",
        "mse, mae, mape = compute_metrics(testY, forecast.squeeze())\n",
        "\n",
        "print(f'Model Mean Square Error: {mse}, Mean Absolute Error: {mae}, Mean Absolute Percentage Error: {mape}')"
      ],
      "metadata": {
        "colab": {
          "base_uri": "https://localhost:8080/"
        },
        "outputId": "ee77951f-f74f-45f9-c942-16fc902cb53b",
        "id": "YfFHeiYgCy1R"
      },
      "execution_count": 61,
      "outputs": [
        {
          "output_type": "stream",
          "name": "stdout",
          "text": [
            "7/7 [==============================] - 3s 62ms/step\n",
            "Model Mean Square Error: 0.0027990906964987516, Mean Absolute Error: 0.045559801161289215, Mean Absolute Percentage Error: 165.9218292236328\n"
          ]
        }
      ]
    },
    {
      "cell_type": "markdown",
      "source": [
        "#### D.2. Predicción precio mañana"
      ],
      "metadata": {
        "id": "Cb8oXogJCy1R"
      }
    },
    {
      "cell_type": "code",
      "source": [
        "next_day_features = ds_scale_test[-N_STEPS:,0]\n",
        "next_day_features"
      ],
      "metadata": {
        "colab": {
          "base_uri": "https://localhost:8080/"
        },
        "outputId": "54fd9a2e-771b-4f12-a302-368bed9e27b8",
        "id": "2tFWjrN3Cy1R"
      },
      "execution_count": 62,
      "outputs": [
        {
          "output_type": "execute_result",
          "data": {
            "text/plain": [
              "array([-0.0533385 , -0.04847184, -0.04185322, -0.02413857, -0.02511191,\n",
              "       -0.02764258, -0.0297839 , -0.02744791, -0.01751995, -0.03990653,\n",
              "       -0.0453572 , -0.04496786, -0.0371812 , -0.10025306, -0.10531436],\n",
              "      dtype=float32)"
            ]
          },
          "metadata": {},
          "execution_count": 62
        }
      ]
    },
    {
      "cell_type": "code",
      "source": [
        "#dar forma del modelo para predecir\n",
        "next_day_features = np.expand_dims(np.array(ds_scale_test[-N_STEPS:,0]), axis=0)\n",
        "next_day_features"
      ],
      "metadata": {
        "colab": {
          "base_uri": "https://localhost:8080/"
        },
        "outputId": "3bc72e1b-e923-41a5-9963-57e8fef5517d",
        "id": "6sKss542Cy1R"
      },
      "execution_count": 63,
      "outputs": [
        {
          "output_type": "execute_result",
          "data": {
            "text/plain": [
              "array([[-0.0533385 , -0.04847184, -0.04185322, -0.02413857, -0.02511191,\n",
              "        -0.02764258, -0.0297839 , -0.02744791, -0.01751995, -0.03990653,\n",
              "        -0.0453572 , -0.04496786, -0.0371812 , -0.10025306, -0.10531436]],\n",
              "      dtype=float32)"
            ]
          },
          "metadata": {},
          "execution_count": 63
        }
      ]
    },
    {
      "cell_type": "code",
      "source": [
        "pred = model.predict(next_day_features)\n",
        "\n",
        "forecast_price = scaler.inverse_transform(pred)[0][0]\n",
        "\n",
        "print(f'El precio de {STOCK} para el día de de mañana es {forecast_price} USD')"
      ],
      "metadata": {
        "colab": {
          "base_uri": "https://localhost:8080/"
        },
        "outputId": "644dfdf2-2137-4566-de8a-3d65f11ff854",
        "id": "ux-Gew9zCy1R"
      },
      "execution_count": 64,
      "outputs": [
        {
          "output_type": "stream",
          "name": "stdout",
          "text": [
            "1/1 [==============================] - 0s 33ms/step\n",
            "El precio de LYFT para el día de de mañana es 13.810098648071289 USD\n"
          ]
        }
      ]
    },
    {
      "cell_type": "code",
      "source": [
        "forecast_prices = scaler.inverse_transform(forecast).squeeze()\n",
        "plt.figure(figsize=(16,8))\n",
        "dates = df_test.index[N_STEPS+1:,]\n",
        "\n",
        "plt.plot(dates,dataset_test[N_STEPS+1:,], label='LYFT real')\n",
        "plt.plot(dates,scaler.inverse_transform(forecast), label='LYFT forecast')\n",
        "plt.xlabel('date')\n",
        "plt.ylabel(f'{STOCK}')\n",
        "plt.legend()\n"
      ],
      "metadata": {
        "colab": {
          "base_uri": "https://localhost:8080/",
          "height": 513
        },
        "outputId": "0ea67d15-63e1-428e-c9bc-c56b7044f367",
        "id": "9lUUWf3lCy1R"
      },
      "execution_count": 65,
      "outputs": [
        {
          "output_type": "execute_result",
          "data": {
            "text/plain": [
              "<matplotlib.legend.Legend at 0x7f1532720750>"
            ]
          },
          "metadata": {},
          "execution_count": 65
        },
        {
          "output_type": "display_data",
          "data": {
            "text/plain": [
              "<Figure size 1152x576 with 1 Axes>"
            ],
            "image/png": "[encoded data removed]"
          },
          "metadata": {
            "needs_background": "light"
          }
        }
      ]
    },
    {
      "cell_type": "markdown",
      "source": [
        "En este ultimo caso, se deicidió de igual manera utilizar la misma arquitectura pero con el optimizador Adam, existiendo una mejoría signicativa en el modelo pero con leves diferencias hacia el final, por lo cual, es posible determinar que no necesariamente es óptimo ingresar mayor número de capas al modelo."
      ],
      "metadata": {
        "id": "tL35WB9CIOvt"
      }
    },
    {
      "cell_type": "markdown",
      "source": [
        "## Tabla Resumen de Métricas Obtenidas en los modelos:\n",
        "\n",
        "| Nº de modelo | Descripción  | Mean Square Error| Mean Absolute Error  | Mean Absolute Percentage Error | Precio (Predicted)|\n",
        "|:---:|:-----------------------:|:-------:|:----------:|:----------:|:----------:|\n",
        "| 1 | `1st Proposal` | 0.00102  |0.02430|66.51255|12.41738 USD|\n",
        "| 2 | `2nd Proposal` | 0.01039 |0.07369|87.87093|15.35819 USD|\n",
        "| 3 | `3rd Proposal` | 0.00847  |0.07348|187.39850|16.71994 USD|\n",
        "| 3 | `4rd Proposal` |0.00280 |0.04556|165.92183|13.81020 USD|\n",
        "\n"
      ],
      "metadata": {
        "id": "c1kyQUkj00jB"
      }
    },
    {
      "cell_type": "markdown",
      "source": [
        "## VI. Conclusiones:\n",
        "\n",
        "Como se observa, la tabla resumen de métricas obtenidos en los modelos muestra el `MSE`, `MAE`y `MAPE`; al igual que el análisis gráfico (ajuste), efectuado en cada modelo. El primer modelo posee las mejores métricas, si analizamos el tamaño del error (absoluto) en términos porcentuales **MAPE**, podemos observar que el menor porcentaje se presenta en la primera propuesta (1st proposal).\n",
        "\n",
        "Por lo anterior, se puede señalar que _precio de cierre (**Close**) de la acción para el siguiente día usando como base el precio de los 15 días anteriores es de 12.41738 USD_.\n",
        "\n",
        "Esto, se puede comparar con el precio de cierre obtenido desde Yahoo Finance para el día 11-NOV-22:"
      ],
      "metadata": {
        "id": "nSnj-ipJfpGP"
      }
    },
    {
      "cell_type": "code",
      "source": [
        "date_set_1 = dt.date(2022, 11, 12)\n",
        "\n",
        "date_1_day = (dt.date(2022, 11, 12) - dt.timedelta(days=1)).strftime('%Y-%m-%d')\n",
        "df2 = yf.get_data(STOCK, start_date = date_1_day,\n",
        "                 end_date=date_set_1,\n",
        "                 interval = INTERVAL)\n",
        "print(df2)"
      ],
      "metadata": {
        "colab": {
          "base_uri": "https://localhost:8080/"
        },
        "id": "uTFW1rgOK5Vk",
        "outputId": "c6c06076-27f7-4f44-d2d9-f9bc52d46ed6"
      },
      "execution_count": 69,
      "outputs": [
        {
          "output_type": "stream",
          "name": "stdout",
          "text": [
            "             open   high    low  close  adjclose    volume ticker\n",
            "2022-11-11  11.19  12.79  11.14   12.7      12.7  26089500   LYFT\n"
          ]
        }
      ]
    },
    {
      "cell_type": "markdown",
      "source": [
        "Como se observa, el precio de cierre para el día 11 de nov es equivalente a 12.7 USD y nuestro modelo fue capaz de predecir 12.41 USD."
      ],
      "metadata": {
        "id": "Kf6qDQwpMM6i"
      }
    }
  ],
  "metadata": {
    "colab": {
      "provenance": []
    },
    "kernelspec": {
      "display_name": "Python 3",
      "language": "python",
      "name": "python3"
    },
    "language_info": {
      "codemirror_mode": {
        "name": "ipython",
        "version": 3
      },
      "file_extension": ".py",
      "mimetype": "text/x-python",
      "name": "python",
      "nbconvert_exporter": "python",
      "pygments_lexer": "ipython3",
      "version": "3.8.10"
    }
  },
  "nbformat": 4,
  "nbformat_minor": 0
}