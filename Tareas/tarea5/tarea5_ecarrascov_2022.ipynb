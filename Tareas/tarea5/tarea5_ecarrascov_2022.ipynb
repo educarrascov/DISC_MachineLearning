{
 "cells": [
  {
   "cell_type": "markdown",
   "metadata": {
    "id": "LSAMxmW0KKtr"
   },
   "source": [
    "# Tarea 5\n",
    "\n",
    "__Alumno:__ Eduardo Carrasco\n",
    "\n",
    "__Curso:__ Aprendizaje Automático 2022 \n",
    "\n",
    "__Programa:__ DISC\n",
    "\n",
    "__Profesor:__ Gonzalo A. Ruz\n",
    "\n",
    "__Ayudante:__ Carlos Sepúlveda\n",
    "\n",
    "**Tema**: Keras (Convolutional Neural Networks CNN) - aplicado a Flowers Recognition"
   ]
  },
  {
   "cell_type": "markdown",
   "metadata": {
    "id": "DFSLKEUvvgH_"
   },
   "source": [
    "## Instrucciones\n",
    "* La actividad es por grupo de capstone project\n",
    "* Por favor responder en este mismo notebook\n",
    "* Renombrar el archivo agregando su nombre, por ejemplo tarea5_Lepe_Contreras.ipynb\n",
    "* Subir el archivo al link de entrega Trabajo en webcursos que será habilitado\n",
    "* __Fecha de entrega:__ viernes 04 de noviembre, 23:55 hrs."
   ]
  },
  {
   "cell_type": "code",
   "execution_count": 1,
   "metadata": {},
   "outputs": [],
   "source": [
    "#pip install tensorflow"
   ]
  },
  {
   "cell_type": "code",
   "execution_count": null,
   "metadata": {
    "id": "DQ89Ye6iJ9c4"
   },
   "outputs": [],
   "source": [
    "## Librerias generales\n",
    "import os\n",
    "import matplotlib.pyplot as plt\n",
    "%matplotlib inline\n",
    "\n",
    "from time import time\n",
    "from glob import glob\n",
    "from numpy import zeros, array, argmax, vstack\n",
    "from sklearn.metrics import confusion_matrix, classification_report\n",
    "\n",
    "## Keras tensorflow\n",
    "from tensorflow.keras.models import Sequential\n",
    "from tensorflow.keras import layers\n",
    "from tensorflow.keras.preprocessing.image import ImageDataGenerator, load_img, img_to_array\n",
    "from tensorflow.keras.optimizers import Adam"
   ]
  },
  {
   "cell_type": "markdown",
   "metadata": {
    "id": "sPg3MpSFKhpY"
   },
   "source": [
    "### Customized function"
   ]
  },
  {
   "cell_type": "code",
   "execution_count": null,
   "metadata": {
    "id": "C4x9GoujKebX"
   },
   "outputs": [],
   "source": [
    "def plot_history(history, width=12, height=6):\n",
    "  \"\"\"\n",
    "  DESCRIPTION:\n",
    "    History performance of the keras model\n",
    "  \n",
    "  INPUT:\n",
    "    @param history: history of performance of fitted model\n",
    "    @type history: tensorflow.python.keras.callbacks.History\n",
    "\n",
    "  OUTPUT:\n",
    "    A graphic\n",
    "  \"\"\"\n",
    "\n",
    "  ## Metrics keys stored in tensorflow object\n",
    "  keys = list(history.history.keys())\n",
    "\n",
    "  ## Number of epoch used for fit the model\n",
    "  epoch = range(1, len(history.epoch) +1)\n",
    "\n",
    "  ## Check if validation set was used.\n",
    "  withValidation = False\n",
    "  for key in keys:\n",
    "    if 'val' in key:\n",
    "      withValidation = True\n",
    "\n",
    "  ## Number of metrics \n",
    "  nMetrics = len(keys)\n",
    "  if withValidation:\n",
    "    nMetrics = nMetrics//2\n",
    "\n",
    "  ## Plot-space instance\n",
    "  plt.figure(figsize=(width, height))\n",
    "\n",
    "  for i in range(nMetrics):\n",
    "    plt.subplot(nMetrics, 1, i+1)\n",
    "\n",
    "    ## Plot (train) metric value\n",
    "    labelMetric = keys[i]\n",
    "    metric = history.history[keys[i]]\n",
    "    plt.plot(epoch, metric, 'o-', label=labelMetric)\n",
    "\n",
    "    if withValidation:\n",
    "      ## Plot (validation) metric value\n",
    "      labelMetricVal = keys[i+nMetrics]\n",
    "      metricVal = history.history[keys[i+nMetrics]]\n",
    "      plt.plot(epoch, metricVal, 'o-', label=labelMetricVal)\n",
    "\n",
    "    plt.xlim(epoch[0], epoch[-1])\n",
    "    plt.legend()\n",
    "    plt.grid()\n",
    "\n",
    "  plt.xlabel('Epoch')\n",
    "  plt.show()"
   ]
  },
  {
   "cell_type": "markdown",
   "metadata": {
    "id": "2oQ24Z4VKroW"
   },
   "source": [
    "**Data source:**\n",
    "\n",
    "[Flowers classification](https://www.kaggle.com/alxmamaev/flowers-recognition) (Classification)"
   ]
  },
  {
   "cell_type": "code",
   "execution_count": null,
   "metadata": {
    "id": "Qwn8yt25faFL",
    "scrolled": true
   },
   "outputs": [],
   "source": [
    "if not os.path.exists(\"dataFlowers.zip\"):\n",
    "    ## Download files\n",
    "\n",
    "    !wget https://github.com/adoc-box/Datasets/raw/main/flowers.zip\n",
    "    !wget https://github.com/adoc-box/Datasets/raw/main/flowers.z01\n",
    "\n",
    "    ## join files \n",
    "    !zip -F flowers.zip --out dataFlowers.zip\n",
    "\n",
    "    ## remove some files\n",
    "    !rm flowers.z01 flowers.zip\n",
    "\n",
    "    ## un-compress joined zip file\n",
    "    !unzip dataFlowers.zip\n",
    "    \n",
    "else:\n",
    "    if os.path.exists('data'):\n",
    "        !rm -r data\n",
    "        !unzip dataFlowers.zip"
   ]
  },
  {
   "cell_type": "markdown",
   "metadata": {
    "id": "2irwaYgaf0J_"
   },
   "source": [
    "### Image loader generator"
   ]
  },
  {
   "cell_type": "code",
   "execution_count": null,
   "metadata": {
    "id": "DEF6jFTsftGi"
   },
   "outputs": [],
   "source": [
    "## Images PATHs\n",
    "train_dir = 'data/train/'\n",
    "validation_dir = 'data/validation/'\n",
    "test_dir = 'data/test/'\n",
    "\n",
    "## Image generator instances\n",
    "train_datagen = ImageDataGenerator(rescale=1./255)\n",
    "val_datagen = ImageDataGenerator(rescale=1./255)\n",
    "test_datagen = ImageDataGenerator(rescale=1./255)\n",
    "\n",
    "## Image conversion size\n",
    "imgSize = 150\n",
    "\n",
    "## Generator setting (Train)\n",
    "train_generator = train_datagen.flow_from_directory(\n",
    "        # This is the target directory\n",
    "        train_dir,\n",
    "        # All images will be resized to (imgSize x imgSize)\n",
    "        target_size=(imgSize, imgSize), ## 224\n",
    "        batch_size=20,\n",
    "        # Since we use categorical_crossentropy loss, we need categorical labels\n",
    "        class_mode='categorical')\n",
    "\n",
    "## Generator setting (Validation)\n",
    "validation_generator = val_datagen.flow_from_directory(\n",
    "        validation_dir,\n",
    "        target_size=(imgSize, imgSize),\n",
    "        batch_size=20,\n",
    "        shuffle=False,\n",
    "        class_mode='categorical')\n",
    "\n",
    "## Generator setting (test)\n",
    "test_generator = test_datagen.flow_from_directory(\n",
    "        test_dir,\n",
    "        target_size=(imgSize, imgSize),\n",
    "        batch_size=20,\n",
    "        shuffle=False,\n",
    "        class_mode='categorical')"
   ]
  },
  {
   "cell_type": "markdown",
   "metadata": {
    "id": "cxyEHMkmvgIS"
   },
   "source": [
    "# __Actividad__\n",
    "\n",
    "En base a lo aprendido en clase, genere un modelo de clasificación mediante redes neuronales convolucionales, para predecir el tipo de flor. Utilice el conjunto de entrenamiento y validación de la mejor forma tal de poder definir los hiperparámetros de una red neuronal convolucional (número de capas conv, número de filtros en las capas, tamaño de kernel, funciones de activación, pooling, número de épocas). Una vez que haya definido la mejor configuración de la red neuronal convolucional, evalúe el desempeño de esa red en el conjunto de prueba, en particular entregue el accuracy, precision, recall, y F1-score."
   ]
  },
  {
   "cell_type": "markdown",
   "metadata": {
    "id": "dxe6k2njJw9l"
   },
   "source": [
    "__Ayuda__: Rutina para extraer las etiquetas del generador de test. "
   ]
  },
  {
   "cell_type": "markdown",
   "metadata": {
    "id": "CQcGQlCrJw9m"
   },
   "source": [
    "```python\n",
    "## Reiniciar el generador al prier indice de la imagen\n",
    "test_generator.reset()\n",
    "\n",
    "## Extraer las etiquetas (codificadas en One-Hot) del conjunto de test.\n",
    "i, y_true = 0, []\n",
    "for _, y in test_generator:\n",
    "    y_true.append(y)\n",
    "    i+=1\n",
    "    if i == 19:\n",
    "      break\n",
    "y_true = vstack(y_true)\n",
    "\n",
    "## Decodificar las etiquetas\n",
    "y_true = argmax(y_true, axis=1)\n",
    "```"
   ]
  },
  {
   "cell_type": "markdown",
   "metadata": {
    "id": "16RvlnJSiDaa"
   },
   "source": [
    "### Respuesta:"
   ]
  },
  {
   "cell_type": "code",
   "execution_count": null,
   "metadata": {
    "id": "MSePSLiIJw9m"
   },
   "outputs": [],
   "source": []
  },
  {
   "cell_type": "code",
   "execution_count": null,
   "metadata": {
    "id": "5TXPW2w2Jw9n"
   },
   "outputs": [],
   "source": []
  }
 ],
 "metadata": {
  "accelerator": "GPU",
  "colab": {
   "collapsed_sections": [],
   "provenance": []
  },
  "kernelspec": {
   "display_name": "Python 3 (ipykernel)",
   "language": "python",
   "name": "python3"
  },
  "language_info": {
   "codemirror_mode": {
    "name": "ipython",
    "version": 3
   },
   "file_extension": ".py",
   "mimetype": "text/x-python",
   "name": "python",
   "nbconvert_exporter": "python",
   "pygments_lexer": "ipython3",
   "version": "3.9.13"
  }
 },
 "nbformat": 4,
 "nbformat_minor": 4
}
